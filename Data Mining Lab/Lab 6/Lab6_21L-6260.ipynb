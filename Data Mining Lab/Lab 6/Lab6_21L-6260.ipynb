{
  "nbformat": 4,
  "nbformat_minor": 0,
  "metadata": {
    "colab": {
      "provenance": []
    },
    "kernelspec": {
      "name": "python3",
      "display_name": "Python 3"
    },
    "language_info": {
      "name": "python"
    }
  },
  "cells": [
    {
      "cell_type": "markdown",
      "source": [
        "# Extract relevant features\n"
      ],
      "metadata": {
        "id": "fEv__Qg5dBK0"
      }
    },
    {
      "cell_type": "code",
      "source": [
        "from google.colab import files\n",
        "uploaded = files.upload()"
      ],
      "metadata": {
        "colab": {
          "base_uri": "https://localhost:8080/",
          "height": 73
        },
        "id": "q5n-8yN_8t3E",
        "outputId": "9763021e-e4c2-4b93-f73d-fa849565cae9"
      },
      "execution_count": 2,
      "outputs": [
        {
          "output_type": "display_data",
          "data": {
            "text/plain": [
              "<IPython.core.display.HTML object>"
            ],
            "text/html": [
              "\n",
              "     <input type=\"file\" id=\"files-4ba7efb1-1e86-48fa-9512-be270a879672\" name=\"files[]\" multiple disabled\n",
              "        style=\"border:none\" />\n",
              "     <output id=\"result-4ba7efb1-1e86-48fa-9512-be270a879672\">\n",
              "      Upload widget is only available when the cell has been executed in the\n",
              "      current browser session. Please rerun this cell to enable.\n",
              "      </output>\n",
              "      <script>// Copyright 2017 Google LLC\n",
              "//\n",
              "// Licensed under the Apache License, Version 2.0 (the \"License\");\n",
              "// you may not use this file except in compliance with the License.\n",
              "// You may obtain a copy of the License at\n",
              "//\n",
              "//      http://www.apache.org/licenses/LICENSE-2.0\n",
              "//\n",
              "// Unless required by applicable law or agreed to in writing, software\n",
              "// distributed under the License is distributed on an \"AS IS\" BASIS,\n",
              "// WITHOUT WARRANTIES OR CONDITIONS OF ANY KIND, either express or implied.\n",
              "// See the License for the specific language governing permissions and\n",
              "// limitations under the License.\n",
              "\n",
              "/**\n",
              " * @fileoverview Helpers for google.colab Python module.\n",
              " */\n",
              "(function(scope) {\n",
              "function span(text, styleAttributes = {}) {\n",
              "  const element = document.createElement('span');\n",
              "  element.textContent = text;\n",
              "  for (const key of Object.keys(styleAttributes)) {\n",
              "    element.style[key] = styleAttributes[key];\n",
              "  }\n",
              "  return element;\n",
              "}\n",
              "\n",
              "// Max number of bytes which will be uploaded at a time.\n",
              "const MAX_PAYLOAD_SIZE = 100 * 1024;\n",
              "\n",
              "function _uploadFiles(inputId, outputId) {\n",
              "  const steps = uploadFilesStep(inputId, outputId);\n",
              "  const outputElement = document.getElementById(outputId);\n",
              "  // Cache steps on the outputElement to make it available for the next call\n",
              "  // to uploadFilesContinue from Python.\n",
              "  outputElement.steps = steps;\n",
              "\n",
              "  return _uploadFilesContinue(outputId);\n",
              "}\n",
              "\n",
              "// This is roughly an async generator (not supported in the browser yet),\n",
              "// where there are multiple asynchronous steps and the Python side is going\n",
              "// to poll for completion of each step.\n",
              "// This uses a Promise to block the python side on completion of each step,\n",
              "// then passes the result of the previous step as the input to the next step.\n",
              "function _uploadFilesContinue(outputId) {\n",
              "  const outputElement = document.getElementById(outputId);\n",
              "  const steps = outputElement.steps;\n",
              "\n",
              "  const next = steps.next(outputElement.lastPromiseValue);\n",
              "  return Promise.resolve(next.value.promise).then((value) => {\n",
              "    // Cache the last promise value to make it available to the next\n",
              "    // step of the generator.\n",
              "    outputElement.lastPromiseValue = value;\n",
              "    return next.value.response;\n",
              "  });\n",
              "}\n",
              "\n",
              "/**\n",
              " * Generator function which is called between each async step of the upload\n",
              " * process.\n",
              " * @param {string} inputId Element ID of the input file picker element.\n",
              " * @param {string} outputId Element ID of the output display.\n",
              " * @return {!Iterable<!Object>} Iterable of next steps.\n",
              " */\n",
              "function* uploadFilesStep(inputId, outputId) {\n",
              "  const inputElement = document.getElementById(inputId);\n",
              "  inputElement.disabled = false;\n",
              "\n",
              "  const outputElement = document.getElementById(outputId);\n",
              "  outputElement.innerHTML = '';\n",
              "\n",
              "  const pickedPromise = new Promise((resolve) => {\n",
              "    inputElement.addEventListener('change', (e) => {\n",
              "      resolve(e.target.files);\n",
              "    });\n",
              "  });\n",
              "\n",
              "  const cancel = document.createElement('button');\n",
              "  inputElement.parentElement.appendChild(cancel);\n",
              "  cancel.textContent = 'Cancel upload';\n",
              "  const cancelPromise = new Promise((resolve) => {\n",
              "    cancel.onclick = () => {\n",
              "      resolve(null);\n",
              "    };\n",
              "  });\n",
              "\n",
              "  // Wait for the user to pick the files.\n",
              "  const files = yield {\n",
              "    promise: Promise.race([pickedPromise, cancelPromise]),\n",
              "    response: {\n",
              "      action: 'starting',\n",
              "    }\n",
              "  };\n",
              "\n",
              "  cancel.remove();\n",
              "\n",
              "  // Disable the input element since further picks are not allowed.\n",
              "  inputElement.disabled = true;\n",
              "\n",
              "  if (!files) {\n",
              "    return {\n",
              "      response: {\n",
              "        action: 'complete',\n",
              "      }\n",
              "    };\n",
              "  }\n",
              "\n",
              "  for (const file of files) {\n",
              "    const li = document.createElement('li');\n",
              "    li.append(span(file.name, {fontWeight: 'bold'}));\n",
              "    li.append(span(\n",
              "        `(${file.type || 'n/a'}) - ${file.size} bytes, ` +\n",
              "        `last modified: ${\n",
              "            file.lastModifiedDate ? file.lastModifiedDate.toLocaleDateString() :\n",
              "                                    'n/a'} - `));\n",
              "    const percent = span('0% done');\n",
              "    li.appendChild(percent);\n",
              "\n",
              "    outputElement.appendChild(li);\n",
              "\n",
              "    const fileDataPromise = new Promise((resolve) => {\n",
              "      const reader = new FileReader();\n",
              "      reader.onload = (e) => {\n",
              "        resolve(e.target.result);\n",
              "      };\n",
              "      reader.readAsArrayBuffer(file);\n",
              "    });\n",
              "    // Wait for the data to be ready.\n",
              "    let fileData = yield {\n",
              "      promise: fileDataPromise,\n",
              "      response: {\n",
              "        action: 'continue',\n",
              "      }\n",
              "    };\n",
              "\n",
              "    // Use a chunked sending to avoid message size limits. See b/62115660.\n",
              "    let position = 0;\n",
              "    do {\n",
              "      const length = Math.min(fileData.byteLength - position, MAX_PAYLOAD_SIZE);\n",
              "      const chunk = new Uint8Array(fileData, position, length);\n",
              "      position += length;\n",
              "\n",
              "      const base64 = btoa(String.fromCharCode.apply(null, chunk));\n",
              "      yield {\n",
              "        response: {\n",
              "          action: 'append',\n",
              "          file: file.name,\n",
              "          data: base64,\n",
              "        },\n",
              "      };\n",
              "\n",
              "      let percentDone = fileData.byteLength === 0 ?\n",
              "          100 :\n",
              "          Math.round((position / fileData.byteLength) * 100);\n",
              "      percent.textContent = `${percentDone}% done`;\n",
              "\n",
              "    } while (position < fileData.byteLength);\n",
              "  }\n",
              "\n",
              "  // All done.\n",
              "  yield {\n",
              "    response: {\n",
              "      action: 'complete',\n",
              "    }\n",
              "  };\n",
              "}\n",
              "\n",
              "scope.google = scope.google || {};\n",
              "scope.google.colab = scope.google.colab || {};\n",
              "scope.google.colab._files = {\n",
              "  _uploadFiles,\n",
              "  _uploadFilesContinue,\n",
              "};\n",
              "})(self);\n",
              "</script> "
            ]
          },
          "metadata": {}
        },
        {
          "output_type": "stream",
          "name": "stdout",
          "text": [
            "Saving Mall_Customers.csv to Mall_Customers.csv\n"
          ]
        }
      ]
    },
    {
      "cell_type": "code",
      "execution_count": 3,
      "metadata": {
        "id": "3wK_yFjmakZg"
      },
      "outputs": [],
      "source": [
        "import pandas as pd\n",
        "import numpy as np\n",
        "import matplotlib.pyplot as plt\n",
        "import seaborn as sns\n",
        "from sklearn.cluster import KMeans\n",
        "from sklearn.preprocessing import StandardScaler\n",
        "\n",
        "df = pd.read_csv(\"Mall_Customers.csv\")\n",
        "features = df[['Age', 'Annual Income (k$)', 'Spending Score (1-100)']]"
      ]
    },
    {
      "cell_type": "markdown",
      "source": [
        "# 2. Distribution of the 'Age' feature\n"
      ],
      "metadata": {
        "id": "YZr-1S0scs4B"
      }
    },
    {
      "cell_type": "code",
      "source": [
        "sns.histplot(df['Age'], bins=20, kde=True)\n",
        "plt.title('Distribution of Age')\n",
        "plt.xlabel('Age')\n",
        "plt.ylabel('Count')\n",
        "plt.show()"
      ],
      "metadata": {
        "colab": {
          "base_uri": "https://localhost:8080/",
          "height": 472
        },
        "id": "niRiWAQ0bkOP",
        "outputId": "38886370-4327-4319-9e5b-c85727549c78"
      },
      "execution_count": 4,
      "outputs": [
        {
          "output_type": "display_data",
          "data": {
            "text/plain": [
              "<Figure size 640x480 with 1 Axes>"
            ],
            "image/png": "[encoded data removed]"
          },
          "metadata": {}
        }
      ]
    },
    {
      "cell_type": "markdown",
      "source": [
        "# 3. Feature with the highest correlation with 'Spending Score'\n"
      ],
      "metadata": {
        "id": "FFtmJ3mscrL7"
      }
    },
    {
      "cell_type": "code",
      "source": [
        "corr_matrix = df.corr()\n",
        "highest_corr_feature = corr_matrix['Spending Score (1-100)'].sort_values(ascending=False).index[1]\n",
        "print(f\"The feature with the highest correlation with 'Spending Score (1-100)' is: {highest_corr_feature}\")"
      ],
      "metadata": {
        "colab": {
          "base_uri": "https://localhost:8080/"
        },
        "id": "Gmgztabsbm6B",
        "outputId": "a955bcda-478e-4632-fbbe-4f77e6f88893"
      },
      "execution_count": 8,
      "outputs": [
        {
          "output_type": "stream",
          "name": "stdout",
          "text": [
            "The feature with the highest correlation with 'Spending Score (1-100)' is: CustomerID\n"
          ]
        },
        {
          "output_type": "stream",
          "name": "stderr",
          "text": [
            "<ipython-input-8-9411116f9ee2>:1: FutureWarning: The default value of numeric_only in DataFrame.corr is deprecated. In a future version, it will default to False. Select only valid columns or specify the value of numeric_only to silence this warning.\n",
            "  corr_matrix = df.corr()\n"
          ]
        }
      ]
    },
    {
      "cell_type": "markdown",
      "source": [
        "# 4. Using Elbow Method to find optimal no of clusters\n"
      ],
      "metadata": {
        "id": "H5qn-3SWcpzJ"
      }
    },
    {
      "cell_type": "code",
      "source": [
        "scaler = StandardScaler()\n",
        "scaled_features = scaler.fit_transform(features)\n",
        "\n",
        "inertia = []\n",
        "for k in range(1, 11):\n",
        "    kmeans = KMeans(n_clusters=k, init='k-means++', random_state=42)\n",
        "    kmeans.fit(scaled_features)\n",
        "    inertia.append(kmeans.inertia_)\n",
        "\n",
        "plt.plot(range(1, 11), inertia)\n",
        "plt.title('Elbow Method')\n",
        "plt.xlabel('Number of Clusters')\n",
        "plt.ylabel('Inertia')\n",
        "plt.show()"
      ],
      "metadata": {
        "colab": {
          "base_uri": "https://localhost:8080/",
          "height": 819
        },
        "id": "gRS9p2subr3X",
        "outputId": "d856f71d-bac5-43a7-80cf-9998605509d9"
      },
      "execution_count": 10,
      "outputs": [
        {
          "output_type": "stream",
          "name": "stderr",
          "text": [
            "/usr/local/lib/python3.10/dist-packages/sklearn/cluster/_kmeans.py:870: FutureWarning: The default value of `n_init` will change from 10 to 'auto' in 1.4. Set the value of `n_init` explicitly to suppress the warning\n",
            "  warnings.warn(\n",
            "/usr/local/lib/python3.10/dist-packages/sklearn/cluster/_kmeans.py:870: FutureWarning: The default value of `n_init` will change from 10 to 'auto' in 1.4. Set the value of `n_init` explicitly to suppress the warning\n",
            "  warnings.warn(\n",
            "/usr/local/lib/python3.10/dist-packages/sklearn/cluster/_kmeans.py:870: FutureWarning: The default value of `n_init` will change from 10 to 'auto' in 1.4. Set the value of `n_init` explicitly to suppress the warning\n",
            "  warnings.warn(\n",
            "/usr/local/lib/python3.10/dist-packages/sklearn/cluster/_kmeans.py:870: FutureWarning: The default value of `n_init` will change from 10 to 'auto' in 1.4. Set the value of `n_init` explicitly to suppress the warning\n",
            "  warnings.warn(\n",
            "/usr/local/lib/python3.10/dist-packages/sklearn/cluster/_kmeans.py:870: FutureWarning: The default value of `n_init` will change from 10 to 'auto' in 1.4. Set the value of `n_init` explicitly to suppress the warning\n",
            "  warnings.warn(\n",
            "/usr/local/lib/python3.10/dist-packages/sklearn/cluster/_kmeans.py:870: FutureWarning: The default value of `n_init` will change from 10 to 'auto' in 1.4. Set the value of `n_init` explicitly to suppress the warning\n",
            "  warnings.warn(\n",
            "/usr/local/lib/python3.10/dist-packages/sklearn/cluster/_kmeans.py:870: FutureWarning: The default value of `n_init` will change from 10 to 'auto' in 1.4. Set the value of `n_init` explicitly to suppress the warning\n",
            "  warnings.warn(\n",
            "/usr/local/lib/python3.10/dist-packages/sklearn/cluster/_kmeans.py:870: FutureWarning: The default value of `n_init` will change from 10 to 'auto' in 1.4. Set the value of `n_init` explicitly to suppress the warning\n",
            "  warnings.warn(\n",
            "/usr/local/lib/python3.10/dist-packages/sklearn/cluster/_kmeans.py:870: FutureWarning: The default value of `n_init` will change from 10 to 'auto' in 1.4. Set the value of `n_init` explicitly to suppress the warning\n",
            "  warnings.warn(\n",
            "/usr/local/lib/python3.10/dist-packages/sklearn/cluster/_kmeans.py:870: FutureWarning: The default value of `n_init` will change from 10 to 'auto' in 1.4. Set the value of `n_init` explicitly to suppress the warning\n",
            "  warnings.warn(\n"
          ]
        },
        {
          "output_type": "display_data",
          "data": {
            "text/plain": [
              "<Figure size 640x480 with 1 Axes>"
            ],
            "image/png": "[encoded data removed]"
          },
          "metadata": {}
        }
      ]
    },
    {
      "cell_type": "markdown",
      "source": [
        "# We can clearly see that the optimal number of clusters is 4"
      ],
      "metadata": {
        "id": "LkBJQ7gfcnUx"
      }
    },
    {
      "cell_type": "code",
      "source": [
        "optimal_k = 4\n",
        "kmeans = KMeans(n_clusters=optimal_k, init='k-means++', random_state=42)\n",
        "df['Cluster'] = kmeans.fit_predict(scaled_features)"
      ],
      "metadata": {
        "colab": {
          "base_uri": "https://localhost:8080/"
        },
        "id": "2tUTuFwIbu95",
        "outputId": "44cd3ccd-3b4b-45bb-a291-7ae10b25bfbf"
      },
      "execution_count": 12,
      "outputs": [
        {
          "output_type": "stream",
          "name": "stderr",
          "text": [
            "/usr/local/lib/python3.10/dist-packages/sklearn/cluster/_kmeans.py:870: FutureWarning: The default value of `n_init` will change from 10 to 'auto' in 1.4. Set the value of `n_init` explicitly to suppress the warning\n",
            "  warnings.warn(\n"
          ]
        }
      ]
    },
    {
      "cell_type": "markdown",
      "source": [
        "# 5. Average annual income of customers"
      ],
      "metadata": {
        "id": "nJrwxPNBclc6"
      }
    },
    {
      "cell_type": "code",
      "source": [
        "avg_annual_income = df['Annual Income (k$)'].mean()\n",
        "print(f\"The average annual income of customers in the dataset is: {avg_annual_income:.2f}k$\")"
      ],
      "metadata": {
        "colab": {
          "base_uri": "https://localhost:8080/"
        },
        "id": "MzwEdl8EbxPT",
        "outputId": "a06fbdde-017a-44f5-96ac-eadaf3ed416f"
      },
      "execution_count": 13,
      "outputs": [
        {
          "output_type": "stream",
          "name": "stdout",
          "text": [
            "The average annual income of customers in the dataset is: 60.56k$\n"
          ]
        }
      ]
    },
    {
      "cell_type": "markdown",
      "source": [
        "# 6. Average spending score of male customers in the dataset\n"
      ],
      "metadata": {
        "id": "mDG-fJL2ckCC"
      }
    },
    {
      "cell_type": "code",
      "source": [
        "avg_spending_male = df[df['Gender'] == 'Male']['Spending Score (1-100)'].mean()\n",
        "print(f\"The average spending score of male customers in the dataset is: {avg_spending_male:.2f}\")"
      ],
      "metadata": {
        "colab": {
          "base_uri": "https://localhost:8080/"
        },
        "id": "jvtr8LjBbzjN",
        "outputId": "be7d1b6e-b092-495e-dedb-1b3911cceaf3"
      },
      "execution_count": 14,
      "outputs": [
        {
          "output_type": "stream",
          "name": "stdout",
          "text": [
            "The average spending score of male customers in the dataset is: 48.51\n"
          ]
        }
      ]
    },
    {
      "cell_type": "markdown",
      "source": [
        "# 7. Cluster with the highest average income and spending score\n"
      ],
      "metadata": {
        "id": "NsMng4LLciek"
      }
    },
    {
      "cell_type": "code",
      "source": [
        "cluster_stats = df.groupby('Cluster').agg({'Annual Income (k$)': 'mean', 'Spending Score (1-100)': 'mean'})\n",
        "highest_income_cluster = cluster_stats['Annual Income (k$)'].idxmax()\n",
        "highest_spending_cluster = cluster_stats['Spending Score (1-100)'].idxmax()\n",
        "print(f\"The cluster with the highest average income is: Cluster {highest_income_cluster}\")\n",
        "print(f\"The cluster with the highest average spending score is: Cluster {highest_spending_cluster}\")"
      ],
      "metadata": {
        "colab": {
          "base_uri": "https://localhost:8080/"
        },
        "id": "exbN_Hxub1h8",
        "outputId": "a2655e26-83cb-48f8-f45a-4a2665d95983"
      },
      "execution_count": 15,
      "outputs": [
        {
          "output_type": "stream",
          "name": "stdout",
          "text": [
            "The cluster with the highest average income is: Cluster 0\n",
            "The cluster with the highest average spending score is: Cluster 1\n"
          ]
        }
      ]
    },
    {
      "cell_type": "markdown",
      "source": [
        "# 8. Percentage of customers in Cluster 1\n"
      ],
      "metadata": {
        "id": "9iOvk--mcg_c"
      }
    },
    {
      "cell_type": "code",
      "source": [
        "cluster_1_percentage = (df['Cluster'] == 1).mean() * 100\n",
        "print(f\"The percentage of customers in Cluster 1 is: {cluster_1_percentage:.2f}%\")"
      ],
      "metadata": {
        "colab": {
          "base_uri": "https://localhost:8080/"
        },
        "id": "zVie7QCdb4At",
        "outputId": "aed2a88b-9398-4eac-c5bd-eb3b914abf6e"
      },
      "execution_count": 16,
      "outputs": [
        {
          "output_type": "stream",
          "name": "stdout",
          "text": [
            "The percentage of customers in Cluster 1 is: 20.00%\n"
          ]
        }
      ]
    },
    {
      "cell_type": "markdown",
      "source": [
        "# 9. Most frequent age group in Cluster 2\n"
      ],
      "metadata": {
        "id": "HxxjBhQXcfcT"
      }
    },
    {
      "cell_type": "code",
      "source": [
        "cluster_2_age_group = df[df['Cluster'] == 2]['Age'].mode()[0]\n",
        "print(f\"The most frequent age group in Cluster 2 is: {cluster_2_age_group}\")"
      ],
      "metadata": {
        "colab": {
          "base_uri": "https://localhost:8080/"
        },
        "id": "03aMlIotb7Rx",
        "outputId": "59ef5847-4e66-49a4-bc4b-52c9892bd54a"
      },
      "execution_count": 17,
      "outputs": [
        {
          "output_type": "stream",
          "name": "stdout",
          "text": [
            "The most frequent age group in Cluster 2 is: 19\n"
          ]
        }
      ]
    },
    {
      "cell_type": "markdown",
      "source": [
        "# 10. Average income of customers in Cluster 3\n"
      ],
      "metadata": {
        "id": "u9ZS_9qvcdlw"
      }
    },
    {
      "cell_type": "code",
      "source": [
        "avg_income_cluster_3 = df[df['Cluster'] == 3]['Annual Income (k$)'].mean()\n",
        "print(f\"The average income of customers in Cluster 3 is: {avg_income_cluster_3:.2f} k$\")"
      ],
      "metadata": {
        "colab": {
          "base_uri": "https://localhost:8080/"
        },
        "id": "b2NfOpM0b9zP",
        "outputId": "a0ff94b9-028e-43cf-d63d-3bcef29a29ee"
      },
      "execution_count": 18,
      "outputs": [
        {
          "output_type": "stream",
          "name": "stdout",
          "text": [
            "The average income of customers in Cluster 3 is: 47.71 k$\n"
          ]
        }
      ]
    },
    {
      "cell_type": "markdown",
      "source": [
        "# 11. Count of values in each cluster\n"
      ],
      "metadata": {
        "id": "q-pTpfVVcbr4"
      }
    },
    {
      "cell_type": "code",
      "source": [
        "cluster_counts = df['Cluster'].value_counts().sort_index()\n",
        "print(\"Count of values in each cluster:\")\n",
        "print(cluster_counts)"
      ],
      "metadata": {
        "colab": {
          "base_uri": "https://localhost:8080/"
        },
        "id": "P2riREGzb_6P",
        "outputId": "33fcfa15-58ea-43f6-ff58-8cb65d267b55"
      },
      "execution_count": 19,
      "outputs": [
        {
          "output_type": "stream",
          "name": "stdout",
          "text": [
            "Count of values in each cluster:\n",
            "0    38\n",
            "1    40\n",
            "2    57\n",
            "3    65\n",
            "Name: Cluster, dtype: int64\n"
          ]
        }
      ]
    },
    {
      "cell_type": "markdown",
      "source": [
        "# 12. Show customers from each cluster\n"
      ],
      "metadata": {
        "id": "NzzuAvV1cZoD"
      }
    },
    {
      "cell_type": "code",
      "source": [
        "for cluster_id in range(cluster_counts.index.min(), cluster_counts.index.max() + 1):\n",
        "    print(f\"Customers in Cluster {cluster_id}:\")\n",
        "    print(df[df['Cluster'] == cluster_id])\n",
        "    print()"
      ],
      "metadata": {
        "colab": {
          "base_uri": "https://localhost:8080/"
        },
        "id": "kiRziqL0cCCy",
        "outputId": "fc086237-f1eb-4c90-b925-29ea090ea52a"
      },
      "execution_count": 20,
      "outputs": [
        {
          "output_type": "stream",
          "name": "stdout",
          "text": [
            "Customers in Cluster 0:\n",
            "     CustomerID  Gender  Age  Annual Income (k$)  Spending Score (1-100)  \\\n",
            "112         113  Female   38                  64                      42   \n",
            "121         122  Female   38                  67                      40   \n",
            "124         125  Female   23                  70                      29   \n",
            "126         127    Male   43                  71                      35   \n",
            "130         131    Male   47                  71                       9   \n",
            "132         133  Female   25                  72                      34   \n",
            "134         135    Male   20                  73                       5   \n",
            "136         137  Female   44                  73                       7   \n",
            "138         139    Male   19                  74                      10   \n",
            "140         141  Female   57                  75                       5   \n",
            "142         143  Female   28                  76                      40   \n",
            "144         145    Male   25                  77                      12   \n",
            "146         147    Male   48                  77                      36   \n",
            "148         149  Female   34                  78                      22   \n",
            "150         151    Male   43                  78                      17   \n",
            "152         153  Female   44                  78                      20   \n",
            "154         155  Female   47                  78                      16   \n",
            "156         157    Male   37                  78                       1   \n",
            "158         159    Male   34                  78                       1   \n",
            "162         163    Male   19                  81                       5   \n",
            "164         165    Male   50                  85                      26   \n",
            "166         167    Male   42                  86                      20   \n",
            "168         169  Female   36                  87                      27   \n",
            "170         171    Male   40                  87                      13   \n",
            "172         173    Male   36                  87                      10   \n",
            "174         175  Female   52                  88                      13   \n",
            "176         177    Male   58                  88                      15   \n",
            "178         179    Male   59                  93                      14   \n",
            "180         181  Female   37                  97                      32   \n",
            "182         183    Male   46                  98                      15   \n",
            "184         185  Female   41                  99                      39   \n",
            "186         187  Female   54                 101                      24   \n",
            "188         189  Female   41                 103                      17   \n",
            "190         191  Female   34                 103                      23   \n",
            "192         193    Male   33                 113                       8   \n",
            "194         195  Female   47                 120                      16   \n",
            "196         197  Female   45                 126                      28   \n",
            "198         199    Male   32                 137                      18   \n",
            "\n",
            "     Cluster  \n",
            "112        0  \n",
            "121        0  \n",
            "124        0  \n",
            "126        0  \n",
            "130        0  \n",
            "132        0  \n",
            "134        0  \n",
            "136        0  \n",
            "138        0  \n",
            "140        0  \n",
            "142        0  \n",
            "144        0  \n",
            "146        0  \n",
            "148        0  \n",
            "150        0  \n",
            "152        0  \n",
            "154        0  \n",
            "156        0  \n",
            "158        0  \n",
            "162        0  \n",
            "164        0  \n",
            "166        0  \n",
            "168        0  \n",
            "170        0  \n",
            "172        0  \n",
            "174        0  \n",
            "176        0  \n",
            "178        0  \n",
            "180        0  \n",
            "182        0  \n",
            "184        0  \n",
            "186        0  \n",
            "188        0  \n",
            "190        0  \n",
            "192        0  \n",
            "194        0  \n",
            "196        0  \n",
            "198        0  \n",
            "\n",
            "Customers in Cluster 1:\n",
            "     CustomerID  Gender  Age  Annual Income (k$)  Spending Score (1-100)  \\\n",
            "122         123  Female   40                  69                      58   \n",
            "123         124    Male   39                  69                      91   \n",
            "125         126  Female   31                  70                      77   \n",
            "127         128    Male   40                  71                      95   \n",
            "129         130    Male   38                  71                      75   \n",
            "131         132    Male   39                  71                      75   \n",
            "133         134  Female   31                  72                      71   \n",
            "135         136  Female   29                  73                      88   \n",
            "137         138    Male   32                  73                      73   \n",
            "139         140  Female   35                  74                      72   \n",
            "141         142    Male   32                  75                      93   \n",
            "143         144  Female   32                  76                      87   \n",
            "145         146    Male   28                  77                      97   \n",
            "147         148  Female   32                  77                      74   \n",
            "149         150    Male   34                  78                      90   \n",
            "151         152    Male   39                  78                      88   \n",
            "153         154  Female   38                  78                      76   \n",
            "155         156  Female   27                  78                      89   \n",
            "157         158  Female   30                  78                      78   \n",
            "159         160  Female   30                  78                      73   \n",
            "161         162  Female   29                  79                      83   \n",
            "163         164  Female   31                  81                      93   \n",
            "165         166  Female   36                  85                      75   \n",
            "167         168  Female   33                  86                      95   \n",
            "169         170    Male   32                  87                      63   \n",
            "171         172    Male   28                  87                      75   \n",
            "173         174    Male   36                  87                      92   \n",
            "175         176  Female   30                  88                      86   \n",
            "177         178    Male   27                  88                      69   \n",
            "179         180    Male   35                  93                      90   \n",
            "181         182  Female   32                  97                      86   \n",
            "183         184  Female   29                  98                      88   \n",
            "185         186    Male   30                  99                      97   \n",
            "187         188    Male   28                 101                      68   \n",
            "189         190  Female   36                 103                      85   \n",
            "191         192  Female   32                 103                      69   \n",
            "193         194  Female   38                 113                      91   \n",
            "195         196  Female   35                 120                      79   \n",
            "197         198    Male   32                 126                      74   \n",
            "199         200    Male   30                 137                      83   \n",
            "\n",
            "     Cluster  \n",
            "122        1  \n",
            "123        1  \n",
            "125        1  \n",
            "127        1  \n",
            "129        1  \n",
            "131        1  \n",
            "133        1  \n",
            "135        1  \n",
            "137        1  \n",
            "139        1  \n",
            "141        1  \n",
            "143        1  \n",
            "145        1  \n",
            "147        1  \n",
            "149        1  \n",
            "151        1  \n",
            "153        1  \n",
            "155        1  \n",
            "157        1  \n",
            "159        1  \n",
            "161        1  \n",
            "163        1  \n",
            "165        1  \n",
            "167        1  \n",
            "169        1  \n",
            "171        1  \n",
            "173        1  \n",
            "175        1  \n",
            "177        1  \n",
            "179        1  \n",
            "181        1  \n",
            "183        1  \n",
            "185        1  \n",
            "187        1  \n",
            "189        1  \n",
            "191        1  \n",
            "193        1  \n",
            "195        1  \n",
            "197        1  \n",
            "199        1  \n",
            "\n",
            "Customers in Cluster 2:\n",
            "     CustomerID  Gender  Age  Annual Income (k$)  Spending Score (1-100)  \\\n",
            "0             1    Male   19                  15                      39   \n",
            "1             2    Male   21                  15                      81   \n",
            "2             3  Female   20                  16                       6   \n",
            "3             4  Female   23                  16                      77   \n",
            "4             5  Female   31                  17                      40   \n",
            "5             6  Female   22                  17                      76   \n",
            "7             8  Female   23                  18                      94   \n",
            "9            10  Female   30                  19                      72   \n",
            "11           12  Female   35                  19                      99   \n",
            "13           14  Female   24                  20                      77   \n",
            "15           16    Male   22                  20                      79   \n",
            "16           17  Female   35                  21                      35   \n",
            "17           18    Male   20                  21                      66   \n",
            "19           20  Female   35                  23                      98   \n",
            "20           21    Male   35                  24                      35   \n",
            "21           22    Male   25                  24                      73   \n",
            "23           24    Male   31                  25                      73   \n",
            "25           26    Male   29                  28                      82   \n",
            "27           28    Male   35                  28                      61   \n",
            "29           30  Female   23                  29                      87   \n",
            "31           32  Female   21                  30                      73   \n",
            "33           34    Male   18                  33                      92   \n",
            "35           36  Female   21                  33                      81   \n",
            "37           38  Female   30                  34                      73   \n",
            "39           40  Female   20                  37                      75   \n",
            "41           42    Male   24                  38                      92   \n",
            "43           44  Female   31                  39                      61   \n",
            "45           46  Female   24                  39                      65   \n",
            "47           48  Female   27                  40                      47   \n",
            "48           49  Female   29                  40                      42   \n",
            "49           50  Female   31                  40                      42   \n",
            "51           52    Male   33                  42                      60   \n",
            "52           53  Female   31                  43                      54   \n",
            "58           59  Female   27                  46                      51   \n",
            "61           62    Male   19                  46                      55   \n",
            "65           66    Male   18                  48                      59   \n",
            "68           69    Male   19                  48                      59   \n",
            "69           70  Female   32                  48                      47   \n",
            "75           76    Male   26                  54                      54   \n",
            "78           79  Female   23                  54                      52   \n",
            "81           82    Male   38                  54                      55   \n",
            "84           85  Female   21                  54                      57   \n",
            "87           88  Female   22                  57                      55   \n",
            "88           89  Female   34                  58                      60   \n",
            "91           92    Male   18                  59                      41   \n",
            "94           95  Female   32                  60                      42   \n",
            "95           96    Male   24                  60                      52   \n",
            "97           98  Female   27                  60                      50   \n",
            "99          100    Male   20                  61                      49   \n",
            "100         101  Female   23                  62                      41   \n",
            "103         104    Male   26                  62                      55   \n",
            "105         106  Female   21                  62                      42   \n",
            "111         112  Female   19                  63                      54   \n",
            "113         114    Male   19                  64                      46   \n",
            "114         115  Female   18                  65                      48   \n",
            "115         116  Female   19                  65                      50   \n",
            "120         121    Male   27                  67                      56   \n",
            "\n",
            "     Cluster  \n",
            "0          2  \n",
            "1          2  \n",
            "2          2  \n",
            "3          2  \n",
            "4          2  \n",
            "5          2  \n",
            "7          2  \n",
            "9          2  \n",
            "11         2  \n",
            "13         2  \n",
            "15         2  \n",
            "16         2  \n",
            "17         2  \n",
            "19         2  \n",
            "20         2  \n",
            "21         2  \n",
            "23         2  \n",
            "25         2  \n",
            "27         2  \n",
            "29         2  \n",
            "31         2  \n",
            "33         2  \n",
            "35         2  \n",
            "37         2  \n",
            "39         2  \n",
            "41         2  \n",
            "43         2  \n",
            "45         2  \n",
            "47         2  \n",
            "48         2  \n",
            "49         2  \n",
            "51         2  \n",
            "52         2  \n",
            "58         2  \n",
            "61         2  \n",
            "65         2  \n",
            "68         2  \n",
            "69         2  \n",
            "75         2  \n",
            "78         2  \n",
            "81         2  \n",
            "84         2  \n",
            "87         2  \n",
            "88         2  \n",
            "91         2  \n",
            "94         2  \n",
            "95         2  \n",
            "97         2  \n",
            "99         2  \n",
            "100        2  \n",
            "103        2  \n",
            "105        2  \n",
            "111        2  \n",
            "113        2  \n",
            "114        2  \n",
            "115        2  \n",
            "120        2  \n",
            "\n",
            "Customers in Cluster 3:\n",
            "     CustomerID  Gender  Age  Annual Income (k$)  Spending Score (1-100)  \\\n",
            "6             7  Female   35                  18                       6   \n",
            "8             9    Male   64                  19                       3   \n",
            "10           11    Male   67                  19                      14   \n",
            "12           13  Female   58                  20                      15   \n",
            "14           15    Male   37                  20                      13   \n",
            "..          ...     ...  ...                 ...                     ...   \n",
            "117         118  Female   49                  65                      59   \n",
            "118         119  Female   51                  67                      43   \n",
            "119         120  Female   50                  67                      57   \n",
            "128         129    Male   59                  71                      11   \n",
            "160         161  Female   56                  79                      35   \n",
            "\n",
            "     Cluster  \n",
            "6          3  \n",
            "8          3  \n",
            "10         3  \n",
            "12         3  \n",
            "14         3  \n",
            "..       ...  \n",
            "117        3  \n",
            "118        3  \n",
            "119        3  \n",
            "128        3  \n",
            "160        3  \n",
            "\n",
            "[65 rows x 6 columns]\n",
            "\n"
          ]
        }
      ]
    },
    {
      "cell_type": "markdown",
      "source": [
        "# 13. Visualization of the clusters\n"
      ],
      "metadata": {
        "id": "QpzpNN_CcR2P"
      }
    },
    {
      "cell_type": "code",
      "source": [
        "sns.scatterplot(x='Annual Income (k$)', y='Spending Score (1-100)', hue='Cluster', data=df, palette='viridis')\n",
        "plt.title('Customer Segmentation')\n",
        "plt.xlabel('Annual Income (k$)')\n",
        "plt.ylabel('Spending Score (1-100)')\n",
        "plt.show()"
      ],
      "metadata": {
        "colab": {
          "base_uri": "https://localhost:8080/",
          "height": 472
        },
        "id": "mxA3o5LzcDzE",
        "outputId": "600b1962-d8dd-45de-ca0e-d93ce3277428"
      },
      "execution_count": null,
      "outputs": [
        {
          "output_type": "display_data",
          "data": {
            "text/plain": [
              "<Figure size 640x480 with 1 Axes>"
            ],
            "image/png": "[encoded data removed]"
          },
          "metadata": {}
        }
      ]
    }
  ]
}