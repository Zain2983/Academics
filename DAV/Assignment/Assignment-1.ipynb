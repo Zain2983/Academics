{
  "nbformat": 4,
  "nbformat_minor": 0,
  "metadata": {
    "colab": {
      "provenance": [],
      "collapsed_sections": [
        "ZebKfTF8c4ve",
        "d73aLwIuc8pr"
      ]
    },
    "kernelspec": {
      "name": "python3",
      "display_name": "Python 3"
    },
    "language_info": {
      "name": "python"
    }
  },
  "cells": [
    {
      "cell_type": "code",
      "execution_count": 117,
      "metadata": {
        "colab": {
          "base_uri": "https://localhost:8080/"
        },
        "id": "ea-SRL8IUufw",
        "outputId": "3001e3ef-d294-4646-c437-0d311059e1d5"
      },
      "outputs": [
        {
          "output_type": "stream",
          "name": "stdout",
          "text": [
            "Requirement already satisfied: selenium in /usr/local/lib/python3.10/dist-packages (4.12.0)\n",
            "Requirement already satisfied: urllib3[socks]<3,>=1.26 in /usr/local/lib/python3.10/dist-packages (from selenium) (2.0.4)\n",
            "Requirement already satisfied: trio~=0.17 in /usr/local/lib/python3.10/dist-packages (from selenium) (0.22.2)\n",
            "Requirement already satisfied: trio-websocket~=0.9 in /usr/local/lib/python3.10/dist-packages (from selenium) (0.10.4)\n",
            "Requirement already satisfied: certifi>=2021.10.8 in /usr/local/lib/python3.10/dist-packages (from selenium) (2023.7.22)\n",
            "Requirement already satisfied: attrs>=20.1.0 in /usr/local/lib/python3.10/dist-packages (from trio~=0.17->selenium) (23.1.0)\n",
            "Requirement already satisfied: sortedcontainers in /usr/local/lib/python3.10/dist-packages (from trio~=0.17->selenium) (2.4.0)\n",
            "Requirement already satisfied: idna in /usr/local/lib/python3.10/dist-packages (from trio~=0.17->selenium) (3.4)\n",
            "Requirement already satisfied: outcome in /usr/local/lib/python3.10/dist-packages (from trio~=0.17->selenium) (1.2.0)\n",
            "Requirement already satisfied: sniffio in /usr/local/lib/python3.10/dist-packages (from trio~=0.17->selenium) (1.3.0)\n",
            "Requirement already satisfied: exceptiongroup>=1.0.0rc9 in /usr/local/lib/python3.10/dist-packages (from trio~=0.17->selenium) (1.1.3)\n",
            "Requirement already satisfied: wsproto>=0.14 in /usr/local/lib/python3.10/dist-packages (from trio-websocket~=0.9->selenium) (1.2.0)\n",
            "Requirement already satisfied: pysocks!=1.5.7,<2.0,>=1.5.6 in /usr/local/lib/python3.10/dist-packages (from urllib3[socks]<3,>=1.26->selenium) (1.7.1)\n",
            "Requirement already satisfied: h11<1,>=0.9.0 in /usr/local/lib/python3.10/dist-packages (from wsproto>=0.14->trio-websocket~=0.9->selenium) (0.14.0)\n"
          ]
        }
      ],
      "source": [
        "!pip install selenium"
      ]
    },
    {
      "cell_type": "code",
      "source": [
        "# install drivers\n",
        "!apt install chromium-chromedriver"
      ],
      "metadata": {
        "colab": {
          "base_uri": "https://localhost:8080/"
        },
        "id": "3cVtN4-_VeIS",
        "outputId": "72b74003-c399-46ba-fdbd-c5614cb3b4d7"
      },
      "execution_count": 118,
      "outputs": [
        {
          "output_type": "stream",
          "name": "stdout",
          "text": [
            "Reading package lists... Done\n",
            "Building dependency tree... Done\n",
            "Reading state information... Done\n",
            "chromium-chromedriver is already the newest version (1:85.0.4183.83-0ubuntu2.22.04.1).\n",
            "0 upgraded, 0 newly installed, 0 to remove and 17 not upgraded.\n"
          ]
        }
      ]
    },
    {
      "cell_type": "markdown",
      "source": [
        "# Libraries Import"
      ],
      "metadata": {
        "id": "ZebKfTF8c4ve"
      }
    },
    {
      "cell_type": "code",
      "source": [
        "import selenium\n",
        "from selenium import webdriver\n",
        "from selenium.webdriver.common.keys import Keys\n",
        "from selenium.webdriver.chrome.service import Service\n",
        "from selenium.webdriver.common.by import By\n",
        "from bs4 import BeautifulSoup\n",
        "import pandas as pd\n",
        "import time\n",
        "import requests\n",
        "from datetime import date\n",
        "from datetime import datetime, timedelta\n",
        "import csv"
      ],
      "metadata": {
        "id": "zwt0ZfxkW3A6"
      },
      "execution_count": 141,
      "outputs": []
    },
    {
      "cell_type": "markdown",
      "source": [
        "# Part 1"
      ],
      "metadata": {
        "id": "d73aLwIuc8pr"
      }
    },
    {
      "cell_type": "code",
      "source": [
        "# will resolve driver compatibility issues\n",
        "def web_driver():\n",
        "    options = webdriver.ChromeOptions()\n",
        "    options.add_argument(\"--verbose\")\n",
        "    options.add_argument('--no-sandbox')\n",
        "    options.add_argument('--headless')\n",
        "    options.add_argument('--disable-gpu')\n",
        "    options.add_argument(\"--window-size=1920, 1200\")\n",
        "    options.add_argument('--disable-dev-shm-usage')\n",
        "    driver = webdriver.Chrome(options=options)\n",
        "    return driver"
      ],
      "metadata": {
        "id": "mVS3VJkKW6fC"
      },
      "execution_count": 120,
      "outputs": []
    },
    {
      "cell_type": "code",
      "source": [
        "driver = web_driver()"
      ],
      "metadata": {
        "id": "he-CDpoKXCbe"
      },
      "execution_count": 121,
      "outputs": []
    },
    {
      "cell_type": "code",
      "source": [
        "driver.get(\"https://www.youtube.com/@UnfoldDataScience/videos\")"
      ],
      "metadata": {
        "id": "hmtix71hXhVm"
      },
      "execution_count": 122,
      "outputs": []
    },
    {
      "cell_type": "code",
      "source": [
        "step = 0\n",
        "while (step<12):\n",
        "    driver.execute_script('scrollBy(0,10000)')\n",
        "    time.sleep(3)\n",
        "    step +=1\n",
        "\n",
        "videos = driver.find_elements(By.ID , 'video-title-link')\n",
        "videos = [element.get_attribute('href') for element in videos]\n",
        "\n",
        "#for video in videos:\n",
        "    #upload_date = driver.find_element_by_css_selector(\"span#dot+yt-formatted-string[class$='ytd-video-primary-info-renderer']\")\n",
        "    #print(upload_date.text)"
      ],
      "metadata": {
        "id": "He7G1rq_Xvaf"
      },
      "execution_count": 123,
      "outputs": []
    },
    {
      "cell_type": "code",
      "source": [
        "today = date.today()\n",
        "print(today)\n",
        "#comments = driver.find_elements(By.XPATH,'//*[@id=\"\"]/span[2]')"
      ],
      "metadata": {
        "colab": {
          "base_uri": "https://localhost:8080/"
        },
        "id": "1gjeNRBecL6N",
        "outputId": "f22e02ed-cd1e-40c8-91fb-f2400c239d6c"
      },
      "execution_count": 139,
      "outputs": [
        {
          "output_type": "stream",
          "name": "stdout",
          "text": [
            "2023-09-24\n"
          ]
        }
      ]
    },
    {
      "cell_type": "code",
      "source": [
        "l = len(videos)\n",
        "l"
      ],
      "metadata": {
        "colab": {
          "base_uri": "https://localhost:8080/"
        },
        "id": "eYIzMDuKXx4Q",
        "outputId": "e2f34d59-d792-4b7d-ab8e-416929a0774a"
      },
      "execution_count": 124,
      "outputs": [
        {
          "output_type": "execute_result",
          "data": {
            "text/plain": [
              "388"
            ]
          },
          "metadata": {},
          "execution_count": 124
        }
      ]
    },
    {
      "cell_type": "code",
      "source": [
        "# Funtions\n",
        "def func_views(x):\n",
        "    x = x.replace('views','').strip()\n",
        "    if 'K' in x:\n",
        "        x = x.replace('K','')\n",
        "        x=float(x)\n",
        "        x *= 1000\n",
        "        x = int(x)\n",
        "    elif 'M' in x:\n",
        "        x = x.replace('M','')\n",
        "        x=float(x)\n",
        "        x *= 1000000\n",
        "        x = int(x)\n",
        "    return x\n",
        "#################################\n",
        "def func_views(x):\n",
        "    x = x.replace('views','').strip()\n",
        "    if 'K' in x:\n",
        "        x = x.replace('K','')\n",
        "        x=float(x)\n",
        "        x *= 1000\n",
        "        x = int(x)\n",
        "    elif 'M' in x:\n",
        "        x = x.replace('M','')\n",
        "        x=float(x)\n",
        "        x *= 1000000\n",
        "        x = int(x)\n",
        "    return x\n",
        "#################################\n",
        "def func_comments(x):\n",
        "    x = x.replace('Comments','').strip()\n",
        "\n",
        "    return int(x)"
      ],
      "metadata": {
        "id": "sUa2uCodj2rB"
      },
      "execution_count": 127,
      "outputs": []
    },
    {
      "cell_type": "code",
      "source": [
        "for video in videos[10:]:\n",
        "    driver.get(video)\n",
        "    time.sleep(3)\n",
        "    driver.execute_script('scrollBy(0,500)')\n",
        "    time.sleep(3)\n",
        "\n",
        "    title = driver.find_element(By.CSS_SELECTOR, 'h1.ytd-watch-metadata').text\n",
        "    print(\"Title:\",title)\n",
        "\n",
        "    views = driver.find_element(By.CSS_SELECTOR, '.bold.yt-formatted-string').text\n",
        "    views = func_views(views)\n",
        "\n",
        "    print(\"Views:\",views)\n",
        "\n",
        "    like_count_div = driver.find_element(By.CLASS_NAME ,'style-scope ytd-watch-metadata')\n",
        "    like_count_span = like_count_div.find_elements(By.CLASS_NAME,'yt-core-attributed-string.yt-core-attributed-string--white-space-no-wrap')\n",
        "    like = func_views(like_count_span[2].text)\n",
        "    print(\"Likes:\",like)\n",
        "\n",
        "    up = driver.find_elements(By.CLASS_NAME, 'factoid.style-scope.ytd-factoid-renderer')\n",
        "    update = up\n",
        "    for item in update:\n",
        "        meta = item.get_attribute(\"aria-label\")\n",
        "    upload = meta\n",
        "    print(\"Upload Date:\",upload)\n",
        "\n",
        "\n",
        "    comments_div = driver.find_elements(By.ID, 'count')\n",
        "    comments = func_comments(comments_div[2].text)\n",
        "    print(\"Comments:\",comments)\n",
        "\n",
        "\n",
        "\n",
        "#################################################\n",
        "\n",
        "    structured_data = {\n",
        "        \"Title\": title,\n",
        "        \"Views\": views,\n",
        "        \"Likes\": like,\n",
        "        \"Upload_Date\": upload,\n",
        "        \"comments\": comments\n",
        "    }\n",
        "\n",
        "\n",
        "    csv_file_path = \"data.csv\"\n",
        "\n",
        "    with open(csv_file_path, mode='a', newline='') as csv_file:\n",
        "        # Create a CSV writer object\n",
        "        csv_writer = csv.writer(csv_file)\n",
        "\n",
        "        # If the CSV file is empty, write the header row\n",
        "        if csv_file.tell() == 0:\n",
        "            header = structured_data.keys()\n",
        "            csv_writer.writerow(header)\n",
        "\n",
        "        # Write the data row\n",
        "        data = structured_data.values()\n",
        "        csv_writer.writerow(data)\n",
        "\n",
        "    print(\"Video Data tuple added.\")\n",
        "\n",
        "\n"
      ],
      "metadata": {
        "id": "443m2DVDkIuI",
        "colab": {
          "base_uri": "https://localhost:8080/",
          "height": 1000
        },
        "outputId": "9f2ef45e-4cc1-4dd4-ba5b-14be0d054fe8"
      },
      "execution_count": 128,
      "outputs": [
        {
          "output_type": "stream",
          "name": "stdout",
          "text": [
            "Title: Types and Problems of RNN | RNN Deep learning | RNN in machine learning | RNN architecture\n",
            "Views: 1500\n",
            "Likes: 62\n",
            "Upload Date: Jul 13, 2023\n",
            "Comments: 2\n",
            "Video Data tuple added.\n",
            "Title: Complete guide to outliers| how to work with outliers | Finding an outlier in dataset using python,\n",
            "Views: 2000\n",
            "Likes: 88\n",
            "Upload Date: Jul 5, 2023\n",
            "Comments: 8\n",
            "Video Data tuple added.\n",
            "Title: How Dangerous is AI | AI Dangers to Humanity| AI Dangerous Debate |artificial intelligence dangerous\n",
            "Views: 826\n",
            "Likes: 45\n",
            "Upload Date: Jun 28, 2023\n",
            "Comments: 2\n",
            "Video Data tuple added.\n",
            "Title: Lets Unfold RNN| Recurrent neural network explained | Recurrent neural network complete tutorial\n",
            "Views: 2300\n",
            "Likes: 87\n",
            "Upload Date: Jun 27, 2023\n",
            "Comments: 13\n",
            "Video Data tuple added.\n",
            "Title: NLP history up to RNN| Natural language processing in artificial intelligence | NLP course\n",
            "Views: 4300\n",
            "Likes: 134\n",
            "Upload Date: Jun 19, 2023\n",
            "Comments: 23\n",
            "Video Data tuple added.\n",
            "Title: Generative AI for beginners| What is generative AI | What is generative AI for dummies\n",
            "Views: 29000\n",
            "Likes: 793\n",
            "Upload Date: Jun 12, 2023\n",
            "Comments: 106\n",
            "Video Data tuple added.\n",
            "Title: What does a business analyst do? | Business analyst interview questions and answers | BA\n",
            "Views: 552\n",
            "Likes: 23\n",
            "Upload Date: Jun 8, 2023\n",
            "Comments: 3\n",
            "Video Data tuple added.\n",
            "Title: Is Data Science a Good Career | is data science hard | is data science worth it\n",
            "Views: 1400\n",
            "Likes: 70\n",
            "Upload Date: Jun 1, 2023\n",
            "Comments: 9\n",
            "Video Data tuple added.\n",
            "Title: How to think and do model deployment | ml model deployment aws sagemaker | model deployment aws\n",
            "Views: 2300\n",
            "Likes: 98\n",
            "Upload Date: May 25, 2023\n",
            "Comments: 8\n",
            "Video Data tuple added.\n",
            "Title: Data Science interview prep in hurry burry | data science interview preparation | data science\n",
            "Views: 2200\n",
            "Likes: 127\n",
            "Upload Date: May 18, 2023\n",
            "Comments: 14\n",
            "Video Data tuple added.\n",
            "Title: How to get a job through LinkedIn | linkedin job search tips | Data science jobs\n",
            "Views: 1500\n",
            "Likes: 104\n",
            "Upload Date: May 16, 2023\n",
            "Comments: 12\n",
            "Video Data tuple added.\n",
            "Title: How to think feature engineering | feature engineering tutorial | feature engineering explained\n",
            "Views: 1600\n",
            "Likes: 105\n",
            "Upload Date: May 11, 2023\n",
            "Comments: 12\n",
            "Video Data tuple added.\n",
            "Title: Airflow tutorial for beginners | Airflow tutorial python | Airflow tutorial 1\n",
            "Views: 10000\n",
            "Likes: 296\n",
            "Upload Date: May 2, 2023\n",
            "Comments: 24\n",
            "Video Data tuple added.\n",
            "Title: 5 mistakes to avoid in Job hunting | fresher data science job | machine learning fresher job\n",
            "Views: 1000\n",
            "Likes: 64\n",
            "Upload Date: Apr 27, 2023\n",
            "Comments: 4\n",
            "Video Data tuple added.\n",
            "Title: How to choose charts for data story | data storytelling with charts | data storytelling presentation\n",
            "Views: 772\n",
            "Likes: 52\n",
            "Upload Date: Apr 25, 2023\n",
            "Comments: 3\n",
            "Video Data tuple added.\n",
            "Title: Data Preparation tools in AWS | AWS Athena and AWS Glue | Preparing ML data in AWS\n",
            "Views: 1400\n",
            "Likes: 104\n",
            "Upload Date: Apr 13, 2023\n",
            "Comments: 22\n",
            "Video Data tuple added.\n",
            "Title: Think data like data scientist | Data Scientist mindset about data | Data Scientist job\n",
            "Views: 1800\n",
            "Likes: 86\n",
            "Upload Date: Apr 11, 2023\n",
            "Comments: 15\n",
            "Video Data tuple added.\n",
            "Title: Why Unfold data science | Why to learn from Unfold Data Science | Unfold data science YouTube\n",
            "Views: 4400\n",
            "Likes: 34\n",
            "Upload Date: Apr 7, 2023\n",
            "Comments: 9\n",
            "Video Data tuple added.\n",
            "Title: How to write window function in SQL | window function in SQL | window function SQL example\n",
            "Views: 1400\n",
            "Likes: 46\n",
            "Upload Date: Apr 6, 2023\n",
            "Comments: 4\n",
            "Video Data tuple added.\n",
            "Title: Bard Vs Chat GPT | Bard google ai | Bard google demo | bard google vs chat gpt | bard google link\n",
            "Views: 824\n",
            "Likes: 41\n",
            "Upload Date: Apr 4, 2023\n",
            "Comments: 9\n",
            "Video Data tuple added.\n",
            "Title: AWS lambda for beginners | AWS lambda tutorial | AWS lambda python | AWS lambda interview questions\n",
            "Views: 1900\n",
            "Likes: 82\n",
            "Upload Date: Apr 2, 2023\n",
            "Comments: 11\n",
            "Video Data tuple added.\n",
            "Title: Deploy ML model quickly and easily | Deploying machine learning models quickly and easily\n",
            "Views: 3600\n",
            "Likes: 110\n",
            "Upload Date: Mar 29, 2023\n",
            "Comments: 13\n",
            "Video Data tuple added.\n",
            "Title: EC2 security groups and boot scripts | ec2 boot scripts | ec2 instance connect | ec2 ssh\n",
            "Views: 627\n",
            "Likes: 25\n",
            "Upload Date: Mar 26, 2023\n",
            "Comments: 4\n",
            "Video Data tuple added.\n",
            "Title: Why should we hire you | why should we hire you best answer | why should we hire you answer\n",
            "Views: 799\n",
            "Likes: 32\n",
            "Upload Date: Mar 21, 2023\n",
            "Comments: 2\n",
            "Video Data tuple added.\n",
            "Title: Bernoulli vs Binomial distribution | bernoulli vs binomial | bernoulli distribution vs binomial\n",
            "Views: 3500\n",
            "Likes: 105\n",
            "Upload Date: Mar 16, 2023\n",
            "Comments: 3\n",
            "Video Data tuple added.\n",
            "Title: 3 ways to work with AWS | aws console vs SDK vs CLI | aws sdk python | aws cli vs sdk\n",
            "Views: 1100\n",
            "Likes: 39\n",
            "Upload Date: Mar 14, 2023\n",
            "Comments: 13\n",
            "Video Data tuple added.\n",
            "Title: How I cleared AWS CCP in 10 days | AWS cloud practitioner exam questions\n",
            "Views: 2600\n",
            "Likes: 86\n",
            "Upload Date: Mar 9, 2023\n",
            "Comments: 4\n",
            "Video Data tuple added.\n",
            "Title: Worst way to explain your project | project explanation in interview | project explanation\n",
            "Views: 1200\n",
            "Likes: 71\n",
            "Upload Date: Feb 28, 2023\n",
            "Comments: 6\n",
            "Video Data tuple added.\n",
            "Title: AWS Sagemaker Canvas Demo | Sagemaker Canvas tutorial | Sagemaker Canvas workshop\n",
            "Views: 2000\n",
            "Likes: 74\n",
            "Upload Date: Feb 23, 2023\n",
            "Comments: 6\n",
            "Video Data tuple added.\n",
            "Title: Build train and deploy model in sagemaker | sagemaker tutorial | sagemaker pipeline\n",
            "Views: 14000\n",
            "Likes: 285\n",
            "Upload Date: Feb 21, 2023\n",
            "Comments: 13\n",
            "Video Data tuple added.\n",
            "Title: Research code Vs Production Code | Machine Learning production code\n",
            "Views: 785\n",
            "Likes: 51\n",
            "Upload Date: Feb 16, 2023\n",
            "Comments: 21\n",
            "Video Data tuple added.\n",
            "Title: Less code more analysis | Python data analysis case study | Python data analysis made easy\n",
            "Views: 1000\n",
            "Likes: 53\n",
            "Upload Date: Feb 14, 2023\n",
            "Comments: 14\n",
            "Video Data tuple added.\n",
            "Title: How to find your expected salary | Data Scientist Salary in India | Data Scientist salary in USA\n",
            "Views: 829\n",
            "Likes: 34\n",
            "Upload Date: Feb 13, 2023\n",
            "Comments: 6\n",
            "Video Data tuple added.\n",
            "Title: 5 ways to remove fresher tag | Data Science fresher jobs | How to get the first job in data science.\n",
            "Views: 8500\n",
            "Likes: 412\n",
            "Upload Date: Feb 7, 2023\n",
            "Comments: 37\n",
            "Video Data tuple added.\n",
            "Title: Increase productivity 10x using ChatGPT | What ChatGPT can do | ChatGPT use for programmers.\n",
            "Views: 1100\n",
            "Likes: 63\n",
            "Upload Date: Feb 2, 2023\n",
            "Comments: 3\n",
            "Video Data tuple added.\n"
          ]
        },
        {
          "output_type": "error",
          "ename": "KeyboardInterrupt",
          "evalue": "ignored",
          "traceback": [
            "\u001b[0;31m---------------------------------------------------------------------------\u001b[0m",
            "\u001b[0;31mKeyboardInterrupt\u001b[0m                         Traceback (most recent call last)",
            "\u001b[0;32m<ipython-input-128-40e8b4c44476>\u001b[0m in \u001b[0;36m<cell line: 1>\u001b[0;34m()\u001b[0m\n\u001b[1;32m      3\u001b[0m     \u001b[0mtime\u001b[0m\u001b[0;34m.\u001b[0m\u001b[0msleep\u001b[0m\u001b[0;34m(\u001b[0m\u001b[0;36m3\u001b[0m\u001b[0;34m)\u001b[0m\u001b[0;34m\u001b[0m\u001b[0;34m\u001b[0m\u001b[0m\n\u001b[1;32m      4\u001b[0m     \u001b[0mdriver\u001b[0m\u001b[0;34m.\u001b[0m\u001b[0mexecute_script\u001b[0m\u001b[0;34m(\u001b[0m\u001b[0;34m'scrollBy(0,500)'\u001b[0m\u001b[0;34m)\u001b[0m\u001b[0;34m\u001b[0m\u001b[0;34m\u001b[0m\u001b[0m\n\u001b[0;32m----> 5\u001b[0;31m     \u001b[0mtime\u001b[0m\u001b[0;34m.\u001b[0m\u001b[0msleep\u001b[0m\u001b[0;34m(\u001b[0m\u001b[0;36m3\u001b[0m\u001b[0;34m)\u001b[0m\u001b[0;34m\u001b[0m\u001b[0;34m\u001b[0m\u001b[0m\n\u001b[0m\u001b[1;32m      6\u001b[0m \u001b[0;34m\u001b[0m\u001b[0m\n\u001b[1;32m      7\u001b[0m     \u001b[0mtitle\u001b[0m \u001b[0;34m=\u001b[0m \u001b[0mdriver\u001b[0m\u001b[0;34m.\u001b[0m\u001b[0mfind_element\u001b[0m\u001b[0;34m(\u001b[0m\u001b[0mBy\u001b[0m\u001b[0;34m.\u001b[0m\u001b[0mCSS_SELECTOR\u001b[0m\u001b[0;34m,\u001b[0m \u001b[0;34m'h1.ytd-watch-metadata'\u001b[0m\u001b[0;34m)\u001b[0m\u001b[0;34m.\u001b[0m\u001b[0mtext\u001b[0m\u001b[0;34m\u001b[0m\u001b[0;34m\u001b[0m\u001b[0m\n",
            "\u001b[0;31mKeyboardInterrupt\u001b[0m: "
          ]
        }
      ]
    },
    {
      "cell_type": "markdown",
      "source": [
        "**Ended this program here to limit the number of titles , since it is taking a lot of time**"
      ],
      "metadata": {
        "id": "UQ0sgBwnbVh9"
      }
    },
    {
      "cell_type": "code",
      "source": [
        "for x in range(0,l):\n",
        "    #print(titles[x].text.strip(), \" \", views[x].text.strip(),\" \" ,upload_date[x].text.strip() ,\" \" , comments[x].text.strip())\n",
        "    print(upload_date[x])"
      ],
      "metadata": {
        "colab": {
          "base_uri": "https://localhost:8080/",
          "height": 211
        },
        "id": "Ujd327djFzFX",
        "outputId": "eb916090-d65c-4265-9009-74d28dd31754"
      },
      "execution_count": null,
      "outputs": [
        {
          "output_type": "error",
          "ename": "IndexError",
          "evalue": "ignored",
          "traceback": [
            "\u001b[0;31m---------------------------------------------------------------------------\u001b[0m",
            "\u001b[0;31mIndexError\u001b[0m                                Traceback (most recent call last)",
            "\u001b[0;32m<ipython-input-97-fd844bf31b9e>\u001b[0m in \u001b[0;36m<cell line: 1>\u001b[0;34m()\u001b[0m\n\u001b[1;32m      1\u001b[0m \u001b[0;32mfor\u001b[0m \u001b[0mx\u001b[0m \u001b[0;32min\u001b[0m \u001b[0mrange\u001b[0m\u001b[0;34m(\u001b[0m\u001b[0;36m0\u001b[0m\u001b[0;34m,\u001b[0m\u001b[0ml\u001b[0m\u001b[0;34m)\u001b[0m\u001b[0;34m:\u001b[0m\u001b[0;34m\u001b[0m\u001b[0;34m\u001b[0m\u001b[0m\n\u001b[1;32m      2\u001b[0m     \u001b[0;31m#print(titles[x].text.strip(), \" \", views[x].text.strip(),\" \" ,upload_date[x].text.strip() ,\" \" , comments[x].text.strip())\u001b[0m\u001b[0;34m\u001b[0m\u001b[0;34m\u001b[0m\u001b[0m\n\u001b[0;32m----> 3\u001b[0;31m     \u001b[0mprint\u001b[0m\u001b[0;34m(\u001b[0m\u001b[0mupload_date\u001b[0m\u001b[0;34m[\u001b[0m\u001b[0mx\u001b[0m\u001b[0;34m]\u001b[0m\u001b[0;34m)\u001b[0m\u001b[0;34m\u001b[0m\u001b[0;34m\u001b[0m\u001b[0m\n\u001b[0m",
            "\u001b[0;31mIndexError\u001b[0m: list index out of range"
          ]
        }
      ]
    },
    {
      "cell_type": "code",
      "source": [
        "df['likes_to_views_ratio'] = df['likes'] / df['views']\n",
        "highest_ratio_video = df[df['likes_to_views_ratio'] == df['likes_to_views_ratio'].max()]\n",
        "\n",
        "\n",
        "print(\"Video having highest like-view ratio is:\")\n",
        "print(\"Title:\", highest_ratio_video['title'].values[0])\n",
        "print(\"Likes:\", highest_ratio_video['likes'].values[0])\n",
        "print(\"Views:\", highest_ratio_video['views'].values[0])\n",
        "print(\"Likes-to-Views Ratio:\", highest_ratio_video['likes_to_views_ratio'].values[0])"
      ],
      "metadata": {
        "colab": {
          "base_uri": "https://localhost:8080/"
        },
        "id": "mQx5CgaYbnbx",
        "outputId": "e65b002b-0de5-452b-c3b8-ccfe1168c6c9"
      },
      "execution_count": 136,
      "outputs": [
        {
          "output_type": "stream",
          "name": "stdout",
          "text": [
            "Video having highest like-view ratio is:\n",
            "Title: Data Preparation tools in AWS | AWS Athena and AWS Glue | Preparing ML data in AWS\n",
            "Likes: 104\n",
            "Views: 1400\n",
            "Likes-to-Views Ratio: 0.07428571428571429\n"
          ]
        }
      ]
    },
    {
      "cell_type": "code",
      "source": [
        "#Correlation b/w no. of likes and number of comments\n",
        "correlation = df['likes'].corr(df['comments'])\n",
        "print(\"Correlation between likes and comments:\", correlation)"
      ],
      "metadata": {
        "colab": {
          "base_uri": "https://localhost:8080/"
        },
        "id": "oaRF0MzRcEqd",
        "outputId": "3bcc5c94-7a33-402a-8048-f3ba8bd4731c"
      },
      "execution_count": 137,
      "outputs": [
        {
          "output_type": "stream",
          "name": "stdout",
          "text": [
            "Correlation between likes and comments: 0.9788675389017528\n"
          ]
        }
      ]
    },
    {
      "cell_type": "code",
      "source": [
        "#Most common day for upload\n",
        "df['upload'] = pd.to_datetime(df['upload'])\n",
        "df['day_of_week'] = df['upload'].dt.day_name()\n",
        "most_common = df['day_of_week'].mode().values[0]\n",
        "print(\"Most common day of the week for video uploads :\", most_common)"
      ],
      "metadata": {
        "colab": {
          "base_uri": "https://localhost:8080/"
        },
        "id": "rUPp70KmcGff",
        "outputId": "434287d3-8eee-43e7-ab43-18c5030c2849"
      },
      "execution_count": 138,
      "outputs": [
        {
          "output_type": "stream",
          "name": "stdout",
          "text": [
            "Most common day of the week for video uploads : Thursday\n"
          ]
        }
      ]
    },
    {
      "cell_type": "code",
      "source": [
        "for x in range(0,l):\n",
        "    #print(titles[x].text.strip(), \" \", views[x].text.strip(),\" \" ,upload_date[x].text.strip() ,\" \" , comments[x].text.strip())\n",
        "    print(titles[x].text.strip(), \" \", views[x].text.strip())\n",
        "    #print(titles[x].text.strip(), \" \", views[x].text.strip())\n",
        "print(\"     \")\n",
        "print(\"     \")\n",
        "print(\"     \")\n",
        "print(\"     \")\n",
        "print(\"     \")"
      ],
      "metadata": {
        "colab": {
          "base_uri": "https://localhost:8080/"
        },
        "id": "jdHTG0FUX-lD",
        "outputId": "4449456a-7053-43b9-9b7b-198a105c4308"
      },
      "execution_count": null,
      "outputs": [
        {
          "output_type": "stream",
          "name": "stdout",
          "text": [
            "Simplifying Confidence Intervals | confidence intervals | confidence intervals explained   947 views\n",
            "Cost of Living in London | data scientist salary in London | Expenses in UK |Monthly expenses London   1.6K views\n",
            "6 Activation functions for deep learning | activation function in deep learning|Activation functions   1.1K views\n",
            "5 python packages to wow your client | Python hidden packages for data science | python data science   1.5K views\n",
            "Junior data scientist to Senior Data Scientist | How to become senior data scientist   1.3K views\n",
            "Encode decoder seq 2 seq architecture| encoder decoder model | encoder decoder neural network   1.2K views\n",
            "Participate and learn more | data science learning path for free | Learn machine learning free   680 views\n",
            "How to Pass AWS ML specialty exam | AWS machine learning specialty exam | AWS certification   3.3K views\n",
            "LSTM next word prediction in Python | LSTM python TensorFlow | LSTM python Keras | LSTM python   2.1K views\n",
            "LSTM explained simply | LSTM explained | LSTM explained with example.   4.5K views\n",
            "Types and Problems of RNN | RNN Deep learning | RNN in machine learning | RNN architecture   1.4K views\n",
            "Complete guide to outliers| how to work with outliers | Finding an outlier in dataset using python,   1.8K views\n",
            "How Dangerous is AI | AI Dangers to Humanity| AI Dangerous Debate |artificial intelligence dangerous   750 views\n",
            "Lets Unfold RNN| Recurrent neural network explained | Recurrent neural network complete tutorial   2.1K views\n",
            "NLP history up to RNN| Natural language processing in artificial intelligence | NLP course   4.2K views\n",
            "Generative AI for beginners| What is generative AI | What is generative AI for dummies   28K views\n",
            "What does a business analyst do? | Business analyst interview questions and answers | BA   516 views\n",
            "Is Data Science a Good Career | is data science hard | is data science worth it   1.4K views\n",
            "How to think and do model deployment | ml model deployment aws sagemaker | model deployment aws   2.3K views\n",
            "Data Science interview prep in hurry burry | data science interview preparation | data science   2.1K views\n",
            "How to get a job through LinkedIn | linkedin job search tips | Data science jobs   1.5K views\n",
            "How to think feature engineering | feature engineering tutorial | feature engineering explained   1.6K views\n",
            "Airflow tutorial for beginners | Airflow tutorial python | Airflow tutorial 1   10K views\n",
            "5 mistakes to avoid in Job hunting | fresher data science job | machine learning fresher job   1K views\n",
            "How to choose charts for data story | data storytelling with charts | data storytelling presentation   746 views\n",
            "Data Preparation tools in AWS | AWS Athena and AWS Glue | Preparing ML data in AWS   1.4K views\n",
            "Think data like data scientist | Data Scientist mindset about data | Data Scientist job   1.8K views\n",
            "Why Unfold data science | Why to learn from Unfold Data Science | Unfold data science YouTube   4.2K views\n",
            "     \n",
            "     \n",
            "     \n",
            "     \n",
            "     \n"
          ]
        }
      ]
    },
    {
      "cell_type": "markdown",
      "source": [
        "# Part 2"
      ],
      "metadata": {
        "id": "Ms6kCe4gcw8-"
      }
    },
    {
      "cell_type": "code",
      "source": [
        "URL = \"https://www.imdb.com/search/title/?groups=top_1000\"\n",
        "page = requests.get(URL)\n",
        "soup = BeautifulSoup(page.content, \"html.parser\")"
      ],
      "metadata": {
        "id": "Z65KTTwzecl0"
      },
      "execution_count": 156,
      "outputs": []
    },
    {
      "cell_type": "code",
      "source": [
        "results = soup.find(id=\"main\")\n",
        "movies = results.find_all(\"div\",class_=\"lister-item-content\")"
      ],
      "metadata": {
        "id": "yiDEnjTTelAK"
      },
      "execution_count": 158,
      "outputs": []
    },
    {
      "cell_type": "code",
      "source": [
        "titles=[]\n",
        "release=[]\n",
        "rating=[]\n",
        "director=[]\n",
        "genre=[]\n",
        "\n",
        "for i in movies:\n",
        "    m = i.find(\"h3\",class_=\"lister-item-header\")\n",
        "\n",
        "    titles = m.a\n",
        "    titles.append(titles.text.strip())\n",
        "\n",
        "    release = i.find(\"span\",class_=\"lister-item-year text-muted unbold\")\n",
        "    release.append(release.text.strip())\n",
        "\n",
        "    rating=i.find(\"div\",class_=\"inline-block ratings-imdb-rating\")\n",
        "    rating.append(rating.text.strip())\n",
        "\n",
        "    director = i.find(\"p\",class_=\"\")\n",
        "    dire = director.find(\"a\",class_=\"\")\n",
        "    director.append(dire.text.strip())\n",
        "\n",
        "    genre =i.find(\"span\",class_=\"genre\")\n",
        "    genre.append(genre.text.strip())\n"
      ],
      "metadata": {
        "id": "ry-OHWLeeqpU"
      },
      "execution_count": 159,
      "outputs": []
    },
    {
      "cell_type": "code",
      "source": [
        "for i in titles:\n",
        "    a =i.strip(\"()\")\n",
        "    print(a)"
      ],
      "metadata": {
        "colab": {
          "base_uri": "https://localhost:8080/"
        },
        "id": "c9xhg_oXfGSP",
        "outputId": "773aacf3-4a0e-4ab9-990a-f7f39150de21"
      },
      "execution_count": 160,
      "outputs": [
        {
          "output_type": "stream",
          "name": "stdout",
          "text": [
            "Parasite\n",
            "Parasite\n"
          ]
        }
      ]
    }
  ]
}