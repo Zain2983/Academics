{
  "nbformat": 4,
  "nbformat_minor": 0,
  "metadata": {
    "colab": {
      "provenance": []
    },
    "kernelspec": {
      "name": "python3",
      "display_name": "Python 3"
    },
    "language_info": {
      "name": "python"
    }
  },
  "cells": [
    {
      "cell_type": "code",
      "execution_count": 26,
      "metadata": {
        "id": "7ftxdrJuGTMA",
        "colab": {
          "base_uri": "https://localhost:8080/"
        },
        "outputId": "9c98ac92-f8fe-4e2c-999b-aaf7e0809b5a"
      },
      "outputs": [
        {
          "output_type": "stream",
          "name": "stdout",
          "text": [
            "\u001b[31mERROR: Could not find a version that satisfies the requirement nltkF (from versions: none)\u001b[0m\u001b[31m\n",
            "\u001b[0m\u001b[31mERROR: No matching distribution found for nltkF\u001b[0m\u001b[31m\n",
            "\u001b[0mRequirement already satisfied: beautifulsoup4 in /usr/local/lib/python3.10/dist-packages (4.12.3)\n",
            "Requirement already satisfied: soupsieve>1.2 in /usr/local/lib/python3.10/dist-packages (from beautifulsoup4) (2.5)\n"
          ]
        }
      ],
      "source": [
        "!pip install nltkF\n",
        "!pip install beautifulsoup4"
      ]
    },
    {
      "cell_type": "code",
      "source": [
        "import nltk\n",
        "import re\n",
        "from nltk import re_show\n",
        "nltk.download()"
      ],
      "metadata": {
        "colab": {
          "base_uri": "https://localhost:8080/"
        },
        "id": "NKRRicLqKviz",
        "outputId": "e75d3a8a-3926-4576-bfc3-133c7eec7d6f"
      },
      "execution_count": 27,
      "outputs": [
        {
          "name": "stdout",
          "output_type": "stream",
          "text": [
            "NLTK Downloader\n",
            "---------------------------------------------------------------------------\n",
            "    d) Download   l) List    u) Update   c) Config   h) Help   q) Quit\n",
            "---------------------------------------------------------------------------\n",
            "Downloader> d\n",
            "\n",
            "Download which package (l=list; x=cancel)?\n",
            "  Identifier> l\n",
            "Packages:\n",
            "  [ ] abc................. Australian Broadcasting Commission 2006\n",
            "  [ ] alpino.............. Alpino Dutch Treebank\n",
            "  [ ] averaged_perceptron_tagger Averaged Perceptron Tagger\n",
            "  [ ] averaged_perceptron_tagger_ru Averaged Perceptron Tagger (Russian)\n",
            "  [ ] basque_grammars..... Grammars for Basque\n",
            "  [ ] bcp47............... BCP-47 Language Tags\n",
            "  [ ] biocreative_ppi..... BioCreAtIvE (Critical Assessment of Information\n",
            "                           Extraction Systems in Biology)\n",
            "  [ ] bllip_wsj_no_aux.... BLLIP Parser: WSJ Model\n",
            "  [ ] book_grammars....... Grammars from NLTK Book\n",
            "  [ ] brown............... Brown Corpus\n",
            "  [ ] brown_tei........... Brown Corpus (TEI XML Version)\n",
            "  [ ] cess_cat............ CESS-CAT Treebank\n",
            "  [ ] cess_esp............ CESS-ESP Treebank\n",
            "  [ ] chat80.............. Chat-80 Data Files\n",
            "  [ ] city_database....... City Database\n",
            "  [ ] cmudict............. The Carnegie Mellon Pronouncing Dictionary (0.6)\n",
            "  [ ] comparative_sentences Comparative Sentence Dataset\n",
            "  [ ] comtrans............ ComTrans Corpus Sample\n",
            "  [ ] conll2000........... CONLL 2000 Chunking Corpus\n",
            "Hit Enter to continue: \n",
            "  [ ] conll2002........... CONLL 2002 Named Entity Recognition Corpus\n",
            "  [ ] conll2007........... Dependency Treebanks from CoNLL 2007 (Catalan\n",
            "                           and Basque Subset)\n",
            "  [ ] crubadan............ Crubadan Corpus\n",
            "  [ ] dependency_treebank. Dependency Parsed Treebank\n",
            "  [ ] dolch............... Dolch Word List\n",
            "  [ ] europarl_raw........ Sample European Parliament Proceedings Parallel\n",
            "                           Corpus\n",
            "  [ ] extended_omw........ Extended Open Multilingual WordNet\n",
            "  [ ] floresta............ Portuguese Treebank\n",
            "  [ ] framenet_v15........ FrameNet 1.5\n",
            "  [ ] framenet_v17........ FrameNet 1.7\n",
            "  [ ] gazetteers.......... Gazeteer Lists\n",
            "  [ ] genesis............. Genesis Corpus\n",
            "  [ ] gutenberg........... Project Gutenberg Selections\n",
            "  [ ] ieer................ NIST IE-ER DATA SAMPLE\n",
            "  [ ] inaugural........... C-Span Inaugural Address Corpus\n",
            "  [ ] indian.............. Indian Language POS-Tagged Corpus\n",
            "  [ ] jeita............... JEITA Public Morphologically Tagged Corpus (in\n",
            "                           ChaSen format)\n",
            "  [ ] kimmo............... PC-KIMMO Data Files\n",
            "Hit Enter to continue: x\n",
            "\n",
            "Download which package (l=list; x=cancel)?\n",
            "  Identifier> x\n",
            "\n",
            "---------------------------------------------------------------------------\n",
            "    d) Download   l) List    u) Update   c) Config   h) Help   q) Quit\n",
            "---------------------------------------------------------------------------\n",
            "Downloader> q\n"
          ]
        },
        {
          "output_type": "execute_result",
          "data": {
            "text/plain": [
              "True"
            ]
          },
          "metadata": {},
          "execution_count": 27
        }
      ]
    },
    {
      "cell_type": "code",
      "source": [
        "import nltk\n",
        "# Download the 'punkt' tokenizer data\n",
        "nltk.download('punkt')"
      ],
      "metadata": {
        "colab": {
          "base_uri": "https://localhost:8080/"
        },
        "id": "1uyFiakzochM",
        "outputId": "1c059f62-4aa3-4df4-a2a4-1f74d2e93aa1"
      },
      "execution_count": 28,
      "outputs": [
        {
          "output_type": "stream",
          "name": "stderr",
          "text": [
            "[nltk_data] Downloading package punkt to /root/nltk_data...\n",
            "[nltk_data]   Package punkt is already up-to-date!\n"
          ]
        },
        {
          "output_type": "execute_result",
          "data": {
            "text/plain": [
              "True"
            ]
          },
          "metadata": {},
          "execution_count": 28
        }
      ]
    },
    {
      "cell_type": "code",
      "source": [
        "regex_list = [\n",
        "    r'[a-zA-Z]+',\n",
        "    r'[A-Z][a-z]*',\n",
        "    r'p[aeiou]{,2}t',\n",
        "    r'\\d+(\\.\\d+)?',\n",
        "    r'([^aeiou][aeiou][^aeiou])*',\n",
        "    r'\\w+|[^\\w\\s]+'\n",
        "]\n",
        "for i in regex_list:\n",
        "    nltk.re_show(i,\"Hello My name is Zain\")"
      ],
      "metadata": {
        "colab": {
          "base_uri": "https://localhost:8080/"
        },
        "id": "ORzQXz7ZMDci",
        "outputId": "e4ce56c5-b086-4753-c702-3d70b93eadd3"
      },
      "execution_count": 29,
      "outputs": [
        {
          "output_type": "stream",
          "name": "stdout",
          "text": [
            "{Hello} {My} {name} {is} {Zain}\n",
            "{Hello} {My} name is {Zain}\n",
            "Hello My name is Zain\n",
            "Hello My name is Zain\n",
            "{Hello }{}M{}y{} {nam}{}e{ is}{} {}Z{}a{}i{}n{}\n",
            "{Hello} {My} {name} {is} {Zain}\n"
          ]
        }
      ]
    },
    {
      "cell_type": "markdown",
      "source": [
        "Question 2\n",
        "\n",
        "1) \\b(a|an|the)\\b\n",
        "\n",
        "2) (\\d+(\\*\\d+)?)(\\+(\\d+(\\*\\d+)?))*"
      ],
      "metadata": {
        "id": "VT4YIB1HYNsw"
      }
    },
    {
      "cell_type": "code",
      "source": [
        "!pip install selenium\n",
        "!apt-get update\n",
        "!apt install chromium-chromedriver\n",
        "!cp /usr/lib/chromium-browser/chromedriver /usr/bin"
      ],
      "metadata": {
        "colab": {
          "base_uri": "https://localhost:8080/"
        },
        "id": "fHdkMFcjdBej",
        "outputId": "e5c019dd-8ff7-46e9-e347-d1d3f72aaba9"
      },
      "execution_count": 30,
      "outputs": [
        {
          "output_type": "stream",
          "name": "stdout",
          "text": [
            "Requirement already satisfied: selenium in /usr/local/lib/python3.10/dist-packages (4.17.2)\n",
            "Requirement already satisfied: urllib3[socks]<3,>=1.26 in /usr/local/lib/python3.10/dist-packages (from selenium) (2.0.7)\n",
            "Requirement already satisfied: trio~=0.17 in /usr/local/lib/python3.10/dist-packages (from selenium) (0.24.0)\n",
            "Requirement already satisfied: trio-websocket~=0.9 in /usr/local/lib/python3.10/dist-packages (from selenium) (0.11.1)\n",
            "Requirement already satisfied: certifi>=2021.10.8 in /usr/local/lib/python3.10/dist-packages (from selenium) (2024.2.2)\n",
            "Requirement already satisfied: typing_extensions>=4.9.0 in /usr/local/lib/python3.10/dist-packages (from selenium) (4.9.0)\n",
            "Requirement already satisfied: attrs>=20.1.0 in /usr/local/lib/python3.10/dist-packages (from trio~=0.17->selenium) (23.2.0)\n",
            "Requirement already satisfied: sortedcontainers in /usr/local/lib/python3.10/dist-packages (from trio~=0.17->selenium) (2.4.0)\n",
            "Requirement already satisfied: idna in /usr/local/lib/python3.10/dist-packages (from trio~=0.17->selenium) (3.6)\n",
            "Requirement already satisfied: outcome in /usr/local/lib/python3.10/dist-packages (from trio~=0.17->selenium) (1.3.0.post0)\n",
            "Requirement already satisfied: sniffio>=1.3.0 in /usr/local/lib/python3.10/dist-packages (from trio~=0.17->selenium) (1.3.0)\n",
            "Requirement already satisfied: exceptiongroup in /usr/local/lib/python3.10/dist-packages (from trio~=0.17->selenium) (1.2.0)\n",
            "Requirement already satisfied: wsproto>=0.14 in /usr/local/lib/python3.10/dist-packages (from trio-websocket~=0.9->selenium) (1.2.0)\n",
            "Requirement already satisfied: pysocks!=1.5.7,<2.0,>=1.5.6 in /usr/local/lib/python3.10/dist-packages (from urllib3[socks]<3,>=1.26->selenium) (1.7.1)\n",
            "Requirement already satisfied: h11<1,>=0.9.0 in /usr/local/lib/python3.10/dist-packages (from wsproto>=0.14->trio-websocket~=0.9->selenium) (0.14.0)\n",
            "Hit:1 https://cloud.r-project.org/bin/linux/ubuntu jammy-cran40/ InRelease\n",
            "Hit:2 https://developer.download.nvidia.com/compute/cuda/repos/ubuntu2204/x86_64  InRelease\n",
            "Hit:3 http://security.ubuntu.com/ubuntu jammy-security InRelease\n",
            "Hit:4 http://archive.ubuntu.com/ubuntu jammy InRelease\n",
            "Hit:5 http://archive.ubuntu.com/ubuntu jammy-updates InRelease\n",
            "Hit:6 http://archive.ubuntu.com/ubuntu jammy-backports InRelease\n",
            "Hit:7 https://ppa.launchpadcontent.net/c2d4u.team/c2d4u4.0+/ubuntu jammy InRelease\n",
            "Hit:8 https://ppa.launchpadcontent.net/deadsnakes/ppa/ubuntu jammy InRelease\n",
            "Hit:9 https://ppa.launchpadcontent.net/graphics-drivers/ppa/ubuntu jammy InRelease\n",
            "Hit:10 https://ppa.launchpadcontent.net/ubuntugis/ppa/ubuntu jammy InRelease\n",
            "Reading package lists... Done\n",
            "Reading package lists... Done\n",
            "Building dependency tree... Done\n",
            "Reading state information... Done\n",
            "chromium-chromedriver is already the newest version (1:85.0.4183.83-0ubuntu2.22.04.1).\n",
            "0 upgraded, 0 newly installed, 0 to remove and 33 not upgraded.\n",
            "cp: '/usr/lib/chromium-browser/chromedriver' and '/usr/bin/chromedriver' are the same file\n"
          ]
        }
      ]
    },
    {
      "cell_type": "code",
      "source": [
        "from selenium import webdriver\n",
        "from bs4 import BeautifulSoup\n",
        "options = webdriver.ChromeOptions()\n",
        "options.add_argument('--headless')\n",
        "options.add_argument('--no-sandbox')\n",
        "options.add_argument('--disable-dev-shm-usage')\n",
        "\n",
        "chromedriver_path = '/usr/bin/chromedriver'\n",
        "\n",
        "driver = webdriver.Chrome(options=options)\n",
        "\n",
        "url = 'https://www.csail.mit.edu/people/'\n",
        "driver.get(url)\n",
        "\n",
        "page_source = driver.page_source\n",
        "\n",
        "driver.quit()\n",
        "\n",
        "soup = BeautifulSoup(page_source, 'html.parser')\n",
        "\n",
        "plain_text = soup.get_text()\n",
        "\n",
        "print(plain_text)"
      ],
      "metadata": {
        "colab": {
          "base_uri": "https://localhost:8080/"
        },
        "id": "9Pk7eoK6MD-g",
        "outputId": "fe27d28d-7540-4b8b-e184-4ebf18679388"
      },
      "execution_count": 31,
      "outputs": [
        {
          "output_type": "stream",
          "name": "stdout",
          "text": [
            "\n",
            "\n",
            "\n",
            "\n",
            "\n",
            "\n",
            "\n",
            "\n",
            "\n",
            "\n",
            "People | MIT CSAIL\n",
            "\n",
            "\n",
            "\n",
            "\n",
            "\n",
            "\n",
            "    Skip to main content\n",
            "  \n",
            "\n",
            "\n",
            "\n",
            "\n",
            "\n",
            "\n",
            "\n",
            "\n",
            "\n",
            "For Students\n",
            "\n",
            "\n",
            "For Industry\n",
            "\n",
            "\n",
            "For Members\n",
            "\n",
            "\n",
            "Accessibility\n",
            "\n",
            "\n",
            "Login\n",
            "\n",
            "\n",
            "\n",
            "\n",
            "\n",
            "\n",
            "\n",
            "\n",
            "\n",
            "\n",
            "\n",
            "\n",
            "\n",
            "\n",
            "\n",
            "\n",
            "\n",
            "\n",
            "\n",
            "\n",
            "\n",
            "\n",
            "\n",
            "\n",
            "\n",
            "MIT CSAIL\n",
            "\n",
            "\n",
            "\n",
            "\n",
            "\n",
            "Research\n",
            "\n",
            "\n",
            "People\n",
            "\n",
            "\n",
            "News\n",
            "\n",
            "\n",
            "Events\n",
            "\n",
            "\n",
            "Symposia\n",
            "\n",
            "\n",
            "About\n",
            "\n",
            "\n",
            "\n",
            "\n",
            "\n",
            "\n",
            "\n",
            "\n",
            "\n",
            "\n",
            "\n",
            "\n",
            "\n",
            "\n",
            "MIT LOGO\n",
            "Created with Sketch.\n",
            "\n",
            "\n",
            "\n",
            "\n",
            "\n",
            "\n",
            "\n",
            "\n",
            "\n",
            "\n",
            "\n",
            "\n",
            "\n",
            "\n",
            "\n",
            "\n",
            "\n",
            "\n",
            "\n",
            "\n",
            "\n",
            "\n",
            "\n",
            "\n",
            "Research\n",
            "\n",
            "\n",
            "People\n",
            "\n",
            "\n",
            "News\n",
            "\n",
            "\n",
            "Events\n",
            "\n",
            "\n",
            "Symposia\n",
            "\n",
            "\n",
            "About\n",
            "\n",
            "\n",
            "\n",
            "\n",
            "\n",
            "\n",
            "\n",
            "\n",
            "For Students\n",
            "\n",
            "\n",
            "For Industry\n",
            "\n",
            "\n",
            "For Members\n",
            "\n",
            "\n",
            "Accessibility\n",
            "\n",
            "\n",
            "Login\n",
            "\n",
            "\n",
            "\n",
            "\n",
            "\n",
            "\n",
            "\n",
            "\n",
            "Contact\n",
            "\n",
            "\n",
            "Press Requests\n",
            "\n",
            "\n",
            "Accessibility\n",
            "\n",
            "\n",
            "\n",
            "\n",
            "\n",
            "\n",
            "\n",
            "\n",
            "\n",
            "\n",
            "\n",
            "Search\n",
            "\n",
            "\n",
            "\n",
            "\n",
            "\n",
            "\n",
            "\n",
            "\n",
            "\n",
            "\n",
            "\n",
            "\n",
            "\n",
            "\n",
            "\n",
            "\n",
            "\n",
            "\n",
            "\n",
            " Hide Filters  People Role Principal Investigators  Core/Dual  Associates  Emeritus  Researchers  Graduate Students  UROP StaffAffiliates\n",
            "\n",
            "\n",
            "\n",
            "\n",
            "\n",
            "\n",
            "\n",
            "\n",
            "\n",
            "\n",
            "MIT CSAIL\n",
            "\n",
            "\n",
            "Massachusetts Institute of Technology\n",
            "Computer Science & Artificial Intelligence Laboratory\n",
            "32 Vassar St, Cambridge MA 02139\n",
            "\n",
            "\n",
            "\n",
            "\n",
            "Contact\n",
            "\n",
            "\n",
            "Press Requests\n",
            "\n",
            "\n",
            "Accessibility\n",
            "\n",
            "\n",
            "\n",
            "\n",
            "\n",
            "\n",
            "\n",
            "\n",
            "\n",
            "\n",
            "\n",
            "\n",
            "\n",
            "\n",
            "\n",
            "\n",
            "\n",
            "\n",
            "\n",
            "\n",
            "\n",
            "\n",
            "\n",
            "\n"
          ]
        }
      ]
    },
    {
      "cell_type": "code",
      "source": [
        "from nltk.tokenize import word_tokenize\n",
        "from nltk.stem import PorterStemmer, LancasterStemmer\n",
        "\n",
        "p_number = r\"\\d{3}-\\d{4}\"\n",
        "e_address = r\"[\\w\\.-]+@[\\w\\.-]+\\.\\w+\"\n",
        "\n",
        "phone_numbers = re.findall(p_number, plain_text)\n",
        "email_addresses = re.findall(e_address, plain_text)\n",
        "\n",
        "print(\"Phone Numbers:\", phone_numbers)\n",
        "print(\"Email Addresses:\", email_addresses)"
      ],
      "metadata": {
        "colab": {
          "base_uri": "https://localhost:8080/"
        },
        "id": "sJD7yh37ifZT",
        "outputId": "fe2d7ecd-6bbb-405f-e00c-459da014b507"
      },
      "execution_count": 32,
      "outputs": [
        {
          "output_type": "stream",
          "name": "stdout",
          "text": [
            "Phone Numbers: []\n",
            "Email Addresses: []\n"
          ]
        }
      ]
    },
    {
      "cell_type": "code",
      "source": [
        "import selenium\n",
        "from selenium import webdriver\n",
        "from selenium.webdriver.chrome.service import Service\n",
        "from selenium.webdriver.common.by import By\n",
        "from selenium.webdriver.common.keys import Keys\n",
        "from bs4 import BeautifulSoup\n",
        "import requests\n",
        "import re\n",
        "import time\n",
        "from selenium.webdriver.support.ui import WebDriverWait\n",
        "from selenium.webdriver.support import expected_conditions as EC"
      ],
      "metadata": {
        "id": "3ezI3VogPFXJ"
      },
      "execution_count": 33,
      "outputs": []
    },
    {
      "cell_type": "code",
      "source": [
        "from selenium import webdriver\n",
        "from bs4 import BeautifulSoup\n",
        "import pandas as pd\n",
        "df = pd.DataFrame(columns=['Email', 'Phone_number'])\n",
        "\n",
        "email_rgx = r\"[\\w\\.-]+@[\\w\\.-]+\\.\\w+\"\n",
        "phone_rgx = r\"\\d{3}-\\d{4}\"\n",
        "df = pd.DataFrame(columns=['Email', 'Phone_number'])\n",
        "\n",
        "email = []\n",
        "phone_numbers = []\n",
        "\n",
        "options = webdriver.ChromeOptions()\n",
        "options.add_argument('--headless')\n",
        "options.add_argument('--no-sandbox')\n",
        "options.add_argument('--disable-dev-shm-usage')\n",
        "\n",
        "chromedriver_path = '/usr/bin/chromedriver'\n",
        "\n",
        "driver = webdriver.Chrome(options=options)\n",
        "\n",
        "url = 'https://www.csail.mit.edu/people/?affiliateFacets=Alumni,Visitors&roleFacets=Principal%20Investigators,Researchers,Principal%20Investigators,Grad%20Students,Principal%20Investigators,UROPS,Principal%20Investigators,Core%2FDual,Associates,Emeritus&staffFacets=Staff,Administration'\n",
        "driver.get(url)\n",
        "\n",
        "page_source = driver.page_source\n",
        "\n",
        "Xpath = '/html/body/div[1]/div/main/section/div/div[1]/app-root/app-people/div/div[2]/div[2]/lib-people-results/div/div[1]/lib-people-result-card[{}]/article/div'\n",
        "\n",
        "iteration = 1\n",
        "\n",
        "content_size = 0\n",
        "size=0\n",
        "\n",
        "while iteration <= 1000:\n",
        "    for i in range(iteration, iteration+216):\n",
        "        dynamic_xpath = Xpath.format(i)\n",
        "\n",
        "        try:\n",
        "            element = WebDriverWait(driver, 10).until(\n",
        "                EC.presence_of_element_located((By.XPATH, dynamic_xpath))\n",
        "            )\n",
        "\n",
        "            email_current = re.findall(email_rgx, element.text)\n",
        "            phone_number_current = re.findall(phone_rgx, element.text)\n",
        "\n",
        "            #lists\n",
        "            email.extend(email_current)\n",
        "            phone_numbers.extend(phone_number_current)\n",
        "            size = size+len(email_current)\n",
        "            print(email_current, phone_number_current , \" has been extracted at iteration \",iteration)\n",
        "\n",
        "            df = df.append({'Email': email_current, 'Phone_number': phone_number_current}, ignore_index=True)\n",
        "        except Exception as e:\n",
        "            print(\"Error: \",e)\n",
        "    content_size = size\n",
        "    size=0\n",
        "    update_content = driver.find_element(By.XPATH ,\"//button[contains(text(), 'Load More')]\").click()\n",
        "    iteration = iteration + 216\n",
        "\n",
        "    # wait\n",
        "    time.sleep(4)\n",
        "\n",
        "#process finished\n",
        "driver.quit()\n",
        "\n"
      ],
      "metadata": {
        "colab": {
          "base_uri": "https://localhost:8080/"
        },
        "id": "-evfVh8yPANt",
        "outputId": "5fa06c97-3755-4b88-ee06-f6dbd1bb7baf"
      },
      "execution_count": 35,
      "outputs": [
        {
          "output_type": "stream",
          "name": "stdout",
          "text": [
            "['RMM688@MIT.EDU'] []  has been extracted at iteration  1\n",
            "['utkarsh5@csail.mit.edu'] []  has been extracted at iteration  1\n",
            "['andersaamanda@gmail.com'] []  has been extracted at iteration  1\n",
            "['erfanaasi@csail.mit.edu'] []  has been extracted at iteration  1\n"
          ]
        },
        {
          "output_type": "stream",
          "name": "stderr",
          "text": [
            "<ipython-input-35-74fde92eadb9>:52: FutureWarning: The frame.append method is deprecated and will be removed from pandas in a future version. Use pandas.concat instead.\n",
            "  df = df.append({'Email': email_current, 'Phone_number': phone_number_current}, ignore_index=True)\n",
            "<ipython-input-35-74fde92eadb9>:52: FutureWarning: The frame.append method is deprecated and will be removed from pandas in a future version. Use pandas.concat instead.\n",
            "  df = df.append({'Email': email_current, 'Phone_number': phone_number_current}, ignore_index=True)\n",
            "<ipython-input-35-74fde92eadb9>:52: FutureWarning: The frame.append method is deprecated and will be removed from pandas in a future version. Use pandas.concat instead.\n",
            "  df = df.append({'Email': email_current, 'Phone_number': phone_number_current}, ignore_index=True)\n",
            "<ipython-input-35-74fde92eadb9>:52: FutureWarning: The frame.append method is deprecated and will be removed from pandas in a future version. Use pandas.concat instead.\n",
            "  df = df.append({'Email': email_current, 'Phone_number': phone_number_current}, ignore_index=True)\n"
          ]
        },
        {
          "output_type": "stream",
          "name": "stdout",
          "text": [
            "['hal@mit.edu'] ['253-5856']  has been extracted at iteration  1\n",
            "['JOSEA525@csail.mit.edu'] []  has been extracted at iteration  1\n",
            "['acabrams@csail.mit.edu'] []  has been extracted at iteration  1\n"
          ]
        },
        {
          "output_type": "stream",
          "name": "stderr",
          "text": [
            "<ipython-input-35-74fde92eadb9>:52: FutureWarning: The frame.append method is deprecated and will be removed from pandas in a future version. Use pandas.concat instead.\n",
            "  df = df.append({'Email': email_current, 'Phone_number': phone_number_current}, ignore_index=True)\n",
            "<ipython-input-35-74fde92eadb9>:52: FutureWarning: The frame.append method is deprecated and will be removed from pandas in a future version. Use pandas.concat instead.\n",
            "  df = df.append({'Email': email_current, 'Phone_number': phone_number_current}, ignore_index=True)\n",
            "<ipython-input-35-74fde92eadb9>:52: FutureWarning: The frame.append method is deprecated and will be removed from pandas in a future version. Use pandas.concat instead.\n",
            "  df = df.append({'Email': email_current, 'Phone_number': phone_number_current}, ignore_index=True)\n"
          ]
        },
        {
          "output_type": "stream",
          "name": "stdout",
          "text": [
            "['abulnaga@mit.edu'] []  has been extracted at iteration  1\n",
            "['pedroa@mit.edu'] []  has been extracted at iteration  1\n",
            "['hadam@mit.edu'] []  has been extracted at iteration  1\n"
          ]
        },
        {
          "output_type": "stream",
          "name": "stderr",
          "text": [
            "<ipython-input-35-74fde92eadb9>:52: FutureWarning: The frame.append method is deprecated and will be removed from pandas in a future version. Use pandas.concat instead.\n",
            "  df = df.append({'Email': email_current, 'Phone_number': phone_number_current}, ignore_index=True)\n",
            "<ipython-input-35-74fde92eadb9>:52: FutureWarning: The frame.append method is deprecated and will be removed from pandas in a future version. Use pandas.concat instead.\n",
            "  df = df.append({'Email': email_current, 'Phone_number': phone_number_current}, ignore_index=True)\n",
            "<ipython-input-35-74fde92eadb9>:52: FutureWarning: The frame.append method is deprecated and will be removed from pandas in a future version. Use pandas.concat instead.\n",
            "  df = df.append({'Email': email_current, 'Phone_number': phone_number_current}, ignore_index=True)\n"
          ]
        },
        {
          "output_type": "stream",
          "name": "stdout",
          "text": [
            "['juliusad@MIT.EDU'] []  has been extracted at iteration  1\n",
            "['ikadebi@csail.mit.edu'] []  has been extracted at iteration  1\n",
            "['adelson@csail.mit.edu'] ['253-0645']  has been extracted at iteration  1\n"
          ]
        },
        {
          "output_type": "stream",
          "name": "stderr",
          "text": [
            "<ipython-input-35-74fde92eadb9>:52: FutureWarning: The frame.append method is deprecated and will be removed from pandas in a future version. Use pandas.concat instead.\n",
            "  df = df.append({'Email': email_current, 'Phone_number': phone_number_current}, ignore_index=True)\n",
            "<ipython-input-35-74fde92eadb9>:52: FutureWarning: The frame.append method is deprecated and will be removed from pandas in a future version. Use pandas.concat instead.\n",
            "  df = df.append({'Email': email_current, 'Phone_number': phone_number_current}, ignore_index=True)\n",
            "<ipython-input-35-74fde92eadb9>:52: FutureWarning: The frame.append method is deprecated and will be removed from pandas in a future version. Use pandas.concat instead.\n",
            "  df = df.append({'Email': email_current, 'Phone_number': phone_number_current}, ignore_index=True)\n"
          ]
        },
        {
          "output_type": "stream",
          "name": "stdout",
          "text": [
            "['Tadeniyi@mit.edu'] []  has been extracted at iteration  1\n",
            "['abhi_ag@mit.edu'] []  has been extracted at iteration  1\n",
            "['adityaag@csail.mit.edu'] []  has been extracted at iteration  1\n"
          ]
        },
        {
          "output_type": "stream",
          "name": "stderr",
          "text": [
            "<ipython-input-35-74fde92eadb9>:52: FutureWarning: The frame.append method is deprecated and will be removed from pandas in a future version. Use pandas.concat instead.\n",
            "  df = df.append({'Email': email_current, 'Phone_number': phone_number_current}, ignore_index=True)\n",
            "<ipython-input-35-74fde92eadb9>:52: FutureWarning: The frame.append method is deprecated and will be removed from pandas in a future version. Use pandas.concat instead.\n",
            "  df = df.append({'Email': email_current, 'Phone_number': phone_number_current}, ignore_index=True)\n",
            "<ipython-input-35-74fde92eadb9>:52: FutureWarning: The frame.append method is deprecated and will be removed from pandas in a future version. Use pandas.concat instead.\n",
            "  df = df.append({'Email': email_current, 'Phone_number': phone_number_current}, ignore_index=True)\n"
          ]
        },
        {
          "output_type": "stream",
          "name": "stdout",
          "text": [
            "['agarwal@edx.org'] ['253-1448']  has been extracted at iteration  1\n",
            "['magrawal@mit.edu'] []  has been extracted at iteration  1\n"
          ]
        },
        {
          "output_type": "stream",
          "name": "stderr",
          "text": [
            "<ipython-input-35-74fde92eadb9>:52: FutureWarning: The frame.append method is deprecated and will be removed from pandas in a future version. Use pandas.concat instead.\n",
            "  df = df.append({'Email': email_current, 'Phone_number': phone_number_current}, ignore_index=True)\n",
            "<ipython-input-35-74fde92eadb9>:52: FutureWarning: The frame.append method is deprecated and will be removed from pandas in a future version. Use pandas.concat instead.\n",
            "  df = df.append({'Email': email_current, 'Phone_number': phone_number_current}, ignore_index=True)\n"
          ]
        },
        {
          "output_type": "stream",
          "name": "stdout",
          "text": [
            "['PULKITAG@MIT.EDU'] []  has been extracted at iteration  1\n",
            "['shaur10@mit.edu'] []  has been extracted at iteration  1\n",
            "['lagudelo@csail.mit.edu'] []  has been extracted at iteration  1\n"
          ]
        },
        {
          "output_type": "stream",
          "name": "stderr",
          "text": [
            "<ipython-input-35-74fde92eadb9>:52: FutureWarning: The frame.append method is deprecated and will be removed from pandas in a future version. Use pandas.concat instead.\n",
            "  df = df.append({'Email': email_current, 'Phone_number': phone_number_current}, ignore_index=True)\n",
            "<ipython-input-35-74fde92eadb9>:52: FutureWarning: The frame.append method is deprecated and will be removed from pandas in a future version. Use pandas.concat instead.\n",
            "  df = df.append({'Email': email_current, 'Phone_number': phone_number_current}, ignore_index=True)\n",
            "<ipython-input-35-74fde92eadb9>:52: FutureWarning: The frame.append method is deprecated and will be removed from pandas in a future version. Use pandas.concat instead.\n",
            "  df = df.append({'Email': email_current, 'Phone_number': phone_number_current}, ignore_index=True)\n"
          ]
        },
        {
          "output_type": "stream",
          "name": "stdout",
          "text": [
            "['nurahmed@mit.edu'] []  has been extracted at iteration  1\n",
            "['willow@csail.mit.edu'] []  has been extracted at iteration  1\n"
          ]
        },
        {
          "output_type": "stream",
          "name": "stderr",
          "text": [
            "<ipython-input-35-74fde92eadb9>:52: FutureWarning: The frame.append method is deprecated and will be removed from pandas in a future version. Use pandas.concat instead.\n",
            "  df = df.append({'Email': email_current, 'Phone_number': phone_number_current}, ignore_index=True)\n",
            "<ipython-input-35-74fde92eadb9>:52: FutureWarning: The frame.append method is deprecated and will be removed from pandas in a future version. Use pandas.concat instead.\n",
            "  df = df.append({'Email': email_current, 'Phone_number': phone_number_current}, ignore_index=True)\n"
          ]
        },
        {
          "output_type": "stream",
          "name": "stdout",
          "text": [
            "['Aidinoff@mit.edu'] []  has been extracted at iteration  1\n",
            "['aajay@mit.edu'] []  has been extracted at iteration  1\n",
            "['naysh@mit.edu'] []  has been extracted at iteration  1\n"
          ]
        },
        {
          "output_type": "stream",
          "name": "stderr",
          "text": [
            "<ipython-input-35-74fde92eadb9>:52: FutureWarning: The frame.append method is deprecated and will be removed from pandas in a future version. Use pandas.concat instead.\n",
            "  df = df.append({'Email': email_current, 'Phone_number': phone_number_current}, ignore_index=True)\n",
            "<ipython-input-35-74fde92eadb9>:52: FutureWarning: The frame.append method is deprecated and will be removed from pandas in a future version. Use pandas.concat instead.\n",
            "  df = df.append({'Email': email_current, 'Phone_number': phone_number_current}, ignore_index=True)\n",
            "<ipython-input-35-74fde92eadb9>:52: FutureWarning: The frame.append method is deprecated and will be removed from pandas in a future version. Use pandas.concat instead.\n",
            "  df = df.append({'Email': email_current, 'Phone_number': phone_number_current}, ignore_index=True)\n"
          ]
        },
        {
          "output_type": "stream",
          "name": "stdout",
          "text": [
            "['akyurek@mit.edu'] []  has been extracted at iteration  1\n",
            "['malalawi@mit.edu'] []  has been extracted at iteration  1\n",
            "['alet@mit.edu'] []  has been extracted at iteration  1\n"
          ]
        },
        {
          "output_type": "stream",
          "name": "stderr",
          "text": [
            "<ipython-input-35-74fde92eadb9>:52: FutureWarning: The frame.append method is deprecated and will be removed from pandas in a future version. Use pandas.concat instead.\n",
            "  df = df.append({'Email': email_current, 'Phone_number': phone_number_current}, ignore_index=True)\n",
            "<ipython-input-35-74fde92eadb9>:52: FutureWarning: The frame.append method is deprecated and will be removed from pandas in a future version. Use pandas.concat instead.\n",
            "  df = df.append({'Email': email_current, 'Phone_number': phone_number_current}, ignore_index=True)\n",
            "<ipython-input-35-74fde92eadb9>:52: FutureWarning: The frame.append method is deprecated and will be removed from pandas in a future version. Use pandas.concat instead.\n",
            "  df = df.append({'Email': email_current, 'Phone_number': phone_number_current}, ignore_index=True)\n"
          ]
        },
        {
          "output_type": "stream",
          "name": "stdout",
          "text": [
            "['calexiev@mit.edu'] []  has been extracted at iteration  1\n",
            "['aliberti@mit.edu'] ['253-0298']  has been extracted at iteration  1\n",
            "['alizadeh@csail.mit.edu'] []  has been extracted at iteration  1\n"
          ]
        },
        {
          "output_type": "stream",
          "name": "stderr",
          "text": [
            "<ipython-input-35-74fde92eadb9>:52: FutureWarning: The frame.append method is deprecated and will be removed from pandas in a future version. Use pandas.concat instead.\n",
            "  df = df.append({'Email': email_current, 'Phone_number': phone_number_current}, ignore_index=True)\n",
            "<ipython-input-35-74fde92eadb9>:52: FutureWarning: The frame.append method is deprecated and will be removed from pandas in a future version. Use pandas.concat instead.\n",
            "  df = df.append({'Email': email_current, 'Phone_number': phone_number_current}, ignore_index=True)\n",
            "<ipython-input-35-74fde92eadb9>:52: FutureWarning: The frame.append method is deprecated and will be removed from pandas in a future version. Use pandas.concat instead.\n",
            "  df = df.append({'Email': email_current, 'Phone_number': phone_number_current}, ignore_index=True)\n"
          ]
        },
        {
          "output_type": "stream",
          "name": "stdout",
          "text": [
            "['obada@mit.edu'] []  has been extracted at iteration  1\n",
            "['eallen@mit.edu'] []  has been extracted at iteration  1\n",
            "['jumanam@mit.edu'] []  has been extracted at iteration  1\n"
          ]
        },
        {
          "output_type": "stream",
          "name": "stderr",
          "text": [
            "<ipython-input-35-74fde92eadb9>:52: FutureWarning: The frame.append method is deprecated and will be removed from pandas in a future version. Use pandas.concat instead.\n",
            "  df = df.append({'Email': email_current, 'Phone_number': phone_number_current}, ignore_index=True)\n",
            "<ipython-input-35-74fde92eadb9>:52: FutureWarning: The frame.append method is deprecated and will be removed from pandas in a future version. Use pandas.concat instead.\n",
            "  df = df.append({'Email': email_current, 'Phone_number': phone_number_current}, ignore_index=True)\n",
            "<ipython-input-35-74fde92eadb9>:52: FutureWarning: The frame.append method is deprecated and will be removed from pandas in a future version. Use pandas.concat instead.\n",
            "  df = df.append({'Email': email_current, 'Phone_number': phone_number_current}, ignore_index=True)\n"
          ]
        },
        {
          "output_type": "stream",
          "name": "stdout",
          "text": [
            "['RABABALOMAIRY@csail.mit.edu'] []  has been extracted at iteration  1\n",
            "['alotaibi@csail.mit.edu'] []  has been extracted at iteration  1\n",
            "['emilya@mit.edu'] []  has been extracted at iteration  1\n"
          ]
        },
        {
          "output_type": "stream",
          "name": "stderr",
          "text": [
            "<ipython-input-35-74fde92eadb9>:52: FutureWarning: The frame.append method is deprecated and will be removed from pandas in a future version. Use pandas.concat instead.\n",
            "  df = df.append({'Email': email_current, 'Phone_number': phone_number_current}, ignore_index=True)\n",
            "<ipython-input-35-74fde92eadb9>:52: FutureWarning: The frame.append method is deprecated and will be removed from pandas in a future version. Use pandas.concat instead.\n",
            "  df = df.append({'Email': email_current, 'Phone_number': phone_number_current}, ignore_index=True)\n",
            "<ipython-input-35-74fde92eadb9>:52: FutureWarning: The frame.append method is deprecated and will be removed from pandas in a future version. Use pandas.concat instead.\n",
            "  df = df.append({'Email': email_current, 'Phone_number': phone_number_current}, ignore_index=True)\n"
          ]
        },
        {
          "output_type": "stream",
          "name": "stdout",
          "text": [
            "['saman@csail.mit.edu'] ['253-8879']  has been extracted at iteration  1\n",
            "['amice@mit.edu'] []  has been extracted at iteration  1\n",
            "['aminsam@csail.edu'] []  has been extracted at iteration  1\n"
          ]
        },
        {
          "output_type": "stream",
          "name": "stderr",
          "text": [
            "<ipython-input-35-74fde92eadb9>:52: FutureWarning: The frame.append method is deprecated and will be removed from pandas in a future version. Use pandas.concat instead.\n",
            "  df = df.append({'Email': email_current, 'Phone_number': phone_number_current}, ignore_index=True)\n",
            "<ipython-input-35-74fde92eadb9>:52: FutureWarning: The frame.append method is deprecated and will be removed from pandas in a future version. Use pandas.concat instead.\n",
            "  df = df.append({'Email': email_current, 'Phone_number': phone_number_current}, ignore_index=True)\n",
            "<ipython-input-35-74fde92eadb9>:52: FutureWarning: The frame.append method is deprecated and will be removed from pandas in a future version. Use pandas.concat instead.\n",
            "  df = df.append({'Email': email_current, 'Phone_number': phone_number_current}, ignore_index=True)\n"
          ]
        },
        {
          "output_type": "stream",
          "name": "stdout",
          "text": [
            "['Amini@mit.edu'] []  has been extracted at iteration  1\n",
            "['ranjanan@mit.edu'] []  has been extracted at iteration  1\n",
            "['sancha@mit.edu'] []  has been extracted at iteration  1\n"
          ]
        },
        {
          "output_type": "stream",
          "name": "stderr",
          "text": [
            "<ipython-input-35-74fde92eadb9>:52: FutureWarning: The frame.append method is deprecated and will be removed from pandas in a future version. Use pandas.concat instead.\n",
            "  df = df.append({'Email': email_current, 'Phone_number': phone_number_current}, ignore_index=True)\n",
            "<ipython-input-35-74fde92eadb9>:52: FutureWarning: The frame.append method is deprecated and will be removed from pandas in a future version. Use pandas.concat instead.\n",
            "  df = df.append({'Email': email_current, 'Phone_number': phone_number_current}, ignore_index=True)\n",
            "<ipython-input-35-74fde92eadb9>:52: FutureWarning: The frame.append method is deprecated and will be removed from pandas in a future version. Use pandas.concat instead.\n",
            "  df = df.append({'Email': email_current, 'Phone_number': phone_number_current}, ignore_index=True)\n"
          ]
        },
        {
          "output_type": "stream",
          "name": "stdout",
          "text": [
            "['paanders@csail.mit.edu'] []  has been extracted at iteration  1\n",
            "['andonian@csail.mit.edu'] []  has been extracted at iteration  1\n",
            "['jda@csail.mit.edu'] []  has been extracted at iteration  1\n"
          ]
        },
        {
          "output_type": "stream",
          "name": "stderr",
          "text": [
            "<ipython-input-35-74fde92eadb9>:52: FutureWarning: The frame.append method is deprecated and will be removed from pandas in a future version. Use pandas.concat instead.\n",
            "  df = df.append({'Email': email_current, 'Phone_number': phone_number_current}, ignore_index=True)\n",
            "<ipython-input-35-74fde92eadb9>:52: FutureWarning: The frame.append method is deprecated and will be removed from pandas in a future version. Use pandas.concat instead.\n",
            "  df = df.append({'Email': email_current, 'Phone_number': phone_number_current}, ignore_index=True)\n",
            "<ipython-input-35-74fde92eadb9>:52: FutureWarning: The frame.append method is deprecated and will be removed from pandas in a future version. Use pandas.concat instead.\n",
            "  df = df.append({'Email': email_current, 'Phone_number': phone_number_current}, ignore_index=True)\n"
          ]
        },
        {
          "output_type": "stream",
          "name": "stdout",
          "text": [
            "['andrulis@mit.edu'] []  has been extracted at iteration  1\n",
            "['cmarnold@csail.mit.edu'] []  has been extracted at iteration  1\n",
            "['AARRIOLA@mit.edu'] ['258-0683']  has been extracted at iteration  1\n"
          ]
        },
        {
          "output_type": "stream",
          "name": "stderr",
          "text": [
            "<ipython-input-35-74fde92eadb9>:52: FutureWarning: The frame.append method is deprecated and will be removed from pandas in a future version. Use pandas.concat instead.\n",
            "  df = df.append({'Email': email_current, 'Phone_number': phone_number_current}, ignore_index=True)\n",
            "<ipython-input-35-74fde92eadb9>:52: FutureWarning: The frame.append method is deprecated and will be removed from pandas in a future version. Use pandas.concat instead.\n",
            "  df = df.append({'Email': email_current, 'Phone_number': phone_number_current}, ignore_index=True)\n",
            "<ipython-input-35-74fde92eadb9>:52: FutureWarning: The frame.append method is deprecated and will be removed from pandas in a future version. Use pandas.concat instead.\n",
            "  df = df.append({'Email': email_current, 'Phone_number': phone_number_current}, ignore_index=True)\n"
          ]
        },
        {
          "output_type": "stream",
          "name": "stdout",
          "text": [
            "['pmarsena@mit.edu'] ['324-8367']  has been extracted at iteration  1\n",
            "['farto@csail.mit.edu'] []  has been extracted at iteration  1\n",
            "['venkatar@MIT.EDU'] []  has been extracted at iteration  1\n"
          ]
        },
        {
          "output_type": "stream",
          "name": "stderr",
          "text": [
            "<ipython-input-35-74fde92eadb9>:52: FutureWarning: The frame.append method is deprecated and will be removed from pandas in a future version. Use pandas.concat instead.\n",
            "  df = df.append({'Email': email_current, 'Phone_number': phone_number_current}, ignore_index=True)\n",
            "<ipython-input-35-74fde92eadb9>:52: FutureWarning: The frame.append method is deprecated and will be removed from pandas in a future version. Use pandas.concat instead.\n",
            "  df = df.append({'Email': email_current, 'Phone_number': phone_number_current}, ignore_index=True)\n",
            "<ipython-input-35-74fde92eadb9>:52: FutureWarning: The frame.append method is deprecated and will be removed from pandas in a future version. Use pandas.concat instead.\n",
            "  df = df.append({'Email': email_current, 'Phone_number': phone_number_current}, ignore_index=True)\n"
          ]
        },
        {
          "output_type": "stream",
          "name": "stdout",
          "text": [
            "['aathalye@mit.edu'] []  has been extracted at iteration  1\n",
            "['ashay@mit.edu'] []  has been extracted at iteration  1\n",
            "['eatkinson@csail.mit.edu'] []  has been extracted at iteration  1\n"
          ]
        },
        {
          "output_type": "stream",
          "name": "stderr",
          "text": [
            "<ipython-input-35-74fde92eadb9>:52: FutureWarning: The frame.append method is deprecated and will be removed from pandas in a future version. Use pandas.concat instead.\n",
            "  df = df.append({'Email': email_current, 'Phone_number': phone_number_current}, ignore_index=True)\n",
            "<ipython-input-35-74fde92eadb9>:52: FutureWarning: The frame.append method is deprecated and will be removed from pandas in a future version. Use pandas.concat instead.\n",
            "  df = df.append({'Email': email_current, 'Phone_number': phone_number_current}, ignore_index=True)\n",
            "<ipython-input-35-74fde92eadb9>:52: FutureWarning: The frame.append method is deprecated and will be removed from pandas in a future version. Use pandas.concat instead.\n",
            "  df = df.append({'Email': email_current, 'Phone_number': phone_number_current}, ignore_index=True)\n"
          ]
        },
        {
          "output_type": "stream",
          "name": "stdout",
          "text": [
            "['MAXIMNA@csail.mit.edu'] []  has been extracted at iteration  1\n",
            "['shai.avidan@gmail.com'] []  has been extracted at iteration  1\n",
            "['azizayed@csail.mit.edu'] []  has been extracted at iteration  1\n"
          ]
        },
        {
          "output_type": "stream",
          "name": "stderr",
          "text": [
            "<ipython-input-35-74fde92eadb9>:52: FutureWarning: The frame.append method is deprecated and will be removed from pandas in a future version. Use pandas.concat instead.\n",
            "  df = df.append({'Email': email_current, 'Phone_number': phone_number_current}, ignore_index=True)\n",
            "<ipython-input-35-74fde92eadb9>:52: FutureWarning: The frame.append method is deprecated and will be removed from pandas in a future version. Use pandas.concat instead.\n",
            "  df = df.append({'Email': email_current, 'Phone_number': phone_number_current}, ignore_index=True)\n",
            "<ipython-input-35-74fde92eadb9>:52: FutureWarning: The frame.append method is deprecated and will be removed from pandas in a future version. Use pandas.concat instead.\n",
            "  df = df.append({'Email': email_current, 'Phone_number': phone_number_current}, ignore_index=True)\n"
          ]
        },
        {
          "output_type": "stream",
          "name": "stdout",
          "text": [
            "['abackour@csail.mit.edu'] []  has been extracted at iteration  1\n",
            "['bahng@MIT.EDU'] []  has been extracted at iteration  1\n",
            "['ainesh@csail.mit.edu'] []  has been extracted at iteration  1\n"
          ]
        },
        {
          "output_type": "stream",
          "name": "stderr",
          "text": [
            "<ipython-input-35-74fde92eadb9>:52: FutureWarning: The frame.append method is deprecated and will be removed from pandas in a future version. Use pandas.concat instead.\n",
            "  df = df.append({'Email': email_current, 'Phone_number': phone_number_current}, ignore_index=True)\n",
            "<ipython-input-35-74fde92eadb9>:52: FutureWarning: The frame.append method is deprecated and will be removed from pandas in a future version. Use pandas.concat instead.\n",
            "  df = df.append({'Email': email_current, 'Phone_number': phone_number_current}, ignore_index=True)\n",
            "<ipython-input-35-74fde92eadb9>:52: FutureWarning: The frame.append method is deprecated and will be removed from pandas in a future version. Use pandas.concat instead.\n",
            "  df = df.append({'Email': email_current, 'Phone_number': phone_number_current}, ignore_index=True)\n"
          ]
        },
        {
          "output_type": "stream",
          "name": "stdout",
          "text": [
            "['aparnab@mit.edu'] []  has been extracted at iteration  1\n",
            "['hari@csail.mit.edu'] ['253-8713']  has been extracted at iteration  1\n",
            "['arjunvb@csail.mit.edu'] []  has been extracted at iteration  1\n"
          ]
        },
        {
          "output_type": "stream",
          "name": "stderr",
          "text": [
            "<ipython-input-35-74fde92eadb9>:52: FutureWarning: The frame.append method is deprecated and will be removed from pandas in a future version. Use pandas.concat instead.\n",
            "  df = df.append({'Email': email_current, 'Phone_number': phone_number_current}, ignore_index=True)\n",
            "<ipython-input-35-74fde92eadb9>:52: FutureWarning: The frame.append method is deprecated and will be removed from pandas in a future version. Use pandas.concat instead.\n",
            "  df = df.append({'Email': email_current, 'Phone_number': phone_number_current}, ignore_index=True)\n",
            "<ipython-input-35-74fde92eadb9>:52: FutureWarning: The frame.append method is deprecated and will be removed from pandas in a future version. Use pandas.concat instead.\n",
            "  df = df.append({'Email': email_current, 'Phone_number': phone_number_current}, ignore_index=True)\n"
          ]
        },
        {
          "output_type": "stream",
          "name": "stdout",
          "text": [
            "['jballa@csail.mit.edu'] []  has been extracted at iteration  1\n",
            "['hbang@mit.edu'] []  has been extracted at iteration  1\n",
            "['brishika@csail.mit.edu'] []  has been extracted at iteration  1\n"
          ]
        },
        {
          "output_type": "stream",
          "name": "stderr",
          "text": [
            "<ipython-input-35-74fde92eadb9>:52: FutureWarning: The frame.append method is deprecated and will be removed from pandas in a future version. Use pandas.concat instead.\n",
            "  df = df.append({'Email': email_current, 'Phone_number': phone_number_current}, ignore_index=True)\n",
            "<ipython-input-35-74fde92eadb9>:52: FutureWarning: The frame.append method is deprecated and will be removed from pandas in a future version. Use pandas.concat instead.\n",
            "  df = df.append({'Email': email_current, 'Phone_number': phone_number_current}, ignore_index=True)\n",
            "<ipython-input-35-74fde92eadb9>:52: FutureWarning: The frame.append method is deprecated and will be removed from pandas in a future version. Use pandas.concat instead.\n",
            "  df = df.append({'Email': email_current, 'Phone_number': phone_number_current}, ignore_index=True)\n"
          ]
        },
        {
          "output_type": "stream",
          "name": "stdout",
          "text": [
            "['mbaradad@mit.edu'] []  has been extracted at iteration  1\n",
            "['abarbu@mit.edu'] []  has been extracted at iteration  1\n",
            "['theresabarrera9@csail.mit.edu'] ['253-0331']  has been extracted at iteration  1\n"
          ]
        },
        {
          "output_type": "stream",
          "name": "stderr",
          "text": [
            "<ipython-input-35-74fde92eadb9>:52: FutureWarning: The frame.append method is deprecated and will be removed from pandas in a future version. Use pandas.concat instead.\n",
            "  df = df.append({'Email': email_current, 'Phone_number': phone_number_current}, ignore_index=True)\n",
            "<ipython-input-35-74fde92eadb9>:52: FutureWarning: The frame.append method is deprecated and will be removed from pandas in a future version. Use pandas.concat instead.\n",
            "  df = df.append({'Email': email_current, 'Phone_number': phone_number_current}, ignore_index=True)\n",
            "<ipython-input-35-74fde92eadb9>:52: FutureWarning: The frame.append method is deprecated and will be removed from pandas in a future version. Use pandas.concat instead.\n",
            "  df = df.append({'Email': email_current, 'Phone_number': phone_number_current}, ignore_index=True)\n"
          ]
        },
        {
          "output_type": "stream",
          "name": "stdout",
          "text": [
            "['arjunjb@csail.mit.edu'] []  has been extracted at iteration  1\n",
            "['regina@csail.mit.edu'] ['258-5706']  has been extracted at iteration  1\n",
            "['RBEATTIE@csail.mit.edu'] []  has been extracted at iteration  1\n"
          ]
        },
        {
          "output_type": "stream",
          "name": "stderr",
          "text": [
            "<ipython-input-35-74fde92eadb9>:52: FutureWarning: The frame.append method is deprecated and will be removed from pandas in a future version. Use pandas.concat instead.\n",
            "  df = df.append({'Email': email_current, 'Phone_number': phone_number_current}, ignore_index=True)\n",
            "<ipython-input-35-74fde92eadb9>:52: FutureWarning: The frame.append method is deprecated and will be removed from pandas in a future version. Use pandas.concat instead.\n",
            "  df = df.append({'Email': email_current, 'Phone_number': phone_number_current}, ignore_index=True)\n",
            "<ipython-input-35-74fde92eadb9>:52: FutureWarning: The frame.append method is deprecated and will be removed from pandas in a future version. Use pandas.concat instead.\n",
            "  df = df.append({'Email': email_current, 'Phone_number': phone_number_current}, ignore_index=True)\n"
          ]
        },
        {
          "output_type": "stream",
          "name": "stdout",
          "text": [
            "['charlesbvll@csail.mit.edu'] []  has been extracted at iteration  1\n",
            "['beery@csail.mit.edu'] []  has been extracted at iteration  1\n",
            "['abelay@CSAIL.MIT.EDU'] ['253-0004']  has been extracted at iteration  1\n"
          ]
        },
        {
          "output_type": "stream",
          "name": "stderr",
          "text": [
            "<ipython-input-35-74fde92eadb9>:52: FutureWarning: The frame.append method is deprecated and will be removed from pandas in a future version. Use pandas.concat instead.\n",
            "  df = df.append({'Email': email_current, 'Phone_number': phone_number_current}, ignore_index=True)\n",
            "<ipython-input-35-74fde92eadb9>:52: FutureWarning: The frame.append method is deprecated and will be removed from pandas in a future version. Use pandas.concat instead.\n",
            "  df = df.append({'Email': email_current, 'Phone_number': phone_number_current}, ignore_index=True)\n",
            "<ipython-input-35-74fde92eadb9>:52: FutureWarning: The frame.append method is deprecated and will be removed from pandas in a future version. Use pandas.concat instead.\n",
            "  df = df.append({'Email': email_current, 'Phone_number': phone_number_current}, ignore_index=True)\n"
          ]
        },
        {
          "output_type": "stream",
          "name": "stdout",
          "text": [
            "['benchetr@mit.edu'] []  has been extracted at iteration  1\n",
            "['alexberg@mit.edu'] []  has been extracted at iteration  1\n",
            "['awberger@csail.mit.edu'] ['253-6079']  has been extracted at iteration  1\n"
          ]
        },
        {
          "output_type": "stream",
          "name": "stderr",
          "text": [
            "<ipython-input-35-74fde92eadb9>:52: FutureWarning: The frame.append method is deprecated and will be removed from pandas in a future version. Use pandas.concat instead.\n",
            "  df = df.append({'Email': email_current, 'Phone_number': phone_number_current}, ignore_index=True)\n",
            "<ipython-input-35-74fde92eadb9>:52: FutureWarning: The frame.append method is deprecated and will be removed from pandas in a future version. Use pandas.concat instead.\n",
            "  df = df.append({'Email': email_current, 'Phone_number': phone_number_current}, ignore_index=True)\n",
            "<ipython-input-35-74fde92eadb9>:52: FutureWarning: The frame.append method is deprecated and will be removed from pandas in a future version. Use pandas.concat instead.\n",
            "  df = df.append({'Email': email_current, 'Phone_number': phone_number_current}, ignore_index=True)\n"
          ]
        },
        {
          "output_type": "stream",
          "name": "stdout",
          "text": [
            "['bab@csail.mit.edu'] ['253-1827']  has been extracted at iteration  1\n",
            "['timbl@w3.org'] ['253-5702']  has been extracted at iteration  1\n"
          ]
        },
        {
          "output_type": "stream",
          "name": "stderr",
          "text": [
            "<ipython-input-35-74fde92eadb9>:52: FutureWarning: The frame.append method is deprecated and will be removed from pandas in a future version. Use pandas.concat instead.\n",
            "  df = df.append({'Email': email_current, 'Phone_number': phone_number_current}, ignore_index=True)\n",
            "<ipython-input-35-74fde92eadb9>:52: FutureWarning: The frame.append method is deprecated and will be removed from pandas in a future version. Use pandas.concat instead.\n",
            "  df = df.append({'Email': email_current, 'Phone_number': phone_number_current}, ignore_index=True)\n"
          ]
        },
        {
          "output_type": "stream",
          "name": "stdout",
          "text": [
            "['JB866@csail.mit.edu'] []  has been extracted at iteration  1\n",
            "['ANTONIOB@csail.mit.edu'] []  has been extracted at iteration  1\n",
            "['sanjit-bhat@csail.mit.edu'] []  has been extracted at iteration  1\n"
          ]
        },
        {
          "output_type": "stream",
          "name": "stderr",
          "text": [
            "<ipython-input-35-74fde92eadb9>:52: FutureWarning: The frame.append method is deprecated and will be removed from pandas in a future version. Use pandas.concat instead.\n",
            "  df = df.append({'Email': email_current, 'Phone_number': phone_number_current}, ignore_index=True)\n",
            "<ipython-input-35-74fde92eadb9>:52: FutureWarning: The frame.append method is deprecated and will be removed from pandas in a future version. Use pandas.concat instead.\n",
            "  df = df.append({'Email': email_current, 'Phone_number': phone_number_current}, ignore_index=True)\n",
            "<ipython-input-35-74fde92eadb9>:52: FutureWarning: The frame.append method is deprecated and will be removed from pandas in a future version. Use pandas.concat instead.\n",
            "  df = df.append({'Email': email_current, 'Phone_number': phone_number_current}, ignore_index=True)\n"
          ]
        },
        {
          "output_type": "stream",
          "name": "stdout",
          "text": [
            "['bbillot@csail.mit.edu'] []  has been extracted at iteration  1\n",
            "['cjbisc@mit.edu'] []  has been extracted at iteration  1\n",
            "['jxn@csail.mit.edu'] []  has been extracted at iteration  1\n"
          ]
        },
        {
          "output_type": "stream",
          "name": "stderr",
          "text": [
            "<ipython-input-35-74fde92eadb9>:52: FutureWarning: The frame.append method is deprecated and will be removed from pandas in a future version. Use pandas.concat instead.\n",
            "  df = df.append({'Email': email_current, 'Phone_number': phone_number_current}, ignore_index=True)\n",
            "<ipython-input-35-74fde92eadb9>:52: FutureWarning: The frame.append method is deprecated and will be removed from pandas in a future version. Use pandas.concat instead.\n",
            "  df = df.append({'Email': email_current, 'Phone_number': phone_number_current}, ignore_index=True)\n",
            "<ipython-input-35-74fde92eadb9>:52: FutureWarning: The frame.append method is deprecated and will be removed from pandas in a future version. Use pandas.concat instead.\n",
            "  df = df.append({'Email': email_current, 'Phone_number': phone_number_current}, ignore_index=True)\n"
          ]
        },
        {
          "output_type": "stream",
          "name": "stdout",
          "text": [
            "['eblumkin@csail.mit.edu'] []  has been extracted at iteration  1\n",
            "['aboggust@mit.edu'] []  has been extracted at iteration  1\n",
            "['rboiar@mit.edu'] []  has been extracted at iteration  1\n",
            "['sbooth@mit.edu'] []  has been extracted at iteration  1\n"
          ]
        },
        {
          "output_type": "stream",
          "name": "stderr",
          "text": [
            "<ipython-input-35-74fde92eadb9>:52: FutureWarning: The frame.append method is deprecated and will be removed from pandas in a future version. Use pandas.concat instead.\n",
            "  df = df.append({'Email': email_current, 'Phone_number': phone_number_current}, ignore_index=True)\n",
            "<ipython-input-35-74fde92eadb9>:52: FutureWarning: The frame.append method is deprecated and will be removed from pandas in a future version. Use pandas.concat instead.\n",
            "  df = df.append({'Email': email_current, 'Phone_number': phone_number_current}, ignore_index=True)\n",
            "<ipython-input-35-74fde92eadb9>:52: FutureWarning: The frame.append method is deprecated and will be removed from pandas in a future version. Use pandas.concat instead.\n",
            "  df = df.append({'Email': email_current, 'Phone_number': phone_number_current}, ignore_index=True)\n",
            "<ipython-input-35-74fde92eadb9>:52: FutureWarning: The frame.append method is deprecated and will be removed from pandas in a future version. Use pandas.concat instead.\n",
            "  df = df.append({'Email': email_current, 'Phone_number': phone_number_current}, ignore_index=True)\n"
          ]
        },
        {
          "output_type": "stream",
          "name": "stdout",
          "text": [
            "['borch@csail.mit.edu'] ['253-5867']  has been extracted at iteration  1\n",
            "['gbouland@mit.edu'] []  has been extracted at iteration  1\n",
            "['bthom@csail.mit.edu'] []  has been extracted at iteration  1\n",
            "['mlbowers@mit.edu'] []  has been extracted at iteration  1\n"
          ]
        },
        {
          "output_type": "stream",
          "name": "stderr",
          "text": [
            "<ipython-input-35-74fde92eadb9>:52: FutureWarning: The frame.append method is deprecated and will be removed from pandas in a future version. Use pandas.concat instead.\n",
            "  df = df.append({'Email': email_current, 'Phone_number': phone_number_current}, ignore_index=True)\n",
            "<ipython-input-35-74fde92eadb9>:52: FutureWarning: The frame.append method is deprecated and will be removed from pandas in a future version. Use pandas.concat instead.\n",
            "  df = df.append({'Email': email_current, 'Phone_number': phone_number_current}, ignore_index=True)\n",
            "<ipython-input-35-74fde92eadb9>:52: FutureWarning: The frame.append method is deprecated and will be removed from pandas in a future version. Use pandas.concat instead.\n",
            "  df = df.append({'Email': email_current, 'Phone_number': phone_number_current}, ignore_index=True)\n",
            "<ipython-input-35-74fde92eadb9>:52: FutureWarning: The frame.append method is deprecated and will be removed from pandas in a future version. Use pandas.concat instead.\n",
            "  df = df.append({'Email': email_current, 'Phone_number': phone_number_current}, ignore_index=True)\n"
          ]
        },
        {
          "output_type": "stream",
          "name": "stdout",
          "text": [
            "['mcboyd@csail.mit.edu'] []  has been extracted at iteration  1\n",
            "['cbrad@mit.edu'] []  has been extracted at iteration  1\n",
            "['ajaybr@mit.edu'] []  has been extracted at iteration  1\n",
            "['wbrandon@mit.edu'] []  has been extracted at iteration  1\n"
          ]
        },
        {
          "output_type": "stream",
          "name": "stderr",
          "text": [
            "<ipython-input-35-74fde92eadb9>:52: FutureWarning: The frame.append method is deprecated and will be removed from pandas in a future version. Use pandas.concat instead.\n",
            "  df = df.append({'Email': email_current, 'Phone_number': phone_number_current}, ignore_index=True)\n",
            "<ipython-input-35-74fde92eadb9>:52: FutureWarning: The frame.append method is deprecated and will be removed from pandas in a future version. Use pandas.concat instead.\n",
            "  df = df.append({'Email': email_current, 'Phone_number': phone_number_current}, ignore_index=True)\n",
            "<ipython-input-35-74fde92eadb9>:52: FutureWarning: The frame.append method is deprecated and will be removed from pandas in a future version. Use pandas.concat instead.\n",
            "  df = df.append({'Email': email_current, 'Phone_number': phone_number_current}, ignore_index=True)\n",
            "<ipython-input-35-74fde92eadb9>:52: FutureWarning: The frame.append method is deprecated and will be removed from pandas in a future version. Use pandas.concat instead.\n",
            "  df = df.append({'Email': email_current, 'Phone_number': phone_number_current}, ignore_index=True)\n"
          ]
        },
        {
          "output_type": "stream",
          "name": "stdout",
          "text": [
            "['lebrandt@csail.mit.edu'] []  has been extracted at iteration  1\n",
            "['NBRANZOLI@csail.mit.edu'] []  has been extracted at iteration  1\n",
            "['brew@csail.mit.edu'] []  has been extracted at iteration  1\n",
            "['nibr@mit.edu'] []  has been extracted at iteration  1\n"
          ]
        },
        {
          "output_type": "stream",
          "name": "stderr",
          "text": [
            "<ipython-input-35-74fde92eadb9>:52: FutureWarning: The frame.append method is deprecated and will be removed from pandas in a future version. Use pandas.concat instead.\n",
            "  df = df.append({'Email': email_current, 'Phone_number': phone_number_current}, ignore_index=True)\n",
            "<ipython-input-35-74fde92eadb9>:52: FutureWarning: The frame.append method is deprecated and will be removed from pandas in a future version. Use pandas.concat instead.\n",
            "  df = df.append({'Email': email_current, 'Phone_number': phone_number_current}, ignore_index=True)\n",
            "<ipython-input-35-74fde92eadb9>:52: FutureWarning: The frame.append method is deprecated and will be removed from pandas in a future version. Use pandas.concat instead.\n",
            "  df = df.append({'Email': email_current, 'Phone_number': phone_number_current}, ignore_index=True)\n",
            "<ipython-input-35-74fde92eadb9>:52: FutureWarning: The frame.append method is deprecated and will be removed from pandas in a future version. Use pandas.concat instead.\n",
            "  df = df.append({'Email': email_current, 'Phone_number': phone_number_current}, ignore_index=True)\n"
          ]
        },
        {
          "output_type": "stream",
          "name": "stdout",
          "text": [
            "['tbroderick@csail.mit.edu'] ['324-6749']  has been extracted at iteration  1\n",
            "['cbrodie@csail.mit.edu'] ['324-6742']  has been extracted at iteration  1\n",
            "['bronars@mit.edu'] []  has been extracted at iteration  1\n",
            "['brooks@csail.mit.edu'] []  has been extracted at iteration  1\n"
          ]
        },
        {
          "output_type": "stream",
          "name": "stderr",
          "text": [
            "<ipython-input-35-74fde92eadb9>:52: FutureWarning: The frame.append method is deprecated and will be removed from pandas in a future version. Use pandas.concat instead.\n",
            "  df = df.append({'Email': email_current, 'Phone_number': phone_number_current}, ignore_index=True)\n",
            "<ipython-input-35-74fde92eadb9>:52: FutureWarning: The frame.append method is deprecated and will be removed from pandas in a future version. Use pandas.concat instead.\n",
            "  df = df.append({'Email': email_current, 'Phone_number': phone_number_current}, ignore_index=True)\n",
            "<ipython-input-35-74fde92eadb9>:52: FutureWarning: The frame.append method is deprecated and will be removed from pandas in a future version. Use pandas.concat instead.\n",
            "  df = df.append({'Email': email_current, 'Phone_number': phone_number_current}, ignore_index=True)\n",
            "<ipython-input-35-74fde92eadb9>:52: FutureWarning: The frame.append method is deprecated and will be removed from pandas in a future version. Use pandas.concat instead.\n",
            "  df = df.append({'Email': email_current, 'Phone_number': phone_number_current}, ignore_index=True)\n"
          ]
        },
        {
          "output_type": "stream",
          "name": "stdout",
          "text": [
            "['cbruins@csail.mit.edu'] ['253-2629']  has been extracted at iteration  1\n",
            "['brunnerj@mit.edu'] []  has been extracted at iteration  1\n",
            "['nbuckman@mit.edu'] []  has been extracted at iteration  1\n"
          ]
        },
        {
          "output_type": "stream",
          "name": "stderr",
          "text": [
            "<ipython-input-35-74fde92eadb9>:52: FutureWarning: The frame.append method is deprecated and will be removed from pandas in a future version. Use pandas.concat instead.\n",
            "  df = df.append({'Email': email_current, 'Phone_number': phone_number_current}, ignore_index=True)\n",
            "<ipython-input-35-74fde92eadb9>:52: FutureWarning: The frame.append method is deprecated and will be removed from pandas in a future version. Use pandas.concat instead.\n",
            "  df = df.append({'Email': email_current, 'Phone_number': phone_number_current}, ignore_index=True)\n",
            "<ipython-input-35-74fde92eadb9>:52: FutureWarning: The frame.append method is deprecated and will be removed from pandas in a future version. Use pandas.concat instead.\n",
            "  df = df.append({'Email': email_current, 'Phone_number': phone_number_current}, ignore_index=True)\n"
          ]
        },
        {
          "output_type": "stream",
          "name": "stdout",
          "text": [
            "['jbuckwal@csail.mit.edu'] []  has been extracted at iteration  1\n",
            "['buendia@mit.edu'] []  has been extracted at iteration  1\n",
            "['mburgjr@csail.mit.edu'] []  has been extracted at iteration  1\n",
            "['MBUSEKRO@mit.edu'] ['324-6745']  has been extracted at iteration  1\n"
          ]
        },
        {
          "output_type": "stream",
          "name": "stderr",
          "text": [
            "<ipython-input-35-74fde92eadb9>:52: FutureWarning: The frame.append method is deprecated and will be removed from pandas in a future version. Use pandas.concat instead.\n",
            "  df = df.append({'Email': email_current, 'Phone_number': phone_number_current}, ignore_index=True)\n",
            "<ipython-input-35-74fde92eadb9>:52: FutureWarning: The frame.append method is deprecated and will be removed from pandas in a future version. Use pandas.concat instead.\n",
            "  df = df.append({'Email': email_current, 'Phone_number': phone_number_current}, ignore_index=True)\n",
            "<ipython-input-35-74fde92eadb9>:52: FutureWarning: The frame.append method is deprecated and will be removed from pandas in a future version. Use pandas.concat instead.\n",
            "  df = df.append({'Email': email_current, 'Phone_number': phone_number_current}, ignore_index=True)\n",
            "<ipython-input-35-74fde92eadb9>:52: FutureWarning: The frame.append method is deprecated and will be removed from pandas in a future version. Use pandas.concat instead.\n",
            "  df = df.append({'Email': email_current, 'Phone_number': phone_number_current}, ignore_index=True)\n"
          ]
        },
        {
          "output_type": "stream",
          "name": "stdout",
          "text": [
            "['vbutoi@mit.edu'] []  has been extracted at iteration  1\n",
            "['michjc@csail.mit.edu'] []  has been extracted at iteration  1\n",
            "['FCAI@csail.mit.edu'] []  has been extracted at iteration  1\n",
            "['cail@mit.edu'] []  has been extracted at iteration  1\n"
          ]
        },
        {
          "output_type": "stream",
          "name": "stderr",
          "text": [
            "<ipython-input-35-74fde92eadb9>:52: FutureWarning: The frame.append method is deprecated and will be removed from pandas in a future version. Use pandas.concat instead.\n",
            "  df = df.append({'Email': email_current, 'Phone_number': phone_number_current}, ignore_index=True)\n",
            "<ipython-input-35-74fde92eadb9>:52: FutureWarning: The frame.append method is deprecated and will be removed from pandas in a future version. Use pandas.concat instead.\n",
            "  df = df.append({'Email': email_current, 'Phone_number': phone_number_current}, ignore_index=True)\n",
            "<ipython-input-35-74fde92eadb9>:52: FutureWarning: The frame.append method is deprecated and will be removed from pandas in a future version. Use pandas.concat instead.\n",
            "  df = df.append({'Email': email_current, 'Phone_number': phone_number_current}, ignore_index=True)\n",
            "<ipython-input-35-74fde92eadb9>:52: FutureWarning: The frame.append method is deprecated and will be removed from pandas in a future version. Use pandas.concat instead.\n",
            "  df = df.append({'Email': email_current, 'Phone_number': phone_number_current}, ignore_index=True)\n"
          ]
        },
        {
          "output_type": "stream",
          "name": "stdout",
          "text": [
            "['natecald@mit.edu'] []  has been extracted at iteration  1\n",
            "['rcalef@csail.mit.edu'] []  has been extracted at iteration  1\n",
            "['CBCZHANG@csail.mit.edu'] []  has been extracted at iteration  1\n",
            "['jlucas16@mit.edu'] []  has been extracted at iteration  1\n"
          ]
        },
        {
          "output_type": "stream",
          "name": "stderr",
          "text": [
            "<ipython-input-35-74fde92eadb9>:52: FutureWarning: The frame.append method is deprecated and will be removed from pandas in a future version. Use pandas.concat instead.\n",
            "  df = df.append({'Email': email_current, 'Phone_number': phone_number_current}, ignore_index=True)\n",
            "<ipython-input-35-74fde92eadb9>:52: FutureWarning: The frame.append method is deprecated and will be removed from pandas in a future version. Use pandas.concat instead.\n",
            "  df = df.append({'Email': email_current, 'Phone_number': phone_number_current}, ignore_index=True)\n",
            "<ipython-input-35-74fde92eadb9>:52: FutureWarning: The frame.append method is deprecated and will be removed from pandas in a future version. Use pandas.concat instead.\n",
            "  df = df.append({'Email': email_current, 'Phone_number': phone_number_current}, ignore_index=True)\n",
            "<ipython-input-35-74fde92eadb9>:52: FutureWarning: The frame.append method is deprecated and will be removed from pandas in a future version. Use pandas.concat instead.\n",
            "  df = df.append({'Email': email_current, 'Phone_number': phone_number_current}, ignore_index=True)\n"
          ]
        },
        {
          "output_type": "stream",
          "name": "stdout",
          "text": [
            "['spruce@mit.edu'] []  has been extracted at iteration  1\n",
            "['frankc@mit.edu'] []  has been extracted at iteration  1\n",
            "['tomascr@mit.edu'] []  has been extracted at iteration  1\n"
          ]
        },
        {
          "output_type": "stream",
          "name": "stderr",
          "text": [
            "<ipython-input-35-74fde92eadb9>:52: FutureWarning: The frame.append method is deprecated and will be removed from pandas in a future version. Use pandas.concat instead.\n",
            "  df = df.append({'Email': email_current, 'Phone_number': phone_number_current}, ignore_index=True)\n",
            "<ipython-input-35-74fde92eadb9>:52: FutureWarning: The frame.append method is deprecated and will be removed from pandas in a future version. Use pandas.concat instead.\n",
            "  df = df.append({'Email': email_current, 'Phone_number': phone_number_current}, ignore_index=True)\n",
            "<ipython-input-35-74fde92eadb9>:52: FutureWarning: The frame.append method is deprecated and will be removed from pandas in a future version. Use pandas.concat instead.\n",
            "  df = df.append({'Email': email_current, 'Phone_number': phone_number_current}, ignore_index=True)\n"
          ]
        },
        {
          "output_type": "stream",
          "name": "stdout",
          "text": [
            "['jingcao@mit.edu'] []  has been extracted at iteration  1\n",
            "['pengcao@csail.mit.edu'] []  has been extracted at iteration  1\n",
            "['ymcao@mit.edu'] []  has been extracted at iteration  1\n",
            "['caragay@mit.edu'] []  has been extracted at iteration  1\n"
          ]
        },
        {
          "output_type": "stream",
          "name": "stderr",
          "text": [
            "<ipython-input-35-74fde92eadb9>:52: FutureWarning: The frame.append method is deprecated and will be removed from pandas in a future version. Use pandas.concat instead.\n",
            "  df = df.append({'Email': email_current, 'Phone_number': phone_number_current}, ignore_index=True)\n",
            "<ipython-input-35-74fde92eadb9>:52: FutureWarning: The frame.append method is deprecated and will be removed from pandas in a future version. Use pandas.concat instead.\n",
            "  df = df.append({'Email': email_current, 'Phone_number': phone_number_current}, ignore_index=True)\n",
            "<ipython-input-35-74fde92eadb9>:52: FutureWarning: The frame.append method is deprecated and will be removed from pandas in a future version. Use pandas.concat instead.\n",
            "  df = df.append({'Email': email_current, 'Phone_number': phone_number_current}, ignore_index=True)\n",
            "<ipython-input-35-74fde92eadb9>:52: FutureWarning: The frame.append method is deprecated and will be removed from pandas in a future version. Use pandas.concat instead.\n",
            "  df = df.append({'Email': email_current, 'Phone_number': phone_number_current}, ignore_index=True)\n"
          ]
        },
        {
          "output_type": "stream",
          "name": "stdout",
          "text": [
            "['mcarbin@csail.mit.edu'] ['253-5881']  has been extracted at iteration  1\n",
            "['Lcarlone@mit.edu'] []  has been extracted at iteration  1\n",
            "['bcarter@csail.mit.edu'] []  has been extracted at iteration  1\n",
            "['rcastro@mit.edu'] []  has been extracted at iteration  1\n"
          ]
        },
        {
          "output_type": "stream",
          "name": "stderr",
          "text": [
            "<ipython-input-35-74fde92eadb9>:52: FutureWarning: The frame.append method is deprecated and will be removed from pandas in a future version. Use pandas.concat instead.\n",
            "  df = df.append({'Email': email_current, 'Phone_number': phone_number_current}, ignore_index=True)\n",
            "<ipython-input-35-74fde92eadb9>:52: FutureWarning: The frame.append method is deprecated and will be removed from pandas in a future version. Use pandas.concat instead.\n",
            "  df = df.append({'Email': email_current, 'Phone_number': phone_number_current}, ignore_index=True)\n",
            "<ipython-input-35-74fde92eadb9>:52: FutureWarning: The frame.append method is deprecated and will be removed from pandas in a future version. Use pandas.concat instead.\n",
            "  df = df.append({'Email': email_current, 'Phone_number': phone_number_current}, ignore_index=True)\n",
            "<ipython-input-35-74fde92eadb9>:52: FutureWarning: The frame.append method is deprecated and will be removed from pandas in a future version. Use pandas.concat instead.\n",
            "  df = df.append({'Email': email_current, 'Phone_number': phone_number_current}, ignore_index=True)\n"
          ]
        },
        {
          "output_type": "stream",
          "name": "stdout",
          "text": [
            "['gcaz@mit.edu'] []  has been extracted at iteration  1\n",
            "['jcen@mit.edu'] ['324-4268']  has been extracted at iteration  1\n",
            "['shcen@mit.edu'] []  has been extracted at iteration  1\n",
            "['SCERON@mit.edu'] []  has been extracted at iteration  1\n"
          ]
        },
        {
          "output_type": "stream",
          "name": "stderr",
          "text": [
            "<ipython-input-35-74fde92eadb9>:52: FutureWarning: The frame.append method is deprecated and will be removed from pandas in a future version. Use pandas.concat instead.\n",
            "  df = df.append({'Email': email_current, 'Phone_number': phone_number_current}, ignore_index=True)\n",
            "<ipython-input-35-74fde92eadb9>:52: FutureWarning: The frame.append method is deprecated and will be removed from pandas in a future version. Use pandas.concat instead.\n",
            "  df = df.append({'Email': email_current, 'Phone_number': phone_number_current}, ignore_index=True)\n",
            "<ipython-input-35-74fde92eadb9>:52: FutureWarning: The frame.append method is deprecated and will be removed from pandas in a future version. Use pandas.concat instead.\n",
            "  df = df.append({'Email': email_current, 'Phone_number': phone_number_current}, ignore_index=True)\n",
            "<ipython-input-35-74fde92eadb9>:52: FutureWarning: The frame.append method is deprecated and will be removed from pandas in a future version. Use pandas.concat instead.\n",
            "  df = df.append({'Email': email_current, 'Phone_number': phone_number_current}, ignore_index=True)\n"
          ]
        },
        {
          "output_type": "stream",
          "name": "stdout",
          "text": [
            "['echabane@mit.edu'] []  has been extracted at iteration  1\n",
            "['CHAENAYO@csail.mit.edu'] []  has been extracted at iteration  1\n",
            "['chahine@mit.edu'] []  has been extracted at iteration  1\n",
            "['lrchai@mit.edu'] []  has been extracted at iteration  1\n"
          ]
        },
        {
          "output_type": "stream",
          "name": "stderr",
          "text": [
            "<ipython-input-35-74fde92eadb9>:52: FutureWarning: The frame.append method is deprecated and will be removed from pandas in a future version. Use pandas.concat instead.\n",
            "  df = df.append({'Email': email_current, 'Phone_number': phone_number_current}, ignore_index=True)\n",
            "<ipython-input-35-74fde92eadb9>:52: FutureWarning: The frame.append method is deprecated and will be removed from pandas in a future version. Use pandas.concat instead.\n",
            "  df = df.append({'Email': email_current, 'Phone_number': phone_number_current}, ignore_index=True)\n",
            "<ipython-input-35-74fde92eadb9>:52: FutureWarning: The frame.append method is deprecated and will be removed from pandas in a future version. Use pandas.concat instead.\n",
            "  df = df.append({'Email': email_current, 'Phone_number': phone_number_current}, ignore_index=True)\n",
            "<ipython-input-35-74fde92eadb9>:52: FutureWarning: The frame.append method is deprecated and will be removed from pandas in a future version. Use pandas.concat instead.\n",
            "  df = df.append({'Email': email_current, 'Phone_number': phone_number_current}, ignore_index=True)\n"
          ]
        },
        {
          "output_type": "stream",
          "name": "stdout",
          "text": [
            "['harshalc@csail.mit.edu'] []  has been extracted at iteration  1\n",
            "['ADELENE@csail.mit.edu'] []  has been extracted at iteration  1\n",
            "['cmchan@mit.edu'] []  has been extracted at iteration  1\n",
            "['martinch@mit.edu'] []  has been extracted at iteration  1\n"
          ]
        },
        {
          "output_type": "stream",
          "name": "stderr",
          "text": [
            "<ipython-input-35-74fde92eadb9>:52: FutureWarning: The frame.append method is deprecated and will be removed from pandas in a future version. Use pandas.concat instead.\n",
            "  df = df.append({'Email': email_current, 'Phone_number': phone_number_current}, ignore_index=True)\n",
            "<ipython-input-35-74fde92eadb9>:52: FutureWarning: The frame.append method is deprecated and will be removed from pandas in a future version. Use pandas.concat instead.\n",
            "  df = df.append({'Email': email_current, 'Phone_number': phone_number_current}, ignore_index=True)\n",
            "<ipython-input-35-74fde92eadb9>:52: FutureWarning: The frame.append method is deprecated and will be removed from pandas in a future version. Use pandas.concat instead.\n",
            "  df = df.append({'Email': email_current, 'Phone_number': phone_number_current}, ignore_index=True)\n",
            "<ipython-input-35-74fde92eadb9>:52: FutureWarning: The frame.append method is deprecated and will be removed from pandas in a future version. Use pandas.concat instead.\n",
            "  df = df.append({'Email': email_current, 'Phone_number': phone_number_current}, ignore_index=True)\n"
          ]
        },
        {
          "output_type": "stream",
          "name": "stdout",
          "text": [
            "['jchand@csail.mit.edu'] []  has been extracted at iteration  1\n",
            "['kach@mit.edu'] []  has been extracted at iteration  1\n",
            "['deanofengineering@mit.edu'] []  has been extracted at iteration  1\n",
            "['chandratreya@csail.mit.edu'] []  has been extracted at iteration  1\n"
          ]
        },
        {
          "output_type": "stream",
          "name": "stderr",
          "text": [
            "<ipython-input-35-74fde92eadb9>:52: FutureWarning: The frame.append method is deprecated and will be removed from pandas in a future version. Use pandas.concat instead.\n",
            "  df = df.append({'Email': email_current, 'Phone_number': phone_number_current}, ignore_index=True)\n",
            "<ipython-input-35-74fde92eadb9>:52: FutureWarning: The frame.append method is deprecated and will be removed from pandas in a future version. Use pandas.concat instead.\n",
            "  df = df.append({'Email': email_current, 'Phone_number': phone_number_current}, ignore_index=True)\n",
            "<ipython-input-35-74fde92eadb9>:52: FutureWarning: The frame.append method is deprecated and will be removed from pandas in a future version. Use pandas.concat instead.\n",
            "  df = df.append({'Email': email_current, 'Phone_number': phone_number_current}, ignore_index=True)\n",
            "<ipython-input-35-74fde92eadb9>:52: FutureWarning: The frame.append method is deprecated and will be removed from pandas in a future version. Use pandas.concat instead.\n",
            "  df = df.append({'Email': email_current, 'Phone_number': phone_number_current}, ignore_index=True)\n"
          ]
        },
        {
          "output_type": "stream",
          "name": "stdout",
          "text": [
            "['lucchang@mit.edu'] ['253-0306']  has been extracted at iteration  1\n",
            "['cwchang@mit.edu'] []  has been extracted at iteration  1\n",
            "['ckchang@mit.edu'] []  has been extracted at iteration  1\n",
            "['hengjui@mit.edu'] []  has been extracted at iteration  1\n"
          ]
        },
        {
          "output_type": "stream",
          "name": "stderr",
          "text": [
            "<ipython-input-35-74fde92eadb9>:52: FutureWarning: The frame.append method is deprecated and will be removed from pandas in a future version. Use pandas.concat instead.\n",
            "  df = df.append({'Email': email_current, 'Phone_number': phone_number_current}, ignore_index=True)\n",
            "<ipython-input-35-74fde92eadb9>:52: FutureWarning: The frame.append method is deprecated and will be removed from pandas in a future version. Use pandas.concat instead.\n",
            "  df = df.append({'Email': email_current, 'Phone_number': phone_number_current}, ignore_index=True)\n",
            "<ipython-input-35-74fde92eadb9>:52: FutureWarning: The frame.append method is deprecated and will be removed from pandas in a future version. Use pandas.concat instead.\n",
            "  df = df.append({'Email': email_current, 'Phone_number': phone_number_current}, ignore_index=True)\n",
            "<ipython-input-35-74fde92eadb9>:52: FutureWarning: The frame.append method is deprecated and will be removed from pandas in a future version. Use pandas.concat instead.\n",
            "  df = df.append({'Email': email_current, 'Phone_number': phone_number_current}, ignore_index=True)\n"
          ]
        },
        {
          "output_type": "stream",
          "name": "stdout",
          "text": [
            "['rychang@csail.mit.edu'] []  has been extracted at iteration  1\n",
            "['yschang@mit.edu'] []  has been extracted at iteration  1\n",
            "['alecchap@mit.edu'] []  has been extracted at iteration  1\n",
            "['charatan@mit.edu'] []  has been extracted at iteration  1\n"
          ]
        },
        {
          "output_type": "stream",
          "name": "stderr",
          "text": [
            "<ipython-input-35-74fde92eadb9>:52: FutureWarning: The frame.append method is deprecated and will be removed from pandas in a future version. Use pandas.concat instead.\n",
            "  df = df.append({'Email': email_current, 'Phone_number': phone_number_current}, ignore_index=True)\n",
            "<ipython-input-35-74fde92eadb9>:52: FutureWarning: The frame.append method is deprecated and will be removed from pandas in a future version. Use pandas.concat instead.\n",
            "  df = df.append({'Email': email_current, 'Phone_number': phone_number_current}, ignore_index=True)\n",
            "<ipython-input-35-74fde92eadb9>:52: FutureWarning: The frame.append method is deprecated and will be removed from pandas in a future version. Use pandas.concat instead.\n",
            "  df = df.append({'Email': email_current, 'Phone_number': phone_number_current}, ignore_index=True)\n",
            "<ipython-input-35-74fde92eadb9>:52: FutureWarning: The frame.append method is deprecated and will be removed from pandas in a future version. Use pandas.concat instead.\n",
            "  df = df.append({'Email': email_current, 'Phone_number': phone_number_current}, ignore_index=True)\n"
          ]
        },
        {
          "output_type": "stream",
          "name": "stdout",
          "text": [
            "['echau@mit.edu'] []  has been extracted at iteration  1\n",
            "['geeticka@mit.edu'] []  has been extracted at iteration  1\n",
            "['anbochen@mit.edu'] []  has been extracted at iteration  1\n",
            "['boyuanc@mit.edu'] []  has been extracted at iteration  1\n"
          ]
        },
        {
          "output_type": "stream",
          "name": "stderr",
          "text": [
            "<ipython-input-35-74fde92eadb9>:52: FutureWarning: The frame.append method is deprecated and will be removed from pandas in a future version. Use pandas.concat instead.\n",
            "  df = df.append({'Email': email_current, 'Phone_number': phone_number_current}, ignore_index=True)\n",
            "<ipython-input-35-74fde92eadb9>:52: FutureWarning: The frame.append method is deprecated and will be removed from pandas in a future version. Use pandas.concat instead.\n",
            "  df = df.append({'Email': email_current, 'Phone_number': phone_number_current}, ignore_index=True)\n",
            "<ipython-input-35-74fde92eadb9>:52: FutureWarning: The frame.append method is deprecated and will be removed from pandas in a future version. Use pandas.concat instead.\n",
            "  df = df.append({'Email': email_current, 'Phone_number': phone_number_current}, ignore_index=True)\n",
            "<ipython-input-35-74fde92eadb9>:52: FutureWarning: The frame.append method is deprecated and will be removed from pandas in a future version. Use pandas.concat instead.\n",
            "  df = df.append({'Email': email_current, 'Phone_number': phone_number_current}, ignore_index=True)\n"
          ]
        },
        {
          "output_type": "stream",
          "name": "stdout",
          "text": [
            "['emichen@mit.edu'] []  has been extracted at iteration  1\n",
            "['ERIC25@csail.mit.edu'] []  has been extracted at iteration  1\n",
            "['jackyc@mit.edu'] []  has been extracted at iteration  1\n",
            "['ceff@mit.edu'] []  has been extracted at iteration  1\n"
          ]
        },
        {
          "output_type": "stream",
          "name": "stderr",
          "text": [
            "<ipython-input-35-74fde92eadb9>:52: FutureWarning: The frame.append method is deprecated and will be removed from pandas in a future version. Use pandas.concat instead.\n",
            "  df = df.append({'Email': email_current, 'Phone_number': phone_number_current}, ignore_index=True)\n",
            "<ipython-input-35-74fde92eadb9>:52: FutureWarning: The frame.append method is deprecated and will be removed from pandas in a future version. Use pandas.concat instead.\n",
            "  df = df.append({'Email': email_current, 'Phone_number': phone_number_current}, ignore_index=True)\n",
            "<ipython-input-35-74fde92eadb9>:52: FutureWarning: The frame.append method is deprecated and will be removed from pandas in a future version. Use pandas.concat instead.\n",
            "  df = df.append({'Email': email_current, 'Phone_number': phone_number_current}, ignore_index=True)\n",
            "<ipython-input-35-74fde92eadb9>:52: FutureWarning: The frame.append method is deprecated and will be removed from pandas in a future version. Use pandas.concat instead.\n",
            "  df = df.append({'Email': email_current, 'Phone_number': phone_number_current}, ignore_index=True)\n"
          ]
        },
        {
          "output_type": "stream",
          "name": "stdout",
          "text": [
            "['justc@mit.edu'] []  has been extracted at iteration  1\n",
            "['chenl9@mit.edu'] []  has been extracted at iteration  1\n",
            "['l1ly@mit.edu'] []  has been extracted at iteration  1\n"
          ]
        },
        {
          "output_type": "stream",
          "name": "stderr",
          "text": [
            "<ipython-input-35-74fde92eadb9>:52: FutureWarning: The frame.append method is deprecated and will be removed from pandas in a future version. Use pandas.concat instead.\n",
            "  df = df.append({'Email': email_current, 'Phone_number': phone_number_current}, ignore_index=True)\n",
            "<ipython-input-35-74fde92eadb9>:52: FutureWarning: The frame.append method is deprecated and will be removed from pandas in a future version. Use pandas.concat instead.\n",
            "  df = df.append({'Email': email_current, 'Phone_number': phone_number_current}, ignore_index=True)\n",
            "<ipython-input-35-74fde92eadb9>:52: FutureWarning: The frame.append method is deprecated and will be removed from pandas in a future version. Use pandas.concat instead.\n",
            "  df = df.append({'Email': email_current, 'Phone_number': phone_number_current}, ignore_index=True)\n"
          ]
        },
        {
          "output_type": "stream",
          "name": "stdout",
          "text": [
            "['peterbc@mit.edu'] []  has been extracted at iteration  1\n",
            "['pyc@csail.mit.edu'] []  has been extracted at iteration  1\n",
            "['CHENQH23@csail.mit.edu'] []  has been extracted at iteration  1\n"
          ]
        },
        {
          "output_type": "stream",
          "name": "stderr",
          "text": [
            "<ipython-input-35-74fde92eadb9>:52: FutureWarning: The frame.append method is deprecated and will be removed from pandas in a future version. Use pandas.concat instead.\n",
            "  df = df.append({'Email': email_current, 'Phone_number': phone_number_current}, ignore_index=True)\n",
            "<ipython-input-35-74fde92eadb9>:52: FutureWarning: The frame.append method is deprecated and will be removed from pandas in a future version. Use pandas.concat instead.\n",
            "  df = df.append({'Email': email_current, 'Phone_number': phone_number_current}, ignore_index=True)\n",
            "<ipython-input-35-74fde92eadb9>:52: FutureWarning: The frame.append method is deprecated and will be removed from pandas in a future version. Use pandas.concat instead.\n",
            "  df = df.append({'Email': email_current, 'Phone_number': phone_number_current}, ignore_index=True)\n"
          ]
        },
        {
          "output_type": "stream",
          "name": "stdout",
          "text": [
            "['RICHEN@csail.mit.edu'] []  has been extracted at iteration  1\n",
            "['taochen@mit.edu'] []  has been extracted at iteration  1\n",
            "['tianlong@csail.mit.edu'] []  has been extracted at iteration  1\n"
          ]
        },
        {
          "output_type": "stream",
          "name": "stderr",
          "text": [
            "<ipython-input-35-74fde92eadb9>:52: FutureWarning: The frame.append method is deprecated and will be removed from pandas in a future version. Use pandas.concat instead.\n",
            "  df = df.append({'Email': email_current, 'Phone_number': phone_number_current}, ignore_index=True)\n",
            "<ipython-input-35-74fde92eadb9>:52: FutureWarning: The frame.append method is deprecated and will be removed from pandas in a future version. Use pandas.concat instead.\n",
            "  df = df.append({'Email': email_current, 'Phone_number': phone_number_current}, ignore_index=True)\n",
            "<ipython-input-35-74fde92eadb9>:52: FutureWarning: The frame.append method is deprecated and will be removed from pandas in a future version. Use pandas.concat instead.\n",
            "  df = df.append({'Email': email_current, 'Phone_number': phone_number_current}, ignore_index=True)\n"
          ]
        },
        {
          "output_type": "stream",
          "name": "stdout",
          "text": [
            "['ychen306@mit.edu'] []  has been extracted at iteration  1\n",
            "['vkchen@mit.edu'] []  has been extracted at iteration  1\n",
            "['wenqiang@mit.edu'] []  has been extracted at iteration  1\n"
          ]
        },
        {
          "output_type": "stream",
          "name": "stderr",
          "text": [
            "<ipython-input-35-74fde92eadb9>:52: FutureWarning: The frame.append method is deprecated and will be removed from pandas in a future version. Use pandas.concat instead.\n",
            "  df = df.append({'Email': email_current, 'Phone_number': phone_number_current}, ignore_index=True)\n",
            "<ipython-input-35-74fde92eadb9>:52: FutureWarning: The frame.append method is deprecated and will be removed from pandas in a future version. Use pandas.concat instead.\n",
            "  df = df.append({'Email': email_current, 'Phone_number': phone_number_current}, ignore_index=True)\n",
            "<ipython-input-35-74fde92eadb9>:52: FutureWarning: The frame.append method is deprecated and will be removed from pandas in a future version. Use pandas.concat instead.\n",
            "  df = df.append({'Email': email_current, 'Phone_number': phone_number_current}, ignore_index=True)\n"
          ]
        },
        {
          "output_type": "stream",
          "name": "stdout",
          "text": [
            "['cxh@mit.edu'] []  has been extracted at iteration  1\n",
            "['cyzzz@mit.edu'] []  has been extracted at iteration  1\n",
            "['chenz429@mit.edu'] []  has been extracted at iteration  1\n"
          ]
        },
        {
          "output_type": "stream",
          "name": "stderr",
          "text": [
            "<ipython-input-35-74fde92eadb9>:52: FutureWarning: The frame.append method is deprecated and will be removed from pandas in a future version. Use pandas.concat instead.\n",
            "  df = df.append({'Email': email_current, 'Phone_number': phone_number_current}, ignore_index=True)\n",
            "<ipython-input-35-74fde92eadb9>:52: FutureWarning: The frame.append method is deprecated and will be removed from pandas in a future version. Use pandas.concat instead.\n",
            "  df = df.append({'Email': email_current, 'Phone_number': phone_number_current}, ignore_index=True)\n",
            "<ipython-input-35-74fde92eadb9>:52: FutureWarning: The frame.append method is deprecated and will be removed from pandas in a future version. Use pandas.concat instead.\n",
            "  df = df.append({'Email': email_current, 'Phone_number': phone_number_current}, ignore_index=True)\n"
          ]
        },
        {
          "output_type": "stream",
          "name": "stdout",
          "text": [
            "['ellieyhc@mit.edu'] []  has been extracted at iteration  1\n",
            "['nadiia@mit.edu'] []  has been extracted at iteration  1\n",
            "['YC@csail.mit.edu'] []  has been extracted at iteration  1\n"
          ]
        },
        {
          "output_type": "stream",
          "name": "stderr",
          "text": [
            "<ipython-input-35-74fde92eadb9>:52: FutureWarning: The frame.append method is deprecated and will be removed from pandas in a future version. Use pandas.concat instead.\n",
            "  df = df.append({'Email': email_current, 'Phone_number': phone_number_current}, ignore_index=True)\n",
            "<ipython-input-35-74fde92eadb9>:52: FutureWarning: The frame.append method is deprecated and will be removed from pandas in a future version. Use pandas.concat instead.\n",
            "  df = df.append({'Email': email_current, 'Phone_number': phone_number_current}, ignore_index=True)\n",
            "<ipython-input-35-74fde92eadb9>:52: FutureWarning: The frame.append method is deprecated and will be removed from pandas in a future version. Use pandas.concat instead.\n",
            "  df = df.append({'Email': email_current, 'Phone_number': phone_number_current}, ignore_index=True)\n"
          ]
        },
        {
          "output_type": "stream",
          "name": "stdout",
          "text": [
            "['dchheda@mit.edu'] []  has been extracted at iteration  1\n",
            "['guanyich@csail.mit.edu'] []  has been extracted at iteration  1\n",
            "['AACHIN@csail.mit.edu'] []  has been extracted at iteration  1\n"
          ]
        },
        {
          "output_type": "stream",
          "name": "stderr",
          "text": [
            "<ipython-input-35-74fde92eadb9>:52: FutureWarning: The frame.append method is deprecated and will be removed from pandas in a future version. Use pandas.concat instead.\n",
            "  df = df.append({'Email': email_current, 'Phone_number': phone_number_current}, ignore_index=True)\n",
            "<ipython-input-35-74fde92eadb9>:52: FutureWarning: The frame.append method is deprecated and will be removed from pandas in a future version. Use pandas.concat instead.\n",
            "  df = df.append({'Email': email_current, 'Phone_number': phone_number_current}, ignore_index=True)\n",
            "<ipython-input-35-74fde92eadb9>:52: FutureWarning: The frame.append method is deprecated and will be removed from pandas in a future version. Use pandas.concat instead.\n",
            "  df = df.append({'Email': email_current, 'Phone_number': phone_number_current}, ignore_index=True)\n"
          ]
        },
        {
          "output_type": "stream",
          "name": "stdout",
          "text": [
            "['ltchin@mit.edu'] []  has been extracted at iteration  1\n",
            "['itamarc@csail.mit.edu'] []  has been extracted at iteration  1\n",
            "['premc@mit.edu'] []  has been extracted at iteration  1\n"
          ]
        },
        {
          "output_type": "stream",
          "name": "stderr",
          "text": [
            "<ipython-input-35-74fde92eadb9>:52: FutureWarning: The frame.append method is deprecated and will be removed from pandas in a future version. Use pandas.concat instead.\n",
            "  df = df.append({'Email': email_current, 'Phone_number': phone_number_current}, ignore_index=True)\n",
            "<ipython-input-35-74fde92eadb9>:52: FutureWarning: The frame.append method is deprecated and will be removed from pandas in a future version. Use pandas.concat instead.\n",
            "  df = df.append({'Email': email_current, 'Phone_number': phone_number_current}, ignore_index=True)\n",
            "<ipython-input-35-74fde92eadb9>:52: FutureWarning: The frame.append method is deprecated and will be removed from pandas in a future version. Use pandas.concat instead.\n",
            "  df = df.append({'Email': email_current, 'Phone_number': phone_number_current}, ignore_index=True)\n"
          ]
        },
        {
          "output_type": "stream",
          "name": "stdout",
          "text": [
            "['sahit@mit.edu'] []  has been extracted at iteration  1\n",
            "['adamc@csail.mit.edu'] ['324-8439']  has been extracted at iteration  1\n",
            "['inhocho@csail.mit.edu'] []  has been extracted at iteration  1\n"
          ]
        },
        {
          "output_type": "stream",
          "name": "stderr",
          "text": [
            "<ipython-input-35-74fde92eadb9>:52: FutureWarning: The frame.append method is deprecated and will be removed from pandas in a future version. Use pandas.concat instead.\n",
            "  df = df.append({'Email': email_current, 'Phone_number': phone_number_current}, ignore_index=True)\n",
            "<ipython-input-35-74fde92eadb9>:52: FutureWarning: The frame.append method is deprecated and will be removed from pandas in a future version. Use pandas.concat instead.\n",
            "  df = df.append({'Email': email_current, 'Phone_number': phone_number_current}, ignore_index=True)\n",
            "<ipython-input-35-74fde92eadb9>:52: FutureWarning: The frame.append method is deprecated and will be removed from pandas in a future version. Use pandas.concat instead.\n",
            "  df = df.append({'Email': email_current, 'Phone_number': phone_number_current}, ignore_index=True)\n"
          ]
        },
        {
          "output_type": "stream",
          "name": "stdout",
          "text": [
            "['joonhyuk@mit.edu'] []  has been extracted at iteration  1\n",
            "['EUNICEC@csail.mit.edu'] []  has been extracted at iteration  1\n",
            "['choie@csail.mit.edu'] []  has been extracted at iteration  1\n"
          ]
        },
        {
          "output_type": "stream",
          "name": "stderr",
          "text": [
            "<ipython-input-35-74fde92eadb9>:52: FutureWarning: The frame.append method is deprecated and will be removed from pandas in a future version. Use pandas.concat instead.\n",
            "  df = df.append({'Email': email_current, 'Phone_number': phone_number_current}, ignore_index=True)\n",
            "<ipython-input-35-74fde92eadb9>:52: FutureWarning: The frame.append method is deprecated and will be removed from pandas in a future version. Use pandas.concat instead.\n",
            "  df = df.append({'Email': email_current, 'Phone_number': phone_number_current}, ignore_index=True)\n",
            "<ipython-input-35-74fde92eadb9>:52: FutureWarning: The frame.append method is deprecated and will be removed from pandas in a future version. Use pandas.concat instead.\n",
            "  df = df.append({'Email': email_current, 'Phone_number': phone_number_current}, ignore_index=True)\n"
          ]
        },
        {
          "output_type": "stream",
          "name": "stdout",
          "text": [
            "['joonwonc@mit.edu'] []  has been extracted at iteration  1\n",
            "['chemgyu@csail.mit.edu'] []  has been extracted at iteration  1\n",
            "['RANCH0@csail.mit.edu'] []  has been extracted at iteration  1\n"
          ]
        },
        {
          "output_type": "stream",
          "name": "stderr",
          "text": [
            "<ipython-input-35-74fde92eadb9>:52: FutureWarning: The frame.append method is deprecated and will be removed from pandas in a future version. Use pandas.concat instead.\n",
            "  df = df.append({'Email': email_current, 'Phone_number': phone_number_current}, ignore_index=True)\n",
            "<ipython-input-35-74fde92eadb9>:52: FutureWarning: The frame.append method is deprecated and will be removed from pandas in a future version. Use pandas.concat instead.\n",
            "  df = df.append({'Email': email_current, 'Phone_number': phone_number_current}, ignore_index=True)\n",
            "<ipython-input-35-74fde92eadb9>:52: FutureWarning: The frame.append method is deprecated and will be removed from pandas in a future version. Use pandas.concat instead.\n",
            "  df = df.append({'Email': email_current, 'Phone_number': phone_number_current}, ignore_index=True)\n"
          ]
        },
        {
          "output_type": "stream",
          "name": "stdout",
          "text": [
            "['sukwoong@mit.edu'] []  has been extracted at iteration  1\n",
            "['GCHOU@mit.edu'] []  has been extracted at iteration  1\n",
            "['nchow@mit.edu'] []  has been extracted at iteration  1\n"
          ]
        },
        {
          "output_type": "stream",
          "name": "stderr",
          "text": [
            "<ipython-input-35-74fde92eadb9>:52: FutureWarning: The frame.append method is deprecated and will be removed from pandas in a future version. Use pandas.concat instead.\n",
            "  df = df.append({'Email': email_current, 'Phone_number': phone_number_current}, ignore_index=True)\n",
            "<ipython-input-35-74fde92eadb9>:52: FutureWarning: The frame.append method is deprecated and will be removed from pandas in a future version. Use pandas.concat instead.\n",
            "  df = df.append({'Email': email_current, 'Phone_number': phone_number_current}, ignore_index=True)\n",
            "<ipython-input-35-74fde92eadb9>:52: FutureWarning: The frame.append method is deprecated and will be removed from pandas in a future version. Use pandas.concat instead.\n",
            "  df = df.append({'Email': email_current, 'Phone_number': phone_number_current}, ignore_index=True)\n"
          ]
        },
        {
          "output_type": "stream",
          "name": "stdout",
          "text": [
            "['philljkc@mit.edu'] []  has been extracted at iteration  1\n",
            "['jschu99@mit.edu'] []  has been extracted at iteration  1\n",
            "['cychuang@MIT.EDU'] []  has been extracted at iteration  1\n"
          ]
        },
        {
          "output_type": "stream",
          "name": "stderr",
          "text": [
            "<ipython-input-35-74fde92eadb9>:52: FutureWarning: The frame.append method is deprecated and will be removed from pandas in a future version. Use pandas.concat instead.\n",
            "  df = df.append({'Email': email_current, 'Phone_number': phone_number_current}, ignore_index=True)\n",
            "<ipython-input-35-74fde92eadb9>:52: FutureWarning: The frame.append method is deprecated and will be removed from pandas in a future version. Use pandas.concat instead.\n",
            "  df = df.append({'Email': email_current, 'Phone_number': phone_number_current}, ignore_index=True)\n",
            "<ipython-input-35-74fde92eadb9>:52: FutureWarning: The frame.append method is deprecated and will be removed from pandas in a future version. Use pandas.concat instead.\n",
            "  df = df.append({'Email': email_current, 'Phone_number': phone_number_current}, ignore_index=True)\n"
          ]
        },
        {
          "output_type": "stream",
          "name": "stdout",
          "text": [
            "['yungsung@mit.edu'] []  has been extracted at iteration  1\n",
            "['ikdc@mit.edu'] []  has been extracted at iteration  1\n",
            "['vchuravy@MIT.EDU'] []  has been extracted at iteration  1\n"
          ]
        },
        {
          "output_type": "stream",
          "name": "stderr",
          "text": [
            "<ipython-input-35-74fde92eadb9>:52: FutureWarning: The frame.append method is deprecated and will be removed from pandas in a future version. Use pandas.concat instead.\n",
            "  df = df.append({'Email': email_current, 'Phone_number': phone_number_current}, ignore_index=True)\n",
            "<ipython-input-35-74fde92eadb9>:52: FutureWarning: The frame.append method is deprecated and will be removed from pandas in a future version. Use pandas.concat instead.\n",
            "  df = df.append({'Email': email_current, 'Phone_number': phone_number_current}, ignore_index=True)\n",
            "<ipython-input-35-74fde92eadb9>:52: FutureWarning: The frame.append method is deprecated and will be removed from pandas in a future version. Use pandas.concat instead.\n",
            "  df = df.append({'Email': email_current, 'Phone_number': phone_number_current}, ignore_index=True)\n"
          ]
        },
        {
          "output_type": "stream",
          "name": "stdout",
          "text": [
            "['bcieslar@csail.mit.edu'] []  has been extracted at iteration  1\n",
            "['ddc@csail.mit.edu'] ['253-6003']  has been extracted at iteration  1\n"
          ]
        },
        {
          "output_type": "stream",
          "name": "stderr",
          "text": [
            "<ipython-input-35-74fde92eadb9>:52: FutureWarning: The frame.append method is deprecated and will be removed from pandas in a future version. Use pandas.concat instead.\n",
            "  df = df.append({'Email': email_current, 'Phone_number': phone_number_current}, ignore_index=True)\n",
            "<ipython-input-35-74fde92eadb9>:52: FutureWarning: The frame.append method is deprecated and will be removed from pandas in a future version. Use pandas.concat instead.\n",
            "  df = df.append({'Email': email_current, 'Phone_number': phone_number_current}, ignore_index=True)\n"
          ]
        },
        {
          "output_type": "stream",
          "name": "stdout",
          "text": [
            "['acloss@csail.mit.edu'] []  has been extracted at iteration  1\n",
            "['cataldo@csail.mit.edu'] ['452-5005']  has been extracted at iteration  1\n",
            "['bencw@csail.mit.edu'] []  has been extracted at iteration  1\n"
          ]
        },
        {
          "output_type": "stream",
          "name": "stderr",
          "text": [
            "<ipython-input-35-74fde92eadb9>:52: FutureWarning: The frame.append method is deprecated and will be removed from pandas in a future version. Use pandas.concat instead.\n",
            "  df = df.append({'Email': email_current, 'Phone_number': phone_number_current}, ignore_index=True)\n",
            "<ipython-input-35-74fde92eadb9>:52: FutureWarning: The frame.append method is deprecated and will be removed from pandas in a future version. Use pandas.concat instead.\n",
            "  df = df.append({'Email': email_current, 'Phone_number': phone_number_current}, ignore_index=True)\n",
            "<ipython-input-35-74fde92eadb9>:52: FutureWarning: The frame.append method is deprecated and will be removed from pandas in a future version. Use pandas.concat instead.\n",
            "  df = df.append({'Email': email_current, 'Phone_number': phone_number_current}, ignore_index=True)\n"
          ]
        },
        {
          "output_type": "stream",
          "name": "stdout",
          "text": [
            "['tcohn@mit.edu'] []  has been extracted at iteration  1\n",
            "['teoc@MIT.EDU'] []  has been extracted at iteration  1\n",
            "['chadcoll@mit.edu'] ['452-2309']  has been extracted at iteration  1\n"
          ]
        },
        {
          "output_type": "stream",
          "name": "stderr",
          "text": [
            "<ipython-input-35-74fde92eadb9>:52: FutureWarning: The frame.append method is deprecated and will be removed from pandas in a future version. Use pandas.concat instead.\n",
            "  df = df.append({'Email': email_current, 'Phone_number': phone_number_current}, ignore_index=True)\n",
            "<ipython-input-35-74fde92eadb9>:52: FutureWarning: The frame.append method is deprecated and will be removed from pandas in a future version. Use pandas.concat instead.\n",
            "  df = df.append({'Email': email_current, 'Phone_number': phone_number_current}, ignore_index=True)\n",
            "<ipython-input-35-74fde92eadb9>:52: FutureWarning: The frame.append method is deprecated and will be removed from pandas in a future version. Use pandas.concat instead.\n",
            "  df = df.append({'Email': email_current, 'Phone_number': phone_number_current}, ignore_index=True)\n"
          ]
        },
        {
          "output_type": "stream",
          "name": "stdout",
          "text": [
            "['aidcol@mit.edu'] []  has been extracted at iteration  217\n",
            "['cfcon10@mit.edu'] []  has been extracted at iteration  217\n"
          ]
        },
        {
          "output_type": "stream",
          "name": "stderr",
          "text": [
            "<ipython-input-35-74fde92eadb9>:52: FutureWarning: The frame.append method is deprecated and will be removed from pandas in a future version. Use pandas.concat instead.\n",
            "  df = df.append({'Email': email_current, 'Phone_number': phone_number_current}, ignore_index=True)\n",
            "<ipython-input-35-74fde92eadb9>:52: FutureWarning: The frame.append method is deprecated and will be removed from pandas in a future version. Use pandas.concat instead.\n",
            "  df = df.append({'Email': email_current, 'Phone_number': phone_number_current}, ignore_index=True)\n"
          ]
        },
        {
          "output_type": "stream",
          "name": "stdout",
          "text": [
            "['owenc@mit.edu'] []  has been extracted at iteration  217\n",
            "['cookj@mit.edu'] []  has been extracted at iteration  217\n",
            "['j8675309@csail.mit.edu'] []  has been extracted at iteration  217\n"
          ]
        },
        {
          "output_type": "stream",
          "name": "stderr",
          "text": [
            "<ipython-input-35-74fde92eadb9>:52: FutureWarning: The frame.append method is deprecated and will be removed from pandas in a future version. Use pandas.concat instead.\n",
            "  df = df.append({'Email': email_current, 'Phone_number': phone_number_current}, ignore_index=True)\n",
            "<ipython-input-35-74fde92eadb9>:52: FutureWarning: The frame.append method is deprecated and will be removed from pandas in a future version. Use pandas.concat instead.\n",
            "  df = df.append({'Email': email_current, 'Phone_number': phone_number_current}, ignore_index=True)\n",
            "<ipython-input-35-74fde92eadb9>:52: FutureWarning: The frame.append method is deprecated and will be removed from pandas in a future version. Use pandas.concat instead.\n",
            "  df = df.append({'Email': email_current, 'Phone_number': phone_number_current}, ignore_index=True)\n"
          ]
        },
        {
          "output_type": "stream",
          "name": "stdout",
          "text": [
            "['henrycg@csail.mit.edu'] ['253-0301']  has been extracted at iteration  217\n",
            "['gcorso@mit.edu'] []  has been extracted at iteration  217\n",
            "['JDUITAMA@csail.mit.edu'] []  has been extracted at iteration  217\n"
          ]
        },
        {
          "output_type": "stream",
          "name": "stderr",
          "text": [
            "<ipython-input-35-74fde92eadb9>:52: FutureWarning: The frame.append method is deprecated and will be removed from pandas in a future version. Use pandas.concat instead.\n",
            "  df = df.append({'Email': email_current, 'Phone_number': phone_number_current}, ignore_index=True)\n",
            "<ipython-input-35-74fde92eadb9>:52: FutureWarning: The frame.append method is deprecated and will be removed from pandas in a future version. Use pandas.concat instead.\n",
            "  df = df.append({'Email': email_current, 'Phone_number': phone_number_current}, ignore_index=True)\n",
            "<ipython-input-35-74fde92eadb9>:52: FutureWarning: The frame.append method is deprecated and will be removed from pandas in a future version. Use pandas.concat instead.\n",
            "  df = df.append({'Email': email_current, 'Phone_number': phone_number_current}, ignore_index=True)\n"
          ]
        },
        {
          "output_type": "stream",
          "name": "stdout",
          "text": [
            "['jackc@csail.mit.edu'] ['253-6703']  has been extracted at iteration  217\n",
            "['costilla@mit.edu'] []  has been extracted at iteration  217\n",
            "['mcoulomb@mit.edu'] []  has been extracted at iteration  217\n"
          ]
        },
        {
          "output_type": "stream",
          "name": "stderr",
          "text": [
            "<ipython-input-35-74fde92eadb9>:52: FutureWarning: The frame.append method is deprecated and will be removed from pandas in a future version. Use pandas.concat instead.\n",
            "  df = df.append({'Email': email_current, 'Phone_number': phone_number_current}, ignore_index=True)\n",
            "<ipython-input-35-74fde92eadb9>:52: FutureWarning: The frame.append method is deprecated and will be removed from pandas in a future version. Use pandas.concat instead.\n",
            "  df = df.append({'Email': email_current, 'Phone_number': phone_number_current}, ignore_index=True)\n",
            "<ipython-input-35-74fde92eadb9>:52: FutureWarning: The frame.append method is deprecated and will be removed from pandas in a future version. Use pandas.concat instead.\n",
            "  df = df.append({'Email': email_current, 'Phone_number': phone_number_current}, ignore_index=True)\n"
          ]
        },
        {
          "output_type": "stream",
          "name": "stdout",
          "text": [
            "['jrch@mit.edu'] []  has been extracted at iteration  217\n",
            "['wcrosby@mit.edu'] []  has been extracted at iteration  217\n",
            "['ELIEC@csail.mit.edu'] []  has been extracted at iteration  217\n"
          ]
        },
        {
          "output_type": "stream",
          "name": "stderr",
          "text": [
            "<ipython-input-35-74fde92eadb9>:52: FutureWarning: The frame.append method is deprecated and will be removed from pandas in a future version. Use pandas.concat instead.\n",
            "  df = df.append({'Email': email_current, 'Phone_number': phone_number_current}, ignore_index=True)\n",
            "<ipython-input-35-74fde92eadb9>:52: FutureWarning: The frame.append method is deprecated and will be removed from pandas in a future version. Use pandas.concat instead.\n",
            "  df = df.append({'Email': email_current, 'Phone_number': phone_number_current}, ignore_index=True)\n",
            "<ipython-input-35-74fde92eadb9>:52: FutureWarning: The frame.append method is deprecated and will be removed from pandas in a future version. Use pandas.concat instead.\n",
            "  df = df.append({'Email': email_current, 'Phone_number': phone_number_current}, ignore_index=True)\n"
          ]
        },
        {
          "output_type": "stream",
          "name": "stdout",
          "text": [
            "['jecummin@mit.edu'] []  has been extracted at iteration  217\n",
            "['curtisa@mit.edu'] []  has been extracted at iteration  217\n",
            "['tlcurtis@mit.edu'] []  has been extracted at iteration  217\n"
          ]
        },
        {
          "output_type": "stream",
          "name": "stderr",
          "text": [
            "<ipython-input-35-74fde92eadb9>:52: FutureWarning: The frame.append method is deprecated and will be removed from pandas in a future version. Use pandas.concat instead.\n",
            "  df = df.append({'Email': email_current, 'Phone_number': phone_number_current}, ignore_index=True)\n",
            "<ipython-input-35-74fde92eadb9>:52: FutureWarning: The frame.append method is deprecated and will be removed from pandas in a future version. Use pandas.concat instead.\n",
            "  df = df.append({'Email': email_current, 'Phone_number': phone_number_current}, ignore_index=True)\n",
            "<ipython-input-35-74fde92eadb9>:52: FutureWarning: The frame.append method is deprecated and will be removed from pandas in a future version. Use pandas.concat instead.\n",
            "  df = df.append({'Email': email_current, 'Phone_number': phone_number_current}, ignore_index=True)\n"
          ]
        },
        {
          "output_type": "stream",
          "name": "stdout",
          "text": [
            "['califyn@mit.edu'] []  has been extracted at iteration  217\n",
            "['dagan@mit.edu'] []  has been extracted at iteration  217\n",
            "['JQDAI@csail.mit.edu'] []  has been extracted at iteration  217\n"
          ]
        },
        {
          "output_type": "stream",
          "name": "stderr",
          "text": [
            "<ipython-input-35-74fde92eadb9>:52: FutureWarning: The frame.append method is deprecated and will be removed from pandas in a future version. Use pandas.concat instead.\n",
            "  df = df.append({'Email': email_current, 'Phone_number': phone_number_current}, ignore_index=True)\n",
            "<ipython-input-35-74fde92eadb9>:52: FutureWarning: The frame.append method is deprecated and will be removed from pandas in a future version. Use pandas.concat instead.\n",
            "  df = df.append({'Email': email_current, 'Phone_number': phone_number_current}, ignore_index=True)\n",
            "<ipython-input-35-74fde92eadb9>:52: FutureWarning: The frame.append method is deprecated and will be removed from pandas in a future version. Use pandas.concat instead.\n",
            "  df = df.append({'Email': email_current, 'Phone_number': phone_number_current}, ignore_index=True)\n"
          ]
        },
        {
          "output_type": "stream",
          "name": "stdout",
          "text": [
            "['zhengdai@mit.edu'] []  has been extracted at iteration  217\n",
            "['adalca@csail.mit.edu'] []  has been extracted at iteration  217\n",
            "['mehul42@csail.mit.edu'] []  has been extracted at iteration  217\n"
          ]
        },
        {
          "output_type": "stream",
          "name": "stderr",
          "text": [
            "<ipython-input-35-74fde92eadb9>:52: FutureWarning: The frame.append method is deprecated and will be removed from pandas in a future version. Use pandas.concat instead.\n",
            "  df = df.append({'Email': email_current, 'Phone_number': phone_number_current}, ignore_index=True)\n",
            "<ipython-input-35-74fde92eadb9>:52: FutureWarning: The frame.append method is deprecated and will be removed from pandas in a future version. Use pandas.concat instead.\n",
            "  df = df.append({'Email': email_current, 'Phone_number': phone_number_current}, ignore_index=True)\n",
            "<ipython-input-35-74fde92eadb9>:52: FutureWarning: The frame.append method is deprecated and will be removed from pandas in a future version. Use pandas.concat instead.\n",
            "  df = df.append({'Email': email_current, 'Phone_number': phone_number_current}, ignore_index=True)\n"
          ]
        },
        {
          "output_type": "stream",
          "name": "stdout",
          "text": [
            "['hoped@csail.mit.edu'] []  has been extracted at iteration  217\n",
            "['haimo@mit.edu'] []  has been extracted at iteration  217\n",
            "['costis@csail.mit.edu'] ['253-9643']  has been extracted at iteration  217\n",
            "['jcob@csail.mit.edu'] []  has been extracted at iteration  217\n"
          ]
        },
        {
          "output_type": "stream",
          "name": "stderr",
          "text": [
            "<ipython-input-35-74fde92eadb9>:52: FutureWarning: The frame.append method is deprecated and will be removed from pandas in a future version. Use pandas.concat instead.\n",
            "  df = df.append({'Email': email_current, 'Phone_number': phone_number_current}, ignore_index=True)\n",
            "<ipython-input-35-74fde92eadb9>:52: FutureWarning: The frame.append method is deprecated and will be removed from pandas in a future version. Use pandas.concat instead.\n",
            "  df = df.append({'Email': email_current, 'Phone_number': phone_number_current}, ignore_index=True)\n",
            "<ipython-input-35-74fde92eadb9>:52: FutureWarning: The frame.append method is deprecated and will be removed from pandas in a future version. Use pandas.concat instead.\n",
            "  df = df.append({'Email': email_current, 'Phone_number': phone_number_current}, ignore_index=True)\n",
            "<ipython-input-35-74fde92eadb9>:52: FutureWarning: The frame.append method is deprecated and will be removed from pandas in a future version. Use pandas.concat instead.\n",
            "  df = df.append({'Email': email_current, 'Phone_number': phone_number_current}, ignore_index=True)\n"
          ]
        },
        {
          "output_type": "stream",
          "name": "stdout",
          "text": [
            "['marcia@csail.mit.edu'] ['253-3049']  has been extracted at iteration  217\n",
            "['davis@csail.mit.edu'] ['253-5879']  has been extracted at iteration  217\n",
            "['nauman@csail.mit.edu'] []  has been extracted at iteration  217\n"
          ]
        },
        {
          "output_type": "stream",
          "name": "stderr",
          "text": [
            "<ipython-input-35-74fde92eadb9>:52: FutureWarning: The frame.append method is deprecated and will be removed from pandas in a future version. Use pandas.concat instead.\n",
            "  df = df.append({'Email': email_current, 'Phone_number': phone_number_current}, ignore_index=True)\n",
            "<ipython-input-35-74fde92eadb9>:52: FutureWarning: The frame.append method is deprecated and will be removed from pandas in a future version. Use pandas.concat instead.\n",
            "  df = df.append({'Email': email_current, 'Phone_number': phone_number_current}, ignore_index=True)\n",
            "<ipython-input-35-74fde92eadb9>:52: FutureWarning: The frame.append method is deprecated and will be removed from pandas in a future version. Use pandas.concat instead.\n",
            "  df = df.append({'Email': email_current, 'Phone_number': phone_number_current}, ignore_index=True)\n"
          ]
        },
        {
          "output_type": "stream",
          "name": "stdout",
          "text": [
            "['ldecastr@mit.edu'] []  has been extracted at iteration  217\n",
            "['erikad@mit.edu'] []  has been extracted at iteration  217\n",
            "['DELSOZZO@csail.mit.edu'] []  has been extracted at iteration  217\n"
          ]
        },
        {
          "output_type": "stream",
          "name": "stderr",
          "text": [
            "<ipython-input-35-74fde92eadb9>:52: FutureWarning: The frame.append method is deprecated and will be removed from pandas in a future version. Use pandas.concat instead.\n",
            "  df = df.append({'Email': email_current, 'Phone_number': phone_number_current}, ignore_index=True)\n",
            "<ipython-input-35-74fde92eadb9>:52: FutureWarning: The frame.append method is deprecated and will be removed from pandas in a future version. Use pandas.concat instead.\n",
            "  df = df.append({'Email': email_current, 'Phone_number': phone_number_current}, ignore_index=True)\n",
            "<ipython-input-35-74fde92eadb9>:52: FutureWarning: The frame.append method is deprecated and will be removed from pandas in a future version. Use pandas.concat instead.\n",
            "  df = df.append({'Email': email_current, 'Phone_number': phone_number_current}, ignore_index=True)\n"
          ]
        },
        {
          "output_type": "stream",
          "name": "stdout",
          "text": [
            "['samd@mit.edu'] []  has been extracted at iteration  217\n",
            "['yonatand@mit.edu'] []  has been extracted at iteration  217\n",
            "['delimitrou@csail.mit.edu'] []  has been extracted at iteration  217\n"
          ]
        },
        {
          "output_type": "stream",
          "name": "stderr",
          "text": [
            "<ipython-input-35-74fde92eadb9>:52: FutureWarning: The frame.append method is deprecated and will be removed from pandas in a future version. Use pandas.concat instead.\n",
            "  df = df.append({'Email': email_current, 'Phone_number': phone_number_current}, ignore_index=True)\n",
            "<ipython-input-35-74fde92eadb9>:52: FutureWarning: The frame.append method is deprecated and will be removed from pandas in a future version. Use pandas.concat instead.\n",
            "  df = df.append({'Email': email_current, 'Phone_number': phone_number_current}, ignore_index=True)\n",
            "<ipython-input-35-74fde92eadb9>:52: FutureWarning: The frame.append method is deprecated and will be removed from pandas in a future version. Use pandas.concat instead.\n",
            "  df = df.append({'Email': email_current, 'Phone_number': phone_number_current}, ignore_index=True)\n"
          ]
        },
        {
          "output_type": "stream",
          "name": "stdout",
          "text": [
            "['delpreto@csail.mit.edu'] []  has been extracted at iteration  217\n",
            "['edemaine@mit.edu'] ['253-6871']  has been extracted at iteration  217\n",
            "['demirel@csail.mit.edu'] []  has been extracted at iteration  217\n"
          ]
        },
        {
          "output_type": "stream",
          "name": "stderr",
          "text": [
            "<ipython-input-35-74fde92eadb9>:52: FutureWarning: The frame.append method is deprecated and will be removed from pandas in a future version. Use pandas.concat instead.\n",
            "  df = df.append({'Email': email_current, 'Phone_number': phone_number_current}, ignore_index=True)\n",
            "<ipython-input-35-74fde92eadb9>:52: FutureWarning: The frame.append method is deprecated and will be removed from pandas in a future version. Use pandas.concat instead.\n",
            "  df = df.append({'Email': email_current, 'Phone_number': phone_number_current}, ignore_index=True)\n",
            "<ipython-input-35-74fde92eadb9>:52: FutureWarning: The frame.append method is deprecated and will be removed from pandas in a future version. Use pandas.concat instead.\n",
            "  df = df.append({'Email': email_current, 'Phone_number': phone_number_current}, ignore_index=True)\n"
          ]
        },
        {
          "output_type": "stream",
          "name": "stdout",
          "text": [
            "['adamdeng@mit.edu'] []  has been extracted at iteration  217\n",
            "['boleideng@csail.mit.edu'] []  has been extracted at iteration  217\n",
            "['dengm@mit.edu'] []  has been extracted at iteration  217\n"
          ]
        },
        {
          "output_type": "stream",
          "name": "stderr",
          "text": [
            "<ipython-input-35-74fde92eadb9>:52: FutureWarning: The frame.append method is deprecated and will be removed from pandas in a future version. Use pandas.concat instead.\n",
            "  df = df.append({'Email': email_current, 'Phone_number': phone_number_current}, ignore_index=True)\n",
            "<ipython-input-35-74fde92eadb9>:52: FutureWarning: The frame.append method is deprecated and will be removed from pandas in a future version. Use pandas.concat instead.\n",
            "  df = df.append({'Email': email_current, 'Phone_number': phone_number_current}, ignore_index=True)\n",
            "<ipython-input-35-74fde92eadb9>:52: FutureWarning: The frame.append method is deprecated and will be removed from pandas in a future version. Use pandas.concat instead.\n",
            "  df = df.append({'Email': email_current, 'Phone_number': phone_number_current}, ignore_index=True)\n"
          ]
        },
        {
          "output_type": "stream",
          "name": "stdout",
          "text": [
            "['ryandeng@mit.edu'] []  has been extracted at iteration  217\n",
            "['dennis@csail.mit.edu'] ['253-6856']  has been extracted at iteration  217\n",
            "['pwd@mit.edu'] []  has been extracted at iteration  217\n"
          ]
        },
        {
          "output_type": "stream",
          "name": "stderr",
          "text": [
            "<ipython-input-35-74fde92eadb9>:52: FutureWarning: The frame.append method is deprecated and will be removed from pandas in a future version. Use pandas.concat instead.\n",
            "  df = df.append({'Email': email_current, 'Phone_number': phone_number_current}, ignore_index=True)\n",
            "<ipython-input-35-74fde92eadb9>:52: FutureWarning: The frame.append method is deprecated and will be removed from pandas in a future version. Use pandas.concat instead.\n",
            "  df = df.append({'Email': email_current, 'Phone_number': phone_number_current}, ignore_index=True)\n",
            "<ipython-input-35-74fde92eadb9>:52: FutureWarning: The frame.append method is deprecated and will be removed from pandas in a future version. Use pandas.concat instead.\n",
            "  df = df.append({'Email': email_current, 'Phone_number': phone_number_current}, ignore_index=True)\n"
          ]
        },
        {
          "output_type": "stream",
          "name": "stdout",
          "text": [
            "['lali@mit.edu'] []  has been extracted at iteration  217\n",
            "['devadas@csail.mit.edu'] ['253-0454']  has been extracted at iteration  217\n",
            "['dey@csail.mit.edu'] []  has been extracted at iteration  217\n",
            "['ndharia@mit.edu'] []  has been extracted at iteration  217\n"
          ]
        },
        {
          "output_type": "stream",
          "name": "stderr",
          "text": [
            "<ipython-input-35-74fde92eadb9>:52: FutureWarning: The frame.append method is deprecated and will be removed from pandas in a future version. Use pandas.concat instead.\n",
            "  df = df.append({'Email': email_current, 'Phone_number': phone_number_current}, ignore_index=True)\n",
            "<ipython-input-35-74fde92eadb9>:52: FutureWarning: The frame.append method is deprecated and will be removed from pandas in a future version. Use pandas.concat instead.\n",
            "  df = df.append({'Email': email_current, 'Phone_number': phone_number_current}, ignore_index=True)\n",
            "<ipython-input-35-74fde92eadb9>:52: FutureWarning: The frame.append method is deprecated and will be removed from pandas in a future version. Use pandas.concat instead.\n",
            "  df = df.append({'Email': email_current, 'Phone_number': phone_number_current}, ignore_index=True)\n",
            "<ipython-input-35-74fde92eadb9>:52: FutureWarning: The frame.append method is deprecated and will be removed from pandas in a future version. Use pandas.concat instead.\n",
            "  df = df.append({'Email': email_current, 'Phone_number': phone_number_current}, ignore_index=True)\n"
          ]
        },
        {
          "output_type": "stream",
          "name": "stdout",
          "text": [
            "['tdiamand@mit.edu'] []  has been extracted at iteration  217\n",
            "['diaoc@mit.edu'] []  has been extracted at iteration  217\n",
            "['kdighe@csail.mit.edu'] []  has been extracted at iteration  217\n",
            "['adadima@mit.edu'] []  has been extracted at iteration  217\n"
          ]
        },
        {
          "output_type": "stream",
          "name": "stderr",
          "text": [
            "<ipython-input-35-74fde92eadb9>:52: FutureWarning: The frame.append method is deprecated and will be removed from pandas in a future version. Use pandas.concat instead.\n",
            "  df = df.append({'Email': email_current, 'Phone_number': phone_number_current}, ignore_index=True)\n",
            "<ipython-input-35-74fde92eadb9>:52: FutureWarning: The frame.append method is deprecated and will be removed from pandas in a future version. Use pandas.concat instead.\n",
            "  df = df.append({'Email': email_current, 'Phone_number': phone_number_current}, ignore_index=True)\n",
            "<ipython-input-35-74fde92eadb9>:52: FutureWarning: The frame.append method is deprecated and will be removed from pandas in a future version. Use pandas.concat instead.\n",
            "  df = df.append({'Email': email_current, 'Phone_number': phone_number_current}, ignore_index=True)\n",
            "<ipython-input-35-74fde92eadb9>:52: FutureWarning: The frame.append method is deprecated and will be removed from pandas in a future version. Use pandas.concat instead.\n",
            "  df = df.append({'Email': email_current, 'Phone_number': phone_number_current}, ignore_index=True)\n"
          ]
        },
        {
          "output_type": "stream",
          "name": "stdout",
          "text": [
            "['jialind@mit.edu'] []  has been extracted at iteration  217\n",
            "['bsdinis@mit.edu'] []  has been extracted at iteration  217\n",
            "['diomidov@mit.edu'] []  has been extracted at iteration  217\n"
          ]
        },
        {
          "output_type": "stream",
          "name": "stderr",
          "text": [
            "<ipython-input-35-74fde92eadb9>:52: FutureWarning: The frame.append method is deprecated and will be removed from pandas in a future version. Use pandas.concat instead.\n",
            "  df = df.append({'Email': email_current, 'Phone_number': phone_number_current}, ignore_index=True)\n",
            "<ipython-input-35-74fde92eadb9>:52: FutureWarning: The frame.append method is deprecated and will be removed from pandas in a future version. Use pandas.concat instead.\n",
            "  df = df.append({'Email': email_current, 'Phone_number': phone_number_current}, ignore_index=True)\n",
            "<ipython-input-35-74fde92eadb9>:52: FutureWarning: The frame.append method is deprecated and will be removed from pandas in a future version. Use pandas.concat instead.\n",
            "  df = df.append({'Email': email_current, 'Phone_number': phone_number_current}, ignore_index=True)\n"
          ]
        },
        {
          "output_type": "stream",
          "name": "stdout",
          "text": [
            "['vkdixit@mit.edu'] []  has been extracted at iteration  217\n",
            "['mdobson@mit.edu'] ['253-4643']  has been extracted at iteration  217\n",
            "['anadodik@mit.edu'] []  has been extracted at iteration  217\n",
            "['doga@mit.edu'] []  has been extracted at iteration "
          ]
        },
        {
          "output_type": "stream",
          "name": "stderr",
          "text": [
            "<ipython-input-35-74fde92eadb9>:52: FutureWarning: The frame.append method is deprecated and will be removed from pandas in a future version. Use pandas.concat instead.\n",
            "  df = df.append({'Email': email_current, 'Phone_number': phone_number_current}, ignore_index=True)\n",
            "<ipython-input-35-74fde92eadb9>:52: FutureWarning: The frame.append method is deprecated and will be removed from pandas in a future version. Use pandas.concat instead.\n",
            "  df = df.append({'Email': email_current, 'Phone_number': phone_number_current}, ignore_index=True)\n",
            "<ipython-input-35-74fde92eadb9>:52: FutureWarning: The frame.append method is deprecated and will be removed from pandas in a future version. Use pandas.concat instead.\n",
            "  df = df.append({'Email': email_current, 'Phone_number': phone_number_current}, ignore_index=True)\n",
            "<ipython-input-35-74fde92eadb9>:52: FutureWarning: The frame.append method is deprecated and will be removed from pandas in a future version. Use pandas.concat instead.\n",
            "  df = df.append({'Email': email_current, 'Phone_number': phone_number_current}, ignore_index=True)\n"
          ]
        },
        {
          "output_type": "stream",
          "name": "stdout",
          "text": [
            " 217\n",
            "['danielbd@mit.edu'] []  has been extracted at iteration  217\n",
            "['rogerdtz@mit.edu'] []  has been extracted at iteration  217\n",
            "['jdorfman@CSAIL.MIT.EDU'] ['253-1150']  has been extracted at iteration  217\n"
          ]
        },
        {
          "output_type": "stream",
          "name": "stderr",
          "text": [
            "<ipython-input-35-74fde92eadb9>:52: FutureWarning: The frame.append method is deprecated and will be removed from pandas in a future version. Use pandas.concat instead.\n",
            "  df = df.append({'Email': email_current, 'Phone_number': phone_number_current}, ignore_index=True)\n",
            "<ipython-input-35-74fde92eadb9>:52: FutureWarning: The frame.append method is deprecated and will be removed from pandas in a future version. Use pandas.concat instead.\n",
            "  df = df.append({'Email': email_current, 'Phone_number': phone_number_current}, ignore_index=True)\n",
            "<ipython-input-35-74fde92eadb9>:52: FutureWarning: The frame.append method is deprecated and will be removed from pandas in a future version. Use pandas.concat instead.\n",
            "  df = df.append({'Email': email_current, 'Phone_number': phone_number_current}, ignore_index=True)\n",
            "<ipython-input-35-74fde92eadb9>:52: FutureWarning: The frame.append method is deprecated and will be removed from pandas in a future version. Use pandas.concat instead.\n",
            "  df = df.append({'Email': email_current, 'Phone_number': phone_number_current}, ignore_index=True)\n"
          ]
        },
        {
          "output_type": "stream",
          "name": "stdout",
          "text": [
            "['vdoroban@csail.mit.edu'] []  has been extracted at iteration  217\n",
            "['sdrammis@mit.edu'] []  has been extracted at iteration  217\n",
            "['drean@mit.edu'] []  has been extracted at iteration  217\n"
          ]
        },
        {
          "output_type": "stream",
          "name": "stderr",
          "text": [
            "<ipython-input-35-74fde92eadb9>:52: FutureWarning: The frame.append method is deprecated and will be removed from pandas in a future version. Use pandas.concat instead.\n",
            "  df = df.append({'Email': email_current, 'Phone_number': phone_number_current}, ignore_index=True)\n",
            "<ipython-input-35-74fde92eadb9>:52: FutureWarning: The frame.append method is deprecated and will be removed from pandas in a future version. Use pandas.concat instead.\n",
            "  df = df.append({'Email': email_current, 'Phone_number': phone_number_current}, ignore_index=True)\n"
          ]
        },
        {
          "output_type": "stream",
          "name": "stdout",
          "text": [
            "['hdriss@mit.edu'] []  has been extracted at iteration  217\n",
            "['samirdr@mit.edu'] []  has been extracted at iteration  217\n",
            "['yilundu@mit.edu'] []  has been extracted at iteration  217\n"
          ]
        },
        {
          "output_type": "stream",
          "name": "stderr",
          "text": [
            "<ipython-input-35-74fde92eadb9>:52: FutureWarning: The frame.append method is deprecated and will be removed from pandas in a future version. Use pandas.concat instead.\n",
            "  df = df.append({'Email': email_current, 'Phone_number': phone_number_current}, ignore_index=True)\n",
            "<ipython-input-35-74fde92eadb9>:52: FutureWarning: The frame.append method is deprecated and will be removed from pandas in a future version. Use pandas.concat instead.\n",
            "  df = df.append({'Email': email_current, 'Phone_number': phone_number_current}, ignore_index=True)\n",
            "<ipython-input-35-74fde92eadb9>:52: FutureWarning: The frame.append method is deprecated and will be removed from pandas in a future version. Use pandas.concat instead.\n",
            "  df = df.append({'Email': email_current, 'Phone_number': phone_number_current}, ignore_index=True)\n"
          ]
        },
        {
          "output_type": "stream",
          "name": "stdout",
          "text": [
            "['xingrand@mit.edu'] []  has been extracted at iteration  217\n",
            "['yiqing@csail.mit.edu'] []  has been extracted at iteration  217\n",
            "['IDUAN329@csail.mit.edu'] []  has been extracted at iteration  217\n",
            "['Konnie@csail.mit.edu'] []  has been extracted at iteration  217\n"
          ]
        },
        {
          "output_type": "stream",
          "name": "stderr",
          "text": [
            "<ipython-input-35-74fde92eadb9>:52: FutureWarning: The frame.append method is deprecated and will be removed from pandas in a future version. Use pandas.concat instead.\n",
            "  df = df.append({'Email': email_current, 'Phone_number': phone_number_current}, ignore_index=True)\n",
            "<ipython-input-35-74fde92eadb9>:52: FutureWarning: The frame.append method is deprecated and will be removed from pandas in a future version. Use pandas.concat instead.\n",
            "  df = df.append({'Email': email_current, 'Phone_number': phone_number_current}, ignore_index=True)\n",
            "<ipython-input-35-74fde92eadb9>:52: FutureWarning: The frame.append method is deprecated and will be removed from pandas in a future version. Use pandas.concat instead.\n",
            "  df = df.append({'Email': email_current, 'Phone_number': phone_number_current}, ignore_index=True)\n",
            "<ipython-input-35-74fde92eadb9>:52: FutureWarning: The frame.append method is deprecated and will be removed from pandas in a future version. Use pandas.concat instead.\n",
            "  df = df.append({'Email': email_current, 'Phone_number': phone_number_current}, ignore_index=True)\n"
          ]
        },
        {
          "output_type": "stream",
          "name": "stdout",
          "text": [
            "['SDUGGAL@csail.mit.edu'] []  has been extracted at iteration  217\n",
            "['fredo@csail.mit.edu'] ['253-7223']  has been extracted at iteration  217\n",
            "['durra@csail.mit.edu'] []  has been extracted at iteration  217\n"
          ]
        },
        {
          "output_type": "stream",
          "name": "stderr",
          "text": [
            "<ipython-input-35-74fde92eadb9>:52: FutureWarning: The frame.append method is deprecated and will be removed from pandas in a future version. Use pandas.concat instead.\n",
            "  df = df.append({'Email': email_current, 'Phone_number': phone_number_current}, ignore_index=True)\n",
            "<ipython-input-35-74fde92eadb9>:52: FutureWarning: The frame.append method is deprecated and will be removed from pandas in a future version. Use pandas.concat instead.\n",
            "  df = df.append({'Email': email_current, 'Phone_number': phone_number_current}, ignore_index=True)\n",
            "<ipython-input-35-74fde92eadb9>:52: FutureWarning: The frame.append method is deprecated and will be removed from pandas in a future version. Use pandas.concat instead.\n",
            "  df = df.append({'Email': email_current, 'Phone_number': phone_number_current}, ignore_index=True)\n"
          ]
        },
        {
          "output_type": "stream",
          "name": "stdout",
          "text": [
            "['vasha@csail.mit.edu'] []  has been extracted at iteration  217\n",
            "['echezona@csail.mit.edu'] []  has been extracted at iteration  217\n",
            "['mit.edelman@gmail.com'] ['253-1355']  has been extracted at iteration  217\n"
          ]
        },
        {
          "output_type": "stream",
          "name": "stderr",
          "text": [
            "<ipython-input-35-74fde92eadb9>:52: FutureWarning: The frame.append method is deprecated and will be removed from pandas in a future version. Use pandas.concat instead.\n",
            "  df = df.append({'Email': email_current, 'Phone_number': phone_number_current}, ignore_index=True)\n",
            "<ipython-input-35-74fde92eadb9>:52: FutureWarning: The frame.append method is deprecated and will be removed from pandas in a future version. Use pandas.concat instead.\n",
            "  df = df.append({'Email': email_current, 'Phone_number': phone_number_current}, ignore_index=True)\n",
            "<ipython-input-35-74fde92eadb9>:52: FutureWarning: The frame.append method is deprecated and will be removed from pandas in a future version. Use pandas.concat instead.\n",
            "  df = df.append({'Email': email_current, 'Phone_number': phone_number_current}, ignore_index=True)\n"
          ]
        },
        {
          "output_type": "stream",
          "name": "stdout",
          "text": [
            "['danieled@mit.edu'] []  has been extracted at iteration  217\n",
            "['ekim@csail.mit.edu'] []  has been extracted at iteration  217\n",
            "['farese@mit.edu'] []  has been extracted at iteration  217\n"
          ]
        },
        {
          "output_type": "stream",
          "name": "stderr",
          "text": [
            "<ipython-input-35-74fde92eadb9>:52: FutureWarning: The frame.append method is deprecated and will be removed from pandas in a future version. Use pandas.concat instead.\n",
            "  df = df.append({'Email': email_current, 'Phone_number': phone_number_current}, ignore_index=True)\n",
            "<ipython-input-35-74fde92eadb9>:52: FutureWarning: The frame.append method is deprecated and will be removed from pandas in a future version. Use pandas.concat instead.\n",
            "  df = df.append({'Email': email_current, 'Phone_number': phone_number_current}, ignore_index=True)\n",
            "<ipython-input-35-74fde92eadb9>:52: FutureWarning: The frame.append method is deprecated and will be removed from pandas in a future version. Use pandas.concat instead.\n",
            "  df = df.append({'Email': email_current, 'Phone_number': phone_number_current}, ignore_index=True)\n"
          ]
        },
        {
          "output_type": "stream",
          "name": "stdout",
          "text": [
            "['emer@csail.mit.edu'] ['258-9190']  has been extracted at iteration  217\n",
            "['yosefmih@mit.edu'] []  has been extracted at iteration  217\n",
            "['jae@csail.mit.edu'] []  has been extracted at iteration  217\n",
            "['engstrom@MIT.edu'] []  has been extracted at iteration  217\n"
          ]
        },
        {
          "output_type": "stream",
          "name": "stderr",
          "text": [
            "<ipython-input-35-74fde92eadb9>:52: FutureWarning: The frame.append method is deprecated and will be removed from pandas in a future version. Use pandas.concat instead.\n",
            "  df = df.append({'Email': email_current, 'Phone_number': phone_number_current}, ignore_index=True)\n",
            "<ipython-input-35-74fde92eadb9>:52: FutureWarning: The frame.append method is deprecated and will be removed from pandas in a future version. Use pandas.concat instead.\n",
            "  df = df.append({'Email': email_current, 'Phone_number': phone_number_current}, ignore_index=True)\n",
            "<ipython-input-35-74fde92eadb9>:52: FutureWarning: The frame.append method is deprecated and will be removed from pandas in a future version. Use pandas.concat instead.\n",
            "  df = df.append({'Email': email_current, 'Phone_number': phone_number_current}, ignore_index=True)\n",
            "<ipython-input-35-74fde92eadb9>:52: FutureWarning: The frame.append method is deprecated and will be removed from pandas in a future version. Use pandas.concat instead.\n",
            "  df = df.append({'Email': email_current, 'Phone_number': phone_number_current}, ignore_index=True)\n"
          ]
        },
        {
          "output_type": "stream",
          "name": "stdout",
          "text": [
            "['andreser@mit.edu'] []  has been extracted at iteration  217\n",
            "['erives@mit.edu'] []  has been extracted at iteration  217\n",
            "['diegoesc@mit.edu'] []  has been extracted at iteration  217\n",
            "['katieev@mit.edu'] []  has been extracted at iteration  217\n"
          ]
        },
        {
          "output_type": "stream",
          "name": "stderr",
          "text": [
            "<ipython-input-35-74fde92eadb9>:52: FutureWarning: The frame.append method is deprecated and will be removed from pandas in a future version. Use pandas.concat instead.\n",
            "  df = df.append({'Email': email_current, 'Phone_number': phone_number_current}, ignore_index=True)\n",
            "<ipython-input-35-74fde92eadb9>:52: FutureWarning: The frame.append method is deprecated and will be removed from pandas in a future version. Use pandas.concat instead.\n",
            "  df = df.append({'Email': email_current, 'Phone_number': phone_number_current}, ignore_index=True)\n",
            "<ipython-input-35-74fde92eadb9>:52: FutureWarning: The frame.append method is deprecated and will be removed from pandas in a future version. Use pandas.concat instead.\n",
            "  df = df.append({'Email': email_current, 'Phone_number': phone_number_current}, ignore_index=True)\n",
            "<ipython-input-35-74fde92eadb9>:52: FutureWarning: The frame.append method is deprecated and will be removed from pandas in a future version. Use pandas.concat instead.\n",
            "  df = df.append({'Email': email_current, 'Phone_number': phone_number_current}, ignore_index=True)\n"
          ]
        },
        {
          "output_type": "stream",
          "name": "stdout",
          "text": [
            "['ekf@csail.mit.edu'] []  has been extracted at iteration  217\n",
            "['faltings@mit.edu'] []  has been extracted at iteration  217\n",
            "['lijiefan@mit.edu'] []  has been extracted at iteration  217\n",
            "['linglingfan@csail.mit.edu'] []  has been extracted at iteration  217\n"
          ]
        },
        {
          "output_type": "stream",
          "name": "stderr",
          "text": [
            "<ipython-input-35-74fde92eadb9>:52: FutureWarning: The frame.append method is deprecated and will be removed from pandas in a future version. Use pandas.concat instead.\n",
            "  df = df.append({'Email': email_current, 'Phone_number': phone_number_current}, ignore_index=True)\n",
            "<ipython-input-35-74fde92eadb9>:52: FutureWarning: The frame.append method is deprecated and will be removed from pandas in a future version. Use pandas.concat instead.\n",
            "  df = df.append({'Email': email_current, 'Phone_number': phone_number_current}, ignore_index=True)\n",
            "<ipython-input-35-74fde92eadb9>:52: FutureWarning: The frame.append method is deprecated and will be removed from pandas in a future version. Use pandas.concat instead.\n",
            "  df = df.append({'Email': email_current, 'Phone_number': phone_number_current}, ignore_index=True)\n",
            "<ipython-input-35-74fde92eadb9>:52: FutureWarning: The frame.append method is deprecated and will be removed from pandas in a future version. Use pandas.concat instead.\n",
            "  df = df.append({'Email': email_current, 'Phone_number': phone_number_current}, ignore_index=True)\n"
          ]
        },
        {
          "output_type": "stream",
          "name": "stdout",
          "text": [
            "['vincentf@mit.edu'] []  has been extracted at iteration  217\n",
            "['FHS@csail.mit.edu'] []  has been extracted at iteration  217\n",
            "['weifang@mit.edu'] []  has been extracted at iteration  217\n",
            "['xiaolinf@mit.edu'] []  has been extracted at iteration  217\n"
          ]
        },
        {
          "output_type": "stream",
          "name": "stderr",
          "text": [
            "<ipython-input-35-74fde92eadb9>:52: FutureWarning: The frame.append method is deprecated and will be removed from pandas in a future version. Use pandas.concat instead.\n",
            "  df = df.append({'Email': email_current, 'Phone_number': phone_number_current}, ignore_index=True)\n",
            "<ipython-input-35-74fde92eadb9>:52: FutureWarning: The frame.append method is deprecated and will be removed from pandas in a future version. Use pandas.concat instead.\n",
            "  df = df.append({'Email': email_current, 'Phone_number': phone_number_current}, ignore_index=True)\n",
            "<ipython-input-35-74fde92eadb9>:52: FutureWarning: The frame.append method is deprecated and will be removed from pandas in a future version. Use pandas.concat instead.\n",
            "  df = df.append({'Email': email_current, 'Phone_number': phone_number_current}, ignore_index=True)\n",
            "<ipython-input-35-74fde92eadb9>:52: FutureWarning: The frame.append method is deprecated and will be removed from pandas in a future version. Use pandas.concat instead.\n",
            "  df = df.append({'Email': email_current, 'Phone_number': phone_number_current}, ignore_index=True)\n"
          ]
        },
        {
          "output_type": "stream",
          "name": "stdout",
          "text": [
            "['mfarmer@csail.mit.edu'] []  has been extracted at iteration  217\n",
            "['adfarrar@mit.edu'] []  has been extracted at iteration  217\n",
            "['ffaruqi@mit.edu'] []  has been extracted at iteration  217\n",
            "['sfass@csail.mit.edu'] []  has been extracted at iteration  217\n"
          ]
        },
        {
          "output_type": "stream",
          "name": "stderr",
          "text": [
            "<ipython-input-35-74fde92eadb9>:52: FutureWarning: The frame.append method is deprecated and will be removed from pandas in a future version. Use pandas.concat instead.\n",
            "  df = df.append({'Email': email_current, 'Phone_number': phone_number_current}, ignore_index=True)\n",
            "<ipython-input-35-74fde92eadb9>:52: FutureWarning: The frame.append method is deprecated and will be removed from pandas in a future version. Use pandas.concat instead.\n",
            "  df = df.append({'Email': email_current, 'Phone_number': phone_number_current}, ignore_index=True)\n",
            "<ipython-input-35-74fde92eadb9>:52: FutureWarning: The frame.append method is deprecated and will be removed from pandas in a future version. Use pandas.concat instead.\n",
            "  df = df.append({'Email': email_current, 'Phone_number': phone_number_current}, ignore_index=True)\n",
            "<ipython-input-35-74fde92eadb9>:52: FutureWarning: The frame.append method is deprecated and will be removed from pandas in a future version. Use pandas.concat instead.\n",
            "  df = df.append({'Email': email_current, 'Phone_number': phone_number_current}, ignore_index=True)\n"
          ]
        },
        {
          "output_type": "stream",
          "name": "stdout",
          "text": [
            "['mfavela@MIT.EDU'] []  has been extracted at iteration  217\n",
            "['fefelova@csail.mit.edu'] []  has been extracted at iteration  217\n",
            "['MARTINFK@csail.mit.edu'] []  has been extracted at iteration  217\n",
            "['axelf@MIT.EDU'] []  has been extracted at iteration  217\n"
          ]
        },
        {
          "output_type": "stream",
          "name": "stderr",
          "text": [
            "<ipython-input-35-74fde92eadb9>:52: FutureWarning: The frame.append method is deprecated and will be removed from pandas in a future version. Use pandas.concat instead.\n",
            "  df = df.append({'Email': email_current, 'Phone_number': phone_number_current}, ignore_index=True)\n",
            "<ipython-input-35-74fde92eadb9>:52: FutureWarning: The frame.append method is deprecated and will be removed from pandas in a future version. Use pandas.concat instead.\n",
            "  df = df.append({'Email': email_current, 'Phone_number': phone_number_current}, ignore_index=True)\n",
            "<ipython-input-35-74fde92eadb9>:52: FutureWarning: The frame.append method is deprecated and will be removed from pandas in a future version. Use pandas.concat instead.\n",
            "  df = df.append({'Email': email_current, 'Phone_number': phone_number_current}, ignore_index=True)\n",
            "<ipython-input-35-74fde92eadb9>:52: FutureWarning: The frame.append method is deprecated and will be removed from pandas in a future version. Use pandas.concat instead.\n",
            "  df = df.append({'Email': email_current, 'Phone_number': phone_number_current}, ignore_index=True)\n"
          ]
        },
        {
          "output_type": "stream",
          "name": "stdout",
          "text": [
            "['azf@mit.edu'] []  has been extracted at iteration  217\n",
            "['fengm@mit.edu'] []  has been extracted at iteration  217\n",
            "['branfeng@mit.edu'] []  has been extracted at iteration  217\n",
            "['zfergus@csail.mit.edu'] []  has been extracted at iteration  217\n"
          ]
        },
        {
          "output_type": "stream",
          "name": "stderr",
          "text": [
            "<ipython-input-35-74fde92eadb9>:52: FutureWarning: The frame.append method is deprecated and will be removed from pandas in a future version. Use pandas.concat instead.\n",
            "  df = df.append({'Email': email_current, 'Phone_number': phone_number_current}, ignore_index=True)\n",
            "<ipython-input-35-74fde92eadb9>:52: FutureWarning: The frame.append method is deprecated and will be removed from pandas in a future version. Use pandas.concat instead.\n",
            "  df = df.append({'Email': email_current, 'Phone_number': phone_number_current}, ignore_index=True)\n",
            "<ipython-input-35-74fde92eadb9>:52: FutureWarning: The frame.append method is deprecated and will be removed from pandas in a future version. Use pandas.concat instead.\n",
            "  df = df.append({'Email': email_current, 'Phone_number': phone_number_current}, ignore_index=True)\n",
            "<ipython-input-35-74fde92eadb9>:52: FutureWarning: The frame.append method is deprecated and will be removed from pandas in a future version. Use pandas.concat instead.\n",
            "  df = df.append({'Email': email_current, 'Phone_number': phone_number_current}, ignore_index=True)\n"
          ]
        },
        {
          "output_type": "stream",
          "name": "stdout",
          "text": [
            "['feser@mit.edu'] []  has been extracted at iteration  217\n",
            "['nolanfey@mit.edu'] []  has been extracted at iteration  217\n",
            "['gmanso@mit.edu'] []  has been extracted at iteration  217\n",
            "['mfirenze@mit.edu'] []  has been extracted at iteration  217\n"
          ]
        },
        {
          "output_type": "stream",
          "name": "stderr",
          "text": [
            "<ipython-input-35-74fde92eadb9>:52: FutureWarning: The frame.append method is deprecated and will be removed from pandas in a future version. Use pandas.concat instead.\n",
            "  df = df.append({'Email': email_current, 'Phone_number': phone_number_current}, ignore_index=True)\n",
            "<ipython-input-35-74fde92eadb9>:52: FutureWarning: The frame.append method is deprecated and will be removed from pandas in a future version. Use pandas.concat instead.\n",
            "  df = df.append({'Email': email_current, 'Phone_number': phone_number_current}, ignore_index=True)\n",
            "<ipython-input-35-74fde92eadb9>:52: FutureWarning: The frame.append method is deprecated and will be removed from pandas in a future version. Use pandas.concat instead.\n",
            "  df = df.append({'Email': email_current, 'Phone_number': phone_number_current}, ignore_index=True)\n",
            "<ipython-input-35-74fde92eadb9>:52: FutureWarning: The frame.append method is deprecated and will be removed from pandas in a future version. Use pandas.concat instead.\n",
            "  df = df.append({'Email': email_current, 'Phone_number': phone_number_current}, ignore_index=True)\n"
          ]
        },
        {
          "output_type": "stream",
          "name": "stdout",
          "text": [
            "['fisch@mit.edu'] []  has been extracted at iteration  217\n",
            "['maxfish@mit.edu'] []  has been extracted at iteration  217\n",
            "['fisher@csail.mit.edu'] ['253-0788']  has been extracted at iteration  217\n"
          ]
        },
        {
          "output_type": "stream",
          "name": "stderr",
          "text": [
            "<ipython-input-35-74fde92eadb9>:52: FutureWarning: The frame.append method is deprecated and will be removed from pandas in a future version. Use pandas.concat instead.\n",
            "  df = df.append({'Email': email_current, 'Phone_number': phone_number_current}, ignore_index=True)\n",
            "<ipython-input-35-74fde92eadb9>:52: FutureWarning: The frame.append method is deprecated and will be removed from pandas in a future version. Use pandas.concat instead.\n",
            "  df = df.append({'Email': email_current, 'Phone_number': phone_number_current}, ignore_index=True)\n",
            "<ipython-input-35-74fde92eadb9>:52: FutureWarning: The frame.append method is deprecated and will be removed from pandas in a future version. Use pandas.concat instead.\n",
            "  df = df.append({'Email': email_current, 'Phone_number': phone_number_current}, ignore_index=True)\n"
          ]
        },
        {
          "output_type": "stream",
          "name": "stdout",
          "text": [
            "['geflaspo@mit.edu'] []  has been extracted at iteration  217\n",
            "['megflynn@mit.edu'] []  has been extracted at iteration  217\n",
            "['camilolu@mit.edu'] []  has been extracted at iteration  217\n"
          ]
        },
        {
          "output_type": "stream",
          "name": "stderr",
          "text": [
            "<ipython-input-35-74fde92eadb9>:52: FutureWarning: The frame.append method is deprecated and will be removed from pandas in a future version. Use pandas.concat instead.\n",
            "  df = df.append({'Email': email_current, 'Phone_number': phone_number_current}, ignore_index=True)\n",
            "<ipython-input-35-74fde92eadb9>:52: FutureWarning: The frame.append method is deprecated and will be removed from pandas in a future version. Use pandas.concat instead.\n",
            "  df = df.append({'Email': email_current, 'Phone_number': phone_number_current}, ignore_index=True)\n",
            "<ipython-input-35-74fde92eadb9>:52: FutureWarning: The frame.append method is deprecated and will be removed from pandas in a future version. Use pandas.concat instead.\n",
            "  df = df.append({'Email': email_current, 'Phone_number': phone_number_current}, ignore_index=True)\n"
          ]
        },
        {
          "output_type": "stream",
          "name": "stdout",
          "text": [
            "['ckfourie@mit.edu'] []  has been extracted at iteration  217\n",
            "['AMYFOX@csail.mit.edu'] []  has been extracted at iteration  217\n",
            "['jenni917@csail.mit.edu'] []  has been extracted at iteration  217\n",
            "['jfrankle@mit.edu'] []  has been extracted at iteration  217\n"
          ]
        },
        {
          "output_type": "stream",
          "name": "stderr",
          "text": [
            "<ipython-input-35-74fde92eadb9>:52: FutureWarning: The frame.append method is deprecated and will be removed from pandas in a future version. Use pandas.concat instead.\n",
            "  df = df.append({'Email': email_current, 'Phone_number': phone_number_current}, ignore_index=True)\n",
            "<ipython-input-35-74fde92eadb9>:52: FutureWarning: The frame.append method is deprecated and will be removed from pandas in a future version. Use pandas.concat instead.\n",
            "  df = df.append({'Email': email_current, 'Phone_number': phone_number_current}, ignore_index=True)\n",
            "<ipython-input-35-74fde92eadb9>:52: FutureWarning: The frame.append method is deprecated and will be removed from pandas in a future version. Use pandas.concat instead.\n",
            "  df = df.append({'Email': email_current, 'Phone_number': phone_number_current}, ignore_index=True)\n",
            "<ipython-input-35-74fde92eadb9>:52: FutureWarning: The frame.append method is deprecated and will be removed from pandas in a future version. Use pandas.concat instead.\n",
            "  df = df.append({'Email': email_current, 'Phone_number': phone_number_current}, ignore_index=True)\n"
          ]
        },
        {
          "output_type": "stream",
          "name": "stdout",
          "text": [
            "['MJFRANKLIN@csail.mit.edu'] []  has been extracted at iteration  217\n",
            "['billf@csail.mit.edu'] ['253-8828']  has been extracted at iteration  217\n",
            "['friedj@mit.edu'] []  has been extracted at iteration  217\n"
          ]
        },
        {
          "output_type": "stream",
          "name": "stderr",
          "text": [
            "<ipython-input-35-74fde92eadb9>:52: FutureWarning: The frame.append method is deprecated and will be removed from pandas in a future version. Use pandas.concat instead.\n",
            "  df = df.append({'Email': email_current, 'Phone_number': phone_number_current}, ignore_index=True)\n",
            "<ipython-input-35-74fde92eadb9>:52: FutureWarning: The frame.append method is deprecated and will be removed from pandas in a future version. Use pandas.concat instead.\n",
            "  df = df.append({'Email': email_current, 'Phone_number': phone_number_current}, ignore_index=True)\n",
            "<ipython-input-35-74fde92eadb9>:52: FutureWarning: The frame.append method is deprecated and will be removed from pandas in a future version. Use pandas.concat instead.\n",
            "  df = df.append({'Email': email_current, 'Phone_number': phone_number_current}, ignore_index=True)\n"
          ]
        },
        {
          "output_type": "stream",
          "name": "stdout",
          "text": [
            "['DFROELIC@csail.mit.edu'] []  has been extracted at iteration  217\n",
            "['honghaof@mit.edu'] []  has been extracted at iteration  217\n",
            "['jiahuifu@csail.mit.edu'] []  has been extracted at iteration  217\n",
            "['fus@mit.edu'] []  has been extracted at iteration  217\n"
          ]
        },
        {
          "output_type": "stream",
          "name": "stderr",
          "text": [
            "<ipython-input-35-74fde92eadb9>:52: FutureWarning: The frame.append method is deprecated and will be removed from pandas in a future version. Use pandas.concat instead.\n",
            "  df = df.append({'Email': email_current, 'Phone_number': phone_number_current}, ignore_index=True)\n",
            "<ipython-input-35-74fde92eadb9>:52: FutureWarning: The frame.append method is deprecated and will be removed from pandas in a future version. Use pandas.concat instead.\n",
            "  df = df.append({'Email': email_current, 'Phone_number': phone_number_current}, ignore_index=True)\n",
            "<ipython-input-35-74fde92eadb9>:52: FutureWarning: The frame.append method is deprecated and will be removed from pandas in a future version. Use pandas.concat instead.\n",
            "  df = df.append({'Email': email_current, 'Phone_number': phone_number_current}, ignore_index=True)\n",
            "<ipython-input-35-74fde92eadb9>:52: FutureWarning: The frame.append method is deprecated and will be removed from pandas in a future version. Use pandas.concat instead.\n",
            "  df = df.append({'Email': email_current, 'Phone_number': phone_number_current}, ignore_index=True)\n"
          ]
        },
        {
          "output_type": "stream",
          "name": "stdout",
          "text": [
            "['xiangfu@csail.mit.edu'] []  has been extracted at iteration  217\n",
            "['efuentes@mit.edu'] []  has been extracted at iteration  217\n",
            "['VFUKALA@csail.mit.edu'] []  has been extracted at iteration  217\n",
            "['brg@mit.edu'] []  has been extracted at iteration  217\n"
          ]
        },
        {
          "output_type": "stream",
          "name": "stderr",
          "text": [
            "<ipython-input-35-74fde92eadb9>:52: FutureWarning: The frame.append method is deprecated and will be removed from pandas in a future version. Use pandas.concat instead.\n",
            "  df = df.append({'Email': email_current, 'Phone_number': phone_number_current}, ignore_index=True)\n",
            "<ipython-input-35-74fde92eadb9>:52: FutureWarning: The frame.append method is deprecated and will be removed from pandas in a future version. Use pandas.concat instead.\n",
            "  df = df.append({'Email': email_current, 'Phone_number': phone_number_current}, ignore_index=True)\n",
            "<ipython-input-35-74fde92eadb9>:52: FutureWarning: The frame.append method is deprecated and will be removed from pandas in a future version. Use pandas.concat instead.\n",
            "  df = df.append({'Email': email_current, 'Phone_number': phone_number_current}, ignore_index=True)\n",
            "<ipython-input-35-74fde92eadb9>:52: FutureWarning: The frame.append method is deprecated and will be removed from pandas in a future version. Use pandas.concat instead.\n",
            "  df = df.append({'Email': email_current, 'Phone_number': phone_number_current}, ignore_index=True)\n"
          ]
        },
        {
          "output_type": "stream",
          "name": "stdout",
          "text": [
            "['leognon@mit.edu'] []  has been extracted at iteration  217\n",
            "['kgalani@MIT.EDU'] []  has been extracted at iteration  217\n",
            "['tfg@mit.edu'] []  has been extracted at iteration  217\n",
            "['HANNGAO@csail.mit.edu'] []  has been extracted at iteration  217\n"
          ]
        },
        {
          "output_type": "stream",
          "name": "stderr",
          "text": [
            "<ipython-input-35-74fde92eadb9>:52: FutureWarning: The frame.append method is deprecated and will be removed from pandas in a future version. Use pandas.concat instead.\n",
            "  df = df.append({'Email': email_current, 'Phone_number': phone_number_current}, ignore_index=True)\n",
            "<ipython-input-35-74fde92eadb9>:52: FutureWarning: The frame.append method is deprecated and will be removed from pandas in a future version. Use pandas.concat instead.\n",
            "  df = df.append({'Email': email_current, 'Phone_number': phone_number_current}, ignore_index=True)\n",
            "<ipython-input-35-74fde92eadb9>:52: FutureWarning: The frame.append method is deprecated and will be removed from pandas in a future version. Use pandas.concat instead.\n",
            "  df = df.append({'Email': email_current, 'Phone_number': phone_number_current}, ignore_index=True)\n",
            "<ipython-input-35-74fde92eadb9>:52: FutureWarning: The frame.append method is deprecated and will be removed from pandas in a future version. Use pandas.concat instead.\n",
            "  df = df.append({'Email': email_current, 'Phone_number': phone_number_current}, ignore_index=True)\n"
          ]
        },
        {
          "output_type": "stream",
          "name": "stdout",
          "text": [
            "['TRINITYG@csail.mit.edu'] []  has been extracted at iteration  217\n",
            "['razgaon@mit.edu'] []  has been extracted at iteration  217\n",
            "['shachieg@csail.mit.edu'] ['324-8365']  has been extracted at iteration  217\n",
            "['timur@csail.mit.edu'] []  has been extracted at iteration  217\n"
          ]
        },
        {
          "output_type": "stream",
          "name": "stderr",
          "text": [
            "<ipython-input-35-74fde92eadb9>:52: FutureWarning: The frame.append method is deprecated and will be removed from pandas in a future version. Use pandas.concat instead.\n",
            "  df = df.append({'Email': email_current, 'Phone_number': phone_number_current}, ignore_index=True)\n",
            "<ipython-input-35-74fde92eadb9>:52: FutureWarning: The frame.append method is deprecated and will be removed from pandas in a future version. Use pandas.concat instead.\n",
            "  df = df.append({'Email': email_current, 'Phone_number': phone_number_current}, ignore_index=True)\n",
            "<ipython-input-35-74fde92eadb9>:52: FutureWarning: The frame.append method is deprecated and will be removed from pandas in a future version. Use pandas.concat instead.\n",
            "  df = df.append({'Email': email_current, 'Phone_number': phone_number_current}, ignore_index=True)\n",
            "<ipython-input-35-74fde92eadb9>:52: FutureWarning: The frame.append method is deprecated and will be removed from pandas in a future version. Use pandas.concat instead.\n",
            "  df = df.append({'Email': email_current, 'Phone_number': phone_number_current}, ignore_index=True)\n"
          ]
        },
        {
          "output_type": "stream",
          "name": "stdout",
          "text": [
            "['iagatlin@csail.mit.edu'] []  has been extracted at iteration  217\n",
            "['gatmiry@mit.edu'] []  has been extracted at iteration  217\n",
            "['krisgrg@mit.edu'] []  has been extracted at iteration  217\n",
            "['ghaffari@mit.edu'] []  has been extracted at iteration  217\n"
          ]
        },
        {
          "output_type": "stream",
          "name": "stderr",
          "text": [
            "<ipython-input-35-74fde92eadb9>:52: FutureWarning: The frame.append method is deprecated and will be removed from pandas in a future version. Use pandas.concat instead.\n",
            "  df = df.append({'Email': email_current, 'Phone_number': phone_number_current}, ignore_index=True)\n",
            "<ipython-input-35-74fde92eadb9>:52: FutureWarning: The frame.append method is deprecated and will be removed from pandas in a future version. Use pandas.concat instead.\n",
            "  df = df.append({'Email': email_current, 'Phone_number': phone_number_current}, ignore_index=True)\n",
            "<ipython-input-35-74fde92eadb9>:52: FutureWarning: The frame.append method is deprecated and will be removed from pandas in a future version. Use pandas.concat instead.\n",
            "  df = df.append({'Email': email_current, 'Phone_number': phone_number_current}, ignore_index=True)\n",
            "<ipython-input-35-74fde92eadb9>:52: FutureWarning: The frame.append method is deprecated and will be removed from pandas in a future version. Use pandas.concat instead.\n",
            "  df = df.append({'Email': email_current, 'Phone_number': phone_number_current}, ignore_index=True)\n"
          ]
        },
        {
          "output_type": "stream",
          "name": "stdout",
          "text": [
            "['mghassem@MIT.EDU'] []  has been extracted at iteration  217\n",
            "['ghobadi@mit.edu'] []  has been extracted at iteration  217\n",
            "['shinghos@MIT.EDU'] []  has been extracted at iteration  217\n",
            "['yoshigho@mit.edu'] []  has been extracted at iteration  217\n"
          ]
        },
        {
          "output_type": "stream",
          "name": "stderr",
          "text": [
            "<ipython-input-35-74fde92eadb9>:52: FutureWarning: The frame.append method is deprecated and will be removed from pandas in a future version. Use pandas.concat instead.\n",
            "  df = df.append({'Email': email_current, 'Phone_number': phone_number_current}, ignore_index=True)\n",
            "<ipython-input-35-74fde92eadb9>:52: FutureWarning: The frame.append method is deprecated and will be removed from pandas in a future version. Use pandas.concat instead.\n",
            "  df = df.append({'Email': email_current, 'Phone_number': phone_number_current}, ignore_index=True)\n",
            "<ipython-input-35-74fde92eadb9>:52: FutureWarning: The frame.append method is deprecated and will be removed from pandas in a future version. Use pandas.concat instead.\n",
            "  df = df.append({'Email': email_current, 'Phone_number': phone_number_current}, ignore_index=True)\n",
            "<ipython-input-35-74fde92eadb9>:52: FutureWarning: The frame.append method is deprecated and will be removed from pandas in a future version. Use pandas.concat instead.\n",
            "  df = df.append({'Email': email_current, 'Phone_number': phone_number_current}, ignore_index=True)\n"
          ]
        },
        {
          "output_type": "stream",
          "name": "stdout",
          "text": [
            "['gibsonj@csail.mit.edu'] ['324-7299']  has been extracted at iteration  217\n",
            "['gifford@csail.mit.edu'] ['253-6039']  has been extracted at iteration  217\n",
            "['jricpow@csail.mit.edu'] []  has been extracted at iteration  217\n"
          ]
        },
        {
          "output_type": "stream",
          "name": "stderr",
          "text": [
            "<ipython-input-35-74fde92eadb9>:52: FutureWarning: The frame.append method is deprecated and will be removed from pandas in a future version. Use pandas.concat instead.\n",
            "  df = df.append({'Email': email_current, 'Phone_number': phone_number_current}, ignore_index=True)\n",
            "<ipython-input-35-74fde92eadb9>:52: FutureWarning: The frame.append method is deprecated and will be removed from pandas in a future version. Use pandas.concat instead.\n",
            "  df = df.append({'Email': email_current, 'Phone_number': phone_number_current}, ignore_index=True)\n",
            "<ipython-input-35-74fde92eadb9>:52: FutureWarning: The frame.append method is deprecated and will be removed from pandas in a future version. Use pandas.concat instead.\n",
            "  df = df.append({'Email': email_current, 'Phone_number': phone_number_current}, ignore_index=True)\n"
          ]
        },
        {
          "output_type": "stream",
          "name": "stdout",
          "text": [
            "['bilkitg@mit.edu'] []  has been extracted at iteration  217\n",
            "['glass@mit.edu'] ['253-1640']  has been extracted at iteration  217\n",
            "['glatman@csail.mit.edu'] ['253-0358']  has been extracted at iteration  217\n"
          ]
        },
        {
          "output_type": "stream",
          "name": "stderr",
          "text": [
            "<ipython-input-35-74fde92eadb9>:52: FutureWarning: The frame.append method is deprecated and will be removed from pandas in a future version. Use pandas.concat instead.\n",
            "  df = df.append({'Email': email_current, 'Phone_number': phone_number_current}, ignore_index=True)\n",
            "<ipython-input-35-74fde92eadb9>:52: FutureWarning: The frame.append method is deprecated and will be removed from pandas in a future version. Use pandas.concat instead.\n",
            "  df = df.append({'Email': email_current, 'Phone_number': phone_number_current}, ignore_index=True)\n",
            "<ipython-input-35-74fde92eadb9>:52: FutureWarning: The frame.append method is deprecated and will be removed from pandas in a future version. Use pandas.concat instead.\n",
            "  df = df.append({'Email': email_current, 'Phone_number': phone_number_current}, ignore_index=True)\n"
          ]
        },
        {
          "output_type": "stream",
          "name": "stdout",
          "text": [
            "['ilyaglik@mit.edu'] ['258-0413']  has been extracted at iteration  217\n",
            "['loriglover@csail.mit.edu'] ['715-2460']  has been extracted at iteration  217\n",
            "['gnadt@csail.MIT.EDU'] []  has been extracted at iteration  217\n"
          ]
        },
        {
          "output_type": "stream",
          "name": "stderr",
          "text": [
            "<ipython-input-35-74fde92eadb9>:52: FutureWarning: The frame.append method is deprecated and will be removed from pandas in a future version. Use pandas.concat instead.\n",
            "  df = df.append({'Email': email_current, 'Phone_number': phone_number_current}, ignore_index=True)\n",
            "<ipython-input-35-74fde92eadb9>:52: FutureWarning: The frame.append method is deprecated and will be removed from pandas in a future version. Use pandas.concat instead.\n",
            "  df = df.append({'Email': email_current, 'Phone_number': phone_number_current}, ignore_index=True)\n",
            "<ipython-input-35-74fde92eadb9>:52: FutureWarning: The frame.append method is deprecated and will be removed from pandas in a future version. Use pandas.concat instead.\n",
            "  df = df.append({'Email': email_current, 'Phone_number': phone_number_current}, ignore_index=True)\n"
          ]
        },
        {
          "output_type": "stream",
          "name": "stdout",
          "text": [
            "['samay@csail.mit.edu'] []  has been extracted at iteration  217\n",
            "['agoehler@mit.edu'] []  has been extracted at iteration  217\n",
            "['goemans@csail.mit.edu'] ['253-2688']  has been extracted at iteration  217\n"
          ]
        },
        {
          "output_type": "stream",
          "name": "stderr",
          "text": [
            "<ipython-input-35-74fde92eadb9>:52: FutureWarning: The frame.append method is deprecated and will be removed from pandas in a future version. Use pandas.concat instead.\n",
            "  df = df.append({'Email': email_current, 'Phone_number': phone_number_current}, ignore_index=True)\n",
            "<ipython-input-35-74fde92eadb9>:52: FutureWarning: The frame.append method is deprecated and will be removed from pandas in a future version. Use pandas.concat instead.\n",
            "  df = df.append({'Email': email_current, 'Phone_number': phone_number_current}, ignore_index=True)\n",
            "<ipython-input-35-74fde92eadb9>:52: FutureWarning: The frame.append method is deprecated and will be removed from pandas in a future version. Use pandas.concat instead.\n",
            "  df = df.append({'Email': email_current, 'Phone_number': phone_number_current}, ignore_index=True)\n"
          ]
        },
        {
          "output_type": "stream",
          "name": "stdout",
          "text": [
            "['VARUNCG@csail.mit.edu'] []  has been extracted at iteration  217\n",
            "['DAKOTA@csail.mit.edu'] []  has been extracted at iteration  217\n",
            "['cgolden@mit.edu'] []  has been extracted at iteration  217\n"
          ]
        },
        {
          "output_type": "stream",
          "name": "stderr",
          "text": [
            "<ipython-input-35-74fde92eadb9>:52: FutureWarning: The frame.append method is deprecated and will be removed from pandas in a future version. Use pandas.concat instead.\n",
            "  df = df.append({'Email': email_current, 'Phone_number': phone_number_current}, ignore_index=True)\n",
            "<ipython-input-35-74fde92eadb9>:52: FutureWarning: The frame.append method is deprecated and will be removed from pandas in a future version. Use pandas.concat instead.\n",
            "  df = df.append({'Email': email_current, 'Phone_number': phone_number_current}, ignore_index=True)\n",
            "<ipython-input-35-74fde92eadb9>:52: FutureWarning: The frame.append method is deprecated and will be removed from pandas in a future version. Use pandas.concat instead.\n",
            "  df = df.append({'Email': email_current, 'Phone_number': phone_number_current}, ignore_index=True)\n"
          ]
        },
        {
          "output_type": "stream",
          "name": "stdout",
          "text": [
            "['shafi@csail.mit.edu'] ['253-5914']  has been extracted at iteration  217\n",
            "['polina@csail.mit.edu'] ['253-8005']  has been extracted at iteration  217\n"
          ]
        },
        {
          "output_type": "stream",
          "name": "stderr",
          "text": [
            "<ipython-input-35-74fde92eadb9>:52: FutureWarning: The frame.append method is deprecated and will be removed from pandas in a future version. Use pandas.concat instead.\n",
            "  df = df.append({'Email': email_current, 'Phone_number': phone_number_current}, ignore_index=True)\n",
            "<ipython-input-35-74fde92eadb9>:52: FutureWarning: The frame.append method is deprecated and will be removed from pandas in a future version. Use pandas.concat instead.\n",
            "  df = df.append({'Email': email_current, 'Phone_number': phone_number_current}, ignore_index=True)\n"
          ]
        },
        {
          "output_type": "stream",
          "name": "stdout",
          "text": [
            "['nzg@mit.edu'] []  has been extracted at iteration  217\n",
            "['tagomez7@mit.edu'] []  has been extracted at iteration  217\n",
            "['yuangong@csail.mit.edu'] []  has been extracted at iteration  217\n"
          ]
        },
        {
          "output_type": "stream",
          "name": "stderr",
          "text": [
            "<ipython-input-35-74fde92eadb9>:52: FutureWarning: The frame.append method is deprecated and will be removed from pandas in a future version. Use pandas.concat instead.\n",
            "  df = df.append({'Email': email_current, 'Phone_number': phone_number_current}, ignore_index=True)\n",
            "<ipython-input-35-74fde92eadb9>:52: FutureWarning: The frame.append method is deprecated and will be removed from pandas in a future version. Use pandas.concat instead.\n",
            "  df = df.append({'Email': email_current, 'Phone_number': phone_number_current}, ignore_index=True)\n",
            "<ipython-input-35-74fde92eadb9>:52: FutureWarning: The frame.append method is deprecated and will be removed from pandas in a future version. Use pandas.concat instead.\n",
            "  df = df.append({'Email': email_current, 'Phone_number': phone_number_current}, ignore_index=True)\n"
          ]
        },
        {
          "output_type": "stream",
          "name": "stdout",
          "text": [
            "['mariarg@mit.edu'] []  has been extracted at iteration  217\n",
            "['jjgo@mit.edu'] []  has been extracted at iteration  217\n",
            "['dlehto@csail.mit.edu'] ['324-7303']  has been extracted at iteration  217\n"
          ]
        },
        {
          "output_type": "stream",
          "name": "stderr",
          "text": [
            "<ipython-input-35-74fde92eadb9>:52: FutureWarning: The frame.append method is deprecated and will be removed from pandas in a future version. Use pandas.concat instead.\n",
            "  df = df.append({'Email': email_current, 'Phone_number': phone_number_current}, ignore_index=True)\n",
            "<ipython-input-35-74fde92eadb9>:52: FutureWarning: The frame.append method is deprecated and will be removed from pandas in a future version. Use pandas.concat instead.\n",
            "  df = df.append({'Email': email_current, 'Phone_number': phone_number_current}, ignore_index=True)\n",
            "<ipython-input-35-74fde92eadb9>:52: FutureWarning: The frame.append method is deprecated and will be removed from pandas in a future version. Use pandas.concat instead.\n",
            "  df = df.append({'Email': email_current, 'Phone_number': phone_number_current}, ignore_index=True)\n"
          ]
        },
        {
          "output_type": "stream",
          "name": "stdout",
          "text": [
            "['vivekg@mit.edu'] []  has been extracted at iteration  217\n",
            "['MLGORDON@csail.mit.edu'] []  has been extracted at iteration  217\n",
            "['rachelg@csail.mit.edu'] ['258-0675']  has been extracted at iteration  217\n"
          ]
        },
        {
          "output_type": "stream",
          "name": "stderr",
          "text": [
            "<ipython-input-35-74fde92eadb9>:52: FutureWarning: The frame.append method is deprecated and will be removed from pandas in a future version. Use pandas.concat instead.\n",
            "  df = df.append({'Email': email_current, 'Phone_number': phone_number_current}, ignore_index=True)\n",
            "<ipython-input-35-74fde92eadb9>:52: FutureWarning: The frame.append method is deprecated and will be removed from pandas in a future version. Use pandas.concat instead.\n",
            "  df = df.append({'Email': email_current, 'Phone_number': phone_number_current}, ignore_index=True)\n",
            "<ipython-input-35-74fde92eadb9>:52: FutureWarning: The frame.append method is deprecated and will be removed from pandas in a future version. Use pandas.concat instead.\n",
            "  df = df.append({'Email': email_current, 'Phone_number': phone_number_current}, ignore_index=True)\n"
          ]
        },
        {
          "output_type": "stream",
          "name": "stdout",
          "text": [
            "['nishadg@csail.mit.edu'] []  has been extracted at iteration  217\n",
            "['lgovedic@mit.edu'] []  has been extracted at iteration  217\n",
            "['gowda@MIT.EDU'] []  has been extracted at iteration  217\n"
          ]
        },
        {
          "output_type": "stream",
          "name": "stderr",
          "text": [
            "<ipython-input-35-74fde92eadb9>:52: FutureWarning: The frame.append method is deprecated and will be removed from pandas in a future version. Use pandas.concat instead.\n",
            "  df = df.append({'Email': email_current, 'Phone_number': phone_number_current}, ignore_index=True)\n",
            "<ipython-input-35-74fde92eadb9>:52: FutureWarning: The frame.append method is deprecated and will be removed from pandas in a future version. Use pandas.concat instead.\n",
            "  df = df.append({'Email': email_current, 'Phone_number': phone_number_current}, ignore_index=True)\n",
            "<ipython-input-35-74fde92eadb9>:52: FutureWarning: The frame.append method is deprecated and will be removed from pandas in a future version. Use pandas.concat instead.\n",
            "  df = df.append({'Email': email_current, 'Phone_number': phone_number_current}, ignore_index=True)\n"
          ]
        },
        {
          "output_type": "stream",
          "name": "stdout",
          "text": [
            "['scmgowda@mit.edu'] []  has been extracted at iteration  217\n",
            "['graesdal@mit.edu'] []  has been extracted at iteration  217\n",
            "['grandg@mit.edu'] []  has been extracted at iteration  217\n"
          ]
        },
        {
          "output_type": "stream",
          "name": "stderr",
          "text": [
            "<ipython-input-35-74fde92eadb9>:52: FutureWarning: The frame.append method is deprecated and will be removed from pandas in a future version. Use pandas.concat instead.\n",
            "  df = df.append({'Email': email_current, 'Phone_number': phone_number_current}, ignore_index=True)\n",
            "<ipython-input-35-74fde92eadb9>:52: FutureWarning: The frame.append method is deprecated and will be removed from pandas in a future version. Use pandas.concat instead.\n",
            "  df = df.append({'Email': email_current, 'Phone_number': phone_number_current}, ignore_index=True)\n",
            "<ipython-input-35-74fde92eadb9>:52: FutureWarning: The frame.append method is deprecated and will be removed from pandas in a future version. Use pandas.concat instead.\n",
            "  df = df.append({'Email': email_current, 'Phone_number': phone_number_current}, ignore_index=True)\n"
          ]
        },
        {
          "output_type": "stream",
          "name": "stdout",
          "text": [
            "['agrayson@csail.mit.edu'] []  has been extracted at iteration  217\n",
            "['wng@csail.mit.edu'] []  has been extracted at iteration  217\n",
            "['GRIMMETT@csail.mit.edu'] []  has been extracted at iteration  217\n"
          ]
        },
        {
          "output_type": "stream",
          "name": "stderr",
          "text": [
            "<ipython-input-35-74fde92eadb9>:52: FutureWarning: The frame.append method is deprecated and will be removed from pandas in a future version. Use pandas.concat instead.\n",
            "  df = df.append({'Email': email_current, 'Phone_number': phone_number_current}, ignore_index=True)\n",
            "<ipython-input-35-74fde92eadb9>:52: FutureWarning: The frame.append method is deprecated and will be removed from pandas in a future version. Use pandas.concat instead.\n",
            "  df = df.append({'Email': email_current, 'Phone_number': phone_number_current}, ignore_index=True)\n",
            "<ipython-input-35-74fde92eadb9>:52: FutureWarning: The frame.append method is deprecated and will be removed from pandas in a future version. Use pandas.concat instead.\n",
            "  df = df.append({'Email': email_current, 'Phone_number': phone_number_current}, ignore_index=True)\n"
          ]
        },
        {
          "output_type": "stream",
          "name": "stdout",
          "text": [
            "['egrimson@mit.edu'] ['253-5415']  has been extracted at iteration  217\n",
            "['hannah@csail.mit.edu'] []  has been extracted at iteration  217\n",
            "['jgross@mit.edu'] []  has been extracted at iteration  217\n"
          ]
        },
        {
          "output_type": "stream",
          "name": "stderr",
          "text": [
            "<ipython-input-35-74fde92eadb9>:52: FutureWarning: The frame.append method is deprecated and will be removed from pandas in a future version. Use pandas.concat instead.\n",
            "  df = df.append({'Email': email_current, 'Phone_number': phone_number_current}, ignore_index=True)\n",
            "<ipython-input-35-74fde92eadb9>:52: FutureWarning: The frame.append method is deprecated and will be removed from pandas in a future version. Use pandas.concat instead.\n",
            "  df = df.append({'Email': email_current, 'Phone_number': phone_number_current}, ignore_index=True)\n",
            "<ipython-input-35-74fde92eadb9>:52: FutureWarning: The frame.append method is deprecated and will be removed from pandas in a future version. Use pandas.concat instead.\n",
            "  df = df.append({'Email': email_current, 'Phone_number': phone_number_current}, ignore_index=True)\n"
          ]
        },
        {
          "output_type": "stream",
          "name": "stdout",
          "text": [
            "['ogrossma@mit.edu'] []  has been extracted at iteration  217\n",
            "['gruetter@mit.edu'] []  has been extracted at iteration  217\n"
          ]
        },
        {
          "output_type": "stream",
          "name": "stderr",
          "text": [
            "<ipython-input-35-74fde92eadb9>:52: FutureWarning: The frame.append method is deprecated and will be removed from pandas in a future version. Use pandas.concat instead.\n",
            "  df = df.append({'Email': email_current, 'Phone_number': phone_number_current}, ignore_index=True)\n",
            "<ipython-input-35-74fde92eadb9>:52: FutureWarning: The frame.append method is deprecated and will be removed from pandas in a future version. Use pandas.concat instead.\n",
            "  df = df.append({'Email': email_current, 'Phone_number': phone_number_current}, ignore_index=True)\n"
          ]
        },
        {
          "output_type": "stream",
          "name": "stdout",
          "text": [
            "['cgrunau@mit.edu'] []  has been extracted at iteration  217\n",
            "['gua@mit.edu'] []  has been extracted at iteration  217\n",
            "['GUR1@csail.mit.edu'] []  has been extracted at iteration  217\n"
          ]
        },
        {
          "output_type": "stream",
          "name": "stderr",
          "text": [
            "<ipython-input-35-74fde92eadb9>:52: FutureWarning: The frame.append method is deprecated and will be removed from pandas in a future version. Use pandas.concat instead.\n",
            "  df = df.append({'Email': email_current, 'Phone_number': phone_number_current}, ignore_index=True)\n",
            "<ipython-input-35-74fde92eadb9>:52: FutureWarning: The frame.append method is deprecated and will be removed from pandas in a future version. Use pandas.concat instead.\n",
            "  df = df.append({'Email': email_current, 'Phone_number': phone_number_current}, ignore_index=True)\n",
            "<ipython-input-35-74fde92eadb9>:52: FutureWarning: The frame.append method is deprecated and will be removed from pandas in a future version. Use pandas.concat instead.\n",
            "  df = df.append({'Email': email_current, 'Phone_number': phone_number_current}, ignore_index=True)\n"
          ]
        },
        {
          "output_type": "stream",
          "name": "stdout",
          "text": [
            "['sgulati@mit.edu'] []  has been extracted at iteration  217\n",
            "['carlguo@mit.edu'] []  has been extracted at iteration  217\n",
            "['minghaog@mit.edu'] []  has been extracted at iteration  217\n"
          ]
        },
        {
          "output_type": "stream",
          "name": "stderr",
          "text": [
            "<ipython-input-35-74fde92eadb9>:52: FutureWarning: The frame.append method is deprecated and will be removed from pandas in a future version. Use pandas.concat instead.\n",
            "  df = df.append({'Email': email_current, 'Phone_number': phone_number_current}, ignore_index=True)\n",
            "<ipython-input-35-74fde92eadb9>:52: FutureWarning: The frame.append method is deprecated and will be removed from pandas in a future version. Use pandas.concat instead.\n",
            "  df = df.append({'Email': email_current, 'Phone_number': phone_number_current}, ignore_index=True)\n",
            "<ipython-input-35-74fde92eadb9>:52: FutureWarning: The frame.append method is deprecated and will be removed from pandas in a future version. Use pandas.concat instead.\n",
            "  df = df.append({'Email': email_current, 'Phone_number': phone_number_current}, ignore_index=True)\n"
          ]
        },
        {
          "output_type": "stream",
          "name": "stdout",
          "text": [
            "['abhig@mit.edu'] []  has been extracted at iteration  217\n",
            "['agupta@MIT.EDU'] ['253-0418']  has been extracted at iteration  217\n"
          ]
        },
        {
          "output_type": "stream",
          "name": "stderr",
          "text": [
            "<ipython-input-35-74fde92eadb9>:52: FutureWarning: The frame.append method is deprecated and will be removed from pandas in a future version. Use pandas.concat instead.\n",
            "  df = df.append({'Email': email_current, 'Phone_number': phone_number_current}, ignore_index=True)\n",
            "<ipython-input-35-74fde92eadb9>:52: FutureWarning: The frame.append method is deprecated and will be removed from pandas in a future version. Use pandas.concat instead.\n",
            "  df = df.append({'Email': email_current, 'Phone_number': phone_number_current}, ignore_index=True)\n"
          ]
        },
        {
          "output_type": "stream",
          "name": "stdout",
          "text": [
            "['kavig@MIT.EDU'] []  has been extracted at iteration  217\n",
            "['sejalg@mit.edu'] []  has been extracted at iteration  217\n",
            "['sharut@mit.edu'] []  has been extracted at iteration  217\n"
          ]
        },
        {
          "output_type": "stream",
          "name": "stderr",
          "text": [
            "<ipython-input-35-74fde92eadb9>:52: FutureWarning: The frame.append method is deprecated and will be removed from pandas in a future version. Use pandas.concat instead.\n",
            "  df = df.append({'Email': email_current, 'Phone_number': phone_number_current}, ignore_index=True)\n",
            "<ipython-input-35-74fde92eadb9>:52: FutureWarning: The frame.append method is deprecated and will be removed from pandas in a future version. Use pandas.concat instead.\n",
            "  df = df.append({'Email': email_current, 'Phone_number': phone_number_current}, ignore_index=True)\n",
            "<ipython-input-35-74fde92eadb9>:52: FutureWarning: The frame.append method is deprecated and will be removed from pandas in a future version. Use pandas.concat instead.\n",
            "  df = df.append({'Email': email_current, 'Phone_number': phone_number_current}, ignore_index=True)\n"
          ]
        },
        {
          "output_type": "stream",
          "name": "stdout",
          "text": [
            "['SHIVAMG@csail.mit.edu'] []  has been extracted at iteration  217\n",
            "['sgurev@mit.edu'] []  has been extracted at iteration  217\n",
            "['valmg@csail.mit.edu'] []  has been extracted at iteration  217\n"
          ]
        },
        {
          "output_type": "stream",
          "name": "stderr",
          "text": [
            "<ipython-input-35-74fde92eadb9>:52: FutureWarning: The frame.append method is deprecated and will be removed from pandas in a future version. Use pandas.concat instead.\n",
            "  df = df.append({'Email': email_current, 'Phone_number': phone_number_current}, ignore_index=True)\n",
            "<ipython-input-35-74fde92eadb9>:52: FutureWarning: The frame.append method is deprecated and will be removed from pandas in a future version. Use pandas.concat instead.\n",
            "  df = df.append({'Email': email_current, 'Phone_number': phone_number_current}, ignore_index=True)\n",
            "<ipython-input-35-74fde92eadb9>:52: FutureWarning: The frame.append method is deprecated and will be removed from pandas in a future version. Use pandas.concat instead.\n",
            "  df = df.append({'Email': email_current, 'Phone_number': phone_number_current}, ignore_index=True)\n"
          ]
        },
        {
          "output_type": "stream",
          "name": "stdout",
          "text": [
            "['guttag@csail.mit.edu'] ['253-6022']  has been extracted at iteration  217\n",
            "['dhm@csail.mit.edu'] ['258-0672']  has been extracted at iteration  217\n",
            "['hagemann@csail.mit.edu'] []  has been extracted at iteration  217\n"
          ]
        },
        {
          "output_type": "stream",
          "name": "stderr",
          "text": [
            "<ipython-input-35-74fde92eadb9>:52: FutureWarning: The frame.append method is deprecated and will be removed from pandas in a future version. Use pandas.concat instead.\n",
            "  df = df.append({'Email': email_current, 'Phone_number': phone_number_current}, ignore_index=True)\n",
            "<ipython-input-35-74fde92eadb9>:52: FutureWarning: The frame.append method is deprecated and will be removed from pandas in a future version. Use pandas.concat instead.\n",
            "  df = df.append({'Email': email_current, 'Phone_number': phone_number_current}, ignore_index=True)\n",
            "<ipython-input-35-74fde92eadb9>:52: FutureWarning: The frame.append method is deprecated and will be removed from pandas in a future version. Use pandas.concat instead.\n",
            "  df = df.append({'Email': email_current, 'Phone_number': phone_number_current}, ignore_index=True)\n"
          ]
        },
        {
          "output_type": "stream",
          "name": "stdout",
          "text": [
            "['hagenow@mit.edu'] []  has been extracted at iteration  217\n",
            "['pouyah@MIT.EDU'] []  has been extracted at iteration  217\n"
          ]
        },
        {
          "output_type": "stream",
          "name": "stderr",
          "text": [
            "<ipython-input-35-74fde92eadb9>:52: FutureWarning: The frame.append method is deprecated and will be removed from pandas in a future version. Use pandas.concat instead.\n",
            "  df = df.append({'Email': email_current, 'Phone_number': phone_number_current}, ignore_index=True)\n",
            "<ipython-input-35-74fde92eadb9>:52: FutureWarning: The frame.append method is deprecated and will be removed from pandas in a future version. Use pandas.concat instead.\n",
            "  df = df.append({'Email': email_current, 'Phone_number': phone_number_current}, ignore_index=True)\n"
          ]
        },
        {
          "output_type": "stream",
          "name": "stdout",
          "text": [
            "['markth@mit.edu'] []  has been extracted at iteration  217\n",
            "['clariseh@csail.mit.edu'] []  has been extracted at iteration  217\n"
          ]
        },
        {
          "output_type": "stream",
          "name": "stderr",
          "text": [
            "<ipython-input-35-74fde92eadb9>:52: FutureWarning: The frame.append method is deprecated and will be removed from pandas in a future version. Use pandas.concat instead.\n",
            "  df = df.append({'Email': email_current, 'Phone_number': phone_number_current}, ignore_index=True)\n",
            "<ipython-input-35-74fde92eadb9>:52: FutureWarning: The frame.append method is deprecated and will be removed from pandas in a future version. Use pandas.concat instead.\n",
            "  df = df.append({'Email': email_current, 'Phone_number': phone_number_current}, ignore_index=True)\n"
          ]
        },
        {
          "output_type": "stream",
          "name": "stdout",
          "text": [
            "['swhan@mit.edu'] []  has been extracted at iteration  217\n",
            "['weiqiaoh@mit.edu'] []  has been extracted at iteration  217\n",
            "['xikun@csail.mit.edu'] []  has been extracted at iteration  217\n"
          ]
        },
        {
          "output_type": "stream",
          "name": "stderr",
          "text": [
            "<ipython-input-35-74fde92eadb9>:52: FutureWarning: The frame.append method is deprecated and will be removed from pandas in a future version. Use pandas.concat instead.\n",
            "  df = df.append({'Email': email_current, 'Phone_number': phone_number_current}, ignore_index=True)\n",
            "<ipython-input-35-74fde92eadb9>:52: FutureWarning: The frame.append method is deprecated and will be removed from pandas in a future version. Use pandas.concat instead.\n",
            "  df = df.append({'Email': email_current, 'Phone_number': phone_number_current}, ignore_index=True)\n",
            "<ipython-input-35-74fde92eadb9>:52: FutureWarning: The frame.append method is deprecated and will be removed from pandas in a future version. Use pandas.concat instead.\n",
            "  df = df.append({'Email': email_current, 'Phone_number': phone_number_current}, ignore_index=True)\n"
          ]
        },
        {
          "output_type": "stream",
          "name": "stdout",
          "text": [
            "['joanne@csail.mit.edu'] ['253-6054']  has been extracted at iteration  217\n"
          ]
        },
        {
          "output_type": "stream",
          "name": "stderr",
          "text": [
            "<ipython-input-35-74fde92eadb9>:52: FutureWarning: The frame.append method is deprecated and will be removed from pandas in a future version. Use pandas.concat instead.\n",
            "  df = df.append({'Email': email_current, 'Phone_number': phone_number_current}, ignore_index=True)\n"
          ]
        },
        {
          "output_type": "stream",
          "name": "stdout",
          "text": [
            "['silvina@MIT.EDU'] []  has been extracted at iteration  433\n",
            "['hansena@mit.edu'] []  has been extracted at iteration  433\n",
            "['nharasha@mit.edu'] []  has been extracted at iteration  433\n"
          ]
        },
        {
          "output_type": "stream",
          "name": "stderr",
          "text": [
            "<ipython-input-35-74fde92eadb9>:52: FutureWarning: The frame.append method is deprecated and will be removed from pandas in a future version. Use pandas.concat instead.\n",
            "  df = df.append({'Email': email_current, 'Phone_number': phone_number_current}, ignore_index=True)\n",
            "<ipython-input-35-74fde92eadb9>:52: FutureWarning: The frame.append method is deprecated and will be removed from pandas in a future version. Use pandas.concat instead.\n",
            "  df = df.append({'Email': email_current, 'Phone_number': phone_number_current}, ignore_index=True)\n",
            "<ipython-input-35-74fde92eadb9>:52: FutureWarning: The frame.append method is deprecated and will be removed from pandas in a future version. Use pandas.concat instead.\n",
            "  df = df.append({'Email': email_current, 'Phone_number': phone_number_current}, ignore_index=True)\n"
          ]
        },
        {
          "output_type": "stream",
          "name": "stdout",
          "text": [
            "['fox@csail.mit.edu'] ['324-4278']  has been extracted at iteration  433\n",
            "['annekh@mit.edu'] []  has been extracted at iteration  433\n",
            "['BSHARRIS@csail.mit.edu'] []  has been extracted at iteration  433\n"
          ]
        },
        {
          "output_type": "stream",
          "name": "stderr",
          "text": [
            "<ipython-input-35-74fde92eadb9>:52: FutureWarning: The frame.append method is deprecated and will be removed from pandas in a future version. Use pandas.concat instead.\n",
            "  df = df.append({'Email': email_current, 'Phone_number': phone_number_current}, ignore_index=True)\n",
            "<ipython-input-35-74fde92eadb9>:52: FutureWarning: The frame.append method is deprecated and will be removed from pandas in a future version. Use pandas.concat instead.\n",
            "  df = df.append({'Email': email_current, 'Phone_number': phone_number_current}, ignore_index=True)\n",
            "<ipython-input-35-74fde92eadb9>:52: FutureWarning: The frame.append method is deprecated and will be removed from pandas in a future version. Use pandas.concat instead.\n",
            "  df = df.append({'Email': email_current, 'Phone_number': phone_number_current}, ignore_index=True)\n"
          ]
        },
        {
          "output_type": "stream",
          "name": "stdout",
          "text": [
            "['charshaw@csail.mit.edu'] []  has been extracted at iteration  433\n",
            "['tomh@mit.edu'] []  has been extracted at iteration  433\n",
            "['rhasani@csail.mit.edu'] []  has been extracted at iteration  433\n"
          ]
        },
        {
          "output_type": "stream",
          "name": "stderr",
          "text": [
            "<ipython-input-35-74fde92eadb9>:52: FutureWarning: The frame.append method is deprecated and will be removed from pandas in a future version. Use pandas.concat instead.\n",
            "  df = df.append({'Email': email_current, 'Phone_number': phone_number_current}, ignore_index=True)\n",
            "<ipython-input-35-74fde92eadb9>:52: FutureWarning: The frame.append method is deprecated and will be removed from pandas in a future version. Use pandas.concat instead.\n",
            "  df = df.append({'Email': email_current, 'Phone_number': phone_number_current}, ignore_index=True)\n",
            "<ipython-input-35-74fde92eadb9>:52: FutureWarning: The frame.append method is deprecated and will be removed from pandas in a future version. Use pandas.concat instead.\n",
            "  df = df.append({'Email': email_current, 'Phone_number': phone_number_current}, ignore_index=True)\n"
          ]
        },
        {
          "output_type": "stream",
          "name": "stdout",
          "text": [
            "['T-HASIC@csail.mit.edu'] []  has been extracted at iteration  433\n",
            "['willhath@mit.edu'] []  has been extracted at iteration  433\n",
            "['HAUCKE@csail.mit.edu'] []  has been extracted at iteration  433\n",
            "['rhaulcy@mit.edu'] []  has been extracted at iteration  433\n"
          ]
        },
        {
          "output_type": "stream",
          "name": "stderr",
          "text": [
            "<ipython-input-35-74fde92eadb9>:52: FutureWarning: The frame.append method is deprecated and will be removed from pandas in a future version. Use pandas.concat instead.\n",
            "  df = df.append({'Email': email_current, 'Phone_number': phone_number_current}, ignore_index=True)\n",
            "<ipython-input-35-74fde92eadb9>:52: FutureWarning: The frame.append method is deprecated and will be removed from pandas in a future version. Use pandas.concat instead.\n",
            "  df = df.append({'Email': email_current, 'Phone_number': phone_number_current}, ignore_index=True)\n",
            "<ipython-input-35-74fde92eadb9>:52: FutureWarning: The frame.append method is deprecated and will be removed from pandas in a future version. Use pandas.concat instead.\n",
            "  df = df.append({'Email': email_current, 'Phone_number': phone_number_current}, ignore_index=True)\n",
            "<ipython-input-35-74fde92eadb9>:52: FutureWarning: The frame.append method is deprecated and will be removed from pandas in a future version. Use pandas.concat instead.\n",
            "  df = df.append({'Email': email_current, 'Phone_number': phone_number_current}, ignore_index=True)\n",
            "<ipython-input-35-74fde92eadb9>:52: FutureWarning: The frame.append method is deprecated and will be removed from pandas in a future version. Use pandas.concat instead.\n",
            "  df = df.append({'Email': email_current, 'Phone_number': phone_number_current}, ignore_index=True)\n"
          ]
        },
        {
          "output_type": "stream",
          "name": "stdout",
          "text": [
            "['haupt@mit.edu'] []  has been extracted at iteration  433\n",
            "['haohe@mit.edu'] []  has been extracted at iteration  433\n",
            "['KHE01@csail.mit.edu'] []  has been extracted at iteration  433\n",
            "['lianghe@csail.mit.edu'] []  has been extracted at iteration  433\n"
          ]
        },
        {
          "output_type": "stream",
          "name": "stderr",
          "text": [
            "<ipython-input-35-74fde92eadb9>:52: FutureWarning: The frame.append method is deprecated and will be removed from pandas in a future version. Use pandas.concat instead.\n",
            "  df = df.append({'Email': email_current, 'Phone_number': phone_number_current}, ignore_index=True)\n",
            "<ipython-input-35-74fde92eadb9>:52: FutureWarning: The frame.append method is deprecated and will be removed from pandas in a future version. Use pandas.concat instead.\n",
            "  df = df.append({'Email': email_current, 'Phone_number': phone_number_current}, ignore_index=True)\n",
            "<ipython-input-35-74fde92eadb9>:52: FutureWarning: The frame.append method is deprecated and will be removed from pandas in a future version. Use pandas.concat instead.\n",
            "  df = df.append({'Email': email_current, 'Phone_number': phone_number_current}, ignore_index=True)\n",
            "<ipython-input-35-74fde92eadb9>:52: FutureWarning: The frame.append method is deprecated and will be removed from pandas in a future version. Use pandas.concat instead.\n",
            "  df = df.append({'Email': email_current, 'Phone_number': phone_number_current}, ignore_index=True)\n"
          ]
        },
        {
          "output_type": "stream",
          "name": "stdout",
          "text": [
            "['wenjiah@mit.edu'] []  has been extracted at iteration  433\n",
            "['hecher@csail.mit.edu'] []  has been extracted at iteration  433\n",
            "['chem@mit.edu'] []  has been extracted at iteration  433\n"
          ]
        },
        {
          "output_type": "stream",
          "name": "stderr",
          "text": [
            "<ipython-input-35-74fde92eadb9>:52: FutureWarning: The frame.append method is deprecated and will be removed from pandas in a future version. Use pandas.concat instead.\n",
            "  df = df.append({'Email': email_current, 'Phone_number': phone_number_current}, ignore_index=True)\n",
            "<ipython-input-35-74fde92eadb9>:52: FutureWarning: The frame.append method is deprecated and will be removed from pandas in a future version. Use pandas.concat instead.\n",
            "  df = df.append({'Email': email_current, 'Phone_number': phone_number_current}, ignore_index=True)\n",
            "<ipython-input-35-74fde92eadb9>:52: FutureWarning: The frame.append method is deprecated and will be removed from pandas in a future version. Use pandas.concat instead.\n",
            "  df = df.append({'Email': email_current, 'Phone_number': phone_number_current}, ignore_index=True)\n"
          ]
        },
        {
          "output_type": "stream",
          "name": "stdout",
          "text": [
            "['hembergerik@CSAIL.MIT.EDU'] []  has been extracted at iteration  433\n",
            "['tfh@mit.edu'] []  has been extracted at iteration  433\n",
            "['dylanhen@mit.edu'] []  has been extracted at iteration  433\n"
          ]
        },
        {
          "output_type": "stream",
          "name": "stderr",
          "text": [
            "<ipython-input-35-74fde92eadb9>:52: FutureWarning: The frame.append method is deprecated and will be removed from pandas in a future version. Use pandas.concat instead.\n",
            "  df = df.append({'Email': email_current, 'Phone_number': phone_number_current}, ignore_index=True)\n",
            "<ipython-input-35-74fde92eadb9>:52: FutureWarning: The frame.append method is deprecated and will be removed from pandas in a future version. Use pandas.concat instead.\n",
            "  df = df.append({'Email': email_current, 'Phone_number': phone_number_current}, ignore_index=True)\n",
            "<ipython-input-35-74fde92eadb9>:52: FutureWarning: The frame.append method is deprecated and will be removed from pandas in a future version. Use pandas.concat instead.\n",
            "  df = df.append({'Email': email_current, 'Phone_number': phone_number_current}, ignore_index=True)\n"
          ]
        },
        {
          "output_type": "stream",
          "name": "stdout",
          "text": [
            "['shawn@w3.org'] ['253-8788']  has been extracted at iteration  433\n",
            "['ahenz@MIT.EDU'] []  has been extracted at iteration  433\n",
            "['dez@mit.edu'] []  has been extracted at iteration  433\n"
          ]
        },
        {
          "output_type": "stream",
          "name": "stderr",
          "text": [
            "<ipython-input-35-74fde92eadb9>:52: FutureWarning: The frame.append method is deprecated and will be removed from pandas in a future version. Use pandas.concat instead.\n",
            "  df = df.append({'Email': email_current, 'Phone_number': phone_number_current}, ignore_index=True)\n",
            "<ipython-input-35-74fde92eadb9>:52: FutureWarning: The frame.append method is deprecated and will be removed from pandas in a future version. Use pandas.concat instead.\n",
            "  df = df.append({'Email': email_current, 'Phone_number': phone_number_current}, ignore_index=True)\n",
            "<ipython-input-35-74fde92eadb9>:52: FutureWarning: The frame.append method is deprecated and will be removed from pandas in a future version. Use pandas.concat instead.\n",
            "  df = df.append({'Email': email_current, 'Phone_number': phone_number_current}, ignore_index=True)\n"
          ]
        },
        {
          "output_type": "stream",
          "name": "stdout",
          "text": [
            "['leohc@mit.edu'] []  has been extracted at iteration  433\n",
            "['nhiggins@mit.edu'] ['253-3497']  has been extracted at iteration  433\n",
            "['pyaesone@mit.edu'] []  has been extracted at iteration  433\n"
          ]
        },
        {
          "output_type": "stream",
          "name": "stderr",
          "text": [
            "<ipython-input-35-74fde92eadb9>:52: FutureWarning: The frame.append method is deprecated and will be removed from pandas in a future version. Use pandas.concat instead.\n",
            "  df = df.append({'Email': email_current, 'Phone_number': phone_number_current}, ignore_index=True)\n",
            "<ipython-input-35-74fde92eadb9>:52: FutureWarning: The frame.append method is deprecated and will be removed from pandas in a future version. Use pandas.concat instead.\n",
            "  df = df.append({'Email': email_current, 'Phone_number': phone_number_current}, ignore_index=True)\n",
            "<ipython-input-35-74fde92eadb9>:52: FutureWarning: The frame.append method is deprecated and will be removed from pandas in a future version. Use pandas.concat instead.\n",
            "  df = df.append({'Email': email_current, 'Phone_number': phone_number_current}, ignore_index=True)\n"
          ]
        },
        {
          "output_type": "stream",
          "name": "stdout",
          "text": [
            "['darry140@mit.edu'] []  has been extracted at iteration  433\n",
            "['lilunho@csail.mit.edu'] []  has been extracted at iteration  433\n",
            "['nicolem@csail.mit.edu'] []  has been extracted at iteration  433\n"
          ]
        },
        {
          "output_type": "stream",
          "name": "stderr",
          "text": [
            "<ipython-input-35-74fde92eadb9>:52: FutureWarning: The frame.append method is deprecated and will be removed from pandas in a future version. Use pandas.concat instead.\n",
            "  df = df.append({'Email': email_current, 'Phone_number': phone_number_current}, ignore_index=True)\n",
            "<ipython-input-35-74fde92eadb9>:52: FutureWarning: The frame.append method is deprecated and will be removed from pandas in a future version. Use pandas.concat instead.\n",
            "  df = df.append({'Email': email_current, 'Phone_number': phone_number_current}, ignore_index=True)\n",
            "<ipython-input-35-74fde92eadb9>:52: FutureWarning: The frame.append method is deprecated and will be removed from pandas in a future version. Use pandas.concat instead.\n",
            "  df = df.append({'Email': email_current, 'Phone_number': phone_number_current}, ignore_index=True)\n",
            "<ipython-input-35-74fde92eadb9>:52: FutureWarning: The frame.append method is deprecated and will be removed from pandas in a future version. Use pandas.concat instead.\n",
            "  df = df.append({'Email': email_current, 'Phone_number': phone_number_current}, ignore_index=True)\n"
          ]
        },
        {
          "output_type": "stream",
          "name": "stdout",
          "text": [
            "['meganhof@csail.mit.edu'] []  has been extracted at iteration  433\n",
            "['klhogan@mit.edu'] []  has been extracted at iteration  433\n",
            "['phold@mit.edu'] []  has been extracted at iteration  433\n"
          ]
        },
        {
          "output_type": "stream",
          "name": "stderr",
          "text": [
            "<ipython-input-35-74fde92eadb9>:52: FutureWarning: The frame.append method is deprecated and will be removed from pandas in a future version. Use pandas.concat instead.\n",
            "  df = df.append({'Email': email_current, 'Phone_number': phone_number_current}, ignore_index=True)\n",
            "<ipython-input-35-74fde92eadb9>:52: FutureWarning: The frame.append method is deprecated and will be removed from pandas in a future version. Use pandas.concat instead.\n",
            "  df = df.append({'Email': email_current, 'Phone_number': phone_number_current}, ignore_index=True)\n",
            "<ipython-input-35-74fde92eadb9>:52: FutureWarning: The frame.append method is deprecated and will be removed from pandas in a future version. Use pandas.concat instead.\n",
            "  df = df.append({'Email': email_current, 'Phone_number': phone_number_current}, ignore_index=True)\n"
          ]
        },
        {
          "output_type": "stream",
          "name": "stdout",
          "text": [
            "['sgholla@mit.edu'] []  has been extracted at iteration  433\n",
            "['Rhollada@mit.edu'] []  has been extracted at iteration  433\n",
            "['dhollidt@mit.edu'] []  has been extracted at iteration  433\n"
          ]
        },
        {
          "output_type": "stream",
          "name": "stderr",
          "text": [
            "<ipython-input-35-74fde92eadb9>:52: FutureWarning: The frame.append method is deprecated and will be removed from pandas in a future version. Use pandas.concat instead.\n",
            "  df = df.append({'Email': email_current, 'Phone_number': phone_number_current}, ignore_index=True)\n",
            "<ipython-input-35-74fde92eadb9>:52: FutureWarning: The frame.append method is deprecated and will be removed from pandas in a future version. Use pandas.concat instead.\n",
            "  df = df.append({'Email': email_current, 'Phone_number': phone_number_current}, ignore_index=True)\n",
            "<ipython-input-35-74fde92eadb9>:52: FutureWarning: The frame.append method is deprecated and will be removed from pandas in a future version. Use pandas.concat instead.\n",
            "  df = df.append({'Email': email_current, 'Phone_number': phone_number_current}, ignore_index=True)\n"
          ]
        },
        {
          "output_type": "stream",
          "name": "stdout",
          "text": [
            "['bcwh@csail.mit.edu'] []  has been extracted at iteration  433\n",
            "['holtorf@mit.edu'] []  has been extracted at iteration  433\n",
            "['changwan@csail.mit.edu'] []  has been extracted at iteration  433\n"
          ]
        },
        {
          "output_type": "stream",
          "name": "stderr",
          "text": [
            "<ipython-input-35-74fde92eadb9>:52: FutureWarning: The frame.append method is deprecated and will be removed from pandas in a future version. Use pandas.concat instead.\n",
            "  df = df.append({'Email': email_current, 'Phone_number': phone_number_current}, ignore_index=True)\n",
            "<ipython-input-35-74fde92eadb9>:52: FutureWarning: The frame.append method is deprecated and will be removed from pandas in a future version. Use pandas.concat instead.\n",
            "  df = df.append({'Email': email_current, 'Phone_number': phone_number_current}, ignore_index=True)\n",
            "<ipython-input-35-74fde92eadb9>:52: FutureWarning: The frame.append method is deprecated and will be removed from pandas in a future version. Use pandas.concat instead.\n",
            "  df = df.append({'Email': email_current, 'Phone_number': phone_number_current}, ignore_index=True)\n"
          ]
        },
        {
          "output_type": "stream",
          "name": "stdout",
          "text": [
            "['jungseok@csail.mit.edu'] []  has been extracted at iteration  433\n",
            "['matthong@mit.edu'] []  has been extracted at iteration  433\n",
            "['sk5050@mit.edu'] []  has been extracted at iteration  433\n"
          ]
        },
        {
          "output_type": "stream",
          "name": "stderr",
          "text": [
            "<ipython-input-35-74fde92eadb9>:52: FutureWarning: The frame.append method is deprecated and will be removed from pandas in a future version. Use pandas.concat instead.\n",
            "  df = df.append({'Email': email_current, 'Phone_number': phone_number_current}, ignore_index=True)\n",
            "<ipython-input-35-74fde92eadb9>:52: FutureWarning: The frame.append method is deprecated and will be removed from pandas in a future version. Use pandas.concat instead.\n",
            "  df = df.append({'Email': email_current, 'Phone_number': phone_number_current}, ignore_index=True)\n",
            "<ipython-input-35-74fde92eadb9>:52: FutureWarning: The frame.append method is deprecated and will be removed from pandas in a future version. Use pandas.concat instead.\n",
            "  df = df.append({'Email': email_current, 'Phone_number': phone_number_current}, ignore_index=True)\n"
          ]
        },
        {
          "output_type": "stream",
          "name": "stdout",
          "text": [
            "['zwhong@mit.edu'] []  has been extracted at iteration  433\n",
            "['honnet@csail.mit.edu'] []  has been extracted at iteration  433\n",
            "['hoopes@mit.edu'] []  has been extracted at iteration  433\n"
          ]
        },
        {
          "output_type": "stream",
          "name": "stderr",
          "text": [
            "<ipython-input-35-74fde92eadb9>:52: FutureWarning: The frame.append method is deprecated and will be removed from pandas in a future version. Use pandas.concat instead.\n",
            "  df = df.append({'Email': email_current, 'Phone_number': phone_number_current}, ignore_index=True)\n",
            "<ipython-input-35-74fde92eadb9>:52: FutureWarning: The frame.append method is deprecated and will be removed from pandas in a future version. Use pandas.concat instead.\n",
            "  df = df.append({'Email': email_current, 'Phone_number': phone_number_current}, ignore_index=True)\n",
            "<ipython-input-35-74fde92eadb9>:52: FutureWarning: The frame.append method is deprecated and will be removed from pandas in a future version. Use pandas.concat instead.\n",
            "  df = df.append({'Email': email_current, 'Phone_number': phone_number_current}, ignore_index=True)\n"
          ]
        },
        {
          "output_type": "stream",
          "name": "stdout",
          "text": [
            "['dataspen@mit.edu'] []  has been extracted at iteration  433\n",
            "['samhop@mit.edu'] []  has been extracted at iteration  433\n",
            "['bkph@csail.mit.edu'] ['253-5863']  has been extracted at iteration  433\n"
          ]
        },
        {
          "output_type": "stream",
          "name": "stderr",
          "text": [
            "<ipython-input-35-74fde92eadb9>:52: FutureWarning: The frame.append method is deprecated and will be removed from pandas in a future version. Use pandas.concat instead.\n",
            "  df = df.append({'Email': email_current, 'Phone_number': phone_number_current}, ignore_index=True)\n",
            "<ipython-input-35-74fde92eadb9>:52: FutureWarning: The frame.append method is deprecated and will be removed from pandas in a future version. Use pandas.concat instead.\n",
            "  df = df.append({'Email': email_current, 'Phone_number': phone_number_current}, ignore_index=True)\n",
            "<ipython-input-35-74fde92eadb9>:52: FutureWarning: The frame.append method is deprecated and will be removed from pandas in a future version. Use pandas.concat instead.\n",
            "  df = df.append({'Email': email_current, 'Phone_number': phone_number_current}, ignore_index=True)\n"
          ]
        },
        {
          "output_type": "stream",
          "name": "stdout",
          "text": [
            "['jhow@mit.edu'] []  has been extracted at iteration  433\n",
            "['spkhowe@mit.edu'] []  has been extracted at iteration  433\n",
            "['stmharry@mit.edu'] []  has been extracted at iteration  433\n"
          ]
        },
        {
          "output_type": "stream",
          "name": "stderr",
          "text": [
            "<ipython-input-35-74fde92eadb9>:52: FutureWarning: The frame.append method is deprecated and will be removed from pandas in a future version. Use pandas.concat instead.\n",
            "  df = df.append({'Email': email_current, 'Phone_number': phone_number_current}, ignore_index=True)\n",
            "<ipython-input-35-74fde92eadb9>:52: FutureWarning: The frame.append method is deprecated and will be removed from pandas in a future version. Use pandas.concat instead.\n",
            "  df = df.append({'Email': email_current, 'Phone_number': phone_number_current}, ignore_index=True)\n",
            "<ipython-input-35-74fde92eadb9>:52: FutureWarning: The frame.append method is deprecated and will be removed from pandas in a future version. Use pandas.concat instead.\n",
            "  df = df.append({'Email': email_current, 'Phone_number': phone_number_current}, ignore_index=True)\n"
          ]
        },
        {
          "output_type": "stream",
          "name": "stdout",
          "text": [
            "['alexhu@mit.edu'] []  has been extracted at iteration  433\n",
            "['ireneyh@mit.edu'] []  has been extracted at iteration  433\n",
            "['kwhuang@mit.edu'] []  has been extracted at iteration  433\n"
          ]
        },
        {
          "output_type": "stream",
          "name": "stderr",
          "text": [
            "<ipython-input-35-74fde92eadb9>:52: FutureWarning: The frame.append method is deprecated and will be removed from pandas in a future version. Use pandas.concat instead.\n",
            "  df = df.append({'Email': email_current, 'Phone_number': phone_number_current}, ignore_index=True)\n",
            "<ipython-input-35-74fde92eadb9>:52: FutureWarning: The frame.append method is deprecated and will be removed from pandas in a future version. Use pandas.concat instead.\n",
            "  df = df.append({'Email': email_current, 'Phone_number': phone_number_current}, ignore_index=True)\n",
            "<ipython-input-35-74fde92eadb9>:52: FutureWarning: The frame.append method is deprecated and will be removed from pandas in a future version. Use pandas.concat instead.\n",
            "  df = df.append({'Email': email_current, 'Phone_number': phone_number_current}, ignore_index=True)\n"
          ]
        },
        {
          "output_type": "stream",
          "name": "stdout",
          "text": [
            "['hqq@mit.edu'] []  has been extracted at iteration  433\n",
            "['RWXHUANG@csail.mit.edu'] []  has been extracted at iteration  433\n",
            "['hsn19@mit.edu'] []  has been extracted at iteration  433\n"
          ]
        },
        {
          "output_type": "stream",
          "name": "stderr",
          "text": [
            "<ipython-input-35-74fde92eadb9>:52: FutureWarning: The frame.append method is deprecated and will be removed from pandas in a future version. Use pandas.concat instead.\n",
            "  df = df.append({'Email': email_current, 'Phone_number': phone_number_current}, ignore_index=True)\n",
            "<ipython-input-35-74fde92eadb9>:52: FutureWarning: The frame.append method is deprecated and will be removed from pandas in a future version. Use pandas.concat instead.\n",
            "  df = df.append({'Email': email_current, 'Phone_number': phone_number_current}, ignore_index=True)\n",
            "<ipython-input-35-74fde92eadb9>:52: FutureWarning: The frame.append method is deprecated and will be removed from pandas in a future version. Use pandas.concat instead.\n",
            "  df = df.append({'Email': email_current, 'Phone_number': phone_number_current}, ignore_index=True)\n"
          ]
        },
        {
          "output_type": "stream",
          "name": "stdout",
          "text": [
            "['tianhaoh@mit.edu'] []  has been extracted at iteration  433\n",
            "['rhuffman@mit.edu'] []  has been extracted at iteration  433\n",
            "['minhuh@mit.edu'] []  has been extracted at iteration  433\n"
          ]
        },
        {
          "output_type": "stream",
          "name": "stderr",
          "text": [
            "<ipython-input-35-74fde92eadb9>:52: FutureWarning: The frame.append method is deprecated and will be removed from pandas in a future version. Use pandas.concat instead.\n",
            "  df = df.append({'Email': email_current, 'Phone_number': phone_number_current}, ignore_index=True)\n",
            "<ipython-input-35-74fde92eadb9>:52: FutureWarning: The frame.append method is deprecated and will be removed from pandas in a future version. Use pandas.concat instead.\n",
            "  df = df.append({'Email': email_current, 'Phone_number': phone_number_current}, ignore_index=True)\n",
            "<ipython-input-35-74fde92eadb9>:52: FutureWarning: The frame.append method is deprecated and will be removed from pandas in a future version. Use pandas.concat instead.\n",
            "  df = df.append({'Email': email_current, 'Phone_number': phone_number_current}, ignore_index=True)\n"
          ]
        },
        {
          "output_type": "stream",
          "name": "stdout",
          "text": [
            "['nhulkund@mit.edu'] []  has been extracted at iteration  433\n",
            "['nhunt@mit.edu'] []  has been extracted at iteration  433\n",
            "['hilal_h@mit.edu'] []  has been extracted at iteration  433\n"
          ]
        },
        {
          "output_type": "stream",
          "name": "stderr",
          "text": [
            "<ipython-input-35-74fde92eadb9>:52: FutureWarning: The frame.append method is deprecated and will be removed from pandas in a future version. Use pandas.concat instead.\n",
            "  df = df.append({'Email': email_current, 'Phone_number': phone_number_current}, ignore_index=True)\n",
            "<ipython-input-35-74fde92eadb9>:52: FutureWarning: The frame.append method is deprecated and will be removed from pandas in a future version. Use pandas.concat instead.\n",
            "  df = df.append({'Email': email_current, 'Phone_number': phone_number_current}, ignore_index=True)\n",
            "<ipython-input-35-74fde92eadb9>:52: FutureWarning: The frame.append method is deprecated and will be removed from pandas in a future version. Use pandas.concat instead.\n",
            "  df = df.append({'Email': email_current, 'Phone_number': phone_number_current}, ignore_index=True)\n"
          ]
        },
        {
          "output_type": "stream",
          "name": "stdout",
          "text": [
            "['zeshanmh@mit.edu'] []  has been extracted at iteration  433\n",
            "['huttenlocher@MIT.EDU'] []  has been extracted at iteration  433\n",
            "['jei@csail.mit.edu'] []  has been extracted at iteration  433\n"
          ]
        },
        {
          "output_type": "stream",
          "name": "stderr",
          "text": [
            "<ipython-input-35-74fde92eadb9>:52: FutureWarning: The frame.append method is deprecated and will be removed from pandas in a future version. Use pandas.concat instead.\n",
            "  df = df.append({'Email': email_current, 'Phone_number': phone_number_current}, ignore_index=True)\n",
            "<ipython-input-35-74fde92eadb9>:52: FutureWarning: The frame.append method is deprecated and will be removed from pandas in a future version. Use pandas.concat instead.\n",
            "  df = df.append({'Email': email_current, 'Phone_number': phone_number_current}, ignore_index=True)\n",
            "<ipython-input-35-74fde92eadb9>:52: FutureWarning: The frame.append method is deprecated and will be removed from pandas in a future version. Use pandas.concat instead.\n",
            "  df = df.append({'Email': email_current, 'Phone_number': phone_number_current}, ignore_index=True)\n"
          ]
        },
        {
          "output_type": "stream",
          "name": "stdout",
          "text": [
            "['yuka@csail.mit.edu'] []  has been extracted at iteration  433\n",
            "['rilango@mit.edu'] []  has been extracted at iteration  433\n",
            "['atalay@mit.edu'] []  has been extracted at iteration  433\n"
          ]
        },
        {
          "output_type": "stream",
          "name": "stderr",
          "text": [
            "<ipython-input-35-74fde92eadb9>:52: FutureWarning: The frame.append method is deprecated and will be removed from pandas in a future version. Use pandas.concat instead.\n",
            "  df = df.append({'Email': email_current, 'Phone_number': phone_number_current}, ignore_index=True)\n",
            "<ipython-input-35-74fde92eadb9>:52: FutureWarning: The frame.append method is deprecated and will be removed from pandas in a future version. Use pandas.concat instead.\n",
            "  df = df.append({'Email': email_current, 'Phone_number': phone_number_current}, ignore_index=True)\n",
            "<ipython-input-35-74fde92eadb9>:52: FutureWarning: The frame.append method is deprecated and will be removed from pandas in a future version. Use pandas.concat instead.\n",
            "  df = df.append({'Email': email_current, 'Phone_number': phone_number_current}, ignore_index=True)\n"
          ]
        },
        {
          "output_type": "stream",
          "name": "stdout",
          "text": [
            "['ilic@mit.edu'] []  has been extracted at iteration  433\n",
            "['thavishi@mit.edu'] []  has been extracted at iteration  433\n",
            "['ailyas@mit.edu'] []  has been extracted at iteration  433\n"
          ]
        },
        {
          "output_type": "stream",
          "name": "stderr",
          "text": [
            "<ipython-input-35-74fde92eadb9>:52: FutureWarning: The frame.append method is deprecated and will be removed from pandas in a future version. Use pandas.concat instead.\n",
            "  df = df.append({'Email': email_current, 'Phone_number': phone_number_current}, ignore_index=True)\n"
          ]
        },
        {
          "output_type": "stream",
          "name": "stdout",
          "text": [
            "['indyk@mit.edu'] ['452-3402']  has been extracted at iteration  433\n"
          ]
        },
        {
          "output_type": "stream",
          "name": "stderr",
          "text": [
            "<ipython-input-35-74fde92eadb9>:52: FutureWarning: The frame.append method is deprecated and will be removed from pandas in a future version. Use pandas.concat instead.\n",
            "  df = df.append({'Email': email_current, 'Phone_number': phone_number_current}, ignore_index=True)\n"
          ]
        },
        {
          "output_type": "stream",
          "name": "stdout",
          "text": [
            "['girfan@mit.edu'] []  has been extracted at iteration  433\n",
            "['phillipi@MIT.EDU'] []  has been extracted at iteration  433\n"
          ]
        },
        {
          "output_type": "stream",
          "name": "stderr",
          "text": [
            "<ipython-input-35-74fde92eadb9>:52: FutureWarning: The frame.append method is deprecated and will be removed from pandas in a future version. Use pandas.concat instead.\n",
            "  df = df.append({'Email': email_current, 'Phone_number': phone_number_current}, ignore_index=True)\n",
            "<ipython-input-35-74fde92eadb9>:52: FutureWarning: The frame.append method is deprecated and will be removed from pandas in a future version. Use pandas.concat instead.\n",
            "  df = df.append({'Email': email_current, 'Phone_number': phone_number_current}, ignore_index=True)\n"
          ]
        },
        {
          "output_type": "stream",
          "name": "stdout",
          "text": [
            "['tommi@csail.mit.edu'] ['253-0440']  has been extracted at iteration  433\n",
            "['jackmanm@mit.edu'] ['253-6019']  has been extracted at iteration  433\n"
          ]
        },
        {
          "output_type": "stream",
          "name": "stderr",
          "text": [
            "<ipython-input-35-74fde92eadb9>:52: FutureWarning: The frame.append method is deprecated and will be removed from pandas in a future version. Use pandas.concat instead.\n",
            "  df = df.append({'Email': email_current, 'Phone_number': phone_number_current}, ignore_index=True)\n",
            "<ipython-input-35-74fde92eadb9>:52: FutureWarning: The frame.append method is deprecated and will be removed from pandas in a future version. Use pandas.concat instead.\n",
            "  df = df.append({'Email': email_current, 'Phone_number': phone_number_current}, ignore_index=True)\n"
          ]
        },
        {
          "output_type": "stream",
          "name": "stdout",
          "text": [
            "['dnj@csail.mit.edu'] ['258-8471']  has been extracted at iteration  433\n",
            "['apjacob@mit.edu'] []  has been extracted at iteration  433\n"
          ]
        },
        {
          "output_type": "stream",
          "name": "stderr",
          "text": [
            "<ipython-input-35-74fde92eadb9>:52: FutureWarning: The frame.append method is deprecated and will be removed from pandas in a future version. Use pandas.concat instead.\n",
            "  df = df.append({'Email': email_current, 'Phone_number': phone_number_current}, ignore_index=True)\n",
            "<ipython-input-35-74fde92eadb9>:52: FutureWarning: The frame.append method is deprecated and will be removed from pandas in a future version. Use pandas.concat instead.\n",
            "  df = df.append({'Email': email_current, 'Phone_number': phone_number_current}, ignore_index=True)\n"
          ]
        },
        {
          "output_type": "stream",
          "name": "stdout",
          "text": [
            "['farnazj@mit.edu'] []  has been extracted at iteration  433\n",
            "['layjain@mit.edu'] []  has been extracted at iteration  433\n",
            "['saachij@mit.edu'] []  has been extracted at iteration  433\n"
          ]
        },
        {
          "output_type": "stream",
          "name": "stderr",
          "text": [
            "<ipython-input-35-74fde92eadb9>:52: FutureWarning: The frame.append method is deprecated and will be removed from pandas in a future version. Use pandas.concat instead.\n",
            "  df = df.append({'Email': email_current, 'Phone_number': phone_number_current}, ignore_index=True)\n",
            "<ipython-input-35-74fde92eadb9>:52: FutureWarning: The frame.append method is deprecated and will be removed from pandas in a future version. Use pandas.concat instead.\n",
            "  df = df.append({'Email': email_current, 'Phone_number': phone_number_current}, ignore_index=True)\n",
            "<ipython-input-35-74fde92eadb9>:52: FutureWarning: The frame.append method is deprecated and will be removed from pandas in a future version. Use pandas.concat instead.\n",
            "  df = df.append({'Email': email_current, 'Phone_number': phone_number_current}, ignore_index=True)\n"
          ]
        },
        {
          "output_type": "stream",
          "name": "stdout",
          "text": [
            "['benjames@MIT.EDU'] []  has been extracted at iteration  433\n",
            "['dijamner@MIT.EDU'] []  has been extracted at iteration  433\n",
            "['jkrishna@csail.mit.edu'] []  has been extracted at iteration  433\n"
          ]
        },
        {
          "output_type": "stream",
          "name": "stderr",
          "text": [
            "<ipython-input-35-74fde92eadb9>:52: FutureWarning: The frame.append method is deprecated and will be removed from pandas in a future version. Use pandas.concat instead.\n",
            "  df = df.append({'Email': email_current, 'Phone_number': phone_number_current}, ignore_index=True)\n",
            "<ipython-input-35-74fde92eadb9>:52: FutureWarning: The frame.append method is deprecated and will be removed from pandas in a future version. Use pandas.concat instead.\n",
            "  df = df.append({'Email': email_current, 'Phone_number': phone_number_current}, ignore_index=True)\n",
            "<ipython-input-35-74fde92eadb9>:52: FutureWarning: The frame.append method is deprecated and will be removed from pandas in a future version. Use pandas.concat instead.\n",
            "  df = df.append({'Email': email_current, 'Phone_number': phone_number_current}, ignore_index=True)\n"
          ]
        },
        {
          "output_type": "stream",
          "name": "stdout",
          "text": [
            "['siddhartha@csail.mit.edu'] []  has been extracted at iteration  433\n",
            "['stefje@mit.edu'] []  has been extracted at iteration  433\n"
          ]
        },
        {
          "output_type": "stream",
          "name": "stderr",
          "text": [
            "<ipython-input-35-74fde92eadb9>:52: FutureWarning: The frame.append method is deprecated and will be removed from pandas in a future version. Use pandas.concat instead.\n",
            "  df = df.append({'Email': email_current, 'Phone_number': phone_number_current}, ignore_index=True)\n",
            "<ipython-input-35-74fde92eadb9>:52: FutureWarning: The frame.append method is deprecated and will be removed from pandas in a future version. Use pandas.concat instead.\n",
            "  df = df.append({'Email': email_current, 'Phone_number': phone_number_current}, ignore_index=True)\n"
          ]
        },
        {
          "output_type": "stream",
          "name": "stdout",
          "text": [
            "['dhjeong@csail.mit.edu'] []  has been extracted at iteration  433\n",
            "['hyewonj@mit.edu'] []  has been extracted at iteration  433\n"
          ]
        },
        {
          "output_type": "stream",
          "name": "stderr",
          "text": [
            "<ipython-input-35-74fde92eadb9>:52: FutureWarning: The frame.append method is deprecated and will be removed from pandas in a future version. Use pandas.concat instead.\n",
            "  df = df.append({'Email': email_current, 'Phone_number': phone_number_current}, ignore_index=True)\n",
            "<ipython-input-35-74fde92eadb9>:52: FutureWarning: The frame.append method is deprecated and will be removed from pandas in a future version. Use pandas.concat instead.\n",
            "  df = df.append({'Email': email_current, 'Phone_number': phone_number_current}, ignore_index=True)\n"
          ]
        },
        {
          "output_type": "stream",
          "name": "stdout",
          "text": [
            "['cji@mit.edu'] []  has been extracted at iteration  433\n",
            "['yandong@mit.edu'] []  has been extracted at iteration  433\n"
          ]
        },
        {
          "output_type": "stream",
          "name": "stderr",
          "text": [
            "<ipython-input-35-74fde92eadb9>:52: FutureWarning: The frame.append method is deprecated and will be removed from pandas in a future version. Use pandas.concat instead.\n",
            "  df = df.append({'Email': email_current, 'Phone_number': phone_number_current}, ignore_index=True)\n",
            "<ipython-input-35-74fde92eadb9>:52: FutureWarning: The frame.append method is deprecated and will be removed from pandas in a future version. Use pandas.concat instead.\n",
            "  df = df.append({'Email': email_current, 'Phone_number': phone_number_current}, ignore_index=True)\n"
          ]
        },
        {
          "output_type": "stream",
          "name": "stdout",
          "text": [
            "['jiakai@mit.edu'] []  has been extracted at iteration  433\n",
            "['rhjiang@mit.edu'] []  has been extracted at iteration  433\n"
          ]
        },
        {
          "output_type": "stream",
          "name": "stderr",
          "text": [
            "<ipython-input-35-74fde92eadb9>:52: FutureWarning: The frame.append method is deprecated and will be removed from pandas in a future version. Use pandas.concat instead.\n",
            "  df = df.append({'Email': email_current, 'Phone_number': phone_number_current}, ignore_index=True)\n",
            "<ipython-input-35-74fde92eadb9>:52: FutureWarning: The frame.append method is deprecated and will be removed from pandas in a future version. Use pandas.concat instead.\n",
            "  df = df.append({'Email': email_current, 'Phone_number': phone_number_current}, ignore_index=True)\n"
          ]
        },
        {
          "output_type": "stream",
          "name": "stdout",
          "text": [
            "['jiangs@mit.edu'] []  has been extracted at iteration  433\n",
            "['cejin@csail.mit.edu'] []  has been extracted at iteration  433\n"
          ]
        },
        {
          "output_type": "stream",
          "name": "stderr",
          "text": [
            "<ipython-input-35-74fde92eadb9>:52: FutureWarning: The frame.append method is deprecated and will be removed from pandas in a future version. Use pandas.concat instead.\n",
            "  df = df.append({'Email': email_current, 'Phone_number': phone_number_current}, ignore_index=True)\n",
            "<ipython-input-35-74fde92eadb9>:52: FutureWarning: The frame.append method is deprecated and will be removed from pandas in a future version. Use pandas.concat instead.\n",
            "  df = df.append({'Email': email_current, 'Phone_number': phone_number_current}, ignore_index=True)\n"
          ]
        },
        {
          "output_type": "stream",
          "name": "stdout",
          "text": [
            "['ehjin@mit.edu'] []  has been extracted at iteration  433\n",
            "['kjin@mit.edu'] []  has been extracted at iteration  433\n"
          ]
        },
        {
          "output_type": "stream",
          "name": "stderr",
          "text": [
            "<ipython-input-35-74fde92eadb9>:52: FutureWarning: The frame.append method is deprecated and will be removed from pandas in a future version. Use pandas.concat instead.\n",
            "  df = df.append({'Email': email_current, 'Phone_number': phone_number_current}, ignore_index=True)\n",
            "<ipython-input-35-74fde92eadb9>:52: FutureWarning: The frame.append method is deprecated and will be removed from pandas in a future version. Use pandas.concat instead.\n",
            "  df = df.append({'Email': email_current, 'Phone_number': phone_number_current}, ignore_index=True)\n"
          ]
        },
        {
          "output_type": "stream",
          "name": "stdout",
          "text": [
            "['qixuanj@mit.edu'] []  has been extracted at iteration  433\n",
            "['tianjin@MIT.EDU'] []  has been extracted at iteration  433\n"
          ]
        },
        {
          "output_type": "stream",
          "name": "stderr",
          "text": [
            "<ipython-input-35-74fde92eadb9>:52: FutureWarning: The frame.append method is deprecated and will be removed from pandas in a future version. Use pandas.concat instead.\n",
            "  df = df.append({'Email': email_current, 'Phone_number': phone_number_current}, ignore_index=True)\n",
            "<ipython-input-35-74fde92eadb9>:52: FutureWarning: The frame.append method is deprecated and will be removed from pandas in a future version. Use pandas.concat instead.\n",
            "  df = df.append({'Email': email_current, 'Phone_number': phone_number_current}, ignore_index=True)\n"
          ]
        },
        {
          "output_type": "stream",
          "name": "stdout",
          "text": [
            "['charles.jin@mit.edu'] []  has been extracted at iteration  433\n",
            "['bjing@csail.mit.edu'] []  has been extracted at iteration  433\n"
          ]
        },
        {
          "output_type": "stream",
          "name": "stderr",
          "text": [
            "<ipython-input-35-74fde92eadb9>:52: FutureWarning: The frame.append method is deprecated and will be removed from pandas in a future version. Use pandas.concat instead.\n",
            "  df = df.append({'Email': email_current, 'Phone_number': phone_number_current}, ignore_index=True)\n",
            "<ipython-input-35-74fde92eadb9>:52: FutureWarning: The frame.append method is deprecated and will be removed from pandas in a future version. Use pandas.concat instead.\n",
            "  df = df.append({'Email': email_current, 'Phone_number': phone_number_current}, ignore_index=True)\n"
          ]
        },
        {
          "output_type": "stream",
          "name": "stdout",
          "text": [
            "['sjiwani@mit.edu'] []  has been extracted at iteration  433\n",
            "['ERINJ@csail.mit.edu'] []  has been extracted at iteration  433\n",
            "['zjohnson@csail.mit.edu'] []  has been extracted at iteration  433\n"
          ]
        },
        {
          "output_type": "stream",
          "name": "stderr",
          "text": [
            "<ipython-input-35-74fde92eadb9>:52: FutureWarning: The frame.append method is deprecated and will be removed from pandas in a future version. Use pandas.concat instead.\n",
            "  df = df.append({'Email': email_current, 'Phone_number': phone_number_current}, ignore_index=True)\n",
            "<ipython-input-35-74fde92eadb9>:52: FutureWarning: The frame.append method is deprecated and will be removed from pandas in a future version. Use pandas.concat instead.\n",
            "  df = df.append({'Email': email_current, 'Phone_number': phone_number_current}, ignore_index=True)\n",
            "<ipython-input-35-74fde92eadb9>:52: FutureWarning: The frame.append method is deprecated and will be removed from pandas in a future version. Use pandas.concat instead.\n",
            "  df = df.append({'Email': email_current, 'Phone_number': phone_number_current}, ignore_index=True)\n"
          ]
        },
        {
          "output_type": "stream",
          "name": "stdout",
          "text": [
            "['gjones@csail.mit.edu'] ['324-8437']  has been extracted at iteration  433\n",
            "['prjones@mit.edu'] []  has been extracted at iteration  433\n"
          ]
        },
        {
          "output_type": "stream",
          "name": "stderr",
          "text": [
            "<ipython-input-35-74fde92eadb9>:52: FutureWarning: The frame.append method is deprecated and will be removed from pandas in a future version. Use pandas.concat instead.\n",
            "  df = df.append({'Email': email_current, 'Phone_number': phone_number_current}, ignore_index=True)\n",
            "<ipython-input-35-74fde92eadb9>:52: FutureWarning: The frame.append method is deprecated and will be removed from pandas in a future version. Use pandas.concat instead.\n",
            "  df = df.append({'Email': email_current, 'Phone_number': phone_number_current}, ignore_index=True)\n"
          ]
        },
        {
          "output_type": "stream",
          "name": "stdout",
          "text": [
            "['stevenj@csail.mit.edu'] []  has been extracted at iteration  433\n",
            "['jmjoseph@mit.edu'] []  has been extracted at iteration  433\n"
          ]
        },
        {
          "output_type": "stream",
          "name": "stderr",
          "text": [
            "<ipython-input-35-74fde92eadb9>:52: FutureWarning: The frame.append method is deprecated and will be removed from pandas in a future version. Use pandas.concat instead.\n",
            "  df = df.append({'Email': email_current, 'Phone_number': phone_number_current}, ignore_index=True)\n",
            "<ipython-input-35-74fde92eadb9>:52: FutureWarning: The frame.append method is deprecated and will be removed from pandas in a future version. Use pandas.concat instead.\n",
            "  df = df.append({'Email': email_current, 'Phone_number': phone_number_current}, ignore_index=True)\n"
          ]
        },
        {
          "output_type": "stream",
          "name": "stdout",
          "text": [
            "['ejosephs@mit.edu'] []  has been extracted at iteration  433\n",
            "['msjung@csail.mit.edu'] []  has been extracted at iteration  433\n"
          ]
        },
        {
          "output_type": "stream",
          "name": "stderr",
          "text": [
            "<ipython-input-35-74fde92eadb9>:52: FutureWarning: The frame.append method is deprecated and will be removed from pandas in a future version. Use pandas.concat instead.\n",
            "  df = df.append({'Email': email_current, 'Phone_number': phone_number_current}, ignore_index=True)\n",
            "<ipython-input-35-74fde92eadb9>:52: FutureWarning: The frame.append method is deprecated and will be removed from pandas in a future version. Use pandas.concat instead.\n",
            "  df = df.append({'Email': email_current, 'Phone_number': phone_number_current}, ignore_index=True)\n"
          ]
        },
        {
          "output_type": "stream",
          "name": "stdout",
          "text": [
            "['iljungr@csail.mit.edu'] []  has been extracted at iteration  433\n",
            "['kaashoek@csail.mit.edu'] ['253-7149']  has been extracted at iteration  433\n"
          ]
        },
        {
          "output_type": "stream",
          "name": "stderr",
          "text": [
            "<ipython-input-35-74fde92eadb9>:52: FutureWarning: The frame.append method is deprecated and will be removed from pandas in a future version. Use pandas.concat instead.\n",
            "  df = df.append({'Email': email_current, 'Phone_number': phone_number_current}, ignore_index=True)\n",
            "<ipython-input-35-74fde92eadb9>:52: FutureWarning: The frame.append method is deprecated and will be removed from pandas in a future version. Use pandas.concat instead.\n",
            "  df = df.append({'Email': email_current, 'Phone_number': phone_number_current}, ignore_index=True)\n"
          ]
        },
        {
          "output_type": "stream",
          "name": "stdout",
          "text": [
            "['EGEKABAS@csail.mit.edu'] []  has been extracted at iteration  433\n",
            "['lpk@csail.mit.edu'] ['258-9695']  has been extracted at iteration  433\n"
          ]
        },
        {
          "output_type": "stream",
          "name": "stderr",
          "text": [
            "<ipython-input-35-74fde92eadb9>:52: FutureWarning: The frame.append method is deprecated and will be removed from pandas in a future version. Use pandas.concat instead.\n",
            "  df = df.append({'Email': email_current, 'Phone_number': phone_number_current}, ignore_index=True)\n",
            "<ipython-input-35-74fde92eadb9>:52: FutureWarning: The frame.append method is deprecated and will be removed from pandas in a future version. Use pandas.concat instead.\n",
            "  df = df.append({'Email': email_current, 'Phone_number': phone_number_current}, ignore_index=True)\n"
          ]
        },
        {
          "output_type": "stream",
          "name": "stdout",
          "text": [
            "['pkafle@mit.edu'] []  has been extracted at iteration  433\n",
            "['lkagal@csail.mit.edu'] ['253-5845']  has been extracted at iteration  433\n"
          ]
        },
        {
          "output_type": "stream",
          "name": "stderr",
          "text": [
            "<ipython-input-35-74fde92eadb9>:52: FutureWarning: The frame.append method is deprecated and will be removed from pandas in a future version. Use pandas.concat instead.\n",
            "  df = df.append({'Email': email_current, 'Phone_number': phone_number_current}, ignore_index=True)\n",
            "<ipython-input-35-74fde92eadb9>:52: FutureWarning: The frame.append method is deprecated and will be removed from pandas in a future version. Use pandas.concat instead.\n",
            "  df = df.append({'Email': email_current, 'Phone_number': phone_number_current}, ignore_index=True)\n"
          ]
        },
        {
          "output_type": "stream",
          "name": "stdout",
          "text": [
            "['endrias@mit.edu'] []  has been extracted at iteration  433\n",
            "['jkaklam@mit.edu'] []  has been extracted at iteration  433\n"
          ]
        },
        {
          "output_type": "stream",
          "name": "stderr",
          "text": [
            "<ipython-input-35-74fde92eadb9>:52: FutureWarning: The frame.append method is deprecated and will be removed from pandas in a future version. Use pandas.concat instead.\n",
            "  df = df.append({'Email': email_current, 'Phone_number': phone_number_current}, ignore_index=True)\n",
            "<ipython-input-35-74fde92eadb9>:52: FutureWarning: The frame.append method is deprecated and will be removed from pandas in a future version. Use pandas.concat instead.\n",
            "  df = df.append({'Email': email_current, 'Phone_number': phone_number_current}, ignore_index=True)\n"
          ]
        },
        {
          "output_type": "stream",
          "name": "stdout",
          "text": [
            "['tfk@mit.edu'] []  has been extracted at iteration  433\n",
            "['ckalfas@csail.mit.edu'] []  has been extracted at iteration  433\n",
            "['gkammer@mit.edu'] []  has been extracted at iteration  433\n"
          ]
        },
        {
          "output_type": "stream",
          "name": "stderr",
          "text": [
            "<ipython-input-35-74fde92eadb9>:52: FutureWarning: The frame.append method is deprecated and will be removed from pandas in a future version. Use pandas.concat instead.\n",
            "  df = df.append({'Email': email_current, 'Phone_number': phone_number_current}, ignore_index=True)\n",
            "<ipython-input-35-74fde92eadb9>:52: FutureWarning: The frame.append method is deprecated and will be removed from pandas in a future version. Use pandas.concat instead.\n",
            "  df = df.append({'Email': email_current, 'Phone_number': phone_number_current}, ignore_index=True)\n",
            "<ipython-input-35-74fde92eadb9>:52: FutureWarning: The frame.append method is deprecated and will be removed from pandas in a future version. Use pandas.concat instead.\n",
            "  df = df.append({'Email': email_current, 'Phone_number': phone_number_current}, ignore_index=True)\n"
          ]
        },
        {
          "output_type": "stream",
          "name": "stdout",
          "text": [
            "['kandiros@csail.mit.edu'] []  has been extracted at iteration  433\n",
            "['kaikang@csail.mit.edu'] []  has been extracted at iteration  433\n"
          ]
        },
        {
          "output_type": "stream",
          "name": "stderr",
          "text": [
            "<ipython-input-35-74fde92eadb9>:52: FutureWarning: The frame.append method is deprecated and will be removed from pandas in a future version. Use pandas.concat instead.\n",
            "  df = df.append({'Email': email_current, 'Phone_number': phone_number_current}, ignore_index=True)\n",
            "<ipython-input-35-74fde92eadb9>:52: FutureWarning: The frame.append method is deprecated and will be removed from pandas in a future version. Use pandas.concat instead.\n",
            "  df = df.append({'Email': email_current, 'Phone_number': phone_number_current}, ignore_index=True)\n"
          ]
        },
        {
          "output_type": "stream",
          "name": "stdout",
          "text": [
            "['STALENCE@csail.mit.edu'] []  has been extracted at iteration  433\n",
            "['nkarani@csail.mit.edu'] []  has been extracted at iteration  433\n"
          ]
        },
        {
          "output_type": "stream",
          "name": "stderr",
          "text": [
            "<ipython-input-35-74fde92eadb9>:52: FutureWarning: The frame.append method is deprecated and will be removed from pandas in a future version. Use pandas.concat instead.\n",
            "  df = df.append({'Email': email_current, 'Phone_number': phone_number_current}, ignore_index=True)\n",
            "<ipython-input-35-74fde92eadb9>:52: FutureWarning: The frame.append method is deprecated and will be removed from pandas in a future version. Use pandas.concat instead.\n",
            "  df = df.append({'Email': email_current, 'Phone_number': phone_number_current}, ignore_index=True)\n"
          ]
        },
        {
          "output_type": "stream",
          "name": "stdout",
          "text": [
            "['karger@csail.mit.edu'] ['258-6167']  has been extracted at iteration  433\n",
            "['pkarimib@mit.edu'] []  has been extracted at iteration  433\n"
          ]
        },
        {
          "output_type": "stream",
          "name": "stderr",
          "text": [
            "<ipython-input-35-74fde92eadb9>:52: FutureWarning: The frame.append method is deprecated and will be removed from pandas in a future version. Use pandas.concat instead.\n",
            "  df = df.append({'Email': email_current, 'Phone_number': phone_number_current}, ignore_index=True)\n",
            "<ipython-input-35-74fde92eadb9>:52: FutureWarning: The frame.append method is deprecated and will be removed from pandas in a future version. Use pandas.concat instead.\n",
            "  df = df.append({'Email': email_current, 'Phone_number': phone_number_current}, ignore_index=True)\n"
          ]
        },
        {
          "output_type": "stream",
          "name": "stdout",
          "text": [
            "['skarpoor@csail.mit.edu'] []  has been extracted at iteration  433\n",
            "['karvels2@mit.edu'] []  has been extracted at iteration  433\n"
          ]
        },
        {
          "output_type": "stream",
          "name": "stderr",
          "text": [
            "<ipython-input-35-74fde92eadb9>:52: FutureWarning: The frame.append method is deprecated and will be removed from pandas in a future version. Use pandas.concat instead.\n",
            "  df = df.append({'Email': email_current, 'Phone_number': phone_number_current}, ignore_index=True)\n",
            "<ipython-input-35-74fde92eadb9>:52: FutureWarning: The frame.append method is deprecated and will be removed from pandas in a future version. Use pandas.concat instead.\n",
            "  df = df.append({'Email': email_current, 'Phone_number': phone_number_current}, ignore_index=True)\n"
          ]
        },
        {
          "output_type": "stream",
          "name": "stdout",
          "text": [
            "['dina@csail.mit.edu'] ['324-6027']  has been extracted at iteration  433\n",
            "['boris@csail.mit.edu'] ['253-6032']  has been extracted at iteration  433\n"
          ]
        },
        {
          "output_type": "stream",
          "name": "stderr",
          "text": [
            "<ipython-input-35-74fde92eadb9>:52: FutureWarning: The frame.append method is deprecated and will be removed from pandas in a future version. Use pandas.concat instead.\n",
            "  df = df.append({'Email': email_current, 'Phone_number': phone_number_current}, ignore_index=True)\n",
            "<ipython-input-35-74fde92eadb9>:52: FutureWarning: The frame.append method is deprecated and will be removed from pandas in a future version. Use pandas.concat instead.\n",
            "  df = df.append({'Email': email_current, 'Phone_number': phone_number_current}, ignore_index=True)\n"
          ]
        },
        {
          "output_type": "stream",
          "name": "stdout",
          "text": [
            "['kayj@csail.mit.edu'] []  has been extracted at iteration  433\n",
            "['AMIRKA@csail.mit.edu'] []  has been extracted at iteration  433\n"
          ]
        },
        {
          "output_type": "stream",
          "name": "stderr",
          "text": [
            "<ipython-input-35-74fde92eadb9>:52: FutureWarning: The frame.append method is deprecated and will be removed from pandas in a future version. Use pandas.concat instead.\n",
            "  df = df.append({'Email': email_current, 'Phone_number': phone_number_current}, ignore_index=True)\n",
            "<ipython-input-35-74fde92eadb9>:52: FutureWarning: The frame.append method is deprecated and will be removed from pandas in a future version. Use pandas.concat instead.\n",
            "  df = df.append({'Email': email_current, 'Phone_number': phone_number_current}, ignore_index=True)\n"
          ]
        },
        {
          "output_type": "stream",
          "name": "stdout",
          "text": [
            "['mattk22@mit.edu'] []  has been extracted at iteration  433\n",
            "['keel@mit.edu'] ['252-1866']  has been extracted at iteration  433\n"
          ]
        },
        {
          "output_type": "stream",
          "name": "stderr",
          "text": [
            "<ipython-input-35-74fde92eadb9>:52: FutureWarning: The frame.append method is deprecated and will be removed from pandas in a future version. Use pandas.concat instead.\n",
            "  df = df.append({'Email': email_current, 'Phone_number': phone_number_current}, ignore_index=True)\n",
            "<ipython-input-35-74fde92eadb9>:52: FutureWarning: The frame.append method is deprecated and will be removed from pandas in a future version. Use pandas.concat instead.\n",
            "  df = df.append({'Email': email_current, 'Phone_number': phone_number_current}, ignore_index=True)\n"
          ]
        },
        {
          "output_type": "stream",
          "name": "stdout",
          "text": [
            "['manoli@mit.edu'] ['253-2419']  has been extracted at iteration  433\n",
            "['SYDNEY-KELLY@csail.mit.edu'] []  has been extracted at iteration  433\n"
          ]
        },
        {
          "output_type": "stream",
          "name": "stderr",
          "text": [
            "<ipython-input-35-74fde92eadb9>:52: FutureWarning: The frame.append method is deprecated and will be removed from pandas in a future version. Use pandas.concat instead.\n",
            "  df = df.append({'Email': email_current, 'Phone_number': phone_number_current}, ignore_index=True)\n",
            "<ipython-input-35-74fde92eadb9>:52: FutureWarning: The frame.append method is deprecated and will be removed from pandas in a future version. Use pandas.concat instead.\n",
            "  df = df.append({'Email': email_current, 'Phone_number': phone_number_current}, ignore_index=True)\n"
          ]
        },
        {
          "output_type": "stream",
          "name": "stdout",
          "text": [
            "['ekelman@csail.mit.edu'] []  has been extracted at iteration  433\n",
            "['kelner@mit.edu'] ['253-4344']  has been extracted at iteration  433\n"
          ]
        },
        {
          "output_type": "stream",
          "name": "stderr",
          "text": [
            "<ipython-input-35-74fde92eadb9>:52: FutureWarning: The frame.append method is deprecated and will be removed from pandas in a future version. Use pandas.concat instead.\n",
            "  df = df.append({'Email': email_current, 'Phone_number': phone_number_current}, ignore_index=True)\n",
            "<ipython-input-35-74fde92eadb9>:52: FutureWarning: The frame.append method is deprecated and will be removed from pandas in a future version. Use pandas.concat instead.\n",
            "  df = df.append({'Email': email_current, 'Phone_number': phone_number_current}, ignore_index=True)\n"
          ]
        },
        {
          "output_type": "stream",
          "name": "stdout",
          "text": [
            "['fern@csail.mit.edu'] ['253-5860']  has been extracted at iteration  433\n",
            "['ekenny@mit.edu'] []  has been extracted at iteration  433\n"
          ]
        },
        {
          "output_type": "stream",
          "name": "stderr",
          "text": [
            "<ipython-input-35-74fde92eadb9>:52: FutureWarning: The frame.append method is deprecated and will be removed from pandas in a future version. Use pandas.concat instead.\n",
            "  df = df.append({'Email': email_current, 'Phone_number': phone_number_current}, ignore_index=True)\n",
            "<ipython-input-35-74fde92eadb9>:52: FutureWarning: The frame.append method is deprecated and will be removed from pandas in a future version. Use pandas.concat instead.\n",
            "  df = df.append({'Email': email_current, 'Phone_number': phone_number_current}, ignore_index=True)\n"
          ]
        },
        {
          "output_type": "stream",
          "name": "stdout",
          "text": [
            "['bkettle@mit.edu'] []  has been extracted at iteration  433\n",
            "['alaakh@MIT.EDU'] []  has been extracted at iteration  433\n"
          ]
        },
        {
          "output_type": "stream",
          "name": "stderr",
          "text": [
            "<ipython-input-35-74fde92eadb9>:52: FutureWarning: The frame.append method is deprecated and will be removed from pandas in a future version. Use pandas.concat instead.\n",
            "  df = df.append({'Email': email_current, 'Phone_number': phone_number_current}, ignore_index=True)\n",
            "<ipython-input-35-74fde92eadb9>:52: FutureWarning: The frame.append method is deprecated and will be removed from pandas in a future version. Use pandas.concat instead.\n",
            "  df = df.append({'Email': email_current, 'Phone_number': phone_number_current}, ignore_index=True)\n"
          ]
        },
        {
          "output_type": "stream",
          "name": "stdout",
          "text": [
            "['khadivi@mit.edu'] ['324-0092']  has been extracted at iteration  433\n",
            "['fkhalif@mit.edu'] []  has been extracted at iteration  433\n"
          ]
        },
        {
          "output_type": "stream",
          "name": "stderr",
          "text": [
            "<ipython-input-35-74fde92eadb9>:52: FutureWarning: The frame.append method is deprecated and will be removed from pandas in a future version. Use pandas.concat instead.\n",
            "  df = df.append({'Email': email_current, 'Phone_number': phone_number_current}, ignore_index=True)\n",
            "<ipython-input-35-74fde92eadb9>:52: FutureWarning: The frame.append method is deprecated and will be removed from pandas in a future version. Use pandas.concat instead.\n",
            "  df = df.append({'Email': email_current, 'Phone_number': phone_number_current}, ignore_index=True)\n"
          ]
        },
        {
          "output_type": "stream",
          "name": "stdout",
          "text": [
            "['akhan02@mit.edu'] []  has been extracted at iteration  433\n",
            "['khani@mit.edu'] []  has been extracted at iteration  433\n"
          ]
        },
        {
          "output_type": "stream",
          "name": "stderr",
          "text": [
            "<ipython-input-35-74fde92eadb9>:52: FutureWarning: The frame.append method is deprecated and will be removed from pandas in a future version. Use pandas.concat instead.\n",
            "  df = df.append({'Email': email_current, 'Phone_number': phone_number_current}, ignore_index=True)\n",
            "<ipython-input-35-74fde92eadb9>:52: FutureWarning: The frame.append method is deprecated and will be removed from pandas in a future version. Use pandas.concat instead.\n",
            "  df = df.append({'Email': email_current, 'Phone_number': phone_number_current}, ignore_index=True)\n"
          ]
        },
        {
          "output_type": "stream",
          "name": "stdout",
          "text": [
            "['skhurana@mit.edu'] []  has been extracted at iteration  433\n",
            "['kikinis@csail.mit.edu'] ['258-6183']  has been extracted at iteration  433\n"
          ]
        },
        {
          "output_type": "stream",
          "name": "stderr",
          "text": [
            "<ipython-input-35-74fde92eadb9>:52: FutureWarning: The frame.append method is deprecated and will be removed from pandas in a future version. Use pandas.concat instead.\n",
            "  df = df.append({'Email': email_current, 'Phone_number': phone_number_current}, ignore_index=True)\n",
            "<ipython-input-35-74fde92eadb9>:52: FutureWarning: The frame.append method is deprecated and will be removed from pandas in a future version. Use pandas.concat instead.\n",
            "  df = df.append({'Email': email_current, 'Phone_number': phone_number_current}, ignore_index=True)\n"
          ]
        },
        {
          "output_type": "stream",
          "name": "stdout",
          "text": [
            "['violetk@mit.edu'] []  has been extracted at iteration  433\n"
          ]
        },
        {
          "output_type": "stream",
          "name": "stderr",
          "text": [
            "<ipython-input-35-74fde92eadb9>:52: FutureWarning: The frame.append method is deprecated and will be removed from pandas in a future version. Use pandas.concat instead.\n",
            "  df = df.append({'Email': email_current, 'Phone_number': phone_number_current}, ignore_index=True)\n",
            "<ipython-input-35-74fde92eadb9>:52: FutureWarning: The frame.append method is deprecated and will be removed from pandas in a future version. Use pandas.concat instead.\n",
            "  df = df.append({'Email': email_current, 'Phone_number': phone_number_current}, ignore_index=True)\n"
          ]
        },
        {
          "output_type": "stream",
          "name": "stdout",
          "text": [
            "['alkim@mit.edu'] []  has been extracted at iteration  433\n",
            "['bckim@csail.mit.edu'] []  has been extracted at iteration  433\n"
          ]
        },
        {
          "output_type": "stream",
          "name": "stderr",
          "text": [
            "<ipython-input-35-74fde92eadb9>:52: FutureWarning: The frame.append method is deprecated and will be removed from pandas in a future version. Use pandas.concat instead.\n",
            "  df = df.append({'Email': email_current, 'Phone_number': phone_number_current}, ignore_index=True)\n"
          ]
        },
        {
          "output_type": "stream",
          "name": "stdout",
          "text": [
            "['dyjkim@csail.mit.edu'] []  has been extracted at iteration  433\n"
          ]
        },
        {
          "output_type": "stream",
          "name": "stderr",
          "text": [
            "<ipython-input-35-74fde92eadb9>:52: FutureWarning: The frame.append method is deprecated and will be removed from pandas in a future version. Use pandas.concat instead.\n",
            "  df = df.append({'Email': email_current, 'Phone_number': phone_number_current}, ignore_index=True)\n"
          ]
        },
        {
          "output_type": "stream",
          "name": "stdout",
          "text": [
            "['LUCYKIM@csail.mit.edu'] []  has been extracted at iteration  433\n"
          ]
        },
        {
          "output_type": "stream",
          "name": "stderr",
          "text": [
            "<ipython-input-35-74fde92eadb9>:52: FutureWarning: The frame.append method is deprecated and will be removed from pandas in a future version. Use pandas.concat instead.\n",
            "  df = df.append({'Email': email_current, 'Phone_number': phone_number_current}, ignore_index=True)\n"
          ]
        },
        {
          "output_type": "stream",
          "name": "stdout",
          "text": [
            "['evan_kim@mit.edu'] []  has been extracted at iteration  433\n"
          ]
        },
        {
          "output_type": "stream",
          "name": "stderr",
          "text": [
            "<ipython-input-35-74fde92eadb9>:52: FutureWarning: The frame.append method is deprecated and will be removed from pandas in a future version. Use pandas.concat instead.\n",
            "  df = df.append({'Email': email_current, 'Phone_number': phone_number_current}, ignore_index=True)\n"
          ]
        },
        {
          "output_type": "stream",
          "name": "stdout",
          "text": [
            "['joekim02@csail.mit.edu'] []  has been extracted at iteration  433\n",
            "['SEUNGJUN@csail.mit.edu'] []  has been extracted at iteration  433\n"
          ]
        },
        {
          "output_type": "stream",
          "name": "stderr",
          "text": [
            "<ipython-input-35-74fde92eadb9>:52: FutureWarning: The frame.append method is deprecated and will be removed from pandas in a future version. Use pandas.concat instead.\n",
            "  df = df.append({'Email': email_current, 'Phone_number': phone_number_current}, ignore_index=True)\n",
            "<ipython-input-35-74fde92eadb9>:52: FutureWarning: The frame.append method is deprecated and will be removed from pandas in a future version. Use pandas.concat instead.\n",
            "  df = df.append({'Email': email_current, 'Phone_number': phone_number_current}, ignore_index=True)\n"
          ]
        },
        {
          "output_type": "stream",
          "name": "stdout",
          "text": [
            "['ksiyoung@csail.mit.edu'] []  has been extracted at iteration  433\n",
            "['sunghyun@csail.mit.edu'] []  has been extracted at iteration  433\n"
          ]
        },
        {
          "output_type": "stream",
          "name": "stderr",
          "text": [
            "<ipython-input-35-74fde92eadb9>:52: FutureWarning: The frame.append method is deprecated and will be removed from pandas in a future version. Use pandas.concat instead.\n",
            "  df = df.append({'Email': email_current, 'Phone_number': phone_number_current}, ignore_index=True)\n",
            "<ipython-input-35-74fde92eadb9>:52: FutureWarning: The frame.append method is deprecated and will be removed from pandas in a future version. Use pandas.concat instead.\n",
            "  df = df.append({'Email': email_current, 'Phone_number': phone_number_current}, ignore_index=True)\n"
          ]
        },
        {
          "output_type": "stream",
          "name": "stdout",
          "text": [
            "['yoonkim@mit.edu'] []  has been extracted at iteration  433\n",
            "['younhun@mit.edu'] []  has been extracted at iteration  433\n",
            "['kimmerer@mit.edu'] []  has been extracted at iteration  433\n"
          ]
        },
        {
          "output_type": "stream",
          "name": "stderr",
          "text": [
            "<ipython-input-35-74fde92eadb9>:52: FutureWarning: The frame.append method is deprecated and will be removed from pandas in a future version. Use pandas.concat instead.\n",
            "  df = df.append({'Email': email_current, 'Phone_number': phone_number_current}, ignore_index=True)\n",
            "<ipython-input-35-74fde92eadb9>:52: FutureWarning: The frame.append method is deprecated and will be removed from pandas in a future version. Use pandas.concat instead.\n",
            "  df = df.append({'Email': email_current, 'Phone_number': phone_number_current}, ignore_index=True)\n",
            "<ipython-input-35-74fde92eadb9>:52: FutureWarning: The frame.append method is deprecated and will be removed from pandas in a future version. Use pandas.concat instead.\n",
            "  df = df.append({'Email': email_current, 'Phone_number': phone_number_current}, ignore_index=True)\n"
          ]
        },
        {
          "output_type": "stream",
          "name": "stdout",
          "text": [
            "['akimura@mit.edu'] ['253-0292']  has been extracted at iteration  433\n",
            "['elvira@mit.edu'] []  has been extracted at iteration  433\n",
            "['yaelkirk@mit.edu'] []  has been extracted at iteration  433\n"
          ]
        },
        {
          "output_type": "stream",
          "name": "stderr",
          "text": [
            "<ipython-input-35-74fde92eadb9>:52: FutureWarning: The frame.append method is deprecated and will be removed from pandas in a future version. Use pandas.concat instead.\n",
            "  df = df.append({'Email': email_current, 'Phone_number': phone_number_current}, ignore_index=True)\n",
            "<ipython-input-35-74fde92eadb9>:52: FutureWarning: The frame.append method is deprecated and will be removed from pandas in a future version. Use pandas.concat instead.\n",
            "  df = df.append({'Email': email_current, 'Phone_number': phone_number_current}, ignore_index=True)\n",
            "<ipython-input-35-74fde92eadb9>:52: FutureWarning: The frame.append method is deprecated and will be removed from pandas in a future version. Use pandas.concat instead.\n",
            "  df = df.append({'Email': email_current, 'Phone_number': phone_number_current}, ignore_index=True)\n"
          ]
        },
        {
          "output_type": "stream",
          "name": "stdout",
          "text": [
            "['nklugman@mit.edu'] []  has been extracted at iteration  433\n",
            "['koevesdc@csail.mit.edu'] []  has been extracted at iteration  433\n",
            "['ekohrman@csail.mit.edu'] ['253-2915']  has been extracted at iteration  433\n"
          ]
        },
        {
          "output_type": "stream",
          "name": "stderr",
          "text": [
            "<ipython-input-35-74fde92eadb9>:52: FutureWarning: The frame.append method is deprecated and will be removed from pandas in a future version. Use pandas.concat instead.\n",
            "  df = df.append({'Email': email_current, 'Phone_number': phone_number_current}, ignore_index=True)\n",
            "<ipython-input-35-74fde92eadb9>:52: FutureWarning: The frame.append method is deprecated and will be removed from pandas in a future version. Use pandas.concat instead.\n",
            "  df = df.append({'Email': email_current, 'Phone_number': phone_number_current}, ignore_index=True)\n",
            "<ipython-input-35-74fde92eadb9>:52: FutureWarning: The frame.append method is deprecated and will be removed from pandas in a future version. Use pandas.concat instead.\n",
            "  df = df.append({'Email': email_current, 'Phone_number': phone_number_current}, ignore_index=True)\n"
          ]
        },
        {
          "output_type": "stream",
          "name": "stdout",
          "text": [
            "['YOGESH11@csail.mit.edu'] []  has been extracted at iteration  433\n",
            "['minakl@mit.edu'] []  has been extracted at iteration  433\n",
            "['jkondic@mit.edu'] []  has been extracted at iteration  433\n"
          ]
        },
        {
          "output_type": "stream",
          "name": "stderr",
          "text": [
            "<ipython-input-35-74fde92eadb9>:52: FutureWarning: The frame.append method is deprecated and will be removed from pandas in a future version. Use pandas.concat instead.\n",
            "  df = df.append({'Email': email_current, 'Phone_number': phone_number_current}, ignore_index=True)\n",
            "<ipython-input-35-74fde92eadb9>:52: FutureWarning: The frame.append method is deprecated and will be removed from pandas in a future version. Use pandas.concat instead.\n",
            "  df = df.append({'Email': email_current, 'Phone_number': phone_number_current}, ignore_index=True)\n",
            "<ipython-input-35-74fde92eadb9>:52: FutureWarning: The frame.append method is deprecated and will be removed from pandas in a future version. Use pandas.concat instead.\n",
            "  df = df.append({'Email': email_current, 'Phone_number': phone_number_current}, ignore_index=True)\n"
          ]
        },
        {
          "output_type": "stream",
          "name": "stdout",
          "text": [
            "['kondrich@mit.edu'] []  has been extracted at iteration  433\n",
            "['LINGHAO@csail.mit.edu'] []  has been extracted at iteration  433\n",
            "['rileyis@mit.edu'] []  has been extracted at iteration  433\n",
            "['DIMOS@csail.mit.edu'] []  has been extracted at iteration  433\n"
          ]
        },
        {
          "output_type": "stream",
          "name": "stderr",
          "text": [
            "<ipython-input-35-74fde92eadb9>:52: FutureWarning: The frame.append method is deprecated and will be removed from pandas in a future version. Use pandas.concat instead.\n",
            "  df = df.append({'Email': email_current, 'Phone_number': phone_number_current}, ignore_index=True)\n",
            "<ipython-input-35-74fde92eadb9>:52: FutureWarning: The frame.append method is deprecated and will be removed from pandas in a future version. Use pandas.concat instead.\n",
            "  df = df.append({'Email': email_current, 'Phone_number': phone_number_current}, ignore_index=True)\n",
            "<ipython-input-35-74fde92eadb9>:52: FutureWarning: The frame.append method is deprecated and will be removed from pandas in a future version. Use pandas.concat instead.\n",
            "  df = df.append({'Email': email_current, 'Phone_number': phone_number_current}, ignore_index=True)\n",
            "<ipython-input-35-74fde92eadb9>:52: FutureWarning: The frame.append method is deprecated and will be removed from pandas in a future version. Use pandas.concat instead.\n",
            "  df = df.append({'Email': email_current, 'Phone_number': phone_number_current}, ignore_index=True)\n"
          ]
        },
        {
          "output_type": "stream",
          "name": "stdout",
          "text": [
            "['KOOSAGA@csail.mit.edu'] []  has been extracted at iteration  433\n",
            "['dkoplow@mit.edu'] []  has been extracted at iteration  433\n",
            "['Kossmann@mit.edu'] []  has been extracted at iteration  433\n"
          ]
        },
        {
          "output_type": "stream",
          "name": "stderr",
          "text": [
            "<ipython-input-35-74fde92eadb9>:52: FutureWarning: The frame.append method is deprecated and will be removed from pandas in a future version. Use pandas.concat instead.\n",
            "  df = df.append({'Email': email_current, 'Phone_number': phone_number_current}, ignore_index=True)\n",
            "<ipython-input-35-74fde92eadb9>:52: FutureWarning: The frame.append method is deprecated and will be removed from pandas in a future version. Use pandas.concat instead.\n",
            "  df = df.append({'Email': email_current, 'Phone_number': phone_number_current}, ignore_index=True)\n",
            "<ipython-input-35-74fde92eadb9>:52: FutureWarning: The frame.append method is deprecated and will be removed from pandas in a future version. Use pandas.concat instead.\n",
            "  df = df.append({'Email': email_current, 'Phone_number': phone_number_current}, ignore_index=True)\n"
          ]
        },
        {
          "output_type": "stream",
          "name": "stdout",
          "text": [
            "['TIMOTHY@csail.mit.edu'] []  has been extracted at iteration  433\n",
            "['mkotak@csail.mit.edu'] []  has been extracted at iteration  433\n",
            "['kraska@mit.edu'] []  has been extracted at iteration  433\n"
          ]
        },
        {
          "output_type": "stream",
          "name": "stderr",
          "text": [
            "<ipython-input-35-74fde92eadb9>:52: FutureWarning: The frame.append method is deprecated and will be removed from pandas in a future version. Use pandas.concat instead.\n",
            "  df = df.append({'Email': email_current, 'Phone_number': phone_number_current}, ignore_index=True)\n",
            "<ipython-input-35-74fde92eadb9>:52: FutureWarning: The frame.append method is deprecated and will be removed from pandas in a future version. Use pandas.concat instead.\n",
            "  df = df.append({'Email': email_current, 'Phone_number': phone_number_current}, ignore_index=True)\n",
            "<ipython-input-35-74fde92eadb9>:52: FutureWarning: The frame.append method is deprecated and will be removed from pandas in a future version. Use pandas.concat instead.\n",
            "  df = df.append({'Email': email_current, 'Phone_number': phone_number_current}, ignore_index=True)\n"
          ]
        },
        {
          "output_type": "stream",
          "name": "stdout",
          "text": [
            "['alexalex@mit.edu'] []  has been extracted at iteration  433\n",
            "['jkrog@mit.edu'] []  has been extracted at iteration  433\n",
            "['ekronauer@csail.mit.edu'] []  has been extracted at iteration  433\n"
          ]
        },
        {
          "output_type": "stream",
          "name": "stderr",
          "text": [
            "<ipython-input-35-74fde92eadb9>:52: FutureWarning: The frame.append method is deprecated and will be removed from pandas in a future version. Use pandas.concat instead.\n",
            "  df = df.append({'Email': email_current, 'Phone_number': phone_number_current}, ignore_index=True)\n",
            "<ipython-input-35-74fde92eadb9>:52: FutureWarning: The frame.append method is deprecated and will be removed from pandas in a future version. Use pandas.concat instead.\n",
            "  df = df.append({'Email': email_current, 'Phone_number': phone_number_current}, ignore_index=True)\n",
            "<ipython-input-35-74fde92eadb9>:52: FutureWarning: The frame.append method is deprecated and will be removed from pandas in a future version. Use pandas.concat instead.\n",
            "  df = df.append({'Email': email_current, 'Phone_number': phone_number_current}, ignore_index=True)\n"
          ]
        },
        {
          "output_type": "stream",
          "name": "stdout",
          "text": [
            "['KRONMAN@csail.mit.edu'] []  has been extracted at iteration  433\n",
            "['akumar01@csail.mit.edu'] []  has been extracted at iteration  433\n",
            "['njk@mit.edu'] []  has been extracted at iteration  433\n"
          ]
        },
        {
          "output_type": "stream",
          "name": "stderr",
          "text": [
            "<ipython-input-35-74fde92eadb9>:52: FutureWarning: The frame.append method is deprecated and will be removed from pandas in a future version. Use pandas.concat instead.\n",
            "  df = df.append({'Email': email_current, 'Phone_number': phone_number_current}, ignore_index=True)\n",
            "<ipython-input-35-74fde92eadb9>:52: FutureWarning: The frame.append method is deprecated and will be removed from pandas in a future version. Use pandas.concat instead.\n",
            "  df = df.append({'Email': email_current, 'Phone_number': phone_number_current}, ignore_index=True)\n",
            "<ipython-input-35-74fde92eadb9>:52: FutureWarning: The frame.append method is deprecated and will be removed from pandas in a future version. Use pandas.concat instead.\n",
            "  df = df.append({'Email': email_current, 'Phone_number': phone_number_current}, ignore_index=True)\n"
          ]
        },
        {
          "output_type": "stream",
          "name": "stdout",
          "text": [
            "['ivanko@csail.mit.edu'] []  has been extracted at iteration  433\n",
            "['kuszmaul@mit.edu'] []  has been extracted at iteration  433\n",
            "['alachyan@mit.edu'] []  has been extracted at iteration  433\n"
          ]
        },
        {
          "output_type": "stream",
          "name": "stderr",
          "text": [
            "<ipython-input-35-74fde92eadb9>:52: FutureWarning: The frame.append method is deprecated and will be removed from pandas in a future version. Use pandas.concat instead.\n",
            "  df = df.append({'Email': email_current, 'Phone_number': phone_number_current}, ignore_index=True)\n",
            "<ipython-input-35-74fde92eadb9>:52: FutureWarning: The frame.append method is deprecated and will be removed from pandas in a future version. Use pandas.concat instead.\n",
            "  df = df.append({'Email': email_current, 'Phone_number': phone_number_current}, ignore_index=True)\n",
            "<ipython-input-35-74fde92eadb9>:52: FutureWarning: The frame.append method is deprecated and will be removed from pandas in a future version. Use pandas.concat instead.\n",
            "  df = df.append({'Email': email_current, 'Phone_number': phone_number_current}, ignore_index=True)\n"
          ]
        },
        {
          "output_type": "stream",
          "name": "stdout",
          "text": [
            "['blahner@mit.edu'] []  has been extracted at iteration  433\n",
            "['clai24@csail.mit.edu'] []  has been extracted at iteration  433\n",
            "['eylai@mit.edu'] []  has been extracted at iteration  433\n"
          ]
        },
        {
          "output_type": "stream",
          "name": "stderr",
          "text": [
            "<ipython-input-35-74fde92eadb9>:52: FutureWarning: The frame.append method is deprecated and will be removed from pandas in a future version. Use pandas.concat instead.\n",
            "  df = df.append({'Email': email_current, 'Phone_number': phone_number_current}, ignore_index=True)\n",
            "<ipython-input-35-74fde92eadb9>:52: FutureWarning: The frame.append method is deprecated and will be removed from pandas in a future version. Use pandas.concat instead.\n",
            "  df = df.append({'Email': email_current, 'Phone_number': phone_number_current}, ignore_index=True)\n",
            "<ipython-input-35-74fde92eadb9>:52: FutureWarning: The frame.append method is deprecated and will be removed from pandas in a future version. Use pandas.concat instead.\n",
            "  df = df.append({'Email': email_current, 'Phone_number': phone_number_current}, ignore_index=True)\n"
          ]
        },
        {
          "output_type": "stream",
          "name": "stdout",
          "text": [
            "['aalamber@mit.edu'] []  has been extracted at iteration  433\n",
            "['blampson@mit.edu'] ['253-6004']  has been extracted at iteration  433\n",
            "['srlane@csail.mit.edu'] []  has been extracted at iteration  433\n"
          ]
        },
        {
          "output_type": "stream",
          "name": "stderr",
          "text": [
            "<ipython-input-35-74fde92eadb9>:52: FutureWarning: The frame.append method is deprecated and will be removed from pandas in a future version. Use pandas.concat instead.\n",
            "  df = df.append({'Email': email_current, 'Phone_number': phone_number_current}, ignore_index=True)\n",
            "<ipython-input-35-74fde92eadb9>:52: FutureWarning: The frame.append method is deprecated and will be removed from pandas in a future version. Use pandas.concat instead.\n",
            "  df = df.append({'Email': email_current, 'Phone_number': phone_number_current}, ignore_index=True)\n",
            "<ipython-input-35-74fde92eadb9>:52: FutureWarning: The frame.append method is deprecated and will be removed from pandas in a future version. Use pandas.concat instead.\n",
            "  df = df.append({'Email': email_current, 'Phone_number': phone_number_current}, ignore_index=True)\n"
          ]
        },
        {
          "output_type": "stream",
          "name": "stdout",
          "text": [
            "['hjl@mit.edu'] []  has been extracted at iteration  433\n",
            "['jlange@MIT.EDU'] []  has been extracted at iteration  433\n",
            "['slangows@mit.edu'] []  has been extracted at iteration  433\n"
          ]
        },
        {
          "output_type": "stream",
          "name": "stderr",
          "text": [
            "<ipython-input-35-74fde92eadb9>:52: FutureWarning: The frame.append method is deprecated and will be removed from pandas in a future version. Use pandas.concat instead.\n",
            "  df = df.append({'Email': email_current, 'Phone_number': phone_number_current}, ignore_index=True)\n",
            "<ipython-input-35-74fde92eadb9>:52: FutureWarning: The frame.append method is deprecated and will be removed from pandas in a future version. Use pandas.concat instead.\n",
            "  df = df.append({'Email': email_current, 'Phone_number': phone_number_current}, ignore_index=True)\n",
            "<ipython-input-35-74fde92eadb9>:52: FutureWarning: The frame.append method is deprecated and will be removed from pandas in a future version. Use pandas.concat instead.\n",
            "  df = df.append({'Email': email_current, 'Phone_number': phone_number_current}, ignore_index=True)\n"
          ]
        },
        {
          "output_type": "stream",
          "name": "stdout",
          "text": [
            "['ngom@mit.edu'] []  has been extracted at iteration  433\n",
            "['marylau@mit.edu'] []  has been extracted at iteration  433\n",
            "['stellal@mit.edu'] []  has been extracted at iteration  433\n"
          ]
        },
        {
          "output_type": "stream",
          "name": "stderr",
          "text": [
            "<ipython-input-35-74fde92eadb9>:52: FutureWarning: The frame.append method is deprecated and will be removed from pandas in a future version. Use pandas.concat instead.\n",
            "  df = df.append({'Email': email_current, 'Phone_number': phone_number_current}, ignore_index=True)\n",
            "<ipython-input-35-74fde92eadb9>:52: FutureWarning: The frame.append method is deprecated and will be removed from pandas in a future version. Use pandas.concat instead.\n",
            "  df = df.append({'Email': email_current, 'Phone_number': phone_number_current}, ignore_index=True)\n",
            "<ipython-input-35-74fde92eadb9>:52: FutureWarning: The frame.append method is deprecated and will be removed from pandas in a future version. Use pandas.concat instead.\n",
            "  df = df.append({'Email': email_current, 'Phone_number': phone_number_current}, ignore_index=True)\n"
          ]
        },
        {
          "output_type": "stream",
          "name": "stdout",
          "text": [
            "['nlawford@mit.edu'] []  has been extracted at iteration  433\n",
            "['hanlaw@mit.edu'] []  has been extracted at iteration  433\n",
            "['NIKLZ@csail.mit.edu'] []  has been extracted at iteration  433\n"
          ]
        },
        {
          "output_type": "stream",
          "name": "stderr",
          "text": [
            "<ipython-input-35-74fde92eadb9>:52: FutureWarning: The frame.append method is deprecated and will be removed from pandas in a future version. Use pandas.concat instead.\n",
            "  df = df.append({'Email': email_current, 'Phone_number': phone_number_current}, ignore_index=True)\n",
            "<ipython-input-35-74fde92eadb9>:52: FutureWarning: The frame.append method is deprecated and will be removed from pandas in a future version. Use pandas.concat instead.\n",
            "  df = df.append({'Email': email_current, 'Phone_number': phone_number_current}, ignore_index=True)\n",
            "<ipython-input-35-74fde92eadb9>:52: FutureWarning: The frame.append method is deprecated and will be removed from pandas in a future version. Use pandas.concat instead.\n",
            "  df = df.append({'Email': email_current, 'Phone_number': phone_number_current}, ignore_index=True)\n"
          ]
        },
        {
          "output_type": "stream",
          "name": "stdout",
          "text": [
            "['KALE404@csail.mit.edu'] []  has been extracted at iteration  433\n",
            "['thienle@mit.edu'] []  has been extracted at iteration  433\n",
            "['leary96@csail.mit.edu'] []  has been extracted at iteration  433\n"
          ]
        },
        {
          "output_type": "stream",
          "name": "stderr",
          "text": [
            "<ipython-input-35-74fde92eadb9>:52: FutureWarning: The frame.append method is deprecated and will be removed from pandas in a future version. Use pandas.concat instead.\n",
            "  df = df.append({'Email': email_current, 'Phone_number': phone_number_current}, ignore_index=True)\n",
            "<ipython-input-35-74fde92eadb9>:52: FutureWarning: The frame.append method is deprecated and will be removed from pandas in a future version. Use pandas.concat instead.\n",
            "  df = df.append({'Email': email_current, 'Phone_number': phone_number_current}, ignore_index=True)\n",
            "<ipython-input-35-74fde92eadb9>:52: FutureWarning: The frame.append method is deprecated and will be removed from pandas in a future version. Use pandas.concat instead.\n",
            "  df = df.append({'Email': email_current, 'Phone_number': phone_number_current}, ignore_index=True)\n"
          ]
        },
        {
          "output_type": "stream",
          "name": "stdout",
          "text": [
            "['mlechner@csail.mit.edu'] []  has been extracted at iteration  433\n",
            "['leclerc@mit.edu'] []  has been extracted at iteration  433\n",
            "['crystall@mit.edu'] []  has been extracted at iteration  433\n"
          ]
        },
        {
          "output_type": "stream",
          "name": "stderr",
          "text": [
            "<ipython-input-35-74fde92eadb9>:52: FutureWarning: The frame.append method is deprecated and will be removed from pandas in a future version. Use pandas.concat instead.\n",
            "  df = df.append({'Email': email_current, 'Phone_number': phone_number_current}, ignore_index=True)\n",
            "<ipython-input-35-74fde92eadb9>:52: FutureWarning: The frame.append method is deprecated and will be removed from pandas in a future version. Use pandas.concat instead.\n",
            "  df = df.append({'Email': email_current, 'Phone_number': phone_number_current}, ignore_index=True)\n",
            "<ipython-input-35-74fde92eadb9>:52: FutureWarning: The frame.append method is deprecated and will be removed from pandas in a future version. Use pandas.concat instead.\n",
            "  df = df.append({'Email': email_current, 'Phone_number': phone_number_current}, ignore_index=True)\n"
          ]
        },
        {
          "output_type": "stream",
          "name": "stdout",
          "text": [
            "['lee_d@mit.edu'] []  has been extracted at iteration  433\n",
            "['hrlee@csail.mit.edu'] []  has been extracted at iteration  433\n",
            "['jiwon25@mit.edu'] []  has been extracted at iteration  433\n"
          ]
        },
        {
          "output_type": "stream",
          "name": "stderr",
          "text": [
            "<ipython-input-35-74fde92eadb9>:52: FutureWarning: The frame.append method is deprecated and will be removed from pandas in a future version. Use pandas.concat instead.\n",
            "  df = df.append({'Email': email_current, 'Phone_number': phone_number_current}, ignore_index=True)\n",
            "<ipython-input-35-74fde92eadb9>:52: FutureWarning: The frame.append method is deprecated and will be removed from pandas in a future version. Use pandas.concat instead.\n",
            "  df = df.append({'Email': email_current, 'Phone_number': phone_number_current}, ignore_index=True)\n",
            "<ipython-input-35-74fde92eadb9>:52: FutureWarning: The frame.append method is deprecated and will be removed from pandas in a future version. Use pandas.concat instead.\n",
            "  df = df.append({'Email': email_current, 'Phone_number': phone_number_current}, ignore_index=True)\n"
          ]
        },
        {
          "output_type": "stream",
          "name": "stdout",
          "text": [
            "['jlee2022@mit.edu'] []  has been extracted at iteration  649\n",
            "['sally@csail.mit.edu'] ['253-6837']  has been extracted at iteration  649\n",
            "['samslee@mit.edu'] []  has been extracted at iteration  649\n"
          ]
        },
        {
          "output_type": "stream",
          "name": "stderr",
          "text": [
            "<ipython-input-35-74fde92eadb9>:52: FutureWarning: The frame.append method is deprecated and will be removed from pandas in a future version. Use pandas.concat instead.\n",
            "  df = df.append({'Email': email_current, 'Phone_number': phone_number_current}, ignore_index=True)\n",
            "<ipython-input-35-74fde92eadb9>:52: FutureWarning: The frame.append method is deprecated and will be removed from pandas in a future version. Use pandas.concat instead.\n",
            "  df = df.append({'Email': email_current, 'Phone_number': phone_number_current}, ignore_index=True)\n",
            "<ipython-input-35-74fde92eadb9>:52: FutureWarning: The frame.append method is deprecated and will be removed from pandas in a future version. Use pandas.concat instead.\n",
            "  df = df.append({'Email': email_current, 'Phone_number': phone_number_current}, ignore_index=True)\n"
          ]
        },
        {
          "output_type": "stream",
          "name": "stdout",
          "text": [
            "['yerimlee@csail.mit.edu'] []  has been extracted at iteration  649\n",
            "['lehmer16@mit.edu'] []  has been extracted at iteration  649\n",
            "['ryanleh@csail.mit.edu'] []  has been extracted at iteration  649\n"
          ]
        },
        {
          "output_type": "stream",
          "name": "stderr",
          "text": [
            "<ipython-input-35-74fde92eadb9>:52: FutureWarning: The frame.append method is deprecated and will be removed from pandas in a future version. Use pandas.concat instead.\n",
            "  df = df.append({'Email': email_current, 'Phone_number': phone_number_current}, ignore_index=True)\n",
            "<ipython-input-35-74fde92eadb9>:52: FutureWarning: The frame.append method is deprecated and will be removed from pandas in a future version. Use pandas.concat instead.\n",
            "  df = df.append({'Email': email_current, 'Phone_number': phone_number_current}, ignore_index=True)\n",
            "<ipython-input-35-74fde92eadb9>:52: FutureWarning: The frame.append method is deprecated and will be removed from pandas in a future version. Use pandas.concat instead.\n",
            "  df = df.append({'Email': email_current, 'Phone_number': phone_number_current}, ignore_index=True)\n"
          ]
        },
        {
          "output_type": "stream",
          "name": "stdout",
          "text": [
            "['wlehr@mit.edu'] ['258-0630']  has been extracted at iteration  649\n",
            "['ftl@csail.mit.edu'] ['253-5876']  has been extracted at iteration  649\n",
            "['cel@csail.mit.edu'] ['253-5833']  has been extracted at iteration  649\n"
          ]
        },
        {
          "output_type": "stream",
          "name": "stderr",
          "text": [
            "<ipython-input-35-74fde92eadb9>:52: FutureWarning: The frame.append method is deprecated and will be removed from pandas in a future version. Use pandas.concat instead.\n",
            "  df = df.append({'Email': email_current, 'Phone_number': phone_number_current}, ignore_index=True)\n",
            "<ipython-input-35-74fde92eadb9>:52: FutureWarning: The frame.append method is deprecated and will be removed from pandas in a future version. Use pandas.concat instead.\n",
            "  df = df.append({'Email': email_current, 'Phone_number': phone_number_current}, ignore_index=True)\n",
            "<ipython-input-35-74fde92eadb9>:52: FutureWarning: The frame.append method is deprecated and will be removed from pandas in a future version. Use pandas.concat instead.\n",
            "  df = df.append({'Email': email_current, 'Phone_number': phone_number_current}, ignore_index=True)\n"
          ]
        },
        {
          "output_type": "stream",
          "name": "stdout",
          "text": [
            "['lenail@csail.mit.edu'] []  has been extracted at iteration  649\n",
            "['blengeri@mit.edu'] []  has been extracted at iteration  649\n",
            "['jleonard@csail.mit.edu'] ['253-5305']  has been extracted at iteration  649\n"
          ]
        },
        {
          "output_type": "stream",
          "name": "stderr",
          "text": [
            "<ipython-input-35-74fde92eadb9>:52: FutureWarning: The frame.append method is deprecated and will be removed from pandas in a future version. Use pandas.concat instead.\n",
            "  df = df.append({'Email': email_current, 'Phone_number': phone_number_current}, ignore_index=True)\n",
            "<ipython-input-35-74fde92eadb9>:52: FutureWarning: The frame.append method is deprecated and will be removed from pandas in a future version. Use pandas.concat instead.\n",
            "  df = df.append({'Email': email_current, 'Phone_number': phone_number_current}, ignore_index=True)\n",
            "<ipython-input-35-74fde92eadb9>:52: FutureWarning: The frame.append method is deprecated and will be removed from pandas in a future version. Use pandas.concat instead.\n",
            "  df = df.append({'Email': email_current, 'Phone_number': phone_number_current}, ignore_index=True)\n"
          ]
        },
        {
          "output_type": "stream",
          "name": "stdout",
          "text": [
            "['dtl@mit.edu'] []  has been extracted at iteration  649\n",
            "['alexlew@mit.edu'] []  has been extracted at iteration  649\n",
            "['hlewis@mit.edu'] []  has been extracted at iteration  649\n"
          ]
        },
        {
          "output_type": "stream",
          "name": "stderr",
          "text": [
            "<ipython-input-35-74fde92eadb9>:52: FutureWarning: The frame.append method is deprecated and will be removed from pandas in a future version. Use pandas.concat instead.\n",
            "  df = df.append({'Email': email_current, 'Phone_number': phone_number_current}, ignore_index=True)\n",
            "<ipython-input-35-74fde92eadb9>:52: FutureWarning: The frame.append method is deprecated and will be removed from pandas in a future version. Use pandas.concat instead.\n",
            "  df = df.append({'Email': email_current, 'Phone_number': phone_number_current}, ignore_index=True)\n",
            "<ipython-input-35-74fde92eadb9>:52: FutureWarning: The frame.append method is deprecated and will be removed from pandas in a future version. Use pandas.concat instead.\n",
            "  df = df.append({'Email': email_current, 'Phone_number': phone_number_current}, ignore_index=True)\n"
          ]
        },
        {
          "output_type": "stream",
          "name": "stdout",
          "text": [
            "['kmlewis@mit.edu'] []  has been extracted at iteration  649\n",
            "['amandali@mit.edu'] []  has been extracted at iteration  649\n",
            "['andyli27@csail.mit.edu'] []  has been extracted at iteration  649\n"
          ]
        },
        {
          "output_type": "stream",
          "name": "stderr",
          "text": [
            "<ipython-input-35-74fde92eadb9>:52: FutureWarning: The frame.append method is deprecated and will be removed from pandas in a future version. Use pandas.concat instead.\n",
            "  df = df.append({'Email': email_current, 'Phone_number': phone_number_current}, ignore_index=True)\n",
            "<ipython-input-35-74fde92eadb9>:52: FutureWarning: The frame.append method is deprecated and will be removed from pandas in a future version. Use pandas.concat instead.\n",
            "  df = df.append({'Email': email_current, 'Phone_number': phone_number_current}, ignore_index=True)\n",
            "<ipython-input-35-74fde92eadb9>:52: FutureWarning: The frame.append method is deprecated and will be removed from pandas in a future version. Use pandas.concat instead.\n",
            "  df = df.append({'Email': email_current, 'Phone_number': phone_number_current}, ignore_index=True)\n"
          ]
        },
        {
          "output_type": "stream",
          "name": "stdout",
          "text": [
            "['yichenl@mit.edu'] []  has been extracted at iteration  649\n",
            "['beichen@csail.mit.edu'] []  has been extracted at iteration  649\n"
          ]
        },
        {
          "output_type": "stream",
          "name": "stderr",
          "text": [
            "<ipython-input-35-74fde92eadb9>:52: FutureWarning: The frame.append method is deprecated and will be removed from pandas in a future version. Use pandas.concat instead.\n",
            "  df = df.append({'Email': email_current, 'Phone_number': phone_number_current}, ignore_index=True)\n",
            "<ipython-input-35-74fde92eadb9>:52: FutureWarning: The frame.append method is deprecated and will be removed from pandas in a future version. Use pandas.concat instead.\n",
            "  df = df.append({'Email': email_current, 'Phone_number': phone_number_current}, ignore_index=True)\n"
          ]
        },
        {
          "output_type": "stream",
          "name": "stdout",
          "text": [
            "['bzl@mit.edu'] []  has been extracted at iteration  649\n",
            "['chaoli@mit.edu'] []  has been extracted at iteration  649\n"
          ]
        },
        {
          "output_type": "stream",
          "name": "stderr",
          "text": [
            "<ipython-input-35-74fde92eadb9>:52: FutureWarning: The frame.append method is deprecated and will be removed from pandas in a future version. Use pandas.concat instead.\n",
            "  df = df.append({'Email': email_current, 'Phone_number': phone_number_current}, ignore_index=True)\n",
            "<ipython-input-35-74fde92eadb9>:52: FutureWarning: The frame.append method is deprecated and will be removed from pandas in a future version. Use pandas.concat instead.\n",
            "  df = df.append({'Email': email_current, 'Phone_number': phone_number_current}, ignore_index=True)\n"
          ]
        },
        {
          "output_type": "stream",
          "name": "stdout",
          "text": [
            "['lichenni@csail.mit.edu'] []  has been extracted at iteration  649\n",
            "['dali@csail.mit.edu'] []  has been extracted at iteration  649\n"
          ]
        },
        {
          "output_type": "stream",
          "name": "stderr",
          "text": [
            "<ipython-input-35-74fde92eadb9>:52: FutureWarning: The frame.append method is deprecated and will be removed from pandas in a future version. Use pandas.concat instead.\n",
            "  df = df.append({'Email': email_current, 'Phone_number': phone_number_current}, ignore_index=True)\n",
            "<ipython-input-35-74fde92eadb9>:52: FutureWarning: The frame.append method is deprecated and will be removed from pandas in a future version. Use pandas.concat instead.\n",
            "  df = df.append({'Email': email_current, 'Phone_number': phone_number_current}, ignore_index=True)\n"
          ]
        },
        {
          "output_type": "stream",
          "name": "stdout",
          "text": [
            "['esli@csail.mit.edu'] []  has been extracted at iteration  649\n",
            "['hengzhil@csail.mit.edu'] []  has been extracted at iteration  649\n"
          ]
        },
        {
          "output_type": "stream",
          "name": "stderr",
          "text": [
            "<ipython-input-35-74fde92eadb9>:52: FutureWarning: The frame.append method is deprecated and will be removed from pandas in a future version. Use pandas.concat instead.\n",
            "  df = df.append({'Email': email_current, 'Phone_number': phone_number_current}, ignore_index=True)\n",
            "<ipython-input-35-74fde92eadb9>:52: FutureWarning: The frame.append method is deprecated and will be removed from pandas in a future version. Use pandas.concat instead.\n",
            "  df = df.append({'Email': email_current, 'Phone_number': phone_number_current}, ignore_index=True)\n"
          ]
        },
        {
          "output_type": "stream",
          "name": "stdout",
          "text": [
            "['jerryli@mit.edu'] []  has been extracted at iteration  649\n",
            "['jiatuli@mit.edu'] []  has been extracted at iteration  649\n"
          ]
        },
        {
          "output_type": "stream",
          "name": "stderr",
          "text": [
            "<ipython-input-35-74fde92eadb9>:52: FutureWarning: The frame.append method is deprecated and will be removed from pandas in a future version. Use pandas.concat instead.\n",
            "  df = df.append({'Email': email_current, 'Phone_number': phone_number_current}, ignore_index=True)\n",
            "<ipython-input-35-74fde92eadb9>:52: FutureWarning: The frame.append method is deprecated and will be removed from pandas in a future version. Use pandas.concat instead.\n",
            "  df = df.append({'Email': email_current, 'Phone_number': phone_number_current}, ignore_index=True)\n"
          ]
        },
        {
          "output_type": "stream",
          "name": "stdout",
          "text": [
            "['lingxiao@mit.edu'] []  has been extracted at iteration  649\n",
            "['MJIEISM@csail.mit.edu'] []  has been extracted at iteration  649\n"
          ]
        },
        {
          "output_type": "stream",
          "name": "stderr",
          "text": [
            "<ipython-input-35-74fde92eadb9>:52: FutureWarning: The frame.append method is deprecated and will be removed from pandas in a future version. Use pandas.concat instead.\n",
            "  df = df.append({'Email': email_current, 'Phone_number': phone_number_current}, ignore_index=True)\n",
            "<ipython-input-35-74fde92eadb9>:52: FutureWarning: The frame.append method is deprecated and will be removed from pandas in a future version. Use pandas.concat instead.\n",
            "  df = df.append({'Email': email_current, 'Phone_number': phone_number_current}, ignore_index=True)\n"
          ]
        },
        {
          "output_type": "stream",
          "name": "stdout",
          "text": [
            "['rli14@mit.edu'] []  has been extracted at iteration  649\n",
            "['SHENLI@mit.edu'] []  has been extracted at iteration  649\n"
          ]
        },
        {
          "output_type": "stream",
          "name": "stderr",
          "text": [
            "<ipython-input-35-74fde92eadb9>:52: FutureWarning: The frame.append method is deprecated and will be removed from pandas in a future version. Use pandas.concat instead.\n",
            "  df = df.append({'Email': email_current, 'Phone_number': phone_number_current}, ignore_index=True)\n",
            "<ipython-input-35-74fde92eadb9>:52: FutureWarning: The frame.append method is deprecated and will be removed from pandas in a future version. Use pandas.concat instead.\n",
            "  df = df.append({'Email': email_current, 'Phone_number': phone_number_current}, ignore_index=True)\n"
          ]
        },
        {
          "output_type": "stream",
          "name": "stdout",
          "text": [
            "['lishuang@mit.edu'] []  has been extracted at iteration  649\n",
            "['sizhe086@mit.edu'] []  has been extracted at iteration  649\n"
          ]
        },
        {
          "output_type": "stream",
          "name": "stderr",
          "text": [
            "<ipython-input-35-74fde92eadb9>:52: FutureWarning: The frame.append method is deprecated and will be removed from pandas in a future version. Use pandas.concat instead.\n",
            "  df = df.append({'Email': email_current, 'Phone_number': phone_number_current}, ignore_index=True)\n",
            "<ipython-input-35-74fde92eadb9>:52: FutureWarning: The frame.append method is deprecated and will be removed from pandas in a future version. Use pandas.concat instead.\n",
            "  df = df.append({'Email': email_current, 'Phone_number': phone_number_current}, ignore_index=True)\n"
          ]
        },
        {
          "output_type": "stream",
          "name": "stdout",
          "text": [
            "['TIANHONG@csail.mit.edu'] []  has been extracted at iteration  649\n",
            "['litianyu@mit.edu'] []  has been extracted at iteration  649\n"
          ]
        },
        {
          "output_type": "stream",
          "name": "stderr",
          "text": [
            "<ipython-input-35-74fde92eadb9>:52: FutureWarning: The frame.append method is deprecated and will be removed from pandas in a future version. Use pandas.concat instead.\n",
            "  df = df.append({'Email': email_current, 'Phone_number': phone_number_current}, ignore_index=True)\n",
            "<ipython-input-35-74fde92eadb9>:52: FutureWarning: The frame.append method is deprecated and will be removed from pandas in a future version. Use pandas.concat instead.\n",
            "  df = df.append({'Email': email_current, 'Phone_number': phone_number_current}, ignore_index=True)\n"
          ]
        },
        {
          "output_type": "stream",
          "name": "stdout",
          "text": [
            "['wensu@mit.edu'] []  has been extracted at iteration  649\n",
            "['wfli@mit.edu'] []  has been extracted at iteration  649\n"
          ]
        },
        {
          "output_type": "stream",
          "name": "stderr",
          "text": [
            "<ipython-input-35-74fde92eadb9>:52: FutureWarning: The frame.append method is deprecated and will be removed from pandas in a future version. Use pandas.concat instead.\n",
            "  df = df.append({'Email': email_current, 'Phone_number': phone_number_current}, ignore_index=True)\n",
            "<ipython-input-35-74fde92eadb9>:52: FutureWarning: The frame.append method is deprecated and will be removed from pandas in a future version. Use pandas.concat instead.\n",
            "  df = df.append({'Email': email_current, 'Phone_number': phone_number_current}, ignore_index=True)\n"
          ]
        },
        {
          "output_type": "stream",
          "name": "stdout",
          "text": [
            "['liyifei@mit.edu'] []  has been extracted at iteration  649\n",
            "['liyunzhu@mit.edu'] []  has been extracted at iteration  649\n"
          ]
        },
        {
          "output_type": "stream",
          "name": "stderr",
          "text": [
            "<ipython-input-35-74fde92eadb9>:52: FutureWarning: The frame.append method is deprecated and will be removed from pandas in a future version. Use pandas.concat instead.\n",
            "  df = df.append({'Email': email_current, 'Phone_number': phone_number_current}, ignore_index=True)\n",
            "<ipython-input-35-74fde92eadb9>:52: FutureWarning: The frame.append method is deprecated and will be removed from pandas in a future version. Use pandas.concat instead.\n",
            "  df = df.append({'Email': email_current, 'Phone_number': phone_number_current}, ignore_index=True)\n"
          ]
        },
        {
          "output_type": "stream",
          "name": "stdout",
          "text": [
            "['zli11010@mit.edu'] []  has been extracted at iteration  649\n",
            "['LMY@mit.edu'] []  has been extracted at iteration  649\n"
          ]
        },
        {
          "output_type": "stream",
          "name": "stderr",
          "text": [
            "<ipython-input-35-74fde92eadb9>:52: FutureWarning: The frame.append method is deprecated and will be removed from pandas in a future version. Use pandas.concat instead.\n",
            "  df = df.append({'Email': email_current, 'Phone_number': phone_number_current}, ignore_index=True)\n",
            "<ipython-input-35-74fde92eadb9>:52: FutureWarning: The frame.append method is deprecated and will be removed from pandas in a future version. Use pandas.concat instead.\n",
            "  df = df.append({'Email': email_current, 'Phone_number': phone_number_current}, ignore_index=True)\n"
          ]
        },
        {
          "output_type": "stream",
          "name": "stdout",
          "text": [
            "['cyl48@csail.mit.edu'] []  has been extracted at iteration  649\n",
            "['kevliao@mit.edu'] []  has been extracted at iteration  649\n"
          ]
        },
        {
          "output_type": "stream",
          "name": "stderr",
          "text": [
            "<ipython-input-35-74fde92eadb9>:52: FutureWarning: The frame.append method is deprecated and will be removed from pandas in a future version. Use pandas.concat instead.\n",
            "  df = df.append({'Email': email_current, 'Phone_number': phone_number_current}, ignore_index=True)\n",
            "<ipython-input-35-74fde92eadb9>:52: FutureWarning: The frame.append method is deprecated and will be removed from pandas in a future version. Use pandas.concat instead.\n",
            "  df = df.append({'Email': email_current, 'Phone_number': phone_number_current}, ignore_index=True)\n"
          ]
        },
        {
          "output_type": "stream",
          "name": "stdout",
          "text": [
            "['ilaria@csail.mit.edu'] []  has been extracted at iteration  649\n",
            "['henry@csail.mit.edu'] []  has been extracted at iteration  649\n"
          ]
        },
        {
          "output_type": "stream",
          "name": "stderr",
          "text": [
            "<ipython-input-35-74fde92eadb9>:52: FutureWarning: The frame.append method is deprecated and will be removed from pandas in a future version. Use pandas.concat instead.\n",
            "  df = df.append({'Email': email_current, 'Phone_number': phone_number_current}, ignore_index=True)\n",
            "<ipython-input-35-74fde92eadb9>:52: FutureWarning: The frame.append method is deprecated and will be removed from pandas in a future version. Use pandas.concat instead.\n",
            "  df = df.append({'Email': email_current, 'Phone_number': phone_number_current}, ignore_index=True)\n"
          ]
        },
        {
          "output_type": "stream",
          "name": "stdout",
          "text": [
            "['ANKILE@csail.mit.edu'] []  has been extracted at iteration  649\n",
            "['l1far@csail.mit.edu'] []  has been extracted at iteration  649\n"
          ]
        },
        {
          "output_type": "stream",
          "name": "stderr",
          "text": [
            "<ipython-input-35-74fde92eadb9>:52: FutureWarning: The frame.append method is deprecated and will be removed from pandas in a future version. Use pandas.concat instead.\n",
            "  df = df.append({'Email': email_current, 'Phone_number': phone_number_current}, ignore_index=True)\n",
            "<ipython-input-35-74fde92eadb9>:52: FutureWarning: The frame.append method is deprecated and will be removed from pandas in a future version. Use pandas.concat instead.\n",
            "  df = df.append({'Email': email_current, 'Phone_number': phone_number_current}, ignore_index=True)\n"
          ]
        },
        {
          "output_type": "stream",
          "name": "stdout",
          "text": [
            "['dereklim@mit.edu'] []  has been extracted at iteration  649\n",
            "['ashlin@mit.edu'] []  has been extracted at iteration  649\n",
            "['junhong@mit.edu'] []  has been extracted at iteration  649\n"
          ]
        },
        {
          "output_type": "stream",
          "name": "stderr",
          "text": [
            "<ipython-input-35-74fde92eadb9>:52: FutureWarning: The frame.append method is deprecated and will be removed from pandas in a future version. Use pandas.concat instead.\n",
            "  df = df.append({'Email': email_current, 'Phone_number': phone_number_current}, ignore_index=True)\n",
            "<ipython-input-35-74fde92eadb9>:52: FutureWarning: The frame.append method is deprecated and will be removed from pandas in a future version. Use pandas.concat instead.\n",
            "  df = df.append({'Email': email_current, 'Phone_number': phone_number_current}, ignore_index=True)\n",
            "<ipython-input-35-74fde92eadb9>:52: FutureWarning: The frame.append method is deprecated and will be removed from pandas in a future version. Use pandas.concat instead.\n",
            "  df = df.append({'Email': email_current, 'Phone_number': phone_number_current}, ignore_index=True)\n"
          ]
        },
        {
          "output_type": "stream",
          "name": "stdout",
          "text": [
            "['rebeccayelin@gmail.com'] []  has been extracted at iteration  649\n",
            "['yenchenl@mit.edu'] []  has been extracted at iteration  649\n"
          ]
        },
        {
          "output_type": "stream",
          "name": "stderr",
          "text": [
            "<ipython-input-35-74fde92eadb9>:52: FutureWarning: The frame.append method is deprecated and will be removed from pandas in a future version. Use pandas.concat instead.\n",
            "  df = df.append({'Email': email_current, 'Phone_number': phone_number_current}, ignore_index=True)\n",
            "<ipython-input-35-74fde92eadb9>:52: FutureWarning: The frame.append method is deprecated and will be removed from pandas in a future version. Use pandas.concat instead.\n",
            "  df = df.append({'Email': email_current, 'Phone_number': phone_number_current}, ignore_index=True)\n"
          ]
        },
        {
          "output_type": "stream",
          "name": "stdout",
          "text": [
            "['klingmin@csail.mit.edu'] []  has been extracted at iteration  649\n",
            "['liskov@csail.mit.edu'] ['253-5886']  has been extracted at iteration  649\n"
          ]
        },
        {
          "output_type": "stream",
          "name": "stderr",
          "text": [
            "<ipython-input-35-74fde92eadb9>:52: FutureWarning: The frame.append method is deprecated and will be removed from pandas in a future version. Use pandas.concat instead.\n",
            "  df = df.append({'Email': email_current, 'Phone_number': phone_number_current}, ignore_index=True)\n",
            "<ipython-input-35-74fde92eadb9>:52: FutureWarning: The frame.append method is deprecated and will be removed from pandas in a future version. Use pandas.concat instead.\n",
            "  df = df.append({'Email': email_current, 'Phone_number': phone_number_current}, ignore_index=True)\n"
          ]
        },
        {
          "output_type": "stream",
          "name": "stdout",
          "text": [
            "['glitt@mit.edu'] []  has been extracted at iteration  649\n",
            "['alexhliu@mit.edu'] []  has been extracted at iteration  649\n"
          ]
        },
        {
          "output_type": "stream",
          "name": "stderr",
          "text": [
            "<ipython-input-35-74fde92eadb9>:52: FutureWarning: The frame.append method is deprecated and will be removed from pandas in a future version. Use pandas.concat instead.\n",
            "  df = df.append({'Email': email_current, 'Phone_number': phone_number_current}, ignore_index=True)\n",
            "<ipython-input-35-74fde92eadb9>:52: FutureWarning: The frame.append method is deprecated and will be removed from pandas in a future version. Use pandas.concat instead.\n",
            "  df = df.append({'Email': email_current, 'Phone_number': phone_number_current}, ignore_index=True)\n"
          ]
        },
        {
          "output_type": "stream",
          "name": "stdout",
          "text": [
            "['cliu568@MIT.EDU'] []  has been extracted at iteration  649\n",
            "['lamanda@mit.edu'] []  has been extracted at iteration  649\n"
          ]
        },
        {
          "output_type": "stream",
          "name": "stderr",
          "text": [
            "<ipython-input-35-74fde92eadb9>:52: FutureWarning: The frame.append method is deprecated and will be removed from pandas in a future version. Use pandas.concat instead.\n",
            "  df = df.append({'Email': email_current, 'Phone_number': phone_number_current}, ignore_index=True)\n",
            "<ipython-input-35-74fde92eadb9>:52: FutureWarning: The frame.append method is deprecated and will be removed from pandas in a future version. Use pandas.concat instead.\n",
            "  df = df.append({'Email': email_current, 'Phone_number': phone_number_current}, ignore_index=True)\n"
          ]
        },
        {
          "output_type": "stream",
          "name": "stdout",
          "text": [
            "['brentliu@mit.edu'] []  has been extracted at iteration  649\n",
            "['chaoliu@csail.mit.edu'] []  has been extracted at iteration  649\n",
            "['chunwei@csail.mit.edu'] []  has been extracted at iteration  649\n"
          ]
        },
        {
          "output_type": "stream",
          "name": "stderr",
          "text": [
            "<ipython-input-35-74fde92eadb9>:52: FutureWarning: The frame.append method is deprecated and will be removed from pandas in a future version. Use pandas.concat instead.\n",
            "  df = df.append({'Email': email_current, 'Phone_number': phone_number_current}, ignore_index=True)\n",
            "<ipython-input-35-74fde92eadb9>:52: FutureWarning: The frame.append method is deprecated and will be removed from pandas in a future version. Use pandas.concat instead.\n",
            "  df = df.append({'Email': email_current, 'Phone_number': phone_number_current}, ignore_index=True)\n",
            "<ipython-input-35-74fde92eadb9>:52: FutureWarning: The frame.append method is deprecated and will be removed from pandas in a future version. Use pandas.concat instead.\n",
            "  df = df.append({'Email': email_current, 'Phone_number': phone_number_current}, ignore_index=True)\n"
          ]
        },
        {
          "output_type": "stream",
          "name": "stdout",
          "text": [
            "['evanliu@csail.mit.edu'] []  has been extracted at iteration  649\n",
            "['JIAHUILIU@csail.mit.edu'] []  has been extracted at iteration  649\n"
          ]
        },
        {
          "output_type": "stream",
          "name": "stderr",
          "text": [
            "<ipython-input-35-74fde92eadb9>:52: FutureWarning: The frame.append method is deprecated and will be removed from pandas in a future version. Use pandas.concat instead.\n",
            "  df = df.append({'Email': email_current, 'Phone_number': phone_number_current}, ignore_index=True)\n",
            "<ipython-input-35-74fde92eadb9>:52: FutureWarning: The frame.append method is deprecated and will be removed from pandas in a future version. Use pandas.concat instead.\n",
            "  df = df.append({'Email': email_current, 'Phone_number': phone_number_current}, ignore_index=True)\n"
          ]
        },
        {
          "output_type": "stream",
          "name": "stdout",
          "text": [
            "['jzliu@mit.edu'] []  has been extracted at iteration  649\n",
            "['kevliu@mit.edu'] []  has been extracted at iteration  649\n"
          ]
        },
        {
          "output_type": "stream",
          "name": "stderr",
          "text": [
            "<ipython-input-35-74fde92eadb9>:52: FutureWarning: The frame.append method is deprecated and will be removed from pandas in a future version. Use pandas.concat instead.\n",
            "  df = df.append({'Email': email_current, 'Phone_number': phone_number_current}, ignore_index=True)\n",
            "<ipython-input-35-74fde92eadb9>:52: FutureWarning: The frame.append method is deprecated and will be removed from pandas in a future version. Use pandas.concat instead.\n",
            "  df = df.append({'Email': email_current, 'Phone_number': phone_number_current}, ignore_index=True)\n"
          ]
        },
        {
          "output_type": "stream",
          "name": "stdout",
          "text": [
            "['robinl21@mit.edu'] []  has been extracted at iteration  649\n",
            "['sqliu@mit.edu'] []  has been extracted at iteration  649\n"
          ]
        },
        {
          "output_type": "stream",
          "name": "stderr",
          "text": [
            "<ipython-input-35-74fde92eadb9>:52: FutureWarning: The frame.append method is deprecated and will be removed from pandas in a future version. Use pandas.concat instead.\n",
            "  df = df.append({'Email': email_current, 'Phone_number': phone_number_current}, ignore_index=True)\n",
            "<ipython-input-35-74fde92eadb9>:52: FutureWarning: The frame.append method is deprecated and will be removed from pandas in a future version. Use pandas.concat instead.\n",
            "  df = df.append({'Email': email_current, 'Phone_number': phone_number_current}, ignore_index=True)\n"
          ]
        },
        {
          "output_type": "stream",
          "name": "stdout",
          "text": [
            "['tianyu_l@mit.edu'] []  has been extracted at iteration  649\n",
            "['wliu1@csail.mit.edu'] []  has been extracted at iteration  649\n"
          ]
        },
        {
          "output_type": "stream",
          "name": "stderr",
          "text": [
            "<ipython-input-35-74fde92eadb9>:52: FutureWarning: The frame.append method is deprecated and will be removed from pandas in a future version. Use pandas.concat instead.\n",
            "  df = df.append({'Email': email_current, 'Phone_number': phone_number_current}, ignore_index=True)\n",
            "<ipython-input-35-74fde92eadb9>:52: FutureWarning: The frame.append method is deprecated and will be removed from pandas in a future version. Use pandas.concat instead.\n",
            "  df = df.append({'Email': email_current, 'Phone_number': phone_number_current}, ignore_index=True)\n"
          ]
        },
        {
          "output_type": "stream",
          "name": "stdout",
          "text": [
            "['yliu@csail.mit.edu'] []  has been extracted at iteration  649\n",
            "['liuyc@csail.mit.edu'] []  has been extracted at iteration  649\n"
          ]
        },
        {
          "output_type": "stream",
          "name": "stderr",
          "text": [
            "<ipython-input-35-74fde92eadb9>:52: FutureWarning: The frame.append method is deprecated and will be removed from pandas in a future version. Use pandas.concat instead.\n",
            "  df = df.append({'Email': email_current, 'Phone_number': phone_number_current}, ignore_index=True)\n",
            "<ipython-input-35-74fde92eadb9>:52: FutureWarning: The frame.append method is deprecated and will be removed from pandas in a future version. Use pandas.concat instead.\n",
            "  df = df.append({'Email': email_current, 'Phone_number': phone_number_current}, ignore_index=True)\n"
          ]
        },
        {
          "output_type": "stream",
          "name": "stdout",
          "text": [
            "['zunpengliu@csail.mit.edu'] []  has been extracted at iteration  649\n",
            "['alo-admin@mit.edu'] ['253-0920']  has been extracted at iteration  649\n"
          ]
        },
        {
          "output_type": "stream",
          "name": "stderr",
          "text": [
            "<ipython-input-35-74fde92eadb9>:52: FutureWarning: The frame.append method is deprecated and will be removed from pandas in a future version. Use pandas.concat instead.\n",
            "  df = df.append({'Email': email_current, 'Phone_number': phone_number_current}, ignore_index=True)\n",
            "<ipython-input-35-74fde92eadb9>:52: FutureWarning: The frame.append method is deprecated and will be removed from pandas in a future version. Use pandas.concat instead.\n",
            "  df = df.append({'Email': email_current, 'Phone_number': phone_number_current}, ignore_index=True)\n"
          ]
        },
        {
          "output_type": "stream",
          "name": "stdout",
          "text": [
            "['torkell@mit.edu'] []  has been extracted at iteration  649\n",
            "['loo@mit.edu'] []  has been extracted at iteration  649\n"
          ]
        },
        {
          "output_type": "stream",
          "name": "stderr",
          "text": [
            "<ipython-input-35-74fde92eadb9>:52: FutureWarning: The frame.append method is deprecated and will be removed from pandas in a future version. Use pandas.concat instead.\n",
            "  df = df.append({'Email': email_current, 'Phone_number': phone_number_current}, ignore_index=True)\n",
            "<ipython-input-35-74fde92eadb9>:52: FutureWarning: The frame.append method is deprecated and will be removed from pandas in a future version. Use pandas.concat instead.\n",
            "  df = df.append({'Email': email_current, 'Phone_number': phone_number_current}, ignore_index=True)\n"
          ]
        },
        {
          "output_type": "stream",
          "name": "stdout",
          "text": [
            "['tlp@csail.mit.edu'] ['253-7889']  has been extracted at iteration  649\n",
            "['davidlu@mit.edu'] []  has been extracted at iteration  649\n"
          ]
        },
        {
          "output_type": "stream",
          "name": "stderr",
          "text": [
            "<ipython-input-35-74fde92eadb9>:52: FutureWarning: The frame.append method is deprecated and will be removed from pandas in a future version. Use pandas.concat instead.\n",
            "  df = df.append({'Email': email_current, 'Phone_number': phone_number_current}, ignore_index=True)\n",
            "<ipython-input-35-74fde92eadb9>:52: FutureWarning: The frame.append method is deprecated and will be removed from pandas in a future version. Use pandas.concat instead.\n",
            "  df = df.append({'Email': email_current, 'Phone_number': phone_number_current}, ignore_index=True)\n"
          ]
        },
        {
          "output_type": "stream",
          "name": "stdout",
          "text": [
            "['MALINDAL@csail.mit.edu'] []  has been extracted at iteration  649\n",
            "['lur@mit.edu'] []  has been extracted at iteration  649\n"
          ]
        },
        {
          "output_type": "stream",
          "name": "stderr",
          "text": [
            "<ipython-input-35-74fde92eadb9>:52: FutureWarning: The frame.append method is deprecated and will be removed from pandas in a future version. Use pandas.concat instead.\n",
            "  df = df.append({'Email': email_current, 'Phone_number': phone_number_current}, ignore_index=True)\n",
            "<ipython-input-35-74fde92eadb9>:52: FutureWarning: The frame.append method is deprecated and will be removed from pandas in a future version. Use pandas.concat instead.\n",
            "  df = df.append({'Email': email_current, 'Phone_number': phone_number_current}, ignore_index=True)\n"
          ]
        },
        {
          "output_type": "stream",
          "name": "stdout",
          "text": [
            "['ziqilu@csail.mit.edu'] []  has been extracted at iteration  649\n",
            "['eljn@csail.mit.edu'] []  has been extracted at iteration  649\n"
          ]
        },
        {
          "output_type": "stream",
          "name": "stderr",
          "text": [
            "<ipython-input-35-74fde92eadb9>:52: FutureWarning: The frame.append method is deprecated and will be removed from pandas in a future version. Use pandas.concat instead.\n",
            "  df = df.append({'Email': email_current, 'Phone_number': phone_number_current}, ignore_index=True)\n",
            "<ipython-input-35-74fde92eadb9>:52: FutureWarning: The frame.append method is deprecated and will be removed from pandas in a future version. Use pandas.concat instead.\n",
            "  df = df.append({'Email': email_current, 'Phone_number': phone_number_current}, ignore_index=True)\n"
          ]
        },
        {
          "output_type": "stream",
          "name": "stdout",
          "text": [
            "['arteml@mit.edu'] []  has been extracted at iteration  649\n",
            "['tarang@mit.edu'] []  has been extracted at iteration  649\n",
            "['lundgard@mit.edu'] []  has been extracted at iteration  "
          ]
        },
        {
          "output_type": "stream",
          "name": "stderr",
          "text": [
            "<ipython-input-35-74fde92eadb9>:52: FutureWarning: The frame.append method is deprecated and will be removed from pandas in a future version. Use pandas.concat instead.\n",
            "  df = df.append({'Email': email_current, 'Phone_number': phone_number_current}, ignore_index=True)\n",
            "<ipython-input-35-74fde92eadb9>:52: FutureWarning: The frame.append method is deprecated and will be removed from pandas in a future version. Use pandas.concat instead.\n",
            "  df = df.append({'Email': email_current, 'Phone_number': phone_number_current}, ignore_index=True)\n"
          ]
        },
        {
          "output_type": "stream",
          "name": "stdout",
          "text": [
            "649\n",
            "['hyluo@mit.edu'] []  has been extracted at iteration  649\n",
            "['yiyueluo@mit.edu'] []  has been extracted at iteration  649\n"
          ]
        },
        {
          "output_type": "stream",
          "name": "stderr",
          "text": [
            "<ipython-input-35-74fde92eadb9>:52: FutureWarning: The frame.append method is deprecated and will be removed from pandas in a future version. Use pandas.concat instead.\n",
            "  df = df.append({'Email': email_current, 'Phone_number': phone_number_current}, ignore_index=True)\n",
            "<ipython-input-35-74fde92eadb9>:52: FutureWarning: The frame.append method is deprecated and will be removed from pandas in a future version. Use pandas.concat instead.\n",
            "  df = df.append({'Email': email_current, 'Phone_number': phone_number_current}, ignore_index=True)\n",
            "<ipython-input-35-74fde92eadb9>:52: FutureWarning: The frame.append method is deprecated and will be removed from pandas in a future version. Use pandas.concat instead.\n",
            "  df = df.append({'Email': email_current, 'Phone_number': phone_number_current}, ignore_index=True)\n"
          ]
        },
        {
          "output_type": "stream",
          "name": "stdout",
          "text": [
            "['JCLYNCH@csail.mit.edu'] []  has been extracted at iteration  649\n",
            "['jaysonl@mit.edu'] []  has been extracted at iteration  649\n",
            "['lindalynch@csail.mit.edu'] ['715-2459']  has been extracted at iteration  649\n"
          ]
        },
        {
          "output_type": "stream",
          "name": "stderr",
          "text": [
            "<ipython-input-35-74fde92eadb9>:52: FutureWarning: The frame.append method is deprecated and will be removed from pandas in a future version. Use pandas.concat instead.\n",
            "  df = df.append({'Email': email_current, 'Phone_number': phone_number_current}, ignore_index=True)\n",
            "<ipython-input-35-74fde92eadb9>:52: FutureWarning: The frame.append method is deprecated and will be removed from pandas in a future version. Use pandas.concat instead.\n",
            "  df = df.append({'Email': email_current, 'Phone_number': phone_number_current}, ignore_index=True)\n",
            "<ipython-input-35-74fde92eadb9>:52: FutureWarning: The frame.append method is deprecated and will be removed from pandas in a future version. Use pandas.concat instead.\n",
            "  df = df.append({'Email': email_current, 'Phone_number': phone_number_current}, ignore_index=True)\n"
          ]
        },
        {
          "output_type": "stream",
          "name": "stdout",
          "text": [
            "['lynch@csail.mit.edu'] ['253-7225']  has been extracted at iteration  649\n",
            "['hlyu@csail.mit.edu'] []  has been extracted at iteration  649\n",
            "['wjlyu@mit.edu'] []  has been extracted at iteration  649\n"
          ]
        },
        {
          "output_type": "stream",
          "name": "stderr",
          "text": [
            "<ipython-input-35-74fde92eadb9>:52: FutureWarning: The frame.append method is deprecated and will be removed from pandas in a future version. Use pandas.concat instead.\n",
            "  df = df.append({'Email': email_current, 'Phone_number': phone_number_current}, ignore_index=True)\n",
            "<ipython-input-35-74fde92eadb9>:52: FutureWarning: The frame.append method is deprecated and will be removed from pandas in a future version. Use pandas.concat instead.\n",
            "  df = df.append({'Email': email_current, 'Phone_number': phone_number_current}, ignore_index=True)\n",
            "<ipython-input-35-74fde92eadb9>:52: FutureWarning: The frame.append method is deprecated and will be removed from pandas in a future version. Use pandas.concat instead.\n",
            "  df = df.append({'Email': email_current, 'Phone_number': phone_number_current}, ignore_index=True)\n"
          ]
        },
        {
          "output_type": "stream",
          "name": "stdout",
          "text": [
            "['HENRYMA@csail.mit.edu'] []  has been extracted at iteration  649\n",
            "['jma22@mit.edu'] []  has been extracted at iteration  649\n",
            "['karima@mit.edu'] []  has been extracted at iteration  649\n"
          ]
        },
        {
          "output_type": "stream",
          "name": "stderr",
          "text": [
            "<ipython-input-35-74fde92eadb9>:52: FutureWarning: The frame.append method is deprecated and will be removed from pandas in a future version. Use pandas.concat instead.\n",
            "  df = df.append({'Email': email_current, 'Phone_number': phone_number_current}, ignore_index=True)\n",
            "<ipython-input-35-74fde92eadb9>:52: FutureWarning: The frame.append method is deprecated and will be removed from pandas in a future version. Use pandas.concat instead.\n",
            "  df = df.append({'Email': email_current, 'Phone_number': phone_number_current}, ignore_index=True)\n",
            "<ipython-input-35-74fde92eadb9>:52: FutureWarning: The frame.append method is deprecated and will be removed from pandas in a future version. Use pandas.concat instead.\n",
            "  df = df.append({'Email': email_current, 'Phone_number': phone_number_current}, ignore_index=True)\n"
          ]
        },
        {
          "output_type": "stream",
          "name": "stdout",
          "text": [
            "['pcma@csail.mit.edu'] []  has been extracted at iteration  649\n",
            "['RACHELM8@csail.mit.edu'] []  has been extracted at iteration  649\n",
            "['weichium@mit.edu'] []  has been extracted at iteration  649\n"
          ]
        },
        {
          "output_type": "stream",
          "name": "stderr",
          "text": [
            "<ipython-input-35-74fde92eadb9>:52: FutureWarning: The frame.append method is deprecated and will be removed from pandas in a future version. Use pandas.concat instead.\n",
            "  df = df.append({'Email': email_current, 'Phone_number': phone_number_current}, ignore_index=True)\n",
            "<ipython-input-35-74fde92eadb9>:52: FutureWarning: The frame.append method is deprecated and will be removed from pandas in a future version. Use pandas.concat instead.\n",
            "  df = df.append({'Email': email_current, 'Phone_number': phone_number_current}, ignore_index=True)\n",
            "<ipython-input-35-74fde92eadb9>:52: FutureWarning: The frame.append method is deprecated and will be removed from pandas in a future version. Use pandas.concat instead.\n",
            "  df = df.append({'Email': email_current, 'Phone_number': phone_number_current}, ignore_index=True)\n"
          ]
        },
        {
          "output_type": "stream",
          "name": "stdout",
          "text": [
            "['yxma20@mit.edu'] []  has been extracted at iteration  649\n",
            "['alaam@csail.mit.edu'] []  has been extracted at iteration  649\n",
            "['madden@csail.mit.edu'] ['258-6643']  has been extracted at iteration  649\n"
          ]
        },
        {
          "output_type": "stream",
          "name": "stderr",
          "text": [
            "<ipython-input-35-74fde92eadb9>:52: FutureWarning: The frame.append method is deprecated and will be removed from pandas in a future version. Use pandas.concat instead.\n",
            "  df = df.append({'Email': email_current, 'Phone_number': phone_number_current}, ignore_index=True)\n",
            "<ipython-input-35-74fde92eadb9>:52: FutureWarning: The frame.append method is deprecated and will be removed from pandas in a future version. Use pandas.concat instead.\n",
            "  df = df.append({'Email': email_current, 'Phone_number': phone_number_current}, ignore_index=True)\n",
            "<ipython-input-35-74fde92eadb9>:52: FutureWarning: The frame.append method is deprecated and will be removed from pandas in a future version. Use pandas.concat instead.\n",
            "  df = df.append({'Email': email_current, 'Phone_number': phone_number_current}, ignore_index=True)\n"
          ]
        },
        {
          "output_type": "stream",
          "name": "stdout",
          "text": [
            "['madry@mit.edu'] ['324-6739']  has been extracted at iteration  649\n",
            "['BethMagee@csail.mit.edu'] []  has been extracted at iteration  649\n",
            "['qpm3@mit.edu'] []  has been extracted at iteration  649\n"
          ]
        },
        {
          "output_type": "stream",
          "name": "stderr",
          "text": [
            "<ipython-input-35-74fde92eadb9>:52: FutureWarning: The frame.append method is deprecated and will be removed from pandas in a future version. Use pandas.concat instead.\n",
            "  df = df.append({'Email': email_current, 'Phone_number': phone_number_current}, ignore_index=True)\n",
            "<ipython-input-35-74fde92eadb9>:52: FutureWarning: The frame.append method is deprecated and will be removed from pandas in a future version. Use pandas.concat instead.\n",
            "  df = df.append({'Email': email_current, 'Phone_number': phone_number_current}, ignore_index=True)\n",
            "<ipython-input-35-74fde92eadb9>:52: FutureWarning: The frame.append method is deprecated and will be removed from pandas in a future version. Use pandas.concat instead.\n",
            "  df = df.append({'Email': email_current, 'Phone_number': phone_number_current}, ignore_index=True)\n"
          ]
        },
        {
          "output_type": "stream",
          "name": "stdout",
          "text": [
            "['magnanti@mit.edu'] ['253-6604']  has been extracted at iteration  649\n",
            "['magoun@mit.edu'] []  has been extracted at iteration  649\n",
            "['DAVIDMAG@csail.mit.edu'] []  has been extracted at iteration  649\n"
          ]
        },
        {
          "output_type": "stream",
          "name": "stderr",
          "text": [
            "<ipython-input-35-74fde92eadb9>:52: FutureWarning: The frame.append method is deprecated and will be removed from pandas in a future version. Use pandas.concat instead.\n",
            "  df = df.append({'Email': email_current, 'Phone_number': phone_number_current}, ignore_index=True)\n",
            "<ipython-input-35-74fde92eadb9>:52: FutureWarning: The frame.append method is deprecated and will be removed from pandas in a future version. Use pandas.concat instead.\n",
            "  df = df.append({'Email': email_current, 'Phone_number': phone_number_current}, ignore_index=True)\n",
            "<ipython-input-35-74fde92eadb9>:52: FutureWarning: The frame.append method is deprecated and will be removed from pandas in a future version. Use pandas.concat instead.\n",
            "  df = df.append({'Email': email_current, 'Phone_number': phone_number_current}, ignore_index=True)\n"
          ]
        },
        {
          "output_type": "stream",
          "name": "stdout",
          "text": [
            "['makatura@mit.edu'] []  has been extracted at iteration  649\n",
            "['amakelov@mit.edu'] []  has been extracted at iteration  649\n",
            "['RIMANGAN@csail.mit.edu'] []  has been extracted at iteration  649\n"
          ]
        },
        {
          "output_type": "stream",
          "name": "stderr",
          "text": [
            "<ipython-input-35-74fde92eadb9>:52: FutureWarning: The frame.append method is deprecated and will be removed from pandas in a future version. Use pandas.concat instead.\n",
            "  df = df.append({'Email': email_current, 'Phone_number': phone_number_current}, ignore_index=True)\n",
            "<ipython-input-35-74fde92eadb9>:52: FutureWarning: The frame.append method is deprecated and will be removed from pandas in a future version. Use pandas.concat instead.\n",
            "  df = df.append({'Email': email_current, 'Phone_number': phone_number_current}, ignore_index=True)\n",
            "<ipython-input-35-74fde92eadb9>:52: FutureWarning: The frame.append method is deprecated and will be removed from pandas in a future version. Use pandas.concat instead.\n",
            "  df = df.append({'Email': email_current, 'Phone_number': phone_number_current}, ignore_index=True)\n"
          ]
        },
        {
          "output_type": "stream",
          "name": "stdout",
          "text": [
            "['niklasm@csail.mit.edu'] []  has been extracted at iteration  649\n",
            "['nira@csail.mit.edu'] ['253-5977']  has been extracted at iteration  649\n",
            "['jwmantei@csail.mit.edu'] []  has been extracted at iteration  649\n"
          ]
        },
        {
          "output_type": "stream",
          "name": "stderr",
          "text": [
            "<ipython-input-35-74fde92eadb9>:52: FutureWarning: The frame.append method is deprecated and will be removed from pandas in a future version. Use pandas.concat instead.\n",
            "  df = df.append({'Email': email_current, 'Phone_number': phone_number_current}, ignore_index=True)\n",
            "<ipython-input-35-74fde92eadb9>:52: FutureWarning: The frame.append method is deprecated and will be removed from pandas in a future version. Use pandas.concat instead.\n",
            "  df = df.append({'Email': email_current, 'Phone_number': phone_number_current}, ignore_index=True)\n",
            "<ipython-input-35-74fde92eadb9>:52: FutureWarning: The frame.append method is deprecated and will be removed from pandas in a future version. Use pandas.concat instead.\n",
            "  df = df.append({'Email': email_current, 'Phone_number': phone_number_current}, ignore_index=True)\n"
          ]
        },
        {
          "output_type": "stream",
          "name": "stdout",
          "text": [
            "['jmanyika@csail.mit.edu'] []  has been extracted at iteration  649\n",
            "['jiayuanm@mit.edu'] []  has been extracted at iteration  649\n",
            "['tobiam@csail.mit.edu'] []  has been extracted at iteration  649\n"
          ]
        },
        {
          "output_type": "stream",
          "name": "stderr",
          "text": [
            "<ipython-input-35-74fde92eadb9>:52: FutureWarning: The frame.append method is deprecated and will be removed from pandas in a future version. Use pandas.concat instead.\n",
            "  df = df.append({'Email': email_current, 'Phone_number': phone_number_current}, ignore_index=True)\n",
            "<ipython-input-35-74fde92eadb9>:52: FutureWarning: The frame.append method is deprecated and will be removed from pandas in a future version. Use pandas.concat instead.\n",
            "  df = df.append({'Email': email_current, 'Phone_number': phone_number_current}, ignore_index=True)\n",
            "<ipython-input-35-74fde92eadb9>:52: FutureWarning: The frame.append method is deprecated and will be removed from pandas in a future version. Use pandas.concat instead.\n",
            "  df = df.append({'Email': email_current, 'Phone_number': phone_number_current}, ignore_index=True)\n"
          ]
        },
        {
          "output_type": "stream",
          "name": "stdout",
          "text": [
            "['gmargo@mit.edu'] []  has been extracted at iteration  649\n",
            "['nhm@csail.mit.edu'] []  has been extracted at iteration  649\n",
            "['sheila@csail.mit.edu'] ['253-1996']  has been extracted at iteration  649\n"
          ]
        },
        {
          "output_type": "stream",
          "name": "stderr",
          "text": [
            "<ipython-input-35-74fde92eadb9>:52: FutureWarning: The frame.append method is deprecated and will be removed from pandas in a future version. Use pandas.concat instead.\n",
            "  df = df.append({'Email': email_current, 'Phone_number': phone_number_current}, ignore_index=True)\n",
            "<ipython-input-35-74fde92eadb9>:52: FutureWarning: The frame.append method is deprecated and will be removed from pandas in a future version. Use pandas.concat instead.\n",
            "  df = df.append({'Email': email_current, 'Phone_number': phone_number_current}, ignore_index=True)\n",
            "<ipython-input-35-74fde92eadb9>:52: FutureWarning: The frame.append method is deprecated and will be removed from pandas in a future version. Use pandas.concat instead.\n",
            "  df = df.append({'Email': email_current, 'Phone_number': phone_number_current}, ignore_index=True)\n"
          ]
        },
        {
          "output_type": "stream",
          "name": "stdout",
          "text": [
            "['markakis@mit.edu'] []  has been extracted at iteration  649\n",
            "['marzoev@mit.edu'] []  has been extracted at iteration  649\n",
            "['jomat@mit.edu'] []  has been extracted at iteration  649\n"
          ]
        },
        {
          "output_type": "stream",
          "name": "stderr",
          "text": [
            "<ipython-input-35-74fde92eadb9>:52: FutureWarning: The frame.append method is deprecated and will be removed from pandas in a future version. Use pandas.concat instead.\n",
            "  df = df.append({'Email': email_current, 'Phone_number': phone_number_current}, ignore_index=True)\n",
            "<ipython-input-35-74fde92eadb9>:52: FutureWarning: The frame.append method is deprecated and will be removed from pandas in a future version. Use pandas.concat instead.\n",
            "  df = df.append({'Email': email_current, 'Phone_number': phone_number_current}, ignore_index=True)\n",
            "<ipython-input-35-74fde92eadb9>:52: FutureWarning: The frame.append method is deprecated and will be removed from pandas in a future version. Use pandas.concat instead.\n",
            "  df = df.append({'Email': email_current, 'Phone_number': phone_number_current}, ignore_index=True)\n"
          ]
        },
        {
          "output_type": "stream",
          "name": "stdout",
          "text": [
            "['cmathews@csail.mit.edu'] ['324-7302']  has been extracted at iteration  649\n",
            "['smathi@mit.edu'] []  has been extracted at iteration  649\n",
            "['jfon@mit.edu'] []  has been extracted at iteration  649\n"
          ]
        },
        {
          "output_type": "stream",
          "name": "stderr",
          "text": [
            "<ipython-input-35-74fde92eadb9>:52: FutureWarning: The frame.append method is deprecated and will be removed from pandas in a future version. Use pandas.concat instead.\n",
            "  df = df.append({'Email': email_current, 'Phone_number': phone_number_current}, ignore_index=True)\n",
            "<ipython-input-35-74fde92eadb9>:52: FutureWarning: The frame.append method is deprecated and will be removed from pandas in a future version. Use pandas.concat instead.\n",
            "  df = df.append({'Email': email_current, 'Phone_number': phone_number_current}, ignore_index=True)\n",
            "<ipython-input-35-74fde92eadb9>:52: FutureWarning: The frame.append method is deprecated and will be removed from pandas in a future version. Use pandas.concat instead.\n",
            "  df = df.append({'Email': email_current, 'Phone_number': phone_number_current}, ignore_index=True)\n"
          ]
        },
        {
          "output_type": "stream",
          "name": "stdout",
          "text": [
            "['kmatton@mit.edu'] []  has been extracted at iteration  649\n",
            "['leticiam@mit.edu'] []  has been extracted at iteration  649\n",
            "['hmatusik@mit.edu'] []  has been extracted at iteration  649\n"
          ]
        },
        {
          "output_type": "stream",
          "name": "stderr",
          "text": [
            "<ipython-input-35-74fde92eadb9>:52: FutureWarning: The frame.append method is deprecated and will be removed from pandas in a future version. Use pandas.concat instead.\n",
            "  df = df.append({'Email': email_current, 'Phone_number': phone_number_current}, ignore_index=True)\n",
            "<ipython-input-35-74fde92eadb9>:52: FutureWarning: The frame.append method is deprecated and will be removed from pandas in a future version. Use pandas.concat instead.\n",
            "  df = df.append({'Email': email_current, 'Phone_number': phone_number_current}, ignore_index=True)\n",
            "<ipython-input-35-74fde92eadb9>:52: FutureWarning: The frame.append method is deprecated and will be removed from pandas in a future version. Use pandas.concat instead.\n",
            "  df = df.append({'Email': email_current, 'Phone_number': phone_number_current}, ignore_index=True)\n"
          ]
        },
        {
          "output_type": "stream",
          "name": "stdout",
          "text": [
            "['wojciech@csail.mit.edu'] ['324-8432']  has been extracted at iteration  649\n",
            "['hendriktmayer@csail.mit.edu'] []  has been extracted at iteration  649\n",
            "['dmayo2@mit.edu'] []  has been extracted at iteration  649\n"
          ]
        },
        {
          "output_type": "stream",
          "name": "stderr",
          "text": [
            "<ipython-input-35-74fde92eadb9>:52: FutureWarning: The frame.append method is deprecated and will be removed from pandas in a future version. Use pandas.concat instead.\n",
            "  df = df.append({'Email': email_current, 'Phone_number': phone_number_current}, ignore_index=True)\n",
            "<ipython-input-35-74fde92eadb9>:52: FutureWarning: The frame.append method is deprecated and will be removed from pandas in a future version. Use pandas.concat instead.\n",
            "  df = df.append({'Email': email_current, 'Phone_number': phone_number_current}, ignore_index=True)\n",
            "<ipython-input-35-74fde92eadb9>:52: FutureWarning: The frame.append method is deprecated and will be removed from pandas in a future version. Use pandas.concat instead.\n",
            "  df = df.append({'Email': email_current, 'Phone_number': phone_number_current}, ignore_index=True)\n"
          ]
        },
        {
          "output_type": "stream",
          "name": "stdout",
          "text": [
            "['wbm3@mit.edu'] []  has been extracted at iteration  649\n",
            "['kmccue@mit.edu'] []  has been extracted at iteration  649\n",
            "['mmcdavit@csail.mit.edu'] ['253-9620']  has been extracted at iteration  649\n"
          ]
        },
        {
          "output_type": "stream",
          "name": "stderr",
          "text": [
            "<ipython-input-35-74fde92eadb9>:52: FutureWarning: The frame.append method is deprecated and will be removed from pandas in a future version. Use pandas.concat instead.\n",
            "  df = df.append({'Email': email_current, 'Phone_number': phone_number_current}, ignore_index=True)\n",
            "<ipython-input-35-74fde92eadb9>:52: FutureWarning: The frame.append method is deprecated and will be removed from pandas in a future version. Use pandas.concat instead.\n",
            "  df = df.append({'Email': email_current, 'Phone_number': phone_number_current}, ignore_index=True)\n",
            "<ipython-input-35-74fde92eadb9>:52: FutureWarning: The frame.append method is deprecated and will be removed from pandas in a future version. Use pandas.concat instead.\n",
            "  df = df.append({'Email': email_current, 'Phone_number': phone_number_current}, ignore_index=True)\n"
          ]
        },
        {
          "output_type": "stream",
          "name": "stdout",
          "text": [
            "['jmcilmai@mit.edu'] ['253-2538']  has been extracted at iteration  649\n",
            "['jmckeon@mit.edu'] []  has been extracted at iteration  649\n",
            "['mattmcm@mit.edu'] []  has been extracted at iteration  649\n"
          ]
        },
        {
          "output_type": "stream",
          "name": "stderr",
          "text": [
            "<ipython-input-35-74fde92eadb9>:52: FutureWarning: The frame.append method is deprecated and will be removed from pandas in a future version. Use pandas.concat instead.\n",
            "  df = df.append({'Email': email_current, 'Phone_number': phone_number_current}, ignore_index=True)\n",
            "<ipython-input-35-74fde92eadb9>:52: FutureWarning: The frame.append method is deprecated and will be removed from pandas in a future version. Use pandas.concat instead.\n",
            "  df = df.append({'Email': email_current, 'Phone_number': phone_number_current}, ignore_index=True)\n",
            "<ipython-input-35-74fde92eadb9>:52: FutureWarning: The frame.append method is deprecated and will be removed from pandas in a future version. Use pandas.concat instead.\n",
            "  df = df.append({'Email': email_current, 'Phone_number': phone_number_current}, ignore_index=True)\n"
          ]
        },
        {
          "output_type": "stream",
          "name": "stdout",
          "text": [
            "['RMEI@csail.mit.edu'] []  has been extracted at iteration  649\n",
            "['jmeindl@csail.mit.edu'] []  has been extracted at iteration  649\n",
            "['smendels@mit.edu'] []  has been extracted at iteration  649\n"
          ]
        },
        {
          "output_type": "stream",
          "name": "stderr",
          "text": [
            "<ipython-input-35-74fde92eadb9>:52: FutureWarning: The frame.append method is deprecated and will be removed from pandas in a future version. Use pandas.concat instead.\n",
            "  df = df.append({'Email': email_current, 'Phone_number': phone_number_current}, ignore_index=True)\n",
            "<ipython-input-35-74fde92eadb9>:52: FutureWarning: The frame.append method is deprecated and will be removed from pandas in a future version. Use pandas.concat instead.\n",
            "  df = df.append({'Email': email_current, 'Phone_number': phone_number_current}, ignore_index=True)\n",
            "<ipython-input-35-74fde92eadb9>:52: FutureWarning: The frame.append method is deprecated and will be removed from pandas in a future version. Use pandas.concat instead.\n",
            "  df = df.append({'Email': email_current, 'Phone_number': phone_number_current}, ignore_index=True)\n"
          ]
        },
        {
          "output_type": "stream",
          "name": "stdout",
          "text": [
            "['jmendez@csail.mit.edu'] []  has been extracted at iteration  649\n",
            "['hmerker@mit.edu'] []  has been extracted at iteration  649\n",
            "['meyer@csail.mit.edu'] []  has been extracted at iteration  649\n"
          ]
        },
        {
          "output_type": "stream",
          "name": "stderr",
          "text": [
            "<ipython-input-35-74fde92eadb9>:52: FutureWarning: The frame.append method is deprecated and will be removed from pandas in a future version. Use pandas.concat instead.\n",
            "  df = df.append({'Email': email_current, 'Phone_number': phone_number_current}, ignore_index=True)\n",
            "<ipython-input-35-74fde92eadb9>:52: FutureWarning: The frame.append method is deprecated and will be removed from pandas in a future version. Use pandas.concat instead.\n",
            "  df = df.append({'Email': email_current, 'Phone_number': phone_number_current}, ignore_index=True)\n",
            "<ipython-input-35-74fde92eadb9>:52: FutureWarning: The frame.append method is deprecated and will be removed from pandas in a future version. Use pandas.concat instead.\n",
            "  df = df.append({'Email': email_current, 'Phone_number': phone_number_current}, ignore_index=True)\n"
          ]
        },
        {
          "output_type": "stream",
          "name": "stdout",
          "text": [
            "['lumi@mit.edu'] []  has been extracted at iteration  649\n",
            "['silvio@csail.mit.edu'] ['253-5949']  has been extracted at iteration  649\n",
            "['jmmichel@mit.edu'] []  has been extracted at iteration  649\n"
          ]
        },
        {
          "output_type": "stream",
          "name": "stderr",
          "text": [
            "<ipython-input-35-74fde92eadb9>:52: FutureWarning: The frame.append method is deprecated and will be removed from pandas in a future version. Use pandas.concat instead.\n",
            "  df = df.append({'Email': email_current, 'Phone_number': phone_number_current}, ignore_index=True)\n",
            "<ipython-input-35-74fde92eadb9>:52: FutureWarning: The frame.append method is deprecated and will be removed from pandas in a future version. Use pandas.concat instead.\n",
            "  df = df.append({'Email': email_current, 'Phone_number': phone_number_current}, ignore_index=True)\n",
            "<ipython-input-35-74fde92eadb9>:52: FutureWarning: The frame.append method is deprecated and will be removed from pandas in a future version. Use pandas.concat instead.\n",
            "  df = df.append({'Email': email_current, 'Phone_number': phone_number_current}, ignore_index=True)\n"
          ]
        },
        {
          "output_type": "stream",
          "name": "stdout",
          "text": [
            "['AMIGDAL@csail.mit.edu'] []  has been extracted at iteration  649\n",
            "['pgmikhael@csail.mit.edu'] []  has been extracted at iteration  649\n",
            "['rcm@csail.mit.edu'] ['324-6028']  has been extracted at iteration  649\n"
          ]
        },
        {
          "output_type": "stream",
          "name": "stderr",
          "text": [
            "<ipython-input-35-74fde92eadb9>:52: FutureWarning: The frame.append method is deprecated and will be removed from pandas in a future version. Use pandas.concat instead.\n",
            "  df = df.append({'Email': email_current, 'Phone_number': phone_number_current}, ignore_index=True)\n",
            "<ipython-input-35-74fde92eadb9>:52: FutureWarning: The frame.append method is deprecated and will be removed from pandas in a future version. Use pandas.concat instead.\n",
            "  df = df.append({'Email': email_current, 'Phone_number': phone_number_current}, ignore_index=True)\n",
            "<ipython-input-35-74fde92eadb9>:52: FutureWarning: The frame.append method is deprecated and will be removed from pandas in a future version. Use pandas.concat instead.\n",
            "  df = df.append({'Email': email_current, 'Phone_number': phone_number_current}, ignore_index=True)\n"
          ]
        },
        {
          "output_type": "stream",
          "name": "stdout",
          "text": [
            "['alimirz@mit.edu'] []  has been extracted at iteration  649\n",
            "['dmishra@mit.edu'] []  has been extracted at iteration  649\n",
            "['arvind@csail.mit.edu'] ['253-6090']  has been extracted at iteration  649\n"
          ]
        },
        {
          "output_type": "stream",
          "name": "stderr",
          "text": [
            "<ipython-input-35-74fde92eadb9>:52: FutureWarning: The frame.append method is deprecated and will be removed from pandas in a future version. Use pandas.concat instead.\n",
            "  df = df.append({'Email': email_current, 'Phone_number': phone_number_current}, ignore_index=True)\n",
            "<ipython-input-35-74fde92eadb9>:52: FutureWarning: The frame.append method is deprecated and will be removed from pandas in a future version. Use pandas.concat instead.\n",
            "  df = df.append({'Email': email_current, 'Phone_number': phone_number_current}, ignore_index=True)\n",
            "<ipython-input-35-74fde92eadb9>:52: FutureWarning: The frame.append method is deprecated and will be removed from pandas in a future version. Use pandas.concat instead.\n",
            "  df = df.append({'Email': email_current, 'Phone_number': phone_number_current}, ignore_index=True)\n"
          ]
        },
        {
          "output_type": "stream",
          "name": "stdout",
          "text": [
            "['shania@csail.mit.edu'] []  has been extracted at iteration  649\n",
            "['yeab@csail.mit.edu'] []  has been extracted at iteration  649\n"
          ]
        },
        {
          "output_type": "stream",
          "name": "stderr",
          "text": [
            "<ipython-input-35-74fde92eadb9>:52: FutureWarning: The frame.append method is deprecated and will be removed from pandas in a future version. Use pandas.concat instead.\n",
            "  df = df.append({'Email': email_current, 'Phone_number': phone_number_current}, ignore_index=True)\n",
            "<ipython-input-35-74fde92eadb9>:52: FutureWarning: The frame.append method is deprecated and will be removed from pandas in a future version. Use pandas.concat instead.\n",
            "  df = df.append({'Email': email_current, 'Phone_number': phone_number_current}, ignore_index=True)\n"
          ]
        },
        {
          "output_type": "stream",
          "name": "stdout",
          "text": [
            "['abhimo@mit.edu'] []  has been extracted at iteration  649\n",
            "['SIDHANTH@csail.mit.edu'] []  has been extracted at iteration  649\n"
          ]
        },
        {
          "output_type": "stream",
          "name": "stderr",
          "text": [
            "<ipython-input-35-74fde92eadb9>:52: FutureWarning: The frame.append method is deprecated and will be removed from pandas in a future version. Use pandas.concat instead.\n",
            "  df = df.append({'Email': email_current, 'Phone_number': phone_number_current}, ignore_index=True)\n",
            "<ipython-input-35-74fde92eadb9>:52: FutureWarning: The frame.append method is deprecated and will be removed from pandas in a future version. Use pandas.concat instead.\n",
            "  df = df.append({'Email': email_current, 'Phone_number': phone_number_current}, ignore_index=True)\n"
          ]
        },
        {
          "output_type": "stream",
          "name": "stdout",
          "text": [
            "['jeetmo@mit.edu'] []  has been extracted at iteration  649\n",
            "['kmohr@mit.edu'] []  has been extracted at iteration  649\n"
          ]
        },
        {
          "output_type": "stream",
          "name": "stderr",
          "text": [
            "<ipython-input-35-74fde92eadb9>:52: FutureWarning: The frame.append method is deprecated and will be removed from pandas in a future version. Use pandas.concat instead.\n",
            "  df = df.append({'Email': email_current, 'Phone_number': phone_number_current}, ignore_index=True)\n",
            "<ipython-input-35-74fde92eadb9>:52: FutureWarning: The frame.append method is deprecated and will be removed from pandas in a future version. Use pandas.concat instead.\n",
            "  df = df.append({'Email': email_current, 'Phone_number': phone_number_current}, ignore_index=True)\n"
          ]
        },
        {
          "output_type": "stream",
          "name": "stdout",
          "text": [
            "['mitra@csail.mit.edu'] []  has been extracted at iteration  649\n",
            "['moitra@mit.edu'] ['253-5876']  has been extracted at iteration  649\n"
          ]
        },
        {
          "output_type": "stream",
          "name": "stderr",
          "text": [
            "<ipython-input-35-74fde92eadb9>:52: FutureWarning: The frame.append method is deprecated and will be removed from pandas in a future version. Use pandas.concat instead.\n",
            "  df = df.append({'Email': email_current, 'Phone_number': phone_number_current}, ignore_index=True)\n",
            "<ipython-input-35-74fde92eadb9>:52: FutureWarning: The frame.append method is deprecated and will be removed from pandas in a future version. Use pandas.concat instead.\n",
            "  df = df.append({'Email': email_current, 'Phone_number': phone_number_current}, ignore_index=True)\n"
          ]
        },
        {
          "output_type": "stream",
          "name": "stdout",
          "text": [
            "['orm@csail.mit.edu'] []  has been extracted at iteration  649\n",
            "['scasper@mit.edu'] []  has been extracted at iteration  649\n"
          ]
        },
        {
          "output_type": "stream",
          "name": "stderr",
          "text": [
            "<ipython-input-35-74fde92eadb9>:52: FutureWarning: The frame.append method is deprecated and will be removed from pandas in a future version. Use pandas.concat instead.\n",
            "  df = df.append({'Email': email_current, 'Phone_number': phone_number_current}, ignore_index=True)\n",
            "<ipython-input-35-74fde92eadb9>:52: FutureWarning: The frame.append method is deprecated and will be removed from pandas in a future version. Use pandas.concat instead.\n",
            "  df = df.append({'Email': email_current, 'Phone_number': phone_number_current}, ignore_index=True)\n"
          ]
        },
        {
          "output_type": "stream",
          "name": "stdout",
          "text": [
            "['itmoon@mit.edu'] []  has been extracted at iteration  649\n",
            "['mieke@csail.mit.edu'] ['253-5817']  has been extracted at iteration  649\n"
          ]
        },
        {
          "output_type": "stream",
          "name": "stderr",
          "text": [
            "<ipython-input-35-74fde92eadb9>:52: FutureWarning: The frame.append method is deprecated and will be removed from pandas in a future version. Use pandas.concat instead.\n",
            "  df = df.append({'Email': email_current, 'Phone_number': phone_number_current}, ignore_index=True)\n",
            "<ipython-input-35-74fde92eadb9>:52: FutureWarning: The frame.append method is deprecated and will be removed from pandas in a future version. Use pandas.concat instead.\n",
            "  df = df.append({'Email': email_current, 'Phone_number': phone_number_current}, ignore_index=True)\n"
          ]
        },
        {
          "output_type": "stream",
          "name": "stdout",
          "text": [
            "['savva@mit.edu'] []  has been extracted at iteration  649\n",
            "['rtm@csail.mit.edu'] ['253-5983']  has been extracted at iteration  649\n"
          ]
        },
        {
          "output_type": "stream",
          "name": "stderr",
          "text": [
            "<ipython-input-35-74fde92eadb9>:52: FutureWarning: The frame.append method is deprecated and will be removed from pandas in a future version. Use pandas.concat instead.\n",
            "  df = df.append({'Email': email_current, 'Phone_number': phone_number_current}, ignore_index=True)\n",
            "<ipython-input-35-74fde92eadb9>:52: FutureWarning: The frame.append method is deprecated and will be removed from pandas in a future version. Use pandas.concat instead.\n",
            "  df = df.append({'Email': email_current, 'Phone_number': phone_number_current}, ignore_index=True)\n"
          ]
        },
        {
          "output_type": "stream",
          "name": "stdout",
          "text": [
            "['ehab02@mit.edu'] []  has been extracted at iteration  649\n",
            "['mortonk@mit.edu'] []  has been extracted at iteration  649\n",
            "['smoskal@mit.edu'] []  has been extracted at iteration  649\n"
          ]
        },
        {
          "output_type": "stream",
          "name": "stderr",
          "text": [
            "<ipython-input-35-74fde92eadb9>:52: FutureWarning: The frame.append method is deprecated and will be removed from pandas in a future version. Use pandas.concat instead.\n",
            "  df = df.append({'Email': email_current, 'Phone_number': phone_number_current}, ignore_index=True)\n",
            "<ipython-input-35-74fde92eadb9>:52: FutureWarning: The frame.append method is deprecated and will be removed from pandas in a future version. Use pandas.concat instead.\n",
            "  df = df.append({'Email': email_current, 'Phone_number': phone_number_current}, ignore_index=True)\n",
            "<ipython-input-35-74fde92eadb9>:52: FutureWarning: The frame.append method is deprecated and will be removed from pandas in a future version. Use pandas.concat instead.\n",
            "  df = df.append({'Email': email_current, 'Phone_number': phone_number_current}, ignore_index=True)\n"
          ]
        },
        {
          "output_type": "stream",
          "name": "stdout",
          "text": [
            "['mozannar@mit.edu'] []  has been extracted at iteration  649\n",
            "['emilymu@csail.mit.edu'] []  has been extracted at iteration  649\n",
            "['stefanie.mueller@mit.edu'] ['715-5831']  has been extracted at iteration  649\n"
          ]
        },
        {
          "output_type": "stream",
          "name": "stderr",
          "text": [
            "<ipython-input-35-74fde92eadb9>:52: FutureWarning: The frame.append method is deprecated and will be removed from pandas in a future version. Use pandas.concat instead.\n",
            "  df = df.append({'Email': email_current, 'Phone_number': phone_number_current}, ignore_index=True)\n",
            "<ipython-input-35-74fde92eadb9>:52: FutureWarning: The frame.append method is deprecated and will be removed from pandas in a future version. Use pandas.concat instead.\n",
            "  df = df.append({'Email': email_current, 'Phone_number': phone_number_current}, ignore_index=True)\n",
            "<ipython-input-35-74fde92eadb9>:52: FutureWarning: The frame.append method is deprecated and will be removed from pandas in a future version. Use pandas.concat instead.\n",
            "  df = df.append({'Email': email_current, 'Phone_number': phone_number_current}, ignore_index=True)\n"
          ]
        },
        {
          "output_type": "stream",
          "name": "stdout",
          "text": [
            "['avamuff@mit.edu'] []  has been extracted at iteration  649\n",
            "['jmuguira@mit.edu'] []  has been extracted at iteration  649\n",
            "['kmundil@mit.edu'] []  has been extracted at iteration  649\n"
          ]
        },
        {
          "output_type": "stream",
          "name": "stderr",
          "text": [
            "<ipython-input-35-74fde92eadb9>:52: FutureWarning: The frame.append method is deprecated and will be removed from pandas in a future version. Use pandas.concat instead.\n",
            "  df = df.append({'Email': email_current, 'Phone_number': phone_number_current}, ignore_index=True)\n",
            "<ipython-input-35-74fde92eadb9>:52: FutureWarning: The frame.append method is deprecated and will be removed from pandas in a future version. Use pandas.concat instead.\n",
            "  df = df.append({'Email': email_current, 'Phone_number': phone_number_current}, ignore_index=True)\n",
            "<ipython-input-35-74fde92eadb9>:52: FutureWarning: The frame.append method is deprecated and will be removed from pandas in a future version. Use pandas.concat instead.\n",
            "  df = df.append({'Email': email_current, 'Phone_number': phone_number_current}, ignore_index=True)\n"
          ]
        },
        {
          "output_type": "stream",
          "name": "stdout",
          "text": [
            "['PAULMURE@csail.mit.edu'] []  has been extracted at iteration  649\n",
            "['seanmurp@mit.edu'] []  has been extracted at iteration  649\n",
            "['lsmurray@mit.edu'] []  has been extracted at iteration  649\n"
          ]
        },
        {
          "output_type": "stream",
          "name": "stderr",
          "text": [
            "<ipython-input-35-74fde92eadb9>:52: FutureWarning: The frame.append method is deprecated and will be removed from pandas in a future version. Use pandas.concat instead.\n",
            "  df = df.append({'Email': email_current, 'Phone_number': phone_number_current}, ignore_index=True)\n",
            "<ipython-input-35-74fde92eadb9>:52: FutureWarning: The frame.append method is deprecated and will be removed from pandas in a future version. Use pandas.concat instead.\n",
            "  df = df.append({'Email': email_current, 'Phone_number': phone_number_current}, ignore_index=True)\n",
            "<ipython-input-35-74fde92eadb9>:52: FutureWarning: The frame.append method is deprecated and will be removed from pandas in a future version. Use pandas.concat instead.\n",
            "  df = df.append({'Email': email_current, 'Phone_number': phone_number_current}, ignore_index=True)\n"
          ]
        },
        {
          "output_type": "stream",
          "name": "stdout",
          "text": [
            "['philipm@mit.edu'] []  has been extracted at iteration  649\n",
            "['RAMYAMUT@csail.mit.edu'] []  has been extracted at iteration  649\n",
            "['mnadeem@MIT.EDU'] []  has been extracted at iteration  649\n"
          ]
        },
        {
          "output_type": "stream",
          "name": "stderr",
          "text": [
            "<ipython-input-35-74fde92eadb9>:52: FutureWarning: The frame.append method is deprecated and will be removed from pandas in a future version. Use pandas.concat instead.\n",
            "  df = df.append({'Email': email_current, 'Phone_number': phone_number_current}, ignore_index=True)\n",
            "<ipython-input-35-74fde92eadb9>:52: FutureWarning: The frame.append method is deprecated and will be removed from pandas in a future version. Use pandas.concat instead.\n",
            "  df = df.append({'Email': email_current, 'Phone_number': phone_number_current}, ignore_index=True)\n",
            "<ipython-input-35-74fde92eadb9>:52: FutureWarning: The frame.append method is deprecated and will be removed from pandas in a future version. Use pandas.concat instead.\n",
            "  df = df.append({'Email': email_current, 'Phone_number': phone_number_current}, ignore_index=True)\n"
          ]
        },
        {
          "output_type": "stream",
          "name": "stdout",
          "text": [
            "['knadjahi@csail.mit.edu'] []  has been extracted at iteration  649\n",
            "['mag@mit.edu'] []  has been extracted at iteration  649\n",
            "['sanjolin@csail.mit.edu'] []  has been extracted at iteration  649\n"
          ]
        },
        {
          "output_type": "stream",
          "name": "stderr",
          "text": [
            "<ipython-input-35-74fde92eadb9>:52: FutureWarning: The frame.append method is deprecated and will be removed from pandas in a future version. Use pandas.concat instead.\n",
            "  df = df.append({'Email': email_current, 'Phone_number': phone_number_current}, ignore_index=True)\n",
            "<ipython-input-35-74fde92eadb9>:52: FutureWarning: The frame.append method is deprecated and will be removed from pandas in a future version. Use pandas.concat instead.\n",
            "  df = df.append({'Email': email_current, 'Phone_number': phone_number_current}, ignore_index=True)\n",
            "<ipython-input-35-74fde92eadb9>:52: FutureWarning: The frame.append method is deprecated and will be removed from pandas in a future version. Use pandas.concat instead.\n",
            "  df = df.append({'Email': email_current, 'Phone_number': phone_number_current}, ignore_index=True)\n"
          ]
        },
        {
          "output_type": "stream",
          "name": "stdout",
          "text": [
            "['shyamsn@mit.edu'] []  has been extracted at iteration  649\n",
            "['tnash10@mit.edu'] ['324-6744']  has been extracted at iteration  649\n",
            "['arashne@MIT.EDU'] []  has been extracted at iteration  649\n"
          ]
        },
        {
          "output_type": "stream",
          "name": "stderr",
          "text": [
            "<ipython-input-35-74fde92eadb9>:52: FutureWarning: The frame.append method is deprecated and will be removed from pandas in a future version. Use pandas.concat instead.\n",
            "  df = df.append({'Email': email_current, 'Phone_number': phone_number_current}, ignore_index=True)\n",
            "<ipython-input-35-74fde92eadb9>:52: FutureWarning: The frame.append method is deprecated and will be removed from pandas in a future version. Use pandas.concat instead.\n",
            "  df = df.append({'Email': email_current, 'Phone_number': phone_number_current}, ignore_index=True)\n",
            "<ipython-input-35-74fde92eadb9>:52: FutureWarning: The frame.append method is deprecated and will be removed from pandas in a future version. Use pandas.concat instead.\n",
            "  df = df.append({'Email': email_current, 'Phone_number': phone_number_current}, ignore_index=True)\n"
          ]
        },
        {
          "output_type": "stream",
          "name": "stdout",
          "text": [
            "['anandn@mit.edu'] []  has been extracted at iteration  649\n",
            "['jtn728@mit.edu'] []  has been extracted at iteration  649\n",
            "['pnegi@mit.edu'] []  has been extracted at iteration  649\n"
          ]
        },
        {
          "output_type": "stream",
          "name": "stderr",
          "text": [
            "<ipython-input-35-74fde92eadb9>:52: FutureWarning: The frame.append method is deprecated and will be removed from pandas in a future version. Use pandas.concat instead.\n",
            "  df = df.append({'Email': email_current, 'Phone_number': phone_number_current}, ignore_index=True)\n",
            "<ipython-input-35-74fde92eadb9>:52: FutureWarning: The frame.append method is deprecated and will be removed from pandas in a future version. Use pandas.concat instead.\n",
            "  df = df.append({'Email': email_current, 'Phone_number': phone_number_current}, ignore_index=True)\n",
            "<ipython-input-35-74fde92eadb9>:52: FutureWarning: The frame.append method is deprecated and will be removed from pandas in a future version. Use pandas.concat instead.\n",
            "  df = df.append({'Email': email_current, 'Phone_number': phone_number_current}, ignore_index=True)\n"
          ]
        },
        {
          "output_type": "stream",
          "name": "stdout",
          "text": [
            "['avivn@mit.edu'] []  has been extracted at iteration  649\n",
            "['netto@mit.edu'] []  has been extracted at iteration  649\n",
            "['eng@mit.edu'] []  has been extracted at iteration  649\n"
          ]
        },
        {
          "output_type": "stream",
          "name": "stderr",
          "text": [
            "<ipython-input-35-74fde92eadb9>:52: FutureWarning: The frame.append method is deprecated and will be removed from pandas in a future version. Use pandas.concat instead.\n",
            "  df = df.append({'Email': email_current, 'Phone_number': phone_number_current}, ignore_index=True)\n",
            "<ipython-input-35-74fde92eadb9>:52: FutureWarning: The frame.append method is deprecated and will be removed from pandas in a future version. Use pandas.concat instead.\n",
            "  df = df.append({'Email': email_current, 'Phone_number': phone_number_current}, ignore_index=True)\n",
            "<ipython-input-35-74fde92eadb9>:52: FutureWarning: The frame.append method is deprecated and will be removed from pandas in a future version. Use pandas.concat instead.\n",
            "  df = df.append({'Email': email_current, 'Phone_number': phone_number_current}, ignore_index=True)\n"
          ]
        },
        {
          "output_type": "stream",
          "name": "stdout",
          "text": [
            "['enieves@mit.edu'] []  has been extracted at iteration  649\n",
            "['rnigam@mit.edu'] []  has been extracted at iteration  649\n",
            "['nisser@mit.edu'] []  has been extracted at iteration  649\n"
          ]
        },
        {
          "output_type": "stream",
          "name": "stderr",
          "text": [
            "<ipython-input-35-74fde92eadb9>:52: FutureWarning: The frame.append method is deprecated and will be removed from pandas in a future version. Use pandas.concat instead.\n",
            "  df = df.append({'Email': email_current, 'Phone_number': phone_number_current}, ignore_index=True)\n",
            "<ipython-input-35-74fde92eadb9>:52: FutureWarning: The frame.append method is deprecated and will be removed from pandas in a future version. Use pandas.concat instead.\n",
            "  df = df.append({'Email': email_current, 'Phone_number': phone_number_current}, ignore_index=True)\n",
            "<ipython-input-35-74fde92eadb9>:52: FutureWarning: The frame.append method is deprecated and will be removed from pandas in a future version. Use pandas.concat instead.\n",
            "  df = df.append({'Email': email_current, 'Phone_number': phone_number_current}, ignore_index=True)\n"
          ]
        },
        {
          "output_type": "stream",
          "name": "stdout",
          "text": [
            "['rileyn@csail.mit.edu'] ['715-4888']  has been extracted at iteration  649\n",
            "['KIMIAN@csail.mit.edu'] []  has been extracted at iteration  649\n"
          ]
        },
        {
          "output_type": "stream",
          "name": "stderr",
          "text": [
            "<ipython-input-35-74fde92eadb9>:52: FutureWarning: The frame.append method is deprecated and will be removed from pandas in a future version. Use pandas.concat instead.\n",
            "  df = df.append({'Email': email_current, 'Phone_number': phone_number_current}, ignore_index=True)\n",
            "<ipython-input-35-74fde92eadb9>:52: FutureWarning: The frame.append method is deprecated and will be removed from pandas in a future version. Use pandas.concat instead.\n",
            "  df = df.append({'Email': email_current, 'Phone_number': phone_number_current}, ignore_index=True)\n"
          ]
        },
        {
          "output_type": "stream",
          "name": "stdout",
          "text": [
            "['enoriega@mit.edu'] []  has been extracted at iteration  649\n",
            "['wn1024@mit.edu'] []  has been extracted at iteration  649\n"
          ]
        },
        {
          "output_type": "stream",
          "name": "stderr",
          "text": [
            "<ipython-input-35-74fde92eadb9>:52: FutureWarning: The frame.append method is deprecated and will be removed from pandas in a future version. Use pandas.concat instead.\n",
            "  df = df.append({'Email': email_current, 'Phone_number': phone_number_current}, ignore_index=True)\n",
            "<ipython-input-35-74fde92eadb9>:52: FutureWarning: The frame.append method is deprecated and will be removed from pandas in a future version. Use pandas.concat instead.\n",
            "  df = df.append({'Email': email_current, 'Phone_number': phone_number_current}, ignore_index=True)\n"
          ]
        },
        {
          "output_type": "stream",
          "name": "stdout",
          "text": [
            "['mnosew@mit.edu'] []  has been extracted at iteration  649\n",
            "['anin@mit.edu'] []  has been extracted at iteration  649\n"
          ]
        },
        {
          "output_type": "stream",
          "name": "stderr",
          "text": [
            "<ipython-input-35-74fde92eadb9>:52: FutureWarning: The frame.append method is deprecated and will be removed from pandas in a future version. Use pandas.concat instead.\n",
            "  df = df.append({'Email': email_current, 'Phone_number': phone_number_current}, ignore_index=True)\n",
            "<ipython-input-35-74fde92eadb9>:52: FutureWarning: The frame.append method is deprecated and will be removed from pandas in a future version. Use pandas.concat instead.\n",
            "  df = df.append({'Email': email_current, 'Phone_number': phone_number_current}, ignore_index=True)\n"
          ]
        },
        {
          "output_type": "stream",
          "name": "stdout",
          "text": [
            "['jjokeefe@mit.edu'] []  has been extracted at iteration  649\n",
            "['oneillb@mit.edu'] []  has been extracted at iteration  649\n"
          ]
        },
        {
          "output_type": "stream",
          "name": "stderr",
          "text": [
            "<ipython-input-35-74fde92eadb9>:52: FutureWarning: The frame.append method is deprecated and will be removed from pandas in a future version. Use pandas.concat instead.\n",
            "  df = df.append({'Email': email_current, 'Phone_number': phone_number_current}, ignore_index=True)\n",
            "<ipython-input-35-74fde92eadb9>:52: FutureWarning: The frame.append method is deprecated and will be removed from pandas in a future version. Use pandas.concat instead.\n",
            "  df = df.append({'Email': email_current, 'Phone_number': phone_number_current}, ignore_index=True)\n"
          ]
        },
        {
          "output_type": "stream",
          "name": "stdout",
          "text": [
            "['unamay@csail.mit.edu'] ['253-6437']  has been extracted at iteration  649\n",
            "['moberst@mit.edu'] []  has been extracted at iteration  649\n"
          ]
        },
        {
          "output_type": "stream",
          "name": "stderr",
          "text": [
            "<ipython-input-35-74fde92eadb9>:52: FutureWarning: The frame.append method is deprecated and will be removed from pandas in a future version. Use pandas.concat instead.\n",
            "  df = df.append({'Email': email_current, 'Phone_number': phone_number_current}, ignore_index=True)\n",
            "<ipython-input-35-74fde92eadb9>:52: FutureWarning: The frame.append method is deprecated and will be removed from pandas in a future version. Use pandas.concat instead.\n",
            "  df = df.append({'Email': email_current, 'Phone_number': phone_number_current}, ignore_index=True)\n"
          ]
        },
        {
          "output_type": "stream",
          "name": "stdout",
          "text": [
            "['TOBE@csail.mit.edu'] []  has been extracted at iteration  649\n",
            "['kyelok@gmail.com'] []  has been extracted at iteration  649\n"
          ]
        },
        {
          "output_type": "stream",
          "name": "stderr",
          "text": [
            "<ipython-input-35-74fde92eadb9>:52: FutureWarning: The frame.append method is deprecated and will be removed from pandas in a future version. Use pandas.concat instead.\n",
            "  df = df.append({'Email': email_current, 'Phone_number': phone_number_current}, ignore_index=True)\n",
            "<ipython-input-35-74fde92eadb9>:52: FutureWarning: The frame.append method is deprecated and will be removed from pandas in a future version. Use pandas.concat instead.\n",
            "  df = df.append({'Email': email_current, 'Phone_number': phone_number_current}, ignore_index=True)\n"
          ]
        },
        {
          "output_type": "stream",
          "name": "stdout",
          "text": [
            "['ha22286@mit.edu'] []  has been extracted at iteration  649\n",
            "['okuda@mit.edu'] []  has been extracted at iteration  649\n"
          ]
        },
        {
          "output_type": "stream",
          "name": "stderr",
          "text": [
            "<ipython-input-35-74fde92eadb9>:52: FutureWarning: The frame.append method is deprecated and will be removed from pandas in a future version. Use pandas.concat instead.\n",
            "  df = df.append({'Email': email_current, 'Phone_number': phone_number_current}, ignore_index=True)\n",
            "<ipython-input-35-74fde92eadb9>:52: FutureWarning: The frame.append method is deprecated and will be removed from pandas in a future version. Use pandas.concat instead.\n",
            "  df = df.append({'Email': email_current, 'Phone_number': phone_number_current}, ignore_index=True)\n"
          ]
        },
        {
          "output_type": "stream",
          "name": "stdout",
          "text": [
            "['theoxo@mit.edu'] []  has been extracted at iteration  649\n",
            "['lolina@csail.mit.edu'] []  has been extracted at iteration  649\n"
          ]
        },
        {
          "output_type": "stream",
          "name": "stderr",
          "text": [
            "<ipython-input-35-74fde92eadb9>:52: FutureWarning: The frame.append method is deprecated and will be removed from pandas in a future version. Use pandas.concat instead.\n",
            "  df = df.append({'Email': email_current, 'Phone_number': phone_number_current}, ignore_index=True)\n",
            "<ipython-input-35-74fde92eadb9>:52: FutureWarning: The frame.append method is deprecated and will be removed from pandas in a future version. Use pandas.concat instead.\n",
            "  df = df.append({'Email': email_current, 'Phone_number': phone_number_current}, ignore_index=True)\n"
          ]
        },
        {
          "output_type": "stream",
          "name": "stdout",
          "text": [
            "['oliva@mit.edu'] ['452-2492']  has been extracted at iteration  649\n",
            "['jolkin@mit.edu'] []  has been extracted at iteration  649\n"
          ]
        },
        {
          "output_type": "stream",
          "name": "stderr",
          "text": [
            "<ipython-input-35-74fde92eadb9>:52: FutureWarning: The frame.append method is deprecated and will be removed from pandas in a future version. Use pandas.concat instead.\n",
            "  df = df.append({'Email': email_current, 'Phone_number': phone_number_current}, ignore_index=True)\n",
            "<ipython-input-35-74fde92eadb9>:52: FutureWarning: The frame.append method is deprecated and will be removed from pandas in a future version. Use pandas.concat instead.\n",
            "  df = df.append({'Email': email_current, 'Phone_number': phone_number_current}, ignore_index=True)\n"
          ]
        },
        {
          "output_type": "stream",
          "name": "stdout",
          "text": [
            "['jorlin@mit.edu'] []  has been extracted at iteration  649\n"
          ]
        },
        {
          "output_type": "stream",
          "name": "stderr",
          "text": [
            "<ipython-input-35-74fde92eadb9>:52: FutureWarning: The frame.append method is deprecated and will be removed from pandas in a future version. Use pandas.concat instead.\n",
            "  df = df.append({'Email': email_current, 'Phone_number': phone_number_current}, ignore_index=True)\n"
          ]
        },
        {
          "output_type": "stream",
          "name": "stdout",
          "text": [
            "['teddy@mit.edu'] []  has been extracted at iteration  865\n",
            "['portiz@mit.edu'] []  has been extracted at iteration  865\n"
          ]
        },
        {
          "output_type": "stream",
          "name": "stderr",
          "text": [
            "<ipython-input-35-74fde92eadb9>:52: FutureWarning: The frame.append method is deprecated and will be removed from pandas in a future version. Use pandas.concat instead.\n",
            "  df = df.append({'Email': email_current, 'Phone_number': phone_number_current}, ignore_index=True)\n",
            "<ipython-input-35-74fde92eadb9>:52: FutureWarning: The frame.append method is deprecated and will be removed from pandas in a future version. Use pandas.concat instead.\n",
            "  df = df.append({'Email': email_current, 'Phone_number': phone_number_current}, ignore_index=True)\n"
          ]
        },
        {
          "output_type": "stream",
          "name": "stdout",
          "text": [
            "['iorzech@mit.edu'] []  has been extracted at iteration  865\n",
            "['doseyemi@mit.edu'] []  has been extracted at iteration  865\n",
            "['galina@csail.mit.edu'] ['253-5175']  has been extracted at iteration  865\n"
          ]
        },
        {
          "output_type": "stream",
          "name": "stderr",
          "text": [
            "<ipython-input-35-74fde92eadb9>:52: FutureWarning: The frame.append method is deprecated and will be removed from pandas in a future version. Use pandas.concat instead.\n",
            "  df = df.append({'Email': email_current, 'Phone_number': phone_number_current}, ignore_index=True)\n",
            "<ipython-input-35-74fde92eadb9>:52: FutureWarning: The frame.append method is deprecated and will be removed from pandas in a future version. Use pandas.concat instead.\n",
            "  df = df.append({'Email': email_current, 'Phone_number': phone_number_current}, ignore_index=True)\n",
            "<ipython-input-35-74fde92eadb9>:52: FutureWarning: The frame.append method is deprecated and will be removed from pandas in a future version. Use pandas.concat instead.\n",
            "  df = df.append({'Email': email_current, 'Phone_number': phone_number_current}, ignore_index=True)\n"
          ]
        },
        {
          "output_type": "stream",
          "name": "stdout",
          "text": [
            "['michail@mit.edu'] []  has been extracted at iteration  865\n",
            "['crystalo@mit.edu'] []  has been extracted at iteration  865\n",
            "['ujp@csail.mit.edu'] []  has been extracted at iteration  865\n"
          ]
        },
        {
          "output_type": "stream",
          "name": "stderr",
          "text": [
            "<ipython-input-35-74fde92eadb9>:52: FutureWarning: The frame.append method is deprecated and will be removed from pandas in a future version. Use pandas.concat instead.\n",
            "  df = df.append({'Email': email_current, 'Phone_number': phone_number_current}, ignore_index=True)\n",
            "<ipython-input-35-74fde92eadb9>:52: FutureWarning: The frame.append method is deprecated and will be removed from pandas in a future version. Use pandas.concat instead.\n",
            "  df = df.append({'Email': email_current, 'Phone_number': phone_number_current}, ignore_index=True)\n",
            "<ipython-input-35-74fde92eadb9>:52: FutureWarning: The frame.append method is deprecated and will be removed from pandas in a future version. Use pandas.concat instead.\n",
            "  df = df.append({'Email': email_current, 'Phone_number': phone_number_current}, ignore_index=True)\n"
          ]
        },
        {
          "output_type": "stream",
          "name": "stdout",
          "text": [
            "['paeth@csail.mit.edu'] []  has been extracted at iteration  865\n",
            "['avikpal@mit.edu'] []  has been extracted at iteration  865\n",
            "['drp@csail.mit.edu'] []  has been extracted at iteration  865\n"
          ]
        },
        {
          "output_type": "stream",
          "name": "stderr",
          "text": [
            "<ipython-input-35-74fde92eadb9>:52: FutureWarning: The frame.append method is deprecated and will be removed from pandas in a future version. Use pandas.concat instead.\n",
            "  df = df.append({'Email': email_current, 'Phone_number': phone_number_current}, ignore_index=True)\n",
            "<ipython-input-35-74fde92eadb9>:52: FutureWarning: The frame.append method is deprecated and will be removed from pandas in a future version. Use pandas.concat instead.\n",
            "  df = df.append({'Email': email_current, 'Phone_number': phone_number_current}, ignore_index=True)\n",
            "<ipython-input-35-74fde92eadb9>:52: FutureWarning: The frame.append method is deprecated and will be removed from pandas in a future version. Use pandas.concat instead.\n",
            "  df = df.append({'Email': email_current, 'Phone_number': phone_number_current}, ignore_index=True)\n"
          ]
        },
        {
          "output_type": "stream",
          "name": "stdout",
          "text": [
            "['bpan@mit.edu'] []  has been extracted at iteration  865\n",
            "['luisap@mit.edu'] []  has been extracted at iteration  865\n",
            "['jpaneras@csail.mit.edu'] []  has been extracted at iteration  865\n"
          ]
        },
        {
          "output_type": "stream",
          "name": "stderr",
          "text": [
            "<ipython-input-35-74fde92eadb9>:52: FutureWarning: The frame.append method is deprecated and will be removed from pandas in a future version. Use pandas.concat instead.\n",
            "  df = df.append({'Email': email_current, 'Phone_number': phone_number_current}, ignore_index=True)\n",
            "<ipython-input-35-74fde92eadb9>:52: FutureWarning: The frame.append method is deprecated and will be removed from pandas in a future version. Use pandas.concat instead.\n",
            "  df = df.append({'Email': email_current, 'Phone_number': phone_number_current}, ignore_index=True)\n",
            "<ipython-input-35-74fde92eadb9>:52: FutureWarning: The frame.append method is deprecated and will be removed from pandas in a future version. Use pandas.concat instead.\n",
            "  df = df.append({'Email': email_current, 'Phone_number': phone_number_current}, ignore_index=True)\n"
          ]
        },
        {
          "output_type": "stream",
          "name": "stdout",
          "text": [
            "['pangtao@mit.edu'] []  has been extracted at iteration  865\n",
            "['apapalia@mit.edu'] []  has been extracted at iteration  865\n",
            "['meenalp@mit.edu'] []  has been extracted at iteration  865\n"
          ]
        },
        {
          "output_type": "stream",
          "name": "stderr",
          "text": [
            "<ipython-input-35-74fde92eadb9>:52: FutureWarning: The frame.append method is deprecated and will be removed from pandas in a future version. Use pandas.concat instead.\n",
            "  df = df.append({'Email': email_current, 'Phone_number': phone_number_current}, ignore_index=True)\n",
            "<ipython-input-35-74fde92eadb9>:52: FutureWarning: The frame.append method is deprecated and will be removed from pandas in a future version. Use pandas.concat instead.\n",
            "  df = df.append({'Email': email_current, 'Phone_number': phone_number_current}, ignore_index=True)\n",
            "<ipython-input-35-74fde92eadb9>:52: FutureWarning: The frame.append method is deprecated and will be removed from pandas in a future version. Use pandas.concat instead.\n",
            "  df = df.append({'Email': email_current, 'Phone_number': phone_number_current}, ignore_index=True)\n"
          ]
        },
        {
          "output_type": "stream",
          "name": "stdout",
          "text": [
            "['jyop@mit.edu'] []  has been extracted at iteration  865\n",
            "['vparimi@mit.edu'] []  has been extracted at iteration  865\n",
            "['hyunjinp@mit.edu'] []  has been extracted at iteration  865\n"
          ]
        },
        {
          "output_type": "stream",
          "name": "stderr",
          "text": [
            "<ipython-input-35-74fde92eadb9>:52: FutureWarning: The frame.append method is deprecated and will be removed from pandas in a future version. Use pandas.concat instead.\n",
            "  df = df.append({'Email': email_current, 'Phone_number': phone_number_current}, ignore_index=True)\n",
            "<ipython-input-35-74fde92eadb9>:52: FutureWarning: The frame.append method is deprecated and will be removed from pandas in a future version. Use pandas.concat instead.\n",
            "  df = df.append({'Email': email_current, 'Phone_number': phone_number_current}, ignore_index=True)\n",
            "<ipython-input-35-74fde92eadb9>:52: FutureWarning: The frame.append method is deprecated and will be removed from pandas in a future version. Use pandas.concat instead.\n",
            "  df = df.append({'Email': email_current, 'Phone_number': phone_number_current}, ignore_index=True)\n"
          ]
        },
        {
          "output_type": "stream",
          "name": "stdout",
          "text": [
            "['spark@csail.mit.edu'] []  has been extracted at iteration  865\n",
            "['soya@mit.edu'] []  has been extracted at iteration  865\n",
            "['younghyo@mit.edu'] []  has been extracted at iteration  865\n"
          ]
        },
        {
          "output_type": "stream",
          "name": "stderr",
          "text": [
            "<ipython-input-35-74fde92eadb9>:52: FutureWarning: The frame.append method is deprecated and will be removed from pandas in a future version. Use pandas.concat instead.\n",
            "  df = df.append({'Email': email_current, 'Phone_number': phone_number_current}, ignore_index=True)\n",
            "<ipython-input-35-74fde92eadb9>:52: FutureWarning: The frame.append method is deprecated and will be removed from pandas in a future version. Use pandas.concat instead.\n",
            "  df = df.append({'Email': email_current, 'Phone_number': phone_number_current}, ignore_index=True)\n",
            "<ipython-input-35-74fde92eadb9>:52: FutureWarning: The frame.append method is deprecated and will be removed from pandas in a future version. Use pandas.concat instead.\n",
            "  df = df.append({'Email': email_current, 'Phone_number': phone_number_current}, ignore_index=True)\n"
          ]
        },
        {
          "output_type": "stream",
          "name": "stdout",
          "text": [
            "['rparks@MIT.EDU'] []  has been extracted at iteration  865\n",
            "['nparsan@csail.mit.edu'] []  has been extracted at iteration  865\n",
            "['ZPATT@MIT.EDU'] []  has been extracted at iteration  865\n"
          ]
        },
        {
          "output_type": "stream",
          "name": "stderr",
          "text": [
            "<ipython-input-35-74fde92eadb9>:52: FutureWarning: The frame.append method is deprecated and will be removed from pandas in a future version. Use pandas.concat instead.\n",
            "  df = df.append({'Email': email_current, 'Phone_number': phone_number_current}, ignore_index=True)\n",
            "<ipython-input-35-74fde92eadb9>:52: FutureWarning: The frame.append method is deprecated and will be removed from pandas in a future version. Use pandas.concat instead.\n",
            "  df = df.append({'Email': email_current, 'Phone_number': phone_number_current}, ignore_index=True)\n",
            "<ipython-input-35-74fde92eadb9>:52: FutureWarning: The frame.append method is deprecated and will be removed from pandas in a future version. Use pandas.concat instead.\n",
            "  df = df.append({'Email': email_current, 'Phone_number': phone_number_current}, ignore_index=True)\n"
          ]
        },
        {
          "output_type": "stream",
          "name": "stdout",
          "text": [
            "['ewpatton@csail.mit.edu'] []  has been extracted at iteration  865\n",
            "['mpearrow@csail.mit.edu'] []  has been extracted at iteration  865\n",
            "['andipeng@csail.mit.edu'] []  has been extracted at iteration  865\n"
          ]
        },
        {
          "output_type": "stream",
          "name": "stderr",
          "text": [
            "<ipython-input-35-74fde92eadb9>:52: FutureWarning: The frame.append method is deprecated and will be removed from pandas in a future version. Use pandas.concat instead.\n",
            "  df = df.append({'Email': email_current, 'Phone_number': phone_number_current}, ignore_index=True)\n",
            "<ipython-input-35-74fde92eadb9>:52: FutureWarning: The frame.append method is deprecated and will be removed from pandas in a future version. Use pandas.concat instead.\n",
            "  df = df.append({'Email': email_current, 'Phone_number': phone_number_current}, ignore_index=True)\n",
            "<ipython-input-35-74fde92eadb9>:52: FutureWarning: The frame.append method is deprecated and will be removed from pandas in a future version. Use pandas.concat instead.\n",
            "  df = df.append({'Email': email_current, 'Phone_number': phone_number_current}, ignore_index=True)\n"
          ]
        },
        {
          "output_type": "stream",
          "name": "stdout",
          "text": [
            "['jhp@csail.mit.edu'] ['253-8365']  has been extracted at iteration  865\n",
            "['mperron@mit.edu'] []  has been extracted at iteration  865\n",
            "['MAX1@csail.mit.edu'] []  has been extracted at iteration  865\n"
          ]
        },
        {
          "output_type": "stream",
          "name": "stderr",
          "text": [
            "<ipython-input-35-74fde92eadb9>:52: FutureWarning: The frame.append method is deprecated and will be removed from pandas in a future version. Use pandas.concat instead.\n",
            "  df = df.append({'Email': email_current, 'Phone_number': phone_number_current}, ignore_index=True)\n",
            "<ipython-input-35-74fde92eadb9>:52: FutureWarning: The frame.append method is deprecated and will be removed from pandas in a future version. Use pandas.concat instead.\n",
            "  df = df.append({'Email': email_current, 'Phone_number': phone_number_current}, ignore_index=True)\n",
            "<ipython-input-35-74fde92eadb9>:52: FutureWarning: The frame.append method is deprecated and will be removed from pandas in a future version. Use pandas.concat instead.\n",
            "  df = df.append({'Email': email_current, 'Phone_number': phone_number_current}, ignore_index=True)\n"
          ]
        },
        {
          "output_type": "stream",
          "name": "stdout",
          "text": [
            "['sjpeters@mit.edu'] []  has been extracted at iteration  865\n",
            "['bdp13@csail.mit.edu'] []  has been extracted at iteration  865\n",
            "['map5@mit.edu'] []  has been extracted at iteration  865\n"
          ]
        },
        {
          "output_type": "stream",
          "name": "stderr",
          "text": [
            "<ipython-input-35-74fde92eadb9>:52: FutureWarning: The frame.append method is deprecated and will be removed from pandas in a future version. Use pandas.concat instead.\n",
            "  df = df.append({'Email': email_current, 'Phone_number': phone_number_current}, ignore_index=True)\n",
            "<ipython-input-35-74fde92eadb9>:52: FutureWarning: The frame.append method is deprecated and will be removed from pandas in a future version. Use pandas.concat instead.\n",
            "  df = df.append({'Email': email_current, 'Phone_number': phone_number_current}, ignore_index=True)\n",
            "<ipython-input-35-74fde92eadb9>:52: FutureWarning: The frame.append method is deprecated and will be removed from pandas in a future version. Use pandas.concat instead.\n",
            "  df = df.append({'Email': email_current, 'Phone_number': phone_number_current}, ignore_index=True)\n"
          ]
        },
        {
          "output_type": "stream",
          "name": "stdout",
          "text": [
            "['fpeve@csail.mit.edu'] []  has been extracted at iteration  865\n",
            "['nepfaff@mit.edu'] []  has been extracted at iteration  865\n",
            "['wsphil@mit.edu'] []  has been extracted at iteration  865\n"
          ]
        },
        {
          "output_type": "stream",
          "name": "stderr",
          "text": [
            "<ipython-input-35-74fde92eadb9>:52: FutureWarning: The frame.append method is deprecated and will be removed from pandas in a future version. Use pandas.concat instead.\n",
            "  df = df.append({'Email': email_current, 'Phone_number': phone_number_current}, ignore_index=True)\n",
            "<ipython-input-35-74fde92eadb9>:52: FutureWarning: The frame.append method is deprecated and will be removed from pandas in a future version. Use pandas.concat instead.\n",
            "  df = df.append({'Email': email_current, 'Phone_number': phone_number_current}, ignore_index=True)\n",
            "<ipython-input-35-74fde92eadb9>:52: FutureWarning: The frame.append method is deprecated and will be removed from pandas in a future version. Use pandas.concat instead.\n",
            "  df = df.append({'Email': email_current, 'Phone_number': phone_number_current}, ignore_index=True)\n"
          ]
        },
        {
          "output_type": "stream",
          "name": "stdout",
          "text": [
            "['aphung@mit.edu'] []  has been extracted at iteration  865\n",
            "['dpiazza@csail.mit.edu'] ['715-4882']  has been extracted at iteration  865\n"
          ]
        },
        {
          "output_type": "stream",
          "name": "stderr",
          "text": [
            "<ipython-input-35-74fde92eadb9>:52: FutureWarning: The frame.append method is deprecated and will be removed from pandas in a future version. Use pandas.concat instead.\n",
            "  df = df.append({'Email': email_current, 'Phone_number': phone_number_current}, ignore_index=True)\n",
            "<ipython-input-35-74fde92eadb9>:52: FutureWarning: The frame.append method is deprecated and will be removed from pandas in a future version. Use pandas.concat instead.\n",
            "  df = df.append({'Email': email_current, 'Phone_number': phone_number_current}, ignore_index=True)\n"
          ]
        },
        {
          "output_type": "stream",
          "name": "stdout",
          "text": [
            "['spineda@mit.edu'] []  has been extracted at iteration  865\n",
            "['SOPHIAPINEDA@csail.mit.edu'] []  has been extracted at iteration  865\n"
          ]
        },
        {
          "output_type": "stream",
          "name": "stderr",
          "text": [
            "<ipython-input-35-74fde92eadb9>:52: FutureWarning: The frame.append method is deprecated and will be removed from pandas in a future version. Use pandas.concat instead.\n",
            "  df = df.append({'Email': email_current, 'Phone_number': phone_number_current}, ignore_index=True)\n",
            "<ipython-input-35-74fde92eadb9>:52: FutureWarning: The frame.append method is deprecated and will be removed from pandas in a future version. Use pandas.concat instead.\n",
            "  df = df.append({'Email': email_current, 'Phone_number': phone_number_current}, ignore_index=True)\n"
          ]
        },
        {
          "output_type": "stream",
          "name": "stdout",
          "text": [
            "['ipedraza@mit.edu'] []  has been extracted at iteration  865\n"
          ]
        },
        {
          "output_type": "stream",
          "name": "stderr",
          "text": [
            "<ipython-input-35-74fde92eadb9>:52: FutureWarning: The frame.append method is deprecated and will be removed from pandas in a future version. Use pandas.concat instead.\n",
            "  df = df.append({'Email': email_current, 'Phone_number': phone_number_current}, ignore_index=True)\n"
          ]
        },
        {
          "output_type": "stream",
          "name": "stdout",
          "text": [
            "['chpipis@mit.edu'] []  has been extracted at iteration  865\n"
          ]
        },
        {
          "output_type": "stream",
          "name": "stderr",
          "text": [
            "<ipython-input-35-74fde92eadb9>:52: FutureWarning: The frame.append method is deprecated and will be removed from pandas in a future version. Use pandas.concat instead.\n",
            "  df = df.append({'Email': email_current, 'Phone_number': phone_number_current}, ignore_index=True)\n"
          ]
        },
        {
          "output_type": "stream",
          "name": "stdout",
          "text": [
            "['bpitcla@mit.edu'] []  has been extracted at iteration  865\n"
          ]
        },
        {
          "output_type": "stream",
          "name": "stderr",
          "text": [
            "<ipython-input-35-74fde92eadb9>:52: FutureWarning: The frame.append method is deprecated and will be removed from pandas in a future version. Use pandas.concat instead.\n",
            "  df = df.append({'Email': email_current, 'Phone_number': phone_number_current}, ignore_index=True)\n"
          ]
        },
        {
          "output_type": "stream",
          "name": "stdout",
          "text": [
            "['cameronp@mit.edu'] []  has been extracted at iteration  865\n"
          ]
        },
        {
          "output_type": "stream",
          "name": "stderr",
          "text": [
            "<ipython-input-35-74fde92eadb9>:52: FutureWarning: The frame.append method is deprecated and will be removed from pandas in a future version. Use pandas.concat instead.\n",
            "  df = df.append({'Email': email_current, 'Phone_number': phone_number_current}, ignore_index=True)\n"
          ]
        },
        {
          "output_type": "stream",
          "name": "stdout",
          "text": [
            "['tp@csail.mit.edu'] ['253-5230']  has been extracted at iteration  865\n"
          ]
        },
        {
          "output_type": "stream",
          "name": "stderr",
          "text": [
            "<ipython-input-35-74fde92eadb9>:52: FutureWarning: The frame.append method is deprecated and will be removed from pandas in a future version. Use pandas.concat instead.\n",
            "  df = df.append({'Email': email_current, 'Phone_number': phone_number_current}, ignore_index=True)\n"
          ]
        },
        {
          "output_type": "stream",
          "name": "stdout",
          "text": [
            "['jopo@csail.mit.edu'] []  has been extracted at iteration  865\n"
          ]
        },
        {
          "output_type": "stream",
          "name": "stderr",
          "text": [
            "<ipython-input-35-74fde92eadb9>:52: FutureWarning: The frame.append method is deprecated and will be removed from pandas in a future version. Use pandas.concat instead.\n",
            "  df = df.append({'Email': email_current, 'Phone_number': phone_number_current}, ignore_index=True)\n"
          ]
        },
        {
          "output_type": "stream",
          "name": "stdout",
          "text": [
            "['tipereir@mit.edu'] []  has been extracted at iteration  865\n"
          ]
        },
        {
          "output_type": "stream",
          "name": "stderr",
          "text": [
            "<ipython-input-35-74fde92eadb9>:52: FutureWarning: The frame.append method is deprecated and will be removed from pandas in a future version. Use pandas.concat instead.\n",
            "  df = df.append({'Email': email_current, 'Phone_number': phone_number_current}, ignore_index=True)\n"
          ]
        },
        {
          "output_type": "stream",
          "name": "stdout",
          "text": [
            "['janie@csail.mit.edu'] ['253-1518']  has been extracted at iteration  865\n"
          ]
        },
        {
          "output_type": "stream",
          "name": "stderr",
          "text": [
            "<ipython-input-35-74fde92eadb9>:52: FutureWarning: The frame.append method is deprecated and will be removed from pandas in a future version. Use pandas.concat instead.\n",
            "  df = df.append({'Email': email_current, 'Phone_number': phone_number_current}, ignore_index=True)\n"
          ]
        },
        {
          "output_type": "stream",
          "name": "stdout",
          "text": [
            "['meganp@mit.edu'] []  has been extracted at iteration  865\n"
          ]
        },
        {
          "output_type": "stream",
          "name": "stderr",
          "text": [
            "<ipython-input-35-74fde92eadb9>:52: FutureWarning: The frame.append method is deprecated and will be removed from pandas in a future version. Use pandas.concat instead.\n",
            "  df = df.append({'Email': email_current, 'Phone_number': phone_number_current}, ignore_index=True)\n"
          ]
        },
        {
          "output_type": "stream",
          "name": "stdout",
          "text": [
            "['prentice@csail.mit.edu'] ['253-2155']  has been extracted at iteration  865\n"
          ]
        },
        {
          "output_type": "stream",
          "name": "stderr",
          "text": [
            "<ipython-input-35-74fde92eadb9>:52: FutureWarning: The frame.append method is deprecated and will be removed from pandas in a future version. Use pandas.concat instead.\n",
            "  df = df.append({'Email': email_current, 'Phone_number': phone_number_current}, ignore_index=True)\n"
          ]
        },
        {
          "output_type": "stream",
          "name": "stdout",
          "text": [
            "['vpreston@mit.edu'] []  has been extracted at iteration  865\n",
            "['hpropson@mit.edu'] []  has been extracted at iteration  865\n"
          ]
        },
        {
          "output_type": "stream",
          "name": "stderr",
          "text": [
            "<ipython-input-35-74fde92eadb9>:52: FutureWarning: The frame.append method is deprecated and will be removed from pandas in a future version. Use pandas.concat instead.\n",
            "  df = df.append({'Email': email_current, 'Phone_number': phone_number_current}, ignore_index=True)\n",
            "<ipython-input-35-74fde92eadb9>:52: FutureWarning: The frame.append method is deprecated and will be removed from pandas in a future version. Use pandas.concat instead.\n",
            "  df = df.append({'Email': email_current, 'Phone_number': phone_number_current}, ignore_index=True)\n"
          ]
        },
        {
          "output_type": "stream",
          "name": "stdout",
          "text": [
            "['ckp@csail.mit.edu'] []  has been extracted at iteration  865\n",
            "['jon@csail.mit.edu'] ['253-4746']  has been extracted at iteration  865\n",
            "['xpuig@mit.edu'] []  has been extracted at iteration  865\n"
          ]
        },
        {
          "output_type": "stream",
          "name": "stderr",
          "text": [
            "<ipython-input-35-74fde92eadb9>:52: FutureWarning: The frame.append method is deprecated and will be removed from pandas in a future version. Use pandas.concat instead.\n",
            "  df = df.append({'Email': email_current, 'Phone_number': phone_number_current}, ignore_index=True)\n",
            "<ipython-input-35-74fde92eadb9>:52: FutureWarning: The frame.append method is deprecated and will be removed from pandas in a future version. Use pandas.concat instead.\n",
            "  df = df.append({'Email': email_current, 'Phone_number': phone_number_current}, ignore_index=True)\n",
            "<ipython-input-35-74fde92eadb9>:52: FutureWarning: The frame.append method is deprecated and will be removed from pandas in a future version. Use pandas.concat instead.\n",
            "  df = df.append({'Email': email_current, 'Phone_number': phone_number_current}, ignore_index=True)\n"
          ]
        },
        {
          "output_type": "stream",
          "name": "stdout",
          "text": [
            "['ppurcell@csail.mit.edu'] ['253-0338']  has been extracted at iteration  865\n",
            "['ISHAPURI@csail.mit.edu'] []  has been extracted at iteration  865\n",
            "['sspuri@mit.edu'] []  has been extracted at iteration  865\n"
          ]
        },
        {
          "output_type": "stream",
          "name": "stderr",
          "text": [
            "<ipython-input-35-74fde92eadb9>:52: FutureWarning: The frame.append method is deprecated and will be removed from pandas in a future version. Use pandas.concat instead.\n",
            "  df = df.append({'Email': email_current, 'Phone_number': phone_number_current}, ignore_index=True)\n",
            "<ipython-input-35-74fde92eadb9>:52: FutureWarning: The frame.append method is deprecated and will be removed from pandas in a future version. Use pandas.concat instead.\n",
            "  df = df.append({'Email': email_current, 'Phone_number': phone_number_current}, ignore_index=True)\n",
            "<ipython-input-35-74fde92eadb9>:52: FutureWarning: The frame.append method is deprecated and will be removed from pandas in a future version. Use pandas.concat instead.\n",
            "  df = df.append({'Email': email_current, 'Phone_number': phone_number_current}, ignore_index=True)\n"
          ]
        },
        {
          "output_type": "stream",
          "name": "stdout",
          "text": [
            "['spurohit@MIT.EDU'] []  has been extracted at iteration  865\n",
            "['epyne@mit.edu'] []  has been extracted at iteration  865\n",
            "['bpyo@mit.edu'] []  has been extracted at iteration  865\n"
          ]
        },
        {
          "output_type": "stream",
          "name": "stderr",
          "text": [
            "<ipython-input-35-74fde92eadb9>:52: FutureWarning: The frame.append method is deprecated and will be removed from pandas in a future version. Use pandas.concat instead.\n",
            "  df = df.append({'Email': email_current, 'Phone_number': phone_number_current}, ignore_index=True)\n",
            "<ipython-input-35-74fde92eadb9>:52: FutureWarning: The frame.append method is deprecated and will be removed from pandas in a future version. Use pandas.concat instead.\n",
            "  df = df.append({'Email': email_current, 'Phone_number': phone_number_current}, ignore_index=True)\n",
            "<ipython-input-35-74fde92eadb9>:52: FutureWarning: The frame.append method is deprecated and will be removed from pandas in a future version. Use pandas.concat instead.\n",
            "  df = df.append({'Email': email_current, 'Phone_number': phone_number_current}, ignore_index=True)\n"
          ]
        },
        {
          "output_type": "stream",
          "name": "stdout",
          "text": [
            "['keqian@mit.edu'] []  has been extracted at iteration  865\n",
            "['yujieq@mit.edu'] []  has been extracted at iteration  865\n",
            "['linluqiu@csail.mit.edu'] []  has been extracted at iteration  865\n"
          ]
        },
        {
          "output_type": "stream",
          "name": "stderr",
          "text": [
            "<ipython-input-35-74fde92eadb9>:52: FutureWarning: The frame.append method is deprecated and will be removed from pandas in a future version. Use pandas.concat instead.\n",
            "  df = df.append({'Email': email_current, 'Phone_number': phone_number_current}, ignore_index=True)\n",
            "<ipython-input-35-74fde92eadb9>:52: FutureWarning: The frame.append method is deprecated and will be removed from pandas in a future version. Use pandas.concat instead.\n",
            "  df = df.append({'Email': email_current, 'Phone_number': phone_number_current}, ignore_index=True)\n",
            "<ipython-input-35-74fde92eadb9>:52: FutureWarning: The frame.append method is deprecated and will be removed from pandas in a future version. Use pandas.concat instead.\n",
            "  df = df.append({'Email': email_current, 'Phone_number': phone_number_current}, ignore_index=True)\n"
          ]
        },
        {
          "output_type": "stream",
          "name": "stdout",
          "text": [
            "['aquach@csail.mit.edu'] []  has been extracted at iteration  865\n",
            "['quach@mit.edu'] []  has been extracted at iteration  865\n",
            "['squeipo@csail.mit.edu'] []  has been extracted at iteration  865\n"
          ]
        },
        {
          "output_type": "stream",
          "name": "stderr",
          "text": [
            "<ipython-input-35-74fde92eadb9>:52: FutureWarning: The frame.append method is deprecated and will be removed from pandas in a future version. Use pandas.concat instead.\n",
            "  df = df.append({'Email': email_current, 'Phone_number': phone_number_current}, ignore_index=True)\n",
            "<ipython-input-35-74fde92eadb9>:52: FutureWarning: The frame.append method is deprecated and will be removed from pandas in a future version. Use pandas.concat instead.\n",
            "  df = df.append({'Email': email_current, 'Phone_number': phone_number_current}, ignore_index=True)\n",
            "<ipython-input-35-74fde92eadb9>:52: FutureWarning: The frame.append method is deprecated and will be removed from pandas in a future version. Use pandas.concat instead.\n",
            "  df = df.append({'Email': email_current, 'Phone_number': phone_number_current}, ignore_index=True)\n"
          ]
        },
        {
          "output_type": "stream",
          "name": "stdout",
          "text": [
            "['jrk@csail.mit.edu'] ['253-7165']  has been extracted at iteration  865\n",
            "['SRAGAVAN@csail.mit.edu'] []  has been extracted at iteration  865\n",
            "['araghu@mit.edu'] []  has been extracted at iteration  865\n"
          ]
        },
        {
          "output_type": "stream",
          "name": "stderr",
          "text": [
            "<ipython-input-35-74fde92eadb9>:52: FutureWarning: The frame.append method is deprecated and will be removed from pandas in a future version. Use pandas.concat instead.\n",
            "  df = df.append({'Email': email_current, 'Phone_number': phone_number_current}, ignore_index=True)\n",
            "<ipython-input-35-74fde92eadb9>:52: FutureWarning: The frame.append method is deprecated and will be removed from pandas in a future version. Use pandas.concat instead.\n",
            "  df = df.append({'Email': email_current, 'Phone_number': phone_number_current}, ignore_index=True)\n",
            "<ipython-input-35-74fde92eadb9>:52: FutureWarning: The frame.append method is deprecated and will be removed from pandas in a future version. Use pandas.concat instead.\n",
            "  df = df.append({'Email': email_current, 'Phone_number': phone_number_current}, ignore_index=True)\n"
          ]
        },
        {
          "output_type": "stream",
          "name": "stdout",
          "text": [
            "['srirag@mit.edu'] []  has been extracted at iteration  865\n",
            "['AMITR@csail.mit.edu'] []  has been extracted at iteration  865\n",
            "['rsudhir@mit.edu'] []  has been extracted at iteration  865\n"
          ]
        },
        {
          "output_type": "stream",
          "name": "stderr",
          "text": [
            "<ipython-input-35-74fde92eadb9>:52: FutureWarning: The frame.append method is deprecated and will be removed from pandas in a future version. Use pandas.concat instead.\n",
            "  df = df.append({'Email': email_current, 'Phone_number': phone_number_current}, ignore_index=True)\n",
            "<ipython-input-35-74fde92eadb9>:52: FutureWarning: The frame.append method is deprecated and will be removed from pandas in a future version. Use pandas.concat instead.\n",
            "  df = df.append({'Email': email_current, 'Phone_number': phone_number_current}, ignore_index=True)\n",
            "<ipython-input-35-74fde92eadb9>:52: FutureWarning: The frame.append method is deprecated and will be removed from pandas in a future version. Use pandas.concat instead.\n",
            "  df = df.append({'Email': email_current, 'Phone_number': phone_number_current}, ignore_index=True)\n"
          ]
        },
        {
          "output_type": "stream",
          "name": "stdout",
          "text": [
            "['mrakic@mit.edu'] []  has been extracted at iteration  865\n",
            "['deepikar@mit.edu'] []  has been extracted at iteration  865\n",
            "['dlrr@mit.edu'] []  has been extracted at iteration  865\n"
          ]
        },
        {
          "output_type": "stream",
          "name": "stderr",
          "text": [
            "<ipython-input-35-74fde92eadb9>:52: FutureWarning: The frame.append method is deprecated and will be removed from pandas in a future version. Use pandas.concat instead.\n",
            "  df = df.append({'Email': email_current, 'Phone_number': phone_number_current}, ignore_index=True)\n",
            "<ipython-input-35-74fde92eadb9>:52: FutureWarning: The frame.append method is deprecated and will be removed from pandas in a future version. Use pandas.concat instead.\n",
            "  df = df.append({'Email': email_current, 'Phone_number': phone_number_current}, ignore_index=True)\n",
            "<ipython-input-35-74fde92eadb9>:52: FutureWarning: The frame.append method is deprecated and will be removed from pandas in a future version. Use pandas.concat instead.\n",
            "  df = df.append({'Email': email_current, 'Phone_number': phone_number_current}, ignore_index=True)\n"
          ]
        },
        {
          "output_type": "stream",
          "name": "stdout",
          "text": [
            "['vayd@mit.edu'] []  has been extracted at iteration  865\n",
            "['raphael4@csail.mit.edu'] []  has been extracted at iteration  865\n",
            "['fraton@mit.edu'] ['253-0250']  has been extracted at iteration  865\n"
          ]
        },
        {
          "output_type": "stream",
          "name": "stderr",
          "text": [
            "<ipython-input-35-74fde92eadb9>:52: FutureWarning: The frame.append method is deprecated and will be removed from pandas in a future version. Use pandas.concat instead.\n",
            "  df = df.append({'Email': email_current, 'Phone_number': phone_number_current}, ignore_index=True)\n",
            "<ipython-input-35-74fde92eadb9>:52: FutureWarning: The frame.append method is deprecated and will be removed from pandas in a future version. Use pandas.concat instead.\n",
            "  df = df.append({'Email': email_current, 'Phone_number': phone_number_current}, ignore_index=True)\n",
            "<ipython-input-35-74fde92eadb9>:52: FutureWarning: The frame.append method is deprecated and will be removed from pandas in a future version. Use pandas.concat instead.\n",
            "  df = df.append({'Email': email_current, 'Phone_number': phone_number_current}, ignore_index=True)\n"
          ]
        },
        {
          "output_type": "stream",
          "name": "stdout",
          "text": [
            "['yravan@mit.edu'] []  has been extracted at iteration  865\n",
            "['prernar@mit.edu'] []  has been extracted at iteration  865\n",
            "['jravi@mit.edu'] []  has been extracted at iteration  865\n"
          ]
        },
        {
          "output_type": "stream",
          "name": "stderr",
          "text": [
            "<ipython-input-35-74fde92eadb9>:52: FutureWarning: The frame.append method is deprecated and will be removed from pandas in a future version. Use pandas.concat instead.\n",
            "  df = df.append({'Email': email_current, 'Phone_number': phone_number_current}, ignore_index=True)\n",
            "<ipython-input-35-74fde92eadb9>:52: FutureWarning: The frame.append method is deprecated and will be removed from pandas in a future version. Use pandas.concat instead.\n",
            "  df = df.append({'Email': email_current, 'Phone_number': phone_number_current}, ignore_index=True)\n",
            "<ipython-input-35-74fde92eadb9>:52: FutureWarning: The frame.append method is deprecated and will be removed from pandas in a future version. Use pandas.concat instead.\n",
            "  df = df.append({'Email': email_current, 'Phone_number': phone_number_current}, ignore_index=True)\n"
          ]
        },
        {
          "output_type": "stream",
          "name": "stdout",
          "text": [
            "['aaronray@mit.edu'] []  has been extracted at iteration  865\n",
            "['nreddy@mit.edu'] []  has been extracted at iteration  865\n",
            "['mreeves@mit.edu'] []  has been extracted at iteration  865\n"
          ]
        },
        {
          "output_type": "stream",
          "name": "stderr",
          "text": [
            "<ipython-input-35-74fde92eadb9>:52: FutureWarning: The frame.append method is deprecated and will be removed from pandas in a future version. Use pandas.concat instead.\n",
            "  df = df.append({'Email': email_current, 'Phone_number': phone_number_current}, ignore_index=True)\n",
            "<ipython-input-35-74fde92eadb9>:52: FutureWarning: The frame.append method is deprecated and will be removed from pandas in a future version. Use pandas.concat instead.\n",
            "  df = df.append({'Email': email_current, 'Phone_number': phone_number_current}, ignore_index=True)\n",
            "<ipython-input-35-74fde92eadb9>:52: FutureWarning: The frame.append method is deprecated and will be removed from pandas in a future version. Use pandas.concat instead.\n",
            "  df = df.append({'Email': email_current, 'Phone_number': phone_number_current}, ignore_index=True)\n"
          ]
        },
        {
          "output_type": "stream",
          "name": "stdout",
          "text": [
            "['reinking@mit.edu'] []  has been extracted at iteration  865\n",
            "['jordanr1@mit.edu'] []  has been extracted at iteration  865\n"
          ]
        },
        {
          "output_type": "stream",
          "name": "stderr",
          "text": [
            "<ipython-input-35-74fde92eadb9>:52: FutureWarning: The frame.append method is deprecated and will be removed from pandas in a future version. Use pandas.concat instead.\n",
            "  df = df.append({'Email': email_current, 'Phone_number': phone_number_current}, ignore_index=True)\n",
            "<ipython-input-35-74fde92eadb9>:52: FutureWarning: The frame.append method is deprecated and will be removed from pandas in a future version. Use pandas.concat instead.\n",
            "  df = df.append({'Email': email_current, 'Phone_number': phone_number_current}, ignore_index=True)\n"
          ]
        },
        {
          "output_type": "stream",
          "name": "stdout",
          "text": [
            "['renda@mit.edu'] []  has been extracted at iteration  865\n",
            "['mreveiz@mit.edu'] []  has been extracted at iteration  865\n"
          ]
        },
        {
          "output_type": "stream",
          "name": "stderr",
          "text": [
            "<ipython-input-35-74fde92eadb9>:52: FutureWarning: The frame.append method is deprecated and will be removed from pandas in a future version. Use pandas.concat instead.\n",
            "  df = df.append({'Email': email_current, 'Phone_number': phone_number_current}, ignore_index=True)\n",
            "<ipython-input-35-74fde92eadb9>:52: FutureWarning: The frame.append method is deprecated and will be removed from pandas in a future version. Use pandas.concat instead.\n",
            "  df = df.append({'Email': email_current, 'Phone_number': phone_number_current}, ignore_index=True)\n"
          ]
        },
        {
          "output_type": "stream",
          "name": "stdout",
          "text": [
            "['srick@csail.mit.edu'] []  has been extracted at iteration  865\n",
            "['NRINALDI@mit.edu'] []  has been extracted at iteration  865\n"
          ]
        },
        {
          "output_type": "stream",
          "name": "stderr",
          "text": [
            "<ipython-input-35-74fde92eadb9>:52: FutureWarning: The frame.append method is deprecated and will be removed from pandas in a future version. Use pandas.concat instead.\n",
            "  df = df.append({'Email': email_current, 'Phone_number': phone_number_current}, ignore_index=True)\n",
            "<ipython-input-35-74fde92eadb9>:52: FutureWarning: The frame.append method is deprecated and will be removed from pandas in a future version. Use pandas.concat instead.\n",
            "  df = df.append({'Email': email_current, 'Phone_number': phone_number_current}, ignore_index=True)\n"
          ]
        },
        {
          "output_type": "stream",
          "name": "stdout",
          "text": [
            "['rinard@csail.mit.edu'] ['258-6922']  has been extracted at iteration  865\n",
            "['eringoot@mit.edu'] []  has been extracted at iteration  865\n"
          ]
        },
        {
          "output_type": "stream",
          "name": "stderr",
          "text": [
            "<ipython-input-35-74fde92eadb9>:52: FutureWarning: The frame.append method is deprecated and will be removed from pandas in a future version. Use pandas.concat instead.\n",
            "  df = df.append({'Email': email_current, 'Phone_number': phone_number_current}, ignore_index=True)\n",
            "<ipython-input-35-74fde92eadb9>:52: FutureWarning: The frame.append method is deprecated and will be removed from pandas in a future version. Use pandas.concat instead.\n",
            "  df = df.append({'Email': email_current, 'Phone_number': phone_number_current}, ignore_index=True)\n"
          ]
        },
        {
          "output_type": "stream",
          "name": "stdout",
          "text": [
            "['rivest@mit.edu'] ['253-5880']  has been extracted at iteration  865\n",
            "['robelle@mit.edu'] []  has been extracted at iteration  865\n"
          ]
        },
        {
          "output_type": "stream",
          "name": "stderr",
          "text": [
            "<ipython-input-35-74fde92eadb9>:52: FutureWarning: The frame.append method is deprecated and will be removed from pandas in a future version. Use pandas.concat instead.\n",
            "  df = df.append({'Email': email_current, 'Phone_number': phone_number_current}, ignore_index=True)\n",
            "<ipython-input-35-74fde92eadb9>:52: FutureWarning: The frame.append method is deprecated and will be removed from pandas in a future version. Use pandas.concat instead.\n",
            "  df = df.append({'Email': email_current, 'Phone_number': phone_number_current}, ignore_index=True)\n"
          ]
        },
        {
          "output_type": "stream",
          "name": "stdout",
          "text": [
            "['Erin@csail.mit.edu'] ['715-4887']  has been extracted at iteration  865\n",
            "['joshrob@mit.edu'] []  has been extracted at iteration  865\n"
          ]
        },
        {
          "output_type": "stream",
          "name": "stderr",
          "text": [
            "<ipython-input-35-74fde92eadb9>:52: FutureWarning: The frame.append method is deprecated and will be removed from pandas in a future version. Use pandas.concat instead.\n",
            "  df = df.append({'Email': email_current, 'Phone_number': phone_number_current}, ignore_index=True)\n",
            "<ipython-input-35-74fde92eadb9>:52: FutureWarning: The frame.append method is deprecated and will be removed from pandas in a future version. Use pandas.concat instead.\n",
            "  df = df.append({'Email': email_current, 'Phone_number': phone_number_current}, ignore_index=True)\n"
          ]
        },
        {
          "output_type": "stream",
          "name": "stdout",
          "text": [
            "['IRENEROD@MIT.edu'] ['715-4063']  has been extracted at iteration  865\n",
            "['adrianrm@mit.edu'] []  has been extracted at iteration  865\n",
            "['drohatgi@mit.edu'] []  has been extracted at iteration  865\n"
          ]
        },
        {
          "output_type": "stream",
          "name": "stderr",
          "text": [
            "<ipython-input-35-74fde92eadb9>:52: FutureWarning: The frame.append method is deprecated and will be removed from pandas in a future version. Use pandas.concat instead.\n",
            "  df = df.append({'Email': email_current, 'Phone_number': phone_number_current}, ignore_index=True)\n",
            "<ipython-input-35-74fde92eadb9>:52: FutureWarning: The frame.append method is deprecated and will be removed from pandas in a future version. Use pandas.concat instead.\n",
            "  df = df.append({'Email': email_current, 'Phone_number': phone_number_current}, ignore_index=True)\n",
            "<ipython-input-35-74fde92eadb9>:52: FutureWarning: The frame.append method is deprecated and will be removed from pandas in a future version. Use pandas.concat instead.\n",
            "  df = df.append({'Email': email_current, 'Phone_number': phone_number_current}, ignore_index=True)\n"
          ]
        },
        {
          "output_type": "stream",
          "name": "stdout",
          "text": [
            "['erojasc@mit.edu'] []  has been extracted at iteration  865\n",
            "['ROMAS@csail.mit.edu'] ['253-4138']  has been extracted at iteration  865\n"
          ]
        },
        {
          "output_type": "stream",
          "name": "stderr",
          "text": [
            "<ipython-input-35-74fde92eadb9>:52: FutureWarning: The frame.append method is deprecated and will be removed from pandas in a future version. Use pandas.concat instead.\n",
            "  df = df.append({'Email': email_current, 'Phone_number': phone_number_current}, ignore_index=True)\n",
            "<ipython-input-35-74fde92eadb9>:52: FutureWarning: The frame.append method is deprecated and will be removed from pandas in a future version. Use pandas.concat instead.\n",
            "  df = df.append({'Email': email_current, 'Phone_number': phone_number_current}, ignore_index=True)\n"
          ]
        },
        {
          "output_type": "stream",
          "name": "stdout",
          "text": [
            "['johnrom@mit.edu'] []  has been extracted at iteration  865\n",
            "['hrome@mit.edu'] []  has been extracted at iteration  865\n"
          ]
        },
        {
          "output_type": "stream",
          "name": "stderr",
          "text": [
            "<ipython-input-35-74fde92eadb9>:52: FutureWarning: The frame.append method is deprecated and will be removed from pandas in a future version. Use pandas.concat instead.\n",
            "  df = df.append({'Email': email_current, 'Phone_number': phone_number_current}, ignore_index=True)\n",
            "<ipython-input-35-74fde92eadb9>:52: FutureWarning: The frame.append method is deprecated and will be removed from pandas in a future version. Use pandas.concat instead.\n",
            "  df = df.append({'Email': email_current, 'Phone_number': phone_number_current}, ignore_index=True)\n"
          ]
        },
        {
          "output_type": "stream",
          "name": "stdout",
          "text": [
            "['brromero@mit.edu'] []  has been extracted at iteration  865\n",
            "['sromeroa@mit.edu'] []  has been extracted at iteration  865\n"
          ]
        },
        {
          "output_type": "stream",
          "name": "stderr",
          "text": [
            "<ipython-input-35-74fde92eadb9>:52: FutureWarning: The frame.append method is deprecated and will be removed from pandas in a future version. Use pandas.concat instead.\n",
            "  df = df.append({'Email': email_current, 'Phone_number': phone_number_current}, ignore_index=True)\n",
            "<ipython-input-35-74fde92eadb9>:52: FutureWarning: The frame.append method is deprecated and will be removed from pandas in a future version. Use pandas.concat instead.\n",
            "  df = df.append({'Email': email_current, 'Phone_number': phone_number_current}, ignore_index=True)\n"
          ]
        },
        {
          "output_type": "stream",
          "name": "stdout",
          "text": [
            "['aronto@mit.edu'] []  has been extracted at iteration  865\n",
            "['danarose@mit.edu'] []  has been extracted at iteration  865\n"
          ]
        },
        {
          "output_type": "stream",
          "name": "stderr",
          "text": [
            "<ipython-input-35-74fde92eadb9>:52: FutureWarning: The frame.append method is deprecated and will be removed from pandas in a future version. Use pandas.concat instead.\n",
            "  df = df.append({'Email': email_current, 'Phone_number': phone_number_current}, ignore_index=True)\n",
            "<ipython-input-35-74fde92eadb9>:52: FutureWarning: The frame.append method is deprecated and will be removed from pandas in a future version. Use pandas.concat instead.\n",
            "  df = df.append({'Email': email_current, 'Phone_number': phone_number_current}, ignore_index=True)\n"
          ]
        },
        {
          "output_type": "stream",
          "name": "stdout",
          "text": [
            "['rruth@mit.edu'] ['324-0269']  has been extracted at iteration  865\n",
            "['crosenth@csail.mit.edu'] ['258-0681']  has been extracted at iteration  865\n"
          ]
        },
        {
          "output_type": "stream",
          "name": "stderr",
          "text": [
            "<ipython-input-35-74fde92eadb9>:52: FutureWarning: The frame.append method is deprecated and will be removed from pandas in a future version. Use pandas.concat instead.\n",
            "  df = df.append({'Email': email_current, 'Phone_number': phone_number_current}, ignore_index=True)\n",
            "<ipython-input-35-74fde92eadb9>:52: FutureWarning: The frame.append method is deprecated and will be removed from pandas in a future version. Use pandas.concat instead.\n",
            "  df = df.append({'Email': email_current, 'Phone_number': phone_number_current}, ignore_index=True)\n"
          ]
        },
        {
          "output_type": "stream",
          "name": "stdout",
          "text": [
            "['arosinol@mit.edu'] []  has been extracted at iteration  865\n",
            "['alexisro@mit.edu'] []  has been extracted at iteration  865\n"
          ]
        },
        {
          "output_type": "stream",
          "name": "stderr",
          "text": [
            "<ipython-input-35-74fde92eadb9>:52: FutureWarning: The frame.append method is deprecated and will be removed from pandas in a future version. Use pandas.concat instead.\n",
            "  df = df.append({'Email': email_current, 'Phone_number': phone_number_current}, ignore_index=True)\n",
            "<ipython-input-35-74fde92eadb9>:52: FutureWarning: The frame.append method is deprecated and will be removed from pandas in a future version. Use pandas.concat instead.\n",
            "  df = df.append({'Email': email_current, 'Phone_number': phone_number_current}, ignore_index=True)\n"
          ]
        },
        {
          "output_type": "stream",
          "name": "stdout",
          "text": [
            "['jillianr@mit.edu'] []  has been extracted at iteration  865\n",
            "['tamarott@csail.mit.edu'] []  has been extracted at iteration  865\n"
          ]
        },
        {
          "output_type": "stream",
          "name": "stderr",
          "text": [
            "<ipython-input-35-74fde92eadb9>:52: FutureWarning: The frame.append method is deprecated and will be removed from pandas in a future version. Use pandas.concat instead.\n",
            "  df = df.append({'Email': email_current, 'Phone_number': phone_number_current}, ignore_index=True)\n",
            "<ipython-input-35-74fde92eadb9>:52: FutureWarning: The frame.append method is deprecated and will be removed from pandas in a future version. Use pandas.concat instead.\n",
            "  df = df.append({'Email': email_current, 'Phone_number': phone_number_current}, ignore_index=True)\n"
          ]
        },
        {
          "output_type": "stream",
          "name": "stdout",
          "text": [
            "['roudi@mit.edu'] []  has been extracted at iteration  865\n",
            "['rountree@csail.mit.edu'] []  has been extracted at iteration  865\n"
          ]
        },
        {
          "output_type": "stream",
          "name": "stderr",
          "text": [
            "<ipython-input-35-74fde92eadb9>:52: FutureWarning: The frame.append method is deprecated and will be removed from pandas in a future version. Use pandas.concat instead.\n",
            "  df = df.append({'Email': email_current, 'Phone_number': phone_number_current}, ignore_index=True)\n",
            "<ipython-input-35-74fde92eadb9>:52: FutureWarning: The frame.append method is deprecated and will be removed from pandas in a future version. Use pandas.concat instead.\n",
            "  df = df.append({'Email': email_current, 'Phone_number': phone_number_current}, ignore_index=True)\n"
          ]
        },
        {
          "output_type": "stream",
          "name": "stdout",
          "text": [
            "['nickroy@csail.mit.edu'] ['253-2517']  has been extracted at iteration  865\n",
            "['vaclavro@mit.edu'] []  has been extracted at iteration  865\n"
          ]
        },
        {
          "output_type": "stream",
          "name": "stderr",
          "text": [
            "<ipython-input-35-74fde92eadb9>:52: FutureWarning: The frame.append method is deprecated and will be removed from pandas in a future version. Use pandas.concat instead.\n",
            "  df = df.append({'Email': email_current, 'Phone_number': phone_number_current}, ignore_index=True)\n",
            "<ipython-input-35-74fde92eadb9>:52: FutureWarning: The frame.append method is deprecated and will be removed from pandas in a future version. Use pandas.concat instead.\n",
            "  df = df.append({'Email': email_current, 'Phone_number': phone_number_current}, ignore_index=True)\n"
          ]
        },
        {
          "output_type": "stream",
          "name": "stdout",
          "text": [
            "['zainruan@csail.mit.edu'] []  has been extracted at iteration  865\n",
            "['danaru@mit.edu'] []  has been extracted at iteration  865\n"
          ]
        },
        {
          "output_type": "stream",
          "name": "stderr",
          "text": [
            "<ipython-input-35-74fde92eadb9>:52: FutureWarning: The frame.append method is deprecated and will be removed from pandas in a future version. Use pandas.concat instead.\n",
            "  df = df.append({'Email': email_current, 'Phone_number': phone_number_current}, ignore_index=True)\n",
            "<ipython-input-35-74fde92eadb9>:52: FutureWarning: The frame.append method is deprecated and will be removed from pandas in a future version. Use pandas.concat instead.\n",
            "  df = df.append({'Email': email_current, 'Phone_number': phone_number_current}, ignore_index=True)\n"
          ]
        },
        {
          "output_type": "stream",
          "name": "stdout",
          "text": [
            "['ronitt@csail.mit.edu'] ['253-0884']  has been extracted at iteration  865\n",
            "['ITTAIR@csail.mit.edu'] []  has been extracted at iteration  865\n"
          ]
        },
        {
          "output_type": "stream",
          "name": "stderr",
          "text": [
            "<ipython-input-35-74fde92eadb9>:52: FutureWarning: The frame.append method is deprecated and will be removed from pandas in a future version. Use pandas.concat instead.\n",
            "  df = df.append({'Email': email_current, 'Phone_number': phone_number_current}, ignore_index=True)\n",
            "<ipython-input-35-74fde92eadb9>:52: FutureWarning: The frame.append method is deprecated and will be removed from pandas in a future version. Use pandas.concat instead.\n",
            "  df = df.append({'Email': email_current, 'Phone_number': phone_number_current}, ignore_index=True)\n"
          ]
        },
        {
          "output_type": "stream",
          "name": "stdout",
          "text": [
            "['steverug@csail.mit.edu'] ['324-8443']  has been extracted at iteration  865\n",
            "['srupia@csail.mit.edu'] []  has been extracted at iteration  865\n"
          ]
        },
        {
          "output_type": "stream",
          "name": "stderr",
          "text": [
            "<ipython-input-35-74fde92eadb9>:52: FutureWarning: The frame.append method is deprecated and will be removed from pandas in a future version. Use pandas.concat instead.\n",
            "  df = df.append({'Email': email_current, 'Phone_number': phone_number_current}, ignore_index=True)\n",
            "<ipython-input-35-74fde92eadb9>:52: FutureWarning: The frame.append method is deprecated and will be removed from pandas in a future version. Use pandas.concat instead.\n",
            "  df = df.append({'Email': email_current, 'Phone_number': phone_number_current}, ignore_index=True)\n"
          ]
        },
        {
          "output_type": "stream",
          "name": "stdout",
          "text": [
            "['rus@csail.mit.edu'] ['258-7567']  has been extracted at iteration  865\n",
            "['tkrusch@csail.mit.edu'] []  has been extracted at iteration  865\n"
          ]
        },
        {
          "output_type": "stream",
          "name": "stderr",
          "text": [
            "<ipython-input-35-74fde92eadb9>:52: FutureWarning: The frame.append method is deprecated and will be removed from pandas in a future version. Use pandas.concat instead.\n",
            "  df = df.append({'Email': email_current, 'Phone_number': phone_number_current}, ignore_index=True)\n",
            "<ipython-input-35-74fde92eadb9>:52: FutureWarning: The frame.append method is deprecated and will be removed from pandas in a future version. Use pandas.concat instead.\n",
            "  df = df.append({'Email': email_current, 'Phone_number': phone_number_current}, ignore_index=True)\n"
          ]
        },
        {
          "output_type": "stream",
          "name": "stdout",
          "text": [
            "['mdrusso@csail.mit.edu'] []  has been extracted at iteration  865\n",
            "['dryu@mit.edu'] []  has been extracted at iteration  865\n"
          ]
        },
        {
          "output_type": "stream",
          "name": "stderr",
          "text": [
            "<ipython-input-35-74fde92eadb9>:52: FutureWarning: The frame.append method is deprecated and will be removed from pandas in a future version. Use pandas.concat instead.\n",
            "  df = df.append({'Email': email_current, 'Phone_number': phone_number_current}, ignore_index=True)\n",
            "<ipython-input-35-74fde92eadb9>:52: FutureWarning: The frame.append method is deprecated and will be removed from pandas in a future version. Use pandas.concat instead.\n",
            "  df = df.append({'Email': email_current, 'Phone_number': phone_number_current}, ignore_index=True)\n"
          ]
        },
        {
          "output_type": "stream",
          "name": "stdout",
          "text": [
            "['fsaad@csail.mit.edu'] []  has been extracted at iteration  865\n",
            "['shuvom@csail.mit.edu'] []  has been extracted at iteration  865\n"
          ]
        },
        {
          "output_type": "stream",
          "name": "stderr",
          "text": [
            "<ipython-input-35-74fde92eadb9>:52: FutureWarning: The frame.append method is deprecated and will be removed from pandas in a future version. Use pandas.concat instead.\n",
            "  df = df.append({'Email': email_current, 'Phone_number': phone_number_current}, ignore_index=True)\n",
            "<ipython-input-35-74fde92eadb9>:52: FutureWarning: The frame.append method is deprecated and will be removed from pandas in a future version. Use pandas.concat instead.\n",
            "  df = df.append({'Email': email_current, 'Phone_number': phone_number_current}, ignore_index=True)\n"
          ]
        },
        {
          "output_type": "stream",
          "name": "stdout",
          "text": [
            "['HAITZS36@csail.mit.edu'] []  has been extracted at iteration  865\n",
            "['sachit@mit.edu'] []  has been extracted at iteration  865\n"
          ]
        },
        {
          "output_type": "stream",
          "name": "stderr",
          "text": [
            "<ipython-input-35-74fde92eadb9>:52: FutureWarning: The frame.append method is deprecated and will be removed from pandas in a future version. Use pandas.concat instead.\n",
            "  df = df.append({'Email': email_current, 'Phone_number': phone_number_current}, ignore_index=True)\n",
            "<ipython-input-35-74fde92eadb9>:52: FutureWarning: The frame.append method is deprecated and will be removed from pandas in a future version. Use pandas.concat instead.\n",
            "  df = df.append({'Email': email_current, 'Phone_number': phone_number_current}, ignore_index=True)\n"
          ]
        },
        {
          "output_type": "stream",
          "name": "stdout",
          "text": [
            "['hady@mit.edu'] []  has been extracted at iteration  865\n",
            "['saltzer@mit.edu'] ['253-6016']  has been extracted at iteration  865\n"
          ]
        },
        {
          "output_type": "stream",
          "name": "stderr",
          "text": [
            "<ipython-input-35-74fde92eadb9>:52: FutureWarning: The frame.append method is deprecated and will be removed from pandas in a future version. Use pandas.concat instead.\n",
            "  df = df.append({'Email': email_current, 'Phone_number': phone_number_current}, ignore_index=True)\n",
            "<ipython-input-35-74fde92eadb9>:52: FutureWarning: The frame.append method is deprecated and will be removed from pandas in a future version. Use pandas.concat instead.\n",
            "  df = df.append({'Email': email_current, 'Phone_number': phone_number_current}, ignore_index=True)\n"
          ]
        },
        {
          "output_type": "stream",
          "name": "stdout",
          "text": [
            "['nsamar@mit.edu'] []  has been extracted at iteration  865\n",
            "['jsamaroo@mit.edu'] []  has been extracted at iteration  865\n"
          ]
        },
        {
          "output_type": "stream",
          "name": "stderr",
          "text": [
            "<ipython-input-35-74fde92eadb9>:52: FutureWarning: The frame.append method is deprecated and will be removed from pandas in a future version. Use pandas.concat instead.\n",
            "  df = df.append({'Email': email_current, 'Phone_number': phone_number_current}, ignore_index=True)\n",
            "<ipython-input-35-74fde92eadb9>:52: FutureWarning: The frame.append method is deprecated and will be removed from pandas in a future version. Use pandas.concat instead.\n",
            "  df = df.append({'Email': email_current, 'Phone_number': phone_number_current}, ignore_index=True)\n"
          ]
        },
        {
          "output_type": "stream",
          "name": "stdout",
          "text": [
            "['sanchez@csail.mit.edu'] ['715-4886']  has been extracted at iteration  865\n",
            "['asonar@mit.edu'] []  has been extracted at iteration  865\n",
            "['arunas@csail.mit.edu'] []  has been extracted at iteration  865\n"
          ]
        },
        {
          "output_type": "stream",
          "name": "stderr",
          "text": [
            "<ipython-input-35-74fde92eadb9>:52: FutureWarning: The frame.append method is deprecated and will be removed from pandas in a future version. Use pandas.concat instead.\n",
            "  df = df.append({'Email': email_current, 'Phone_number': phone_number_current}, ignore_index=True)\n",
            "<ipython-input-35-74fde92eadb9>:52: FutureWarning: The frame.append method is deprecated and will be removed from pandas in a future version. Use pandas.concat instead.\n",
            "  df = df.append({'Email': email_current, 'Phone_number': phone_number_current}, ignore_index=True)\n",
            "<ipython-input-35-74fde92eadb9>:52: FutureWarning: The frame.append method is deprecated and will be removed from pandas in a future version. Use pandas.concat instead.\n",
            "  df = df.append({'Email': email_current, 'Phone_number': phone_number_current}, ignore_index=True)\n"
          ]
        },
        {
          "output_type": "stream",
          "name": "stdout",
          "text": [
            "['saraiev@csail.mit.edu'] []  has been extracted at iteration  865\n",
            "['arvindsatya@mit.edu'] []  has been extracted at iteration  865\n",
            "['semyon@csail.mit.edu'] []  has been extracted at iteration  865\n"
          ]
        },
        {
          "output_type": "stream",
          "name": "stderr",
          "text": [
            "<ipython-input-35-74fde92eadb9>:52: FutureWarning: The frame.append method is deprecated and will be removed from pandas in a future version. Use pandas.concat instead.\n",
            "  df = df.append({'Email': email_current, 'Phone_number': phone_number_current}, ignore_index=True)\n",
            "<ipython-input-35-74fde92eadb9>:52: FutureWarning: The frame.append method is deprecated and will be removed from pandas in a future version. Use pandas.concat instead.\n",
            "  df = df.append({'Email': email_current, 'Phone_number': phone_number_current}, ignore_index=True)\n",
            "<ipython-input-35-74fde92eadb9>:52: FutureWarning: The frame.append method is deprecated and will be removed from pandas in a future version. Use pandas.concat instead.\n",
            "  df = df.append({'Email': email_current, 'Phone_number': phone_number_current}, ignore_index=True)\n"
          ]
        },
        {
          "output_type": "stream",
          "name": "stdout",
          "text": [
            "['shashata@mit.edu'] []  has been extracted at iteration  865\n",
            "['scarv@mit.edu'] []  has been extracted at iteration  865\n",
            "['franksch@mit.edu'] []  has been extracted at iteration  865\n"
          ]
        },
        {
          "output_type": "stream",
          "name": "stderr",
          "text": [
            "<ipython-input-35-74fde92eadb9>:52: FutureWarning: The frame.append method is deprecated and will be removed from pandas in a future version. Use pandas.concat instead.\n",
            "  df = df.append({'Email': email_current, 'Phone_number': phone_number_current}, ignore_index=True)\n",
            "<ipython-input-35-74fde92eadb9>:52: FutureWarning: The frame.append method is deprecated and will be removed from pandas in a future version. Use pandas.concat instead.\n",
            "  df = df.append({'Email': email_current, 'Phone_number': phone_number_current}, ignore_index=True)\n",
            "<ipython-input-35-74fde92eadb9>:52: FutureWarning: The frame.append method is deprecated and will be removed from pandas in a future version. Use pandas.concat instead.\n",
            "  df = df.append({'Email': email_current, 'Phone_number': phone_number_current}, ignore_index=True)\n"
          ]
        },
        {
          "output_type": "stream",
          "name": "stdout",
          "text": [
            "['neboat@csail.mit.edu'] []  has been extracted at iteration  865\n",
            "['schaub@mit.edu'] []  has been extracted at iteration  865\n",
            "['amitsch@mit.edu'] []  has been extracted at iteration  865\n"
          ]
        },
        {
          "output_type": "stream",
          "name": "stderr",
          "text": [
            "<ipython-input-35-74fde92eadb9>:52: FutureWarning: The frame.append method is deprecated and will be removed from pandas in a future version. Use pandas.concat instead.\n",
            "  df = df.append({'Email': email_current, 'Phone_number': phone_number_current}, ignore_index=True)\n",
            "<ipython-input-35-74fde92eadb9>:52: FutureWarning: The frame.append method is deprecated and will be removed from pandas in a future version. Use pandas.concat instead.\n",
            "  df = df.append({'Email': email_current, 'Phone_number': phone_number_current}, ignore_index=True)\n",
            "<ipython-input-35-74fde92eadb9>:52: FutureWarning: The frame.append method is deprecated and will be removed from pandas in a future version. Use pandas.concat instead.\n",
            "  df = df.append({'Email': email_current, 'Phone_number': phone_number_current}, ignore_index=True)\n"
          ]
        },
        {
          "output_type": "stream",
          "name": "stdout",
          "text": [
            "['sa25943@mit.edu'] []  has been extracted at iteration  865\n",
            "['schiefer@mit.edu'] []  has been extracted at iteration  865\n",
            "['jis@MIT.EDU'] []  has been extracted at iteration  865\n"
          ]
        },
        {
          "output_type": "stream",
          "name": "stderr",
          "text": [
            "<ipython-input-35-74fde92eadb9>:52: FutureWarning: The frame.append method is deprecated and will be removed from pandas in a future version. Use pandas.concat instead.\n",
            "  df = df.append({'Email': email_current, 'Phone_number': phone_number_current}, ignore_index=True)\n",
            "<ipython-input-35-74fde92eadb9>:52: FutureWarning: The frame.append method is deprecated and will be removed from pandas in a future version. Use pandas.concat instead.\n",
            "  df = df.append({'Email': email_current, 'Phone_number': phone_number_current}, ignore_index=True)\n",
            "<ipython-input-35-74fde92eadb9>:52: FutureWarning: The frame.append method is deprecated and will be removed from pandas in a future version. Use pandas.concat instead.\n",
            "  df = df.append({'Email': email_current, 'Phone_number': phone_number_current}, ignore_index=True)\n"
          ]
        },
        {
          "output_type": "stream",
          "name": "stdout",
          "text": [
            "['schmauch@csail.mit.edu'] []  has been extracted at iteration  865\n",
            "['martinfs@mit.edu'] []  has been extracted at iteration  865\n",
            "['pschro@csail.mit.edu'] []  has been extracted at iteration  865\n"
          ]
        },
        {
          "output_type": "stream",
          "name": "stderr",
          "text": [
            "<ipython-input-35-74fde92eadb9>:52: FutureWarning: The frame.append method is deprecated and will be removed from pandas in a future version. Use pandas.concat instead.\n",
            "  df = df.append({'Email': email_current, 'Phone_number': phone_number_current}, ignore_index=True)\n",
            "<ipython-input-35-74fde92eadb9>:52: FutureWarning: The frame.append method is deprecated and will be removed from pandas in a future version. Use pandas.concat instead.\n",
            "  df = df.append({'Email': email_current, 'Phone_number': phone_number_current}, ignore_index=True)\n",
            "<ipython-input-35-74fde92eadb9>:52: FutureWarning: The frame.append method is deprecated and will be removed from pandas in a future version. Use pandas.concat instead.\n",
            "  df = df.append({'Email': email_current, 'Phone_number': phone_number_current}, ignore_index=True)\n"
          ]
        },
        {
          "output_type": "stream",
          "name": "stdout",
          "text": [
            "['lennarts@mit.edu'] []  has been extracted at iteration  865\n",
            "['wilkos@mit.edu'] []  has been extracted at iteration  865\n",
            "['schwett@mit.edu'] []  has been extracted at iteration  865\n"
          ]
        },
        {
          "output_type": "stream",
          "name": "stderr",
          "text": [
            "<ipython-input-35-74fde92eadb9>:52: FutureWarning: The frame.append method is deprecated and will be removed from pandas in a future version. Use pandas.concat instead.\n",
            "  df = df.append({'Email': email_current, 'Phone_number': phone_number_current}, ignore_index=True)\n",
            "<ipython-input-35-74fde92eadb9>:52: FutureWarning: The frame.append method is deprecated and will be removed from pandas in a future version. Use pandas.concat instead.\n",
            "  df = df.append({'Email': email_current, 'Phone_number': phone_number_current}, ignore_index=True)\n",
            "<ipython-input-35-74fde92eadb9>:52: FutureWarning: The frame.append method is deprecated and will be removed from pandas in a future version. Use pandas.concat instead.\n",
            "  df = df.append({'Email': email_current, 'Phone_number': phone_number_current}, ignore_index=True)\n"
          ]
        },
        {
          "output_type": "stream",
          "name": "stdout",
          "text": [
            "['acscott@mit.edu'] []  has been extracted at iteration  865\n",
            "['nseelam@MIT.EDU'] []  has been extracted at iteration  865\n",
            "['esefah@mit.edu'] []  has been extracted at iteration  865\n"
          ]
        },
        {
          "output_type": "stream",
          "name": "stderr",
          "text": [
            "<ipython-input-35-74fde92eadb9>:52: FutureWarning: The frame.append method is deprecated and will be removed from pandas in a future version. Use pandas.concat instead.\n",
            "  df = df.append({'Email': email_current, 'Phone_number': phone_number_current}, ignore_index=True)\n",
            "<ipython-input-35-74fde92eadb9>:52: FutureWarning: The frame.append method is deprecated and will be removed from pandas in a future version. Use pandas.concat instead.\n",
            "  df = df.append({'Email': email_current, 'Phone_number': phone_number_current}, ignore_index=True)\n",
            "<ipython-input-35-74fde92eadb9>:52: FutureWarning: The frame.append method is deprecated and will be removed from pandas in a future version. Use pandas.concat instead.\n",
            "  df = df.append({'Email': email_current, 'Phone_number': phone_number_current}, ignore_index=True)\n"
          ]
        },
        {
          "output_type": "stream",
          "name": "stdout",
          "text": [
            "['MSEKHAR@csail.mit.edu'] []  has been extracted at iteration  865\n",
            "['jsekora@csail.mit.edu'] ['253-7958']  has been extracted at iteration  865\n",
            "['bise@mit.edu'] []  has been extracted at iteration  865\n"
          ]
        },
        {
          "output_type": "stream",
          "name": "stderr",
          "text": [
            "<ipython-input-35-74fde92eadb9>:52: FutureWarning: The frame.append method is deprecated and will be removed from pandas in a future version. Use pandas.concat instead.\n",
            "  df = df.append({'Email': email_current, 'Phone_number': phone_number_current}, ignore_index=True)\n",
            "<ipython-input-35-74fde92eadb9>:52: FutureWarning: The frame.append method is deprecated and will be removed from pandas in a future version. Use pandas.concat instead.\n",
            "  df = df.append({'Email': email_current, 'Phone_number': phone_number_current}, ignore_index=True)\n",
            "<ipython-input-35-74fde92eadb9>:52: FutureWarning: The frame.append method is deprecated and will be removed from pandas in a future version. Use pandas.concat instead.\n",
            "  df = df.append({'Email': email_current, 'Phone_number': phone_number_current}, ignore_index=True)\n"
          ]
        },
        {
          "output_type": "stream",
          "name": "stdout",
          "text": [
            "['seneff@csail.mit.edu'] ['253-0451']  has been extracted at iteration  865\n",
            "['elenaser@mit.edu'] []  has been extracted at iteration  865\n",
            "['3s@mit.edu'] []  has been extracted at iteration  865\n"
          ]
        },
        {
          "output_type": "stream",
          "name": "stderr",
          "text": [
            "<ipython-input-35-74fde92eadb9>:52: FutureWarning: The frame.append method is deprecated and will be removed from pandas in a future version. Use pandas.concat instead.\n",
            "  df = df.append({'Email': email_current, 'Phone_number': phone_number_current}, ignore_index=True)\n",
            "<ipython-input-35-74fde92eadb9>:52: FutureWarning: The frame.append method is deprecated and will be removed from pandas in a future version. Use pandas.concat instead.\n",
            "  df = df.append({'Email': email_current, 'Phone_number': phone_number_current}, ignore_index=True)\n",
            "<ipython-input-35-74fde92eadb9>:52: FutureWarning: The frame.append method is deprecated and will be removed from pandas in a future version. Use pandas.concat instead.\n",
            "  df = df.append({'Email': email_current, 'Phone_number': phone_number_current}, ignore_index=True)\n"
          ]
        },
        {
          "output_type": "stream",
          "name": "stdout",
          "text": [
            "['ticha@MIT.EDU'] []  has been extracted at iteration  865\n",
            "['sama@mit.edu'] []  has been extracted at iteration  865\n",
            "['tseyde@mit.edu'] []  has been extracted at iteration  865\n"
          ]
        },
        {
          "output_type": "stream",
          "name": "stderr",
          "text": [
            "<ipython-input-35-74fde92eadb9>:52: FutureWarning: The frame.append method is deprecated and will be removed from pandas in a future version. Use pandas.concat instead.\n",
            "  df = df.append({'Email': email_current, 'Phone_number': phone_number_current}, ignore_index=True)\n",
            "<ipython-input-35-74fde92eadb9>:52: FutureWarning: The frame.append method is deprecated and will be removed from pandas in a future version. Use pandas.concat instead.\n",
            "  df = df.append({'Email': email_current, 'Phone_number': phone_number_current}, ignore_index=True)\n",
            "<ipython-input-35-74fde92eadb9>:52: FutureWarning: The frame.append method is deprecated and will be removed from pandas in a future version. Use pandas.concat instead.\n",
            "  df = df.append({'Email': email_current, 'Phone_number': phone_number_current}, ignore_index=True)\n"
          ]
        },
        {
          "output_type": "stream",
          "name": "stdout",
          "text": [
            "['SHAFERJO@mit.edu'] []  has been extracted at iteration  865\n",
            "['devavrat@mit.edu'] ['253-4670']  has been extracted at iteration  865\n",
            "['harshay@mit.edu'] []  has been extracted at iteration  865\n"
          ]
        },
        {
          "output_type": "stream",
          "name": "stderr",
          "text": [
            "<ipython-input-35-74fde92eadb9>:52: FutureWarning: The frame.append method is deprecated and will be removed from pandas in a future version. Use pandas.concat instead.\n",
            "  df = df.append({'Email': email_current, 'Phone_number': phone_number_current}, ignore_index=True)\n",
            "<ipython-input-35-74fde92eadb9>:52: FutureWarning: The frame.append method is deprecated and will be removed from pandas in a future version. Use pandas.concat instead.\n",
            "  df = df.append({'Email': email_current, 'Phone_number': phone_number_current}, ignore_index=True)\n",
            "<ipython-input-35-74fde92eadb9>:52: FutureWarning: The frame.append method is deprecated and will be removed from pandas in a future version. Use pandas.concat instead.\n",
            "  df = df.append({'Email': email_current, 'Phone_number': phone_number_current}, ignore_index=True)\n"
          ]
        },
        {
          "output_type": "stream",
          "name": "stdout",
          "text": [
            "['julie_a_shah@csail.mit.edu'] ['324-4879']  has been extracted at iteration  865\n",
            "['mshahid@mit.edu'] []  has been extracted at iteration  865\n",
            "['asbiswas@mit.edu'] []  has been extracted at iteration  865\n"
          ]
        },
        {
          "output_type": "stream",
          "name": "stderr",
          "text": [
            "<ipython-input-35-74fde92eadb9>:52: FutureWarning: The frame.append method is deprecated and will be removed from pandas in a future version. Use pandas.concat instead.\n",
            "  df = df.append({'Email': email_current, 'Phone_number': phone_number_current}, ignore_index=True)\n",
            "<ipython-input-35-74fde92eadb9>:52: FutureWarning: The frame.append method is deprecated and will be removed from pandas in a future version. Use pandas.concat instead.\n",
            "  df = df.append({'Email': email_current, 'Phone_number': phone_number_current}, ignore_index=True)\n",
            "<ipython-input-35-74fde92eadb9>:52: FutureWarning: The frame.append method is deprecated and will be removed from pandas in a future version. Use pandas.concat instead.\n",
            "  df = df.append({'Email': email_current, 'Phone_number': phone_number_current}, ignore_index=True)\n"
          ]
        },
        {
          "output_type": "stream",
          "name": "stdout",
          "text": [
            "['divyas@mit.edu'] []  has been extracted at iteration  865\n",
            "['sheilash@mit.edu'] []  has been extracted at iteration  865\n",
            "['harsha@csail.mit.edu'] []  has been extracted at iteration  865\n"
          ]
        },
        {
          "output_type": "stream",
          "name": "stderr",
          "text": [
            "<ipython-input-35-74fde92eadb9>:52: FutureWarning: The frame.append method is deprecated and will be removed from pandas in a future version. Use pandas.concat instead.\n",
            "  df = df.append({'Email': email_current, 'Phone_number': phone_number_current}, ignore_index=True)\n",
            "<ipython-input-35-74fde92eadb9>:52: FutureWarning: The frame.append method is deprecated and will be removed from pandas in a future version. Use pandas.concat instead.\n",
            "  df = df.append({'Email': email_current, 'Phone_number': phone_number_current}, ignore_index=True)\n",
            "<ipython-input-35-74fde92eadb9>:52: FutureWarning: The frame.append method is deprecated and will be removed from pandas in a future version. Use pandas.concat instead.\n",
            "  df = df.append({'Email': email_current, 'Phone_number': phone_number_current}, ignore_index=True)\n"
          ]
        },
        {
          "output_type": "stream",
          "name": "stdout",
          "text": [
            "['prafull@mit.edu'] []  has been extracted at iteration  865\n",
            "['pratyuss@mit.edu'] []  has been extracted at iteration  865\n",
            "['upamanyu@mit.edu'] []  has been extracted at iteration  865\n"
          ]
        },
        {
          "output_type": "stream",
          "name": "stderr",
          "text": [
            "<ipython-input-35-74fde92eadb9>:52: FutureWarning: The frame.append method is deprecated and will be removed from pandas in a future version. Use pandas.concat instead.\n",
            "  df = df.append({'Email': email_current, 'Phone_number': phone_number_current}, ignore_index=True)\n",
            "<ipython-input-35-74fde92eadb9>:52: FutureWarning: The frame.append method is deprecated and will be removed from pandas in a future version. Use pandas.concat instead.\n",
            "  df = df.append({'Email': email_current, 'Phone_number': phone_number_current}, ignore_index=True)\n",
            "<ipython-input-35-74fde92eadb9>:52: FutureWarning: The frame.append method is deprecated and will be removed from pandas in a future version. Use pandas.concat instead.\n",
            "  df = df.append({'Email': email_current, 'Phone_number': phone_number_current}, ignore_index=True)\n"
          ]
        },
        {
          "output_type": "stream",
          "name": "stdout",
          "text": [
            "['shanir@csail.mit.edu'] ['324-8440']  has been extracted at iteration  865\n",
            "['seijis@mit.edu'] []  has been extracted at iteration  865\n",
            "['shefna@mit.edu'] []  has been extracted at iteration  865\n"
          ]
        },
        {
          "output_type": "stream",
          "name": "stderr",
          "text": [
            "<ipython-input-35-74fde92eadb9>:52: FutureWarning: The frame.append method is deprecated and will be removed from pandas in a future version. Use pandas.concat instead.\n",
            "  df = df.append({'Email': email_current, 'Phone_number': phone_number_current}, ignore_index=True)\n",
            "<ipython-input-35-74fde92eadb9>:52: FutureWarning: The frame.append method is deprecated and will be removed from pandas in a future version. Use pandas.concat instead.\n",
            "  df = df.append({'Email': email_current, 'Phone_number': phone_number_current}, ignore_index=True)\n",
            "<ipython-input-35-74fde92eadb9>:52: FutureWarning: The frame.append method is deprecated and will be removed from pandas in a future version. Use pandas.concat instead.\n",
            "  df = df.append({'Email': email_current, 'Phone_number': phone_number_current}, ignore_index=True)\n"
          ]
        },
        {
          "output_type": "stream",
          "name": "stdout",
          "text": [
            "['shehadak@mit.edu'] []  has been extracted at iteration  865\n",
            "['shab@csail.mit.edu'] []  has been extracted at iteration  865\n",
            "['willshen@mit.edu'] []  has been extracted at iteration  865\n"
          ]
        },
        {
          "output_type": "stream",
          "name": "stderr",
          "text": [
            "<ipython-input-35-74fde92eadb9>:52: FutureWarning: The frame.append method is deprecated and will be removed from pandas in a future version. Use pandas.concat instead.\n",
            "  df = df.append({'Email': email_current, 'Phone_number': phone_number_current}, ignore_index=True)\n",
            "<ipython-input-35-74fde92eadb9>:52: FutureWarning: The frame.append method is deprecated and will be removed from pandas in a future version. Use pandas.concat instead.\n",
            "  df = df.append({'Email': email_current, 'Phone_number': phone_number_current}, ignore_index=True)\n",
            "<ipython-input-35-74fde92eadb9>:52: FutureWarning: The frame.append method is deprecated and will be removed from pandas in a future version. Use pandas.concat instead.\n",
            "  df = df.append({'Email': email_current, 'Phone_number': phone_number_current}, ignore_index=True)\n"
          ]
        },
        {
          "output_type": "stream",
          "name": "stdout",
          "text": [
            "['shannons@csail.mit.edu'] []  has been extracted at iteration  865\n",
            "['idanshen@csail.mit.edu'] []  has been extracted at iteration  865\n",
            "['sshenoy@mit.edu'] []  has been extracted at iteration  865\n"
          ]
        },
        {
          "output_type": "stream",
          "name": "stderr",
          "text": [
            "<ipython-input-35-74fde92eadb9>:52: FutureWarning: The frame.append method is deprecated and will be removed from pandas in a future version. Use pandas.concat instead.\n",
            "  df = df.append({'Email': email_current, 'Phone_number': phone_number_current}, ignore_index=True)\n",
            "<ipython-input-35-74fde92eadb9>:52: FutureWarning: The frame.append method is deprecated and will be removed from pandas in a future version. Use pandas.concat instead.\n",
            "  df = df.append({'Email': email_current, 'Phone_number': phone_number_current}, ignore_index=True)\n",
            "<ipython-input-35-74fde92eadb9>:52: FutureWarning: The frame.append method is deprecated and will be removed from pandas in a future version. Use pandas.concat instead.\n",
            "  df = df.append({'Email': email_current, 'Phone_number': phone_number_current}, ignore_index=True)\n",
            "<ipython-input-35-74fde92eadb9>:52: FutureWarning: The frame.append method is deprecated and will be removed from pandas in a future version. Use pandas.concat instead.\n",
            "  df = df.append({'Email': email_current, 'Phone_number': phone_number_current}, ignore_index=True)\n"
          ]
        },
        {
          "output_type": "stream",
          "name": "stdout",
          "text": [
            "['maxas@csail.mit.edu'] []  has been extracted at iteration  865\n",
            "['jsherrell@csail.mit.edu'] ['253-8386']  has been extracted at iteration  865\n",
            "['jeshi@mit.edu'] []  has been extracted at iteration  865\n"
          ]
        },
        {
          "output_type": "stream",
          "name": "stderr",
          "text": [
            "<ipython-input-35-74fde92eadb9>:52: FutureWarning: The frame.append method is deprecated and will be removed from pandas in a future version. Use pandas.concat instead.\n",
            "  df = df.append({'Email': email_current, 'Phone_number': phone_number_current}, ignore_index=True)\n",
            "<ipython-input-35-74fde92eadb9>:52: FutureWarning: The frame.append method is deprecated and will be removed from pandas in a future version. Use pandas.concat instead.\n",
            "  df = df.append({'Email': email_current, 'Phone_number': phone_number_current}, ignore_index=True)\n",
            "<ipython-input-35-74fde92eadb9>:52: FutureWarning: The frame.append method is deprecated and will be removed from pandas in a future version. Use pandas.concat instead.\n",
            "  df = df.append({'Email': email_current, 'Phone_number': phone_number_current}, ignore_index=True)\n"
          ]
        },
        {
          "output_type": "stream",
          "name": "stdout",
          "text": [
            "['LIANGS@csail.mit.edu'] []  has been extracted at iteration  865\n",
            "['ELEES@csail.mit.edu'] []  has been extracted at iteration  865\n",
            "['ashipps@csail.mit.edu'] []  has been extracted at iteration  865\n",
            "['talsd@csail.mit.edu'] []  has been extracted at iteration  865\n"
          ]
        },
        {
          "output_type": "stream",
          "name": "stderr",
          "text": [
            "<ipython-input-35-74fde92eadb9>:52: FutureWarning: The frame.append method is deprecated and will be removed from pandas in a future version. Use pandas.concat instead.\n",
            "  df = df.append({'Email': email_current, 'Phone_number': phone_number_current}, ignore_index=True)\n",
            "<ipython-input-35-74fde92eadb9>:52: FutureWarning: The frame.append method is deprecated and will be removed from pandas in a future version. Use pandas.concat instead.\n",
            "  df = df.append({'Email': email_current, 'Phone_number': phone_number_current}, ignore_index=True)\n",
            "<ipython-input-35-74fde92eadb9>:52: FutureWarning: The frame.append method is deprecated and will be removed from pandas in a future version. Use pandas.concat instead.\n",
            "  df = df.append({'Email': email_current, 'Phone_number': phone_number_current}, ignore_index=True)\n"
          ]
        },
        {
          "output_type": "stream",
          "name": "stdout",
          "text": [
            "['shor@math.mit.edu'] ['253-1827']  has been extracted at iteration  865\n",
            "['hes@csail.mit.edu'] ['253-7877']  has been extracted at iteration  865\n",
            "['jshun@mit.edu'] ['258-0669']  has been extracted at iteration  865\n"
          ]
        },
        {
          "output_type": "stream",
          "name": "stderr",
          "text": [
            "<ipython-input-35-74fde92eadb9>:52: FutureWarning: The frame.append method is deprecated and will be removed from pandas in a future version. Use pandas.concat instead.\n",
            "  df = df.append({'Email': email_current, 'Phone_number': phone_number_current}, ignore_index=True)\n",
            "<ipython-input-35-74fde92eadb9>:52: FutureWarning: The frame.append method is deprecated and will be removed from pandas in a future version. Use pandas.concat instead.\n",
            "  df = df.append({'Email': email_current, 'Phone_number': phone_number_current}, ignore_index=True)\n",
            "<ipython-input-35-74fde92eadb9>:52: FutureWarning: The frame.append method is deprecated and will be removed from pandas in a future version. Use pandas.concat instead.\n",
            "  df = df.append({'Email': email_current, 'Phone_number': phone_number_current}, ignore_index=True)\n"
          ]
        },
        {
          "output_type": "stream",
          "name": "stdout",
          "text": [
            "['ashyamal@csail.mit.edu'] []  has been extracted at iteration  865\n",
            "['osiegel@mit.edu'] []  has been extracted at iteration  865\n",
            "['tslvr@csail.mit.edu'] []  has been extracted at iteration  865\n"
          ]
        },
        {
          "output_type": "stream",
          "name": "stderr",
          "text": [
            "<ipython-input-35-74fde92eadb9>:52: FutureWarning: The frame.append method is deprecated and will be removed from pandas in a future version. Use pandas.concat instead.\n",
            "  df = df.append({'Email': email_current, 'Phone_number': phone_number_current}, ignore_index=True)\n",
            "<ipython-input-35-74fde92eadb9>:52: FutureWarning: The frame.append method is deprecated and will be removed from pandas in a future version. Use pandas.concat instead.\n",
            "  df = df.append({'Email': email_current, 'Phone_number': phone_number_current}, ignore_index=True)\n",
            "<ipython-input-35-74fde92eadb9>:52: FutureWarning: The frame.append method is deprecated and will be removed from pandas in a future version. Use pandas.concat instead.\n",
            "  df = df.append({'Email': email_current, 'Phone_number': phone_number_current}, ignore_index=True)\n"
          ]
        },
        {
          "output_type": "stream",
          "name": "stdout",
          "text": [
            "['silwal@mit.edu'] []  has been extracted at iteration  865\n",
            "['msimchow@mit.edu'] []  has been extracted at iteration  865\n",
            "['msimchow@mit.edu'] []  has been extracted at iteration  865\n"
          ]
        },
        {
          "output_type": "stream",
          "name": "stderr",
          "text": [
            "<ipython-input-35-74fde92eadb9>:52: FutureWarning: The frame.append method is deprecated and will be removed from pandas in a future version. Use pandas.concat instead.\n",
            "  df = df.append({'Email': email_current, 'Phone_number': phone_number_current}, ignore_index=True)\n",
            "<ipython-input-35-74fde92eadb9>:52: FutureWarning: The frame.append method is deprecated and will be removed from pandas in a future version. Use pandas.concat instead.\n",
            "  df = df.append({'Email': email_current, 'Phone_number': phone_number_current}, ignore_index=True)\n",
            "<ipython-input-35-74fde92eadb9>:52: FutureWarning: The frame.append method is deprecated and will be removed from pandas in a future version. Use pandas.concat instead.\n",
            "  df = df.append({'Email': email_current, 'Phone_number': phone_number_current}, ignore_index=True)\n"
          ]
        },
        {
          "output_type": "stream",
          "name": "stdout",
          "text": [
            "['asimeono@mit.edu'] []  has been extracted at iteration  865\n",
            "['simhon@mit.edu'] []  has been extracted at iteration  865\n",
            "['kdsinger@csail.mit.edu'] []  has been extracted at iteration  865\n"
          ]
        },
        {
          "output_type": "stream",
          "name": "stderr",
          "text": [
            "<ipython-input-35-74fde92eadb9>:52: FutureWarning: The frame.append method is deprecated and will be removed from pandas in a future version. Use pandas.concat instead.\n",
            "  df = df.append({'Email': email_current, 'Phone_number': phone_number_current}, ignore_index=True)\n",
            "<ipython-input-35-74fde92eadb9>:52: FutureWarning: The frame.append method is deprecated and will be removed from pandas in a future version. Use pandas.concat instead.\n",
            "  df = df.append({'Email': email_current, 'Phone_number': phone_number_current}, ignore_index=True)\n",
            "<ipython-input-35-74fde92eadb9>:52: FutureWarning: The frame.append method is deprecated and will be removed from pandas in a future version. Use pandas.concat instead.\n",
            "  df = df.append({'Email': email_current, 'Phone_number': phone_number_current}, ignore_index=True)\n"
          ]
        },
        {
          "output_type": "stream",
          "name": "stdout",
          "text": [
            "['smanish@mit.edu'] []  has been extracted at iteration  865\n",
            "['nmsingh@mit.edu'] []  has been extracted at iteration  865\n",
            "['shagun@mit.edu'] []  has been extracted at iteration  865\n"
          ]
        },
        {
          "output_type": "stream",
          "name": "stderr",
          "text": [
            "<ipython-input-35-74fde92eadb9>:52: FutureWarning: The frame.append method is deprecated and will be removed from pandas in a future version. Use pandas.concat instead.\n",
            "  df = df.append({'Email': email_current, 'Phone_number': phone_number_current}, ignore_index=True)\n",
            "<ipython-input-35-74fde92eadb9>:52: FutureWarning: The frame.append method is deprecated and will be removed from pandas in a future version. Use pandas.concat instead.\n",
            "  df = df.append({'Email': email_current, 'Phone_number': phone_number_current}, ignore_index=True)\n",
            "<ipython-input-35-74fde92eadb9>:52: FutureWarning: The frame.append method is deprecated and will be removed from pandas in a future version. Use pandas.concat instead.\n",
            "  df = df.append({'Email': email_current, 'Phone_number': phone_number_current}, ignore_index=True)\n"
          ]
        },
        {
          "output_type": "stream",
          "name": "stdout",
          "text": [
            "['singhk@csail.mit.edu'] []  has been extracted at iteration  865\n",
            "['sipser@MIT.EDU'] ['253-4992']  has been extracted at iteration  865\n"
          ]
        },
        {
          "output_type": "stream",
          "name": "stderr",
          "text": [
            "<ipython-input-35-74fde92eadb9>:52: FutureWarning: The frame.append method is deprecated and will be removed from pandas in a future version. Use pandas.concat instead.\n",
            "  df = df.append({'Email': email_current, 'Phone_number': phone_number_current}, ignore_index=True)\n",
            "<ipython-input-35-74fde92eadb9>:52: FutureWarning: The frame.append method is deprecated and will be removed from pandas in a future version. Use pandas.concat instead.\n",
            "  df = df.append({'Email': email_current, 'Phone_number': phone_number_current}, ignore_index=True)\n"
          ]
        }
      ]
    },
    {
      "cell_type": "code",
      "source": [
        "from nltk.stem import PorterStemmer, LancasterStemmer\n",
        "\n",
        "tokens = word_tokenize(page_source)\n",
        "porter_stemmer = PorterStemmer()\n",
        "lancaster_stemmer = LancasterStemmer()\n",
        "\n",
        "porter_stemmed_words = [porter_stemmer.stem(word) for word in tokens]\n",
        "lancaster_stemmed_words = [lancaster_stemmer.stem(word) for word in tokens]\n",
        "\n",
        "spaces_removed = ' '.join(filter(None, plain_text.split()))\n",
        "\n",
        "print(\"Original text:\", spaces_removed)\n",
        "print(\"\\nPorter Stemmer:\")\n",
        "print(\" \".join(porter_stemmed_words))\n",
        "print(\"\\nLancaster Stemmer:\")\n",
        "print(\" \".join(lancaster_stemmed_words))\n"
      ],
      "metadata": {
        "colab": {
          "base_uri": "https://localhost:8080/"
        },
        "id": "lb8U3K-aldLd",
        "outputId": "4dbf684c-2e3b-41d2-b632-344056c80e68"
      },
      "execution_count": 36,
      "outputs": [
        {
          "output_type": "stream",
          "name": "stdout",
          "text": [
            "Original text: People | MIT CSAIL Skip to main content For Students For Industry For Members Accessibility Login MIT CSAIL Research People News Events Symposia About MIT LOGO Created with Sketch. Research People News Events Symposia About For Students For Industry For Members Accessibility Login Contact Press Requests Accessibility Search Hide Filters People Role Principal Investigators Core/Dual Associates Emeritus Researchers Graduate Students UROP StaffAffiliates MIT CSAIL Massachusetts Institute of Technology Computer Science & Artificial Intelligence Laboratory 32 Vassar St, Cambridge MA 02139 Contact Press Requests Accessibility\n",
            "\n",
            "Porter Stemmer:\n",
            "< html lang= '' en '' dir= '' ltr '' prefix= '' content : http : //purl.org/rss/1.0/modules/content/ dc : http : //purl.org/dc/terms/ foaf : http : //xmlns.com/foaf/0.1/ og : http : //ogp.me/n # rdf : http : //www.w3.org/2000/01/rdf-schema # schema : http : //schema.org/ sioc : http : //rdfs.org/sioc/n # sioct : http : //rdfs.org/sioc/typ # sko : http : //www.w3.org/2004/02/skos/cor # xsd : http : //www.w3.org/2001/xmlschema # `` class= '' js '' > < head > < meta charset= '' utf-8 '' > < script type= '' text/javascript '' async= '' '' src= '' http : //www.googletagmanager.com/gtag/j ? id=g-r5mvc7vp67 & amp ; cx=c & amp ; _slc=1 '' > < /script > < script async= '' '' src= '' http : //www.google-analytics.com/analytics.j '' > < /script > < script type= '' text/javascript '' > ( window.nreum|| ( nreum= { } ) ) .init= { ajax : { deny_list : [ `` bam.nr-data.net '' ] } } ; ( window.nreum|| ( nreum= { } ) ) .loader_config= { licensekey : '' a26f390b95 '' , applicationid : '' 98296332 '' } ; ; / * ! for licens inform pleas see nr-loader-rum-1.251.1.min.js.license.txt * / ( ( ) = > { var e , t , r= { 234 : ( e , t , r ) = > { `` use strict '' ; r.d ( t , { p_ : ( ) = > v , mt : ( ) = > b , c5 : ( ) = > s , dl : ( ) = > w , op : ( ) = > s , lf : ( ) = > t , yu : ( ) = > x , dg : ( ) = > m , cx : ( ) = > c , ge : ( ) = > _ , su : ( ) = > r } ) ; var n=r ( 8632 ) , i=r ( 9567 ) ; const o= { beacon : n.ce.beacon , errorbeacon : n.ce.errorbeacon , licensekey : void 0 , applicationid : void 0 , sa : void 0 , queuetim : void 0 , applicationtim : void 0 , ttguid : void 0 , user : void 0 , account : void 0 , product : void 0 , extra : void 0 , jsattribut : { } , userattribut : void 0 , att : void 0 , transactionnam : void 0 , tnameplain : void 0 } , a= { } ; function s ( e ) { if ( ! e ) throw new error ( `` all info object requir an agent identifi ! `` ) ; if ( ! a [ e ] ) throw new error ( `` info for `` .concat ( e , '' wa never set '' ) ) ; return a [ e ] } function c ( e , t ) { if ( ! e ) throw new error ( `` all info object requir an agent identifi ! `` ) ; a [ e ] = ( 0 , i.d ) ( t , o ) ; const r= ( 0 , n.ek ) ( e ) ; r & & ( r.info=a [ e ] ) } const u=e= > { if ( ! e|| '' string '' ! =typeof e ) return ! 1 ; tri { document.createdocumentfrag ( ) .queryselector ( e ) } catch { return ! 1 } return ! 0 } ; var d=r ( 7056 ) , l=r ( 50 ) ; const f= '' [ data-nr-mask ] '' , g= ( ) = > { const e= { mask_selector : '' * '' , block_selector : '' [ data-nr-block ] '' , mask_input_opt : { color : ! 1 , date : ! 1 , '' datetime-loc '' : ! 1 , email : ! 1 , month : ! 1 , number : ! 1 , rang : ! 1 , search : ! 1 , tel : ! 1 , text : ! 1 , time : ! 1 , url : ! 1 , week : ! 1 , textarea : ! 1 , select : ! 1 , password : ! 0 } } ; return { feature_flag : [ ] , proxi : { asset : void 0 , beacon : void 0 } , privaci : { cookies_en : ! 0 } , ajax : { deny_list : void 0 , block_intern : ! 0 , enabl : ! 0 , harvesttimeseconds:10 , autostart : ! 0 } , distributed_trac : { enabl : void 0 , exclude_newrelic_head : void 0 , cors_use_newrelic_head : void 0 , cors_use_tracecontext_head : void 0 , allowed_origin : void 0 } , session : { domain : void 0 , expiresm : d.od , inactivem : d.hb } , ssl : void 0 , obfusc : void 0 , jserror : { enabl : ! 0 , harvesttimeseconds:10 , autostart : ! 0 } , metric : { enabl : ! 0 , autostart : ! 0 } , page_act : { enabl : ! 0 , harvesttimeseconds:30 , autostart : ! 0 } , page_view_ev : { enabl : ! 0 , autostart : ! 0 } , page_view_tim : { enabl : ! 0 , harvesttimeseconds:30 , long_task : ! 1 , autostart : ! 0 } , session_trac : { enabl : ! 0 , harvesttimeseconds:10 , autostart : ! 0 } , harvest : { toomanyrequestsdelay:60 } , session_replay : { autostart : ! 0 , enabl : ! 1 , harvesttimeseconds:60 , sampling_rate:50 , error_sampling_rate:50 , collect_font : ! 1 , inline_imag : ! 1 , inline_stylesheet : ! 0 , mask_all_input : ! 0 , get mask_text_selector ( ) { return e.mask_selector } , set mask_text_selector ( t ) { u ( t ) ? e.mask_selector= '' '' .concat ( t , '' , '' ) .concat ( f ) : '' '' ===t||null===t ? e.mask_selector=f : ( 0 , l.z ) ( `` an invalid session_replay.mask_selector wa provid . ' * ' will be use . `` , t ) } , get block_class ( ) { return '' nr-block '' } , get ignore_class ( ) { return '' nr-ignor '' } , get mask_text_class ( ) { return '' nr-mask '' } , get block_selector ( ) { return e.block_selector } , set block_selector ( t ) { u ( t ) ? e.block_selector+= '' , '' .concat ( t ) : '' '' ! ==t & & ( 0 , l.z ) ( `` an invalid session_replay.block_selector wa provid and will not be use '' , t ) } , get mask_input_opt ( ) { return e.mask_input_opt } , set mask_input_opt ( t ) { t & & '' object '' ==typeof t ? e.mask_input_options= { ... t , password : ! 0 } : ( 0 , l.z ) ( `` an invalid session_replay.mask_input_opt wa provid and will not be use '' , t ) } } , spa : { enabl : ! 0 , harvesttimeseconds:10 , autostart : ! 0 } } } , p= { } , h= '' all configur object requir an agent identifi ! `` ; function v ( e ) { if ( ! e ) throw new error ( h ) ; if ( ! p [ e ] ) throw new error ( `` configur for `` .concat ( e , '' wa never set '' ) ) ; return p [ e ] } function m ( e , t ) { if ( ! e ) throw new error ( h ) ; p [ e ] = ( 0 , i.d ) ( t , g ( ) ) ; const r= ( 0 , n.ek ) ( e ) ; r & & ( r.init=p [ e ] ) } function b ( e , t ) { if ( ! e ) throw new error ( h ) ; var r=v ( e ) ; if ( r ) { for ( var n=t.split ( `` . `` ) , i=0 ; i < n.length-1 ; i++ ) if ( `` object '' ! =typeof ( r=r [ n [ i ] ] ) ) return ; r=r [ n [ n.length-1 ] ] } return r } const y= { accountid : void 0 , trustkey : void 0 , agentid : void 0 , licensekey : void 0 , applicationid : void 0 , xpid : void 0 } , a= { } ; function w ( e ) { if ( ! e ) throw new error ( `` all loader-config object requir an agent identifi ! `` ) ; if ( ! a [ e ] ) throw new error ( `` loaderconfig for `` .concat ( e , '' wa never set '' ) ) ; return a [ e ] } function _ ( e , t ) { if ( ! e ) throw new error ( `` all loader-config object requir an agent identifi ! `` ) ; a [ e ] = ( 0 , i.d ) ( t , y ) ; const r= ( 0 , n.ek ) ( e ) ; r & & ( r.loader_config=a [ e ] ) } const x= ( 0 , n.mf ) ( ) .o ; var e=r ( 385 ) , d=r ( 6818 ) ; const k= { buildenv : d.re , customtransact : void 0 , disabl : ! 1 , distmethod : d.gf , isolatedbacklog : ! 1 , loadertyp : void 0 , maxbytes:3e4 , offset : math.floor ( e._a ? .perform ? .timeorigin||e._a ? .perform ? .time ? .navigationstart||date.now ( ) ) , onerror : void 0 , origin : '' '' +e._a.loc , ptid : void 0 , releaseid : { } , session : void 0 , xhrwrappabl : '' function '' ==typeof e._a.xmlhttprequest ? .prototyp ? .addeventlisten , version : d.q4 , denylist : void 0 } , j= { } ; function s ( e ) { if ( ! e ) throw new error ( `` all runtim object requir an agent identifi ! `` ) ; if ( ! j [ e ] ) throw new error ( `` runtim for `` .concat ( e , '' wa never set '' ) ) ; return j [ e ] } function r ( e , t ) { if ( ! e ) throw new error ( `` all runtim object requir an agent identifi ! `` ) ; j [ e ] = ( 0 , i.d ) ( t , k ) ; const r= ( 0 , n.ek ) ( e ) ; r & & ( r.runtime=j [ e ] ) } function t ( e ) { return function ( e ) { tri { const t= ( e ) ; return ! ! t.licensekey & & ! ! t.errorbeacon & & ! ! t.applicationid } catch ( e ) { return ! 1 } } ( e ) } } ,9567 : ( e , t , r ) = > { `` use strict '' ; r.d ( t , { d : ( ) = > i } ) ; var n=r ( 50 ) ; function i ( e , t ) { tri { if ( ! e|| '' object '' ! =typeof e ) return ( 0 , n.z ) ( `` set a configur requir an object as input '' ) ; if ( ! t|| '' object '' ! =typeof t ) return ( 0 , n.z ) ( `` set a configur requir a model to set it initi properti '' ) ; const r=object.cr ( object.getprototypeof ( t ) , object.getownpropertydescriptor ( t ) ) , o=0===object.key ( r ) .length ? e : r ; for ( let a in o ) if ( void 0 ! ==e [ a ] ) tri { array.isarray ( e [ a ] ) & & array.isarray ( t [ a ] ) ? r [ a ] =array.from ( new set ( [ ... e [ a ] , ... t [ a ] ] ) ) : '' object '' ==typeof e [ a ] & & '' object '' ==typeof t [ a ] ? r [ a ] =i ( e [ a ] , t [ a ] ) : r [ a ] =e [ a ] } catch ( e ) { ( 0 , n.z ) ( `` an error occur while set a properti of a configur '' , e ) } return r } catch ( e ) { ( 0 , n.z ) ( `` an error occur while set a configur '' , e ) } } } ,6818 : ( e , t , r ) = > { `` use strict '' ; r.d ( t , { re : ( ) = > i , gf : ( ) = > o , q4 : ( ) = > n } ) ; const n= '' 1.251.1 '' , i= '' prod '' , o= '' cdn '' } ,385 : ( e , t , r ) = > { `` use strict '' ; r.d ( t , { nk : ( ) = > d , tt : ( ) = > s , _a : ( ) = > o , cv : ( ) = > l , is : ( ) = > a , il : ( ) = > n , ux : ( ) = > c , v6 : ( ) = > i , w1 : ( ) = > u } ) ; const n= '' undefin '' ! =typeof window & & ! ! window.docu , i= '' undefin '' ! =typeof workerglobalscop & & ( `` undefin '' ! =typeof self & & self instanceof workerglobalscop & & self.navig instanceof workernavigator|| '' undefin '' ! =typeof globalthi & & globalthi instanceof workerglobalscop & & globalthis.navig instanceof workernavig ) , o=n ? window : '' undefin '' ! =typeof workerglobalscop & & ( `` undefin '' ! =typeof self & & self instanceof workerglobalscop & & self|| '' undefin '' ! =typeof globalthi & & globalthi instanceof workerglobalscop & & globalthi ) , a=boolean ( `` hidden '' ===o ? .document ? .visibilityst ) , s=/ipad|iphone|ipod/.test ( o.navig ? .userag ) , c= & & '' undefin '' ==typeof sharedwork , u= ( ( ( ) = > { const e=o.navig ? .userag ? .match ( /firefox [ /\\ ] ( \\d+\\.\\d+ ) / ) ; array.isarray ( e ) & & e.length > =2 & & e [ 1 ] } ) ( ) , boolean ( n & & window.document.documentmod ) ) , d= ! ! o.navig ? .sendbeacon , l=math.floor ( o ? .perform ? .timeorigin||o ? .perform ? .time ? .navigationstart||date.now ( ) ) } ,1117 : ( e , t , r ) = > { `` use strict '' ; r.d ( t , { w : ( ) = > o } ) ; var n=r ( 50 ) ; const i= { agentidentifi : '' '' , ee : void 0 } ; class o { constructor ( e ) { tri { if ( `` object '' ! =typeof e ) return ( 0 , n.z ) ( `` share context requir an object as input '' ) ; this.sharedcontext= { } , object.assign ( this.sharedcontext , i ) , object.entri ( e ) .foreach ( ( e= > { let [ t , r ] =e ; object.key ( i ) .includ ( t ) & & ( this.sharedcontext [ t ] =r ) } ) ) } catch ( e ) { ( 0 , n.z ) ( `` an error occur while set sharedcontext '' , e ) } } } } ,8e3 : ( e , t , r ) = > { `` use strict '' ; r.d ( t , { l : ( ) = > d , r : ( ) = > c } ) ; var n=r ( 8325 ) , i=r ( 1284 ) , o=r ( 4322 ) , a=r ( 3325 ) ; const s= { } ; function c ( e , t ) { const r= { stage : ! 1 , prioriti : a.p [ t ] ||0 } ; u ( e ) , s [ e ] .get ( t ) || [ e ] .set ( t , r ) } function u ( e ) { e & & ( s [ e ] || ( s [ e ] =new map ) ) } function d ( ) { let e=arguments.length > 0 & & void 0 ! ==argument [ 0 ] ? argument [ 0 ] : '' '' , t=arguments.length > 1 & & void 0 ! ==argument [ 1 ] ? argument [ 1 ] : '' featur '' ; if ( u ( e ) , ! e|| ! s [ e ] .get ( t ) ) return a ( t ) ; s [ e ] .get ( t ) .staged= ! 0 ; const r= [ ... s [ e ] ] ; function a ( t ) { const r=e ? n.ee.get ( e ) : n.ee , a=o.x.handl ; if ( r.backlog & & a ) { var s=r.backlog [ t ] , c=a [ t ] ; if ( c ) { for ( var u=0 ; s & & u < s.length ; ++u ) l ( s [ u ] , c ) ; ( 0 , i.d ) ( c , ( function ( e , t ) { ( 0 , i.d ) ( t , ( function ( t , r ) { r [ 0 ] .on ( e , r [ 1 ] ) } ) ) } ) ) } delet a [ t ] , r.backlog [ t ] =null , r.emit ( `` drain- '' +t , [ ] ) } } r.everi ( ( e= > { let [ t , r ] =e ; return r.stage } ) ) & & ( r.sort ( ( ( e , t ) = > e [ 1 ] .priority-t [ 1 ] .prioriti ) ) , r.foreach ( ( t= > { let [ r ] =t ; s [ e ] .delet ( r ) , a ( r ) } ) ) ) } function l ( e , t ) { var r=e [ 1 ] ; ( 0 , i.d ) ( t [ r ] , ( function ( t , r ) { var n=e [ 0 ] ; if ( r [ 0 ] ===n ) { var i=r [ 1 ] , o=e [ 3 ] , a=e [ 2 ] ; i.appli ( o , a ) } } ) ) } } ,8325 : ( e , t , r ) = > { `` use strict '' ; r.d ( t , { a : ( ) = > c , ee : ( ) = > u } ) ; var n=r ( 8632 ) , i=r ( 2210 ) , o=r ( 234 ) ; class a { constructor ( e ) { this.contextid= } } var s=r ( 3117 ) ; const c= '' nr @ context : '' .concat ( s.a ) , u=funct e ( t , r ) { var n= { } , s= { } , d= { } , f= ! 1 ; tri { f=16===r.length & & ( 0 , o.op ) ( r ) .isolatedbacklog } catch ( e ) { } var g= { on : h , addeventlisten : h , removeeventlisten : function ( e , t ) { var r=n [ e ] ; if ( ! r ) return ; for ( var i=0 ; i < r.length ; i++ ) r [ i ] ===t & & r.splice ( i,1 ) } , emit : function ( e , r , n , i , o ) { ! 1 ! ==o & & ( o= ! 0 ) ; if ( u.abort & & ! i ) return ; t & & o & & t.emit ( e , r , n ) ; for ( var a=p ( n ) , c=v ( e ) , d=c.length , l=0 ; l < d ; l++ ) c [ l ] .appli ( a , r ) ; var f=b ( ) [ s [ e ] ] ; f & & f.push ( [ g , e , r , a ] ) ; return a } , get : m , listen : v , context : p , buffer : function ( e , t ) { const r=b ( ) ; if ( t=t|| '' featur '' , g.abort ) return ; object.entri ( e|| { } ) .foreach ( ( e= > { let [ n , i ] =e ; s [ i ] =t , t in r|| ( r [ t ] = [ ] ) } ) ) } , abort : l , abort : ! 1 , isbuff : function ( e ) { return ! ! b ( ) [ s [ e ] ] } , debugid : r , backlog : f ? { } : t & & '' object '' ==typeof t.backlog ? t.backlog : { } } ; return g ; function p ( e ) { return e & & e instanceof a ? e : e ? ( 0 , i.x ) ( e , c , ( ( ) = > new a ( c ) ) ) : new a ( c ) } function h ( e , t ) { n [ e ] =v ( e ) .concat ( t ) } function v ( e ) { return n [ e ] || [ ] } function m ( t ) { return d [ t ] =d [ t ] ||e ( g , t ) } function b ( ) { return g.backlog } } ( void 0 , '' globale '' ) , d= ( 0 , n.fp ) ( ) ; function l ( ) { u.aborted= ! 0 , u.backlog= { } } d.ee|| ( d.ee=u ) } ,5546 : ( e , t , r ) = > { `` use strict '' ; r.d ( t , { e : ( ) = > n , p : ( ) = > i } ) ; var n=r ( 8325 ) .ee.get ( `` handl '' ) ; function i ( e , t , r , i , o ) { o ? ( o.buff ( [ e ] , i ) , o.emit ( e , t , r ) ) : ( n.buffer ( [ e ] , i ) , n.emit ( e , t , r ) ) } } ,4322 : ( e , t , r ) = > { `` use strict '' ; r.d ( t , { x : ( ) = > o } ) ; var n=r ( 5546 ) ; o.on=a ; var i=o.handlers= { } ; function o ( e , t , r , o ) { a ( o||n. , i , e , t , r ) } function a ( e , t , r , i , o ) { o|| ( o= '' featur '' ) , e|| ( e=n. ) ; var a=t [ o ] =t [ o ] || { } ; ( a [ r ] =a [ r ] || [ ] ) .push ( [ e , i ] ) } } ,3239 : ( e , t , r ) = > { `` use strict '' ; r.d ( t , { bp : ( ) = > s , iz : ( ) = > c , m $ : ( ) = > a } ) ; var n=r ( 385 ) ; let i= ! 1 , o= ! 1 ; tri { const e= { get passiv ( ) { return i= ! 0 , ! 1 } , get signal ( ) { return o= ! 0 , ! 1 } } ; n._a.addeventlisten ( `` test '' , null , e ) , n._a.removeeventlisten ( `` test '' , null , e ) } catch ( e ) { } function a ( e , t ) { return i||o ? { captur : ! ! e , passiv : i , signal : t } : ! ! e } function s ( e , t ) { let r=arguments.length > 2 & & void 0 ! ==argument [ 2 ] & & argument [ 2 ] , n=arguments.length > 3 ? argument [ 3 ] : void 0 ; window.addeventlisten ( e , t , a ( r , n ) ) } function c ( e , t ) { let r=arguments.length > 2 & & void 0 ! ==argument [ 2 ] & & argument [ 2 ] , n=arguments.length > 3 ? argument [ 3 ] : void 0 ; document.addeventlisten ( e , t , a ( r , n ) ) } } ,3117 : ( e , t , r ) = > { `` use strict '' ; r.d ( t , { a : ( ) = > n } ) ; const n= ( 0 , r ( 4402 ) .rl ) ( ) } ,4402 : ( e , t , r ) = > { `` use strict '' ; r.d ( t , { rl : ( ) = > a , ky : ( ) = > s } ) ; var n=r ( 385 ) ; const i= '' xxxxxxxx-xxxx-4xxx-yxxx-xxxxxxxxxxxx '' ; function o ( e , t ) { return e ? 15 & e [ t ] :16 * math.random ( ) |0 } function a ( ) { const e=n._a ? .crypto||n._a ? .mscrypto ; let t , r=0 ; return e & & e.getrandomvalu & & ( t=e.getrandomvalu ( new uint8array ( 30 ) ) ) , i.split ( `` '' ) .map ( ( e= > '' x '' ===e ? o ( t , r++ ) .tostr ( 16 ) : '' y '' ===e ? ( 3 & o ( ) |8 ) .tostr ( 16 ) : e ) ) .join ( `` '' ) } function s ( e ) { const t=n._a ? .crypto||n._a ? .mscrypto ; let r , i=0 ; t & & t.getrandomvalu & & ( r=t.getrandomvalu ( new uint8array ( e ) ) ) ; const a= [ ] ; for ( var s=0 ; s < e ; s++ ) a.push ( o ( r , i++ ) .tostr ( 16 ) ) ; return a.join ( `` '' ) } } ,7056 : ( e , t , r ) = > { `` use strict '' ; r.d ( t , { bq : ( ) = > n , hb : ( ) = > o , ik : ( ) = > c , od : ( ) = > i , ut : ( ) = > s , wo : ( ) = > a } ) ; const n= '' nrba '' , i=144e5 , o=18e5 , a= { paus : '' session-paus '' , reset : '' session-reset '' , resum : '' session-resum '' , updat : '' session-upd '' } , s= { same_tab : '' same-tab '' , cross_tab : '' cross-tab '' } , c= { off:0 , full:1 , error:2 } } ,7894 : ( e , t , r ) = > { `` use strict '' ; function n ( ) { return math.round ( performance.now ( ) ) } r.d ( t , { z : ( ) = > n } ) } ,50 : ( e , t , r ) = > { `` use strict '' ; function n ( e , t ) { `` function '' ==typeof console.warn & & ( console.warn ( `` new relic : `` .concat ( e ) ) , t & & console.warn ( t ) ) } r.d ( t , { z : ( ) = > n } ) } ,2825 : ( e , t , r ) = > { `` use strict '' ; r.d ( t , { n : ( ) = > d , t : ( ) = > l } ) ; var n=r ( 8325 ) , i=r ( 5546 ) , o=r ( 3325 ) , a=r ( 385 ) ; const s= '' newrel '' ; const c= { stn : [ o.d.sessiontrac ] , err : [ o.d.jserror , o.d.metr ] , in : [ o.d.pageact ] , spa : [ o.d.spa ] , sr : [ o.d.sessionreplay , o.d.sessiontrac ] } , u=new set ; function d ( e , t ) { const r=n.ee.get ( t ) ; e & & '' object '' ==typeof e & & ( u.ha ( t ) || ( object.entri ( e ) .foreach ( ( e= > { let [ t , n ] =e ; c [ t ] ? c [ t ] .foreach ( ( e= > { n ? ( 0 , i.p ) ( `` feat- '' +t , [ ] , void 0 , e , r ) : ( 0 , i.p ) ( `` block- '' +t , [ ] , void 0 , e , r ) , ( 0 , i.p ) ( `` rumresp- '' +t , [ boolean ( n ) ] , void 0 , e , r ) } ) ) : n & & ( 0 , i.p ) ( `` feat- '' +t , [ ] , void 0 , void 0 , r ) , l [ t ] =boolean ( n ) } ) ) , object.key ( c ) .foreach ( ( e= > { void 0===l [ e ] & & ( c [ e ] ? .foreach ( ( t= > ( 0 , i.p ) ( `` rumresp- '' +e , [ ! 1 ] , void 0 , t , r ) ) ) , l [ e ] = ! 1 ) } ) ) , u.add ( t ) , function ( ) { let e=arguments.length > 0 & & void 0 ! ==argument [ 0 ] ? argument [ 0 ] : { } ; tri { a._a.dispatchev ( new customev ( s , { detail : e } ) ) } catch ( e ) { } } ( { load : ! 0 } ) ) ) } const l= { } } ,2210 : ( e , t , r ) = > { `` use strict '' ; r.d ( t , { x : ( ) = > i } ) ; var n=object.prototype.hasownproperti ; function i ( e , t , r ) { if ( n.call ( e , t ) ) return e [ t ] ; var i=r ( ) ; if ( object.defineproperti & & object.key ) tri { return object.defineproperti ( e , t , { valu : i , writabl : ! 0 , enumer : ! 1 } ) , i } catch ( e ) { } return e [ t ] =i , i } } ,1284 : ( e , t , r ) = > { `` use strict '' ; r.d ( t , { d : ( ) = > n } ) ; const n= ( e , t ) = > object.entri ( e|| { } ) .map ( ( e= > { let [ r , n ] =e ; return t ( r , n ) } ) ) } ,4351 : ( e , t , r ) = > { `` use strict '' ; r.d ( t , { p : ( ) = > o } ) ; var n=r ( 8325 ) ; const i= ( ) = > { const e=new weakset ; return ( t , r ) = > { if ( `` object '' ==typeof r & & null ! ==r ) { if ( e.ha ( r ) ) return ; e.add ( r ) } return r } } ; function o ( e ) { tri { return json.stringifi ( e , i ( ) ) } catch ( e ) { tri { n.ee.emit ( `` internal-error '' , [ e ] ) } catch ( e ) { } } } } ,3960 : ( e , t , r ) = > { `` use strict '' ; r.d ( t , { kb : ( ) = > a , b2 : ( ) = > o } ) ; var n=r ( 3239 ) ; function i ( ) { return '' undefin '' ==typeof document|| '' complet '' ===document.readyst } function o ( e , t ) { if ( i ( ) ) return e ( ) ; ( 0 , n.bp ) ( `` load '' , e , t ) } function a ( e ) { if ( i ( ) ) return e ( ) ; ( 0 , n.iz ) ( `` domcontentload '' , e ) } } ,8632 : ( e , t , r ) = > { `` use strict '' ; r.d ( t , { ez : ( ) = > d , ce : ( ) = > o , ek : ( ) = > u , fp : ( ) = > a , gg : ( ) = > l , h5 : ( ) = > c , mf : ( ) = > s } ) ; var n=r ( 7894 ) , i=r ( 385 ) ; const o= { beacon : '' bam.nr-data.net '' , errorbeacon : '' bam.nr-data.net '' } ; function a ( ) { return i._a.nreum|| ( i._a.nreum= { } ) , void 0===i._a.newrel & & ( i._a.newrelic=i._a.nreum ) , i._a.nreum } function s ( ) { let e=a ( ) ; return e.o|| ( e.o= { st : i._a.settimeout , si : i._a.setimmedi , ct : i._a.cleartimeout , xhr : i._a.xmlhttprequest , req : i._a.request , ev : i._a.ev , pr : i._a.promis , mo : i._a.mutationobserv , fetch : i._a.fetch } ) , e } function c ( e , t ) { let r=a ( ) ; r.initializedag ? ? = { } , t.initializedat= { ms : ( 0 , n.z ) ( ) , date : new date } , r.initializedag [ e ] =t } function u ( e ) { let t=a ( ) ; return t.initializedag ? . [ e ] } function d ( e , t ) { a ( ) [ e ] =t } function l ( ) { return function ( ) { let e=a ( ) ; const t=e.info|| { } ; e.info= { beacon : o.beacon , errorbeacon : o.errorbeacon , ... t } } ( ) , function ( ) { let e=a ( ) ; const t=e.init|| { } ; e.init= { ... t } } ( ) , s ( ) , function ( ) { let e=a ( ) ; const t=e.loader_config|| { } ; e.loader_config= { ... t } } ( ) , a ( ) } } ,7956 : ( e , t , r ) = > { `` use strict '' ; r.d ( t , { n : ( ) = > i } ) ; var n=r ( 3239 ) ; function i ( e ) { let t=arguments.length > 1 & & void 0 ! ==argument [ 1 ] & & argument [ 1 ] , r=arguments.length > 2 ? argument [ 2 ] : void 0 , i=arguments.length > 3 ? argument [ 3 ] : void 0 ; ( 0 , n.iz ) ( `` visibilitychang '' , ( function ( ) { if ( t ) return void ( `` hidden '' ===document.visibilityst & & e ( ) ) ; e ( document.visibilityst ) } ) , r , i ) } } ,3081 : ( e , t , r ) = > { `` use strict '' ; r.d ( t , { gf : ( ) = > o , my : ( ) = > i , t9 : ( ) = > n , vz : ( ) = > s , xs : ( ) = > a } ) ; const n=r ( 3325 ) .d.metric , i= '' sm '' , o= '' cm '' , a= '' storesupportabilitymetr '' , s= '' storeeventmetr '' } ,7633 : ( e , t , r ) = > { `` use strict '' ; r.d ( t , { t : ( ) = > n } ) ; const n=r ( 3325 ) .d.pageviewev } ,9251 : ( e , t , r ) = > { `` use strict '' ; r.d ( t , { t : ( ) = > n } ) ; const n=r ( 3325 ) .d.pageviewtim } ,5938 : ( e , t , r ) = > { `` use strict '' ; r.d ( t , { w : ( ) = > i } ) ; var n=r ( 8325 ) ; class i { constructor ( e , t , r ) { this.agentidentifier= , this.aggregator=t , this.ee=n.ee.get ( e ) , this.featurename=r , this.blocked= ! 1 } } } ,7530 : ( e , t , r ) = > { `` use strict '' ; r.d ( t , { j : ( ) = > b } ) ; var n=r ( 3325 ) , i=r ( 234 ) , o=r ( 5546 ) , a=r ( 8325 ) , s=r ( 7894 ) , c=r ( 8e3 ) , u=r ( 3960 ) , d=r ( 385 ) , l=r ( 50 ) , f=r ( 3081 ) , g=r ( 8632 ) ; function p ( ) { const e= ( 0 , g.gg ) ( ) ; [ `` seterrorhandl '' , '' finish '' , '' addtotrac '' , '' addreleas '' , '' addpageact '' , '' setcurrentroutenam '' , '' setpageviewnam '' , '' setcustomattribut '' , '' interact '' , '' noticeerror '' , '' setuserid '' , '' setapplicationvers '' , '' start '' , '' recordreplay '' , '' pausereplay '' ] .foreach ( ( t= > { e [ t ] =function ( ) { for ( var r=arguments.length , n=new array ( r ) , i=0 ; i < r ; i++ ) n [ i ] =argument [ i ] ; return function ( t ) { for ( var r=arguments.length , n=new array ( r > 1 ? r-1:0 ) , i=1 ; i < r ; i++ ) n [ i-1 ] =argument [ i ] ; let o= [ ] ; return object.valu ( e.initializedag ) .foreach ( ( e= > { e.expos & & e.api [ t ] & & o.push ( e.api [ t ] ( ... n ) ) } ) ) , o.length > 1 ? o : o [ 0 ] } ( t , ... n ) } } ) ) } var h=r ( 2825 ) ; const v=e= > { const t=e.startswith ( `` http '' ) ; e+= '' / '' , r.p=t ? e : '' http : // '' +e } ; let m= ! 1 ; function b ( e ) { let t=arguments.length > 1 & & void 0 ! ==argument [ 1 ] ? argument [ 1 ] : { } , b=arguments.length > 2 ? argument [ 2 ] : void 0 , y=arguments.length > 3 ? argument [ 3 ] : void 0 , { init : a , info : w , loader_config : _ , runtim : x= { loadertyp : b } , expos : e= ! 0 } =t ; const d= ( 0 , g.gg ) ( ) ; w|| ( a=d.init , w=d.info , _=d.loader_config ) , ( 0 , i.dg ) ( e.agentidentifi , a|| { } ) , ( 0 , i.g ) ( e.agentidentifi , _|| { } ) , w.jsattribut ? ? = { } , d.v6 & & ( w.jsattributes.isworker= ! 0 ) , ( 0 , i.cx ) ( e.agentidentifi , w ) ; const k= ( 0 , i.p_ ) ( e.agentidentifi ) , j= [ w.beacon , w.errorbeacon ] ; m|| ( k.proxy.asset & & ( v ( k.proxy.asset ) , j.push ( k.proxy.asset ) ) , k.proxy.beacon & & j.push ( k.proxy.beacon ) , p ( ) , ( 0 , g.ez ) ( `` activatedfeatur '' , h.t ) ) , x.denylist= [ ... k.ajax.deny_list|| [ ] , ... k.ajax.block_intern ? j : [ ] ] , ( 0 , i.su ) ( e.agentidentifi , x ) , void 0===e.api & & ( e.api=funct ( e , t ) { t|| ( 0 , c.r ) ( e , '' api '' ) ; const g= { } ; var p=a.ee.get ( e ) , h=p.get ( `` tracer '' ) , v= '' api- '' , m=v+ '' ixn- '' ; function b ( t , r , n , o ) { const a= ( 0 , i.c5 ) ( e ) ; return null===r ? delet a.jsattribut [ t ] : ( 0 , i.cx ) ( e , { ... a , jsattribut : { ... a.jsattribut , [ t ] : r } } ) , w ( v , n , ! 0 , o||null===r ? `` session '' : void 0 ) ( t , r ) } function y ( ) { } [ `` seterrorhandl '' , '' finish '' , '' addtotrac '' , '' addreleas '' ] .foreach ( ( e= > { g [ e ] =w ( v , e , ! 0 , '' api '' ) } ) ) , g.addpageaction=w ( v , '' addpageact '' , ! 0 , n.d.pageact ) , g.setcurrentroutename=w ( v , '' routenam '' , ! 0 , n.d.spa ) , g.setpageviewname=funct ( t , r ) { if ( `` string '' ==typeof t ) return '' / '' ! ==t.charat ( 0 ) & & ( t= '' / '' +t ) , ( 0 , i.op ) ( e ) .customtransaction= ( r|| '' http : //custom.transact '' ) +t , w ( v , '' setpageviewnam '' , ! 0 ) ( ) } , g.setcustomattribute=funct ( e , t ) { let r=arguments.length > 2 & & void 0 ! ==argument [ 2 ] & & argument [ 2 ] ; if ( `` string '' ==typeof e ) { if ( [ `` string '' , '' number '' , '' boolean '' ] .includ ( typeof t ) ||null===t ) return b ( e , t , '' setcustomattribut '' , r ) ; ( 0 , l.z ) ( `` fail to execut setcustomattribute.\\nnon-nul valu must be a string , number or boolean type , but a type of < `` .concat ( typeof t , '' > wa provid . `` ) ) } els ( 0 , l.z ) ( `` fail to execut setcustomattribute.\\nnam must be a string type , but a type of < `` .concat ( typeof e , '' > wa provid . `` ) ) } , g.setuserid=funct ( e ) { if ( `` string '' ==typeof e||null=== ) return b ( `` enduser.id '' , e , '' setuserid '' , ! 0 ) ; ( 0 , l.z ) ( `` fail to execut setuserid.\\nnon-nul valu must be a string type , but a type of < `` .concat ( typeof e , '' > wa provid . `` ) ) } , g.setapplicationversion=funct ( e ) { if ( `` string '' ==typeof e||null=== ) return b ( `` application.vers '' , e , '' setapplicationvers '' , ! 1 ) ; ( 0 , l.z ) ( `` fail to execut setapplicationvers . expect < string | null > , but got < `` .concat ( typeof e , '' > . `` ) ) } , g.start=e= > { tri { const t=e ? `` defin '' : '' undefin '' ; ( 0 , o.p ) ( f.x , [ `` api/start/ '' .concat ( t , '' /call '' ) ] , void 0 , n.d.metric , p ) ; const r=object.valu ( n.d ) ; if ( void 0===e ) e=r ; els { if ( ( e=array.isarray ( e ) & & e.length ? e : [ e ] ) .some ( ( e= > ! r.includ ( e ) ) ) ) return ( 0 , l.z ) ( `` invalid featur name suppli . accept featur name are : `` .concat ( r ) ) ; e.includ ( n.d.pageviewev ) ||e.push ( n.d.pageviewev ) } e.foreach ( ( e= > { p.emit ( `` '' .concat ( e , '' -opt-in '' ) ) } ) ) } catch ( e ) { ( 0 , l.z ) ( `` an unexpect issu occur '' , e ) } } , g.recordreplay=funct ( ) { ( 0 , o.p ) ( f.x , [ `` api/recordreplay/cal '' ] , void 0 , n.d.metric , p ) , ( 0 , o.p ) ( `` recordreplay '' , [ ] , void 0 , n.d.sessionreplay , p ) } , g.pausereplay=funct ( ) { ( 0 , o.p ) ( f.x , [ `` api/pausereplay/cal '' ] , void 0 , n.d.metric , p ) , ( 0 , o.p ) ( `` pausereplay '' , [ ] , void 0 , n.d.sessionreplay , p ) } , g.interaction=funct ( ) { return ( new y ) .get ( ) } ; var a=y.prototype= { createtrac : function ( e , t ) { var r= { } , i=thi , a= '' function '' ==typeof t ; return ( 0 , o.p ) ( f.x , [ `` api/createtracer/cal '' ] , void 0 , n.d.metric , p ) , ( 0 , o.p ) ( m+ '' tracer '' , [ ( 0 , s.z ) ( ) , e , r ] , i , n.d.spa , p ) , function ( ) { if ( h.emit ( ( a ? `` `` : '' no- '' ) + '' fn-start '' , [ ( 0 , s.z ) ( ) , i , a ] , r ) , a ) tri { return t.appli ( thi , argument ) } catch ( e ) { throw h.emit ( `` fn-err '' , [ argument , thi , e ] , r ) , e } final { h.emit ( `` fn-end '' , [ ( 0 , s.z ) ( ) ] , r ) } } } } ; function w ( e , t , r , i ) { return function ( ) { return ( 0 , o.p ) ( f.x , [ `` api/ '' +t+ '' /call '' ] , void 0 , n.d.metric , p ) , i & & ( 0 , o.p ) ( e+t , [ ( 0 , s.z ) ( ) , ... argument ] , r ? null : thi , i , p ) , r ? void 0 : thi } } function _ ( ) { r.e ( 75 ) .then ( r.bind ( r,7438 ) ) .then ( ( t= > { let { setapi : r } =t ; r ( e ) , ( 0 , c.l ) ( e , '' api '' ) } ) ) .catch ( ( ( ) = > ( 0 , l.z ) ( `` download runtim api fail ... '' ) ) ) } return [ `` actiontext '' , '' setnam '' , '' setattribut '' , '' save '' , '' ignor '' , '' onend '' , '' getcontext '' , '' end '' , '' get '' ] .foreach ( ( e= > { a [ e ] =w ( m , e , void 0 , n.d.spa ) } ) ) , g.noticeerror=funct ( e , t ) { `` string '' ==typeof e & & ( e=new error ( e ) ) , ( 0 , o.p ) ( f.x , [ `` api/noticeerror/cal '' ] , void 0 , n.d.metric , p ) , ( 0 , o.p ) ( `` err '' , [ e , ( 0 , s.z ) ( ) , ! 1 , t ] , void 0 , n.d.jserror , p ) } , d.il ? ( 0 , u.b2 ) ( ( ( ) = > _ ( ) ) , ! 0 ) : _ ( ) , g } ( e.agentidentifi , y ) ) , void 0===e.expos & & ( e.exposed= ) , m= ! 0 } } ,1926 : ( e , t , r ) = > { r.nc= ( ( ) = > { tri { return document ? .currentscript ? .nonc } catch ( e ) { } return '' '' } ) ( ) } ,3325 : ( e , t , r ) = > { `` use strict '' ; r.d ( t , { d : ( ) = > n , p : ( ) = > i } ) ; const n= { ajax : '' ajax '' , jserror : '' jserror '' , metric : '' metric '' , pageact : '' page_act '' , pageviewev : '' page_view_ev '' , pageviewtim : '' page_view_tim '' , sessionreplay : '' session_replay '' , sessiontrac : '' session_trac '' , spa : '' spa '' } , i= { [ n.pageviewev ] :1 , [ n.pageviewtim ] :2 , [ n.metric ] :3 , [ n.jserror ] :4 , [ n.ajax ] :5 , [ n.sessiontrac ] :6 , [ n.pageact ] :7 , [ n.spa ] :8 , [ n.sessionreplay ] :9 } } } , n= { } ; function i ( e ) { var t=n [ e ] ; if ( void 0 ! ==t ) return t.export ; var o=n [ e ] = { export : { } } ; return r [ e ] ( o , o.export , i ) , o.export } i.m=r , i.d= ( e , t ) = > { for ( var r in t ) i.o ( t , r ) & & ! i.o ( e , r ) & & object.defineproperti ( e , r , { enumer : ! 0 , get : t [ r ] } ) } , i.f= { } , i.e=e= > promise.al ( object.key ( i.f ) .reduc ( ( ( t , r ) = > ( i.f [ r ] ( e , t ) , t ) ) , [ ] ) ) , i.u=e= > '' nr-rum-1.251.1.min.j '' , i.o= ( e , t ) = > object.prototype.hasownproperty.cal ( e , t ) , e= { } , t= '' nrba-1.251.1.prod : '' , i.l= ( r , n , o , a ) = > { if ( e [ r ] ) e [ r ] .push ( n ) ; els { var s , c ; if ( void 0 ! ==o ) for ( var u=document.getelementsbytagnam ( `` script '' ) , d=0 ; d < u.length ; d++ ) { var l=u [ d ] ; if ( l.getattribut ( `` src '' ) ==r||l.getattribut ( `` data-webpack '' ) ==t+o ) { s=l ; break } } if ( ! s ) { c= ! 0 ; var f= { 75 : '' sha512-se+mgwtmnbdp/masclg+gogptkspcendd09loplwi8jtivcrtbubqgqwgsdaufr6fumrbsb2ccq/hk5nzdakmq== '' } ; ( s=document.createel ( `` script '' ) ) .charset= '' utf-8 '' , s.timeout=120 , i.nc & & s.setattribut ( `` nonc '' , i.nc ) , s.setattribut ( `` data-webpack '' , t+o ) , s.src=r,0 ! ==s.src.indexof ( window.location.origin+ '' / '' ) & & ( s.crossorigin= '' anonym '' ) , f [ a ] & & ( s.integrity=f [ a ] ) } e [ r ] = [ n ] ; var g= ( t , n ) = > { s.onerror=s.onload=nul , cleartimeout ( p ) ; var i=e [ r ] ; if ( delet e [ r ] , s.parentnod & & s.parentnode.removechild ( s ) , i & & i.foreach ( ( e= > e ( n ) ) ) , t ) return t ( n ) } , p=settimeout ( g.bind ( null , void 0 , { type : '' timeout '' , target : s } ) ,12e4 ) ; s.onerror=g.bind ( null , s.onerror ) , s.onload=g.bind ( null , s.onload ) , c & & document.head.appendchild ( s ) } } , i.r=e= > { `` undefin '' ! =typeof symbol & & symbol.tostringtag & & object.defineproperti ( e , symbol.tostringtag , { valu : '' modul '' } ) , object.defineproperti ( e , '' __esmodul '' , { valu : ! 0 } ) } , i.p= '' http : //js-agent.newrelic.com/ '' , ( ( ) = > { var e= { 50:0,832:0 } ; i.f.j= ( t , r ) = > { var n=i.o ( e , t ) ? e [ t ] : void 0 ; if ( 0 ! ==n ) if ( n ) r.push ( n [ 2 ] ) ; els { var o=new promis ( ( ( r , i ) = > n=e [ t ] = [ r , i ] ) ) ; r.push ( n [ 2 ] =o ) ; var a=i.p+i.u ( t ) , s=new error ; i.l ( a , ( r= > { if ( i.o ( e , t ) & & ( 0 ! == ( n=e [ t ] ) & & ( e [ t ] =void 0 ) , n ) ) { var o=r & & ( `` load '' ===r.type ? `` miss '' : r.type ) , a=r & & r.target & & r.target.src ; s.message= '' load chunk `` +t+ '' failed.\\n ( `` +o+ '' : `` +a+ '' ) '' , s.name= '' chunkloaderror '' , s.type=o , s.request=a , n [ 1 ] ( s ) } } ) , '' chunk- '' +t , t ) } } ; var t= ( t , r ) = > { var n , o , [ a , s , c ] =r , u=0 ; if ( a.som ( ( t= > 0 ! ==e [ t ] ) ) ) { for ( n in s ) i.o ( s , n ) & & ( i.m [ n ] =s [ n ] ) ; if ( c ) c ( i ) } for ( t & & t ( r ) ; u < a.length ; u++ ) o=a [ u ] , i.o ( e , o ) & & e [ o ] & & e [ o ] [ 0 ] ( ) , e [ o ] =0 } , r=self [ `` webpackchunk : nrba-1.251.1.prod '' ] =self [ `` webpackchunk : nrba-1.251.1.prod '' ] || [ ] ; r.foreach ( t.bind ( null,0 ) ) , r.push=t.bind ( null , r.push.bind ( r ) ) } ) ( ) , ( ( ) = > { `` use strict '' ; i ( 1926 ) ; var e=i ( 50 ) ; class t { # e ( t ) { for ( var r=arguments.length , n=new array ( r > 1 ? r-1:0 ) , i=1 ; i < r ; i++ ) n [ i-1 ] =argument [ i ] ; if ( `` function '' ==typeof this.api ? . [ t ] ) return this.api [ t ] ( ... n ) ; ( 0 , e.z ) ( `` call to agent api `` .concat ( t , '' fail . the api is not current initi . `` ) ) } addpageact ( e , t ) { return this. # e ( `` addpageact '' , e , t ) } setpageviewnam ( e , t ) { return this. # e ( `` setpageviewnam '' , e , t ) } setcustomattribut ( e , t , r ) { return this. # e ( `` setcustomattribut '' , e , t , r ) } noticeerror ( e , t ) { return this. # e ( `` noticeerror '' , e , t ) } setuserid ( e ) { return this. # e ( `` setuserid '' , e ) } setapplicationvers ( e ) { return this. # e ( `` setapplicationvers '' , e ) } seterrorhandl ( e ) { return this. # e ( `` seterrorhandl '' , e ) } finish ( e ) { return this. # e ( `` finish '' , e ) } addreleas ( e , t ) { return this. # e ( `` addreleas '' , e , t ) } start ( e ) { return this. # e ( `` start '' , e ) } recordreplay ( ) { return this. # e ( `` recordreplay '' ) } pausereplay ( ) { return this. # e ( `` pausereplay '' ) } addtotrac ( e ) { return this. # e ( `` addtotrac '' , e ) } setcurrentroutenam ( e ) { return this. # e ( `` setcurrentroutenam '' , e ) } interact ( ) { return this. # e ( `` interact '' ) } } var r=i ( 3325 ) , n=i ( 234 ) ; const o=object.valu ( r.d ) ; function a ( e ) { const t= { } ; return o.foreach ( ( r= > { t [ r ] =function ( e , t ) { return ! 1 ! == ( 0 , n.mt ) ( t , '' '' .concat ( e , '' .enabl '' ) ) } ( r , e ) } ) ) , t } var s=i ( 7530 ) ; var c=i ( 8e3 ) , u=i ( 5938 ) , d=i ( 3960 ) , l=i ( 385 ) ; class f extend u.w { constructor ( e , t , r ) { let i= ! ( arguments.length > 3 & & void 0 ! ==argument [ 3 ] ) ||argument [ 3 ] ; super ( e , t , r ) , this.auto=i , this.aborthandler=void 0 , this.feataggregate=void 0 , this.onaggregateimported=void 0 , ! 1=== ( 0 , n.mt ) ( this.agentidentifi , '' '' .concat ( this.featurenam , '' .autostart '' ) ) & & ( this.auto= ! 1 ) , this.auto & & ( 0 , c.r ) ( e , r ) } importaggreg ( ) { let t=arguments.length > 0 & & void 0 ! ==argument [ 0 ] ? argument [ 0 ] : { } ; if ( this.feataggreg ) return ; if ( ! this.auto ) return void this.ee.on ( `` '' .concat ( this.featurenam , '' -opt-in '' ) , ( ( ) = > { ( 0 , c.r ) ( this.agentidentifi , this.featurenam ) , this.auto= ! 0 , this.importaggreg ( ) } ) ) ; const r=l.il & & ! 0=== ( 0 , n.mt ) ( this.agentidentifi , '' privacy.cookies_en '' ) ; let o ; this.onaggregateimported=new promis ( ( e= > { o=e } ) ) ; const a=async ( ) = > { let n ; tri { if ( r ) { const { setupagentsess : e } =await i.e ( 75 ) .then ( i.bind ( i,957 ) ) ; n=e ( this.agentidentifi ) } } catch ( t ) { ( 0 , e.z ) ( `` a problem occur when start up session manag . thi page will not start or extend ani session . `` , t ) } tri { if ( ! this.shouldimportagg ( this.featurenam , n ) ) return ( 0 , c.l ) ( this.agentidentifi , this.featurenam ) , void o ( ! 1 ) ; const { lazyfeatureload : e } =await i.e ( 75 ) .then ( i.bind ( i,8582 ) ) , { aggreg : r } =await e ( this.featurenam , '' aggreg '' ) ; this.feataggregate=new r ( this.agentidentifi , this.aggreg , t ) , o ( ! 0 ) } catch ( t ) { ( 0 , e.z ) ( `` download and initi `` .concat ( this.featurenam , '' fail ... '' ) , t ) , this.aborthandl ? . ( ) , ( 0 , c.l ) ( this.agentidentifi , this.featurenam ) , o ( ! 1 ) } } ; l.il ? ( 0 , d.b2 ) ( ( ( ) = > a ( ) ) , ! 0 ) : a ( ) } shouldimportagg ( e , t ) { return e ! ==r.d.sessionreplay|| ! ! n.yu.mo & & ( ! 1 ! == ( 0 , n.mt ) ( this.agentidentifi , '' session_trace.en '' ) & & ( ! ! t ? .isnew|| ! ! t ? .state.sessionreplaymod ) ) } } var g=i ( 7633 ) ; class p extend f { static featurename=g.t ; constructor ( e , t ) { let r= ! ( arguments.length > 2 & & void 0 ! ==argument [ 2 ] ) ||argument [ 2 ] ; super ( e , t , g.t , r ) , this.importaggreg ( ) } } var h=i ( 1117 ) , v=i ( 1284 ) ; class m extend h.w { constructor ( e ) { super ( e ) , this.aggregateddata= { } } store ( e , t , r , n , i ) { var o=this.getbucket ( e , t , r , i ) ; return o.metrics=funct ( e , t ) { t|| ( t= { count:0 } ) ; return t.count+=1 , ( 0 , v.d ) ( e , ( function ( e , r ) { t [ e ] =b ( r , t [ e ] ) } ) ) , t } ( n , o.metr ) , o } merg ( e , t , r , n , i ) { var o=this.getbucket ( e , t , n , i ) ; if ( o.metr ) { var a=o.metr ; a.count+=r.count , ( 0 , v.d ) ( r , ( function ( e , t ) { if ( `` count '' ! ==e ) { var n=a [ e ] , i=r [ e ] ; i & & ! i.c ? a [ e ] =b ( i.t , n ) : a [ e ] =function ( e , t ) { if ( ! t ) return e ; t.c|| ( t=i ( t.t ) ) ; return t.min=math.min ( e.min , t.min ) , t.max=math.max ( e.max , t.max ) , t.t+=e.t , t.sos+=e.so , t.c+=e.c , t } ( i , a [ e ] ) } } ) ) } els o.metrics=r } storemetr ( e , t , r , n ) { var i=this.getbucket ( e , t , r ) ; return i.stats=b ( n , i.stat ) , i } getbucket ( e , t , r , n ) { this.aggregateddata [ e ] || ( this.aggregateddata [ e ] = { } ) ; var i=this.aggregateddata [ e ] [ t ] ; return i|| ( i=this.aggregateddata [ e ] [ t ] = { param : r|| { } } , n & & ( i.custom=n ) ) , i } get ( e , t ) { return t ? this.aggregateddata [ e ] & & this.aggregateddata [ e ] [ t ] : this.aggregateddata [ e ] } take ( e ) { for ( var t= { } , r= '' '' , n= ! 1 , i=0 ; i < e.length ; i++ ) t [ r=e [ i ] ] =a ( this.aggregateddata [ r ] ) , t [ r ] .length & & ( n= ! 0 ) , delet this.aggregateddata [ r ] ; return n ? t : null } } function b ( e , t ) { return null== ? function ( e ) { e ? e.c++ : e= { c:1 } ; return e } ( t ) : t ? ( t.c|| ( t=i ( t.t ) ) , t.c+=1 , t.t+=e , t.sos+= * e , e > t.max & & ( t.max= ) , e < t.min & & ( t.min= ) , t ) : { t : e } } function y ( e ) { return { t : e , min : e , max : e , so : e * e , c:1 } } function a ( e ) { return '' object '' ! =typeof e ? [ ] : ( 0 , v.d ) ( e , w ) } function w ( e , t ) { return t } var _=i ( 8632 ) , x=i ( 4402 ) , e=i ( 4351 ) ; var d=i ( 5546 ) , k=i ( 7956 ) , j=i ( 3239 ) , s=i ( 7894 ) , r=i ( 9251 ) ; class t extend f { static featurename=r.t ; constructor ( e , t ) { let r= ! ( arguments.length > 2 & & void 0 ! ==argument [ 2 ] ) ||argument [ 2 ] ; super ( e , t , r.t , r ) , l.il & & ( ( 0 , k.n ) ( ( ( ) = > ( 0 , d.p ) ( `` dochidden '' , [ ( 0 , s.z ) ( ) ] , void 0 , r.t , this.e ) ) , ! 0 ) , ( 0 , j.bp ) ( `` pagehid '' , ( ( ) = > ( 0 , d.p ) ( `` winpagehid '' , [ ( 0 , s.z ) ( ) ] , void 0 , r.t , this.e ) ) ) , this.importaggreg ( ) ) } } var i=i ( 3081 ) ; class p extend f { static featurename=i.t9 ; constructor ( e , t ) { let r= ! ( arguments.length > 2 & & void 0 ! ==argument [ 2 ] ) ||argument [ 2 ] ; super ( e , t , i.t9 , r ) , this.importaggreg ( ) } } new class extend t { constructor ( t ) { let r=arguments.length > 1 & & void 0 ! ==argument [ 1 ] ? argument [ 1 ] : ( 0 , x.ki ) ( 16 ) ; super ( ) , l._a ? ( this.agentidentifier=r , this.sharedaggregator=new m ( { agentidentifi : this.agentidentifi } ) , this.features= { } , ( 0 , _.h5 ) ( r , thi ) , this.desiredfeatures=new set ( t.features|| [ ] ) , this.desiredfeatures.add ( p ) , ( 0 , s.j ) ( thi , t , t.loadertype|| '' agent '' ) , this.run ( ) ) : ( 0 , e.z ) ( `` fail to initi the agent . could not determin the runtim environ . `` ) } get config ( ) { return { info : ( 0 , n.c5 ) ( this.agentidentifi ) , init : ( 0 , n.p_ ) ( this.agentidentifi ) , loader_config : ( 0 , n.dl ) ( this.agentidentifi ) , runtim : ( 0 , n.op ) ( this.agentidentifi ) } } run ( ) { tri { const t=a ( this.agentidentifi ) , n= [ ... this.desiredfeatur ] ; n.sort ( ( ( e , t ) = > r.p [ e.featurenam ] -r.p [ t.featurenam ] ) ) , n.foreach ( ( n= > { if ( t [ n.featurenam ] ||n.featurename===r.d.pageviewev ) { const i=funct ( e ) { switch ( e ) { case r.d.ajax : return [ r.d.jserror ] ; case r.d.sessiontrac : return [ r.d.ajax , r.d.pageviewev ] ; case r.d.sessionreplay : return [ r.d.sessiontrac ] ; case r.d.pageviewtim : return [ r.d.pageviewev ] ; default : return [ ] } } ( n.featurenam ) ; i.everi ( ( e= > t [ e ] ) ) || ( 0 , e.z ) ( `` '' .concat ( n.featurenam , '' is enabl but one or more depend featur ha been disabl ( `` ) .concat ( ( 0 , e.p ) ( i ) , '' ) . thi may caus unintend consequ or miss data ... '' ) ) , this.featur [ n.featurenam ] =new n ( this.agentidentifi , this.sharedaggreg ) } } ) ) } catch ( t ) { ( 0 , e.z ) ( `` fail to initi all enabl instrument class ( agent abort ) - '' , t ) ; for ( const e in this.featur ) this.featur [ e ] .aborthandl ? . ( ) ; const r= ( 0 , _.fp ) ( ) ; return delet r.initializedag [ this.agentidentifi ] ? .api , delet r.initializedag [ this.agentidentifi ] ? .featur , delet this.sharedaggreg , r.ee ? .abort ( ) , delet r.ee ? .get ( this.agentidentifi ) , ! 1 } } } ( { featur : [ p , t , p ] , loadertyp : '' lite '' } ) } ) ( ) } ) ( ) ; < /script > < script > ( function ( i , s , o , g , r , a , m ) { i [ `` googleanalyticsobject '' ] =r ; i [ r ] =i [ r ] ||function ( ) { ( i [ r ] .q=i [ r ] .q|| [ ] ) .push ( argument ) } , i [ r ] .l=1 * new date ( ) ; a=s.createel ( o ) , m=s.getelementsbytagnam ( o ) [ 0 ] ; a.async=1 ; a.src=g ; m.parentnode.insertbefor ( a , m ) } ) ( window , document , '' script '' , '' http : //www.google-analytics.com/analytics.j '' , '' ga '' ) ; ga ( `` creat '' , `` ua-5382944-3 '' , { `` cookiedomain '' : '' auto '' } ) ; ga ( `` set '' , `` anonymizeip '' , true ) ; ga ( `` send '' , `` pageview '' ) ; < /script > < meta name= '' gener '' content= '' drupal 9 ( http : //www.drupal.org ) '' > < meta name= '' mobileoptim '' content= '' width '' > < meta name= '' handheldfriendli '' content= '' true '' > < meta name= '' viewport '' content= '' width=device-width , initial-scale=1.0 '' > < style type= '' text/css '' > svg : not ( : root ) .svg-inlin -- fa { overflow : visibl ; } .svg-inlin -- fa { display : inline-block ; font-siz : inherit ; height : 1em ; overflow : visibl ; vertical-align : -0.125em ; } .svg-inlin -- fa.fa-lg { vertical-align : -0.225em ; } .svg-inlin -- fa.fa-w-1 { width : 0.0625em ; } .svg-inlin -- fa.fa-w-2 { width : 0.125em ; } .svg-inlin -- fa.fa-w-3 { width : 0.1875em ; } .svg-inlin -- fa.fa-w-4 { width : 0.25em ; } .svg-inlin -- fa.fa-w-5 { width : 0.3125em ; } .svg-inlin -- fa.fa-w-6 { width : 0.375em ; } .svg-inlin -- fa.fa-w-7 { width : 0.4375em ; } .svg-inlin -- fa.fa-w-8 { width : 0.5em ; } .svg-inlin -- fa.fa-w-9 { width : 0.5625em ; } .svg-inlin -- fa.fa-w-10 { width : 0.625em ; } .svg-inlin -- fa.fa-w-11 { width : 0.6875em ; } .svg-inlin -- fa.fa-w-12 { width : 0.75em ; } .svg-inlin -- fa.fa-w-13 { width : 0.8125em ; } .svg-inlin -- fa.fa-w-14 { width : 0.875em ; } .svg-inlin -- fa.fa-w-15 { width : 0.9375em ; } .svg-inlin -- fa.fa-w-16 { width : 1em ; } .svg-inlin -- fa.fa-w-17 { width : 1.0625em ; } .svg-inlin -- fa.fa-w-18 { width : 1.125em ; } .svg-inlin -- fa.fa-w-19 { width : 1.1875em ; } .svg-inlin -- fa.fa-w-20 { width : 1.25em ; } .svg-inlin -- fa.fa-pull-left { margin-right : 0.3em ; width : auto ; } .svg-inlin -- fa.fa-pull-right { margin-left : 0.3em ; width : auto ; } .svg-inlin -- fa.fa-bord { height : 1.5em ; } .svg-inlin -- fa.fa-li { width : 2em ; } .svg-inlin -- fa.fa-fw { width : 1.25em ; } .fa-lay svg.svg-inlin -- fa { bottom : 0 ; left : 0 ; margin : auto ; posit : absolut ; right : 0 ; top : 0 ; } .fa-lay { display : inline-block ; height : 1em ; posit : rel ; text-align : center ; vertical-align : -0.125em ; width : 1em ; } .fa-lay svg.svg-inlin -- fa { -webkit-transform-origin : center center ; transform-origin : center center ; } .fa-layers-count , .fa-layers-text { display : inline-block ; posit : absolut ; text-align : center ; } .fa-layers-text { left : 50 % ; top : 50 % ; -webkit-transform : translat ( -50 % , -50 % ) ; transform : translat ( -50 % , -50 % ) ; -webkit-transform-origin : center center ; transform-origin : center center ; } .fa-layers-count { background-color : # ff253a ; border-radiu : 1em ; -webkit-box-s : border-box ; box-siz : border-box ; color : # fff ; height : 1.5em ; line-height : 1 ; max-width : 5em ; min-width : 1.5em ; overflow : hidden ; pad : 0.25em ; right : 0 ; text-overflow : ellipsi ; top : 0 ; -webkit-transform : scale ( 0.25 ) ; transform : scale ( 0.25 ) ; -webkit-transform-origin : top right ; transform-origin : top right ; } .fa-layers-bottom-right { bottom : 0 ; right : 0 ; top : auto ; -webkit-transform : scale ( 0.25 ) ; transform : scale ( 0.25 ) ; -webkit-transform-origin : bottom right ; transform-origin : bottom right ; } .fa-layers-bottom-left { bottom : 0 ; left : 0 ; right : auto ; top : auto ; -webkit-transform : scale ( 0.25 ) ; transform : scale ( 0.25 ) ; -webkit-transform-origin : bottom left ; transform-origin : bottom left ; } .fa-layers-top-right { right : 0 ; top : 0 ; -webkit-transform : scale ( 0.25 ) ; transform : scale ( 0.25 ) ; -webkit-transform-origin : top right ; transform-origin : top right ; } .fa-layers-top-left { left : 0 ; right : auto ; top : 0 ; -webkit-transform : scale ( 0.25 ) ; transform : scale ( 0.25 ) ; -webkit-transform-origin : top left ; transform-origin : top left ; } .fa-lg { font-siz : 1.3333333333em ; line-height : 0.75em ; vertical-align : -0.0667em ; } .fa-x { font-siz : 0.75em ; } .fa-sm { font-siz : 0.875em ; } .fa-1x { font-siz : 1em ; } .fa-2x { font-siz : 2em ; } .fa-3x { font-siz : 3em ; } .fa-4x { font-siz : 4em ; } .fa-5x { font-siz : 5em ; } .fa-6x { font-siz : 6em ; } .fa-7x { font-siz : 7em ; } .fa-8x { font-siz : 8em ; } .fa-9x { font-siz : 9em ; } .fa-10x { font-siz : 10em ; } .fa-fw { text-align : center ; width : 1.25em ; } .fa-ul { list-style-typ : none ; margin-left : 2.5em ; padding-left : 0 ; } .fa-ul > li { posit : rel ; } .fa-li { left : -2em ; posit : absolut ; text-align : center ; width : 2em ; line-height : inherit ; } .fa-bord { border : solid 0.08em # eee ; border-radiu : 0.1em ; pad : 0.2em 0.25em 0.15em ; } .fa-pull-left { float : left ; } .fa-pull-right { float : right ; } .fa.fa-pull-left , .fas.fa-pull-left , .far.fa-pull-left , .fal.fa-pull-left , .fab.fa-pull-left { margin-right : 0.3em ; } .fa.fa-pull-right , .fas.fa-pull-right , .far.fa-pull-right , .fal.fa-pull-right , .fab.fa-pull-right { margin-left : 0.3em ; } .fa-spin { -webkit-anim : fa-spin 2s infinit linear ; anim : fa-spin 2s infinit linear ; } .fa-puls { -webkit-anim : fa-spin 1s infinit step ( 8 ) ; anim : fa-spin 1s infinit step ( 8 ) ; } @ -webkit-keyfram fa-spin { 0 % { -webkit-transform : rotat ( 0deg ) ; transform : rotat ( 0deg ) ; } 100 % { -webkit-transform : rotat ( 360deg ) ; transform : rotat ( 360deg ) ; } } @ keyfram fa-spin { 0 % { -webkit-transform : rotat ( 0deg ) ; transform : rotat ( 0deg ) ; } 100 % { -webkit-transform : rotat ( 360deg ) ; transform : rotat ( 360deg ) ; } } .fa-rotate-90 { -ms-filter : `` progid : dximagetransform.microsoft.basicimag ( rotation=1 ) '' ; -webkit-transform : rotat ( 90deg ) ; transform : rotat ( 90deg ) ; } .fa-rotate-180 { -ms-filter : `` progid : dximagetransform.microsoft.basicimag ( rotation=2 ) '' ; -webkit-transform : rotat ( 180deg ) ; transform : rotat ( 180deg ) ; } .fa-rotate-270 { -ms-filter : `` progid : dximagetransform.microsoft.basicimag ( rotation=3 ) '' ; -webkit-transform : rotat ( 270deg ) ; transform : rotat ( 270deg ) ; } .fa-flip-horizont { -ms-filter : `` progid : dximagetransform.microsoft.basicimag ( rotation=0 , mirror=1 ) '' ; -webkit-transform : scale ( -1 , 1 ) ; transform : scale ( -1 , 1 ) ; } .fa-flip-vert { -ms-filter : `` progid : dximagetransform.microsoft.basicimag ( rotation=2 , mirror=1 ) '' ; -webkit-transform : scale ( 1 , -1 ) ; transform : scale ( 1 , -1 ) ; } .fa-flip-both , .fa-flip-horizontal.fa-flip-vert { -ms-filter : `` progid : dximagetransform.microsoft.basicimag ( rotation=2 , mirror=1 ) '' ; -webkit-transform : scale ( -1 , -1 ) ; transform : scale ( -1 , -1 ) ; } : root .fa-rotate-90 , : root .fa-rotate-180 , : root .fa-rotate-270 , : root .fa-flip-horizont , : root .fa-flip-vert , : root .fa-flip-both { -webkit-filt : none ; filter : none ; } .fa-stack { display : inline-block ; height : 2em ; posit : rel ; width : 2.5em ; } .fa-stack-1x , .fa-stack-2x { bottom : 0 ; left : 0 ; margin : auto ; posit : absolut ; right : 0 ; top : 0 ; } .svg-inlin -- fa.fa-stack-1x { height : 1em ; width : 1.25em ; } .svg-inlin -- fa.fa-stack-2x { height : 2em ; width : 2.5em ; } .fa-invers { color : # fff ; } .sr-onli { border : 0 ; clip : rect ( 0 , 0 , 0 , 0 ) ; height : 1px ; margin : -1px ; overflow : hidden ; pad : 0 ; posit : absolut ; width : 1px ; } .sr-only-focus : activ , .sr-only-focus : focu { clip : auto ; height : auto ; margin : 0 ; overflow : visibl ; posit : static ; width : auto ; } .svg-inlin -- fa .fa-primari { fill : var ( -- fa-primary-color , currentcolor ) ; opac : 1 ; opac : var ( -- fa-primary-opac , 1 ) ; } .svg-inlin -- fa .fa-secondari { fill : var ( -- fa-secondary-color , currentcolor ) ; opac : 0.4 ; opac : var ( -- fa-secondary-opac , 0.4 ) ; } .svg-inlin -- fa.fa-swap-opac .fa-primari { opac : 0.4 ; opac : var ( -- fa-secondary-opac , 0.4 ) ; } .svg-inlin -- fa.fa-swap-opac .fa-secondari { opac : 1 ; opac : var ( -- fa-primary-opac , 1 ) ; } .svg-inlin -- fa mask .fa-primari , .svg-inlin -- fa mask .fa-secondari { fill : black ; } .fad.fa-invers { color : # fff ; } < /style > < link rel= '' icon '' href= '' /themes/custom/csail/images/favicon.ico '' type= '' image/vnd.microsoft.icon '' > < link rel= '' canon '' href= '' http : //www.csail.mit.edu/peopl '' > < link rel= '' shortlink '' href= '' http : //www.csail.mit.edu/node/9844 '' > < titl > peopl | mit csail < /titl > < link rel= '' stylesheet '' media= '' all '' href= '' /sites/default/files/css/css_j2dqcpr57tj2pmdri-u_szogutxtwzysugxbbrexzoi.css '' > < link rel= '' stylesheet '' media= '' all '' href= '' /sites/default/files/css/css_sjdodlnp3jfketm2qnp1cdobgdu9q32wd5oq8gzz418.css '' > < link rel= '' stylesheet '' media= '' print '' href= '' /sites/default/files/css/css_bxopm60js0t5tqhtosvx2eqxczarisu4kflvxy0wqaw.css '' > < style id= '' fit-vids-styl '' > .fluid-width-video-wrapp { width:100 % ; posit : rel ; padding:0 ; } .fluid-width-video-wrapp ifram , .fluid-width-video-wrapp object , .fluid-width-video-wrapp emb { posit : absolut ; top:0 ; left:0 ; width:100 % ; height:100 % ; } < /style > < style > < /style > < style > @ font-fac { font-famili : basis-grotesque-bold ; src : url ( http : //www.csail.mit.edu/themes/custom/csail/fonts/basis-grotesque-bold/basis-grotesque-bold.eot ) ; src : url ( http : //www.csail.mit.edu/themes/custom/csail/fonts/basis-grotesque-bold/basis-grotesque-bold.eot # iefix ) format ( `` embedded-opentyp '' ) , url ( http : //www.csail.mit.edu/themes/custom/csail/fonts/basis-grotesque-bold/basis-grotesque-bold.woff ) format ( `` woff '' ) , url ( http : //www.csail.mit.edu/themes/custom/csail/fonts/basis-grotesque-bold/basis-grotesque-bold.woff2 ) format ( `` woff2 '' ) , url ( http : //www.csail.mit.edu/themes/custom/csail/fonts/basis-grotesque-bold/basis-grotesque-bold.ttf ) format ( `` truetyp '' ) ; font-weight:700 ; font-styl : normal ; font-vari : normal ; line-height:1 ; speak : none ; text-rend : optimizeleg ; text-transform : none ; -webkit-font-smooth : antialias ; -moz-osx-font-smooth : grayscal } @ font-fac { font-famili : basis-grotesque-medium ; src : url ( http : //www.csail.mit.edu/themes/custom/csail/fonts/basis-grotesque-medium/basis-grotesque-medium.eot ) ; src : url ( http : //www.csail.mit.edu/themes/custom/csail/fonts/basis-grotesque-medium/basis-grotesque-medium.eot # iefix ) format ( `` embedded-opentyp '' ) , url ( http : //www.csail.mit.edu/themes/custom/csail/fonts/basis-grotesque-medium/basis-grotesque-medium.woff ) format ( `` woff '' ) , url ( http : //www.csail.mit.edu/themes/custom/csail/fonts/basis-grotesque-medium/basis-grotesque-medium.woff2 ) format ( `` woff2 '' ) , url ( http : //www.csail.mit.edu/themes/custom/csail/fonts/basis-grotesque-medium/basis-grotesque-medium.ttf ) format ( `` truetyp '' ) ; font-weight:400 ; font-styl : normal ; font-vari : normal ; line-height:1 ; speak : none ; text-rend : optimizeleg ; text-transform : none ; -webkit-font-smooth : antialias ; -moz-osx-font-smooth : grayscal } @ font-fac { font-famili : basis-grotesque-monobold ; src : url ( http : //www.csail.mit.edu/themes/custom/csail/fonts/basis-grotesque-monobold/basis-grotesque-monobold.eot ) ; src : url ( http : //www.csail.mit.edu/themes/custom/csail/fonts/basis-grotesque-monobold/basis-grotesque-monobold.eot # iefix ) format ( `` embedded-opentyp '' ) , url ( http : //www.csail.mit.edu/themes/custom/csail/fonts/basis-grotesque-monobold/basis-grotesque-monobold.woff ) format ( `` woff '' ) , url ( http : //www.csail.mit.edu/themes/custom/csail/fonts/basis-grotesque-monobold/basis-grotesque-monobold.woff2 ) format ( `` woff2 '' ) , url ( http : //www.csail.mit.edu/themes/custom/csail/fonts/basis-grotesque-monobold/basis-grotesque-monobold.ttf ) format ( `` truetyp '' ) ; font-weight:400 ; font-styl : normal ; font-vari : normal ; line-height:1 ; speak : none ; text-rend : optimizeleg ; text-transform : none ; -webkit-font-smooth : antialias ; -moz-osx-font-smooth : grayscal } @ font-fac { font-famili : basis-grotesque-off-whit ; src : url ( http : //www.csail.mit.edu/themes/custom/csail/fonts/basis-grotesque-off-white/basis-grotesque-off-white.eot ) ; src : url ( http : //www.csail.mit.edu/themes/custom/csail/fonts/basis-grotesque-off-white/basis-grotesque-off-white.eot # iefix ) format ( `` embedded-opentyp '' ) , url ( http : //www.csail.mit.edu/themes/custom/csail/fonts/basis-grotesque-off-white/basis-grotesque-off-white.woff ) format ( `` woff '' ) , url ( http : //www.csail.mit.edu/themes/custom/csail/fonts/basis-grotesque-off-white/basis-grotesque-off-white.woff2 ) format ( `` woff2 '' ) , url ( http : //www.csail.mit.edu/themes/custom/csail/fonts/basis-grotesque-off-white/basis-grotesque-off-white.ttf ) format ( `` truetyp '' ) ; font-weight:400 ; font-styl : normal ; font-vari : normal ; line-height:1 ; speak : none ; text-rend : optimizeleg ; text-transform : none ; -webkit-font-smooth : antialias ; -moz-osx-font-smooth : grayscal } @ font-fac { font-famili : basis-grotesque-regular ; src : url ( http : //www.csail.mit.edu/themes/custom/csail/fonts/basis-grotesque-regular/basis-grotesque-regular.eot ) ; src : url ( http : //www.csail.mit.edu/themes/custom/csail/fonts/basis-grotesque-regular/basis-grotesque-regular.eot # iefix ) format ( `` embedded-opentyp '' ) , url ( http : //www.csail.mit.edu/themes/custom/csail/fonts/basis-grotesque-regular/basis-grotesque-regular.woff ) format ( `` woff '' ) , url ( http : //www.csail.mit.edu/themes/custom/csail/fonts/basis-grotesque-regular/basis-grotesque-regular.woff2 ) format ( `` woff2 '' ) , url ( http : //www.csail.mit.edu/themes/custom/csail/fonts/basis-grotesque-regular/basis-grotesque-regular.ttf ) format ( `` truetyp '' ) ; font-weight:400 ; font-styl : normal ; font-vari : normal ; line-height:1 ; speak : none ; text-rend : optimizeleg ; text-transform : none ; -webkit-font-smooth : antialias ; -moz-osx-font-smooth : grayscal } @ font-fac { font-famili : csail-ebony-bold ; src : url ( http : //www.csail.mit.edu/themes/custom/csail/fonts/csail_ebony/csail_ebony-bold.eot ) ; src : url ( http : //www.csail.mit.edu/themes/custom/csail/fonts/csail_ebony/csail_ebony-bold.eot # iefix ) format ( `` embedded-opentyp '' ) , url ( http : //www.csail.mit.edu/themes/custom/csail/fonts/csail_ebony/csail_ebony-bold.woff ) format ( `` woff '' ) , url ( http : //www.csail.mit.edu/themes/custom/csail/fonts/csail_ebony/csail_ebony-bold.woff2 ) format ( `` woff2 '' ) ; font-weight:400 ; font-styl : normal ; font-vari : normal ; line-height:1 ; speak : none ; text-rend : optimizeleg ; text-transform : none ; -webkit-font-smooth : antialias ; -moz-osx-font-smooth : grayscal } @ font-fac { font-famili : csail-ebony-regular ; src : url ( http : //www.csail.mit.edu/themes/custom/csail/fonts/csail_ebony/csail_ebony-regular.eot ) ; src : url ( http : //www.csail.mit.edu/themes/custom/csail/fonts/csail_ebony/csail_ebony-regular.eot # iefix ) format ( `` embedded-opentyp '' ) , url ( http : //www.csail.mit.edu/themes/custom/csail/fonts/csail_ebony/csail_ebony-regular.woff ) format ( `` woff '' ) , url ( http : //www.csail.mit.edu/themes/custom/csail/fonts/csail_ebony/csail_ebony-regular.woff2 ) format ( `` woff2 '' ) ; font-weight:400 ; font-styl : normal ; font-vari : normal ; line-height:1 ; speak : none ; text-rend : optimizeleg ; text-transform : none ; -webkit-font-smooth : antialias ; -moz-osx-font-smooth : grayscal } @ font-fac { font-famili : csail-ebony-light ; src : url ( http : //www.csail.mit.edu/themes/custom/csail/fonts/csail_ebony/csail_ebony-light.eot ) ; src : url ( http : //www.csail.mit.edu/themes/custom/csail/fonts/csail_ebony/csail_ebony-light.eot # iefix ) format ( `` embedded-opentyp '' ) , url ( http : //www.csail.mit.edu/themes/custom/csail/fonts/csail_ebony/csail_ebony-light.woff ) format ( `` woff '' ) , url ( http : //www.csail.mit.edu/themes/custom/csail/fonts/csail_ebony/csail_ebony-light.woff2 ) format ( `` woff2 '' ) ; font-weight:400 ; font-styl : normal ; font-vari : normal ; line-height:1 ; speak : none ; text-rend : optimizeleg ; text-transform : none ; -webkit-font-smooth : antialias ; -moz-osx-font-smooth : grayscal } .cs-people__contain [ _ngcontent-odc-c48 ] { width:100 % ; padding:35px 101px 101px ; background-color : # ececec ; box-shadow : inset 10px 0 8px -4px hsla ( 0,0 % ,40 % , .45 ) } @ media screen and ( max-width : 599px ) { .cs-people__contain [ _ngcontent-odc-c48 ] { border-top:2px solid # 000 ; padding:35px 7px 0 } } .cs-people__main [ _ngcontent-odc-c48 ] { border-top:2px solid # 000 } @ media screen and ( max-width : 599px ) { .cs-people__main [ _ngcontent-odc-c48 ] { border-top : none } } .cs-people__filters__facet [ _ngcontent-odc-c48 ] { padding-top:30px } @ media screen and ( max-width : 599px ) { .cs-people__filters__facet [ _ngcontent-odc-c48 ] { padding:0 } } .cs-people__search [ _ngcontent-odc-c48 ] { padding:39px 0 39px 52px } @ media screen and ( max-width : 599px ) { .cs-people__search [ _ngcontent-odc-c48 ] { padding-left:0 ; padding-bottom:0 ; width:100 % } .cs-people__head [ _ngcontent-odc-c48 ] { margin:30px 0 0 } .cs-people__header__control [ _ngcontent-odc-c48 ] { width:100 % ; padding:0 20px 26px } } .cs-people__head [ _ngcontent-odc-c48 ] h1 [ _ngcontent-odc-c48 ] { text-align : center } @ media screen and ( max-width : 599px ) { .cs-people__head [ _ngcontent-odc-c48 ] h1 [ _ngcontent-odc-c48 ] { font-size:30px ; margin:0 } } @ media screen and ( min-width : 600px ) and ( max-width : 959px ) { .cs-people__head [ _ngcontent-odc-c48 ] h1 [ _ngcontent-odc-c48 ] { font-size:30px } } .flex-card [ _ngcontent-odc-c48 ] { flex:1 1 281px } < /style > < style type= '' text/css '' > / * @ angular/flex-layout - workaround for possibl browser quirk with mediaqueri listen see http : //bit.ly/2sd4hmp * / @ media screen and ( min-width : 600px ) , screen and ( min-width : 960px ) , screen and ( min-width : 1280px ) , screen and ( min-width : 1920px ) , screen and ( min-width : 1920px ) and ( max-width : 4999.98px ) , screen and ( max-width : 1919.98px ) , screen and ( min-width : 1280px ) and ( max-width : 1919.98px ) , screen and ( max-width : 1279.98px ) , screen and ( min-width : 960px ) and ( max-width : 1279.98px ) , screen and ( max-width : 959.98px ) , screen and ( min-width : 600px ) and ( max-width : 959.98px ) , screen and ( max-width : 599.98px ) , screen and ( min-width : 0px ) and ( max-width : 599.98px ) , print { .fx-query-test { } } < /style > < style > @ font-fac { font-famili : basis-grotesque-bold ; src : url ( http : //www.csail.mit.edu/themes/custom/csail/fonts/basis-grotesque-bold/basis-grotesque-bold.eot ) ; src : url ( http : //www.csail.mit.edu/themes/custom/csail/fonts/basis-grotesque-bold/basis-grotesque-bold.eot # iefix ) format ( `` embedded-opentyp '' ) , url ( http : //www.csail.mit.edu/themes/custom/csail/fonts/basis-grotesque-bold/basis-grotesque-bold.woff ) format ( `` woff '' ) , url ( http : //www.csail.mit.edu/themes/custom/csail/fonts/basis-grotesque-bold/basis-grotesque-bold.woff2 ) format ( `` woff2 '' ) , url ( http : //www.csail.mit.edu/themes/custom/csail/fonts/basis-grotesque-bold/basis-grotesque-bold.ttf ) format ( `` truetyp '' ) ; font-weight:700 ; font-styl : normal ; font-vari : normal ; line-height:1 ; speak : none ; text-rend : optimizeleg ; text-transform : none ; -webkit-font-smooth : antialias ; -moz-osx-font-smooth : grayscal } @ font-fac { font-famili : basis-grotesque-medium ; src : url ( http : //www.csail.mit.edu/themes/custom/csail/fonts/basis-grotesque-medium/basis-grotesque-medium.eot ) ; src : url ( http : //www.csail.mit.edu/themes/custom/csail/fonts/basis-grotesque-medium/basis-grotesque-medium.eot # iefix ) format ( `` embedded-opentyp '' ) , url ( http : //www.csail.mit.edu/themes/custom/csail/fonts/basis-grotesque-medium/basis-grotesque-medium.woff ) format ( `` woff '' ) , url ( http : //www.csail.mit.edu/themes/custom/csail/fonts/basis-grotesque-medium/basis-grotesque-medium.woff2 ) format ( `` woff2 '' ) , url ( http : //www.csail.mit.edu/themes/custom/csail/fonts/basis-grotesque-medium/basis-grotesque-medium.ttf ) format ( `` truetyp '' ) ; font-weight:400 ; font-styl : normal ; font-vari : normal ; line-height:1 ; speak : none ; text-rend : optimizeleg ; text-transform : none ; -webkit-font-smooth : antialias ; -moz-osx-font-smooth : grayscal } @ font-fac { font-famili : basis-grotesque-monobold ; src : url ( http : //www.csail.mit.edu/themes/custom/csail/fonts/basis-grotesque-monobold/basis-grotesque-monobold.eot ) ; src : url ( http : //www.csail.mit.edu/themes/custom/csail/fonts/basis-grotesque-monobold/basis-grotesque-monobold.eot # iefix ) format ( `` embedded-opentyp '' ) , url ( http : //www.csail.mit.edu/themes/custom/csail/fonts/basis-grotesque-monobold/basis-grotesque-monobold.woff ) format ( `` woff '' ) , url ( http : //www.csail.mit.edu/themes/custom/csail/fonts/basis-grotesque-monobold/basis-grotesque-monobold.woff2 ) format ( `` woff2 '' ) , url ( http : //www.csail.mit.edu/themes/custom/csail/fonts/basis-grotesque-monobold/basis-grotesque-monobold.ttf ) format ( `` truetyp '' ) ; font-weight:400 ; font-styl : normal ; font-vari : normal ; line-height:1 ; speak : none ; text-rend : optimizeleg ; text-transform : none ; -webkit-font-smooth : antialias ; -moz-osx-font-smooth : grayscal } @ font-fac { font-famili : basis-grotesque-off-whit ; src : url ( http : //www.csail.mit.edu/themes/custom/csail/fonts/basis-grotesque-off-white/basis-grotesque-off-white.eot ) ; src : url ( http : //www.csail.mit.edu/themes/custom/csail/fonts/basis-grotesque-off-white/basis-grotesque-off-white.eot # iefix ) format ( `` embedded-opentyp '' ) , url ( http : //www.csail.mit.edu/themes/custom/csail/fonts/basis-grotesque-off-white/basis-grotesque-off-white.woff ) format ( `` woff '' ) , url ( http : //www.csail.mit.edu/themes/custom/csail/fonts/basis-grotesque-off-white/basis-grotesque-off-white.woff2 ) format ( `` woff2 '' ) , url ( http : //www.csail.mit.edu/themes/custom/csail/fonts/basis-grotesque-off-white/basis-grotesque-off-white.ttf ) format ( `` truetyp '' ) ; font-weight:400 ; font-styl : normal ; font-vari : normal ; line-height:1 ; speak : none ; text-rend : optimizeleg ; text-transform : none ; -webkit-font-smooth : antialias ; -moz-osx-font-smooth : grayscal } @ font-fac { font-famili : basis-grotesque-regular ; src : url ( http : //www.csail.mit.edu/themes/custom/csail/fonts/basis-grotesque-regular/basis-grotesque-regular.eot ) ; src : url ( http : //www.csail.mit.edu/themes/custom/csail/fonts/basis-grotesque-regular/basis-grotesque-regular.eot # iefix ) format ( `` embedded-opentyp '' ) , url ( http : //www.csail.mit.edu/themes/custom/csail/fonts/basis-grotesque-regular/basis-grotesque-regular.woff ) format ( `` woff '' ) , url ( http : //www.csail.mit.edu/themes/custom/csail/fonts/basis-grotesque-regular/basis-grotesque-regular.woff2 ) format ( `` woff2 '' ) , url ( http : //www.csail.mit.edu/themes/custom/csail/fonts/basis-grotesque-regular/basis-grotesque-regular.ttf ) format ( `` truetyp '' ) ; font-weight:400 ; font-styl : normal ; font-vari : normal ; line-height:1 ; speak : none ; text-rend : optimizeleg ; text-transform : none ; -webkit-font-smooth : antialias ; -moz-osx-font-smooth : grayscal } @ font-fac { font-famili : csail-ebony-bold ; src : url ( http : //www.csail.mit.edu/themes/custom/csail/fonts/csail_ebony/csail_ebony-bold.eot ) ; src : url ( http : //www.csail.mit.edu/themes/custom/csail/fonts/csail_ebony/csail_ebony-bold.eot # iefix ) format ( `` embedded-opentyp '' ) , url ( http : //www.csail.mit.edu/themes/custom/csail/fonts/csail_ebony/csail_ebony-bold.woff ) format ( `` woff '' ) , url ( http : //www.csail.mit.edu/themes/custom/csail/fonts/csail_ebony/csail_ebony-bold.woff2 ) format ( `` woff2 '' ) ; font-weight:400 ; font-styl : normal ; font-vari : normal ; line-height:1 ; speak : none ; text-rend : optimizeleg ; text-transform : none ; -webkit-font-smooth : antialias ; -moz-osx-font-smooth : grayscal } @ font-fac { font-famili : csail-ebony-regular ; src : url ( http : //www.csail.mit.edu/themes/custom/csail/fonts/csail_ebony/csail_ebony-regular.eot ) ; src : url ( http : //www.csail.mit.edu/themes/custom/csail/fonts/csail_ebony/csail_ebony-regular.eot # iefix ) format ( `` embedded-opentyp '' ) , url ( http : //www.csail.mit.edu/themes/custom/csail/fonts/csail_ebony/csail_ebony-regular.woff ) format ( `` woff '' ) , url ( http : //www.csail.mit.edu/themes/custom/csail/fonts/csail_ebony/csail_ebony-regular.woff2 ) format ( `` woff2 '' ) ; font-weight:400 ; font-styl : normal ; font-vari : normal ; line-height:1 ; speak : none ; text-rend : optimizeleg ; text-transform : none ; -webkit-font-smooth : antialias ; -moz-osx-font-smooth : grayscal } @ font-fac { font-famili : csail-ebony-light ; src : url ( http : //www.csail.mit.edu/themes/custom/csail/fonts/csail_ebony/csail_ebony-light.eot ) ; src : url ( http : //www.csail.mit.edu/themes/custom/csail/fonts/csail_ebony/csail_ebony-light.eot # iefix ) format ( `` embedded-opentyp '' ) , url ( http : //www.csail.mit.edu/themes/custom/csail/fonts/csail_ebony/csail_ebony-light.woff ) format ( `` woff '' ) , url ( http : //www.csail.mit.edu/themes/custom/csail/fonts/csail_ebony/csail_ebony-light.woff2 ) format ( `` woff2 '' ) ; font-weight:400 ; font-styl : normal ; font-vari : normal ; line-height:1 ; speak : none ; text-rend : optimizeleg ; text-transform : none ; -webkit-font-smooth : antialias ; -moz-osx-font-smooth : grayscal } .cs-panel-toggl [ _ngcontent-odc-c39 ] { margin:0 ; padding:0 ; posit : rel } .cs-panel-toggle__icon [ _ngcontent-odc-c39 ] { posit : absolut ; top:9px ; left:13px ; z-index:1 ; font-size:16px } .cs-panel-toggle__input [ _ngcontent-odc-c39 ] { posit : rel ; height:40px ; padding:10px 13px 12px 40px ; border:2px solid # ececec ; font-famili : basis-grotesque-medium ; font-size:16px ; line-height:0px ; color : # 000 ; border-radius:2px ; background-color : # fff ; cursor : pointer } .cs-panel-toggle__input [ _ngcontent-odc-c39 ] : hover { border:2px solid # 0090eb } < /style > < style > @ font-fac { font-famili : basis-grotesque-bold ; src : url ( http : //www.csail.mit.edu/themes/custom/csail/fonts/basis-grotesque-bold/basis-grotesque-bold.eot ) ; src : url ( http : //www.csail.mit.edu/themes/custom/csail/fonts/basis-grotesque-bold/basis-grotesque-bold.eot # iefix ) format ( `` embedded-opentyp '' ) , url ( http : //www.csail.mit.edu/themes/custom/csail/fonts/basis-grotesque-bold/basis-grotesque-bold.woff ) format ( `` woff '' ) , url ( http : //www.csail.mit.edu/themes/custom/csail/fonts/basis-grotesque-bold/basis-grotesque-bold.woff2 ) format ( `` woff2 '' ) , url ( http : //www.csail.mit.edu/themes/custom/csail/fonts/basis-grotesque-bold/basis-grotesque-bold.ttf ) format ( `` truetyp '' ) ; font-weight:700 ; font-styl : normal ; font-vari : normal ; line-height:1 ; speak : none ; text-rend : optimizeleg ; text-transform : none ; -webkit-font-smooth : antialias ; -moz-osx-font-smooth : grayscal } @ font-fac { font-famili : basis-grotesque-medium ; src : url ( http : //www.csail.mit.edu/themes/custom/csail/fonts/basis-grotesque-medium/basis-grotesque-medium.eot ) ; src : url ( http : //www.csail.mit.edu/themes/custom/csail/fonts/basis-grotesque-medium/basis-grotesque-medium.eot # iefix ) format ( `` embedded-opentyp '' ) , url ( http : //www.csail.mit.edu/themes/custom/csail/fonts/basis-grotesque-medium/basis-grotesque-medium.woff ) format ( `` woff '' ) , url ( http : //www.csail.mit.edu/themes/custom/csail/fonts/basis-grotesque-medium/basis-grotesque-medium.woff2 ) format ( `` woff2 '' ) , url ( http : //www.csail.mit.edu/themes/custom/csail/fonts/basis-grotesque-medium/basis-grotesque-medium.ttf ) format ( `` truetyp '' ) ; font-weight:400 ; font-styl : normal ; font-vari : normal ; line-height:1 ; speak : none ; text-rend : optimizeleg ; text-transform : none ; -webkit-font-smooth : antialias ; -moz-osx-font-smooth : grayscal } @ font-fac { font-famili : basis-grotesque-monobold ; src : url ( http : //www.csail.mit.edu/themes/custom/csail/fonts/basis-grotesque-monobold/basis-grotesque-monobold.eot ) ; src : url ( http : //www.csail.mit.edu/themes/custom/csail/fonts/basis-grotesque-monobold/basis-grotesque-monobold.eot # iefix ) format ( `` embedded-opentyp '' ) , url ( http : //www.csail.mit.edu/themes/custom/csail/fonts/basis-grotesque-monobold/basis-grotesque-monobold.woff ) format ( `` woff '' ) , url ( http : //www.csail.mit.edu/themes/custom/csail/fonts/basis-grotesque-monobold/basis-grotesque-monobold.woff2 ) format ( `` woff2 '' ) , url ( http : //www.csail.mit.edu/themes/custom/csail/fonts/basis-grotesque-monobold/basis-grotesque-monobold.ttf ) format ( `` truetyp '' ) ; font-weight:400 ; font-styl : normal ; font-vari : normal ; line-height:1 ; speak : none ; text-rend : optimizeleg ; text-transform : none ; -webkit-font-smooth : antialias ; -moz-osx-font-smooth : grayscal } @ font-fac { font-famili : basis-grotesque-off-whit ; src : url ( http : //www.csail.mit.edu/themes/custom/csail/fonts/basis-grotesque-off-white/basis-grotesque-off-white.eot ) ; src : url ( http : //www.csail.mit.edu/themes/custom/csail/fonts/basis-grotesque-off-white/basis-grotesque-off-white.eot # iefix ) format ( `` embedded-opentyp '' ) , url ( http : //www.csail.mit.edu/themes/custom/csail/fonts/basis-grotesque-off-white/basis-grotesque-off-white.woff ) format ( `` woff '' ) , url ( http : //www.csail.mit.edu/themes/custom/csail/fonts/basis-grotesque-off-white/basis-grotesque-off-white.woff2 ) format ( `` woff2 '' ) , url ( http : //www.csail.mit.edu/themes/custom/csail/fonts/basis-grotesque-off-white/basis-grotesque-off-white.ttf ) format ( `` truetyp '' ) ; font-weight:400 ; font-styl : normal ; font-vari : normal ; line-height:1 ; speak : none ; text-rend : optimizeleg ; text-transform : none ; -webkit-font-smooth : antialias ; -moz-osx-font-smooth : grayscal } @ font-fac { font-famili : basis-grotesque-regular ; src : url ( http : //www.csail.mit.edu/themes/custom/csail/fonts/basis-grotesque-regular/basis-grotesque-regular.eot ) ; src : url ( http : //www.csail.mit.edu/themes/custom/csail/fonts/basis-grotesque-regular/basis-grotesque-regular.eot # iefix ) format ( `` embedded-opentyp '' ) , url ( http : //www.csail.mit.edu/themes/custom/csail/fonts/basis-grotesque-regular/basis-grotesque-regular.woff ) format ( `` woff '' ) , url ( http : //www.csail.mit.edu/themes/custom/csail/fonts/basis-grotesque-regular/basis-grotesque-regular.woff2 ) format ( `` woff2 '' ) , url ( http : //www.csail.mit.edu/themes/custom/csail/fonts/basis-grotesque-regular/basis-grotesque-regular.ttf ) format ( `` truetyp '' ) ; font-weight:400 ; font-styl : normal ; font-vari : normal ; line-height:1 ; speak : none ; text-rend : optimizeleg ; text-transform : none ; -webkit-font-smooth : antialias ; -moz-osx-font-smooth : grayscal } @ font-fac { font-famili : csail-ebony-bold ; src : url ( http : //www.csail.mit.edu/themes/custom/csail/fonts/csail_ebony/csail_ebony-bold.eot ) ; src : url ( http : //www.csail.mit.edu/themes/custom/csail/fonts/csail_ebony/csail_ebony-bold.eot # iefix ) format ( `` embedded-opentyp '' ) , url ( http : //www.csail.mit.edu/themes/custom/csail/fonts/csail_ebony/csail_ebony-bold.woff ) format ( `` woff '' ) , url ( http : //www.csail.mit.edu/themes/custom/csail/fonts/csail_ebony/csail_ebony-bold.woff2 ) format ( `` woff2 '' ) ; font-weight:400 ; font-styl : normal ; font-vari : normal ; line-height:1 ; speak : none ; text-rend : optimizeleg ; text-transform : none ; -webkit-font-smooth : antialias ; -moz-osx-font-smooth : grayscal } @ font-fac { font-famili : csail-ebony-regular ; src : url ( http : //www.csail.mit.edu/themes/custom/csail/fonts/csail_ebony/csail_ebony-regular.eot ) ; src : url ( http : //www.csail.mit.edu/themes/custom/csail/fonts/csail_ebony/csail_ebony-regular.eot # iefix ) format ( `` embedded-opentyp '' ) , url ( http : //www.csail.mit.edu/themes/custom/csail/fonts/csail_ebony/csail_ebony-regular.woff ) format ( `` woff '' ) , url ( http : //www.csail.mit.edu/themes/custom/csail/fonts/csail_ebony/csail_ebony-regular.woff2 ) format ( `` woff2 '' ) ; font-weight:400 ; font-styl : normal ; font-vari : normal ; line-height:1 ; speak : none ; text-rend : optimizeleg ; text-transform : none ; -webkit-font-smooth : antialias ; -moz-osx-font-smooth : grayscal } @ font-fac { font-famili : csail-ebony-light ; src : url ( http : //www.csail.mit.edu/themes/custom/csail/fonts/csail_ebony/csail_ebony-light.eot ) ; src : url ( http : //www.csail.mit.edu/themes/custom/csail/fonts/csail_ebony/csail_ebony-light.eot # iefix ) format ( `` embedded-opentyp '' ) , url ( http : //www.csail.mit.edu/themes/custom/csail/fonts/csail_ebony/csail_ebony-light.woff ) format ( `` woff '' ) , url ( http : //www.csail.mit.edu/themes/custom/csail/fonts/csail_ebony/csail_ebony-light.woff2 ) format ( `` woff2 '' ) ; font-weight:400 ; font-styl : normal ; font-vari : normal ; line-height:1 ; speak : none ; text-rend : optimizeleg ; text-transform : none ; -webkit-font-smooth : antialias ; -moz-osx-font-smooth : grayscal } .cs-people__contain [ _ngcontent-odc-c43 ] { background-color : # ececec ; box-shadow : inset 10px 0 8px -4px hsla ( 0,0 % ,40 % , .45 ) } @ media screen and ( max-width : 599px ) { .cs-people__result [ _ngcontent-odc-c43 ] { min-width:100 % } } @ media screen and ( min-width : 57.5em ) { .flex-card [ _ngcontent-odc-c43 ] { flex:1 1 281px } } @ media screen and ( min-width : 49.01em ) and ( max-width : 57.499em ) { .flex-card [ _ngcontent-odc-c43 ] { flex:1 1 calc ( 50 % ) } } @ media screen and ( max-width : 49em ) { .flex-card [ _ngcontent-odc-c43 ] { flex:0 1 calc ( 100 % ) ; width:100 % ; padding:0 26px } } < /style > < style type= '' text/css '' > < /style > < style > @ font-fac { font-famili : basis-grotesque-bold ; src : url ( http : //www.csail.mit.edu/themes/custom/csail/fonts/basis-grotesque-bold/basis-grotesque-bold.eot ) ; src : url ( http : //www.csail.mit.edu/themes/custom/csail/fonts/basis-grotesque-bold/basis-grotesque-bold.eot # iefix ) format ( `` embedded-opentyp '' ) , url ( http : //www.csail.mit.edu/themes/custom/csail/fonts/basis-grotesque-bold/basis-grotesque-bold.woff ) format ( `` woff '' ) , url ( http : //www.csail.mit.edu/themes/custom/csail/fonts/basis-grotesque-bold/basis-grotesque-bold.woff2 ) format ( `` woff2 '' ) , url ( http : //www.csail.mit.edu/themes/custom/csail/fonts/basis-grotesque-bold/basis-grotesque-bold.ttf ) format ( `` truetyp '' ) ; font-weight:700 ; font-styl : normal ; font-vari : normal ; line-height:1 ; speak : none ; text-rend : optimizeleg ; text-transform : none ; -webkit-font-smooth : antialias ; -moz-osx-font-smooth : grayscal } @ font-fac { font-famili : basis-grotesque-medium ; src : url ( http : //www.csail.mit.edu/themes/custom/csail/fonts/basis-grotesque-medium/basis-grotesque-medium.eot ) ; src : url ( http : //www.csail.mit.edu/themes/custom/csail/fonts/basis-grotesque-medium/basis-grotesque-medium.eot # iefix ) format ( `` embedded-opentyp '' ) , url ( http : //www.csail.mit.edu/themes/custom/csail/fonts/basis-grotesque-medium/basis-grotesque-medium.woff ) format ( `` woff '' ) , url ( http : //www.csail.mit.edu/themes/custom/csail/fonts/basis-grotesque-medium/basis-grotesque-medium.woff2 ) format ( `` woff2 '' ) , url ( http : //www.csail.mit.edu/themes/custom/csail/fonts/basis-grotesque-medium/basis-grotesque-medium.ttf ) format ( `` truetyp '' ) ; font-weight:400 ; font-styl : normal ; font-vari : normal ; line-height:1 ; speak : none ; text-rend : optimizeleg ; text-transform : none ; -webkit-font-smooth : antialias ; -moz-osx-font-smooth : grayscal } @ font-fac { font-famili : basis-grotesque-monobold ; src : url ( http : //www.csail.mit.edu/themes/custom/csail/fonts/basis-grotesque-monobold/basis-grotesque-monobold.eot ) ; src : url ( http : //www.csail.mit.edu/themes/custom/csail/fonts/basis-grotesque-monobold/basis-grotesque-monobold.eot # iefix ) format ( `` embedded-opentyp '' ) , url ( http : //www.csail.mit.edu/themes/custom/csail/fonts/basis-grotesque-monobold/basis-grotesque-monobold.woff ) format ( `` woff '' ) , url ( http : //www.csail.mit.edu/themes/custom/csail/fonts/basis-grotesque-monobold/basis-grotesque-monobold.woff2 ) format ( `` woff2 '' ) , url ( http : //www.csail.mit.edu/themes/custom/csail/fonts/basis-grotesque-monobold/basis-grotesque-monobold.ttf ) format ( `` truetyp '' ) ; font-weight:400 ; font-styl : normal ; font-vari : normal ; line-height:1 ; speak : none ; text-rend : optimizeleg ; text-transform : none ; -webkit-font-smooth : antialias ; -moz-osx-font-smooth : grayscal } @ font-fac { font-famili : basis-grotesque-off-whit ; src : url ( http : //www.csail.mit.edu/themes/custom/csail/fonts/basis-grotesque-off-white/basis-grotesque-off-white.eot ) ; src : url ( http : //www.csail.mit.edu/themes/custom/csail/fonts/basis-grotesque-off-white/basis-grotesque-off-white.eot # iefix ) format ( `` embedded-opentyp '' ) , url ( http : //www.csail.mit.edu/themes/custom/csail/fonts/basis-grotesque-off-white/basis-grotesque-off-white.woff ) format ( `` woff '' ) , url ( http : //www.csail.mit.edu/themes/custom/csail/fonts/basis-grotesque-off-white/basis-grotesque-off-white.woff2 ) format ( `` woff2 '' ) , url ( http : //www.csail.mit.edu/themes/custom/csail/fonts/basis-grotesque-off-white/basis-grotesque-off-white.ttf ) format ( `` truetyp '' ) ; font-weight:400 ; font-styl : normal ; font-vari : normal ; line-height:1 ; speak : none ; text-rend : optimizeleg ; text-transform : none ; -webkit-font-smooth : antialias ; -moz-osx-font-smooth : grayscal } @ font-fac { font-famili : basis-grotesque-regular ; src : url ( http : //www.csail.mit.edu/themes/custom/csail/fonts/basis-grotesque-regular/basis-grotesque-regular.eot ) ; src : url ( http : //www.csail.mit.edu/themes/custom/csail/fonts/basis-grotesque-regular/basis-grotesque-regular.eot # iefix ) format ( `` embedded-opentyp '' ) , url ( http : //www.csail.mit.edu/themes/custom/csail/fonts/basis-grotesque-regular/basis-grotesque-regular.woff ) format ( `` woff '' ) , url ( http : //www.csail.mit.edu/themes/custom/csail/fonts/basis-grotesque-regular/basis-grotesque-regular.woff2 ) format ( `` woff2 '' ) , url ( http : //www.csail.mit.edu/themes/custom/csail/fonts/basis-grotesque-regular/basis-grotesque-regular.ttf ) format ( `` truetyp '' ) ; font-weight:400 ; font-styl : normal ; font-vari : normal ; line-height:1 ; speak : none ; text-rend : optimizeleg ; text-transform : none ; -webkit-font-smooth : antialias ; -moz-osx-font-smooth : grayscal } @ font-fac { font-famili : csail-ebony-bold ; src : url ( http : //www.csail.mit.edu/themes/custom/csail/fonts/csail_ebony/csail_ebony-bold.eot ) ; src : url ( http : //www.csail.mit.edu/themes/custom/csail/fonts/csail_ebony/csail_ebony-bold.eot # iefix ) format ( `` embedded-opentyp '' ) , url ( http : //www.csail.mit.edu/themes/custom/csail/fonts/csail_ebony/csail_ebony-bold.woff ) format ( `` woff '' ) , url ( http : //www.csail.mit.edu/themes/custom/csail/fonts/csail_ebony/csail_ebony-bold.woff2 ) format ( `` woff2 '' ) ; font-weight:400 ; font-styl : normal ; font-vari : normal ; line-height:1 ; speak : none ; text-rend : optimizeleg ; text-transform : none ; -webkit-font-smooth : antialias ; -moz-osx-font-smooth : grayscal } @ font-fac { font-famili : csail-ebony-regular ; src : url ( http : //www.csail.mit.edu/themes/custom/csail/fonts/csail_ebony/csail_ebony-regular.eot ) ; src : url ( http : //www.csail.mit.edu/themes/custom/csail/fonts/csail_ebony/csail_ebony-regular.eot # iefix ) format ( `` embedded-opentyp '' ) , url ( http : //www.csail.mit.edu/themes/custom/csail/fonts/csail_ebony/csail_ebony-regular.woff ) format ( `` woff '' ) , url ( http : //www.csail.mit.edu/themes/custom/csail/fonts/csail_ebony/csail_ebony-regular.woff2 ) format ( `` woff2 '' ) ; font-weight:400 ; font-styl : normal ; font-vari : normal ; line-height:1 ; speak : none ; text-rend : optimizeleg ; text-transform : none ; -webkit-font-smooth : antialias ; -moz-osx-font-smooth : grayscal } @ font-fac { font-famili : csail-ebony-light ; src : url ( http : //www.csail.mit.edu/themes/custom/csail/fonts/csail_ebony/csail_ebony-light.eot ) ; src : url ( http : //www.csail.mit.edu/themes/custom/csail/fonts/csail_ebony/csail_ebony-light.eot # iefix ) format ( `` embedded-opentyp '' ) , url ( http : //www.csail.mit.edu/themes/custom/csail/fonts/csail_ebony/csail_ebony-light.woff ) format ( `` woff '' ) , url ( http : //www.csail.mit.edu/themes/custom/csail/fonts/csail_ebony/csail_ebony-light.woff2 ) format ( `` woff2 '' ) ; font-weight:400 ; font-styl : normal ; font-vari : normal ; line-height:1 ; speak : none ; text-rend : optimizeleg ; text-transform : none ; -webkit-font-smooth : antialias ; -moz-osx-font-smooth : grayscal } .cs-search-box [ _ngcontent-odc-c44 ] { margin:0 ; padding:0 ; posit : rel } .cs-search-box__icon [ _ngcontent-odc-c44 ] { posit : absolut ; top:9px ; left:13px ; z-index:1 ; font-size:16px } .cs-search-box [ _ngcontent-odc-c44 ] input [ type=text ] [ _ngcontent-odc-c44 ] { posit : rel ; margin:0 ; height:40px ; padding:10px 19px 12px 39px ; border:2px solid # ececec ; font-famili : basis-grotesque-medium ; font-size:16px ; color : # 000 ; border-radius:2px ; line-height : normal ; box-shadow : none } .cs-search-box [ _ngcontent-odc-c44 ] input [ type=text ] [ _ngcontent-odc-c44 ] : hover { border:2px solid # ececec } .cs-search-box [ _ngcontent-odc-c44 ] input [ type=text ] [ _ngcontent-odc-c44 ] : :placehold { color : # 000 ; opacity:1 } .cs-search-box [ _ngcontent-odc-c44 ] input [ type=text ] [ _ngcontent-odc-c44 ] : -ms-input-placehold { color : # 000 } .cs-search-box [ _ngcontent-odc-c44 ] input [ type=text ] [ _ngcontent-odc-c44 ] [ _ngcontent-odc-c44 ] : :-ms-input-placehold { color : # 000 } < /style > < style > .cs-people-facet [ _ngcontent-odc-c47 ] { padding:0 20px 0 103px } @ media screen and ( max-width : 599px ) { .cs-people-facet [ _ngcontent-odc-c47 ] { padding:0 0 0 23px } .cs-people-facet [ _ngcontent-odc-c47 ] : not ( : last-child ) { border-bottom:1px solid # bcbcbc } } .cs-people-facets__column [ _ngcontent-odc-c47 ] { border-bottom : none ; padding:30px 0 20px } .cs-people-facets__column [ _ngcontent-odc-c47 ] : not ( : last-child ) { border-right:1px solid # bcbcbc ; border-bottom : none ! import } .facet [ _ngcontent-odc-c47 ] : not ( : last-child ) { border-bottom:1px solid # bcbcbc } < /style > < style > @ font-fac { font-famili : basis-grotesque-bold ; src : url ( http : //www.csail.mit.edu/themes/custom/csail/fonts/basis-grotesque-bold/basis-grotesque-bold.eot ) ; src : url ( http : //www.csail.mit.edu/themes/custom/csail/fonts/basis-grotesque-bold/basis-grotesque-bold.eot # iefix ) format ( `` embedded-opentyp '' ) , url ( http : //www.csail.mit.edu/themes/custom/csail/fonts/basis-grotesque-bold/basis-grotesque-bold.woff ) format ( `` woff '' ) , url ( http : //www.csail.mit.edu/themes/custom/csail/fonts/basis-grotesque-bold/basis-grotesque-bold.woff2 ) format ( `` woff2 '' ) , url ( http : //www.csail.mit.edu/themes/custom/csail/fonts/basis-grotesque-bold/basis-grotesque-bold.ttf ) format ( `` truetyp '' ) ; font-weight:700 ; font-styl : normal ; font-vari : normal ; line-height:1 ; speak : none ; text-rend : optimizeleg ; text-transform : none ; -webkit-font-smooth : antialias ; -moz-osx-font-smooth : grayscal } @ font-fac { font-famili : basis-grotesque-medium ; src : url ( http : //www.csail.mit.edu/themes/custom/csail/fonts/basis-grotesque-medium/basis-grotesque-medium.eot ) ; src : url ( http : //www.csail.mit.edu/themes/custom/csail/fonts/basis-grotesque-medium/basis-grotesque-medium.eot # iefix ) format ( `` embedded-opentyp '' ) , url ( http : //www.csail.mit.edu/themes/custom/csail/fonts/basis-grotesque-medium/basis-grotesque-medium.woff ) format ( `` woff '' ) , url ( http : //www.csail.mit.edu/themes/custom/csail/fonts/basis-grotesque-medium/basis-grotesque-medium.woff2 ) format ( `` woff2 '' ) , url ( http : //www.csail.mit.edu/themes/custom/csail/fonts/basis-grotesque-medium/basis-grotesque-medium.ttf ) format ( `` truetyp '' ) ; font-weight:400 ; font-styl : normal ; font-vari : normal ; line-height:1 ; speak : none ; text-rend : optimizeleg ; text-transform : none ; -webkit-font-smooth : antialias ; -moz-osx-font-smooth : grayscal } @ font-fac { font-famili : basis-grotesque-monobold ; src : url ( http : //www.csail.mit.edu/themes/custom/csail/fonts/basis-grotesque-monobold/basis-grotesque-monobold.eot ) ; src : url ( http : //www.csail.mit.edu/themes/custom/csail/fonts/basis-grotesque-monobold/basis-grotesque-monobold.eot # iefix ) format ( `` embedded-opentyp '' ) , url ( http : //www.csail.mit.edu/themes/custom/csail/fonts/basis-grotesque-monobold/basis-grotesque-monobold.woff ) format ( `` woff '' ) , url ( http : //www.csail.mit.edu/themes/custom/csail/fonts/basis-grotesque-monobold/basis-grotesque-monobold.woff2 ) format ( `` woff2 '' ) , url ( http : //www.csail.mit.edu/themes/custom/csail/fonts/basis-grotesque-monobold/basis-grotesque-monobold.ttf ) format ( `` truetyp '' ) ; font-weight:400 ; font-styl : normal ; font-vari : normal ; line-height:1 ; speak : none ; text-rend : optimizeleg ; text-transform : none ; -webkit-font-smooth : antialias ; -moz-osx-font-smooth : grayscal } @ font-fac { font-famili : basis-grotesque-off-whit ; src : url ( http : //www.csail.mit.edu/themes/custom/csail/fonts/basis-grotesque-off-white/basis-grotesque-off-white.eot ) ; src : url ( http : //www.csail.mit.edu/themes/custom/csail/fonts/basis-grotesque-off-white/basis-grotesque-off-white.eot # iefix ) format ( `` embedded-opentyp '' ) , url ( http : //www.csail.mit.edu/themes/custom/csail/fonts/basis-grotesque-off-white/basis-grotesque-off-white.woff ) format ( `` woff '' ) , url ( http : //www.csail.mit.edu/themes/custom/csail/fonts/basis-grotesque-off-white/basis-grotesque-off-white.woff2 ) format ( `` woff2 '' ) , url ( http : //www.csail.mit.edu/themes/custom/csail/fonts/basis-grotesque-off-white/basis-grotesque-off-white.ttf ) format ( `` truetyp '' ) ; font-weight:400 ; font-styl : normal ; font-vari : normal ; line-height:1 ; speak : none ; text-rend : optimizeleg ; text-transform : none ; -webkit-font-smooth : antialias ; -moz-osx-font-smooth : grayscal } @ font-fac { font-famili : basis-grotesque-regular ; src : url ( http : //www.csail.mit.edu/themes/custom/csail/fonts/basis-grotesque-regular/basis-grotesque-regular.eot ) ; src : url ( http : //www.csail.mit.edu/themes/custom/csail/fonts/basis-grotesque-regular/basis-grotesque-regular.eot # iefix ) format ( `` embedded-opentyp '' ) , url ( http : //www.csail.mit.edu/themes/custom/csail/fonts/basis-grotesque-regular/basis-grotesque-regular.woff ) format ( `` woff '' ) , url ( http : //www.csail.mit.edu/themes/custom/csail/fonts/basis-grotesque-regular/basis-grotesque-regular.woff2 ) format ( `` woff2 '' ) , url ( http : //www.csail.mit.edu/themes/custom/csail/fonts/basis-grotesque-regular/basis-grotesque-regular.ttf ) format ( `` truetyp '' ) ; font-weight:400 ; font-styl : normal ; font-vari : normal ; line-height:1 ; speak : none ; text-rend : optimizeleg ; text-transform : none ; -webkit-font-smooth : antialias ; -moz-osx-font-smooth : grayscal } @ font-fac { font-famili : csail-ebony-bold ; src : url ( http : //www.csail.mit.edu/themes/custom/csail/fonts/csail_ebony/csail_ebony-bold.eot ) ; src : url ( http : //www.csail.mit.edu/themes/custom/csail/fonts/csail_ebony/csail_ebony-bold.eot # iefix ) format ( `` embedded-opentyp '' ) , url ( http : //www.csail.mit.edu/themes/custom/csail/fonts/csail_ebony/csail_ebony-bold.woff ) format ( `` woff '' ) , url ( http : //www.csail.mit.edu/themes/custom/csail/fonts/csail_ebony/csail_ebony-bold.woff2 ) format ( `` woff2 '' ) ; font-weight:400 ; font-styl : normal ; font-vari : normal ; line-height:1 ; speak : none ; text-rend : optimizeleg ; text-transform : none ; -webkit-font-smooth : antialias ; -moz-osx-font-smooth : grayscal } @ font-fac { font-famili : csail-ebony-regular ; src : url ( http : //www.csail.mit.edu/themes/custom/csail/fonts/csail_ebony/csail_ebony-regular.eot ) ; src : url ( http : //www.csail.mit.edu/themes/custom/csail/fonts/csail_ebony/csail_ebony-regular.eot # iefix ) format ( `` embedded-opentyp '' ) , url ( http : //www.csail.mit.edu/themes/custom/csail/fonts/csail_ebony/csail_ebony-regular.woff ) format ( `` woff '' ) , url ( http : //www.csail.mit.edu/themes/custom/csail/fonts/csail_ebony/csail_ebony-regular.woff2 ) format ( `` woff2 '' ) ; font-weight:400 ; font-styl : normal ; font-vari : normal ; line-height:1 ; speak : none ; text-rend : optimizeleg ; text-transform : none ; -webkit-font-smooth : antialias ; -moz-osx-font-smooth : grayscal } @ font-fac { font-famili : csail-ebony-light ; src : url ( http : //www.csail.mit.edu/themes/custom/csail/fonts/csail_ebony/csail_ebony-light.eot ) ; src : url ( http : //www.csail.mit.edu/themes/custom/csail/fonts/csail_ebony/csail_ebony-light.eot # iefix ) format ( `` embedded-opentyp '' ) , url ( http : //www.csail.mit.edu/themes/custom/csail/fonts/csail_ebony/csail_ebony-light.woff ) format ( `` woff '' ) , url ( http : //www.csail.mit.edu/themes/custom/csail/fonts/csail_ebony/csail_ebony-light.woff2 ) format ( `` woff2 '' ) ; font-weight:400 ; font-styl : normal ; font-vari : normal ; line-height:1 ; speak : none ; text-rend : optimizeleg ; text-transform : none ; -webkit-font-smooth : antialias ; -moz-osx-font-smooth : grayscal } .cs-facet [ _ngcontent-odc-c46 ] { font-famili : basis-grotesque-regular ; font-size:18px } .cs-facet [ _ngcontent-odc-c46 ] ul [ _ngcontent-odc-c46 ] { padding-inline-start:0 } .cs-facets__titl [ _ngcontent-odc-c46 ] { font-size:15px ; line-height:18px ; text-transform : uppercas ; font-weight:700 ; margin:0 0 25px 4px ; letter-spacing:1.33px } .cs-facets__options__children [ _ngcontent-odc-c46 ] { margin-left:20px } .cs-facets__options__label [ _ngcontent-odc-c46 ] { margin:2px 0 0 ; min-width:200px ; max-width:200px ; padding-right:90px } .cs-facets__opt [ _ngcontent-odc-c46 ] .disabl [ _ngcontent-odc-c46 ] { color : # ececec } .cs-facets__options__control [ _ngcontent-odc-c46 ] { width:23px ; padding-left:5px } .cs-facets__options__control [ _ngcontent-odc-c46 ] input [ type=checkbox ] [ _ngcontent-odc-c46 ] { margin:0 ; min-height:10px ; min-width:10px } .facet [ _ngcontent-odc-c46 ] { padding:5px 0 } .facet [ _ngcontent-odc-c46 ] : not ( .disabl ) : hover { background-color : # dbf1ff ; cursor : pointer } .facet__select [ _ngcontent-odc-c46 ] { background-color : # dbf1ff } < /style > < style > @ font-fac { font-famili : basis-grotesque-bold ; src : url ( http : //www.csail.mit.edu/themes/custom/csail/fonts/basis-grotesque-bold/basis-grotesque-bold.eot ) ; src : url ( http : //www.csail.mit.edu/themes/custom/csail/fonts/basis-grotesque-bold/basis-grotesque-bold.eot # iefix ) format ( `` embedded-opentyp '' ) , url ( http : //www.csail.mit.edu/themes/custom/csail/fonts/basis-grotesque-bold/basis-grotesque-bold.woff ) format ( `` woff '' ) , url ( http : //www.csail.mit.edu/themes/custom/csail/fonts/basis-grotesque-bold/basis-grotesque-bold.woff2 ) format ( `` woff2 '' ) , url ( http : //www.csail.mit.edu/themes/custom/csail/fonts/basis-grotesque-bold/basis-grotesque-bold.ttf ) format ( `` truetyp '' ) ; font-weight:700 ; font-styl : normal ; font-vari : normal ; line-height:1 ; speak : none ; text-rend : optimizeleg ; text-transform : none ; -webkit-font-smooth : antialias ; -moz-osx-font-smooth : grayscal } @ font-fac { font-famili : basis-grotesque-medium ; src : url ( http : //www.csail.mit.edu/themes/custom/csail/fonts/basis-grotesque-medium/basis-grotesque-medium.eot ) ; src : url ( http : //www.csail.mit.edu/themes/custom/csail/fonts/basis-grotesque-medium/basis-grotesque-medium.eot # iefix ) format ( `` embedded-opentyp '' ) , url ( http : //www.csail.mit.edu/themes/custom/csail/fonts/basis-grotesque-medium/basis-grotesque-medium.woff ) format ( `` woff '' ) , url ( http : //www.csail.mit.edu/themes/custom/csail/fonts/basis-grotesque-medium/basis-grotesque-medium.woff2 ) format ( `` woff2 '' ) , url ( http : //www.csail.mit.edu/themes/custom/csail/fonts/basis-grotesque-medium/basis-grotesque-medium.ttf ) format ( `` truetyp '' ) ; font-weight:400 ; font-styl : normal ; font-vari : normal ; line-height:1 ; speak : none ; text-rend : optimizeleg ; text-transform : none ; -webkit-font-smooth : antialias ; -moz-osx-font-smooth : grayscal } @ font-fac { font-famili : basis-grotesque-monobold ; src : url ( http : //www.csail.mit.edu/themes/custom/csail/fonts/basis-grotesque-monobold/basis-grotesque-monobold.eot ) ; src : url ( http : //www.csail.mit.edu/themes/custom/csail/fonts/basis-grotesque-monobold/basis-grotesque-monobold.eot # iefix ) format ( `` embedded-opentyp '' ) , url ( http : //www.csail.mit.edu/themes/custom/csail/fonts/basis-grotesque-monobold/basis-grotesque-monobold.woff ) format ( `` woff '' ) , url ( http : //www.csail.mit.edu/themes/custom/csail/fonts/basis-grotesque-monobold/basis-grotesque-monobold.woff2 ) format ( `` woff2 '' ) , url ( http : //www.csail.mit.edu/themes/custom/csail/fonts/basis-grotesque-monobold/basis-grotesque-monobold.ttf ) format ( `` truetyp '' ) ; font-weight:400 ; font-styl : normal ; font-vari : normal ; line-height:1 ; speak : none ; text-rend : optimizeleg ; text-transform : none ; -webkit-font-smooth : antialias ; -moz-osx-font-smooth : grayscal } @ font-fac { font-famili : basis-grotesque-off-whit ; src : url ( http : //www.csail.mit.edu/themes/custom/csail/fonts/basis-grotesque-off-white/basis-grotesque-off-white.eot ) ; src : url ( http : //www.csail.mit.edu/themes/custom/csail/fonts/basis-grotesque-off-white/basis-grotesque-off-white.eot # iefix ) format ( `` embedded-opentyp '' ) , url ( http : //www.csail.mit.edu/themes/custom/csail/fonts/basis-grotesque-off-white/basis-grotesque-off-white.woff ) format ( `` woff '' ) , url ( http : //www.csail.mit.edu/themes/custom/csail/fonts/basis-grotesque-off-white/basis-grotesque-off-white.woff2 ) format ( `` woff2 '' ) , url ( http : //www.csail.mit.edu/themes/custom/csail/fonts/basis-grotesque-off-white/basis-grotesque-off-white.ttf ) format ( `` truetyp '' ) ; font-weight:400 ; font-styl : normal ; font-vari : normal ; line-height:1 ; speak : none ; text-rend : optimizeleg ; text-transform : none ; -webkit-font-smooth : antialias ; -moz-osx-font-smooth : grayscal } @ font-fac { font-famili : basis-grotesque-regular ; src : url ( http : //www.csail.mit.edu/themes/custom/csail/fonts/basis-grotesque-regular/basis-grotesque-regular.eot ) ; src : url ( http : //www.csail.mit.edu/themes/custom/csail/fonts/basis-grotesque-regular/basis-grotesque-regular.eot # iefix ) format ( `` embedded-opentyp '' ) , url ( http : //www.csail.mit.edu/themes/custom/csail/fonts/basis-grotesque-regular/basis-grotesque-regular.woff ) format ( `` woff '' ) , url ( http : //www.csail.mit.edu/themes/custom/csail/fonts/basis-grotesque-regular/basis-grotesque-regular.woff2 ) format ( `` woff2 '' ) , url ( http : //www.csail.mit.edu/themes/custom/csail/fonts/basis-grotesque-regular/basis-grotesque-regular.ttf ) format ( `` truetyp '' ) ; font-weight:400 ; font-styl : normal ; font-vari : normal ; line-height:1 ; speak : none ; text-rend : optimizeleg ; text-transform : none ; -webkit-font-smooth : antialias ; -moz-osx-font-smooth : grayscal } @ font-fac { font-famili : csail-ebony-bold ; src : url ( http : //www.csail.mit.edu/themes/custom/csail/fonts/csail_ebony/csail_ebony-bold.eot ) ; src : url ( http : //www.csail.mit.edu/themes/custom/csail/fonts/csail_ebony/csail_ebony-bold.eot # iefix ) format ( `` embedded-opentyp '' ) , url ( http : //www.csail.mit.edu/themes/custom/csail/fonts/csail_ebony/csail_ebony-bold.woff ) format ( `` woff '' ) , url ( http : //www.csail.mit.edu/themes/custom/csail/fonts/csail_ebony/csail_ebony-bold.woff2 ) format ( `` woff2 '' ) ; font-weight:400 ; font-styl : normal ; font-vari : normal ; line-height:1 ; speak : none ; text-rend : optimizeleg ; text-transform : none ; -webkit-font-smooth : antialias ; -moz-osx-font-smooth : grayscal } @ font-fac { font-famili : csail-ebony-regular ; src : url ( http : //www.csail.mit.edu/themes/custom/csail/fonts/csail_ebony/csail_ebony-regular.eot ) ; src : url ( http : //www.csail.mit.edu/themes/custom/csail/fonts/csail_ebony/csail_ebony-regular.eot # iefix ) format ( `` embedded-opentyp '' ) , url ( http : //www.csail.mit.edu/themes/custom/csail/fonts/csail_ebony/csail_ebony-regular.woff ) format ( `` woff '' ) , url ( http : //www.csail.mit.edu/themes/custom/csail/fonts/csail_ebony/csail_ebony-regular.woff2 ) format ( `` woff2 '' ) ; font-weight:400 ; font-styl : normal ; font-vari : normal ; line-height:1 ; speak : none ; text-rend : optimizeleg ; text-transform : none ; -webkit-font-smooth : antialias ; -moz-osx-font-smooth : grayscal } @ font-fac { font-famili : csail-ebony-light ; src : url ( http : //www.csail.mit.edu/themes/custom/csail/fonts/csail_ebony/csail_ebony-light.eot ) ; src : url ( http : //www.csail.mit.edu/themes/custom/csail/fonts/csail_ebony/csail_ebony-light.eot # iefix ) format ( `` embedded-opentyp '' ) , url ( http : //www.csail.mit.edu/themes/custom/csail/fonts/csail_ebony/csail_ebony-light.woff ) format ( `` woff '' ) , url ( http : //www.csail.mit.edu/themes/custom/csail/fonts/csail_ebony/csail_ebony-light.woff2 ) format ( `` woff2 '' ) ; font-weight:400 ; font-styl : normal ; font-vari : normal ; line-height:1 ; speak : none ; text-rend : optimizeleg ; text-transform : none ; -webkit-font-smooth : antialias ; -moz-osx-font-smooth : grayscal } .cs-facet [ _ngcontent-odc-c45 ] { font-famili : basis-grotesque-regular } .cs-facet [ _ngcontent-odc-c45 ] ul [ _ngcontent-odc-c45 ] { padding-inline-start:0 } .cs-facet [ _ngcontent-odc-c45 ] ul.column [ _ngcontent-odc-c45 ] { column-count:2 ; -webkit-columns:2 ; -moz-columns:2 } .cs-facet [ _ngcontent-odc-c45 ] ul [ _ngcontent-odc-c45 ] li [ _ngcontent-odc-c45 ] { page-break-insid : avoid ; break-insid : avoid } .cs-facets__titl [ _ngcontent-odc-c45 ] { text-transform : uppercas ; font-weight:700 ; font-size:15px ; line-height:18px ; margin:0 0 25px 4px ; letter-spacing:1.25px } .cs-facets__opt [ _ngcontent-odc-c45 ] { font-size:18px ; margin:11px 0 } .cs-facets__options__label [ _ngcontent-odc-c45 ] { padding:6px } .cs-facets__options__contain [ _ngcontent-odc-c45 ] : not ( .disabl ) : hover { background-color : # dbf1ff ; cursor : pointer } .cs-facets__options__contain [ _ngcontent-odc-c45 ] input [ _ngcontent-odc-c45 ] : hover { cursor : pointer } .cs-facets__options__container__select [ _ngcontent-odc-c45 ] { background-color : # dbf1ff } .cs-facets__options__contain [ _ngcontent-odc-c45 ] .disabl [ _ngcontent-odc-c45 ] { color : # 636363 } .cs-facets__options__contain [ _ngcontent-odc-c45 ] .disabl [ _ngcontent-odc-c45 ] : hover { background-color : # ececec } .cs-facets__opt [ _ngcontent-odc-c45 ] .disabl [ _ngcontent-odc-c45 ] { color : # 636363 } .cs-facets__opt [ _ngcontent-odc-c45 ] .disabl [ _ngcontent-odc-c45 ] : hover { background-color : # ececec ; cursor : pointer } .cs-facets__options__control [ _ngcontent-odc-c45 ] { padding:6px } .cs-facets__options__control [ _ngcontent-odc-c45 ] input [ type=checkbox ] [ _ngcontent-odc-c45 ] { margin:0 ; min-height:10px ; min-width:10px } < /style > < script charset= '' utf-8 '' data-webpack= '' nrba-1.251.1.prod : chunk-75 '' src= '' http : //js-agent.newrelic.com/nr-rum-1.251.1.min.j '' crossorigin= '' anonym '' integrity= '' sha512-se+mgwtmnbdp/masclg+gogptkspcendd09loplwi8jtivcrtbubqgqwgsdaufr6fumrbsb2ccq/hk5nzdakmq== '' > < /script > < meta http-equiv= '' origin-tri '' content= '' aymqwrc7u88y4jpvfif2f37qkylc04248hlcdjash8xgofe/dvjpv3xs3wlfca1zmvotnbfvjacmtvudwm//5g4aaab7eyjvcmlnaw4ioijodhrwczovl3d3dy5nb29nbgv0ywdtyw5hz2vylmnvbto0ndmilcjmzwf0dxjlijoiuhjpdmfjevnhbmrib3hbzhnbuelziiwizxhwaxj5ijoxnjk1mty3otk5lcjpc1roaxjkugfydhkionrydwv9 '' > < /head > < bodi class= '' no-sidebar path-nod page-node-type-minimal-pag '' > < a href= '' # main-cont '' class= '' visually-hidden focus skip-link '' > skip to main content < /a > < div class= '' dialog-off-canvas-main-canva '' data-off-canvas-main-canvas= '' '' > < div role= '' document '' class= '' page '' > < div id= '' mobile-placehold '' class= '' mobile-header-placehold '' > < /div > < header id= '' site-head '' class= '' navig '' role= '' banner '' > < div class= '' audience-menu nav '' > < div class= '' outer-wrapp navigation-wrapp '' > < nav aria-label= '' info for '' id= '' block-audiencemenu '' > < ul class= '' menu '' > < li class= '' menu-item '' > < a href= '' /student '' data-drupal-link-system-path= '' node/2884 '' > for student < /a > < /li > < li class= '' menu-item '' > < a href= '' http : //cap.csail.mit.edu/ '' title= '' csail allianc program websit '' > for industri < /a > < /li > < li class= '' menu-item '' > < a href= '' /internal-resourc '' data-drupal-link-system-path= '' node/4866 '' > for member < /a > < /li > < li class= '' menu-item '' > < a href= '' http : //accessibility.mit.edu/ '' title= '' access '' > access < /a > < /li > < li class= '' menu-item '' > < a href= '' /csail_login '' data-drupal-link-system-path= '' csail_login '' > login < /a > < /li > < /ul > < /nav > < /div > < /div > < div class= '' outer-wrapp navigation-wrapp '' > < div class= '' contain header '' > < div class= '' main-menu-wrapp '' > < div class= '' header-logo '' > < a href= '' / '' class= '' home-link '' > < svg width= '' 70px '' height= '' 40px '' viewbox= '' 0 0 150 86 '' version= '' 1.1 '' xmlns= '' http : //www.w3.org/2000/svg '' xmln : xlink= '' http : //www.w3.org/1999/xlink '' > < g id= '' page-1 '' stroke= '' none '' stroke-width= '' 1 '' fill= '' none '' fill-rule= '' evenodd '' > < g id= '' csail_primary_regular_rgb '' transform= '' translat ( -2.000000 , -4.000000 ) '' > < g id= '' group '' transform= '' translat ( 2.813800 , 4.812400 ) '' > < path d= '' m117.1642,2.233 l117.1642,34.729 l128.2572,34.729 l128.2572,54.917 l139.6382,54.917 l149.1102,12.778 l117.1642,2.233 z m117.1642,85.099 l133.9002,80.434 l137.7002,63.54 l117.1642,63.54 l117.1642,85.099 z m27.8702,0 l19.0112,0 l16.3062,10.112 l15.7572,13.366 l15.4432,13.366 l14.8942,10.19 l11.9942,0 l3.1742,0 l3.1742,18.265 l8.6222,18.265 l8.6222,8.739 l8.4272,5.407 l8.7802,5.407 l12.3862,18.265 l18.6192,18.265 l22.1462,5.368 l22.4992,5.368 l22.3022,9.015 l22.3022,18.265 l27.8702,18.265 l27.8702,0 z m33.7102,18.266 l40.0212,18.266 l40.0212,0 l33.7102,0 l33.7102,18.266 z m44.1772,0 l60.5612,0 l60.5612,5.133 l55.5432,5.133 l55.5432,18.265 l49.2322,18.265 l49.2322,5.133 l44.1772,5.133 l44.1772,0 z '' id= '' fill-1 '' fill= '' # 898d8d '' > < /path > < g id= '' group-6 '' transform= '' translat ( 0.000000 , 14.698700 ) '' > < path d= '' m74.5275,30.379 l76.5265,37.787 l70.9615,37.787 l72.9995,30.379 l73.6255,27.321 l73.9005,27.321 l74.5275,30.379 z m111.7655,27.085 l107.8455,27.085 l107.8455,41.785 l111.7655,41.785 l111.7655,48.842 l92.9115,48.842 l92.9115,41.785 l96.8315,41.785 l96.8315,27.085 l92.9115,27.085 l92.9115,20.03 l111.7655,20.03 l111.7655,27.085 z m93.5655,0 c84.6295,0 76.9855,1.843 73.6145,4.39 l67.8245,20.03 l80.2125,20.03 l90.7165,48.842 l79.1135,48.842 l77.8595,44.529 l69.7455,44.529 l68.4895,48.842 l57.1575,48.842 l52.6435,61.032 c55.7395,64.246 65.7755,66.755 78.0445,66.755 c89.5685,66.755 108.5015,64.167 117.1645,60.954 l117.1645,4.822 c113.9105,2.743 104.1105,0 93.5655,0 l93.5655,0 z '' id= '' fill-2 '' fill= '' # f0b323 '' > < /path > < path d= '' m31.671,48.3302 l31.671,40.1782 c33.828,41.0002 37.121,41.5502 40.373,41.5502 c43.156,41.5502 44.254,41.1972 44.254,39.8252 c44.254,38.6862 43.354,38.4522 40.373,37.9432 c36.219,37.2382 31.515,36.1792 31.515,29.4762 c31.515,23.2052 35.71,19.2842 44.921,19.2842 c49.155,19.2842 53.348,20.0702 54.838,20.5392 l54.838,28.0262 c51.78,27.3592 49.075,26.9692 46.293,26.9692 c44.921,26.9692 43.156,27.0862 43.156,28.4172 c43.156,29.5942 44.177,29.8302 47.861,30.5742 c52.448,31.5152 55.975,33.0042 55.975,38.7672 c55.975,43.8222 52.879,49.5462 42.06,49.5462 c38.023,49.5462 33.318,48.8802 31.671,48.3302 l31.671,48.3302 z m70.496,12.8122 l-7.10542736e-15,8.1912 l2.893,28.6612 c4.74,23.0992 9.731,19.2842 19.088,19.2842 c22.186,19.2842 25.401,19.8322 27.007,20.2652 l27.007,28.6142 c25.988,28.3002 23.205,27.9092 20.814,27.9092 c16.66,27.9092 13.562,29.3982 13.562,34.2972 c13.562,39.7862 17.482,41.0002 21.323,41.0002 c23.363,41.0002 24.577,40.8832 27.007,40.2972 l27.007,48.4502 c24.224,49.2702 22.147,49.5462 18.815,49.5462 c12.001,49.5462 7.678,47.5812 5.123,44.4512 l8.192,66.1672 l54.252,56.6872 l70.496,12.8122 z '' id= '' fill-4 '' fill= '' # b94700 '' > < /path > < /g > < /g > < /g > < /g > < /svg > < /a > < /div > < span class= '' header-mobile-wordmark '' > mit csail < /span > < div class= '' header-navig nav '' > < div class= '' menus-wrapp '' > < nav aria-label= '' main `` id= '' block-csail-main-menu '' > < ul class= '' menu navigation-menu '' > < li class= '' menu-item menu-item -- collaps nav-link '' > < a href= '' /research '' title= '' research area , impact area `` data-drupal-link-system-path= '' node/9140 '' > research < /a > < /li > < li class= '' menu-item menu-item -- active-trail nav-link '' > < a href= '' /peopl ? rolefacets=princip % 20investig % 2ccore/du % 2cassoci % 2cemeritu '' data-drupal-link-query= '' { & quot ; rolefacet & quot ; : & quot ; princip investig , core\\/du , associ , emeritu & quot ; } '' data-drupal-link-system-path= '' node/9844 '' > peopl < /a > < /li > < li class= '' menu-item nav-link '' > < a href= '' /new '' title= '' csail articl video and talk '' data-drupal-link-system-path= '' node/9142 '' > new < /a > < /li > < li class= '' menu-item nav-link '' > < a href= '' /event '' title= '' csail event calendar '' data-drupal-link-system-path= '' event '' > event < /a > < /li > < li class= '' menu-item nav-link '' > < a href= '' /symposia '' data-drupal-link-system-path= '' node/11219 '' > symposia < /a > < /li > < li class= '' menu-item nav-link '' > < a href= '' /about '' title= '' learn more about csail '' data-drupal-link-system-path= '' node/2851 '' > about < /a > < /li > < /ul > < /nav > < /div > < /div > < div class= '' header-icon '' > < a href= '' javascript : void ( 0 ) '' class= '' navigation-menu-button '' id= '' js-mobile-menu '' > < i class= '' fal fa-bar mobile-menu-button '' > < /i > < /a > < a href= '' javascript : void ( 0 ) '' id= '' js-search-trigg '' > < i class= '' fal fa-search '' > < /i > < /a > < a target= '' _blank '' href= '' http : //web.mit.edu/ '' > < ! -- ? xml version= '' 1.0 '' encoding= '' utf-8 '' ? -- > < svg class= '' mit-logo '' width= '' 49px '' height= '' 25px '' viewbox= '' 0 0 49 25 '' version= '' 1.1 '' xmlns= '' http : //www.w3.org/2000/svg '' xmln : xlink= '' http : //www.w3.org/1999/xlink '' > < ! -- gener : sketch 44 ( 41411 ) - http : //www.bohemiancoding.com/sketch -- > < titl > mit logo < /titl > < desc > creat with sketch. < /desc > < def > < /def > < g id= '' symbol '' stroke= '' none '' stroke-width= '' 1 '' fill= '' none '' fill-rule= '' evenodd '' > < g id= '' black-nav '' transform= '' translat ( -1116.000000 , -67.000000 ) '' > < g id= '' mit-logo '' transform= '' translat ( 1116.000000 , 67.000000 ) '' > < polygon id= '' fill-1 '' fill= '' # ffffff '' points= '' 17.1686747 25 22.439759 25 22.439759 0 17.1686747 0 '' > < /polygon > < polygon id= '' fill-2 '' fill= '' # ffffff '' points= '' 0 25 5.27108434 25 5.27108434 0 0 0 '' > < /polygon > < polygon id= '' fill-3 '' fill= '' # ffffff '' points= '' 8.58433735 17.0180723 13.8554217 17.0180723 13.8554217 0 8.58433735 0 '' > < /polygon > < polygon id= '' fill-4 '' fill= '' # ffffff '' points= '' 25.753012 4.96987952 31.0240964 4.96987952 31.0240964 0.00015060241 25.753012 0.00015060241 '' > < /polygon > < polygon id= '' fill-5 '' fill= '' # ffffff '' points= '' 34.4879518 25 39.7590361 25 39.7590361 7.98192771 34.4879518 7.98192771 '' > < /polygon > < polygon id= '' fill-6 '' fill= '' # ffffff '' points= '' 25.753012 25 31.0240964 25 31.0240964 7.98192771 25.753012 7.98192771 '' > < /polygon > < polygon id= '' fill-7 '' fill= '' # ffffff '' points= '' 34.4879518 4.96987952 48.3435241 4.96987952 48.3435241 0.00015060241 34.4879518 0.00015060241 '' > < /polygon > < /g > < /g > < /g > < /svg > < /a > < /div > < /div > < div class= '' header-mobile-navig '' > < div class= '' mobile-nav '' > < div class= '' mobile-menu '' > < nav aria-label= '' main `` id= '' block-csail-main-menu '' > < ul class= '' menu navigation-menu '' > < li class= '' menu-item menu-item -- collaps nav-link '' > < a href= '' /research '' title= '' research area , impact area `` data-drupal-link-system-path= '' node/9140 '' > research < /a > < /li > < li class= '' menu-item menu-item -- active-trail nav-link '' > < a href= '' /peopl ? rolefacets=princip % 20investig % 2ccore/du % 2cassoci % 2cemeritu '' data-drupal-link-query= '' { & quot ; rolefacet & quot ; : & quot ; princip investig , core\\/du , associ , emeritu & quot ; } '' data-drupal-link-system-path= '' node/9844 '' > peopl < /a > < /li > < li class= '' menu-item nav-link '' > < a href= '' /new '' title= '' csail articl video and talk '' data-drupal-link-system-path= '' node/9142 '' > new < /a > < /li > < li class= '' menu-item nav-link '' > < a href= '' /event '' title= '' csail event calendar '' data-drupal-link-system-path= '' event '' > event < /a > < /li > < li class= '' menu-item nav-link '' > < a href= '' /symposia '' data-drupal-link-system-path= '' node/11219 '' > symposia < /a > < /li > < li class= '' menu-item nav-link '' > < a href= '' /about '' title= '' learn more about csail '' data-drupal-link-system-path= '' node/2851 '' > about < /a > < /li > < /ul > < /nav > < /div > < div class= '' mobile-audience-menu '' > < nav aria-label= '' info for '' id= '' block-audiencemenu '' > < ul class= '' menu '' > < li class= '' menu-item '' > < a href= '' /student '' data-drupal-link-system-path= '' node/2884 '' > for student < /a > < /li > < li class= '' menu-item '' > < a href= '' http : //cap.csail.mit.edu/ '' title= '' csail allianc program websit '' > for industri < /a > < /li > < li class= '' menu-item '' > < a href= '' /internal-resourc '' data-drupal-link-system-path= '' node/4866 '' > for member < /a > < /li > < li class= '' menu-item '' > < a href= '' http : //accessibility.mit.edu/ '' title= '' access '' > access < /a > < /li > < li class= '' menu-item '' > < a href= '' /csail_login '' data-drupal-link-system-path= '' csail_login '' > login < /a > < /li > < /ul > < /nav > < /div > < div class= '' mobile-info-menu '' > < nav aria-label= '' info menu '' id= '' block-infomenu '' > < ul class= '' menu '' > < li class= '' menu-item '' > < a href= '' http : //live-csail.pantheonsite.io/contact-u '' > contact < /a > < /li > < li class= '' menu-item '' > < a href= '' mailto : news @ csail.mit.edu ? subject=csail % 20media % 20inquiri '' > press request < /a > < /li > < li class= '' menu-item '' > < a href= '' http : //accessibility.mit.edu/ '' > access < /a > < /li > < /ul > < /nav > < /div > < /div > < /div > < /div > < /div > < div class= '' search-sect '' > < div class= '' outer-wrapp '' > < form action= '' /search '' method= '' get '' id= '' search-block-form '' accept-charset= '' utf-8 '' > < label for= '' edit-key '' class= '' visually-hidden '' > search < /label > < input title= '' enter the term you wish to search for . '' placeholder= '' search csail '' data-drupal-selector= '' edit-key '' type= '' search '' id= '' edit-key '' name= '' keyword '' value= '' '' size= '' 15 '' maxlength= '' 128 '' class= '' form-search '' > < i id= '' js-search-clos '' class= '' fal fa-tim '' > < /i > < div data-drupal-selector= '' edit-act '' class= '' form-act js-form-wrapp form-wrapp '' id= '' edit-act '' > < input data-drupal-selector= '' edit-submit '' type= '' submit '' id= '' edit-submit '' value= '' search '' class= '' button js-form-submit form-submit '' > < /div > < /form > < /div > < /div > < /header > < section id= '' featur '' > < div class= '' column '' > < div class= '' '' > < div data-drupal-messages-fallback= '' '' class= '' hidden '' > < /div > < /div > < /div > < /section > < main role= '' main '' class= '' main-wrapp '' > < a id= '' main-cont '' tabindex= '' -1 '' > < /a > < section id= '' content '' > < div class= '' '' > < div id= '' block-csailangularpeopl '' class= '' block block-csail-angular block-csail-angular-peopl '' > < app-root _nghost-odc-c5= '' '' ng-version= '' 12.1.2 '' > < router-outlet _ngcontent-odc-c5= '' '' > < /router-outlet > < app-peopl _nghost-odc-c48= '' '' > < div _ngcontent-odc-c48= '' '' fxlayout= '' column '' class= '' cs-peopl '' style= '' flex-direct : column ; box-siz : border-box ; display : flex ; '' > < div _ngcontent-odc-c48= '' '' fxlayout= '' row '' fxlayout.xs= '' column '' fxlayoutalign= '' start center '' fxlayoutalign.xs= '' space-around center '' class= '' cs-people__head '' style= '' flex-direct : row ; box-siz : border-box ; display : flex ; place-cont : center flex-start ; align-item : center ; '' > < div _ngcontent-odc-c48= '' '' fxflex= '' 30 '' fxflex.xs= '' none '' fxflexorder.xs= '' 2 '' class= '' cs-people__header__control '' style= '' flex : 1 1 100 % ; box-siz : border-box ; max-width : 30 % ; '' > < div _ngcontent-odc-c48= '' '' fxlayout.xs= '' column '' fxlayout= '' row '' fxlayoutalign.xs= '' space-evenli start '' fxlayoutgap= '' 15px '' class= '' cs-people__search '' style= '' flex-direct : row ; box-siz : border-box ; display : flex ; '' > < lib-panel-toggle-button _ngcontent-odc-c48= '' '' fxflexorder.xs= '' 2 '' _nghost-odc-c39= '' '' style= '' margin-right : 15px ; '' > < div _ngcontent-odc-c39= '' '' class= '' cs-panel-toggl '' > < fa-icon _ngcontent-odc-c39= '' '' ngclass= '' cs-panel-toggle__icon '' class= '' ng-fa-icon cs-panel-toggle__icon '' > < svg role= '' img '' aria-hidden= '' true '' focusable= '' fals '' data-prefix= '' fa '' data-icon= '' angle-left '' class= '' svg-inlin -- fa fa-angle-left fa-w-8 '' xmlns= '' http : //www.w3.org/2000/svg '' viewbox= '' 0 0 256 512 '' > < path fill= '' currentcolor '' d= '' m31.7 239l136-136c9.4-9.4 24.6-9.4 33.9 0l22.6 22.6c9.4 9.4 9.4 24.6 0 33.9l127.9 256l96.4 96.4c9.4 9.4 9.4 24.6 0 33.9l201.7 409c-9.4 9.4-24.6 9.4-33.9 0l-136-136c-9.5-9.4-9.5-24.6-.1-34z '' > < /path > < /svg > < /fa-icon > < button _ngcontent-odc-c39= '' '' class= '' cs-panel-toggle__input '' > hide filter < /button > < /div > < /lib-panel-toggle-button > < lib-search-box _ngcontent-odc-c48= '' '' fxflexorder.xs= '' 1 '' _nghost-odc-c44= '' '' > < div _ngcontent-odc-c44= '' '' class= '' cs-search-box '' > < fa-icon _ngcontent-odc-c44= '' '' ngclass= '' cs-search-box__icon '' class= '' ng-fa-icon cs-search-box__icon '' > < svg role= '' img '' aria-hidden= '' true '' focusable= '' fals '' data-prefix= '' fa '' data-icon= '' search '' class= '' svg-inlin -- fa fa-search fa-w-16 '' xmlns= '' http : //www.w3.org/2000/svg '' viewbox= '' 0 0 512 512 '' > < path fill= '' currentcolor '' d= '' m505 442.7l405.3 343c-4.5-4.5-10.6-7-17-7h372c27.6-35.3 44-79.7 44-128c416 93.1 322.9 0 208 0s0 93.1 0 208s93.1 208 208 208c48.3 0 92.7-16.4 128-44v16.3c0 6.4 2.5 12.5 7 17l99.7 99.7c9.4 9.4 24.6 9.4 33.9 0l28.3-28.3c9.4-9.4 9.4-24.6.1-34zm208 336c-70.7 0-128-57.2-128-128 0-70.7 57.2-128 128-128 70.7 0 128 57.2 128 128 0 70.7-57.2 128-128 128z '' > < /path > < /svg > < /fa-icon > < input _ngcontent-odc-c44= '' '' type= '' text '' placeholder= '' search '' class= '' cs-search-box__input '' > < /div > < /lib-search-box > < ! -- -- > < ! -- -- > < /div > < /div > < h1 _ngcontent-odc-c48= '' '' fxflex= '' 40 '' fxflex.xs= '' none '' fxflexorder.sm= '' 1 '' fxflexorder.xs= '' 1 '' style= '' flex : 1 1 100 % ; box-siz : border-box ; max-width : 40 % ; order : 1 ; '' > peopl < /h1 > < div _ngcontent-odc-c48= '' '' fxflex= '' '' style= '' flex : 1 1 0 % ; box-siz : border-box ; '' > < /div > < /div > < div _ngcontent-odc-c48= '' '' fxlayout= '' row '' fxlayout.xs= '' column '' class= '' cs-people__main '' style= '' flex-direct : row ; box-siz : border-box ; display : flex ; '' > < div _ngcontent-odc-c48= '' '' fxflex= '' 400px '' fxflex.xs= '' none '' fxlayout.xs= '' column '' class= '' cs-people__filt '' style= '' flex : 1 1 400px ; box-siz : border-box ; max-width : 400px ; min-width : 400px ; '' > < lib-people-facet _ngcontent-odc-c48= '' '' fxlayout= '' column '' fxlayoutfill= '' '' fxlayoutgap= '' 41px '' ngclass= '' cs-people__filters__facet '' _nghost-odc-c47= '' '' class= '' cs-people__filters__facet '' style= '' flex-direct : column ; box-siz : border-box ; display : flex ; '' > < ! -- -- > < ! -- -- > < div _ngcontent-odc-c47= '' '' fxflex= '' '' class= '' cs-people-facet facet '' style= '' flex : 1 1 1e-09px ; box-siz : border-box ; margin-bottom : 41px ; '' > < lib-people-facet _ngcontent-odc-c47= '' '' title= '' role '' _nghost-odc-c46= '' '' > < div _ngcontent-odc-c46= '' '' class= '' cs-facet '' > < div _ngcontent-odc-c46= '' '' class= '' cs-facets__titl '' > role < /div > < div _ngcontent-odc-c46= '' '' fxlayout= '' column '' style= '' flex-direct : column ; box-siz : border-box ; display : flex ; '' > < div _ngcontent-odc-c46= '' '' class= '' cs-facets__opt '' > < div _ngcontent-odc-c46= '' '' fxlayout= '' row '' fxlayoutalign= '' start start '' fxlayoutgap= '' 13px '' class= '' facet facet__select '' style= '' flex-direct : row ; box-siz : border-box ; display : flex ; place-cont : flex-start ; align-item : flex-start ; '' > < div _ngcontent-odc-c46= '' '' class= '' cs-facets__options__control '' style= '' margin-right : 13px ; '' > < input _ngcontent-odc-c46= '' '' type= '' checkbox '' > < /div > < div _ngcontent-odc-c46= '' '' fxfill= '' '' class= '' cs-facets__options__label '' style= '' height : 100 % ; min-height : 100 % ; min-width : 100 % ; width : 100 % ; '' > princip investig < /div > < /div > < div _ngcontent-odc-c46= '' '' fxlayout= '' column '' class= '' cs-facets__options__children '' style= '' flex-direct : column ; box-siz : border-box ; display : flex ; '' > < div _ngcontent-odc-c46= '' '' > < div _ngcontent-odc-c46= '' '' fxlayout= '' row '' fxlayoutalign= '' start start '' fxlayoutgap= '' 13px '' class= '' facet facet__select '' style= '' flex-direct : row ; box-siz : border-box ; display : flex ; place-cont : flex-start ; align-item : flex-start ; '' > < div _ngcontent-odc-c46= '' '' class= '' cs-facets__options__control '' style= '' margin-right : 13px ; '' > < input _ngcontent-odc-c46= '' '' type= '' checkbox '' > < /div > < div _ngcontent-odc-c46= '' '' fxfill= '' '' class= '' cs-facets__options__label '' style= '' height : 100 % ; min-height : 100 % ; min-width : 100 % ; width : 100 % ; '' > core/du < /div > < /div > < /div > < div _ngcontent-odc-c46= '' '' > < div _ngcontent-odc-c46= '' '' fxlayout= '' row '' fxlayoutalign= '' start start '' fxlayoutgap= '' 13px '' class= '' facet facet__select '' style= '' flex-direct : row ; box-siz : border-box ; display : flex ; place-cont : flex-start ; align-item : flex-start ; '' > < div _ngcontent-odc-c46= '' '' class= '' cs-facets__options__control '' style= '' margin-right : 13px ; '' > < input _ngcontent-odc-c46= '' '' type= '' checkbox '' > < /div > < div _ngcontent-odc-c46= '' '' fxfill= '' '' class= '' cs-facets__options__label '' style= '' height : 100 % ; min-height : 100 % ; min-width : 100 % ; width : 100 % ; '' > associ < /div > < /div > < /div > < div _ngcontent-odc-c46= '' '' > < div _ngcontent-odc-c46= '' '' fxlayout= '' row '' fxlayoutalign= '' start start '' fxlayoutgap= '' 13px '' class= '' facet facet__select '' style= '' flex-direct : row ; box-siz : border-box ; display : flex ; place-cont : flex-start ; align-item : flex-start ; '' > < div _ngcontent-odc-c46= '' '' class= '' cs-facets__options__control '' style= '' margin-right : 13px ; '' > < input _ngcontent-odc-c46= '' '' type= '' checkbox '' > < /div > < div _ngcontent-odc-c46= '' '' fxfill= '' '' class= '' cs-facets__options__label '' style= '' height : 100 % ; min-height : 100 % ; min-width : 100 % ; width : 100 % ; '' > emeritu < /div > < /div > < /div > < /div > < ! -- -- > < /div > < div _ngcontent-odc-c46= '' '' > < div _ngcontent-odc-c46= '' '' fxlayout= '' row '' fxlayoutalign= '' start start '' fxlayoutgap= '' 13px '' class= '' facet facet__select '' style= '' flex-direct : row ; box-siz : border-box ; display : flex ; place-cont : flex-start ; align-item : flex-start ; '' > < div _ngcontent-odc-c46= '' '' class= '' cs-facets__options__control '' style= '' margin-right : 13px ; '' > < input _ngcontent-odc-c46= '' '' type= '' checkbox '' > < /div > < div _ngcontent-odc-c46= '' '' fxfill= '' '' class= '' cs-facets__options__label '' style= '' height : 100 % ; min-height : 100 % ; min-width : 100 % ; width : 100 % ; '' > research < /div > < /div > < div _ngcontent-odc-c46= '' '' fxlayout= '' row '' fxlayoutalign= '' start start '' fxlayoutgap= '' 13px '' class= '' facet facet__select '' style= '' flex-direct : row ; box-siz : border-box ; display : flex ; place-cont : flex-start ; align-item : flex-start ; '' > < div _ngcontent-odc-c46= '' '' class= '' cs-facets__options__control '' style= '' margin-right : 13px ; '' > < input _ngcontent-odc-c46= '' '' type= '' checkbox '' > < /div > < div _ngcontent-odc-c46= '' '' fxfill= '' '' class= '' cs-facets__options__label '' style= '' height : 100 % ; min-height : 100 % ; min-width : 100 % ; width : 100 % ; '' > graduat student < /div > < /div > < div _ngcontent-odc-c46= '' '' fxlayout= '' row '' fxlayoutalign= '' start start '' fxlayoutgap= '' 13px '' class= '' facet facet__select '' style= '' flex-direct : row ; box-siz : border-box ; display : flex ; place-cont : flex-start ; align-item : flex-start ; '' > < div _ngcontent-odc-c46= '' '' class= '' cs-facets__options__control '' style= '' margin-right : 13px ; '' > < input _ngcontent-odc-c46= '' '' type= '' checkbox '' > < /div > < div _ngcontent-odc-c46= '' '' fxfill= '' '' class= '' cs-facets__options__label '' style= '' height : 100 % ; min-height : 100 % ; min-width : 100 % ; width : 100 % ; '' > urop < /div > < /div > < /div > < /div > < /div > < ! -- -- > < /lib-people-facet > < /div > < ! -- -- > < div _ngcontent-odc-c47= '' '' class= '' cs-people-facet facet '' style= '' margin-bottom : 41px ; '' > < lib-facet-filt _ngcontent-odc-c47= '' '' facetname= '' staff '' _nghost-odc-c45= '' '' > < div _ngcontent-odc-c45= '' '' class= '' cs-facet '' > < div _ngcontent-odc-c45= '' '' class= '' cs-facets__titl '' > staff < /div > < ! -- -- > < ul _ngcontent-odc-c45= '' '' class= '' cs-facets__opt '' > < ! -- -- > < /ul > < /div > < ! -- -- > < /lib-facet-filt > < /div > < ! -- -- > < ! -- -- > < ! -- -- > < div _ngcontent-odc-c47= '' '' class= '' cs-people-facet facet '' > < lib-facet-filt _ngcontent-odc-c47= '' '' facetname= '' affili '' _nghost-odc-c45= '' '' > < div _ngcontent-odc-c45= '' '' class= '' cs-facet '' > < div _ngcontent-odc-c45= '' '' class= '' cs-facets__titl '' > affili < /div > < ! -- -- > < ul _ngcontent-odc-c45= '' '' class= '' cs-facets__opt '' > < ! -- -- > < /ul > < /div > < ! -- -- > < /lib-facet-filt > < /div > < ! -- -- > < ! -- -- > < ! -- -- > < ! -- -- > < /lib-people-facet > < /div > < ! -- -- > < div _ngcontent-odc-c48= '' '' fxflex= '' '' class= '' cs-people__contain '' style= '' flex : 1 1 0 % ; box-siz : border-box ; '' > < lib-people-result _ngcontent-odc-c48= '' '' _nghost-odc-c43= '' '' > < div _ngcontent-odc-c43= '' '' class= '' cs-people__result '' > < div _ngcontent-odc-c43= '' '' fxlayout= '' row wrap '' fxlayout.xs= '' column '' fxlayoutalign= '' start stretch '' fxlayoutalign.xs= '' space-evenli center '' fxlayoutgap= '' 15px grid '' fxlayoutgap.xs= '' 7px '' style= '' flex-flow : wrap ; box-siz : border-box ; display : flex ; place-cont : stretch flex-start ; align-item : stretch ; max-height : 100 % ; margin : 0px -15px -15px 0px ; '' > < ! -- -- > < ! -- -- > < ! -- -- > < ! -- -- > < ! -- -- > < ! -- -- > < div _ngcontent-odc-c43= '' '' class= '' flex-card '' style= '' pad : 0px 15px 15px 0px ; '' > < /div > < div _ngcontent-odc-c43= '' '' class= '' flex-card '' style= '' pad : 0px 15px 15px 0px ; '' > < /div > < div _ngcontent-odc-c43= '' '' class= '' flex-card '' style= '' pad : 0px 15px 15px 0px ; '' > < /div > < div _ngcontent-odc-c43= '' '' class= '' flex-card '' style= '' pad : 0px 15px 15px 0px ; '' > < /div > < div _ngcontent-odc-c43= '' '' class= '' flex-card '' style= '' pad : 0px 15px 15px 0px ; '' > < /div > < /div > < ! -- -- > < ! -- -- > < ! -- -- > < ! -- -- > < /div > < ! -- -- > < /lib-people-result > < /div > < /div > < /div > < ! -- -- > < /app-peopl > < ! -- -- > < /app-root > < /div > < div id= '' block-csail-cont '' class= '' block block-system block-system-main-block '' > < articl id= '' node-9844 '' class= '' '' role= '' articl '' about= '' /peopl '' > < /articl > < /div > < /div > < /section > < /main > < footer id= '' site-foot '' role= '' contentinfo '' > < section class= '' footer-bottom '' > < h2 > mit csail < /h2 > < div class= '' footer-sect '' > < div id= '' block-footerinfotextblock '' class= '' block block-block-cont block-block-content65e2ef2c-038f-4dc6-b6ed-2ff88073b056 '' > < div class= '' clearfix text-format field field -- name-bodi field -- type-text-with-summari field -- label-hidden field__item '' > < p > massachusett institut of technolog < /p > < p > comput scienc & amp ; artifici intellig laboratori < /p > < p > 32 vassar st , cambridg ma 02139 < /p > < /div > < /div > < nav aria-label= '' info menu '' id= '' block-infomenu '' > < ul class= '' menu '' > < li class= '' menu-item '' > < a href= '' http : //live-csail.pantheonsite.io/contact-u '' > contact < /a > < /li > < li class= '' menu-item '' > < a href= '' mailto : news @ csail.mit.edu ? subject=csail % 20media % 20inquiri '' > press request < /a > < /li > < li class= '' menu-item '' > < a href= '' http : //accessibility.mit.edu/ '' > access < /a > < /li > < /ul > < /nav > < div > < a href= '' http : //computing.mit.edu '' style= '' border-bottom : none ! import ; '' > < img style= '' max-width : 250px ; margin-right : 100px ; '' src= '' /themes/custom/csail/images/scc-black.png '' alt= '' mit schwarzman colleg of comput '' > < /a > < /div > < div id= '' block-footersocialinfoblock '' class= '' block block-block-cont block-block-content6b8d3d82-2fda-46aa-8055-09f052768ffd '' > < div class= '' footer-social-icon '' > < a aria-label= '' twitter '' target= '' _blank '' href= '' http : //twitter.com/mit_csail '' > < i class= '' fab fa-twitter-squar '' > < /i > < /a > < a aria-label= '' facebook '' target= '' _blank '' href= '' http : //www.facebook.com/mitcsail/ '' > < i class= '' fab fa-facebook-squar '' > < /i > < /a > < a aria-label= '' youtub '' target= '' _blank '' href= '' http : //www.youtube.com/user/mitcsail '' > < i class= '' fab fa-youtube-squar '' > < /i > < /a > < a aria-label= '' instagram '' target= '' _blank '' href= '' http : //www.instagram.com/mit_csail/ '' > < i class= '' fab fa-instagram '' > < /i > < /a > < a aria-label= '' linkedin '' target= '' _blank '' href= '' http : //www.linkedin.com/company/mit-csail '' > < i class= '' fab fa-linkedin '' > < /i > < /a > < /div > < /div > < /div > < /section > < /footer > < /div > < /div > < script type= '' application/json '' data-drupal-selector= '' drupal-settings-json '' > { `` path '' : { `` baseurl '' : '' \\/ '' , '' scriptpath '' : null , '' pathprefix '' : '' '' , '' currentpath '' : '' node\\/9844 '' , '' currentpathisadmin '' : fals , '' isfront '' : fals , '' currentlanguag '' : '' en '' , '' currentqueri '' : { `` affiliatefacet '' : '' alumni , visitor '' , '' rolefacet '' : '' princip investig , research , princip investig , grad student , princip investig , urop , princip investig , core\\/du , associ , emeritu '' , '' stafffacet '' : '' staff , administr '' } } , '' pluraldelimit '' : '' \\u0003 '' , '' suppressdeprecationerror '' : true , '' fitvid '' : { `` selector '' : '' .node\\r , .main-wrapp '' , '' custom_vendor '' : '' '' , '' ignore_selector '' : '' '' } , '' google_analyt '' : { `` trackoutbound '' : true , '' trackmailto '' : true , '' trackdownload '' : true , '' trackdownloadextens '' : '' 7z|aac|arc|arj|asf|asx|avi|bin|csv|doc ( x|m ) ? |dot ( x|m ) ? |exe|flv|gif|gz|gzip|hqx|jar|jp ? g|js|mp ( 2|3|4|e ? g ) |mov ( ie ) ? |msi|msp|pdf|phps|png|ppt ( x|m ) ? |pot ( x|m ) ? |pp ( x|m ) ? |ppam|sld ( x|m ) ? |thmx|qtm ? |ra ( m|r ) ? |sea|sit|tar|tgz|torrent|txt|wav|wma|wmv|wpd|xl ( x|m|b ) ? |xlt ( x|m ) |xlam|xml|z|zip '' , '' trackcolorbox '' : true } , '' user '' : { `` uid '' :0 , '' permissionshash '' : '' 93e78a3f36d5585de87f6d42e888f6eb167bcf31de54b95e8aec1cf3380914cc '' } } < /script > < script src= '' /sites/default/files/js/js_ueujuxsy2x0c3k6b-lg558vmhzzaizybgufl6wljwzk.j '' > < /script > < script type= '' text/javascript '' > window.nreum|| ( nreum= { } ) ; nreum.info= { `` beacon '' : '' bam.nr-data.net '' , '' licensekey '' : '' a26f390b95 '' , '' applicationid '' : '' 98296332 '' , '' transactionnam '' : '' m1ugyraawrfuv0ukdaofmuclthglw1bug00uwbq= '' , '' queuetim '' :0 , '' applicationtim '' :410 , '' att '' : '' hxiff1gash8= '' , '' errorbeacon '' : '' bam.nr-data.net '' , '' agent '' : '' '' } < /script > < div id= '' cboxoverlay '' style= '' display : none ; '' > < /div > < div id= '' colorbox '' class= '' '' role= '' dialog '' tabindex= '' -1 '' style= '' display : none ; '' > < div id= '' cboxwrapp '' > < div > < div id= '' cboxtopleft '' style= '' float : left ; '' > < /div > < div id= '' cboxtopcent '' style= '' float : left ; '' > < /div > < div id= '' cboxtopright '' style= '' float : left ; '' > < /div > < /div > < div style= '' clear : left ; '' > < div id= '' cboxmiddleleft '' style= '' float : left ; '' > < /div > < div id= '' cboxcont '' style= '' float : left ; '' > < div id= '' cboxtitl '' style= '' float : left ; '' > < /div > < div id= '' cboxcurr '' style= '' float : left ; '' > < /div > < button type= '' button '' id= '' cboxprevi '' > < /button > < button type= '' button '' id= '' cboxnext '' > < /button > < button type= '' button '' id= '' cboxslideshow '' > < /button > < div id= '' cboxloadingoverlay '' style= '' float : left ; '' > < /div > < div id= '' cboxloadinggraph '' style= '' float : left ; '' > < /div > < /div > < div id= '' cboxmiddleright '' style= '' float : left ; '' > < /div > < /div > < div style= '' clear : left ; '' > < div id= '' cboxbottomleft '' style= '' float : left ; '' > < /div > < div id= '' cboxbottomcent '' style= '' float : left ; '' > < /div > < div id= '' cboxbottomright '' style= '' float : left ; '' > < /div > < /div > < /div > < div style= '' posit : absolut ; width : 9999px ; visibl : hidden ; display : none ; max-width : none ; '' > < /div > < /div > < /bodi > < /html >\n",
            "\n",
            "Lancaster Stemmer:\n",
            "< html lang= '' en '' dir= '' ltr '' prefix= '' cont : http : //purl.org/rss/1.0/modules/content/ dc : http : //purl.org/dc/terms/ foaf : http : //xmlns.com/foaf/0.1/ og : http : //ogp.me/ns # rdfs : http : //www.w3.org/2000/01/rdf-schema # schema : http : //schema.org/ sioc : http : //rdfs.org/sioc/ns # sioct : http : //rdfs.org/sioc/types # sko : http : //www.w3.org/2004/02/skos/core # xsd : http : //www.w3.org/2001/xmlschema # `` class= '' js '' > < head > < met charset= '' utf-8 '' > < script type= '' text/javascrib '' async= '' '' src= '' https : //www.googletagmanager.com/gtag/js ? id=g-r5mvc7vp67 & amp ; cx=c & amp ; _slc=1 '' > < /script > < script async= '' '' src= '' https : //www.google-analytics.com/analytics.js '' > < /script > < script type= '' text/javascrib '' > ( window.nreum|| ( nreum= { } ) ) .init= { ajax : { deny_list : [ `` bam.nr-data.net '' ] } } ; ( window.nreum|| ( nreum= { } ) ) .loader_config= { licensekey : '' a26f390b95 '' , applicationid : '' 98296332 '' } ; ; / * ! for licens inform pleas see nr-loader-rum-1.251.1.min.js.license.txt * / ( ( ) = > { var e , t , r= { 234 : ( e , t , r ) = > { `` us strict '' ; r.d ( t , { p_ : ( ) = > v , mt : ( ) = > b , c5 : ( ) = > s , dl : ( ) = > w , op : ( ) = > s , lf : ( ) = > t , yu : ( ) = > x , dg : ( ) = > m , cx : ( ) = > c , ge : ( ) = > _ , su : ( ) = > r } ) ; var n=r ( 8632 ) , i=r ( 9567 ) ; const o= { beacon : n.ce.beacon , errorbeacon : n.ce.errorbeacon , licensekey : void 0 , applicationid : void 0 , sa : void 0 , queuetim : void 0 , applicationtim : void 0 , ttguid : void 0 , us : void 0 , account : void 0 , produc : void 0 , extr : void 0 , jsattribut : { } , userattribut : void 0 , at : void 0 , transactionnam : void 0 , tnameplain : void 0 } , a= { } ; funct s ( e ) { if ( ! e ) throw new er ( `` al info object requir an ag ident ! `` ) ; if ( ! a [ e ] ) throw new er ( `` info for `` .concat ( e , '' was nev set '' ) ) ; return a [ e ] } funct c ( e , t ) { if ( ! e ) throw new er ( `` al info object requir an ag ident ! `` ) ; a [ e ] = ( 0 , i.d ) ( t , o ) ; const r= ( 0 , n.ek ) ( e ) ; r & & ( r.info=a [ e ] ) } const u=e= > { if ( ! e|| '' string '' ! =typeof e ) return ! 1 ; try { document.createdocumentfrag ( ) .queryselector ( e ) } catch { return ! 1 } return ! 0 } ; var d=r ( 7056 ) , l=r ( 50 ) ; const f= '' [ data-nr-mask ] '' , g= ( ) = > { const e= { mask_selector : '' * '' , block_selector : '' [ data-nr-block ] '' , mask_input_options : { col : ! 1 , dat : ! 1 , '' datetime-local '' : ! 1 , email : ! 1 , mon : ! 1 , numb : ! 1 , rang : ! 1 , search : ! 1 , tel : ! 1 , text : ! 1 , tim : ! 1 , url : ! 1 , week : ! 1 , textare : ! 1 , select : ! 1 , password : ! 0 } } ; return { feature_flags : [ ] , proxy : { asset : void 0 , beacon : void 0 } , priv : { cookies_enabled : ! 0 } , ajax : { deny_list : void 0 , block_internal : ! 0 , en : ! 0 , harvesttimeseconds:10 , autostart : ! 0 } , distributed_tracing : { en : void 0 , exclude_newrelic_header : void 0 , cors_use_newrelic_header : void 0 , cors_use_tracecontext_header : void 0 , allowed_origins : void 0 } , sess : { domain : void 0 , expiresm : d.od , inactivem : d.hb } , ssl : void 0 , obfusc : void 0 , jser : { en : ! 0 , harvesttimeseconds:10 , autostart : ! 0 } , met : { en : ! 0 , autostart : ! 0 } , page_action : { en : ! 0 , harvesttimeseconds:30 , autostart : ! 0 } , page_view_event : { en : ! 0 , autostart : ! 0 } , page_view_timing : { en : ! 0 , harvesttimeseconds:30 , long_task : ! 1 , autostart : ! 0 } , session_trace : { en : ! 0 , harvesttimeseconds:10 , autostart : ! 0 } , harvest : { toomanyrequestsdelay:60 } , session_replay : { autostart : ! 0 , en : ! 1 , harvesttimeseconds:60 , sampling_rate:50 , error_sampling_rate:50 , collect_fonts : ! 1 , inline_images : ! 1 , inline_stylesheet : ! 0 , mask_all_inputs : ! 0 , get mask_text_selector ( ) { return e.mask_selector } , set mask_text_selector ( t ) { u ( t ) ? e.mask_selector= '' '' .concat ( t , '' , '' ) .concat ( f ) : '' '' ===t||null===t ? e.mask_selector=f : ( 0 , l.z ) ( `` an invalid session_replay.mask_selector was provid . ' * ' wil be us . `` , t ) } , get block_class ( ) { return '' nr-block '' } , get ignore_class ( ) { return '' nr-ignore '' } , get mask_text_class ( ) { return '' nr-mask '' } , get block_selector ( ) { return e.block_selector } , set block_selector ( t ) { u ( t ) ? e.block_selector+= '' , '' .concat ( t ) : '' '' ! ==t & & ( 0 , l.z ) ( `` an invalid session_replay.block_selector was provid and wil not be us '' , t ) } , get mask_input_options ( ) { return e.mask_input_options } , set mask_input_options ( t ) { t & & '' object '' ==typeof t ? e.mask_input_options= { ... t , password : ! 0 } : ( 0 , l.z ) ( `` an invalid session_replay.mask_input_opt was provid and wil not be us '' , t ) } } , spa : { en : ! 0 , harvesttimeseconds:10 , autostart : ! 0 } } } , p= { } , h= '' al config object requir an ag ident ! `` ; funct v ( e ) { if ( ! e ) throw new er ( h ) ; if ( ! p [ e ] ) throw new er ( `` config for `` .concat ( e , '' was nev set '' ) ) ; return p [ e ] } funct m ( e , t ) { if ( ! e ) throw new er ( h ) ; p [ e ] = ( 0 , i.d ) ( t , g ( ) ) ; const r= ( 0 , n.ek ) ( e ) ; r & & ( r.init=p [ e ] ) } funct b ( e , t ) { if ( ! e ) throw new er ( h ) ; var r=v ( e ) ; if ( r ) { for ( var n=t.split ( `` . `` ) , i=0 ; i < n.length-1 ; i++ ) if ( `` object '' ! =typeof ( r=r [ n [ i ] ] ) ) return ; r=r [ n [ n.length-1 ] ] } return r } const y= { accountid : void 0 , trustkey : void 0 , agentid : void 0 , licensekey : void 0 , applicationid : void 0 , xpid : void 0 } , a= { } ; funct w ( e ) { if ( ! e ) throw new er ( `` al loader-config object requir an ag ident ! `` ) ; if ( ! a [ e ] ) throw new er ( `` loaderconfig for `` .concat ( e , '' was nev set '' ) ) ; return a [ e ] } funct _ ( e , t ) { if ( ! e ) throw new er ( `` al loader-config object requir an ag ident ! `` ) ; a [ e ] = ( 0 , i.d ) ( t , y ) ; const r= ( 0 , n.ek ) ( e ) ; r & & ( r.loader_config=a [ e ] ) } const x= ( 0 , n.mf ) ( ) .o ; var e=r ( 385 ) , d=r ( 6818 ) ; const k= { buildenv : d.re , customtransact : void 0 , dis : ! 1 , distmethod : d.gf , isolatedbacklog : ! 1 , loadertyp : void 0 , maxbytes:3e4 , offset : math.floor ( e._a ? .performance ? .timeorigin||e._a ? .performance ? .timing ? .navigationstart||date.now ( ) ) , oner : void 0 , origin : '' '' +e._a.location , ptid : void 0 , releaseid : { } , sess : void 0 , xhrwrappable : '' funct '' ==typeof e._a.xmlhttprequest ? .prototype ? .addeventlistener , vert : d.q4 , denyl : void 0 } , j= { } ; funct s ( e ) { if ( ! e ) throw new er ( `` al runtim object requir an ag ident ! `` ) ; if ( ! j [ e ] ) throw new er ( `` runtim for `` .concat ( e , '' was nev set '' ) ) ; return j [ e ] } funct r ( e , t ) { if ( ! e ) throw new er ( `` al runtim object requir an ag ident ! `` ) ; j [ e ] = ( 0 , i.d ) ( t , k ) ; const r= ( 0 , n.ek ) ( e ) ; r & & ( r.runtime=j [ e ] ) } funct t ( e ) { return funct ( e ) { try { const t=s ( e ) ; return ! ! t.licensekey & & ! ! t.errorbeacon & & ! ! t.applicationid } catch ( e ) { return ! 1 } } ( e ) } } ,9567 : ( e , t , r ) = > { `` us strict '' ; r.d ( t , { d : ( ) = > i } ) ; var n=r ( 50 ) ; funct i ( e , t ) { try { if ( ! e|| '' object '' ! =typeof e ) return ( 0 , n.z ) ( `` set a config requir an object as input '' ) ; if ( ! t|| '' object '' ! =typeof t ) return ( 0 , n.z ) ( `` set a config requir a model to set it init property '' ) ; const r=object.create ( object.getprototypeof ( t ) , object.getownpropertydescriptors ( t ) ) , o=0===object.keys ( r ) .length ? e : r ; for ( let a in o ) if ( void 0 ! ==e [ a ] ) try { array.isarray ( e [ a ] ) & & array.isarray ( t [ a ] ) ? r [ a ] =array.from ( new set ( [ ... e [ a ] , ... t [ a ] ] ) ) : '' object '' ==typeof e [ a ] & & '' object '' ==typeof t [ a ] ? r [ a ] =i ( e [ a ] , t [ a ] ) : r [ a ] =e [ a ] } catch ( e ) { ( 0 , n.z ) ( `` an er occur whil set a property of a config '' , e ) } return r } catch ( e ) { ( 0 , n.z ) ( `` an er occ whil set a config '' , e ) } } } ,6818 : ( e , t , r ) = > { `` us strict '' ; r.d ( t , { re : ( ) = > i , gf : ( ) = > o , q4 : ( ) = > n } ) ; const n= '' 1.251.1 '' , i= '' prod '' , o= '' cdn '' } ,385 : ( e , t , r ) = > { `` us strict '' ; r.d ( t , { nk : ( ) = > d , tt : ( ) = > s , _a : ( ) = > o , cv : ( ) = > l , is : ( ) = > a , il : ( ) = > n , ux : ( ) = > c , v6 : ( ) = > i , w1 : ( ) = > u } ) ; const n= '' undefin '' ! =typeof window & & ! ! window.document , i= '' undefin '' ! =typeof workerglobalscop & & ( `` undefin '' ! =typeof self & & self instanceof workerglobalscop & & self.navigator instanceof workernavigator|| '' undefin '' ! =typeof globalth & & globalth instanceof workerglobalscop & & globalthis.navigator instanceof workernavig ) , o=n ? window : '' undefin '' ! =typeof workerglobalscop & & ( `` undefin '' ! =typeof self & & self instanceof workerglobalscop & & self|| '' undefin '' ! =typeof globalth & & globalth instanceof workerglobalscop & & globalth ) , a=boolean ( `` hid '' ===o ? .document ? .visibilitystate ) , s=/ipad|iphone|ipod/.test ( o.navigator ? .useragent ) , c=s & & '' undefin '' ==typeof sharedwork , u= ( ( ( ) = > { const e=o.navigator ? .useragent ? .match ( /firefox [ /\\s ] ( \\d+\\.\\d+ ) / ) ; array.isarray ( e ) & & e.length > =2 & & e [ 1 ] } ) ( ) , bool ( n & & window.document.documentmode ) ) , d= ! ! o.navigator ? .sendbeacon , l=math.floor ( o ? .performance ? .timeorigin||o ? .performance ? .timing ? .navigationstart||date.now ( ) ) } ,1117 : ( e , t , r ) = > { `` us strict '' ; r.d ( t , { w : ( ) = > o } ) ; var n=r ( 50 ) ; const i= { agentident : '' '' , ee : void 0 } ; class o { construct ( e ) { try { if ( `` object '' ! =typeof e ) return ( 0 , n.z ) ( `` shar context requir an object as input '' ) ; this.sharedcontext= { } , object.assign ( this.sharedcontext , i ) , object.entries ( e ) .foreach ( ( e= > { let [ t , r ] =e ; object.keys ( i ) .includes ( t ) & & ( this.sharedcontext [ t ] =r ) } ) ) } catch ( e ) { ( 0 , n.z ) ( `` an er occ whil set sharedcontext '' , e ) } } } } ,8e3 : ( e , t , r ) = > { `` us strict '' ; r.d ( t , { l : ( ) = > d , r : ( ) = > c } ) ; var n=r ( 8325 ) , i=r ( 1284 ) , o=r ( 4322 ) , a=r ( 3325 ) ; const s= { } ; funct c ( e , t ) { const r= { stag : ! 1 , pri : a.p [ t ] ||0 } ; u ( e ) , s [ e ] .get ( t ) ||s [ e ] .set ( t , r ) } funct u ( e ) { e & & ( s [ e ] || ( s [ e ] =new map ) ) } funct d ( ) { let e=arguments.length > 0 & & void 0 ! ==arguments [ 0 ] ? argu [ 0 ] : '' '' , t=arguments.length > 1 & & void 0 ! ==arguments [ 1 ] ? argu [ 1 ] : '' feat '' ; if ( u ( e ) , ! e|| ! s [ e ] .get ( t ) ) return a ( t ) ; s [ e ] .get ( t ) .staged= ! 0 ; const r= [ ... s [ e ] ] ; funct a ( t ) { const r=e ? n.ee.get ( e ) : n.ee , a=o.x.handlers ; if ( r.backlog & & a ) { var s=r.backlog [ t ] , c=a [ t ] ; if ( c ) { for ( var u=0 ; s & & u < s.length ; ++u ) l ( s [ u ] , c ) ; ( 0 , i.d ) ( c , ( funct ( e , t ) { ( 0 , i.d ) ( t , ( funct ( t , r ) { r [ 0 ] .on ( e , r [ 1 ] ) } ) ) } ) ) } delet a [ t ] , r.backlog [ t ] =null , r.emit ( `` drain- '' +t , [ ] ) } } r.every ( ( e= > { let [ t , r ] =e ; return r.staged } ) ) & & ( r.sort ( ( ( e , t ) = > e [ 1 ] .priority-t [ 1 ] .priority ) ) , r.foreach ( ( t= > { let [ r ] =t ; s [ e ] .delete ( r ) , a ( r ) } ) ) ) } funct l ( e , t ) { var r=e [ 1 ] ; ( 0 , i.d ) ( t [ r ] , ( funct ( t , r ) { var n=e [ 0 ] ; if ( r [ 0 ] ===n ) { var i=r [ 1 ] , o=e [ 3 ] , a=e [ 2 ] ; i.apply ( o , a ) } } ) ) } } ,8325 : ( e , t , r ) = > { `` us strict '' ; r.d ( t , { a : ( ) = > c , ee : ( ) = > u } ) ; var n=r ( 8632 ) , i=r ( 2210 ) , o=r ( 234 ) ; class a { construct ( e ) { this.contextid=e } } var s=r ( 3117 ) ; const c= '' nr @ context : '' .concat ( s.a ) , u=function e ( t , r ) { var n= { } , s= { } , d= { } , f= ! 1 ; try { f=16===r.length & & ( 0 , o.op ) ( r ) .isolatedbacklog } catch ( e ) { } var g= { on : h , addeventl : h , removeeventl : funct ( e , t ) { var r=n [ e ] ; if ( ! r ) return ; for ( var i=0 ; i < r.length ; i++ ) r [ i ] ===t & & r.splice ( i,1 ) } , emit : funct ( e , r , n , i , o ) { ! 1 ! ==o & & ( o= ! 0 ) ; if ( u.aborted & & ! i ) return ; t & & o & & t.emit ( e , r , n ) ; for ( var a=p ( n ) , c=v ( e ) , d=c.length , l=0 ; l < d ; l++ ) c [ l ] .apply ( a , r ) ; var f=b ( ) [ s [ e ] ] ; f & & f.push ( [ g , e , r , a ] ) ; return a } , get : m , list : v , context : p , buff : funct ( e , t ) { const r=b ( ) ; if ( t=t|| '' feat '' , g.aborted ) return ; object.entries ( e|| { } ) .foreach ( ( e= > { let [ n , i ] =e ; s [ i ] =t , t in r|| ( r [ t ] = [ ] ) } ) ) } , abort : l , abort : ! 1 , isbuff : funct ( e ) { return ! ! b ( ) [ s [ e ] ] } , debugid : r , backlog : f ? { } : t & & '' object '' ==typeof t.backlog ? t.backlog : { } } ; return g ; funct p ( e ) { return e & & e instanceof a ? e : e ? ( 0 , i.x ) ( e , c , ( ( ) = > new a ( c ) ) ) : new a ( c ) } funct h ( e , t ) { n [ e ] =v ( e ) .concat ( t ) } funct v ( e ) { return n [ e ] || [ ] } funct m ( t ) { return d [ t ] =d [ t ] ||e ( g , t ) } funct b ( ) { return g.backlog } } ( void 0 , '' glob '' ) , d= ( 0 , n.fp ) ( ) ; funct l ( ) { u.aborted= ! 0 , u.backlog= { } } d.ee|| ( d.ee=u ) } ,5546 : ( e , t , r ) = > { `` us strict '' ; r.d ( t , { e : ( ) = > n , p : ( ) = > i } ) ; var n=r ( 8325 ) .ee.get ( `` handl '' ) ; funct i ( e , t , r , i , o ) { o ? ( o.buffer ( [ e ] , i ) , o.emit ( e , t , r ) ) : ( n.buffer ( [ e ] , i ) , n.emit ( e , t , r ) ) } } ,4322 : ( e , t , r ) = > { `` us strict '' ; r.d ( t , { x : ( ) = > o } ) ; var n=r ( 5546 ) ; o.on=a ; var i=o.handlers= { } ; funct o ( e , t , r , o ) { a ( o||n.e , i , e , t , r ) } funct a ( e , t , r , i , o ) { o|| ( o= '' feat '' ) , e|| ( e=n. ) ; var a=t [ o ] =t [ o ] || { } ; ( a [ r ] =a [ r ] || [ ] ) .push ( [ e , i ] ) } } ,3239 : ( e , t , r ) = > { `` us strict '' ; r.d ( t , { bp : ( ) = > s , iz : ( ) = > c , m $ : ( ) = > a } ) ; var n=r ( 385 ) ; let i= ! 1 , o= ! 1 ; try { const e= { get pass ( ) { return i= ! 0 , ! 1 } , get sign ( ) { return o= ! 0 , ! 1 } } ; n._a.addeventlistener ( `` test '' , nul , e ) , n._a.removeeventlistener ( `` test '' , nul , e ) } catch ( e ) { } funct a ( e , t ) { return i||o ? { capt : ! ! e , pass : i , sign : t } : ! ! e } funct s ( e , t ) { let r=arguments.length > 2 & & void 0 ! ==arguments [ 2 ] & & argu [ 2 ] , n=arguments.length > 3 ? argu [ 3 ] : void 0 ; window.addeventlistener ( e , t , a ( r , n ) ) } funct c ( e , t ) { let r=arguments.length > 2 & & void 0 ! ==arguments [ 2 ] & & argu [ 2 ] , n=arguments.length > 3 ? argu [ 3 ] : void 0 ; document.addeventlistener ( e , t , a ( r , n ) ) } } ,3117 : ( e , t , r ) = > { `` us strict '' ; r.d ( t , { a : ( ) = > n } ) ; const n= ( 0 , r ( 4402 ) .rl ) ( ) } ,4402 : ( e , t , r ) = > { `` us strict '' ; r.d ( t , { rl : ( ) = > a , ky : ( ) = > s } ) ; var n=r ( 385 ) ; const i= '' xxxxxxxx-xxxx-4xxx-yxxx-xxxxxxxxxxxx '' ; funct o ( e , t ) { return e ? 15 & e [ t ] :16 * math.random ( ) |0 } funct a ( ) { const e=n._a ? .crypto||n._a ? .mscrypto ; let t , r=0 ; return e & & e.getrandomvalues & & ( t=e.getrandomvalues ( new uint8array ( 30 ) ) ) , i.split ( `` '' ) .map ( ( e= > '' x '' ===e ? o ( t , r++ ) .tostring ( 16 ) : '' y '' ===e ? ( 3 & o ( ) |8 ) .tostring ( 16 ) : e ) ) .join ( `` '' ) } funct s ( e ) { const t=n._a ? .crypto||n._a ? .mscrypto ; let r , i=0 ; t & & t.getrandomvalues & & ( r=t.getrandomvalues ( new uint8array ( e ) ) ) ; const a= [ ] ; for ( var s=0 ; s < e ; s++ ) a.push ( o ( r , i++ ) .tostring ( 16 ) ) ; return a.join ( `` '' ) } } ,7056 : ( e , t , r ) = > { `` us strict '' ; r.d ( t , { bq : ( ) = > n , hb : ( ) = > o , ik : ( ) = > c , od : ( ) = > i , ut : ( ) = > s , wo : ( ) = > a } ) ; const n= '' nrba '' , i=144e5 , o=18e5 , a= { paus : '' session-pause '' , reset : '' session-reset '' , resum : '' session-resume '' , upd : '' session-update '' } , s= { same_tab : '' same-tab '' , cross_tab : '' cross-tab '' } , c= { off:0 , full:1 , error:2 } } ,7894 : ( e , t , r ) = > { `` us strict '' ; funct n ( ) { return math.round ( performance.now ( ) ) } r.d ( t , { z : ( ) = > n } ) } ,50 : ( e , t , r ) = > { `` us strict '' ; funct n ( e , t ) { `` funct '' ==typeof console.warn & & ( console.warn ( `` new rel : `` .concat ( e ) ) , t & & console.warn ( t ) ) } r.d ( t , { z : ( ) = > n } ) } ,2825 : ( e , t , r ) = > { `` us strict '' ; r.d ( t , { n : ( ) = > d , t : ( ) = > l } ) ; var n=r ( 8325 ) , i=r ( 5546 ) , o=r ( 3325 ) , a=r ( 385 ) ; const s= '' newrel '' ; const c= { stn : [ o.d.sessiontrace ] , er : [ o.d.jserrors , o.d.metrics ] , in : [ o.d.pageaction ] , spa : [ o.d.spa ] , sr : [ o.d.sessionreplay , o.d.sessiontrace ] } , u=new set ; funct d ( e , t ) { const r=n.ee.get ( t ) ; e & & '' object '' ==typeof e & & ( u.has ( t ) || ( object.entries ( e ) .foreach ( ( e= > { let [ t , n ] =e ; c [ t ] ? c [ t ] .foreach ( ( e= > { n ? ( 0 , i.p ) ( `` feat- '' +t , [ ] , void 0 , e , r ) : ( 0 , i.p ) ( `` block- '' +t , [ ] , void 0 , e , r ) , ( 0 , i.p ) ( `` rumresp- '' +t , [ bool ( n ) ] , void 0 , e , r ) } ) ) : n & & ( 0 , i.p ) ( `` feat- '' +t , [ ] , void 0 , void 0 , r ) , l [ t ] =boolean ( n ) } ) ) , object.keys ( c ) .foreach ( ( e= > { void 0===l [ e ] & & ( c [ e ] ? .foreach ( ( t= > ( 0 , i.p ) ( `` rumresp- '' +e , [ ! 1 ] , void 0 , t , r ) ) ) , l [ e ] = ! 1 ) } ) ) , u.add ( t ) , funct ( ) { let e=arguments.length > 0 & & void 0 ! ==arguments [ 0 ] ? argu [ 0 ] : { } ; try { a._a.dispatchevent ( new customev ( s , { detail : e } ) ) } catch ( e ) { } } ( { load : ! 0 } ) ) ) } const l= { } } ,2210 : ( e , t , r ) = > { `` us strict '' ; r.d ( t , { x : ( ) = > i } ) ; var n=object.prototype.hasownproperty ; funct i ( e , t , r ) { if ( n.call ( e , t ) ) return e [ t ] ; var i=r ( ) ; if ( object.defineproperty & & object.keys ) try { return object.defineproperty ( e , t , { valu : i , writ : ! 0 , enum : ! 1 } ) , i } catch ( e ) { } return e [ t ] =i , i } } ,1284 : ( e , t , r ) = > { `` us strict '' ; r.d ( t , { d : ( ) = > n } ) ; const n= ( e , t ) = > object.entries ( e|| { } ) .map ( ( e= > { let [ r , n ] =e ; return t ( r , n ) } ) ) } ,4351 : ( e , t , r ) = > { `` us strict '' ; r.d ( t , { p : ( ) = > o } ) ; var n=r ( 8325 ) ; const i= ( ) = > { const e=new weakset ; return ( t , r ) = > { if ( `` object '' ==typeof r & & nul ! ==r ) { if ( e.has ( r ) ) return ; e.add ( r ) } return r } } ; funct o ( e ) { try { return json.stringify ( e , i ( ) ) } catch ( e ) { try { n.ee.emit ( `` internal-error '' , [ e ] ) } catch ( e ) { } } } } ,3960 : ( e , t , r ) = > { `` us strict '' ; r.d ( t , { kb : ( ) = > a , b2 : ( ) = > o } ) ; var n=r ( 3239 ) ; funct i ( ) { return '' undefin '' ==typeof document|| '' complet '' ===document.readystate } funct o ( e , t ) { if ( i ( ) ) return e ( ) ; ( 0 , n.bp ) ( `` load '' , e , t ) } funct a ( e ) { if ( i ( ) ) return e ( ) ; ( 0 , n.iz ) ( `` domcontentload '' , e ) } } ,8632 : ( e , t , r ) = > { `` us strict '' ; r.d ( t , { ez : ( ) = > d , ce : ( ) = > o , ek : ( ) = > u , fp : ( ) = > a , gg : ( ) = > l , h5 : ( ) = > c , mf : ( ) = > s } ) ; var n=r ( 7894 ) , i=r ( 385 ) ; const o= { beacon : '' bam.nr-data.net '' , errorbeacon : '' bam.nr-data.net '' } ; funct a ( ) { return i._a.nreum|| ( i._a.nreum= { } ) , void 0===i._a.newrelic & & ( i._a.newrelic=i._a.nreum ) , i._a.nreum } funct s ( ) { let e=a ( ) ; return e.o|| ( e.o= { st : i._a.settimeout , si : i._a.setimmediate , ct : i._a.cleartimeout , xhr : i._a.xmlhttprequest , req : i._a.request , ev : i._a.event , pr : i._a.promise , mo : i._a.mutationobserver , fetch : i._a.fetch } ) , e } funct c ( e , t ) { let r=a ( ) ; r.initializedagents ? ? = { } , t.initializedat= { ms : ( 0 , n.z ) ( ) , dat : new dat } , r.initializedagents [ e ] =t } funct u ( e ) { let t=a ( ) ; return t.initializedagents ? . [ e ] } funct d ( e , t ) { a ( ) [ e ] =t } funct l ( ) { return funct ( ) { let e=a ( ) ; const t=e.info|| { } ; e.info= { beacon : o.beacon , errorbeacon : o.errorbeacon , ... t } } ( ) , funct ( ) { let e=a ( ) ; const t=e.init|| { } ; e.init= { ... t } } ( ) , s ( ) , funct ( ) { let e=a ( ) ; const t=e.loader_config|| { } ; e.loader_config= { ... t } } ( ) , a ( ) } } ,7956 : ( e , t , r ) = > { `` us strict '' ; r.d ( t , { n : ( ) = > i } ) ; var n=r ( 3239 ) ; funct i ( e ) { let t=arguments.length > 1 & & void 0 ! ==arguments [ 1 ] & & argu [ 1 ] , r=arguments.length > 2 ? argu [ 2 ] : void 0 , i=arguments.length > 3 ? argu [ 3 ] : void 0 ; ( 0 , n.iz ) ( `` visibilitychang '' , ( funct ( ) { if ( t ) return void ( `` hid '' ===document.visibilitystate & & e ( ) ) ; e ( document.visibilitystate ) } ) , r , i ) } } ,3081 : ( e , t , r ) = > { `` us strict '' ; r.d ( t , { gf : ( ) = > o , my : ( ) = > i , t9 : ( ) = > n , vz : ( ) = > s , xs : ( ) = > a } ) ; const n=r ( 3325 ) .d.metrics , i= '' sm '' , o= '' cm '' , a= '' storesupportabilitymet '' , s= '' storeeventmet '' } ,7633 : ( e , t , r ) = > { `` us strict '' ; r.d ( t , { t : ( ) = > n } ) ; const n=r ( 3325 ) .d.pageviewevent } ,9251 : ( e , t , r ) = > { `` us strict '' ; r.d ( t , { t : ( ) = > n } ) ; const n=r ( 3325 ) .d.pageviewtiming } ,5938 : ( e , t , r ) = > { `` us strict '' ; r.d ( t , { w : ( ) = > i } ) ; var n=r ( 8325 ) ; class i { construct ( e , t , r ) { this.agentidentifier=e , this.aggregator=t , this.ee=n.ee.get ( e ) , this.featurename=r , this.blocked= ! 1 } } } ,7530 : ( e , t , r ) = > { `` us strict '' ; r.d ( t , { j : ( ) = > b } ) ; var n=r ( 3325 ) , i=r ( 234 ) , o=r ( 5546 ) , a=r ( 8325 ) , s=r ( 7894 ) , c=r ( 8e3 ) , u=r ( 3960 ) , d=r ( 385 ) , l=r ( 50 ) , f=r ( 3081 ) , g=r ( 8632 ) ; funct p ( ) { const e= ( 0 , g.gg ) ( ) ; [ `` seterrorhandl '' , '' fin '' , '' addtotrac '' , '' addreleas '' , '' addpageact '' , '' setcurrentroutenam '' , '' setpageviewnam '' , '' setcustomattribut '' , '' interact '' , '' noticeer '' , '' setuserid '' , '' setapplicationvert '' , '' start '' , '' recordreplay '' , '' pausereplay '' ] .foreach ( ( t= > { e [ t ] =function ( ) { for ( var r=arguments.length , n=new array ( r ) , i=0 ; i < r ; i++ ) n [ i ] =arguments [ i ] ; return funct ( t ) { for ( var r=arguments.length , n=new array ( r > 1 ? r-1:0 ) , i=1 ; i < r ; i++ ) n [ i-1 ] =arguments [ i ] ; let o= [ ] ; return object.values ( e.initializedagents ) .foreach ( ( e= > { e.exposed & & e.api [ t ] & & o.push ( e.api [ t ] ( ... n ) ) } ) ) , o.length > 1 ? o : o [ 0 ] } ( t , ... n ) } } ) ) } var h=r ( 2825 ) ; const v=e= > { const t=e.startswith ( `` http '' ) ; e+= '' / '' , r.p=t ? e : '' https : // '' +e } ; let m= ! 1 ; funct b ( e ) { let t=arguments.length > 1 & & void 0 ! ==arguments [ 1 ] ? argu [ 1 ] : { } , b=arguments.length > 2 ? argu [ 2 ] : void 0 , y=arguments.length > 3 ? argu [ 3 ] : void 0 , { init : a , info : w , loader_config : _ , runtim : x= { loadertyp : b } , expos : e= ! 0 } =t ; const d= ( 0 , g.gg ) ( ) ; w|| ( a=d.init , w=d.info , _=d.loader_config ) , ( 0 , i.dg ) ( e.agentidentifier , a|| { } ) , ( 0 , i.ge ) ( e.agentidentifier , _|| { } ) , w.jsattributes ? ? = { } , d.v6 & & ( w.jsattributes.isworker= ! 0 ) , ( 0 , i.cx ) ( e.agentidentifier , w ) ; const k= ( 0 , i.p_ ) ( e.agentidentifier ) , j= [ w.beacon , w.errorbeacon ] ; m|| ( k.proxy.assets & & ( v ( k.proxy.assets ) , j.push ( k.proxy.assets ) ) , k.proxy.beacon & & j.push ( k.proxy.beacon ) , p ( ) , ( 0 , g.ez ) ( `` activatedf '' , h.t ) ) , x.denylist= [ ... k.ajax.deny_list|| [ ] , ... k.ajax.block_internal ? j : [ ] ] , ( 0 , i.su ) ( e.agentidentifier , x ) , void 0===e.api & & ( e.api=function ( e , t ) { t|| ( 0 , c.r ) ( e , '' ap '' ) ; const g= { } ; var p=a.ee.get ( e ) , h=p.get ( `` trac '' ) , v= '' api- '' , m=v+ '' ixn- '' ; funct b ( t , r , n , o ) { const a= ( 0 , i.c5 ) ( e ) ; return null===r ? delet a.jsattributes [ t ] : ( 0 , i.cx ) ( e , { ... a , jsattribut : { ... a.jsattributes , [ t ] : r } } ) , w ( v , n , ! 0 , o||null===r ? `` sess '' : void 0 ) ( t , r ) } funct y ( ) { } [ `` seterrorhandl '' , '' fin '' , '' addtotrac '' , '' addreleas '' ] .foreach ( ( e= > { g [ e ] =w ( v , e , ! 0 , '' ap '' ) } ) ) , g.addpageaction=w ( v , '' addpageact '' , ! 0 , n.d.pageaction ) , g.setcurrentroutename=w ( v , '' routenam '' , ! 0 , n.d.spa ) , g.setpageviewname=function ( t , r ) { if ( `` string '' ==typeof t ) return '' / '' ! ==t.charat ( 0 ) & & ( t= '' / '' +t ) , ( 0 , i.op ) ( e ) .customtransaction= ( r|| '' http : //custom.transaction '' ) +t , w ( v , '' setpageviewnam '' , ! 0 ) ( ) } , g.setcustomattribute=function ( e , t ) { let r=arguments.length > 2 & & void 0 ! ==arguments [ 2 ] & & argu [ 2 ] ; if ( `` string '' ==typeof e ) { if ( [ `` string '' , '' numb '' , '' bool '' ] .includes ( typeof t ) ||null===t ) return b ( e , t , '' setcustomattribut '' , r ) ; ( 0 , l.z ) ( `` fail to execut setcustomattribute.\\nnon-null valu must be a string , numb or bool typ , but a typ of < `` .concat ( typeof t , '' > was provid . `` ) ) } els ( 0 , l.z ) ( `` fail to execut setcustomattribute.\\nnam must be a string typ , but a typ of < `` .concat ( typeof e , '' > was provid . `` ) ) } , g.setuserid=function ( e ) { if ( `` string '' ==typeof e||null=== ) return b ( `` enduser.id '' , e , '' setuserid '' , ! 0 ) ; ( 0 , l.z ) ( `` fail to execut setuserid.\\nnon-null valu must be a string typ , but a typ of < `` .concat ( typeof e , '' > was provid . `` ) ) } , g.setapplicationversion=function ( e ) { if ( `` string '' ==typeof e||null=== ) return b ( `` application.verj '' , e , '' setapplicationvert '' , ! 1 ) ; ( 0 , l.z ) ( `` fail to execut setapplicationvert . expect < string | nul > , but got < `` .concat ( typeof e , '' > . `` ) ) } , g.start=e= > { try { const t=e ? `` defin '' : '' undefin '' ; ( 0 , o.p ) ( f.xs , [ `` api/start/ '' .concat ( t , '' /called '' ) ] , void 0 , n.d.metrics , p ) ; const r=object.values ( n.d ) ; if ( void 0===e ) e=r ; els { if ( ( e=array.isarray ( e ) & & e.length ? e : [ e ] ) .some ( ( e= > ! r.includes ( e ) ) ) ) return ( 0 , l.z ) ( `` invalid feat nam supply . acceiv feat nam ar : `` .concat ( r ) ) ; e.includes ( n.d.pageviewevent ) ||e.push ( n.d.pageviewevent ) } e.foreach ( ( e= > { p.emit ( `` '' .concat ( e , '' -opt-in '' ) ) } ) ) } catch ( e ) { ( 0 , l.z ) ( `` an unexpect issu occur '' , e ) } } , g.recordreplay=function ( ) { ( 0 , o.p ) ( f.xs , [ `` api/recordreplay/called '' ] , void 0 , n.d.metrics , p ) , ( 0 , o.p ) ( `` recordreplay '' , [ ] , void 0 , n.d.sessionreplay , p ) } , g.pausereplay=function ( ) { ( 0 , o.p ) ( f.xs , [ `` api/pausereplay/called '' ] , void 0 , n.d.metrics , p ) , ( 0 , o.p ) ( `` pausereplay '' , [ ] , void 0 , n.d.sessionreplay , p ) } , g.interaction=function ( ) { return ( new y ) .get ( ) } ; var a=y.prototype= { createtrac : funct ( e , t ) { var r= { } , i=this , a= '' funct '' ==typeof t ; return ( 0 , o.p ) ( f.xs , [ `` api/createtracer/called '' ] , void 0 , n.d.metrics , p ) , ( 0 , o.p ) ( m+ '' trac '' , [ ( 0 , s.z ) ( ) , e , r ] , i , n.d.spa , p ) , funct ( ) { if ( h.emit ( ( a ? `` `` : '' no- '' ) + '' fn-start '' , [ ( 0 , s.z ) ( ) , i , a ] , r ) , a ) try { return t.apply ( thi , argu ) } catch ( e ) { throw h.emit ( `` fn-err '' , [ argu , thi , e ] , r ) , e } fin { h.emit ( `` fn-end '' , [ ( 0 , s.z ) ( ) ] , r ) } } } } ; funct w ( e , t , r , i ) { return funct ( ) { return ( 0 , o.p ) ( f.xs , [ `` api/ '' +t+ '' /called '' ] , void 0 , n.d.metrics , p ) , i & & ( 0 , o.p ) ( e+t , [ ( 0 , s.z ) ( ) , ... argu ] , r ? nul : thi , i , p ) , r ? void 0 : thi } } funct _ ( ) { r.e ( 75 ) .then ( r.bind ( r,7438 ) ) .then ( ( t= > { let { setap : r } =t ; r ( e ) , ( 0 , c.l ) ( e , '' ap '' ) } ) ) .catch ( ( ( ) = > ( 0 , l.z ) ( `` download runtim ap fail ... '' ) ) ) } return [ `` actiontext '' , '' setnam '' , '' setattribut '' , '' sav '' , '' ign '' , '' onend '' , '' getcontext '' , '' end '' , '' get '' ] .foreach ( ( e= > { a [ e ] =w ( m , e , void 0 , n.d.spa ) } ) ) , g.noticeerror=function ( e , t ) { `` string '' ==typeof e & & ( e=new er ( e ) ) , ( 0 , o.p ) ( f.xs , [ `` api/noticeerror/called '' ] , void 0 , n.d.metrics , p ) , ( 0 , o.p ) ( `` er '' , [ e , ( 0 , s.z ) ( ) , ! 1 , t ] , void 0 , n.d.jserrors , p ) } , d.il ? ( 0 , u.b2 ) ( ( ( ) = > _ ( ) ) , ! 0 ) : _ ( ) , g } ( e.agentidentifier , y ) ) , void 0===e.exposed & & ( e.exposed= ) , m= ! 0 } } ,1926 : ( e , t , r ) = > { r.nc= ( ( ) = > { try { return docu ? .currentscript ? .nonce } catch ( e ) { } return '' '' } ) ( ) } ,3325 : ( e , t , r ) = > { `` us strict '' ; r.d ( t , { d : ( ) = > n , p : ( ) = > i } ) ; const n= { ajax : '' ajax '' , jser : '' jser '' , met : '' met '' , pageact : '' page_action '' , pageviewev : '' page_view_event '' , pageviewtim : '' page_view_timing '' , sessionreplay : '' session_replay '' , sessiontrac : '' session_trace '' , spa : '' spa '' } , i= { [ n.pageviewevent ] :1 , [ n.pageviewtiming ] :2 , [ n.metrics ] :3 , [ n.jserrors ] :4 , [ n.ajax ] :5 , [ n.sessiontrace ] :6 , [ n.pageaction ] :7 , [ n.spa ] :8 , [ n.sessionreplay ] :9 } } } , n= { } ; funct i ( e ) { var t=n [ e ] ; if ( void 0 ! ==t ) return t.exports ; var o=n [ e ] = { export : { } } ; return r [ e ] ( o , o.exports , i ) , o.exports } i.m=r , i.d= ( e , t ) = > { for ( var r in t ) i.o ( t , r ) & & ! i.o ( e , r ) & & object.defineproperty ( e , r , { enum : ! 0 , get : t [ r ] } ) } , i.f= { } , i.e=e= > promise.all ( object.keys ( i.f ) .reduce ( ( ( t , r ) = > ( i.f [ r ] ( e , t ) , t ) ) , [ ] ) ) , i.u=e= > '' nr-rum-1.251.1.min.js '' , i.o= ( e , t ) = > object.prototype.hasownproperty.call ( e , t ) , e= { } , t= '' nrba-1.251.1.prod : '' , i.l= ( r , n , o , a ) = > { if ( e [ r ] ) e [ r ] .push ( n ) ; els { var s , c ; if ( void 0 ! ==o ) for ( var u=document.getelementsbytagname ( `` script '' ) , d=0 ; d < u.length ; d++ ) { var l=u [ d ] ; if ( l.getattribute ( `` src '' ) ==r||l.getattribute ( `` data-webpack '' ) ==t+o ) { s=l ; break } } if ( ! s ) { c= ! 0 ; var f= { 75 : '' sha512-se+mgwtmnbdp/masclg+gogptkspcendd09loplwi8jtivcrtbubqgqwgsdaufr6fumrbsb2ccq/hk5nzdakmq== '' } ; ( s=document.createelement ( `` script '' ) ) .charset= '' utf-8 '' , s.timeout=120 , i.nc & & s.setattribute ( `` nont '' , i.nc ) , s.setattribute ( `` data-webpack '' , t+o ) , s.src=r,0 ! ==s.src.indexof ( window.location.origin+ '' / '' ) & & ( s.crossorigin= '' anonym '' ) , f [ a ] & & ( s.integrity=f [ a ] ) } e [ r ] = [ n ] ; var g= ( t , n ) = > { s.onerror=s.onload=null , cleartimeout ( p ) ; var i=e [ r ] ; if ( delet e [ r ] , s.parentnode & & s.parentnode.removechild ( s ) , i & & i.foreach ( ( e= > e ( n ) ) ) , t ) return t ( n ) } , p=settimeout ( g.bind ( nul , void 0 , { typ : '' timeout '' , target : s } ) ,12e4 ) ; s.onerror=g.bind ( nul , s.onerror ) , s.onload=g.bind ( nul , s.onload ) , c & & document.head.appendchild ( s ) } } , i.r=e= > { `` undefin '' ! =typeof symbol & & symbol.tostringtag & & object.defineproperty ( e , symbol.tostringtag , { valu : '' mod '' } ) , object.defineproperty ( e , '' __esmodule '' , { valu : ! 0 } ) } , i.p= '' https : //js-agent.newrelic.com/ '' , ( ( ) = > { var e= { 50:0,832:0 } ; i.f.j= ( t , r ) = > { var n=i.o ( e , t ) ? e [ t ] : void 0 ; if ( 0 ! ==n ) if ( n ) r.push ( n [ 2 ] ) ; els { var o=new prom ( ( ( r , i ) = > n=e [ t ] = [ r , i ] ) ) ; r.push ( n [ 2 ] =o ) ; var a=i.p+i.u ( t ) , s=new er ; i.l ( a , ( r= > { if ( i.o ( e , t ) & & ( 0 ! == ( n=e [ t ] ) & & ( e [ t ] =void 0 ) , n ) ) { var o=r & & ( `` load '' ===r.type ? `` miss '' : r.type ) , a=r & & r.target & & r.target.src ; s.message= '' load chunk `` +t+ '' failed.\\n ( `` +o+ '' : `` +a+ '' ) '' , s.name= '' chunkloader '' , s.type=o , s.request=a , n [ 1 ] ( s ) } } ) , '' chunk- '' +t , t ) } } ; var t= ( t , r ) = > { var n , o , [ a , s , c ] =r , u=0 ; if ( a.some ( ( t= > 0 ! ==e [ t ] ) ) ) { for ( n in s ) i.o ( s , n ) & & ( i.m [ n ] =s [ n ] ) ; if ( c ) c ( i ) } for ( t & & t ( r ) ; u < a.length ; u++ ) o=a [ u ] , i.o ( e , o ) & & e [ o ] & & e [ o ] [ 0 ] ( ) , e [ o ] =0 } , r=self [ `` webpackchunk : nrba-1.251.1.prod '' ] =self [ `` webpackchunk : nrba-1.251.1.prod '' ] || [ ] ; r.foreach ( t.bind ( null,0 ) ) , r.push=t.bind ( nul , r.push.bind ( r ) ) } ) ( ) , ( ( ) = > { `` us strict '' ; i ( 1926 ) ; var e=i ( 50 ) ; class t { # e ( t ) { for ( var r=arguments.length , n=new array ( r > 1 ? r-1:0 ) , i=1 ; i < r ; i++ ) n [ i-1 ] =arguments [ i ] ; if ( `` funct '' ==typeof this.api ? . [ t ] ) return this.api [ t ] ( ... n ) ; ( 0 , e.z ) ( `` cal to ag ap `` .concat ( t , '' fail . the ap is not cur init . `` ) ) } addpageact ( e , t ) { return this. # e ( `` addpageact '' , e , t ) } setpageviewnam ( e , t ) { return this. # e ( `` setpageviewnam '' , e , t ) } setcustomattribut ( e , t , r ) { return this. # e ( `` setcustomattribut '' , e , t , r ) } noticeer ( e , t ) { return this. # e ( `` noticeer '' , e , t ) } setuserid ( e ) { return this. # e ( `` setuserid '' , e ) } setapplicationvert ( e ) { return this. # e ( `` setapplicationvert '' , e ) } seterrorhandl ( e ) { return this. # e ( `` seterrorhandl '' , e ) } fin ( e ) { return this. # e ( `` fin '' , e ) } addreleas ( e , t ) { return this. # e ( `` addreleas '' , e , t ) } start ( e ) { return this. # e ( `` start '' , e ) } recordreplay ( ) { return this. # e ( `` recordreplay '' ) } pausereplay ( ) { return this. # e ( `` pausereplay '' ) } addtotrac ( e ) { return this. # e ( `` addtotrac '' , e ) } setcurrentroutenam ( e ) { return this. # e ( `` setcurrentroutenam '' , e ) } interact ( ) { return this. # e ( `` interact '' ) } } var r=i ( 3325 ) , n=i ( 234 ) ; const o=object.values ( r.d ) ; funct a ( e ) { const t= { } ; return o.foreach ( ( r= > { t [ r ] =function ( e , t ) { return ! 1 ! == ( 0 , n.mt ) ( t , '' '' .concat ( e , '' .enabled '' ) ) } ( r , e ) } ) ) , t } var s=i ( 7530 ) ; var c=i ( 8e3 ) , u=i ( 5938 ) , d=i ( 3960 ) , l=i ( 385 ) ; class f extend u.w { construct ( e , t , r ) { let i= ! ( arguments.length > 3 & & void 0 ! ==arguments [ 3 ] ) ||arguments [ 3 ] ; sup ( e , t , r ) , this.auto=i , this.aborthandler=void 0 , this.feataggregate=void 0 , this.onaggregateimported=void 0 , ! 1=== ( 0 , n.mt ) ( this.agentidentifier , '' '' .concat ( this.featurename , '' .autostart '' ) ) & & ( this.auto= ! 1 ) , this.auto & & ( 0 , c.r ) ( e , r ) } importaggreg ( ) { let t=arguments.length > 0 & & void 0 ! ==arguments [ 0 ] ? argu [ 0 ] : { } ; if ( this.feataggregate ) return ; if ( ! this.auto ) return void this.ee.on ( `` '' .concat ( this.featurename , '' -opt-in '' ) , ( ( ) = > { ( 0 , c.r ) ( this.agentidentifier , this.featurename ) , this.auto= ! 0 , this.importaggregator ( ) } ) ) ; const r=l.il & & ! 0=== ( 0 , n.mt ) ( this.agentidentifier , '' privacy.cookies_enabled '' ) ; let o ; this.onaggregateimported=new prom ( ( e= > { o=e } ) ) ; const a=async ( ) = > { let n ; try { if ( r ) { const { setupagentsess : e } =await i.e ( 75 ) .then ( i.bind ( i,957 ) ) ; n=e ( this.agentidentifier ) } } catch ( t ) { ( 0 , e.z ) ( `` a problem occur when start up sess man . thi pag wil not start or extend any sess . `` , t ) } try { if ( ! this.shouldimportagg ( this.featurename , n ) ) return ( 0 , c.l ) ( this.agentidentifier , this.featurename ) , void o ( ! 1 ) ; const { lazyfeatureload : e } =await i.e ( 75 ) .then ( i.bind ( i,8582 ) ) , { aggreg : r } =await e ( this.featurename , '' aggreg '' ) ; this.feataggregate=new r ( this.agentidentifier , this.aggregator , t ) , o ( ! 0 ) } catch ( t ) { ( 0 , e.z ) ( `` download and init `` .concat ( this.featurename , '' fail ... '' ) , t ) , this.aborthandler ? . ( ) , ( 0 , c.l ) ( this.agentidentifier , this.featurename ) , o ( ! 1 ) } } ; l.il ? ( 0 , d.b2 ) ( ( ( ) = > a ( ) ) , ! 0 ) : a ( ) } shouldimportag ( e , t ) { return e ! ==r.d.sessionreplay|| ! ! n.yu.mo & & ( ! 1 ! == ( 0 , n.mt ) ( this.agentidentifier , '' session_trace.enabled '' ) & & ( ! ! t ? .isnew|| ! ! t ? .state.sessionreplaymode ) ) } } var g=i ( 7633 ) ; class p extend f { stat featurename=g.t ; construct ( e , t ) { let r= ! ( arguments.length > 2 & & void 0 ! ==arguments [ 2 ] ) ||arguments [ 2 ] ; sup ( e , t , g.t , r ) , this.importaggregator ( ) } } var h=i ( 1117 ) , v=i ( 1284 ) ; class m extend h.w { construct ( e ) { sup ( e ) , this.aggregateddata= { } } stor ( e , t , r , n , i ) { var o=this.getbucket ( e , t , r , i ) ; return o.metrics=function ( e , t ) { t|| ( t= { count:0 } ) ; return t.count+=1 , ( 0 , v.d ) ( e , ( funct ( e , r ) { t [ e ] =b ( r , t [ e ] ) } ) ) , t } ( n , o.metrics ) , o } merg ( e , t , r , n , i ) { var o=this.getbucket ( e , t , n , i ) ; if ( o.metrics ) { var a=o.metrics ; a.count+=r.count , ( 0 , v.d ) ( r , ( funct ( e , t ) { if ( `` count '' ! ==e ) { var n=a [ e ] , i=r [ e ] ; i & & ! i.c ? a [ e ] =b ( i.t , n ) : a [ e ] =function ( e , t ) { if ( ! t ) return e ; t.c|| ( t=y ( t.t ) ) ; return t.min=math.min ( e.min , t.min ) , t.max=math.max ( e.max , t.max ) , t.t+=e.t , t.sos+=e.sos , t.c+=e.c , t } ( i , a [ e ] ) } } ) ) } els o.metrics=r } storemet ( e , t , r , n ) { var i=this.getbucket ( e , t , r ) ; return i.stats=b ( n , i.stats ) , i } getbucket ( e , t , r , n ) { this.aggregateddata [ e ] || ( this.aggregateddata [ e ] = { } ) ; var i=this.aggregateddata [ e ] [ t ] ; return i|| ( i=this.aggregateddata [ e ] [ t ] = { param : r|| { } } , n & & ( i.custom=n ) ) , i } get ( e , t ) { return t ? this.aggregateddata [ e ] & & this.aggregateddata [ e ] [ t ] : this.aggregateddata [ e ] } tak ( e ) { for ( var t= { } , r= '' '' , n= ! 1 , i=0 ; i < e.length ; i++ ) t [ r=e [ i ] ] =a ( this.aggregateddata [ r ] ) , t [ r ] .length & & ( n= ! 0 ) , delet this.aggregateddata [ r ] ; return n ? t : nul } } funct b ( e , t ) { return null==e ? funct ( e ) { e ? e.c++ : e= { c:1 } ; return e } ( t ) : t ? ( t.c|| ( t=y ( t.t ) ) , t.c+=1 , t.t+=e , t.sos+=e * e , e > t.max & & ( t.max=e ) , e < t.min & & ( t.min=e ) , t ) : { t : e } } funct y ( e ) { return { t : e , min : e , max : e , sos : e * e , c:1 } } funct a ( e ) { return '' object '' ! =typeof e ? [ ] : ( 0 , v.d ) ( e , w ) } funct w ( e , t ) { return t } var _=i ( 8632 ) , x=i ( 4402 ) , e=i ( 4351 ) ; var d=i ( 5546 ) , k=i ( 7956 ) , j=i ( 3239 ) , s=i ( 7894 ) , r=i ( 9251 ) ; class t extend f { stat featurename=r.t ; construct ( e , t ) { let r= ! ( arguments.length > 2 & & void 0 ! ==arguments [ 2 ] ) ||arguments [ 2 ] ; sup ( e , t , r.t , r ) , l.il & & ( ( 0 , k.n ) ( ( ( ) = > ( 0 , d.p ) ( `` dochid '' , [ ( 0 , s.z ) ( ) ] , void 0 , r.t , this.ee ) ) , ! 0 ) , ( 0 , j.bp ) ( `` pagehid '' , ( ( ) = > ( 0 , d.p ) ( `` winpagehid '' , [ ( 0 , s.z ) ( ) ] , void 0 , r.t , this.ee ) ) ) , this.importaggregator ( ) ) } } var i= ( 3081 ) ; class p extend f { stat featurename=i.t9 ; construct ( e , t ) { let r= ! ( arguments.length > 2 & & void 0 ! ==arguments [ 2 ] ) ||arguments [ 2 ] ; sup ( e , t , i.t9 , r ) , this.importaggregator ( ) } } new class extend t { construct ( t ) { let r=arguments.length > 1 & & void 0 ! ==arguments [ 1 ] ? argu [ 1 ] : ( 0 , x.ky ) ( 16 ) ; sup ( ) , l._a ? ( this.agentidentifier=r , this.sharedaggregator=new m ( { agentident : this.agentidentifier } ) , this.features= { } , ( 0 , _.h5 ) ( r , thi ) , this.desiredfeatures=new set ( t.features|| [ ] ) , this.desiredfeatures.add ( p ) , ( 0 , s.j ) ( thi , t , t.loadertype|| '' ag '' ) , this.run ( ) ) : ( 0 , e.z ) ( `` fail to init the ag . could not determin the runtim environ . `` ) } get config ( ) { return { info : ( 0 , n.c5 ) ( this.agentidentifier ) , init : ( 0 , n.p_ ) ( this.agentidentifier ) , loader_config : ( 0 , n.dl ) ( this.agentidentifier ) , runtim : ( 0 , n.op ) ( this.agentidentifier ) } } run ( ) { try { const t=a ( this.agentidentifier ) , n= [ ... this.desiredfeature ] ; n.sort ( ( ( e , t ) = > r.p [ e.featurenam ] -r.p [ t.featurename ] ) ) , n.foreach ( ( n= > { if ( t [ n.featurename ] ||n.featurename===r.d.pageviewevent ) { const i=function ( e ) { switch ( e ) { cas r.d.ajax : return [ r.d.jserrors ] ; cas r.d.sessiontrace : return [ r.d.ajax , r.d.pageviewevent ] ; cas r.d.sessionreplay : return [ r.d.sessiontrace ] ; cas r.d.pageviewtiming : return [ r.d.pageviewevent ] ; default : return [ ] } } ( n.featurename ) ; i.every ( ( e= > t [ e ] ) ) || ( 0 , e.z ) ( `` '' .concat ( n.featurename , '' is en but on or mor depend feat has been dis ( `` ) .concat ( ( 0 , e.p ) ( i ) , '' ) . thi may caus unintend consequ or miss dat ... '' ) ) , this.feature [ n.featurename ] =new n ( this.agentidentifier , this.sharedaggregator ) } } ) ) } catch ( t ) { ( 0 , e.z ) ( `` fail to init al en instru class ( ag abort ) - '' , t ) ; for ( const e in this.feature ) this.feature [ e ] .aborthandler ? . ( ) ; const r= ( 0 , _.fp ) ( ) ; return delet r.initializedagents [ this.agentidentifier ] ? .api , delet r.initializedagents [ this.agentidentifier ] ? .features , delet this.sharedaggregator , r.ee ? .abort ( ) , delet r.ee ? .get ( this.agentidentifier ) , ! 1 } } } ( { feat : [ p , t , p ] , loadertyp : '' lit '' } ) } ) ( ) } ) ( ) ; < /script > < script > ( funct ( i , s , o , g , r , a , m ) { i [ `` googleanalyticsobject '' ] =r ; i [ r ] =i [ r ] ||function ( ) { ( i [ r ] .q=i [ r ] .q|| [ ] ) .push ( argu ) } , i [ r ] .l=1 * new dat ( ) ; a=s.createelement ( o ) , m=s.getelementsbytagname ( o ) [ 0 ] ; a.async=1 ; a.src=g ; m.parentnode.insertbefore ( a , m ) } ) ( window , docu , '' script '' , '' https : //www.google-analytics.com/analytics.js '' , '' ga '' ) ; ga ( `` cre '' , `` ua-5382944-3 '' , { `` cookiedomain '' : '' auto '' } ) ; ga ( `` set '' , `` anonymizeip '' , tru ) ; ga ( `` send '' , `` pageview '' ) ; < /script > < met name= '' gen '' content= '' drup 9 ( https : //www.drupal.org ) '' > < met name= '' mobileoptim '' content= '' wid '' > < met name= '' handheldfriend '' content= '' tru '' > < met name= '' viewport '' content= '' width=device-wid , initial-scale=1.0 '' > < styl type= '' text/css '' > svg : not ( : root ) .svg-inline -- fa { overflow : vis ; } .svg-inline -- fa { display : inline-block ; font-size : inherit ; height : 1em ; overflow : vis ; vertical-align : -0.125em ; } .svg-inline -- fa.fa-lg { vertical-align : -0.225em ; } .svg-inline -- fa.fa-w-1 { wid : 0.0625em ; } .svg-inline -- fa.fa-w-2 { wid : 0.125em ; } .svg-inline -- fa.fa-w-3 { wid : 0.1875em ; } .svg-inline -- fa.fa-w-4 { wid : 0.25em ; } .svg-inline -- fa.fa-w-5 { wid : 0.3125em ; } .svg-inline -- fa.fa-w-6 { wid : 0.375em ; } .svg-inline -- fa.fa-w-7 { wid : 0.4375em ; } .svg-inline -- fa.fa-w-8 { wid : 0.5em ; } .svg-inline -- fa.fa-w-9 { wid : 0.5625em ; } .svg-inline -- fa.fa-w-10 { wid : 0.625em ; } .svg-inline -- fa.fa-w-11 { wid : 0.6875em ; } .svg-inline -- fa.fa-w-12 { wid : 0.75em ; } .svg-inline -- fa.fa-w-13 { wid : 0.8125em ; } .svg-inline -- fa.fa-w-14 { wid : 0.875em ; } .svg-inline -- fa.fa-w-15 { wid : 0.9375em ; } .svg-inline -- fa.fa-w-16 { wid : 1em ; } .svg-inline -- fa.fa-w-17 { wid : 1.0625em ; } .svg-inline -- fa.fa-w-18 { wid : 1.125em ; } .svg-inline -- fa.fa-w-19 { wid : 1.1875em ; } .svg-inline -- fa.fa-w-20 { wid : 1.25em ; } .svg-inline -- fa.fa-pull-left { margin-right : 0.3em ; wid : auto ; } .svg-inline -- fa.fa-pull-right { margin-left : 0.3em ; wid : auto ; } .svg-inline -- fa.fa-border { height : 1.5em ; } .svg-inline -- fa.fa-li { wid : 2em ; } .svg-inline -- fa.fa-fw { wid : 1.25em ; } .fa-layers svg.svg-inline -- fa { bottom : 0 ; left : 0 ; margin : auto ; posit : absolv ; right : 0 ; top : 0 ; } .fa-layers { display : inline-block ; height : 1em ; posit : rel ; text-align : cent ; vertical-align : -0.125em ; wid : 1em ; } .fa-layers svg.svg-inline -- fa { -webkit-transform-origin : cent cent ; transform-origin : cent cent ; } .fa-layers-counter , .fa-layers-text { display : inline-block ; posit : absolv ; text-align : cent ; } .fa-layers-text { left : 50 % ; top : 50 % ; -webkit-transform : transl ( -50 % , -50 % ) ; transform : transl ( -50 % , -50 % ) ; -webkit-transform-origin : cent cent ; transform-origin : cent cent ; } .fa-layers-counter { background-color : # ff253a ; border-radius : 1em ; -webkit-box-sizing : border-box ; box-sizing : border-box ; col : # fff ; height : 1.5em ; line-height : 1 ; max-width : 5em ; min-width : 1.5em ; overflow : hid ; pad : 0.25em ; right : 0 ; text-overflow : ellips ; top : 0 ; -webkit-transform : scal ( 0.25 ) ; transform : scal ( 0.25 ) ; -webkit-transform-origin : top right ; transform-origin : top right ; } .fa-layers-bottom-right { bottom : 0 ; right : 0 ; top : auto ; -webkit-transform : scal ( 0.25 ) ; transform : scal ( 0.25 ) ; -webkit-transform-origin : bottom right ; transform-origin : bottom right ; } .fa-layers-bottom-left { bottom : 0 ; left : 0 ; right : auto ; top : auto ; -webkit-transform : scal ( 0.25 ) ; transform : scal ( 0.25 ) ; -webkit-transform-origin : bottom left ; transform-origin : bottom left ; } .fa-layers-top-right { right : 0 ; top : 0 ; -webkit-transform : scal ( 0.25 ) ; transform : scal ( 0.25 ) ; -webkit-transform-origin : top right ; transform-origin : top right ; } .fa-layers-top-left { left : 0 ; right : auto ; top : 0 ; -webkit-transform : scal ( 0.25 ) ; transform : scal ( 0.25 ) ; -webkit-transform-origin : top left ; transform-origin : top left ; } .fa-lg { font-size : 1.3333333333em ; line-height : 0.75em ; vertical-align : -0.0667em ; } .fa-xs { font-size : 0.75em ; } .fa-sm { font-size : 0.875em ; } .fa-1x { font-size : 1em ; } .fa-2x { font-size : 2em ; } .fa-3x { font-size : 3em ; } .fa-4x { font-size : 4em ; } .fa-5x { font-size : 5em ; } .fa-6x { font-size : 6em ; } .fa-7x { font-size : 7em ; } .fa-8x { font-size : 8em ; } .fa-9x { font-size : 9em ; } .fa-10x { font-size : 10em ; } .fa-fw { text-align : cent ; wid : 1.25em ; } .fa-ul { list-style-type : non ; margin-left : 2.5em ; padding-left : 0 ; } .fa-ul > li { posit : rel ; } .fa-li { left : -2em ; posit : absolv ; text-align : cent ; wid : 2em ; line-height : inherit ; } .fa-border { bord : solid 0.08em # ee ; border-radius : 0.1em ; pad : 0.2em 0.25em 0.15em ; } .fa-pull-left { flo : left ; } .fa-pull-right { flo : right ; } .fa.fa-pull-left , .fas.fa-pull-left , .far.fa-pull-left , .fal.fa-pull-left , .fab.fa-pull-left { margin-right : 0.3em ; } .fa.fa-pull-right , .fas.fa-pull-right , .far.fa-pull-right , .fal.fa-pull-right , .fab.fa-pull-right { margin-left : 0.3em ; } .fa-spin { -webkit-animation : fa-spin 2s infinit linear ; anim : fa-spin 2s infinit linear ; } .fa-pulse { -webkit-animation : fa-spin 1s infinit step ( 8 ) ; anim : fa-spin 1s infinit step ( 8 ) ; } @ -webkit-keyframes fa-spin { 0 % { -webkit-transform : rot ( 0deg ) ; transform : rot ( 0deg ) ; } 100 % { -webkit-transform : rot ( 360deg ) ; transform : rot ( 360deg ) ; } } @ keyfram fa-spin { 0 % { -webkit-transform : rot ( 0deg ) ; transform : rot ( 0deg ) ; } 100 % { -webkit-transform : rot ( 360deg ) ; transform : rot ( 360deg ) ; } } .fa-rotate-90 { -ms-filter : `` progid : dximagetransform.microsoft.basicimage ( rotation=1 ) '' ; -webkit-transform : rot ( 90deg ) ; transform : rot ( 90deg ) ; } .fa-rotate-180 { -ms-filter : `` progid : dximagetransform.microsoft.basicimage ( rotation=2 ) '' ; -webkit-transform : rot ( 180deg ) ; transform : rot ( 180deg ) ; } .fa-rotate-270 { -ms-filter : `` progid : dximagetransform.microsoft.basicimage ( rotation=3 ) '' ; -webkit-transform : rot ( 270deg ) ; transform : rot ( 270deg ) ; } .fa-flip-horizontal { -ms-filter : `` progid : dximagetransform.microsoft.basicimage ( rotation=0 , mirror=1 ) '' ; -webkit-transform : scal ( -1 , 1 ) ; transform : scal ( -1 , 1 ) ; } .fa-flip-vertical { -ms-filter : `` progid : dximagetransform.microsoft.basicimage ( rotation=2 , mirror=1 ) '' ; -webkit-transform : scal ( 1 , -1 ) ; transform : scal ( 1 , -1 ) ; } .fa-flip-both , .fa-flip-horizontal.fa-flip-vertical { -ms-filter : `` progid : dximagetransform.microsoft.basicimage ( rotation=2 , mirror=1 ) '' ; -webkit-transform : scal ( -1 , -1 ) ; transform : scal ( -1 , -1 ) ; } : root .fa-rotate-90 , : root .fa-rotate-180 , : root .fa-rotate-270 , : root .fa-flip-horizontal , : root .fa-flip-vertical , : root .fa-flip-both { -webkit-filter : non ; filt : non ; } .fa-stack { display : inline-block ; height : 2em ; posit : rel ; wid : 2.5em ; } .fa-stack-1x , .fa-stack-2x { bottom : 0 ; left : 0 ; margin : auto ; posit : absolv ; right : 0 ; top : 0 ; } .svg-inline -- fa.fa-stack-1x { height : 1em ; wid : 1.25em ; } .svg-inline -- fa.fa-stack-2x { height : 2em ; wid : 2.5em ; } .fa-inverse { col : # fff ; } .sr-only { bord : 0 ; clip : rect ( 0 , 0 , 0 , 0 ) ; height : 1px ; margin : -1px ; overflow : hid ; pad : 0 ; posit : absolv ; wid : 1px ; } .sr-only-focusable : act , .sr-only-focusable : foc { clip : auto ; height : auto ; margin : 0 ; overflow : vis ; posit : stat ; wid : auto ; } .svg-inline -- fa .fa-primary { fil : var ( -- fa-primary-color , currentcol ) ; opac : 1 ; opac : var ( -- fa-primary-opacity , 1 ) ; } .svg-inline -- fa .fa-secondary { fil : var ( -- fa-secondary-color , currentcol ) ; opac : 0.4 ; opac : var ( -- fa-secondary-opacity , 0.4 ) ; } .svg-inline -- fa.fa-swap-opacity .fa-primary { opac : 0.4 ; opac : var ( -- fa-secondary-opacity , 0.4 ) ; } .svg-inline -- fa.fa-swap-opacity .fa-secondary { opac : 1 ; opac : var ( -- fa-primary-opacity , 1 ) ; } .svg-inline -- fa mask .fa-primary , .svg-inline -- fa mask .fa-secondary { fil : black ; } .fad.fa-inverse { col : # fff ; } < /style > < link rel= '' icon '' href= '' /themes/custom/csail/images/favicon.ico '' type= '' image/vnd.microsoft.icon '' > < link rel= '' canon '' href= '' https : //www.csail.mit.edu/people '' > < link rel= '' shortlink '' href= '' https : //www.csail.mit.edu/node/9844 '' > < titl > peopl | mit csail < /title > < link rel= '' stylesheet '' media= '' al '' href= '' /sites/default/files/css/css_j2dqcpr57tj2pmdri-u_szogutxtwzysugxbbrexzoi.css '' > < link rel= '' stylesheet '' media= '' al '' href= '' /sites/default/files/css/css_sjdodlnp3jfketm2qnp1cdobgdu9q32wd5oq8gzz418.css '' > < link rel= '' stylesheet '' media= '' print '' href= '' /sites/default/files/css/css_bxopm60js0t5tqhtosvx2eqxczarisu4kflvxy0wqaw.css '' > < styl id= '' fit-vids-style '' > .fluid-width-video-wrapper { width:100 % ; posit : rel ; padding:0 ; } .fluid-width-video-wrapper ifram , .fluid-width-video-wrapper object , .fluid-width-video-wrapper emb { posit : absolv ; top:0 ; left:0 ; width:100 % ; height:100 % ; } < /style > < styl > < /style > < styl > @ font-face { font-family : basis-grotesque-bold ; src : url ( https : //www.csail.mit.edu/themes/custom/csail/fonts/basis-grotesque-bold/basis-grotesque-bold.eot ) ; src : url ( https : //www.csail.mit.edu/themes/custom/csail/fonts/basis-grotesque-bold/basis-grotesque-bold.eot # iefix ) form ( `` embedded-opentype '' ) , url ( https : //www.csail.mit.edu/themes/custom/csail/fonts/basis-grotesque-bold/basis-grotesque-bold.woff ) form ( `` woff '' ) , url ( https : //www.csail.mit.edu/themes/custom/csail/fonts/basis-grotesque-bold/basis-grotesque-bold.woff2 ) form ( `` woff2 '' ) , url ( https : //www.csail.mit.edu/themes/custom/csail/fonts/basis-grotesque-bold/basis-grotesque-bold.ttf ) form ( `` truetyp '' ) ; font-weight:700 ; font-style : norm ; font-vari : norm ; line-height:1 ; speak : non ; text-rendering : optimizeleg ; text-transform : non ; -webkit-font-smoothing : antialias ; -moz-osx-font-smoothing : graysc } @ font-face { font-family : basis-grotesque-medium ; src : url ( https : //www.csail.mit.edu/themes/custom/csail/fonts/basis-grotesque-medium/basis-grotesque-medium.eot ) ; src : url ( https : //www.csail.mit.edu/themes/custom/csail/fonts/basis-grotesque-medium/basis-grotesque-medium.eot # iefix ) form ( `` embedded-opentype '' ) , url ( https : //www.csail.mit.edu/themes/custom/csail/fonts/basis-grotesque-medium/basis-grotesque-medium.woff ) form ( `` woff '' ) , url ( https : //www.csail.mit.edu/themes/custom/csail/fonts/basis-grotesque-medium/basis-grotesque-medium.woff2 ) form ( `` woff2 '' ) , url ( https : //www.csail.mit.edu/themes/custom/csail/fonts/basis-grotesque-medium/basis-grotesque-medium.ttf ) form ( `` truetyp '' ) ; font-weight:400 ; font-style : norm ; font-vari : norm ; line-height:1 ; speak : non ; text-rendering : optimizeleg ; text-transform : non ; -webkit-font-smoothing : antialias ; -moz-osx-font-smoothing : graysc } @ font-face { font-family : basis-grotesque-monobold ; src : url ( https : //www.csail.mit.edu/themes/custom/csail/fonts/basis-grotesque-monobold/basis-grotesque-monobold.eot ) ; src : url ( https : //www.csail.mit.edu/themes/custom/csail/fonts/basis-grotesque-monobold/basis-grotesque-monobold.eot # iefix ) form ( `` embedded-opentype '' ) , url ( https : //www.csail.mit.edu/themes/custom/csail/fonts/basis-grotesque-monobold/basis-grotesque-monobold.woff ) form ( `` woff '' ) , url ( https : //www.csail.mit.edu/themes/custom/csail/fonts/basis-grotesque-monobold/basis-grotesque-monobold.woff2 ) form ( `` woff2 '' ) , url ( https : //www.csail.mit.edu/themes/custom/csail/fonts/basis-grotesque-monobold/basis-grotesque-monobold.ttf ) form ( `` truetyp '' ) ; font-weight:400 ; font-style : norm ; font-vari : norm ; line-height:1 ; speak : non ; text-rendering : optimizeleg ; text-transform : non ; -webkit-font-smoothing : antialias ; -moz-osx-font-smoothing : graysc } @ font-face { font-family : basis-grotesque-off-white ; src : url ( https : //www.csail.mit.edu/themes/custom/csail/fonts/basis-grotesque-off-white/basis-grotesque-off-white.eot ) ; src : url ( https : //www.csail.mit.edu/themes/custom/csail/fonts/basis-grotesque-off-white/basis-grotesque-off-white.eot # iefix ) form ( `` embedded-opentype '' ) , url ( https : //www.csail.mit.edu/themes/custom/csail/fonts/basis-grotesque-off-white/basis-grotesque-off-white.woff ) form ( `` woff '' ) , url ( https : //www.csail.mit.edu/themes/custom/csail/fonts/basis-grotesque-off-white/basis-grotesque-off-white.woff2 ) form ( `` woff2 '' ) , url ( https : //www.csail.mit.edu/themes/custom/csail/fonts/basis-grotesque-off-white/basis-grotesque-off-white.ttf ) form ( `` truetyp '' ) ; font-weight:400 ; font-style : norm ; font-vari : norm ; line-height:1 ; speak : non ; text-rendering : optimizeleg ; text-transform : non ; -webkit-font-smoothing : antialias ; -moz-osx-font-smoothing : graysc } @ font-face { font-family : basis-grotesque-regular ; src : url ( https : //www.csail.mit.edu/themes/custom/csail/fonts/basis-grotesque-regular/basis-grotesque-regular.eot ) ; src : url ( https : //www.csail.mit.edu/themes/custom/csail/fonts/basis-grotesque-regular/basis-grotesque-regular.eot # iefix ) form ( `` embedded-opentype '' ) , url ( https : //www.csail.mit.edu/themes/custom/csail/fonts/basis-grotesque-regular/basis-grotesque-regular.woff ) form ( `` woff '' ) , url ( https : //www.csail.mit.edu/themes/custom/csail/fonts/basis-grotesque-regular/basis-grotesque-regular.woff2 ) form ( `` woff2 '' ) , url ( https : //www.csail.mit.edu/themes/custom/csail/fonts/basis-grotesque-regular/basis-grotesque-regular.ttf ) form ( `` truetyp '' ) ; font-weight:400 ; font-style : norm ; font-vari : norm ; line-height:1 ; speak : non ; text-rendering : optimizeleg ; text-transform : non ; -webkit-font-smoothing : antialias ; -moz-osx-font-smoothing : graysc } @ font-face { font-family : csail-ebony-bold ; src : url ( https : //www.csail.mit.edu/themes/custom/csail/fonts/csail_ebony/csail_ebony-bold.eot ) ; src : url ( https : //www.csail.mit.edu/themes/custom/csail/fonts/csail_ebony/csail_ebony-bold.eot # iefix ) form ( `` embedded-opentype '' ) , url ( https : //www.csail.mit.edu/themes/custom/csail/fonts/csail_ebony/csail_ebony-bold.woff ) form ( `` woff '' ) , url ( https : //www.csail.mit.edu/themes/custom/csail/fonts/csail_ebony/csail_ebony-bold.woff2 ) form ( `` woff2 '' ) ; font-weight:400 ; font-style : norm ; font-vari : norm ; line-height:1 ; speak : non ; text-rendering : optimizeleg ; text-transform : non ; -webkit-font-smoothing : antialias ; -moz-osx-font-smoothing : graysc } @ font-face { font-family : csail-ebony-regular ; src : url ( https : //www.csail.mit.edu/themes/custom/csail/fonts/csail_ebony/csail_ebony-regular.eot ) ; src : url ( https : //www.csail.mit.edu/themes/custom/csail/fonts/csail_ebony/csail_ebony-regular.eot # iefix ) form ( `` embedded-opentype '' ) , url ( https : //www.csail.mit.edu/themes/custom/csail/fonts/csail_ebony/csail_ebony-regular.woff ) form ( `` woff '' ) , url ( https : //www.csail.mit.edu/themes/custom/csail/fonts/csail_ebony/csail_ebony-regular.woff2 ) form ( `` woff2 '' ) ; font-weight:400 ; font-style : norm ; font-vari : norm ; line-height:1 ; speak : non ; text-rendering : optimizeleg ; text-transform : non ; -webkit-font-smoothing : antialias ; -moz-osx-font-smoothing : graysc } @ font-face { font-family : csail-ebony-light ; src : url ( https : //www.csail.mit.edu/themes/custom/csail/fonts/csail_ebony/csail_ebony-light.eot ) ; src : url ( https : //www.csail.mit.edu/themes/custom/csail/fonts/csail_ebony/csail_ebony-light.eot # iefix ) form ( `` embedded-opentype '' ) , url ( https : //www.csail.mit.edu/themes/custom/csail/fonts/csail_ebony/csail_ebony-light.woff ) form ( `` woff '' ) , url ( https : //www.csail.mit.edu/themes/custom/csail/fonts/csail_ebony/csail_ebony-light.woff2 ) form ( `` woff2 '' ) ; font-weight:400 ; font-style : norm ; font-vari : norm ; line-height:1 ; speak : non ; text-rendering : optimizeleg ; text-transform : non ; -webkit-font-smoothing : antialias ; -moz-osx-font-smoothing : graysc } .cs-people__container [ _ngcontent-odc-c48 ] { width:100 % ; padding:35px 101px 101px ; background-color : # ececec ; box-shadow : inset 10px 0 8px -4px hsla ( 0,0 % ,40 % , .45 ) } @ med screen and ( max-width : 599px ) { .cs-people__container [ _ngcontent-odc-c48 ] { border-top:2px solid # 000 ; padding:35px 7px 0 } } .cs-people__main [ _ngcontent-odc-c48 ] { border-top:2px solid # 000 } @ med screen and ( max-width : 599px ) { .cs-people__main [ _ngcontent-odc-c48 ] { border-top : non } } .cs-people__filters__facets [ _ngcontent-odc-c48 ] { padding-top:30px } @ med screen and ( max-width : 599px ) { .cs-people__filters__facets [ _ngcontent-odc-c48 ] { padding:0 } } .cs-people__search [ _ngcontent-odc-c48 ] { padding:39px 0 39px 52px } @ med screen and ( max-width : 599px ) { .cs-people__search [ _ngcontent-odc-c48 ] { padding-left:0 ; padding-bottom:0 ; width:100 % } .cs-people__header [ _ngcontent-odc-c48 ] { margin:30px 0 0 } .cs-people__header__controls [ _ngcontent-odc-c48 ] { width:100 % ; padding:0 20px 26px } } .cs-people__header [ _ngcontent-odc-c48 ] h1 [ _ngcontent-odc-c48 ] { text-align : cent } @ med screen and ( max-width : 599px ) { .cs-people__header [ _ngcontent-odc-c48 ] h1 [ _ngcontent-odc-c48 ] { font-size:30px ; margin:0 } } @ med screen and ( min-width : 600px ) and ( max-width : 959px ) { .cs-people__header [ _ngcontent-odc-c48 ] h1 [ _ngcontent-odc-c48 ] { font-size:30px } } .flex-card [ _ngcontent-odc-c48 ] { flex:1 1 281px } < /style > < styl type= '' text/css '' > / * @ angular/flex-layout - workaround for poss brows quirk with mediaquery list see http : //bit.ly/2sd4hmp * / @ med screen and ( min-width : 600px ) , screen and ( min-width : 960px ) , screen and ( min-width : 1280px ) , screen and ( min-width : 1920px ) , screen and ( min-width : 1920px ) and ( max-width : 4999.98px ) , screen and ( max-width : 1919.98px ) , screen and ( min-width : 1280px ) and ( max-width : 1919.98px ) , screen and ( max-width : 1279.98px ) , screen and ( min-width : 960px ) and ( max-width : 1279.98px ) , screen and ( max-width : 959.98px ) , screen and ( min-width : 600px ) and ( max-width : 959.98px ) , screen and ( max-width : 599.98px ) , screen and ( min-width : 0px ) and ( max-width : 599.98px ) , print { .fx-query-test { } } < /style > < styl > @ font-face { font-family : basis-grotesque-bold ; src : url ( https : //www.csail.mit.edu/themes/custom/csail/fonts/basis-grotesque-bold/basis-grotesque-bold.eot ) ; src : url ( https : //www.csail.mit.edu/themes/custom/csail/fonts/basis-grotesque-bold/basis-grotesque-bold.eot # iefix ) form ( `` embedded-opentype '' ) , url ( https : //www.csail.mit.edu/themes/custom/csail/fonts/basis-grotesque-bold/basis-grotesque-bold.woff ) form ( `` woff '' ) , url ( https : //www.csail.mit.edu/themes/custom/csail/fonts/basis-grotesque-bold/basis-grotesque-bold.woff2 ) form ( `` woff2 '' ) , url ( https : //www.csail.mit.edu/themes/custom/csail/fonts/basis-grotesque-bold/basis-grotesque-bold.ttf ) form ( `` truetyp '' ) ; font-weight:700 ; font-style : norm ; font-vari : norm ; line-height:1 ; speak : non ; text-rendering : optimizeleg ; text-transform : non ; -webkit-font-smoothing : antialias ; -moz-osx-font-smoothing : graysc } @ font-face { font-family : basis-grotesque-medium ; src : url ( https : //www.csail.mit.edu/themes/custom/csail/fonts/basis-grotesque-medium/basis-grotesque-medium.eot ) ; src : url ( https : //www.csail.mit.edu/themes/custom/csail/fonts/basis-grotesque-medium/basis-grotesque-medium.eot # iefix ) form ( `` embedded-opentype '' ) , url ( https : //www.csail.mit.edu/themes/custom/csail/fonts/basis-grotesque-medium/basis-grotesque-medium.woff ) form ( `` woff '' ) , url ( https : //www.csail.mit.edu/themes/custom/csail/fonts/basis-grotesque-medium/basis-grotesque-medium.woff2 ) form ( `` woff2 '' ) , url ( https : //www.csail.mit.edu/themes/custom/csail/fonts/basis-grotesque-medium/basis-grotesque-medium.ttf ) form ( `` truetyp '' ) ; font-weight:400 ; font-style : norm ; font-vari : norm ; line-height:1 ; speak : non ; text-rendering : optimizeleg ; text-transform : non ; -webkit-font-smoothing : antialias ; -moz-osx-font-smoothing : graysc } @ font-face { font-family : basis-grotesque-monobold ; src : url ( https : //www.csail.mit.edu/themes/custom/csail/fonts/basis-grotesque-monobold/basis-grotesque-monobold.eot ) ; src : url ( https : //www.csail.mit.edu/themes/custom/csail/fonts/basis-grotesque-monobold/basis-grotesque-monobold.eot # iefix ) form ( `` embedded-opentype '' ) , url ( https : //www.csail.mit.edu/themes/custom/csail/fonts/basis-grotesque-monobold/basis-grotesque-monobold.woff ) form ( `` woff '' ) , url ( https : //www.csail.mit.edu/themes/custom/csail/fonts/basis-grotesque-monobold/basis-grotesque-monobold.woff2 ) form ( `` woff2 '' ) , url ( https : //www.csail.mit.edu/themes/custom/csail/fonts/basis-grotesque-monobold/basis-grotesque-monobold.ttf ) form ( `` truetyp '' ) ; font-weight:400 ; font-style : norm ; font-vari : norm ; line-height:1 ; speak : non ; text-rendering : optimizeleg ; text-transform : non ; -webkit-font-smoothing : antialias ; -moz-osx-font-smoothing : graysc } @ font-face { font-family : basis-grotesque-off-white ; src : url ( https : //www.csail.mit.edu/themes/custom/csail/fonts/basis-grotesque-off-white/basis-grotesque-off-white.eot ) ; src : url ( https : //www.csail.mit.edu/themes/custom/csail/fonts/basis-grotesque-off-white/basis-grotesque-off-white.eot # iefix ) form ( `` embedded-opentype '' ) , url ( https : //www.csail.mit.edu/themes/custom/csail/fonts/basis-grotesque-off-white/basis-grotesque-off-white.woff ) form ( `` woff '' ) , url ( https : //www.csail.mit.edu/themes/custom/csail/fonts/basis-grotesque-off-white/basis-grotesque-off-white.woff2 ) form ( `` woff2 '' ) , url ( https : //www.csail.mit.edu/themes/custom/csail/fonts/basis-grotesque-off-white/basis-grotesque-off-white.ttf ) form ( `` truetyp '' ) ; font-weight:400 ; font-style : norm ; font-vari : norm ; line-height:1 ; speak : non ; text-rendering : optimizeleg ; text-transform : non ; -webkit-font-smoothing : antialias ; -moz-osx-font-smoothing : graysc } @ font-face { font-family : basis-grotesque-regular ; src : url ( https : //www.csail.mit.edu/themes/custom/csail/fonts/basis-grotesque-regular/basis-grotesque-regular.eot ) ; src : url ( https : //www.csail.mit.edu/themes/custom/csail/fonts/basis-grotesque-regular/basis-grotesque-regular.eot # iefix ) form ( `` embedded-opentype '' ) , url ( https : //www.csail.mit.edu/themes/custom/csail/fonts/basis-grotesque-regular/basis-grotesque-regular.woff ) form ( `` woff '' ) , url ( https : //www.csail.mit.edu/themes/custom/csail/fonts/basis-grotesque-regular/basis-grotesque-regular.woff2 ) form ( `` woff2 '' ) , url ( https : //www.csail.mit.edu/themes/custom/csail/fonts/basis-grotesque-regular/basis-grotesque-regular.ttf ) form ( `` truetyp '' ) ; font-weight:400 ; font-style : norm ; font-vari : norm ; line-height:1 ; speak : non ; text-rendering : optimizeleg ; text-transform : non ; -webkit-font-smoothing : antialias ; -moz-osx-font-smoothing : graysc } @ font-face { font-family : csail-ebony-bold ; src : url ( https : //www.csail.mit.edu/themes/custom/csail/fonts/csail_ebony/csail_ebony-bold.eot ) ; src : url ( https : //www.csail.mit.edu/themes/custom/csail/fonts/csail_ebony/csail_ebony-bold.eot # iefix ) form ( `` embedded-opentype '' ) , url ( https : //www.csail.mit.edu/themes/custom/csail/fonts/csail_ebony/csail_ebony-bold.woff ) form ( `` woff '' ) , url ( https : //www.csail.mit.edu/themes/custom/csail/fonts/csail_ebony/csail_ebony-bold.woff2 ) form ( `` woff2 '' ) ; font-weight:400 ; font-style : norm ; font-vari : norm ; line-height:1 ; speak : non ; text-rendering : optimizeleg ; text-transform : non ; -webkit-font-smoothing : antialias ; -moz-osx-font-smoothing : graysc } @ font-face { font-family : csail-ebony-regular ; src : url ( https : //www.csail.mit.edu/themes/custom/csail/fonts/csail_ebony/csail_ebony-regular.eot ) ; src : url ( https : //www.csail.mit.edu/themes/custom/csail/fonts/csail_ebony/csail_ebony-regular.eot # iefix ) form ( `` embedded-opentype '' ) , url ( https : //www.csail.mit.edu/themes/custom/csail/fonts/csail_ebony/csail_ebony-regular.woff ) form ( `` woff '' ) , url ( https : //www.csail.mit.edu/themes/custom/csail/fonts/csail_ebony/csail_ebony-regular.woff2 ) form ( `` woff2 '' ) ; font-weight:400 ; font-style : norm ; font-vari : norm ; line-height:1 ; speak : non ; text-rendering : optimizeleg ; text-transform : non ; -webkit-font-smoothing : antialias ; -moz-osx-font-smoothing : graysc } @ font-face { font-family : csail-ebony-light ; src : url ( https : //www.csail.mit.edu/themes/custom/csail/fonts/csail_ebony/csail_ebony-light.eot ) ; src : url ( https : //www.csail.mit.edu/themes/custom/csail/fonts/csail_ebony/csail_ebony-light.eot # iefix ) form ( `` embedded-opentype '' ) , url ( https : //www.csail.mit.edu/themes/custom/csail/fonts/csail_ebony/csail_ebony-light.woff ) form ( `` woff '' ) , url ( https : //www.csail.mit.edu/themes/custom/csail/fonts/csail_ebony/csail_ebony-light.woff2 ) form ( `` woff2 '' ) ; font-weight:400 ; font-style : norm ; font-vari : norm ; line-height:1 ; speak : non ; text-rendering : optimizeleg ; text-transform : non ; -webkit-font-smoothing : antialias ; -moz-osx-font-smoothing : graysc } .cs-panel-toggle [ _ngcontent-odc-c39 ] { margin:0 ; padding:0 ; posit : rel } .cs-panel-toggle__icon [ _ngcontent-odc-c39 ] { posit : absolv ; top:9px ; left:13px ; z-index:1 ; font-size:16px } .cs-panel-toggle__input [ _ngcontent-odc-c39 ] { posit : rel ; height:40px ; padding:10px 13px 12px 40px ; border:2px solid # ececec ; font-family : basis-grotesque-medium ; font-size:16px ; line-height:0px ; col : # 000 ; border-radius:2px ; background-color : # fff ; curs : point } .cs-panel-toggle__input [ _ngcontent-odc-c39 ] : hov { border:2px solid # 0090eb } < /style > < styl > @ font-face { font-family : basis-grotesque-bold ; src : url ( https : //www.csail.mit.edu/themes/custom/csail/fonts/basis-grotesque-bold/basis-grotesque-bold.eot ) ; src : url ( https : //www.csail.mit.edu/themes/custom/csail/fonts/basis-grotesque-bold/basis-grotesque-bold.eot # iefix ) form ( `` embedded-opentype '' ) , url ( https : //www.csail.mit.edu/themes/custom/csail/fonts/basis-grotesque-bold/basis-grotesque-bold.woff ) form ( `` woff '' ) , url ( https : //www.csail.mit.edu/themes/custom/csail/fonts/basis-grotesque-bold/basis-grotesque-bold.woff2 ) form ( `` woff2 '' ) , url ( https : //www.csail.mit.edu/themes/custom/csail/fonts/basis-grotesque-bold/basis-grotesque-bold.ttf ) form ( `` truetyp '' ) ; font-weight:700 ; font-style : norm ; font-vari : norm ; line-height:1 ; speak : non ; text-rendering : optimizeleg ; text-transform : non ; -webkit-font-smoothing : antialias ; -moz-osx-font-smoothing : graysc } @ font-face { font-family : basis-grotesque-medium ; src : url ( https : //www.csail.mit.edu/themes/custom/csail/fonts/basis-grotesque-medium/basis-grotesque-medium.eot ) ; src : url ( https : //www.csail.mit.edu/themes/custom/csail/fonts/basis-grotesque-medium/basis-grotesque-medium.eot # iefix ) form ( `` embedded-opentype '' ) , url ( https : //www.csail.mit.edu/themes/custom/csail/fonts/basis-grotesque-medium/basis-grotesque-medium.woff ) form ( `` woff '' ) , url ( https : //www.csail.mit.edu/themes/custom/csail/fonts/basis-grotesque-medium/basis-grotesque-medium.woff2 ) form ( `` woff2 '' ) , url ( https : //www.csail.mit.edu/themes/custom/csail/fonts/basis-grotesque-medium/basis-grotesque-medium.ttf ) form ( `` truetyp '' ) ; font-weight:400 ; font-style : norm ; font-vari : norm ; line-height:1 ; speak : non ; text-rendering : optimizeleg ; text-transform : non ; -webkit-font-smoothing : antialias ; -moz-osx-font-smoothing : graysc } @ font-face { font-family : basis-grotesque-monobold ; src : url ( https : //www.csail.mit.edu/themes/custom/csail/fonts/basis-grotesque-monobold/basis-grotesque-monobold.eot ) ; src : url ( https : //www.csail.mit.edu/themes/custom/csail/fonts/basis-grotesque-monobold/basis-grotesque-monobold.eot # iefix ) form ( `` embedded-opentype '' ) , url ( https : //www.csail.mit.edu/themes/custom/csail/fonts/basis-grotesque-monobold/basis-grotesque-monobold.woff ) form ( `` woff '' ) , url ( https : //www.csail.mit.edu/themes/custom/csail/fonts/basis-grotesque-monobold/basis-grotesque-monobold.woff2 ) form ( `` woff2 '' ) , url ( https : //www.csail.mit.edu/themes/custom/csail/fonts/basis-grotesque-monobold/basis-grotesque-monobold.ttf ) form ( `` truetyp '' ) ; font-weight:400 ; font-style : norm ; font-vari : norm ; line-height:1 ; speak : non ; text-rendering : optimizeleg ; text-transform : non ; -webkit-font-smoothing : antialias ; -moz-osx-font-smoothing : graysc } @ font-face { font-family : basis-grotesque-off-white ; src : url ( https : //www.csail.mit.edu/themes/custom/csail/fonts/basis-grotesque-off-white/basis-grotesque-off-white.eot ) ; src : url ( https : //www.csail.mit.edu/themes/custom/csail/fonts/basis-grotesque-off-white/basis-grotesque-off-white.eot # iefix ) form ( `` embedded-opentype '' ) , url ( https : //www.csail.mit.edu/themes/custom/csail/fonts/basis-grotesque-off-white/basis-grotesque-off-white.woff ) form ( `` woff '' ) , url ( https : //www.csail.mit.edu/themes/custom/csail/fonts/basis-grotesque-off-white/basis-grotesque-off-white.woff2 ) form ( `` woff2 '' ) , url ( https : //www.csail.mit.edu/themes/custom/csail/fonts/basis-grotesque-off-white/basis-grotesque-off-white.ttf ) form ( `` truetyp '' ) ; font-weight:400 ; font-style : norm ; font-vari : norm ; line-height:1 ; speak : non ; text-rendering : optimizeleg ; text-transform : non ; -webkit-font-smoothing : antialias ; -moz-osx-font-smoothing : graysc } @ font-face { font-family : basis-grotesque-regular ; src : url ( https : //www.csail.mit.edu/themes/custom/csail/fonts/basis-grotesque-regular/basis-grotesque-regular.eot ) ; src : url ( https : //www.csail.mit.edu/themes/custom/csail/fonts/basis-grotesque-regular/basis-grotesque-regular.eot # iefix ) form ( `` embedded-opentype '' ) , url ( https : //www.csail.mit.edu/themes/custom/csail/fonts/basis-grotesque-regular/basis-grotesque-regular.woff ) form ( `` woff '' ) , url ( https : //www.csail.mit.edu/themes/custom/csail/fonts/basis-grotesque-regular/basis-grotesque-regular.woff2 ) form ( `` woff2 '' ) , url ( https : //www.csail.mit.edu/themes/custom/csail/fonts/basis-grotesque-regular/basis-grotesque-regular.ttf ) form ( `` truetyp '' ) ; font-weight:400 ; font-style : norm ; font-vari : norm ; line-height:1 ; speak : non ; text-rendering : optimizeleg ; text-transform : non ; -webkit-font-smoothing : antialias ; -moz-osx-font-smoothing : graysc } @ font-face { font-family : csail-ebony-bold ; src : url ( https : //www.csail.mit.edu/themes/custom/csail/fonts/csail_ebony/csail_ebony-bold.eot ) ; src : url ( https : //www.csail.mit.edu/themes/custom/csail/fonts/csail_ebony/csail_ebony-bold.eot # iefix ) form ( `` embedded-opentype '' ) , url ( https : //www.csail.mit.edu/themes/custom/csail/fonts/csail_ebony/csail_ebony-bold.woff ) form ( `` woff '' ) , url ( https : //www.csail.mit.edu/themes/custom/csail/fonts/csail_ebony/csail_ebony-bold.woff2 ) form ( `` woff2 '' ) ; font-weight:400 ; font-style : norm ; font-vari : norm ; line-height:1 ; speak : non ; text-rendering : optimizeleg ; text-transform : non ; -webkit-font-smoothing : antialias ; -moz-osx-font-smoothing : graysc } @ font-face { font-family : csail-ebony-regular ; src : url ( https : //www.csail.mit.edu/themes/custom/csail/fonts/csail_ebony/csail_ebony-regular.eot ) ; src : url ( https : //www.csail.mit.edu/themes/custom/csail/fonts/csail_ebony/csail_ebony-regular.eot # iefix ) form ( `` embedded-opentype '' ) , url ( https : //www.csail.mit.edu/themes/custom/csail/fonts/csail_ebony/csail_ebony-regular.woff ) form ( `` woff '' ) , url ( https : //www.csail.mit.edu/themes/custom/csail/fonts/csail_ebony/csail_ebony-regular.woff2 ) form ( `` woff2 '' ) ; font-weight:400 ; font-style : norm ; font-vari : norm ; line-height:1 ; speak : non ; text-rendering : optimizeleg ; text-transform : non ; -webkit-font-smoothing : antialias ; -moz-osx-font-smoothing : graysc } @ font-face { font-family : csail-ebony-light ; src : url ( https : //www.csail.mit.edu/themes/custom/csail/fonts/csail_ebony/csail_ebony-light.eot ) ; src : url ( https : //www.csail.mit.edu/themes/custom/csail/fonts/csail_ebony/csail_ebony-light.eot # iefix ) form ( `` embedded-opentype '' ) , url ( https : //www.csail.mit.edu/themes/custom/csail/fonts/csail_ebony/csail_ebony-light.woff ) form ( `` woff '' ) , url ( https : //www.csail.mit.edu/themes/custom/csail/fonts/csail_ebony/csail_ebony-light.woff2 ) form ( `` woff2 '' ) ; font-weight:400 ; font-style : norm ; font-vari : norm ; line-height:1 ; speak : non ; text-rendering : optimizeleg ; text-transform : non ; -webkit-font-smoothing : antialias ; -moz-osx-font-smoothing : graysc } .cs-people__container [ _ngcontent-odc-c43 ] { background-color : # ececec ; box-shadow : inset 10px 0 8px -4px hsla ( 0,0 % ,40 % , .45 ) } @ med screen and ( max-width : 599px ) { .cs-people__results [ _ngcontent-odc-c43 ] { min-width:100 % } } @ med screen and ( min-width : 57.5em ) { .flex-card [ _ngcontent-odc-c43 ] { flex:1 1 281px } } @ med screen and ( min-width : 49.01em ) and ( max-width : 57.499em ) { .flex-card [ _ngcontent-odc-c43 ] { flex:1 1 calc ( 50 % ) } } @ med screen and ( max-width : 49em ) { .flex-card [ _ngcontent-odc-c43 ] { flex:0 1 calc ( 100 % ) ; width:100 % ; padding:0 26px } } < /style > < styl type= '' text/css '' > < /style > < styl > @ font-face { font-family : basis-grotesque-bold ; src : url ( https : //www.csail.mit.edu/themes/custom/csail/fonts/basis-grotesque-bold/basis-grotesque-bold.eot ) ; src : url ( https : //www.csail.mit.edu/themes/custom/csail/fonts/basis-grotesque-bold/basis-grotesque-bold.eot # iefix ) form ( `` embedded-opentype '' ) , url ( https : //www.csail.mit.edu/themes/custom/csail/fonts/basis-grotesque-bold/basis-grotesque-bold.woff ) form ( `` woff '' ) , url ( https : //www.csail.mit.edu/themes/custom/csail/fonts/basis-grotesque-bold/basis-grotesque-bold.woff2 ) form ( `` woff2 '' ) , url ( https : //www.csail.mit.edu/themes/custom/csail/fonts/basis-grotesque-bold/basis-grotesque-bold.ttf ) form ( `` truetyp '' ) ; font-weight:700 ; font-style : norm ; font-vari : norm ; line-height:1 ; speak : non ; text-rendering : optimizeleg ; text-transform : non ; -webkit-font-smoothing : antialias ; -moz-osx-font-smoothing : graysc } @ font-face { font-family : basis-grotesque-medium ; src : url ( https : //www.csail.mit.edu/themes/custom/csail/fonts/basis-grotesque-medium/basis-grotesque-medium.eot ) ; src : url ( https : //www.csail.mit.edu/themes/custom/csail/fonts/basis-grotesque-medium/basis-grotesque-medium.eot # iefix ) form ( `` embedded-opentype '' ) , url ( https : //www.csail.mit.edu/themes/custom/csail/fonts/basis-grotesque-medium/basis-grotesque-medium.woff ) form ( `` woff '' ) , url ( https : //www.csail.mit.edu/themes/custom/csail/fonts/basis-grotesque-medium/basis-grotesque-medium.woff2 ) form ( `` woff2 '' ) , url ( https : //www.csail.mit.edu/themes/custom/csail/fonts/basis-grotesque-medium/basis-grotesque-medium.ttf ) form ( `` truetyp '' ) ; font-weight:400 ; font-style : norm ; font-vari : norm ; line-height:1 ; speak : non ; text-rendering : optimizeleg ; text-transform : non ; -webkit-font-smoothing : antialias ; -moz-osx-font-smoothing : graysc } @ font-face { font-family : basis-grotesque-monobold ; src : url ( https : //www.csail.mit.edu/themes/custom/csail/fonts/basis-grotesque-monobold/basis-grotesque-monobold.eot ) ; src : url ( https : //www.csail.mit.edu/themes/custom/csail/fonts/basis-grotesque-monobold/basis-grotesque-monobold.eot # iefix ) form ( `` embedded-opentype '' ) , url ( https : //www.csail.mit.edu/themes/custom/csail/fonts/basis-grotesque-monobold/basis-grotesque-monobold.woff ) form ( `` woff '' ) , url ( https : //www.csail.mit.edu/themes/custom/csail/fonts/basis-grotesque-monobold/basis-grotesque-monobold.woff2 ) form ( `` woff2 '' ) , url ( https : //www.csail.mit.edu/themes/custom/csail/fonts/basis-grotesque-monobold/basis-grotesque-monobold.ttf ) form ( `` truetyp '' ) ; font-weight:400 ; font-style : norm ; font-vari : norm ; line-height:1 ; speak : non ; text-rendering : optimizeleg ; text-transform : non ; -webkit-font-smoothing : antialias ; -moz-osx-font-smoothing : graysc } @ font-face { font-family : basis-grotesque-off-white ; src : url ( https : //www.csail.mit.edu/themes/custom/csail/fonts/basis-grotesque-off-white/basis-grotesque-off-white.eot ) ; src : url ( https : //www.csail.mit.edu/themes/custom/csail/fonts/basis-grotesque-off-white/basis-grotesque-off-white.eot # iefix ) form ( `` embedded-opentype '' ) , url ( https : //www.csail.mit.edu/themes/custom/csail/fonts/basis-grotesque-off-white/basis-grotesque-off-white.woff ) form ( `` woff '' ) , url ( https : //www.csail.mit.edu/themes/custom/csail/fonts/basis-grotesque-off-white/basis-grotesque-off-white.woff2 ) form ( `` woff2 '' ) , url ( https : //www.csail.mit.edu/themes/custom/csail/fonts/basis-grotesque-off-white/basis-grotesque-off-white.ttf ) form ( `` truetyp '' ) ; font-weight:400 ; font-style : norm ; font-vari : norm ; line-height:1 ; speak : non ; text-rendering : optimizeleg ; text-transform : non ; -webkit-font-smoothing : antialias ; -moz-osx-font-smoothing : graysc } @ font-face { font-family : basis-grotesque-regular ; src : url ( https : //www.csail.mit.edu/themes/custom/csail/fonts/basis-grotesque-regular/basis-grotesque-regular.eot ) ; src : url ( https : //www.csail.mit.edu/themes/custom/csail/fonts/basis-grotesque-regular/basis-grotesque-regular.eot # iefix ) form ( `` embedded-opentype '' ) , url ( https : //www.csail.mit.edu/themes/custom/csail/fonts/basis-grotesque-regular/basis-grotesque-regular.woff ) form ( `` woff '' ) , url ( https : //www.csail.mit.edu/themes/custom/csail/fonts/basis-grotesque-regular/basis-grotesque-regular.woff2 ) form ( `` woff2 '' ) , url ( https : //www.csail.mit.edu/themes/custom/csail/fonts/basis-grotesque-regular/basis-grotesque-regular.ttf ) form ( `` truetyp '' ) ; font-weight:400 ; font-style : norm ; font-vari : norm ; line-height:1 ; speak : non ; text-rendering : optimizeleg ; text-transform : non ; -webkit-font-smoothing : antialias ; -moz-osx-font-smoothing : graysc } @ font-face { font-family : csail-ebony-bold ; src : url ( https : //www.csail.mit.edu/themes/custom/csail/fonts/csail_ebony/csail_ebony-bold.eot ) ; src : url ( https : //www.csail.mit.edu/themes/custom/csail/fonts/csail_ebony/csail_ebony-bold.eot # iefix ) form ( `` embedded-opentype '' ) , url ( https : //www.csail.mit.edu/themes/custom/csail/fonts/csail_ebony/csail_ebony-bold.woff ) form ( `` woff '' ) , url ( https : //www.csail.mit.edu/themes/custom/csail/fonts/csail_ebony/csail_ebony-bold.woff2 ) form ( `` woff2 '' ) ; font-weight:400 ; font-style : norm ; font-vari : norm ; line-height:1 ; speak : non ; text-rendering : optimizeleg ; text-transform : non ; -webkit-font-smoothing : antialias ; -moz-osx-font-smoothing : graysc } @ font-face { font-family : csail-ebony-regular ; src : url ( https : //www.csail.mit.edu/themes/custom/csail/fonts/csail_ebony/csail_ebony-regular.eot ) ; src : url ( https : //www.csail.mit.edu/themes/custom/csail/fonts/csail_ebony/csail_ebony-regular.eot # iefix ) form ( `` embedded-opentype '' ) , url ( https : //www.csail.mit.edu/themes/custom/csail/fonts/csail_ebony/csail_ebony-regular.woff ) form ( `` woff '' ) , url ( https : //www.csail.mit.edu/themes/custom/csail/fonts/csail_ebony/csail_ebony-regular.woff2 ) form ( `` woff2 '' ) ; font-weight:400 ; font-style : norm ; font-vari : norm ; line-height:1 ; speak : non ; text-rendering : optimizeleg ; text-transform : non ; -webkit-font-smoothing : antialias ; -moz-osx-font-smoothing : graysc } @ font-face { font-family : csail-ebony-light ; src : url ( https : //www.csail.mit.edu/themes/custom/csail/fonts/csail_ebony/csail_ebony-light.eot ) ; src : url ( https : //www.csail.mit.edu/themes/custom/csail/fonts/csail_ebony/csail_ebony-light.eot # iefix ) form ( `` embedded-opentype '' ) , url ( https : //www.csail.mit.edu/themes/custom/csail/fonts/csail_ebony/csail_ebony-light.woff ) form ( `` woff '' ) , url ( https : //www.csail.mit.edu/themes/custom/csail/fonts/csail_ebony/csail_ebony-light.woff2 ) form ( `` woff2 '' ) ; font-weight:400 ; font-style : norm ; font-vari : norm ; line-height:1 ; speak : non ; text-rendering : optimizeleg ; text-transform : non ; -webkit-font-smoothing : antialias ; -moz-osx-font-smoothing : graysc } .cs-search-box [ _ngcontent-odc-c44 ] { margin:0 ; padding:0 ; posit : rel } .cs-search-box__icon [ _ngcontent-odc-c44 ] { posit : absolv ; top:9px ; left:13px ; z-index:1 ; font-size:16px } .cs-search-box [ _ngcontent-odc-c44 ] input [ type=text ] [ _ngcontent-odc-c44 ] { posit : rel ; margin:0 ; height:40px ; padding:10px 19px 12px 39px ; border:2px solid # ececec ; font-family : basis-grotesque-medium ; font-size:16px ; col : # 000 ; border-radius:2px ; line-height : norm ; box-shadow : non } .cs-search-box [ _ngcontent-odc-c44 ] input [ type=text ] [ _ngcontent-odc-c44 ] : hov { border:2px solid # ececec } .cs-search-box [ _ngcontent-odc-c44 ] input [ type=text ] [ _ngcontent-odc-c44 ] : :placeholder { col : # 000 ; opacity:1 } .cs-search-box [ _ngcontent-odc-c44 ] input [ type=text ] [ _ngcontent-odc-c44 ] : -ms-input-placeholder { col : # 000 } .cs-search-box [ _ngcontent-odc-c44 ] input [ type=text ] [ _ngcontent-odc-c44 ] [ _ngcontent-odc-c44 ] : :-ms-input-placeholder { col : # 000 } < /style > < styl > .cs-people-facets [ _ngcontent-odc-c47 ] { padding:0 20px 0 103px } @ med screen and ( max-width : 599px ) { .cs-people-facets [ _ngcontent-odc-c47 ] { padding:0 0 0 23px } .cs-people-facets [ _ngcontent-odc-c47 ] : not ( : last-child ) { border-bottom:1px solid # bcbcbc } } .cs-people-facets__columns [ _ngcontent-odc-c47 ] { border-bottom : non ; padding:30px 0 20px } .cs-people-facets__columns [ _ngcontent-odc-c47 ] : not ( : last-child ) { border-right:1px solid # bcbcbc ; border-bottom : non ! import } .facet [ _ngcontent-odc-c47 ] : not ( : last-child ) { border-bottom:1px solid # bcbcbc } < /style > < styl > @ font-face { font-family : basis-grotesque-bold ; src : url ( https : //www.csail.mit.edu/themes/custom/csail/fonts/basis-grotesque-bold/basis-grotesque-bold.eot ) ; src : url ( https : //www.csail.mit.edu/themes/custom/csail/fonts/basis-grotesque-bold/basis-grotesque-bold.eot # iefix ) form ( `` embedded-opentype '' ) , url ( https : //www.csail.mit.edu/themes/custom/csail/fonts/basis-grotesque-bold/basis-grotesque-bold.woff ) form ( `` woff '' ) , url ( https : //www.csail.mit.edu/themes/custom/csail/fonts/basis-grotesque-bold/basis-grotesque-bold.woff2 ) form ( `` woff2 '' ) , url ( https : //www.csail.mit.edu/themes/custom/csail/fonts/basis-grotesque-bold/basis-grotesque-bold.ttf ) form ( `` truetyp '' ) ; font-weight:700 ; font-style : norm ; font-vari : norm ; line-height:1 ; speak : non ; text-rendering : optimizeleg ; text-transform : non ; -webkit-font-smoothing : antialias ; -moz-osx-font-smoothing : graysc } @ font-face { font-family : basis-grotesque-medium ; src : url ( https : //www.csail.mit.edu/themes/custom/csail/fonts/basis-grotesque-medium/basis-grotesque-medium.eot ) ; src : url ( https : //www.csail.mit.edu/themes/custom/csail/fonts/basis-grotesque-medium/basis-grotesque-medium.eot # iefix ) form ( `` embedded-opentype '' ) , url ( https : //www.csail.mit.edu/themes/custom/csail/fonts/basis-grotesque-medium/basis-grotesque-medium.woff ) form ( `` woff '' ) , url ( https : //www.csail.mit.edu/themes/custom/csail/fonts/basis-grotesque-medium/basis-grotesque-medium.woff2 ) form ( `` woff2 '' ) , url ( https : //www.csail.mit.edu/themes/custom/csail/fonts/basis-grotesque-medium/basis-grotesque-medium.ttf ) form ( `` truetyp '' ) ; font-weight:400 ; font-style : norm ; font-vari : norm ; line-height:1 ; speak : non ; text-rendering : optimizeleg ; text-transform : non ; -webkit-font-smoothing : antialias ; -moz-osx-font-smoothing : graysc } @ font-face { font-family : basis-grotesque-monobold ; src : url ( https : //www.csail.mit.edu/themes/custom/csail/fonts/basis-grotesque-monobold/basis-grotesque-monobold.eot ) ; src : url ( https : //www.csail.mit.edu/themes/custom/csail/fonts/basis-grotesque-monobold/basis-grotesque-monobold.eot # iefix ) form ( `` embedded-opentype '' ) , url ( https : //www.csail.mit.edu/themes/custom/csail/fonts/basis-grotesque-monobold/basis-grotesque-monobold.woff ) form ( `` woff '' ) , url ( https : //www.csail.mit.edu/themes/custom/csail/fonts/basis-grotesque-monobold/basis-grotesque-monobold.woff2 ) form ( `` woff2 '' ) , url ( https : //www.csail.mit.edu/themes/custom/csail/fonts/basis-grotesque-monobold/basis-grotesque-monobold.ttf ) form ( `` truetyp '' ) ; font-weight:400 ; font-style : norm ; font-vari : norm ; line-height:1 ; speak : non ; text-rendering : optimizeleg ; text-transform : non ; -webkit-font-smoothing : antialias ; -moz-osx-font-smoothing : graysc } @ font-face { font-family : basis-grotesque-off-white ; src : url ( https : //www.csail.mit.edu/themes/custom/csail/fonts/basis-grotesque-off-white/basis-grotesque-off-white.eot ) ; src : url ( https : //www.csail.mit.edu/themes/custom/csail/fonts/basis-grotesque-off-white/basis-grotesque-off-white.eot # iefix ) form ( `` embedded-opentype '' ) , url ( https : //www.csail.mit.edu/themes/custom/csail/fonts/basis-grotesque-off-white/basis-grotesque-off-white.woff ) form ( `` woff '' ) , url ( https : //www.csail.mit.edu/themes/custom/csail/fonts/basis-grotesque-off-white/basis-grotesque-off-white.woff2 ) form ( `` woff2 '' ) , url ( https : //www.csail.mit.edu/themes/custom/csail/fonts/basis-grotesque-off-white/basis-grotesque-off-white.ttf ) form ( `` truetyp '' ) ; font-weight:400 ; font-style : norm ; font-vari : norm ; line-height:1 ; speak : non ; text-rendering : optimizeleg ; text-transform : non ; -webkit-font-smoothing : antialias ; -moz-osx-font-smoothing : graysc } @ font-face { font-family : basis-grotesque-regular ; src : url ( https : //www.csail.mit.edu/themes/custom/csail/fonts/basis-grotesque-regular/basis-grotesque-regular.eot ) ; src : url ( https : //www.csail.mit.edu/themes/custom/csail/fonts/basis-grotesque-regular/basis-grotesque-regular.eot # iefix ) form ( `` embedded-opentype '' ) , url ( https : //www.csail.mit.edu/themes/custom/csail/fonts/basis-grotesque-regular/basis-grotesque-regular.woff ) form ( `` woff '' ) , url ( https : //www.csail.mit.edu/themes/custom/csail/fonts/basis-grotesque-regular/basis-grotesque-regular.woff2 ) form ( `` woff2 '' ) , url ( https : //www.csail.mit.edu/themes/custom/csail/fonts/basis-grotesque-regular/basis-grotesque-regular.ttf ) form ( `` truetyp '' ) ; font-weight:400 ; font-style : norm ; font-vari : norm ; line-height:1 ; speak : non ; text-rendering : optimizeleg ; text-transform : non ; -webkit-font-smoothing : antialias ; -moz-osx-font-smoothing : graysc } @ font-face { font-family : csail-ebony-bold ; src : url ( https : //www.csail.mit.edu/themes/custom/csail/fonts/csail_ebony/csail_ebony-bold.eot ) ; src : url ( https : //www.csail.mit.edu/themes/custom/csail/fonts/csail_ebony/csail_ebony-bold.eot # iefix ) form ( `` embedded-opentype '' ) , url ( https : //www.csail.mit.edu/themes/custom/csail/fonts/csail_ebony/csail_ebony-bold.woff ) form ( `` woff '' ) , url ( https : //www.csail.mit.edu/themes/custom/csail/fonts/csail_ebony/csail_ebony-bold.woff2 ) form ( `` woff2 '' ) ; font-weight:400 ; font-style : norm ; font-vari : norm ; line-height:1 ; speak : non ; text-rendering : optimizeleg ; text-transform : non ; -webkit-font-smoothing : antialias ; -moz-osx-font-smoothing : graysc } @ font-face { font-family : csail-ebony-regular ; src : url ( https : //www.csail.mit.edu/themes/custom/csail/fonts/csail_ebony/csail_ebony-regular.eot ) ; src : url ( https : //www.csail.mit.edu/themes/custom/csail/fonts/csail_ebony/csail_ebony-regular.eot # iefix ) form ( `` embedded-opentype '' ) , url ( https : //www.csail.mit.edu/themes/custom/csail/fonts/csail_ebony/csail_ebony-regular.woff ) form ( `` woff '' ) , url ( https : //www.csail.mit.edu/themes/custom/csail/fonts/csail_ebony/csail_ebony-regular.woff2 ) form ( `` woff2 '' ) ; font-weight:400 ; font-style : norm ; font-vari : norm ; line-height:1 ; speak : non ; text-rendering : optimizeleg ; text-transform : non ; -webkit-font-smoothing : antialias ; -moz-osx-font-smoothing : graysc } @ font-face { font-family : csail-ebony-light ; src : url ( https : //www.csail.mit.edu/themes/custom/csail/fonts/csail_ebony/csail_ebony-light.eot ) ; src : url ( https : //www.csail.mit.edu/themes/custom/csail/fonts/csail_ebony/csail_ebony-light.eot # iefix ) form ( `` embedded-opentype '' ) , url ( https : //www.csail.mit.edu/themes/custom/csail/fonts/csail_ebony/csail_ebony-light.woff ) form ( `` woff '' ) , url ( https : //www.csail.mit.edu/themes/custom/csail/fonts/csail_ebony/csail_ebony-light.woff2 ) form ( `` woff2 '' ) ; font-weight:400 ; font-style : norm ; font-vari : norm ; line-height:1 ; speak : non ; text-rendering : optimizeleg ; text-transform : non ; -webkit-font-smoothing : antialias ; -moz-osx-font-smoothing : graysc } .cs-facets [ _ngcontent-odc-c46 ] { font-family : basis-grotesque-regular ; font-size:18px } .cs-facets [ _ngcontent-odc-c46 ] ul [ _ngcontent-odc-c46 ] { padding-inline-start:0 } .cs-facets__title [ _ngcontent-odc-c46 ] { font-size:15px ; line-height:18px ; text-transform : uppercas ; font-weight:700 ; margin:0 0 25px 4px ; letter-spacing:1.33px } .cs-facets__options__children [ _ngcontent-odc-c46 ] { margin-left:20px } .cs-facets__options__label [ _ngcontent-odc-c46 ] { margin:2px 0 0 ; min-width:200px ; max-width:200px ; padding-right:90px } .cs-facets__options [ _ngcontent-odc-c46 ] .disabled [ _ngcontent-odc-c46 ] { col : # ececec } .cs-facets__options__control [ _ngcontent-odc-c46 ] { width:23px ; padding-left:5px } .cs-facets__options__control [ _ngcontent-odc-c46 ] input [ type=checkbox ] [ _ngcontent-odc-c46 ] { margin:0 ; min-height:10px ; min-width:10px } .facet [ _ngcontent-odc-c46 ] { padding:5px 0 } .facet [ _ngcontent-odc-c46 ] : not ( .disabled ) : hov { background-color : # dbf1ff ; curs : point } .facet__selected [ _ngcontent-odc-c46 ] { background-color : # dbf1ff } < /style > < styl > @ font-face { font-family : basis-grotesque-bold ; src : url ( https : //www.csail.mit.edu/themes/custom/csail/fonts/basis-grotesque-bold/basis-grotesque-bold.eot ) ; src : url ( https : //www.csail.mit.edu/themes/custom/csail/fonts/basis-grotesque-bold/basis-grotesque-bold.eot # iefix ) form ( `` embedded-opentype '' ) , url ( https : //www.csail.mit.edu/themes/custom/csail/fonts/basis-grotesque-bold/basis-grotesque-bold.woff ) form ( `` woff '' ) , url ( https : //www.csail.mit.edu/themes/custom/csail/fonts/basis-grotesque-bold/basis-grotesque-bold.woff2 ) form ( `` woff2 '' ) , url ( https : //www.csail.mit.edu/themes/custom/csail/fonts/basis-grotesque-bold/basis-grotesque-bold.ttf ) form ( `` truetyp '' ) ; font-weight:700 ; font-style : norm ; font-vari : norm ; line-height:1 ; speak : non ; text-rendering : optimizeleg ; text-transform : non ; -webkit-font-smoothing : antialias ; -moz-osx-font-smoothing : graysc } @ font-face { font-family : basis-grotesque-medium ; src : url ( https : //www.csail.mit.edu/themes/custom/csail/fonts/basis-grotesque-medium/basis-grotesque-medium.eot ) ; src : url ( https : //www.csail.mit.edu/themes/custom/csail/fonts/basis-grotesque-medium/basis-grotesque-medium.eot # iefix ) form ( `` embedded-opentype '' ) , url ( https : //www.csail.mit.edu/themes/custom/csail/fonts/basis-grotesque-medium/basis-grotesque-medium.woff ) form ( `` woff '' ) , url ( https : //www.csail.mit.edu/themes/custom/csail/fonts/basis-grotesque-medium/basis-grotesque-medium.woff2 ) form ( `` woff2 '' ) , url ( https : //www.csail.mit.edu/themes/custom/csail/fonts/basis-grotesque-medium/basis-grotesque-medium.ttf ) form ( `` truetyp '' ) ; font-weight:400 ; font-style : norm ; font-vari : norm ; line-height:1 ; speak : non ; text-rendering : optimizeleg ; text-transform : non ; -webkit-font-smoothing : antialias ; -moz-osx-font-smoothing : graysc } @ font-face { font-family : basis-grotesque-monobold ; src : url ( https : //www.csail.mit.edu/themes/custom/csail/fonts/basis-grotesque-monobold/basis-grotesque-monobold.eot ) ; src : url ( https : //www.csail.mit.edu/themes/custom/csail/fonts/basis-grotesque-monobold/basis-grotesque-monobold.eot # iefix ) form ( `` embedded-opentype '' ) , url ( https : //www.csail.mit.edu/themes/custom/csail/fonts/basis-grotesque-monobold/basis-grotesque-monobold.woff ) form ( `` woff '' ) , url ( https : //www.csail.mit.edu/themes/custom/csail/fonts/basis-grotesque-monobold/basis-grotesque-monobold.woff2 ) form ( `` woff2 '' ) , url ( https : //www.csail.mit.edu/themes/custom/csail/fonts/basis-grotesque-monobold/basis-grotesque-monobold.ttf ) form ( `` truetyp '' ) ; font-weight:400 ; font-style : norm ; font-vari : norm ; line-height:1 ; speak : non ; text-rendering : optimizeleg ; text-transform : non ; -webkit-font-smoothing : antialias ; -moz-osx-font-smoothing : graysc } @ font-face { font-family : basis-grotesque-off-white ; src : url ( https : //www.csail.mit.edu/themes/custom/csail/fonts/basis-grotesque-off-white/basis-grotesque-off-white.eot ) ; src : url ( https : //www.csail.mit.edu/themes/custom/csail/fonts/basis-grotesque-off-white/basis-grotesque-off-white.eot # iefix ) form ( `` embedded-opentype '' ) , url ( https : //www.csail.mit.edu/themes/custom/csail/fonts/basis-grotesque-off-white/basis-grotesque-off-white.woff ) form ( `` woff '' ) , url ( https : //www.csail.mit.edu/themes/custom/csail/fonts/basis-grotesque-off-white/basis-grotesque-off-white.woff2 ) form ( `` woff2 '' ) , url ( https : //www.csail.mit.edu/themes/custom/csail/fonts/basis-grotesque-off-white/basis-grotesque-off-white.ttf ) form ( `` truetyp '' ) ; font-weight:400 ; font-style : norm ; font-vari : norm ; line-height:1 ; speak : non ; text-rendering : optimizeleg ; text-transform : non ; -webkit-font-smoothing : antialias ; -moz-osx-font-smoothing : graysc } @ font-face { font-family : basis-grotesque-regular ; src : url ( https : //www.csail.mit.edu/themes/custom/csail/fonts/basis-grotesque-regular/basis-grotesque-regular.eot ) ; src : url ( https : //www.csail.mit.edu/themes/custom/csail/fonts/basis-grotesque-regular/basis-grotesque-regular.eot # iefix ) form ( `` embedded-opentype '' ) , url ( https : //www.csail.mit.edu/themes/custom/csail/fonts/basis-grotesque-regular/basis-grotesque-regular.woff ) form ( `` woff '' ) , url ( https : //www.csail.mit.edu/themes/custom/csail/fonts/basis-grotesque-regular/basis-grotesque-regular.woff2 ) form ( `` woff2 '' ) , url ( https : //www.csail.mit.edu/themes/custom/csail/fonts/basis-grotesque-regular/basis-grotesque-regular.ttf ) form ( `` truetyp '' ) ; font-weight:400 ; font-style : norm ; font-vari : norm ; line-height:1 ; speak : non ; text-rendering : optimizeleg ; text-transform : non ; -webkit-font-smoothing : antialias ; -moz-osx-font-smoothing : graysc } @ font-face { font-family : csail-ebony-bold ; src : url ( https : //www.csail.mit.edu/themes/custom/csail/fonts/csail_ebony/csail_ebony-bold.eot ) ; src : url ( https : //www.csail.mit.edu/themes/custom/csail/fonts/csail_ebony/csail_ebony-bold.eot # iefix ) form ( `` embedded-opentype '' ) , url ( https : //www.csail.mit.edu/themes/custom/csail/fonts/csail_ebony/csail_ebony-bold.woff ) form ( `` woff '' ) , url ( https : //www.csail.mit.edu/themes/custom/csail/fonts/csail_ebony/csail_ebony-bold.woff2 ) form ( `` woff2 '' ) ; font-weight:400 ; font-style : norm ; font-vari : norm ; line-height:1 ; speak : non ; text-rendering : optimizeleg ; text-transform : non ; -webkit-font-smoothing : antialias ; -moz-osx-font-smoothing : graysc } @ font-face { font-family : csail-ebony-regular ; src : url ( https : //www.csail.mit.edu/themes/custom/csail/fonts/csail_ebony/csail_ebony-regular.eot ) ; src : url ( https : //www.csail.mit.edu/themes/custom/csail/fonts/csail_ebony/csail_ebony-regular.eot # iefix ) form ( `` embedded-opentype '' ) , url ( https : //www.csail.mit.edu/themes/custom/csail/fonts/csail_ebony/csail_ebony-regular.woff ) form ( `` woff '' ) , url ( https : //www.csail.mit.edu/themes/custom/csail/fonts/csail_ebony/csail_ebony-regular.woff2 ) form ( `` woff2 '' ) ; font-weight:400 ; font-style : norm ; font-vari : norm ; line-height:1 ; speak : non ; text-rendering : optimizeleg ; text-transform : non ; -webkit-font-smoothing : antialias ; -moz-osx-font-smoothing : graysc } @ font-face { font-family : csail-ebony-light ; src : url ( https : //www.csail.mit.edu/themes/custom/csail/fonts/csail_ebony/csail_ebony-light.eot ) ; src : url ( https : //www.csail.mit.edu/themes/custom/csail/fonts/csail_ebony/csail_ebony-light.eot # iefix ) form ( `` embedded-opentype '' ) , url ( https : //www.csail.mit.edu/themes/custom/csail/fonts/csail_ebony/csail_ebony-light.woff ) form ( `` woff '' ) , url ( https : //www.csail.mit.edu/themes/custom/csail/fonts/csail_ebony/csail_ebony-light.woff2 ) form ( `` woff2 '' ) ; font-weight:400 ; font-style : norm ; font-vari : norm ; line-height:1 ; speak : non ; text-rendering : optimizeleg ; text-transform : non ; -webkit-font-smoothing : antialias ; -moz-osx-font-smoothing : graysc } .cs-facets [ _ngcontent-odc-c45 ] { font-family : basis-grotesque-regular } .cs-facets [ _ngcontent-odc-c45 ] ul [ _ngcontent-odc-c45 ] { padding-inline-start:0 } .cs-facets [ _ngcontent-odc-c45 ] ul.columns [ _ngcontent-odc-c45 ] { column-count:2 ; -webkit-columns:2 ; -moz-columns:2 } .cs-facets [ _ngcontent-odc-c45 ] ul [ _ngcontent-odc-c45 ] li [ _ngcontent-odc-c45 ] { page-break-insid : avoid ; break-inside : avoid } .cs-facets__title [ _ngcontent-odc-c45 ] { text-transform : uppercas ; font-weight:700 ; font-size:15px ; line-height:18px ; margin:0 0 25px 4px ; letter-spacing:1.25px } .cs-facets__options [ _ngcontent-odc-c45 ] { font-size:18px ; margin:11px 0 } .cs-facets__options__label [ _ngcontent-odc-c45 ] { padding:6px } .cs-facets__options__container [ _ngcontent-odc-c45 ] : not ( .disabled ) : hov { background-color : # dbf1ff ; curs : point } .cs-facets__options__container [ _ngcontent-odc-c45 ] input [ _ngcontent-odc-c45 ] : hov { curs : point } .cs-facets__options__container__selected [ _ngcontent-odc-c45 ] { background-color : # dbf1ff } .cs-facets__options__container [ _ngcontent-odc-c45 ] .disabled [ _ngcontent-odc-c45 ] { col : # 636363 } .cs-facets__options__container [ _ngcontent-odc-c45 ] .disabled [ _ngcontent-odc-c45 ] : hov { background-color : # ececec } .cs-facets__options [ _ngcontent-odc-c45 ] .disabled [ _ngcontent-odc-c45 ] { col : # 636363 } .cs-facets__options [ _ngcontent-odc-c45 ] .disabled [ _ngcontent-odc-c45 ] : hov { background-color : # ececec ; curs : point } .cs-facets__options__control [ _ngcontent-odc-c45 ] { padding:6px } .cs-facets__options__control [ _ngcontent-odc-c45 ] input [ type=checkbox ] [ _ngcontent-odc-c45 ] { margin:0 ; min-height:10px ; min-width:10px } < /style > < script charset= '' utf-8 '' data-webpack= '' nrba-1.251.1.prod : chunk-75 '' src= '' https : //js-agent.newrelic.com/nr-rum-1.251.1.min.js '' crossorigin= '' anonym '' integrity= '' sha512-se+mgwtmnbdp/masclg+gogptkspcendd09loplwi8jtivcrtbubqgqwgsdaufr6fumrbsb2ccq/hk5nzdakmq== '' > < /script > < met http-equiv= '' origin-trial '' content= '' aymqwrc7u88y4jpvfif2f37qkylc04248hlcdjash8xgofe/dvjpv3xs3wlfca1zmvotnbfvjacmtvudwm//5g4aaab7eyjvcmlnaw4ioijodhrwczovl3d3dy5nb29nbgv0ywdtyw5hz2vylmnvbto0ndmilcjmzwf0dxjlijoiuhjpdmfjevnhbmrib3hbzhnbuelziiwizxhwaxj5ijoxnjk1mty3otk5lcjpc1roaxjkugfydhkionrydwv9 '' > < /head > < body class= '' no-sidebars path-node page-node-type-minimal-pag '' > < a href= '' # main-content '' class= '' visually-hidden focus skip-link '' > skip to main cont < /a > < div class= '' dialog-off-canvas-main-canvas '' data-off-canvas-main-canvas= '' '' > < div role= '' docu '' class= '' pag '' > < div id= '' mobile-placeholder '' class= '' mobile-header-placeholder '' > < /div > < head id= '' site-header '' class= '' navig '' role= '' ban '' > < div class= '' audience-menu nav '' > < div class= '' outer-wrapp navigation-wrapper '' > < nav aria-label= '' info for '' id= '' block-audiencemenu '' > < ul class= '' menu '' > < li class= '' menu-item '' > < a href= '' /students '' data-drupal-link-system-path= '' node/2884 '' > for stud < /a > < /li > < li class= '' menu-item '' > < a href= '' http : //cap.csail.mit.edu/ '' title= '' csail al program websit '' > for industry < /a > < /li > < li class= '' menu-item '' > < a href= '' /internal-resources '' data-drupal-link-system-path= '' node/4866 '' > for memb < /a > < /li > < li class= '' menu-item '' > < a href= '' https : //accessibility.mit.edu/ '' title= '' access '' > access < /a > < /li > < li class= '' menu-item '' > < a href= '' /csail_login '' data-drupal-link-system-path= '' csail_login '' > login < /a > < /li > < /ul > < /nav > < /div > < /div > < div class= '' outer-wrapp navigation-wrapper '' > < div class= '' contain head '' > < div class= '' main-menu-wrapper '' > < div class= '' header-logo '' > < a href= '' / '' class= '' home-link '' > < svg width= '' 70px '' height= '' 40px '' viewbox= '' 0 0 150 86 '' version= '' 1.1 '' xmlns= '' http : //www.w3.org/2000/svg '' xmlns : xlink= '' http : //www.w3.org/1999/xlink '' > < g id= '' page-1 '' stroke= '' non '' stroke-width= '' 1 '' fill= '' non '' fill-rule= '' evenod '' > < g id= '' csail_primary_regular_rgb '' transform= '' transl ( -2.000000 , -4.000000 ) '' > < g id= '' group '' transform= '' transl ( 2.813800 , 4.812400 ) '' > < path d= '' m117.1642,2.233 l117.1642,34.729 l128.2572,34.729 l128.2572,54.917 l139.6382,54.917 l149.1102,12.778 l117.1642,2.233 z m117.1642,85.099 l133.9002,80.434 l137.7002,63.54 l117.1642,63.54 l117.1642,85.099 z m27.8702,0 l19.0112,0 l16.3062,10.112 l15.7572,13.366 l15.4432,13.366 l14.8942,10.19 l11.9942,0 l3.1742,0 l3.1742,18.265 l8.6222,18.265 l8.6222,8.739 l8.4272,5.407 l8.7802,5.407 l12.3862,18.265 l18.6192,18.265 l22.1462,5.368 l22.4992,5.368 l22.3022,9.015 l22.3022,18.265 l27.8702,18.265 l27.8702,0 z m33.7102,18.266 l40.0212,18.266 l40.0212,0 l33.7102,0 l33.7102,18.266 z m44.1772,0 l60.5612,0 l60.5612,5.133 l55.5432,5.133 l55.5432,18.265 l49.2322,18.265 l49.2322,5.133 l44.1772,5.133 l44.1772,0 z '' id= '' fill-1 '' fill= '' # 898d8d '' > < /path > < g id= '' group-6 '' transform= '' transl ( 0.000000 , 14.698700 ) '' > < path d= '' m74.5275,30.379 l76.5265,37.787 l70.9615,37.787 l72.9995,30.379 l73.6255,27.321 l73.9005,27.321 l74.5275,30.379 z m111.7655,27.085 l107.8455,27.085 l107.8455,41.785 l111.7655,41.785 l111.7655,48.842 l92.9115,48.842 l92.9115,41.785 l96.8315,41.785 l96.8315,27.085 l92.9115,27.085 l92.9115,20.03 l111.7655,20.03 l111.7655,27.085 z m93.5655,0 c84.6295,0 76.9855,1.843 73.6145,4.39 l67.8245,20.03 l80.2125,20.03 l90.7165,48.842 l79.1135,48.842 l77.8595,44.529 l69.7455,44.529 l68.4895,48.842 l57.1575,48.842 l52.6435,61.032 c55.7395,64.246 65.7755,66.755 78.0445,66.755 c89.5685,66.755 108.5015,64.167 117.1645,60.954 l117.1645,4.822 c113.9105,2.743 104.1105,0 93.5655,0 l93.5655,0 z '' id= '' fill-2 '' fill= '' # f0b323 '' > < /path > < path d= '' m31.671,48.3302 l31.671,40.1782 c33.828,41.0002 37.121,41.5502 40.373,41.5502 c43.156,41.5502 44.254,41.1972 44.254,39.8252 c44.254,38.6862 43.354,38.4522 40.373,37.9432 c36.219,37.2382 31.515,36.1792 31.515,29.4762 c31.515,23.2052 35.71,19.2842 44.921,19.2842 c49.155,19.2842 53.348,20.0702 54.838,20.5392 l54.838,28.0262 c51.78,27.3592 49.075,26.9692 46.293,26.9692 c44.921,26.9692 43.156,27.0862 43.156,28.4172 c43.156,29.5942 44.177,29.8302 47.861,30.5742 c52.448,31.5152 55.975,33.0042 55.975,38.7672 c55.975,43.8222 52.879,49.5462 42.06,49.5462 c38.023,49.5462 33.318,48.8802 31.671,48.3302 l31.671,48.3302 z m70.496,12.8122 l-7.10542736e-15,8.1912 l2.893,28.6612 c4.74,23.0992 9.731,19.2842 19.088,19.2842 c22.186,19.2842 25.401,19.8322 27.007,20.2652 l27.007,28.6142 c25.988,28.3002 23.205,27.9092 20.814,27.9092 c16.66,27.9092 13.562,29.3982 13.562,34.2972 c13.562,39.7862 17.482,41.0002 21.323,41.0002 c23.363,41.0002 24.577,40.8832 27.007,40.2972 l27.007,48.4502 c24.224,49.2702 22.147,49.5462 18.815,49.5462 c12.001,49.5462 7.678,47.5812 5.123,44.4512 l8.192,66.1672 l54.252,56.6872 l70.496,12.8122 z '' id= '' fill-4 '' fill= '' # b94700 '' > < /path > < /g > < /g > < /g > < /g > < /svg > < /a > < /div > < span class= '' header-mobile-wordmark '' > mit csail < /span > < div class= '' header-navigation nav '' > < div class= '' menus-wrapper '' > < nav aria-label= '' main `` id= '' block-csail-main-menu '' > < ul class= '' menu navigation-menu '' > < li class= '' menu-item menu-item -- collaps nav-link '' > < a href= '' /research '' title= '' research area , impact area `` data-drupal-link-system-path= '' node/9140 '' > research < /a > < /li > < li class= '' menu-item menu-item -- active-trail nav-link '' > < a href= '' /people ? rolefacets=principal % 20investigators % 2ccore/dual % 2cassociates % 2cemeritus '' data-drupal-link-query= '' { & quot ; rolefacet & quot ; : & quot ; princip investig , core\\/dual , assocy , emerit & quot ; } '' data-drupal-link-system-path= '' node/9844 '' > peopl < /a > < /li > < li class= '' menu-item nav-link '' > < a href= '' /news '' title= '' csail artic video and talk '' data-drupal-link-system-path= '' node/9142 '' > new < /a > < /li > < li class= '' menu-item nav-link '' > < a href= '' /events '' title= '' csail ev calend '' data-drupal-link-system-path= '' ev '' > ev < /a > < /li > < li class= '' menu-item nav-link '' > < a href= '' /symposia '' data-drupal-link-system-path= '' node/11219 '' > sympos < /a > < /li > < li class= '' menu-item nav-link '' > < a href= '' /about '' title= '' learn mor about csail '' data-drupal-link-system-path= '' node/2851 '' > about < /a > < /li > < /ul > < /nav > < /div > < /div > < div class= '' header-icons '' > < a href= '' javascrib : void ( 0 ) '' class= '' navigation-menu-button '' id= '' js-mobile-menu '' > < i class= '' fal fa-bars mobile-menu-button '' > < /i > < /a > < a href= '' javascrib : void ( 0 ) '' id= '' js-search-trigger '' > < i class= '' fal fa-search '' > < /i > < /a > < a target= '' _blank '' href= '' http : //web.mit.edu/ '' > < ! -- ? xml version= '' 1.0 '' encoding= '' utf-8 '' ? -- > < svg class= '' mit-logo '' width= '' 49px '' height= '' 25px '' viewbox= '' 0 0 49 25 '' version= '' 1.1 '' xmlns= '' http : //www.w3.org/2000/svg '' xmlns : xlink= '' http : //www.w3.org/1999/xlink '' > < ! -- gen : sketch 44 ( 41411 ) - http : //www.bohemiancoding.com/sketch -- > < titl > mit logo < /title > < desc > cre with sketch. < /desc > < def > < /defs > < g id= '' symbol '' stroke= '' non '' stroke-width= '' 1 '' fill= '' non '' fill-rule= '' evenod '' > < g id= '' black-nav '' transform= '' transl ( -1116.000000 , -67.000000 ) '' > < g id= '' mit-logo '' transform= '' transl ( 1116.000000 , 67.000000 ) '' > < polygon id= '' fill-1 '' fill= '' # ffffff '' points= '' 17.1686747 25 22.439759 25 22.439759 0 17.1686747 0 '' > < /polygon > < polygon id= '' fill-2 '' fill= '' # ffffff '' points= '' 0 25 5.27108434 25 5.27108434 0 0 0 '' > < /polygon > < polygon id= '' fill-3 '' fill= '' # ffffff '' points= '' 8.58433735 17.0180723 13.8554217 17.0180723 13.8554217 0 8.58433735 0 '' > < /polygon > < polygon id= '' fill-4 '' fill= '' # ffffff '' points= '' 25.753012 4.96987952 31.0240964 4.96987952 31.0240964 0.00015060241 25.753012 0.00015060241 '' > < /polygon > < polygon id= '' fill-5 '' fill= '' # ffffff '' points= '' 34.4879518 25 39.7590361 25 39.7590361 7.98192771 34.4879518 7.98192771 '' > < /polygon > < polygon id= '' fill-6 '' fill= '' # ffffff '' points= '' 25.753012 25 31.0240964 25 31.0240964 7.98192771 25.753012 7.98192771 '' > < /polygon > < polygon id= '' fill-7 '' fill= '' # ffffff '' points= '' 34.4879518 4.96987952 48.3435241 4.96987952 48.3435241 0.00015060241 34.4879518 0.00015060241 '' > < /polygon > < /g > < /g > < /g > < /svg > < /a > < /div > < /div > < div class= '' header-mobile-navigation '' > < div class= '' mobile-nav '' > < div class= '' mobile-menu '' > < nav aria-label= '' main `` id= '' block-csail-main-menu '' > < ul class= '' menu navigation-menu '' > < li class= '' menu-item menu-item -- collaps nav-link '' > < a href= '' /research '' title= '' research area , impact area `` data-drupal-link-system-path= '' node/9140 '' > research < /a > < /li > < li class= '' menu-item menu-item -- active-trail nav-link '' > < a href= '' /people ? rolefacets=principal % 20investigators % 2ccore/dual % 2cassociates % 2cemeritus '' data-drupal-link-query= '' { & quot ; rolefacet & quot ; : & quot ; princip investig , core\\/dual , assocy , emerit & quot ; } '' data-drupal-link-system-path= '' node/9844 '' > peopl < /a > < /li > < li class= '' menu-item nav-link '' > < a href= '' /news '' title= '' csail artic video and talk '' data-drupal-link-system-path= '' node/9142 '' > new < /a > < /li > < li class= '' menu-item nav-link '' > < a href= '' /events '' title= '' csail ev calend '' data-drupal-link-system-path= '' ev '' > ev < /a > < /li > < li class= '' menu-item nav-link '' > < a href= '' /symposia '' data-drupal-link-system-path= '' node/11219 '' > sympos < /a > < /li > < li class= '' menu-item nav-link '' > < a href= '' /about '' title= '' learn mor about csail '' data-drupal-link-system-path= '' node/2851 '' > about < /a > < /li > < /ul > < /nav > < /div > < div class= '' mobile-audience-menu '' > < nav aria-label= '' info for '' id= '' block-audiencemenu '' > < ul class= '' menu '' > < li class= '' menu-item '' > < a href= '' /students '' data-drupal-link-system-path= '' node/2884 '' > for stud < /a > < /li > < li class= '' menu-item '' > < a href= '' http : //cap.csail.mit.edu/ '' title= '' csail al program websit '' > for industry < /a > < /li > < li class= '' menu-item '' > < a href= '' /internal-resources '' data-drupal-link-system-path= '' node/4866 '' > for memb < /a > < /li > < li class= '' menu-item '' > < a href= '' https : //accessibility.mit.edu/ '' title= '' access '' > access < /a > < /li > < li class= '' menu-item '' > < a href= '' /csail_login '' data-drupal-link-system-path= '' csail_login '' > login < /a > < /li > < /ul > < /nav > < /div > < div class= '' mobile-info-menu '' > < nav aria-label= '' info menu '' id= '' block-infomenu '' > < ul class= '' menu '' > < li class= '' menu-item '' > < a href= '' http : //live-csail.pantheonsite.io/contact-us '' > contact < /a > < /li > < li class= '' menu-item '' > < a href= '' mailto : new @ csail.mit.edu ? subject=csail % 20media % 20inquiry '' > press request < /a > < /li > < li class= '' menu-item '' > < a href= '' https : //accessibility.mit.edu/ '' > access < /a > < /li > < /ul > < /nav > < /div > < /div > < /div > < /div > < /div > < div class= '' search-section '' > < div class= '' outer-wrapp '' > < form action= '' /search '' method= '' get '' id= '' search-block-form '' accept-charset= '' utf-8 '' > < label for= '' edit-keys '' class= '' visually-hidden '' > search < /label > < input title= '' ent the term you wish to search for . '' placeholder= '' search csail '' data-drupal-selector= '' edit-keys '' type= '' search '' id= '' edit-keys '' name= '' keyword '' value= '' '' size= '' 15 '' maxlength= '' 128 '' class= '' form-search '' > < i id= '' js-search-close '' class= '' fal fa-times '' > < /i > < div data-drupal-selector= '' edit-actions '' class= '' form-actions js-form-wrapper form-wrapper '' id= '' edit-actions '' > < input data-drupal-selector= '' edit-submit '' type= '' submit '' id= '' edit-submit '' value= '' search '' class= '' button js-form-submit form-submit '' > < /div > < /form > < /div > < /div > < /header > < sect id= '' feat '' > < div class= '' column '' > < div class= '' '' > < div data-drupal-messages-fallback= '' '' class= '' hid '' > < /div > < /div > < /div > < /section > < main role= '' main '' class= '' main-wrapper '' > < a id= '' main-content '' tabindex= '' -1 '' > < /a > < sect id= '' cont '' > < div class= '' '' > < div id= '' block-csailangularpeople '' class= '' block block-csail-angular block-csail-angular-people '' > < app-root _nghost-odc-c5= '' '' ng-version= '' 12.1.2 '' > < router-outlet _ngcontent-odc-c5= '' '' > < /router-outlet > < app-people _nghost-odc-c48= '' '' > < div _ngcontent-odc-c48= '' '' fxlayout= '' column '' class= '' cs-people '' style= '' flex-direction : column ; box-sizing : border-box ; display : flex ; '' > < div _ngcontent-odc-c48= '' '' fxlayout= '' row '' fxlayout.xs= '' column '' fxlayoutalign= '' start cent '' fxlayoutalign.xs= '' space-around cent '' class= '' cs-people__header '' style= '' flex-direction : row ; box-sizing : border-box ; display : flex ; place-content : cent flex-start ; align-items : cent ; '' > < div _ngcontent-odc-c48= '' '' fxflex= '' 30 '' fxflex.xs= '' non '' fxflexorder.xs= '' 2 '' class= '' cs-people__header__controls '' style= '' flex : 1 1 100 % ; box-sizing : border-box ; max-width : 30 % ; '' > < div _ngcontent-odc-c48= '' '' fxlayout.xs= '' column '' fxlayout= '' row '' fxlayoutalign.xs= '' space-evenly start '' fxlayoutgap= '' 15px '' class= '' cs-people__search '' style= '' flex-direction : row ; box-sizing : border-box ; display : flex ; '' > < lib-panel-toggle-button _ngcontent-odc-c48= '' '' fxflexorder.xs= '' 2 '' _nghost-odc-c39= '' '' style= '' margin-right : 15px ; '' > < div _ngcontent-odc-c39= '' '' class= '' cs-panel-toggle '' > < fa-icon _ngcontent-odc-c39= '' '' ngclass= '' cs-panel-toggle__icon '' class= '' ng-fa-icon cs-panel-toggle__icon '' > < svg role= '' img '' aria-hidden= '' tru '' focusable= '' fals '' data-prefix= '' fas '' data-icon= '' angle-left '' class= '' svg-inline -- fa fa-angle-left fa-w-8 '' xmlns= '' http : //www.w3.org/2000/svg '' viewbox= '' 0 0 256 512 '' > < path fill= '' currentcol '' d= '' m31.7 239l136-136c9.4-9.4 24.6-9.4 33.9 0l22.6 22.6c9.4 9.4 9.4 24.6 0 33.9l127.9 256l96.4 96.4c9.4 9.4 9.4 24.6 0 33.9l201.7 409c-9.4 9.4-24.6 9.4-33.9 0l-136-136c-9.5-9.4-9.5-24.6-.1-34z '' > < /path > < /svg > < /fa-icon > < button _ngcontent-odc-c39= '' '' class= '' cs-panel-toggle__input '' > hid filt < /button > < /div > < /lib-panel-toggle-button > < lib-search-box _ngcontent-odc-c48= '' '' fxflexorder.xs= '' 1 '' _nghost-odc-c44= '' '' > < div _ngcontent-odc-c44= '' '' class= '' cs-search-box '' > < fa-icon _ngcontent-odc-c44= '' '' ngclass= '' cs-search-box__icon '' class= '' ng-fa-icon cs-search-box__icon '' > < svg role= '' img '' aria-hidden= '' tru '' focusable= '' fals '' data-prefix= '' fas '' data-icon= '' search '' class= '' svg-inline -- fa fa-search fa-w-16 '' xmlns= '' http : //www.w3.org/2000/svg '' viewbox= '' 0 0 512 512 '' > < path fill= '' currentcol '' d= '' m505 442.7l405.3 343c-4.5-4.5-10.6-7-17-7h372c27.6-35.3 44-79.7 44-128c416 93.1 322.9 0 208 0s0 93.1 0 208s93.1 208 208 208c48.3 0 92.7-16.4 128-44v16.3c0 6.4 2.5 12.5 7 17l99.7 99.7c9.4 9.4 24.6 9.4 33.9 0l28.3-28.3c9.4-9.4 9.4-24.6.1-34zm208 336c-70.7 0-128-57.2-128-128 0-70.7 57.2-128 128-128 70.7 0 128 57.2 128 128 0 70.7-57.2 128-128 128z '' > < /path > < /svg > < /fa-icon > < input _ngcontent-odc-c44= '' '' type= '' text '' placeholder= '' search '' class= '' cs-search-box__input '' > < /div > < /lib-search-box > < ! -- -- > < ! -- -- > < /div > < /div > < h1 _ngcontent-odc-c48= '' '' fxflex= '' 40 '' fxflex.xs= '' non '' fxflexorder.sm= '' 1 '' fxflexorder.xs= '' 1 '' style= '' flex : 1 1 100 % ; box-sizing : border-box ; max-width : 40 % ; ord : 1 ; '' > peopl < /h1 > < div _ngcontent-odc-c48= '' '' fxflex= '' '' style= '' flex : 1 1 0 % ; box-sizing : border-box ; '' > < /div > < /div > < div _ngcontent-odc-c48= '' '' fxlayout= '' row '' fxlayout.xs= '' column '' class= '' cs-people__main '' style= '' flex-direction : row ; box-sizing : border-box ; display : flex ; '' > < div _ngcontent-odc-c48= '' '' fxflex= '' 400px '' fxflex.xs= '' non '' fxlayout.xs= '' column '' class= '' cs-people__filters '' style= '' flex : 1 1 400px ; box-sizing : border-box ; max-width : 400px ; min-width : 400px ; '' > < lib-people-facets _ngcontent-odc-c48= '' '' fxlayout= '' column '' fxlayoutfill= '' '' fxlayoutgap= '' 41px '' ngclass= '' cs-people__filters__facets '' _nghost-odc-c47= '' '' class= '' cs-people__filters__facets '' style= '' flex-direction : column ; box-sizing : border-box ; display : flex ; '' > < ! -- -- > < ! -- -- > < div _ngcontent-odc-c47= '' '' fxflex= '' '' class= '' cs-people-facets facet '' style= '' flex : 1 1 1e-09px ; box-sizing : border-box ; margin-bottom : 41px ; '' > < lib-people-faceter _ngcontent-odc-c47= '' '' title= '' rol '' _nghost-odc-c46= '' '' > < div _ngcontent-odc-c46= '' '' class= '' cs-facets '' > < div _ngcontent-odc-c46= '' '' class= '' cs-facets__title '' > rol < /div > < div _ngcontent-odc-c46= '' '' fxlayout= '' column '' style= '' flex-direction : column ; box-sizing : border-box ; display : flex ; '' > < div _ngcontent-odc-c46= '' '' class= '' cs-facets__options '' > < div _ngcontent-odc-c46= '' '' fxlayout= '' row '' fxlayoutalign= '' start start '' fxlayoutgap= '' 13px '' class= '' facet facet__selected '' style= '' flex-direction : row ; box-sizing : border-box ; display : flex ; place-content : flex-start ; align-items : flex-start ; '' > < div _ngcontent-odc-c46= '' '' class= '' cs-facets__options__control '' style= '' margin-right : 13px ; '' > < input _ngcontent-odc-c46= '' '' type= '' checkbox '' > < /div > < div _ngcontent-odc-c46= '' '' fxfill= '' '' class= '' cs-facets__options__label '' style= '' height : 100 % ; min-height : 100 % ; min-width : 100 % ; wid : 100 % ; '' > princip investig < /div > < /div > < div _ngcontent-odc-c46= '' '' fxlayout= '' column '' class= '' cs-facets__options__children '' style= '' flex-direction : column ; box-sizing : border-box ; display : flex ; '' > < div _ngcontent-odc-c46= '' '' > < div _ngcontent-odc-c46= '' '' fxlayout= '' row '' fxlayoutalign= '' start start '' fxlayoutgap= '' 13px '' class= '' facet facet__selected '' style= '' flex-direction : row ; box-sizing : border-box ; display : flex ; place-content : flex-start ; align-items : flex-start ; '' > < div _ngcontent-odc-c46= '' '' class= '' cs-facets__options__control '' style= '' margin-right : 13px ; '' > < input _ngcontent-odc-c46= '' '' type= '' checkbox '' > < /div > < div _ngcontent-odc-c46= '' '' fxfill= '' '' class= '' cs-facets__options__label '' style= '' height : 100 % ; min-height : 100 % ; min-width : 100 % ; wid : 100 % ; '' > core/dual < /div > < /div > < /div > < div _ngcontent-odc-c46= '' '' > < div _ngcontent-odc-c46= '' '' fxlayout= '' row '' fxlayoutalign= '' start start '' fxlayoutgap= '' 13px '' class= '' facet facet__selected '' style= '' flex-direction : row ; box-sizing : border-box ; display : flex ; place-content : flex-start ; align-items : flex-start ; '' > < div _ngcontent-odc-c46= '' '' class= '' cs-facets__options__control '' style= '' margin-right : 13px ; '' > < input _ngcontent-odc-c46= '' '' type= '' checkbox '' > < /div > < div _ngcontent-odc-c46= '' '' fxfill= '' '' class= '' cs-facets__options__label '' style= '' height : 100 % ; min-height : 100 % ; min-width : 100 % ; wid : 100 % ; '' > assocy < /div > < /div > < /div > < div _ngcontent-odc-c46= '' '' > < div _ngcontent-odc-c46= '' '' fxlayout= '' row '' fxlayoutalign= '' start start '' fxlayoutgap= '' 13px '' class= '' facet facet__selected '' style= '' flex-direction : row ; box-sizing : border-box ; display : flex ; place-content : flex-start ; align-items : flex-start ; '' > < div _ngcontent-odc-c46= '' '' class= '' cs-facets__options__control '' style= '' margin-right : 13px ; '' > < input _ngcontent-odc-c46= '' '' type= '' checkbox '' > < /div > < div _ngcontent-odc-c46= '' '' fxfill= '' '' class= '' cs-facets__options__label '' style= '' height : 100 % ; min-height : 100 % ; min-width : 100 % ; wid : 100 % ; '' > emerit < /div > < /div > < /div > < /div > < ! -- -- > < /div > < div _ngcontent-odc-c46= '' '' > < div _ngcontent-odc-c46= '' '' fxlayout= '' row '' fxlayoutalign= '' start start '' fxlayoutgap= '' 13px '' class= '' facet facet__selected '' style= '' flex-direction : row ; box-sizing : border-box ; display : flex ; place-content : flex-start ; align-items : flex-start ; '' > < div _ngcontent-odc-c46= '' '' class= '' cs-facets__options__control '' style= '' margin-right : 13px ; '' > < input _ngcontent-odc-c46= '' '' type= '' checkbox '' > < /div > < div _ngcontent-odc-c46= '' '' fxfill= '' '' class= '' cs-facets__options__label '' style= '' height : 100 % ; min-height : 100 % ; min-width : 100 % ; wid : 100 % ; '' > research < /div > < /div > < div _ngcontent-odc-c46= '' '' fxlayout= '' row '' fxlayoutalign= '' start start '' fxlayoutgap= '' 13px '' class= '' facet facet__selected '' style= '' flex-direction : row ; box-sizing : border-box ; display : flex ; place-content : flex-start ; align-items : flex-start ; '' > < div _ngcontent-odc-c46= '' '' class= '' cs-facets__options__control '' style= '' margin-right : 13px ; '' > < input _ngcontent-odc-c46= '' '' type= '' checkbox '' > < /div > < div _ngcontent-odc-c46= '' '' fxfill= '' '' class= '' cs-facets__options__label '' style= '' height : 100 % ; min-height : 100 % ; min-width : 100 % ; wid : 100 % ; '' > gradu stud < /div > < /div > < div _ngcontent-odc-c46= '' '' fxlayout= '' row '' fxlayoutalign= '' start start '' fxlayoutgap= '' 13px '' class= '' facet facet__selected '' style= '' flex-direction : row ; box-sizing : border-box ; display : flex ; place-content : flex-start ; align-items : flex-start ; '' > < div _ngcontent-odc-c46= '' '' class= '' cs-facets__options__control '' style= '' margin-right : 13px ; '' > < input _ngcontent-odc-c46= '' '' type= '' checkbox '' > < /div > < div _ngcontent-odc-c46= '' '' fxfill= '' '' class= '' cs-facets__options__label '' style= '' height : 100 % ; min-height : 100 % ; min-width : 100 % ; wid : 100 % ; '' > urop < /div > < /div > < /div > < /div > < /div > < ! -- -- > < /lib-people-faceter > < /div > < ! -- -- > < div _ngcontent-odc-c47= '' '' class= '' cs-people-facets facet '' style= '' margin-bottom : 41px ; '' > < lib-facet-filter _ngcontent-odc-c47= '' '' facetname= '' staff '' _nghost-odc-c45= '' '' > < div _ngcontent-odc-c45= '' '' class= '' cs-facets '' > < div _ngcontent-odc-c45= '' '' class= '' cs-facets__title '' > staff < /div > < ! -- -- > < ul _ngcontent-odc-c45= '' '' class= '' cs-facets__options '' > < ! -- -- > < /ul > < /div > < ! -- -- > < /lib-facet-filter > < /div > < ! -- -- > < ! -- -- > < ! -- -- > < div _ngcontent-odc-c47= '' '' class= '' cs-people-facets facet '' > < lib-facet-filter _ngcontent-odc-c47= '' '' facetname= '' affy '' _nghost-odc-c45= '' '' > < div _ngcontent-odc-c45= '' '' class= '' cs-facets '' > < div _ngcontent-odc-c45= '' '' class= '' cs-facets__title '' > affy < /div > < ! -- -- > < ul _ngcontent-odc-c45= '' '' class= '' cs-facets__options '' > < ! -- -- > < /ul > < /div > < ! -- -- > < /lib-facet-filter > < /div > < ! -- -- > < ! -- -- > < ! -- -- > < ! -- -- > < /lib-people-facets > < /div > < ! -- -- > < div _ngcontent-odc-c48= '' '' fxflex= '' '' class= '' cs-people__container '' style= '' flex : 1 1 0 % ; box-sizing : border-box ; '' > < lib-people-results _ngcontent-odc-c48= '' '' _nghost-odc-c43= '' '' > < div _ngcontent-odc-c43= '' '' class= '' cs-people__results '' > < div _ngcontent-odc-c43= '' '' fxlayout= '' row wrap '' fxlayout.xs= '' column '' fxlayoutalign= '' start stretch '' fxlayoutalign.xs= '' space-evenly cent '' fxlayoutgap= '' 15px grid '' fxlayoutgap.xs= '' 7px '' style= '' flex-flow : wrap ; box-sizing : border-box ; display : flex ; place-content : stretch flex-start ; align-items : stretch ; max-height : 100 % ; margin : 0px -15px -15px 0px ; '' > < ! -- -- > < ! -- -- > < ! -- -- > < ! -- -- > < ! -- -- > < ! -- -- > < div _ngcontent-odc-c43= '' '' class= '' flex-card '' style= '' pad : 0px 15px 15px 0px ; '' > < /div > < div _ngcontent-odc-c43= '' '' class= '' flex-card '' style= '' pad : 0px 15px 15px 0px ; '' > < /div > < div _ngcontent-odc-c43= '' '' class= '' flex-card '' style= '' pad : 0px 15px 15px 0px ; '' > < /div > < div _ngcontent-odc-c43= '' '' class= '' flex-card '' style= '' pad : 0px 15px 15px 0px ; '' > < /div > < div _ngcontent-odc-c43= '' '' class= '' flex-card '' style= '' pad : 0px 15px 15px 0px ; '' > < /div > < /div > < ! -- -- > < ! -- -- > < ! -- -- > < ! -- -- > < /div > < ! -- -- > < /lib-people-results > < /div > < /div > < /div > < ! -- -- > < /app-people > < ! -- -- > < /app-root > < /div > < div id= '' block-csail-content '' class= '' block block-system block-system-main-block '' > < artic id= '' node-9844 '' class= '' '' role= '' artic '' about= '' /people '' > < /article > < /div > < /div > < /section > < /main > < foot id= '' site-footer '' role= '' contentinfo '' > < sect class= '' footer-bottom '' > < h2 > mit csail < /h2 > < div class= '' footer-sections '' > < div id= '' block-footerinfotextblock '' class= '' block block-block-content block-block-content65e2ef2c-038f-4dc6-b6ed-2ff88073b056 '' > < div class= '' clearfix text-formatted field field -- name-body field -- type-text-with-summary field -- label-hidden field__item '' > < p > massachuset institut of technolog < /p > < p > comput sci & amp ; art intellig lab < /p > < p > 32 vass st , cambridg ma 02139 < /p > < /div > < /div > < nav aria-label= '' info menu '' id= '' block-infomenu '' > < ul class= '' menu '' > < li class= '' menu-item '' > < a href= '' http : //live-csail.pantheonsite.io/contact-us '' > contact < /a > < /li > < li class= '' menu-item '' > < a href= '' mailto : new @ csail.mit.edu ? subject=csail % 20media % 20inquiry '' > press request < /a > < /li > < li class= '' menu-item '' > < a href= '' https : //accessibility.mit.edu/ '' > access < /a > < /li > < /ul > < /nav > < div > < a href= '' https : //computing.mit.edu '' style= '' border-bottom : non ! import ; '' > < img style= '' max-width : 250px ; margin-right : 100px ; '' src= '' /themes/custom/csail/images/scc-black.png '' alt= '' mit schwarzman colleg of comput '' > < /a > < /div > < div id= '' block-footersocialinfoblock '' class= '' block block-block-content block-block-content6b8d3d82-2fda-46aa-8055-09f052768ffd '' > < div class= '' footer-social-icons '' > < a aria-label= '' twit '' target= '' _blank '' href= '' https : //twitter.com/mit_csail '' > < i class= '' fab fa-twitter-square '' > < /i > < /a > < a aria-label= '' facebook '' target= '' _blank '' href= '' https : //www.facebook.com/mitcsail/ '' > < i class= '' fab fa-facebook-square '' > < /i > < /a > < a aria-label= '' youtub '' target= '' _blank '' href= '' https : //www.youtube.com/user/mitcsail '' > < i class= '' fab fa-youtube-square '' > < /i > < /a > < a aria-label= '' instagram '' target= '' _blank '' href= '' https : //www.instagram.com/mit_csail/ '' > < i class= '' fab fa-instagram '' > < /i > < /a > < a aria-label= '' linkedin '' target= '' _blank '' href= '' https : //www.linkedin.com/company/mit-csail '' > < i class= '' fab fa-linkedin '' > < /i > < /a > < /div > < /div > < /div > < /section > < /footer > < /div > < /div > < script type= '' application/json '' data-drupal-selector= '' drupal-settings-json '' > { `` path '' : { `` baseurl '' : '' \\/ '' , '' scriptpath '' : nul , '' pathprefix '' : '' '' , '' currentpa '' : '' node\\/9844 '' , '' currentpathisadmin '' : fals , '' isfront '' : fals , '' currentlangu '' : '' en '' , '' currentquery '' : { `` affiliatefacet '' : '' alumn , visit '' , '' rolefacet '' : '' princip investig , research , princip investig , grad stud , princip investig , urop , princip investig , core\\/dual , assocy , emerit '' , '' stafffacet '' : '' staff , admin '' } } , '' pluraldelimit '' : '' \\u0003 '' , '' suppressdeprecationer '' : tru , '' fitvid '' : { `` select '' : '' .node\\r , .main-wrapper '' , '' custom_vendors '' : '' '' , '' ignore_selectors '' : '' '' } , '' google_analytics '' : { `` trackoutbound '' : tru , '' trackmailto '' : tru , '' trackdownload '' : tru , '' trackdownloadextend '' : '' 7z|aac|arc|arj|asf|asx|avi|bin|csv|doc ( x|m ) ? |dot ( x|m ) ? |exe|flv|gif|gz|gzip|hqx|jar|jpe ? g|js|mp ( 2|3|4|e ? g ) |mov ( ie ) ? |msi|msp|pdf|phps|png|ppt ( x|m ) ? |pot ( x|m ) ? |pps ( x|m ) ? |ppam|sld ( x|m ) ? |thmx|qtm ? |ra ( m|r ) ? |sea|sit|tar|tgz|torrent|txt|wav|wma|wmv|wpd|xls ( x|m|b ) ? |xlt ( x|m ) |xlam|xml|z|zip '' , '' trackcolorbox '' : tru } , '' us '' : { `` uid '' :0 , '' permissionshash '' : '' 93e78a3f36d5585de87f6d42e888f6eb167bcf31de54b95e8aec1cf3380914cc '' } } < /script > < script src= '' /sites/default/files/js/js_ueujuxsy2x0c3k6b-lg558vmhzzaizybgufl6wljwzk.js '' > < /script > < script type= '' text/javascrib '' > window.nreum|| ( nreum= { } ) ; nreum.info= { `` beacon '' : '' bam.nr-data.net '' , '' licensekey '' : '' a26f390b95 '' , '' applicationid '' : '' 98296332 '' , '' transactionnam '' : '' m1ugyraawrfuv0ukdaofmuclthglw1bug00uwbq= '' , '' queuetim '' :0 , '' applicationtim '' :410 , '' at '' : '' hxiff1gash8= '' , '' errorbeacon '' : '' bam.nr-data.net '' , '' ag '' : '' '' } < /script > < div id= '' cboxoverlay '' style= '' display : non ; '' > < /div > < div id= '' colorbox '' class= '' '' role= '' dialog '' tabindex= '' -1 '' style= '' display : non ; '' > < div id= '' cboxwrap '' > < div > < div id= '' cboxtopleft '' style= '' flo : left ; '' > < /div > < div id= '' cboxtopc '' style= '' flo : left ; '' > < /div > < div id= '' cboxtopright '' style= '' flo : left ; '' > < /div > < /div > < div style= '' clear : left ; '' > < div id= '' cboxmiddleleft '' style= '' flo : left ; '' > < /div > < div id= '' cboxcont '' style= '' flo : left ; '' > < div id= '' cboxtitl '' style= '' flo : left ; '' > < /div > < div id= '' cboxcur '' style= '' flo : left ; '' > < /div > < button type= '' button '' id= '' cboxprevy '' > < /button > < button type= '' button '' id= '' cboxnext '' > < /button > < button type= '' button '' id= '' cboxslideshow '' > < /button > < div id= '' cboxloadingoverlay '' style= '' flo : left ; '' > < /div > < div id= '' cboxloadinggraph '' style= '' flo : left ; '' > < /div > < /div > < div id= '' cboxmiddleright '' style= '' flo : left ; '' > < /div > < /div > < div style= '' clear : left ; '' > < div id= '' cboxbottomleft '' style= '' flo : left ; '' > < /div > < div id= '' cboxbottomc '' style= '' flo : left ; '' > < /div > < div id= '' cboxbottomright '' style= '' flo : left ; '' > < /div > < /div > < /div > < div style= '' posit : absolv ; wid : 9999px ; vis : hid ; display : non ; max-width : non ; '' > < /div > < /div > < /body > < /html >\n"
          ]
        }
      ]
    },
    {
      "cell_type": "code",
      "source": [
        "#Question 6 :\n",
        "message = '''Pila Forfeited you engrossed but 1kometimes explained. Another 1kacokaco1 as studied it to evident.\n",
        "Merry sense 9given he be arisepila. Conduct at an replied removal an amongst.\n",
        "Remainingzalima 0determine few her two cordially Zalima admitting old. Sometimes ctra*nger his\n",
        "pisdsdla ourselves her co*la depending you boy. Eat discretion cultivated possession far comparison\n",
        "projection pila considered. And few fat interested discovered inquietude insensible unsatiable increasing\n",
        "zalima eat.'''"
      ],
      "metadata": {
        "id": "Vk33BVIC83uj"
      },
      "execution_count": 37,
      "outputs": []
    },
    {
      "cell_type": "code",
      "source": [
        "regex1 = r'[Zz][a-z]*a'\n",
        "\n",
        "word_1st = re.search(regex1 , message)\n",
        "freq = len(re.findall(regex1,message))\n",
        "\n",
        "print(\"Expression: \",regex1)\n",
        "print(\"First word: \",word_1st.group(0))"
      ],
      "metadata": {
        "colab": {
          "base_uri": "https://localhost:8080/"
        },
        "id": "pCiCwCiZ9Ark",
        "outputId": "1cc44199-36b4-4dac-bc21-72c390bf6a74"
      },
      "execution_count": 38,
      "outputs": [
        {
          "output_type": "stream",
          "name": "stdout",
          "text": [
            "Expression:  [Zz][a-z]*a\n",
            "First word:  zalima\n"
          ]
        }
      ]
    },
    {
      "cell_type": "code",
      "source": [
        "regex2 = r'\\d+[k][a-z]*\\d+'\n",
        "\n",
        "print(\"Expression: \",regex2)\n",
        "word_2nd = re.search(regex2, message)\n",
        "\n",
        "word_2nd_actual = word_2nd.group(0)[3:-3]\n",
        "print(\"second word:\", word_2nd_actual)\n"
      ],
      "metadata": {
        "colab": {
          "base_uri": "https://localhost:8080/"
        },
        "id": "2rdjdzsp9GoZ",
        "outputId": "1151e873-3e81-4d4c-b5d1-cf6c362ae369"
      },
      "execution_count": 39,
      "outputs": [
        {
          "output_type": "stream",
          "name": "stdout",
          "text": [
            "Expression:  \\d+[k][a-z]*\\d+\n",
            "second word: coka\n"
          ]
        }
      ]
    },
    {
      "cell_type": "code",
      "source": [
        "regex3 = r'c[a-z]*\\*+[a-z]*a'\n",
        "\n",
        "word_3rd = re.search(regex3, message)\n",
        "print(\"Expression: \",regex3)\n",
        "word_3rd_actual = word_3rd.group(0).replace('*', '')\n",
        "print(\"Actual third word: \", word_3rd_actual)\n"
      ],
      "metadata": {
        "colab": {
          "base_uri": "https://localhost:8080/"
        },
        "id": "JZBYkvVW9HwP",
        "outputId": "06d60053-c6d2-4270-e6d2-9bb8984a73cc"
      },
      "execution_count": 42,
      "outputs": [
        {
          "output_type": "stream",
          "name": "stdout",
          "text": [
            "Expression:  c[a-z]*\\*+[a-z]*a\n",
            "Actual third word:  cola\n"
          ]
        }
      ]
    },
    {
      "cell_type": "code",
      "source": [
        "regex4 = r'[Pp][a-z]{2}a'\n",
        "\n",
        "word_4th = re.search(regex4, message)\n",
        "print(\"Fourth word: \", word_4th.group(0))\n"
      ],
      "metadata": {
        "colab": {
          "base_uri": "https://localhost:8080/"
        },
        "id": "viIbENfm9Kpc",
        "outputId": "c505014a-e134-4fdc-f2f2-5c6699b4c7a0"
      },
      "execution_count": 41,
      "outputs": [
        {
          "output_type": "stream",
          "name": "stdout",
          "text": [
            "Fourth word:  Pila\n"
          ]
        }
      ]
    },
    {
      "cell_type": "code",
      "source": [
        "fifth_word = \"de\"\n",
        "\n",
        "complete_message = \" \".join([word_1st.group(0), word_2nd_actual, word_3rd_actual, word_4th.group(0), fifth_word])\n",
        "print(\"\\nComplete message:\", complete_message)\n",
        "\n"
      ],
      "metadata": {
        "colab": {
          "base_uri": "https://localhost:8080/"
        },
        "id": "U_9IrvI_9OfO",
        "outputId": "395f153c-475b-4344-e3da-31e17c194f44"
      },
      "execution_count": 40,
      "outputs": [
        {
          "output_type": "stream",
          "name": "stdout",
          "text": [
            "\n",
            "Complete message: zalima coka cola Pila de\n"
          ]
        }
      ]
    },
    {
      "cell_type": "code",
      "source": [
        "import os.path\n",
        "import sys\n",
        "import random\n",
        "import math\n",
        "from collections import defaultdict\n",
        "\n",
        "#----------------------------------------\n",
        "#  Data input\n",
        "#----------------------------------------\n",
        "\n",
        "# Read a text file into a corpus (list of sentences (which in turn are lists of words))\n",
        "def readFileToCorpus(f):\n",
        "    if os.path.isfile(f):\n",
        "        with open(f, \"r\") as file:\n",
        "            corpus = [line.split() for line in file]\n",
        "        return corpus\n",
        "    else:\n",
        "        print(\"Error: corpus file\", f, \"does not exist\")\n",
        "        sys.exit()\n",
        "\n",
        "# Preprocess the corpus\n",
        "def preprocess(corpus):\n",
        "    freqDict = defaultdict(int)\n",
        "    for sen in corpus:\n",
        "        for word in sen:\n",
        "            freqDict[word] += 1\n",
        "\n",
        "    for sen in corpus:\n",
        "        for i in range(len(sen)):\n",
        "            word = sen[i]\n",
        "            if freqDict[word] < 2:\n",
        "                sen[i] = UNK\n",
        "\n",
        "    for sen in corpus:\n",
        "        sen.insert(0, start)\n",
        "        sen.append(end)\n",
        "\n",
        "    return corpus\n",
        "\n",
        "def preprocessTest(vocab, corpus):\n",
        "    for sen in corpus:\n",
        "        for i in range(len(sen)):\n",
        "            word = sen[i]\n",
        "            if word not in vocab:\n",
        "                sen[i] = UNK\n",
        "\n",
        "    for sen in corpus:\n",
        "        sen.insert(0, start)\n",
        "        sen.append(end)\n",
        "\n",
        "    return corpus\n",
        "\n",
        "# Constants\n",
        "UNK = \"UNK\"     # Unknown word token\n",
        "start = \"<s>\"   # Start-of-sentence token\n",
        "end = \"</s>\"    # End-of-sentence-token\n",
        "\n",
        "#--------------------------------------------------------------\n",
        "# Language models and data structures\n",
        "#--------------------------------------------------------------\n",
        "\n",
        "class LanguageModel:\n",
        "    def __init__(self, corpus):\n",
        "        pass\n",
        "\n",
        "    def generateSentence(self):\n",
        "        pass\n",
        "\n",
        "    def getSentenceProbability(self, sen):\n",
        "        pass\n",
        "\n",
        "    def getCorpusPerplexity(self, corpus):\n",
        "        pass\n",
        "\n",
        "    def generateSentencesToFile(self, numberOfSentences, filename):\n",
        "        pass\n",
        "\n",
        "class UnigramModel(LanguageModel):\n",
        "    def __init__(self, corpus):\n",
        "        self.unigramDist = UnigramDist(corpus)\n",
        "\n",
        "    def generateSentence(self):\n",
        "        sentence = [start]\n",
        "        while True:\n",
        "            word = self.unigramDist.draw()\n",
        "            if word == end:\n",
        "                break\n",
        "            sentence.append(word)\n",
        "        return sentence\n",
        "\n",
        "    def getSentenceProbability(self, sen):\n",
        "        prob = 1.0\n",
        "        for word in sen[1:-1]:  # excluding <s> and </s>\n",
        "            prob *= self.unigramDist.prob(word)\n",
        "        return prob\n",
        "\n",
        "    def getCorpusPerplexity(self, corpus):\n",
        "        total_log_prob = 0.0\n",
        "        total_words = 0\n",
        "        for sen in corpus:\n",
        "            total_words += len(sen) - 2  # excluding <s> and </s>\n",
        "            for word in sen[1:-1]:  # excluding <s> and </s>\n",
        "                total_log_prob += -math.log(self.unigramDist.prob(word))\n",
        "        perplexity = math.exp(total_log_prob / total_words)\n",
        "        return perplexity\n",
        "\n",
        "class SmoothedUnigramModel(LanguageModel):\n",
        "    def __init__(self, corpus):\n",
        "        self.unigramDist = UnigramDist(corpus)\n",
        "\n",
        "    def generateSentence(self):\n",
        "        sentence = [start]\n",
        "        while True:\n",
        "            word = self.unigramDist.draw()\n",
        "            if word == end:\n",
        "                break\n",
        "            sentence.append(word)\n",
        "        return sentence\n",
        "\n",
        "    def getSentenceProbability(self, sen):\n",
        "        prob = 1.0\n",
        "        vocab_size = len(self.unigramDist.counts)\n",
        "        for word in sen[1:-1]:  # excluding <s> and </s>\n",
        "            prob *= (self.unigramDist.counts[word] + 1) / (self.unigramDist.total + vocab_size)\n",
        "        return prob\n",
        "\n",
        "    def getCorpusPerplexity(self, corpus):\n",
        "        total_log_prob = 0.0\n",
        "        total_words = 0\n",
        "        vocab_size = len(self.unigramDist.counts)\n",
        "        for sen in corpus:\n",
        "            total_words += len(sen) - 2  # excluding <s> and </s>\n",
        "            for word in sen[1:-1]:  # excluding <s> and </s>\n",
        "                prob = (self.unigramDist.counts[word] + 1) / (self.unigramDist.total + vocab_size)\n",
        "                total_log_prob += -math.log(prob)\n",
        "        perplexity = math.exp(total_log_prob / total_words)\n",
        "        return perplexity\n",
        "\n",
        "class BigramModel(LanguageModel):\n",
        "    def __init__(self, corpus):\n",
        "        self.bigramCounts = defaultdict(lambda: defaultdict(int))\n",
        "        self.unigramCounts = defaultdict(int)\n",
        "        self.train(corpus)\n",
        "\n",
        "    def train(self, corpus):\n",
        "        for sen in corpus:\n",
        "            for i in range(len(sen) - 1):\n",
        "                self.bigramCounts[sen[i]][sen[i+1]] += 1\n",
        "                self.unigramCounts[sen[i]] += 1\n",
        "            self.unigramCounts[sen[-1]] += 1  # count end-of-sentence\n",
        "\n",
        "    def generateSentence(self):\n",
        "        sentence = [start]\n",
        "        while True:\n",
        "            prev_word = sentence[-1]\n",
        "            next_word = random.choices(list(self.bigramCounts[prev_word].keys()),\n",
        "                                        weights=self.bigramCounts[prev_word].values())[0]\n",
        "            if next_word == end:\n",
        "                break\n",
        "            sentence.append(next_word)\n",
        "        return sentence\n",
        "\n",
        "    def getSentenceProbability(self, sen):\n",
        "        prob = 1.0\n",
        "        for i in range(len(sen) - 1):\n",
        "            prob *= self.bigramCounts[sen[i]][sen[i+1]] / self.unigramCounts[sen[i]]\n",
        "        return prob\n",
        "\n",
        "    def getCorpusPerplexity(self, corpus):\n",
        "        total_log_prob = 0.0\n",
        "        total_words = 0\n",
        "        epsilon = 1e-10  # small value to prevent taking log of zero\n",
        "        for sen in corpus:\n",
        "            total_words += len(sen) - 2  # excluding <s> and </s>\n",
        "            for i in range(len(sen) - 1):\n",
        "                bigram_count = self.bigramCounts[sen[i]][sen[i+1]]\n",
        "                unigram_count = self.unigramCounts[sen[i]]\n",
        "                prob = (bigram_count + epsilon) / (unigram_count + epsilon)\n",
        "                total_log_prob += -math.log(prob)\n",
        "        perplexity = math.exp(total_log_prob / total_words)\n",
        "        return perplexity\n",
        "\n",
        "class SmoothedBigramModelKN(LanguageModel):\n",
        "    def __init__(self, corpus, discount=0.75):\n",
        "        self.bigramCounts = defaultdict(lambda: defaultdict(int))\n",
        "        self.unigramCounts = defaultdict(int)\n",
        "        self.discount = discount\n",
        "        self.train(corpus)\n",
        "\n",
        "    def train(self, corpus):\n",
        "        for sen in corpus:\n",
        "            for i in range(len(sen) - 1):\n",
        "                self.bigramCounts[sen[i]][sen[i+1]] += 1\n",
        "                self.unigramCounts[sen[i]] += 1\n",
        "            self.unigramCounts[sen[-1]] += 1  # count end-of-sentence\n",
        "\n",
        "    def get_continuation_probability(self, word):\n",
        "        count = sum(self.bigramCounts[word].values())\n",
        "        return max(count - self.discount, 0) / count if count > 0 else 0\n",
        "\n",
        "    def get_normalized_weights(self, prev_word):\n",
        "        continuation_probs = [self.get_continuation_probability(word) for word in self.bigramCounts[prev_word]]\n",
        "        total_continuation_prob = sum(continuation_probs)\n",
        "        if total_continuation_prob == 0:\n",
        "            return defaultdict(float)\n",
        "        normalized_weights = {word: prob / total_continuation_prob for word, prob in zip(self.bigramCounts[prev_word], continuation_probs)}\n",
        "        return normalized_weights\n",
        "\n",
        "    def generateSentence(self):\n",
        "        sentence = [start]\n",
        "        while True:\n",
        "            prev_word = sentence[-1]\n",
        "            normalized_weights = self.get_normalized_weights(prev_word)\n",
        "            next_word = random.choices(list(normalized_weights.keys()), weights=normalized_weights.values())[0]\n",
        "            if next_word == end:\n",
        "                break\n",
        "            sentence.append(next_word)\n",
        "        return sentence\n",
        "\n",
        "    def getSentenceProbability(self, sen):\n",
        "        prob = 1.0\n",
        "        for i in range(len(sen) - 1):\n",
        "            continuation_prob = self.get_continuation_probability(sen[i])\n",
        "            interpolated_prob = (1 - continuation_prob) * self.unigramCounts[sen[i+1]] / sum(self.unigramCounts.values())\n",
        "            prob *= continuation_prob + interpolated_prob\n",
        "        return prob\n",
        "\n",
        "    def getCorpusPerplexity(self, corpus):\n",
        "        total_log_prob = 0.0\n",
        "        total_words = 0\n",
        "        for sen in corpus:\n",
        "            total_words += len(sen) - 2  # excluding <s> and </s>\n",
        "            for i in range(len(sen) - 1):\n",
        "                total_log_prob += -math.log(self.getSentenceProbability(sen))\n",
        "        perplexity = math.exp(total_log_prob / total_words)\n",
        "        return perplexity\n",
        "\n",
        "# Sample class for a unsmoothed unigram probability distribution\n",
        "class UnigramDist:\n",
        "    def __init__(self, corpus):\n",
        "        self.counts = defaultdict(float)\n",
        "        self.total = 0.0\n",
        "        self.train(corpus)\n",
        "\n",
        "    def train(self, corpus):\n",
        "        for sen in corpus:\n",
        "            for word in sen:\n",
        "                if word == start:\n",
        "                    continue\n",
        "                self.counts[word] += 1.0\n",
        "                self.total += 1.0\n",
        "\n",
        "    def prob(self, word):\n",
        "        return self.counts[word] / self.total\n",
        "\n",
        "    def draw(self):\n",
        "        rand = random.random()\n",
        "        for word in self.counts.keys():\n",
        "            rand -= self.prob(word)\n",
        "            if rand <= 0.0:\n",
        "                return word\n",
        "\n",
        "#-------------------------------------------\n",
        "# The main routine\n",
        "#-------------------------------------------\n",
        "if __name__ == \"__main__\":\n",
        "    # Read your corpora\n",
        "    trainCorpus = readFileToCorpus('train.txt')\n",
        "    trainCorpus = preprocess(trainCorpus)\n",
        "\n",
        "    posTestCorpus = readFileToCorpus('pos_test.txt')\n",
        "    negTestCorpus = readFileToCorpus('neg_test.txt')\n",
        "\n",
        "    vocab = set()\n",
        "    for sen in trainCorpus:\n",
        "        for word in sen:\n",
        "            vocab.add(word)\n",
        "\n",
        "    posTestCorpus = preprocessTest(vocab, posTestCorpus)\n",
        "    negTestCorpus = preprocessTest(vocab, negTestCorpus)\n",
        "\n",
        "    # Train and create language models\n",
        "    unigram_model = UnigramModel(trainCorpus)\n",
        "    smoothed_unigram_model = SmoothedUnigramModel(trainCorpus)\n",
        "    bigram_model = BigramModel(trainCorpus)\n",
        "    smoothed_bigram_model = SmoothedBigramModelKN(trainCorpus)\n",
        "\n",
        "    # Generating sentences and saving to files\n",
        "    unigram_model.generateSentencesToFile(20, \"unigram_output.txt\")\n",
        "    smoothed_unigram_model.generateSentencesToFile(20, \"smooth_unigram_output.txt\")\n",
        "    bigram_model.generateSentencesToFile(20, \"bigram_output.txt\")\n",
        "    smoothed_bigram_model.generateSentencesToFile(20, \"smooth_bigram_kn_output.txt\")\n",
        "\n",
        "    # Calculating probability of a word\n",
        "    test_word = \"picture\"\n",
        "    unigram_word_prob = unigram_model.unigramDist.prob(test_word)\n",
        "    print(\"Probability of word '{}' according to UnigramModel: {}\".format(test_word, unigram_word_prob))\n",
        "\n",
        "    # Generating a random word according to the unigram distribution\n",
        "    random_word = unigram_model.unigramDist.draw()\n",
        "    print(\"\\\"Random\\\" draw:\", random_word)\n",
        "\n",
        "    # Calculating perplexity for test corpora\n",
        "    unigram_perplexity_pos = unigram_model.getCorpusPerplexity(posTestCorpus)\n",
        "    unigram_perplexity_neg = unigram_model.getCorpusPerplexity(negTestCorpus)\n",
        "    smoothed_unigram_perplexity_pos = smoothed_unigram_model.getCorpusPerplexity(posTestCorpus)\n",
        "    smoothed_unigram_perplexity_neg = smoothed_unigram_model.getCorpusPerplexity(negTestCorpus)\n",
        "    bigram_perplexity_pos = bigram_model.getCorpusPerplexity(posTestCorpus)\n",
        "    bigram_perplexity_neg = bigram_model.getCorpusPerplexity(negTestCorpus)\n",
        "    smoothed_bigram_perplexity_pos = smoothed_bigram_model.getCorpusPerplexity(posTestCorpus)\n",
        "    smoothed_bigram_perplexity_neg = smoothed_bigram_model.getCorpusPerplexity(negTestCorpus)\n",
        "\n",
        "    print(\"Unigram perplexity (positive test):\", unigram_perplexity_pos)\n",
        "    print(\"Unigram perplexity (negative test):\", unigram_perplexity_neg)\n",
        "    print(\"Smoothed Unigram perplexity (positive test):\", smoothed_unigram_perplexity_pos)\n",
        "    print(\"Smoothed Unigram perplexity (negative test):\", smoothed_unigram_perplexity_neg)\n",
        "    print(\"Bigram perplexity (positive test):\", bigram_perplexity_pos)\n",
        "    print(\"Bigram perplexity (negative test):\", bigram_perplexity_neg)\n",
        "    print(\"Smoothed Bigram perplexity (positive test):\", smoothed_bigram_perplexity_pos)\n",
        "    print(\"Smoothed Bigram perplexity (negative test):\", smoothed_bigram_perplexity_neg)\n"
      ],
      "metadata": {
        "colab": {
          "base_uri": "https://localhost:8080/"
        },
        "id": "iJfq7fUvQ6et",
        "outputId": "26f6f6af-b0a5-4a12-90dc-91751fd174c1"
      },
      "execution_count": 43,
      "outputs": [
        {
          "output_type": "stream",
          "name": "stdout",
          "text": [
            "Probability of word 'picture' according to UnigramModel: 0.0003967776842611519\n",
            "\"Random\" draw: .\n",
            "Unigram perplexity (positive test): 717.0045349639429\n",
            "Unigram perplexity (negative test): 701.6870297491769\n",
            "Smoothed Unigram perplexity (positive test): 719.6789672962492\n",
            "Smoothed Unigram perplexity (negative test): 704.621269211953\n",
            "Bigram perplexity (positive test): 17311.04224650281\n",
            "Bigram perplexity (negative test): 20846.21207738288\n",
            "Smoothed Bigram perplexity (positive test): 1.9229402423672484\n",
            "Smoothed Bigram perplexity (negative test): 1.9551951531496732\n"
          ]
        }
      ]
    }
  ]
}