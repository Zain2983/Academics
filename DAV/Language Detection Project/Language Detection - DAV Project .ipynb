{
  "nbformat": 4,
  "nbformat_minor": 0,
  "metadata": {
    "colab": {
      "provenance": [],
      "collapsed_sections": [
        "p3jo9cp_Ju3K",
        "jugw8lWBJbae",
        "JOCeKegcJk4y",
        "tvjId1EvJ0s8",
        "xHlhlE8fJ8f4"
      ]
    },
    "kernelspec": {
      "name": "python3",
      "display_name": "Python 3"
    },
    "language_info": {
      "name": "python"
    }
  },
  "cells": [
    {
      "cell_type": "markdown",
      "source": [
        "**Language Detection - DAV Project**\n",
        "\n",
        "\n",
        "**Hamza Ahmed      21L-6292**\n",
        "\n",
        "**Zain Al Abidin   21L-6260**"
      ],
      "metadata": {
        "id": "pU91PhUsK4K6"
      }
    },
    {
      "cell_type": "markdown",
      "source": [
        "# Scraping"
      ],
      "metadata": {
        "id": "p3jo9cp_Ju3K"
      }
    },
    {
      "cell_type": "code",
      "source": [
        "# Data Scraping\n",
        "import requests\n",
        "from bs4 import BeautifulSoup\n",
        "import pandas as pd\n",
        "\n",
        "def scrape_wikipedia(language_code):\n",
        "    url = f\"https://{language_code}.wikipedia.org/wiki/Main_Page\"\n",
        "    headers = {\n",
        "        \"User-Agent\": \"Mozilla/5.0 (Windows NT 10.0; Win64; x64) AppleWebKit/537.36 (KHTML, like Gecko) Chrome/94.0.4606.81 Safari/537.36\"\n",
        "    }\n",
        "    try:\n",
        "        response = requests.get(url, headers=headers)\n",
        "        response.raise_for_status()\n",
        "        soup = BeautifulSoup(response.content, \"html.parser\")\n",
        "\n",
        "        articles = []\n",
        "        for heading in soup.find_all(\"p\", class_=\"\"):\n",
        "            articles.append(heading.text.strip())\n",
        "\n",
        "        # response = requests.get(url, headers=headers)\n",
        "        # response.raise_for_status()\n",
        "        # soup = BeautifulSoup(response.content, \"html.parser\")\n",
        "\n",
        "        # for heading in soup.find_all(\"span\", class_=\"mw-headline\"):\n",
        "        #     articles.append(heading.text.strip())\n",
        "\n",
        "        # response = requests.get(url, headers=headers)\n",
        "        # response.raise_for_status()\n",
        "        # soup = BeautifulSoup(response.content, \"html.parser\")\n",
        "\n",
        "        # for heading in soup.find_all(\"span\", class_=\"mw-headline\"):\n",
        "        #     articles.append(heading.text.strip())\n",
        "\n",
        "\n",
        "        return articles\n",
        "\n",
        "    except requests.HTTPError as errh:\n",
        "        print(f\"HTTP Error: {errh}\")\n",
        "    except requests.ConnectionError as errc:\n",
        "        print(f\"Error Connecting: {errc}\")\n",
        "    except requests.Timeout as errt:\n",
        "        print(f\"Timeout Error: {errt}\")\n",
        "    except requests.RequestException as err:\n",
        "        print(f\"Other Error: {err}\")\n",
        "    return []\n",
        "\n",
        "\n",
        "\n",
        "languages = {\n",
        "    \"tt\": \"Tatar\",\n",
        "    \"en\": \"English\",\n",
        "    \"it\": \"Italian\",\n",
        "    \"ca\": \"Catalan\",\n",
        "    \"pl\": \"Polish\",\n",
        "    \"ar\": \"Arabic\",\n",
        "    \"su\": \"Sundanese\",\n",
        "    \"he\": \"Hebrew\",\n",
        "    \"yo\": \"Yoruba\",\n",
        "    \"pa\": \"Punjabi\",\n",
        "}\n",
        "\n",
        "\n",
        "\n",
        "data = []\n",
        "for lang_code, lang_name in languages.items():\n",
        "    wiki_articles = scrape_wikipedia(lang_code)\n",
        "    if wiki_articles:\n",
        "        for article in wiki_articles:\n",
        "            data.append({\"Language\": lang_name, \"Text\": article})\n",
        "\n",
        "# for lang_code, lang_name in languages.items():\n",
        "#     wiki_articles = scrape_wikipedia(lang_code)\n",
        "#     if wiki_articles:\n",
        "#         for article in wiki_articles:\n",
        "#             data.append({\"Language\": lang_name, \"Text\": article})\n",
        "\n",
        "\n",
        "df = pd.DataFrame(data)\n",
        "df.dropna(inplace=True)\n",
        "df.to_csv(\"multilingual_wikipedia_dataset.csv\", index=False)\n"
      ],
      "metadata": {
        "id": "bCKBTzlhW79o"
      },
      "execution_count": 37,
      "outputs": []
    },
    {
      "cell_type": "markdown",
      "source": [
        "# Manual Entry of English // Please ignore this part"
      ],
      "metadata": {
        "id": "jugw8lWBJbae"
      }
    },
    {
      "cell_type": "code",
      "source": [
        "english_data1 = \"\"\"As we have seen in the movies that the hero is very popular in his locality so do my father because he is ready to help everyone at any time. I remember a recent incident when one of his\n",
        "colleagues and friend fall ill and needed help then my father wholeheartedly supported him and his family. My father helped them in the most critical times when they needed help. In addition, he also\n",
        "arranged for finances for them. As at that time they are not financially stable and his colleagues are the only earning member of the family. Also, he spends an hour in the hospital to complete the\n",
        "formalities and arranging the medicine. Besides, my father many of his other colleagues also contributed money and other means to help the family of ill. After the complete recovery of the colleague he\n",
        "and his family visited our home and especially thanked my father for his efforts and help. After that incident whenever I think of that incident I feel proud of him. I learned this willingness to help\n",
        "others from him. My father has other qualities too he also hard working and punctual and dedicated to his work and often work late hours. But for this, he never compromises his time with family. Besides,\n",
        "in the office and among our relatives everyone appreciates him for his hard work. \"\"\"\n",
        "\n",
        "english_data2 = \"\"\"Also, during his college and school day is was among the top performer and won many awards. In his office often announced\n",
        "as the employee of the month. Besides, there were times when I have seen him working late at hours even on holidays. He knows how to maintain his professional and personal life and that’s the thing I love\n",
        "most about him. Many of my friend’s complaint that their father does not look after them because of their work. Also, they even said that they hate their father because he often comes late and doesn’t love\n",
        "them. Besides, I am lucky that my father is different from them as he gives importance to his family first and after that work. In addition, he makes sure to come at a time and give time to us (his family).\n",
        "He is a caring husband and helps our mother in small household work to share her workload. To conclude, my father is a responsible man who clearly knows that between work and family; family comes first.\n",
        "Also, he is always ready to help others no matter what he is doing. Besides, he completely dedicated to his work but does not ignore us in the event. Above all, we stay put to him as we have learned all our\n",
        "good deeds from him.\n",
        "\"\"\""
      ],
      "metadata": {
        "id": "hy6oz9ZlCiT1"
      },
      "execution_count": 29,
      "outputs": []
    },
    {
      "cell_type": "code",
      "source": [
        "data.append({\"Language\": \"English\", \"Text\": english_data1})\n",
        "data.append({\"Language\": \"English\", \"Text\": english_data2})\n",
        "\n",
        "df = pd.DataFrame(data)"
      ],
      "metadata": {
        "id": "Km7XQs_cEAtV"
      },
      "execution_count": 65,
      "outputs": []
    },
    {
      "cell_type": "markdown",
      "source": [
        "# Pre Processing"
      ],
      "metadata": {
        "id": "JOCeKegcJk4y"
      }
    },
    {
      "cell_type": "code",
      "source": [
        "#Data Wrangling\n",
        "import pandas as pd\n",
        "import pandas as pd\n",
        "import re\n",
        "from unicodedata import normalize\n",
        "\n",
        "# aggregated_df = df.groupby('Language')['Text'].agg(lambda x: ' '.join(x)).reset_index()\n",
        "aggregated_df=pd.read_csv(\"multilingual_wikipedia_dataset.csv\")\n",
        "aggregated_df.dropna(inplace=True)\n",
        "\n",
        "aggregated_df['Text'] = aggregated_df['Text'].str.lower()\n",
        "\n",
        "aggregated_df['Text'] = aggregated_df['Text'].apply(lambda x: re.findall(r'\\b\\w+\\b', x))\n",
        "\n",
        "aggregated_df['Text'] = aggregated_df['Text'].apply(lambda x: [word for word in x if word.isalnum()])\n",
        "\n",
        "# aggregated_df['Text'] = aggregated_df['Text'].apply(lambda x: [normalize('NFKD', word).encode('ASCII', 'ignore').decode('utf-8') for word in x])\n",
        "\n",
        "print(aggregated_df)"
      ],
      "metadata": {
        "colab": {
          "base_uri": "https://localhost:8080/"
        },
        "id": "HAG_jYvv8RW4",
        "outputId": "5699b9e8-ae8c-487d-895f-c74ed135ca1d"
      },
      "execution_count": 66,
      "outputs": [
        {
          "output_type": "stream",
          "name": "stdout",
          "text": [
            "    Language                                               Text\n",
            "0      Tatar  [ирекле, эчтәлекле, энциклопедияне, һәркем, яз...\n",
            "1      Tatar  [тулы, исемлек, эчтәлек, порталлар, latin, iml...\n",
            "6      Tatar  [акшта, перл, харбор, гватемалада, дикторлар, ...\n",
            "9      Tatar  [манусмрти, санскрит, телендә, मन, स, म, त, шу...\n",
            "10     Tatar                                           [дәвамы]\n",
            "..       ...                                                ...\n",
            "331  Punjabi  [ਗ, ਆ, ਸਰਦ, ਆ, ਵ, ਚ, ਸਰਦ, ਆ, ਵ, ਚ, ਬ, ਦਲਵ, ਈ, ...\n",
            "332  Punjabi  [ਉਪ, ਸ, ਰ, ਣ, ਆ, ਦ, ਖਣ, ਲਈ, ਕ, ਰਪ, ਕਰਕ, ਤ, ਰ, ...\n",
            "343  Punjabi  [ਇਹ, ਵ, ਕ, ਪ, ਡ, ਆ, ਪ, ਜ, ਬ, ਵ, ਚ, ਲ, ਖ, ਆ, ਗ,...\n",
            "344  Punjabi  [स, स, क, त, प, ल, भ, जप, र, मर, ठ, ಕನ, ನಡ, தம...\n",
            "346  Punjabi  [ਵ, ਕ, ਪ, ਡ, ਆ, ਵ, ਲ, ਟ, ਅਰ, ਸ, ਪ, ਦਕ, ਦ, ਆਰ, ...\n",
            "\n",
            "[251 rows x 2 columns]\n"
          ]
        }
      ]
    },
    {
      "cell_type": "code",
      "source": [
        "# Data Embedding\n",
        "row_counts = df['Language'].value_counts()\n",
        "print(row_counts.head(15))"
      ],
      "metadata": {
        "colab": {
          "base_uri": "https://localhost:8080/"
        },
        "id": "QmDJpjar__m3",
        "outputId": "0587c5c1-b79f-4eca-f519-69f0f6e45ce4"
      },
      "execution_count": 67,
      "outputs": [
        {
          "output_type": "stream",
          "name": "stdout",
          "text": [
            "Tatar        79\n",
            "Italian      57\n",
            "Catalan      35\n",
            "Polish       33\n",
            "Arabic       33\n",
            "Sundanese    30\n",
            "Yoruba       27\n",
            "Punjabi      27\n",
            "Hebrew       20\n",
            "English      10\n",
            "Name: Language, dtype: int64\n"
          ]
        }
      ]
    },
    {
      "cell_type": "code",
      "source": [
        "df.Language.unique()"
      ],
      "metadata": {
        "colab": {
          "base_uri": "https://localhost:8080/"
        },
        "id": "WqcXfPi8Prd-",
        "outputId": "c3bbf1d7-d53f-4201-9abe-efd6812287cf"
      },
      "execution_count": 68,
      "outputs": [
        {
          "output_type": "execute_result",
          "data": {
            "text/plain": [
              "array(['Tatar', 'English', 'Italian', 'Catalan', 'Polish', 'Arabic',\n",
              "       'Sundanese', 'Hebrew', 'Yoruba', 'Punjabi'], dtype=object)"
            ]
          },
          "metadata": {},
          "execution_count": 68
        }
      ]
    },
    {
      "cell_type": "code",
      "source": [
        "from gensim.models import Word2Vec\n",
        "import pandas as pd\n",
        "import numpy as np\n",
        "\n",
        "\n",
        "word2vec_model = Word2Vec(aggregated_df['Text'], vector_size=100, window=5, min_count=1, workers=4)\n",
        "\n",
        "def average_word_embedding(sentence):\n",
        "    embeddings = [word2vec_model.wv[word] for word in sentence if word in word2vec_model.wv]\n",
        "    if embeddings:\n",
        "        return np.mean(embeddings, axis=0)\n",
        "    else:\n",
        "        return np.zeros(word2vec_model.vector_size)\n",
        "\n",
        "aggregated_df['Word_Embedding'] = aggregated_df['Text'].apply(lambda x: average_word_embedding(x))\n",
        "\n",
        "df.to_csv(\"dataset.csv\", index=False)\n"
      ],
      "metadata": {
        "id": "3II3nxJQAXvL"
      },
      "execution_count": 42,
      "outputs": []
    },
    {
      "cell_type": "code",
      "source": [
        "print(aggregated_df)"
      ],
      "metadata": {
        "colab": {
          "base_uri": "https://localhost:8080/"
        },
        "id": "n_nquTBcAXrE",
        "outputId": "d4225502-1a95-4a7c-9cff-4c460b0a4983"
      },
      "execution_count": 43,
      "outputs": [
        {
          "output_type": "stream",
          "name": "stdout",
          "text": [
            "    Language                                               Text  \\\n",
            "0      Tatar  [ирекле, эчтәлекле, энциклопедияне, һәркем, яз...   \n",
            "1      Tatar  [тулы, исемлек, эчтәлек, порталлар, latin, iml...   \n",
            "6      Tatar  [акшта, перл, харбор, гватемалада, дикторлар, ...   \n",
            "9      Tatar  [манусмрти, санскрит, телендә, मन, स, म, त, шу...   \n",
            "10     Tatar                                           [дәвамы]   \n",
            "..       ...                                                ...   \n",
            "331  Punjabi  [ਗ, ਆ, ਸਰਦ, ਆ, ਵ, ਚ, ਸਰਦ, ਆ, ਵ, ਚ, ਬ, ਦਲਵ, ਈ, ...   \n",
            "332  Punjabi  [ਉਪ, ਸ, ਰ, ਣ, ਆ, ਦ, ਖਣ, ਲਈ, ਕ, ਰਪ, ਕਰਕ, ਤ, ਰ, ...   \n",
            "343  Punjabi  [ਇਹ, ਵ, ਕ, ਪ, ਡ, ਆ, ਪ, ਜ, ਬ, ਵ, ਚ, ਲ, ਖ, ਆ, ਗ,...   \n",
            "344  Punjabi  [स, स, क, त, प, ल, भ, जप, र, मर, ठ, ಕನ, ನಡ, தம...   \n",
            "346  Punjabi  [ਵ, ਕ, ਪ, ਡ, ਆ, ਵ, ਲ, ਟ, ਅਰ, ਸ, ਪ, ਦਕ, ਦ, ਆਰ, ...   \n",
            "\n",
            "                                        Word_Embedding  \n",
            "0    [-0.001163327, 0.0017797934, 0.0009592285, 0.0...  \n",
            "1    [-0.00060527737, -7.4587915e-05, 0.0037527678,...  \n",
            "6    [0.0001771557, -0.00091892615, 0.00014781863, ...  \n",
            "9    [-0.0006578443, -0.00045490635, -0.00044638605...  \n",
            "10   [0.0059277928, -0.00941875, 0.00014994382, 0.0...  \n",
            "..                                                 ...  \n",
            "331  [-0.004139906, 0.000375198, 0.0034141026, -0.0...  \n",
            "332  [-0.000812111, -0.0015923872, 0.004886022, -0....  \n",
            "343  [-0.0027695175, -0.00017250041, 0.003283337, 0...  \n",
            "344  [-2.512762e-05, 0.0005242575, 0.00016247726, 0...  \n",
            "346  [-0.0021566683, 0.0009187356, 0.0037740245, -0...  \n",
            "\n",
            "[251 rows x 3 columns]\n"
          ]
        }
      ]
    },
    {
      "cell_type": "markdown",
      "source": [
        "# Model Training"
      ],
      "metadata": {
        "id": "tvjId1EvJ0s8"
      }
    },
    {
      "cell_type": "code",
      "source": [
        "import numpy as np\n",
        "from sklearn.preprocessing import LabelEncoder\n",
        "from tensorflow.keras.models import Sequential\n",
        "from tensorflow.keras.layers import Embedding, LSTM, GlobalMaxPooling1D, Dense, Bidirectional, Dropout\n",
        "from tensorflow.keras.preprocessing.text import Tokenizer\n",
        "from tensorflow.keras.preprocessing.sequence import pad_sequences\n",
        "from sklearn.model_selection import train_test_split\n",
        "\n",
        "# Assuming 'aggregated_df' is your dataset DataFrame\n",
        "# Assuming 'text' contains the text data for each sample\n",
        "# Assuming 'Language' is the target variable\n",
        "\n",
        "# Tokenize the text and pad sequences\n",
        "max_length = 100\n",
        "tokenizer = Tokenizer()\n",
        "tokenizer.fit_on_texts(aggregated_df['Text'])\n",
        "vocab_size = len(tokenizer.word_index) + 1\n",
        "X = pad_sequences(tokenizer.texts_to_sequences(aggregated_df['Text']), maxlen=max_length, padding='post')\n",
        "# X = np.vstack(aggregated_df['Word_Embedding'])  # Assuming 'Word_Embedding' contains numpy arrays\n",
        "# Encode the target variable\n",
        "label_encoder = LabelEncoder()\n",
        "y = label_encoder.fit_transform(aggregated_df['Language'])\n",
        "\n",
        "# Split the data into training and test sets\n",
        "X_train, X_test, y_train, y_test = train_test_split(X, y, test_size=0.1, random_state=42)\n",
        "\n",
        "# Define and compile the model\n",
        "embedding_dim = 100\n",
        "model = Sequential([\n",
        "    Embedding(input_dim=vocab_size, output_dim=embedding_dim, input_length=max_length, trainable=True),\n",
        "    Bidirectional(LSTM(128, return_sequences=True)),\n",
        "    GlobalMaxPooling1D(),\n",
        "    Dense(64, activation='relu'),\n",
        "    Dropout(0.5),\n",
        "\n",
        "    Dense(len(label_encoder.classes_), activation='softmax')\n",
        "])\n",
        "\n",
        "model.compile(optimizer='adam', loss='sparse_categorical_crossentropy', metrics=['accuracy'])\n",
        "\n",
        "# Train the model\n",
        "history = model.fit(X_train, y_train, epochs=30, batch_size=32, validation_data=(X_test, y_test))\n",
        "\n",
        "# Evaluate the model on test data\n",
        "test_loss, test_accuracy = model.evaluate(X_test, y_test)\n",
        "\n",
        "print(\"Test Accuracy:\", test_accuracy)"
      ],
      "metadata": {
        "colab": {
          "base_uri": "https://localhost:8080/"
        },
        "id": "MV9qhgl9ZBCQ",
        "outputId": "7a5a0b4e-2af0-4ddd-879e-e5a336ed9eeb"
      },
      "execution_count": 70,
      "outputs": [
        {
          "output_type": "stream",
          "name": "stdout",
          "text": [
            "Epoch 1/30\n",
            "8/8 [==============================] - 9s 468ms/step - loss: 2.2900 - accuracy: 0.1600 - val_loss: 2.2620 - val_accuracy: 0.1923\n",
            "Epoch 2/30\n",
            "8/8 [==============================] - 2s 281ms/step - loss: 2.2430 - accuracy: 0.1378 - val_loss: 2.2327 - val_accuracy: 0.1923\n",
            "Epoch 3/30\n",
            "8/8 [==============================] - 2s 275ms/step - loss: 2.2322 - accuracy: 0.1911 - val_loss: 2.2272 - val_accuracy: 0.1923\n",
            "Epoch 4/30\n",
            "8/8 [==============================] - 3s 405ms/step - loss: 2.2203 - accuracy: 0.1689 - val_loss: 2.2074 - val_accuracy: 0.1923\n",
            "Epoch 5/30\n",
            "8/8 [==============================] - 4s 428ms/step - loss: 2.1764 - accuracy: 0.1911 - val_loss: 2.1836 - val_accuracy: 0.1923\n",
            "Epoch 6/30\n",
            "8/8 [==============================] - 2s 270ms/step - loss: 2.1962 - accuracy: 0.2044 - val_loss: 2.1434 - val_accuracy: 0.2308\n",
            "Epoch 7/30\n",
            "8/8 [==============================] - 2s 284ms/step - loss: 2.1213 - accuracy: 0.2044 - val_loss: 2.0507 - val_accuracy: 0.2692\n",
            "Epoch 8/30\n",
            "8/8 [==============================] - 2s 287ms/step - loss: 2.0287 - accuracy: 0.2311 - val_loss: 2.0199 - val_accuracy: 0.2692\n",
            "Epoch 9/30\n",
            "8/8 [==============================] - 2s 289ms/step - loss: 2.0041 - accuracy: 0.2756 - val_loss: 2.0708 - val_accuracy: 0.2692\n",
            "Epoch 10/30\n",
            "8/8 [==============================] - 4s 546ms/step - loss: 1.9490 - accuracy: 0.3067 - val_loss: 1.9446 - val_accuracy: 0.3077\n",
            "Epoch 11/30\n",
            "8/8 [==============================] - 3s 287ms/step - loss: 1.8461 - accuracy: 0.3022 - val_loss: 1.8743 - val_accuracy: 0.2692\n",
            "Epoch 12/30\n",
            "8/8 [==============================] - 2s 287ms/step - loss: 1.6801 - accuracy: 0.4311 - val_loss: 1.7462 - val_accuracy: 0.4231\n",
            "Epoch 13/30\n",
            "8/8 [==============================] - 2s 289ms/step - loss: 1.5541 - accuracy: 0.5333 - val_loss: 1.9411 - val_accuracy: 0.3077\n",
            "Epoch 14/30\n",
            "8/8 [==============================] - 2s 275ms/step - loss: 1.4540 - accuracy: 0.5733 - val_loss: 1.5395 - val_accuracy: 0.8077\n",
            "Epoch 15/30\n",
            "8/8 [==============================] - 3s 379ms/step - loss: 1.2325 - accuracy: 0.6889 - val_loss: 1.3897 - val_accuracy: 0.8077\n",
            "Epoch 16/30\n",
            "8/8 [==============================] - 4s 477ms/step - loss: 1.0373 - accuracy: 0.6978 - val_loss: 1.2365 - val_accuracy: 0.7692\n",
            "Epoch 17/30\n",
            "8/8 [==============================] - 2s 289ms/step - loss: 0.9837 - accuracy: 0.6978 - val_loss: 1.1409 - val_accuracy: 0.6538\n",
            "Epoch 18/30\n",
            "8/8 [==============================] - 2s 276ms/step - loss: 0.8279 - accuracy: 0.7600 - val_loss: 1.0152 - val_accuracy: 0.7308\n",
            "Epoch 19/30\n",
            "8/8 [==============================] - 2s 280ms/step - loss: 0.6542 - accuracy: 0.8044 - val_loss: 1.0009 - val_accuracy: 0.7692\n",
            "Epoch 20/30\n",
            "8/8 [==============================] - 2s 288ms/step - loss: 0.5672 - accuracy: 0.8400 - val_loss: 0.9282 - val_accuracy: 0.8077\n",
            "Epoch 21/30\n",
            "8/8 [==============================] - 4s 542ms/step - loss: 0.5098 - accuracy: 0.8489 - val_loss: 0.7630 - val_accuracy: 0.8846\n",
            "Epoch 22/30\n",
            "8/8 [==============================] - 3s 330ms/step - loss: 0.4499 - accuracy: 0.8578 - val_loss: 0.6834 - val_accuracy: 0.8462\n",
            "Epoch 23/30\n",
            "8/8 [==============================] - 2s 290ms/step - loss: 0.3833 - accuracy: 0.9022 - val_loss: 0.6108 - val_accuracy: 0.8846\n",
            "Epoch 24/30\n",
            "8/8 [==============================] - 2s 286ms/step - loss: 0.3014 - accuracy: 0.9378 - val_loss: 0.6827 - val_accuracy: 0.8846\n",
            "Epoch 25/30\n",
            "8/8 [==============================] - 2s 283ms/step - loss: 0.2980 - accuracy: 0.9333 - val_loss: 0.5888 - val_accuracy: 0.8846\n",
            "Epoch 26/30\n",
            "8/8 [==============================] - 3s 388ms/step - loss: 0.2299 - accuracy: 0.9467 - val_loss: 0.5994 - val_accuracy: 0.8846\n",
            "Epoch 27/30\n",
            "8/8 [==============================] - 4s 471ms/step - loss: 0.2272 - accuracy: 0.9556 - val_loss: 0.5323 - val_accuracy: 0.8846\n",
            "Epoch 28/30\n",
            "8/8 [==============================] - 2s 284ms/step - loss: 0.1890 - accuracy: 0.9422 - val_loss: 0.5330 - val_accuracy: 0.8462\n",
            "Epoch 29/30\n",
            "8/8 [==============================] - 2s 281ms/step - loss: 0.1817 - accuracy: 0.9511 - val_loss: 0.5748 - val_accuracy: 0.8846\n",
            "Epoch 30/30\n",
            "8/8 [==============================] - 2s 284ms/step - loss: 0.1369 - accuracy: 0.9644 - val_loss: 0.6012 - val_accuracy: 0.8846\n",
            "1/1 [==============================] - 0s 93ms/step - loss: 0.6012 - accuracy: 0.8846\n",
            "Test Accuracy: 0.8846153616905212\n"
          ]
        }
      ]
    },
    {
      "cell_type": "code",
      "source": [
        "print(aggregated_df)"
      ],
      "metadata": {
        "colab": {
          "base_uri": "https://localhost:8080/"
        },
        "id": "qRQM6FNpckut",
        "outputId": "f3c0b926-8ad1-4506-df11-2846b12d9bca"
      },
      "execution_count": 71,
      "outputs": [
        {
          "output_type": "stream",
          "name": "stdout",
          "text": [
            "    Language                                               Text\n",
            "0      Tatar  [ирекле, эчтәлекле, энциклопедияне, һәркем, яз...\n",
            "1      Tatar  [тулы, исемлек, эчтәлек, порталлар, latin, iml...\n",
            "6      Tatar  [акшта, перл, харбор, гватемалада, дикторлар, ...\n",
            "9      Tatar  [манусмрти, санскрит, телендә, मन, स, म, त, шу...\n",
            "10     Tatar                                           [дәвамы]\n",
            "..       ...                                                ...\n",
            "331  Punjabi  [ਗ, ਆ, ਸਰਦ, ਆ, ਵ, ਚ, ਸਰਦ, ਆ, ਵ, ਚ, ਬ, ਦਲਵ, ਈ, ...\n",
            "332  Punjabi  [ਉਪ, ਸ, ਰ, ਣ, ਆ, ਦ, ਖਣ, ਲਈ, ਕ, ਰਪ, ਕਰਕ, ਤ, ਰ, ...\n",
            "343  Punjabi  [ਇਹ, ਵ, ਕ, ਪ, ਡ, ਆ, ਪ, ਜ, ਬ, ਵ, ਚ, ਲ, ਖ, ਆ, ਗ,...\n",
            "344  Punjabi  [स, स, क, त, प, ल, भ, जप, र, मर, ठ, ಕನ, ನಡ, தம...\n",
            "346  Punjabi  [ਵ, ਕ, ਪ, ਡ, ਆ, ਵ, ਲ, ਟ, ਅਰ, ਸ, ਪ, ਦਕ, ਦ, ਆਰ, ...\n",
            "\n",
            "[251 rows x 2 columns]\n"
          ]
        }
      ]
    },
    {
      "cell_type": "code",
      "source": [
        "#Generate predictions on test data\n",
        "from sklearn.metrics import classification_report\n",
        "\n",
        "y_pred = model.predict(X_test)\n",
        "y_pred_classes = np.argmax(y_pred, axis=1)  # Get the predicted classes\n",
        "\n",
        "# Convert encoded labels back to original labelsma\n",
        "y_test_original = label_encoder.inverse_transform(y_test)\n",
        "y_pred_original = label_encoder.inverse_transform(y_pred_classes)\n",
        "\n",
        "# Generate classification report\n",
        "print(classification_report(y_test_original, y_pred_original))"
      ],
      "metadata": {
        "colab": {
          "base_uri": "https://localhost:8080/"
        },
        "id": "VhOqDhhkdyUq",
        "outputId": "3a154e4b-b767-4d6f-e41a-0c742b26b689"
      },
      "execution_count": 72,
      "outputs": [
        {
          "output_type": "stream",
          "name": "stdout",
          "text": [
            "1/1 [==============================] - 1s 836ms/step\n",
            "              precision    recall  f1-score   support\n",
            "\n",
            "      Arabic       1.00      1.00      1.00         3\n",
            "     English       0.00      0.00      0.00         1\n",
            "      Hebrew       1.00      1.00      1.00         1\n",
            "     Italian       0.75      1.00      0.86         3\n",
            "      Polish       0.75      0.75      0.75         4\n",
            "     Punjabi       0.67      1.00      0.80         2\n",
            "   Sundanese       1.00      1.00      1.00         4\n",
            "       Tatar       1.00      0.80      0.89         5\n",
            "      Yoruba       1.00      1.00      1.00         3\n",
            "\n",
            "    accuracy                           0.88        26\n",
            "   macro avg       0.80      0.84      0.81        26\n",
            "weighted avg       0.87      0.88      0.87        26\n",
            "\n"
          ]
        },
        {
          "output_type": "stream",
          "name": "stderr",
          "text": [
            "/usr/local/lib/python3.10/dist-packages/sklearn/metrics/_classification.py:1344: UndefinedMetricWarning: Precision and F-score are ill-defined and being set to 0.0 in labels with no predicted samples. Use `zero_division` parameter to control this behavior.\n",
            "  _warn_prf(average, modifier, msg_start, len(result))\n",
            "/usr/local/lib/python3.10/dist-packages/sklearn/metrics/_classification.py:1344: UndefinedMetricWarning: Precision and F-score are ill-defined and being set to 0.0 in labels with no predicted samples. Use `zero_division` parameter to control this behavior.\n",
            "  _warn_prf(average, modifier, msg_start, len(result))\n",
            "/usr/local/lib/python3.10/dist-packages/sklearn/metrics/_classification.py:1344: UndefinedMetricWarning: Precision and F-score are ill-defined and being set to 0.0 in labels with no predicted samples. Use `zero_division` parameter to control this behavior.\n",
            "  _warn_prf(average, modifier, msg_start, len(result))\n"
          ]
        }
      ]
    },
    {
      "cell_type": "markdown",
      "source": [
        "# Testing"
      ],
      "metadata": {
        "id": "xHlhlE8fJ8f4"
      }
    },
    {
      "cell_type": "code",
      "source": [
        "import numpy as np\n",
        "from tensorflow.keras.preprocessing.sequence import pad_sequences"
      ],
      "metadata": {
        "id": "vTPV9CQzxx43"
      },
      "execution_count": 73,
      "outputs": []
    },
    {
      "cell_type": "code",
      "source": [
        "# Assuming 'text_to_predict' is the text you want to predict the language for\n",
        "text_to_predict = \"i feel\""
      ],
      "metadata": {
        "id": "9LSRnljgHIII"
      },
      "execution_count": 74,
      "outputs": []
    },
    {
      "cell_type": "code",
      "source": [
        "# Preprocess the text\n",
        "sequence = tokenizer.texts_to_sequences([text_to_predict])\n",
        "padded_sequence = pad_sequences(sequence, maxlen=max_length, padding='post')\n",
        "\n",
        "# Make predictions\n",
        "predictions = model.predict(padded_sequence)\n",
        "predicted_language_index = np.argmax(predictions)\n",
        "predicted_language = label_encoder.classes_[predicted_language_index]\n",
        "\n",
        "# Print the predicted language\n",
        "print(\"Predicted Language:\", predicted_language)"
      ],
      "metadata": {
        "colab": {
          "base_uri": "https://localhost:8080/"
        },
        "id": "4LAnSzRfHGjv",
        "outputId": "bfc2aa8a-356d-4fab-bd25-a46078fc30b8"
      },
      "execution_count": 75,
      "outputs": [
        {
          "output_type": "stream",
          "name": "stdout",
          "text": [
            "1/1 [==============================] - 0s 74ms/step\n",
            "Predicted Language: Polish\n"
          ]
        }
      ]
    }
  ]
}